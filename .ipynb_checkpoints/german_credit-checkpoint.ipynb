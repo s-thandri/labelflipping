{
 "cells": [
  {
   "cell_type": "markdown",
   "metadata": {
    "colab_type": "text",
    "id": "view-in-github"
   },
   "source": [
    "<a href=\"https://colab.research.google.com/github/s-thandri/labelflipping/blob/main/german_credit.ipynb\" target=\"_parent\"><img src=\"https://colab.research.google.com/assets/colab-badge.svg\" alt=\"Open In Colab\"/></a>"
   ]
  },
  {
   "cell_type": "code",
   "execution_count": 39,
   "metadata": {
    "id": "noKi2GgHAhpA"
   },
   "outputs": [],
   "source": [
    "#Imports some of the libraries that we will be using\n",
    "import pandas as pd\n",
    "import numpy as np\n",
    "import warnings\n",
    "from sklearn.linear_model import LogisticRegression\n",
    "from sklearn.model_selection import cross_val_score, train_test_split\n",
    "from sklearn import metrics\n",
    "from sklearn.tree import DecisionTreeClassifier\n",
    "from sklearn import tree\n",
    "from sklearn.metrics import accuracy_score\n",
    "import matplotlib.pyplot as plt\n",
    "warnings.filterwarnings('ignore')\n"
   ]
  },
  {
   "cell_type": "code",
   "execution_count": 40,
   "metadata": {
    "id": "2h-DaeakAhpC"
   },
   "outputs": [],
   "source": [
    "#This function is being used to calculate the statistical parity of the data set\n",
    "#test_data: The original data frame containing the test data\n",
    "#predictors: List of the all the column names AKA IV's\n",
    "#prediction_df: Contains the predicitons made by the DT model\n",
    "#sensitive_attr: Name of the sensitive attr\n",
    "#sensitive_attr_cutoff: Cut off value for sensitive attr\n",
    "#concat_col: Name of column I am creating new dataframe on\n",
    "def s_parity(test_data, predictors, prediction_df, sensitive_attr, sensitive_attr_cutoff, concat_col):\n",
    "    #Creating a new DF that contains all the datapoints from the test data and the predictions made from LR model\n",
    "    #Concat_col: credit_risk_12\n",
    "    test_demo_df = pd.DataFrame(test_data, columns = predictors)\n",
    "    predicted_df = pd.DataFrame(prediction_df, columns = [concat_col])\n",
    "    concat_df = pd.concat([test_demo_df,predicted_df], axis=1)\n",
    "\n",
    "    #Get the two groups of people totals\n",
    "    total_unpriv = (len(concat_df[concat_df[sensitive_attr]<sensitive_attr_cutoff]))\n",
    "    total_priv = (len(concat_df[concat_df[sensitive_attr]>=sensitive_attr_cutoff]))\n",
    "\n",
    "    #Number of people accepted\n",
    "    total_credit_unpriv = len(concat_df[(concat_df[concat_col] == 1) & (concat_df[sensitive_attr] < sensitive_attr_cutoff)])\n",
    "    total_credit_priv = len(concat_df[(concat_df[concat_col] == 1) & (concat_df[sensitive_attr] >= sensitive_attr_cutoff)])\n",
    "\n",
    "    #Percentage of approved people\n",
    "    p_unpriv = total_credit_unpriv/total_unpriv\n",
    "    p_priv = total_credit_priv/total_priv\n",
    "\n",
    "\n",
    "    #Calculate the parity\n",
    "    parity = p_priv - p_unpriv\n",
    "\n",
    "\n",
    "    return parity"
   ]
  },
  {
   "cell_type": "code",
   "execution_count": 41,
   "metadata": {
    "id": "TYdbROUnAhpC"
   },
   "outputs": [],
   "source": [
    "#Make changes to make more efficient\n",
    "#Function used to run the DT model\n",
    "#train_dataset: Training dataset to train the model\n",
    "#independent_var: Column names\n",
    "#dependent_var: Prediction column name\n",
    "#concat_col: Name of column creating new DF on\n",
    "def decision_tree(train_dataset, independent_var, dependent_var, concat_col):\n",
    "        #Split the data up into train and test values and then run the DT model\n",
    "        #These steps aren't neccessary to consistenly do over and over again\n",
    "        x = train_dataset[independent_var].values\n",
    "        y = train_dataset[dependent_var].values\n",
    "        x_train, x_test, y_train, y_test = train_test_split(x, y, test_size=0.2,random_state=622)\n",
    "        clf = DecisionTreeClassifier(criterion = 'entropy',max_depth = 3, min_samples_leaf=5)\n",
    "        log = clf.fit(x_train,y_train)\n",
    "        prediction = log.predict(x_test)\n",
    "\n",
    "        #Printing the Overall accuracy of the model after one run\n",
    "        #F1_Score=metrics.f1_score(y_test, prediction, average='weighted')\n",
    "        #file.write(f'\\nAccuracy of the model on Testing Sample Data: {F1_Score}')\n",
    "\n",
    "        #Prints out the average across all ten run throughs\n",
    "        #Accuracy_Values=cross_val_score(log, x , y, cv=10, scoring='f1_weighted')\n",
    "\n",
    "        accuracy = accuracy_score(y_test,prediction)*100\n",
    "\n",
    "        #After running the model I return a df with the datapoints and the labels\n",
    "        test_demo_df = pd.DataFrame(x_test, columns = independent_var)\n",
    "        #Concat_col: credit_risk_12\n",
    "        predicted_df = pd.DataFrame(prediction, columns = [concat_col])\n",
    "\n",
    "        return accuracy, test_demo_df, predicted_df"
   ]
  },
  {
   "cell_type": "code",
   "execution_count": 42,
   "metadata": {
    "id": "5il6doHcAhpD"
   },
   "outputs": [],
   "source": [
    "#Defining the columns and creating the Dataframe with all 1000 datapoints\n",
    "columns = [\"checking_account_status\", \"duration\", \"credit_history\", \"purpose\", \"credit_amount\", \"savings_account_status\", \"employment_status\", \"installment_rate\", \"personal_status\", \"other_debtors\", \"residence_since\", \"property\", \"age\", \"other_installment_plans\", \"housing\", \"existing_credits\", \"job\", \"num_dependents\", \"telephone\", \"foreign_worker\", \"credit_risk\"]\n",
    "german_df = pd.read_table('german.data', header = None, delim_whitespace=True, names = columns)"
   ]
  },
  {
   "cell_type": "code",
   "execution_count": 43,
   "metadata": {
    "colab": {
     "base_uri": "https://localhost:8080/"
    },
    "id": "U3VA_p_X7ni3",
    "outputId": "3ff5d30d-c976-4a1b-c783-80b2813f0750"
   },
   "outputs": [
    {
     "name": "stdout",
     "output_type": "stream",
     "text": [
      "Most common value in checking_account_status: A14, Count: 394\n",
      "Most common value in duration: 24, Count: 184\n",
      "Most common value in credit_history: A32, Count: 530\n",
      "Most common value in purpose: A43, Count: 280\n",
      "Most common value in credit_amount: 1478, Count: 3\n",
      "Most common value in savings_account_status: A61, Count: 603\n",
      "Most common value in employment_status: A73, Count: 339\n",
      "Most common value in installment_rate: 4, Count: 476\n",
      "Most common value in personal_status: A93, Count: 548\n",
      "Most common value in other_debtors: A101, Count: 907\n",
      "Most common value in residence_since: 4, Count: 413\n",
      "Most common value in property: A123, Count: 332\n",
      "Most common value in age: 27, Count: 51\n",
      "Most common value in other_installment_plans: A143, Count: 814\n",
      "Most common value in housing: A152, Count: 713\n",
      "Most common value in existing_credits: 1, Count: 633\n",
      "Most common value in job: A173, Count: 630\n",
      "Most common value in num_dependents: 1, Count: 845\n",
      "Most common value in telephone: A191, Count: 596\n",
      "Most common value in foreign_worker: A201, Count: 963\n",
      "Most common value in credit_risk: 1, Count: 700\n"
     ]
    }
   ],
   "source": [
    "for column in german_df.columns:\n",
    "    most_common = german_df[column].value_counts().idxmax()\n",
    "    count = german_df[column].value_counts().max()\n",
    "    print(f'Most common value in {column}: {most_common}, Count: {count}')"
   ]
  },
  {
   "cell_type": "code",
   "execution_count": 44,
   "metadata": {
    "id": "qxsYyt3jAhpD"
   },
   "outputs": [],
   "source": [
    "#Encode all the non-numeric columns with dummies\n",
    "encoded_data=pd.get_dummies(german_df,columns=['checking_account_status','credit_history','savings_account_status','employment_status','personal_status','other_debtors','property','other_installment_plans','housing','job','telephone','foreign_worker','purpose'], drop_first=True)"
   ]
  },
  {
   "cell_type": "code",
   "execution_count": 45,
   "metadata": {
    "id": "-V-4PQhuAhpE"
   },
   "outputs": [],
   "source": [
    "#Initialize all the different columns including predictors and target variable\n",
    "encoded_data.columns\n",
    "target_var = 'credit_risk'\n",
    "predictors = ['duration', 'credit_amount', 'installment_rate',\n",
    "       'residence_since', 'age', 'existing_credits', 'num_dependents',\n",
    "       'checking_account_status_A12',\n",
    "       'checking_account_status_A13', 'checking_account_status_A14',\n",
    "       'credit_history_A31', 'credit_history_A32', 'credit_history_A33',\n",
    "       'credit_history_A34', 'savings_account_status_A62',\n",
    "       'savings_account_status_A63', 'savings_account_status_A64',\n",
    "       'savings_account_status_A65', 'employment_status_A72',\n",
    "       'employment_status_A73', 'employment_status_A74',\n",
    "       'employment_status_A75', 'personal_status_A92', 'personal_status_A93',\n",
    "       'personal_status_A94', 'other_debtors_A102', 'other_debtors_A103',\n",
    "       'property_A122', 'property_A123', 'property_A124',\n",
    "       'other_installment_plans_A142', 'other_installment_plans_A143',\n",
    "       'housing_A152', 'housing_A153', 'job_A172', 'job_A173', 'job_A174',\n",
    "       'telephone_A192', 'foreign_worker_A202']\n"
   ]
  },
  {
   "cell_type": "code",
   "execution_count": 46,
   "metadata": {
    "id": "GOPHWlqXAhpE"
   },
   "outputs": [],
   "source": [
    "#Setting the columns to each part of the decision tree\n",
    "#x conatins the IV's\n",
    "#y contains the DV\n",
    "x = encoded_data[predictors].values\n",
    "y = encoded_data[target_var].values"
   ]
  },
  {
   "cell_type": "code",
   "execution_count": 47,
   "metadata": {
    "id": "1SYaCIjPAhpE"
   },
   "outputs": [],
   "source": [
    "x_train, x_test, y_train, y_test = train_test_split(x, y, test_size=0.2, random_state=622)\n",
    "#X-train is all the data points for training\n",
    "#y_train contains the labels for each of the training data points\n",
    "#x_test contains all the testing data points\n",
    "#y_test contains the ground truth for each of the test data points"
   ]
  },
  {
   "cell_type": "code",
   "execution_count": 48,
   "metadata": {
    "id": "Kej5WopvAhpF"
   },
   "outputs": [],
   "source": [
    "#Run the DT classifier\n",
    "clf = DecisionTreeClassifier(criterion = 'entropy', max_depth = 3, min_samples_leaf=5)\n",
    "dt = clf.fit(x_train,y_train)\n",
    "prediction = dt.predict(x_test)"
   ]
  },
  {
   "cell_type": "code",
   "execution_count": 49,
   "metadata": {
    "colab": {
     "base_uri": "https://localhost:8080/"
    },
    "id": "A-y2m6mvAhpF",
    "outputId": "285c258a-6c90-49e8-b2c8-88b6e8d90299"
   },
   "outputs": [
    {
     "data": {
      "text/plain": [
       "array([1, 2], dtype=int64)"
      ]
     },
     "execution_count": 49,
     "metadata": {},
     "output_type": "execute_result"
    }
   ],
   "source": [
    "# 1 is good and 2 is bad\n",
    "dt.classes_"
   ]
  },
  {
   "cell_type": "code",
   "execution_count": 50,
   "metadata": {
    "colab": {
     "base_uri": "https://localhost:8080/"
    },
    "id": "vwanW_t5AhpF",
    "outputId": "83ad6f5e-4f87-4051-de89-894f3481ff2f"
   },
   "outputs": [
    {
     "name": "stdout",
     "output_type": "stream",
     "text": [
      "Statistical Parity: -0.00717\n"
     ]
    }
   ],
   "source": [
    "#Break the test dataframe into different groups\n",
    "#Unprotected group is everyone <45\n",
    "#Complement group is everyone >= 45\n",
    "test_demo_df = pd.DataFrame(x_test, columns = predictors)\n",
    "predicted_df = pd.DataFrame(prediction, columns = ['credit_risk_12'])\n",
    "concat_df = pd.concat([test_demo_df,predicted_df], axis=1)\n",
    "\n",
    "#Get the two groups of people totals\n",
    "total_unpriv = (len(concat_df[concat_df['age']<45]))\n",
    "total_priv = (len(concat_df[concat_df['age']>=45]))\n",
    "\n",
    "#Number of people accepted\n",
    "total_credit_unpriv = len(concat_df[(concat_df['credit_risk_12'] == 1) & (concat_df['age'] < 45)])\n",
    "total_credit_priv = len(concat_df[(concat_df['credit_risk_12'] == 1) & (concat_df['age'] >= 45)])\n",
    "\n",
    "#Percentage of approved people\n",
    "p_unpriv = total_credit_unpriv/total_unpriv\n",
    "p_priv = total_credit_priv/total_priv\n",
    "\n",
    "statistical_parity = p_priv - p_unpriv\n",
    "print(f'Statistical Parity: {statistical_parity:.5f}')\n"
   ]
  },
  {
   "cell_type": "code",
   "execution_count": 51,
   "metadata": {
    "colab": {
     "base_uri": "https://localhost:8080/"
    },
    "id": "Meo7ANpWIMrK",
    "outputId": "eecf5993-60c1-4163-d82d-fdeb49ad7c3b"
   },
   "outputs": [
    {
     "name": "stdout",
     "output_type": "stream",
     "text": [
      "161\n",
      "39\n"
     ]
    }
   ],
   "source": [
    "print(total_unpriv)\n",
    "print(total_priv)"
   ]
  },
  {
   "cell_type": "code",
   "execution_count": 52,
   "metadata": {
    "id": "nafRxlfyAhpG"
   },
   "outputs": [],
   "source": [
    "#Combine x_train and y_train\n",
    "#I combine these so that when I flip the labels I have one DF that I work with\n",
    "#Rather than 2 numpy.ndarrays\n",
    "train_demo_df = pd.DataFrame(x_train, columns = predictors)\n",
    "train_outcome_df = pd.DataFrame(y_train, columns = ['credit_risk'])\n",
    "train_full_df = pd.concat([train_demo_df, train_outcome_df], axis=1)\n",
    "\n"
   ]
  },
  {
   "cell_type": "code",
   "execution_count": 53,
   "metadata": {
    "id": "DEmQ_bVkAhpG"
   },
   "outputs": [],
   "source": [
    "#When flipping the label make sure convert the flip before into its original value\n",
    "\n",
    "#Combine x_train and y_train\n",
    "#Retrain the model after combining them and then flip and calculate\n",
    "#Implement label flipping and recalculate\n",
    "\n",
    "#Each list holds a different value\n",
    "\n",
    "#list_parity holds each parity value after each flip and recalculation\n",
    "list_parity = []\n",
    "#list_acc holds the accuracy of each iteration after a flip\n",
    "list_acc = []\n",
    "#list_flip holds the row number of the flip; starts at 0 and goes through the whole\n",
    "list_flip = []\n",
    "\n",
    "#Iterating through the training dataset\n",
    "for index, row in train_full_df.iterrows():\n",
    "  #If the row that I am on has the label 1 (credit_risk is the label name) then I will flip it\n",
    "  #And then run the decision_tree function to get the accuracy, the DF that contains datapoints,\n",
    "  #And the DF that contains the predictions\n",
    "  #The two DF's are then combined in the s_parity function to calculate parity\n",
    "    if row['credit_risk'] == 1:\n",
    "      #Flip the label\n",
    "        train_full_df.at[index, 'credit_risk'] = 2\n",
    "\n",
    "        #Run the decision tree function\n",
    "        #train_full_df: training dataset\n",
    "        #predictors: IV's\n",
    "        #target_var: DV's\n",
    "        #'credit_risk12': this is the column that the labels for the test_prediction is in\n",
    "        accuracy,test_datapoints, test_prediction = decision_tree(train_full_df, predictors, target_var, 'credit_risk_12')\n",
    "\n",
    "        #list_flip: contains the row number that has just been flipped\n",
    "        #list_num: contains the accuracy value just calculated\n",
    "        list_flip.append(index)\n",
    "        list_acc.append(accuracy)\n",
    "\n",
    "        ##################################################################################\n",
    "        #After calculating the accuracy parity calculation is next\n",
    "        parity = s_parity(test_datapoints, predictors, test_prediction, 'age', 45, 'credit_risk_12')\n",
    "        #list_parity: contains the parity value after the flip\n",
    "        list_parity.append(parity)\n",
    "\n",
    "        #Flips the label back to its original value\n",
    "        train_full_df.at[index,'credit_risk'] = 1\n",
    "\n",
    "    #Repeats all the same steps as above but this time if the original label is 2\n",
    "    elif row['credit_risk'] == 2:\n",
    "        train_full_df.at[index, 'credit_risk'] = 1\n",
    "\n",
    "        accuracy,test_datapoints, test_prediction = decision_tree(train_full_df, predictors, target_var, 'credit_risk_12')\n",
    "        list_flip.append(index)\n",
    "        list_acc.append(accuracy)\n",
    "\n",
    "        ##################################################################################\n",
    "        parity = s_parity(test_datapoints, predictors, test_prediction, 'age', 45, 'credit_risk_12')\n",
    "        list_parity.append(parity)\n",
    "\n",
    "        train_full_df.at[index,'credit_risk'] = 2\n",
    "\n",
    "\n",
    "\n",
    "\n"
   ]
  },
  {
   "cell_type": "code",
   "execution_count": 54,
   "metadata": {
    "id": "0WG6TDJ_AhpG"
   },
   "outputs": [],
   "source": [
    "#parity_difference: Contains the difference between flipped and original value\n",
    "parity_difference = []\n",
    "#Contains parity values that fall between .03 and -.03\n",
    "large_influence = []\n",
    "#Contains the row number of each flip\n",
    "li_row = []\n",
    "\n",
    "#Takes each of the parity values after flipping and compares it to the original parity value\n",
    "#Appends the difference to a new list\n",
    "for value in list_parity:\n",
    "    difference = abs(value) - abs(statistical_parity)\n",
    "    parity_difference.append(difference)\n",
    "\n",
    "\n",
    "#Rows are considered to be high influence if they fall in between .03, -.03\n",
    "for index, item in enumerate(parity_difference):\n",
    "    if item <= statistical_parity or item >= -statistical_parity:\n",
    "        large_influence.append(item)\n",
    "        li_row.append(index)"
   ]
  },
  {
   "cell_type": "code",
   "execution_count": 55,
   "metadata": {
    "id": "f_ceVITzAhpG"
   },
   "outputs": [],
   "source": [
    "#Ranking the values that have been appended to the large_influence list\n",
    "zip_lists = list(zip(large_influence, li_row))\n",
    "\n",
    "#Sort the list of tuples based on the absolute value of the values\n",
    "sorted_pairs = sorted(zip_lists, key=lambda pair: pair[0], reverse=True)\n",
    "\n",
    "#Separate the sorted values and indices back into separate lists\n",
    "sorted_values, sorted_indices = zip(*sorted_pairs)"
   ]
  },
  {
   "cell_type": "code",
   "execution_count": 56,
   "metadata": {
    "id": "WY9-VWNNBKAd"
   },
   "outputs": [],
   "source": [
    "#After ranking the values it is time to now go back through the flipping process but flip the top 500 labels based on their ranking\n",
    "#Parity values after each flip\n",
    "ranked_parity = []\n",
    "#Accuracy after every flip\n",
    "ranked_acc = []\n",
    "#Index/row of the flip\n",
    "ranked_flip = []\n",
    "\n",
    "row_num = 0\n",
    "#sorted_indices is a tuple so it's coverted to a list\n",
    "ranked_indices_list = list(sorted_indices)\n",
    "\n",
    "#Iterate through the ranked indices and start flipping labels based on their position in the list\n",
    "for row in range(len(ranked_indices_list)):\n",
    "  #row_num: contains the row number with respect to the dataframe\n",
    "  row_num = ranked_indices_list[row]\n",
    "  #If the label at the specific row is 1 it flips it to 2 then calculates the parity and accuracy\n",
    "  #It follows the same steps as the flipping before\n",
    "  if train_full_df.at[row_num,'credit_risk'] == 1:\n",
    "      train_full_df.at[row_num, 'credit_risk'] = 2\n",
    "\n",
    "      accuracy,test_datapoints, test_prediction = decision_tree(train_full_df, predictors, target_var, 'credit_risk_12')\n",
    "\n",
    "      ranked_flip.append(row_num)\n",
    "      ranked_acc.append(accuracy)\n",
    "\n",
    "      ##################################################################################\n",
    "      parity = s_parity(test_datapoints, predictors, test_prediction, 'age', 45, 'credit_risk_12')\n",
    "      ranked_parity.append(parity)\n",
    "\n",
    "      #train_full_df.at[index,'credit_risk'] = 1\n",
    "\n",
    "  elif train_full_df.at[row_num,'credit_risk'] == 2:\n",
    "      train_full_df.at[row_num, 'credit_risk'] = 1\n",
    "\n",
    "      accuracy,test_datapoints, test_prediction = decision_tree(train_full_df, predictors, target_var, 'credit_risk_12')\n",
    "\n",
    "      ranked_flip.append(row_num)\n",
    "      ranked_acc.append(accuracy)\n",
    "\n",
    "      ##################################################################################\n",
    "      parity = s_parity(test_datapoints, predictors, test_prediction, 'age', 45, 'credit_risk_12')\n",
    "      ranked_parity.append(parity)\n",
    "\n",
    "      #train_full_df.at[index,'credit_risk'] = 2\n",
    "\n",
    "\n"
   ]
  },
  {
   "cell_type": "code",
   "execution_count": 57,
   "metadata": {
    "colab": {
     "base_uri": "https://localhost:8080/",
     "height": 1000
    },
    "id": "izyqOg_E7njH",
    "outputId": "9f18096f-a6f4-4a81-fcb6-5e817eda69b7"
   },
   "outputs": [],
   "source": [
    "#Check to see which parity values are less than the original value based on the magnitude\n",
    "similar_values_df = pd.DataFrame(columns=columns)\n",
    "similar_values_encoded_data=pd.get_dummies(similar_values_df,columns=['checking_account_status','credit_history','savings_account_status','employment_status','personal_status','other_debtors','property','other_installment_plans','housing','job','telephone','foreign_worker','purpose'], drop_first=True)\n",
    "for value in range(len(ranked_parity)):\n",
    "    if abs(ranked_parity[value]) < abs(statistical_parity):\n",
    "        row = train_full_df.iloc[ranked_flip[value]]\n",
    "        similar_values_encoded_data = similar_values_encoded_data.append(row, ignore_index=True)\n",
    "\n"
   ]
  },
  {
   "cell_type": "code",
   "execution_count": 58,
   "metadata": {
    "colab": {
     "base_uri": "https://localhost:8080/"
    },
    "id": "5I1thpc-7njI",
    "outputId": "54398829-e296-4599-f4fe-15778cb55dd3"
   },
   "outputs": [
    {
     "name": "stdout",
     "output_type": "stream",
     "text": [
      "Most common value in duration: 24, Count: 26\n",
      "Most common value in credit_amount: 3595, Count: 1\n",
      "Most common value in installment_rate: 4, Count: 27\n",
      "Most common value in residence_since: 4, Count: 27\n",
      "Most common value in age: 27, Count: 6\n",
      "Most common value in existing_credits: 1, Count: 38\n",
      "Most common value in num_dependents: 1, Count: 53\n",
      "Most common value in credit_risk: 2, Count: 49\n",
      "Most common value in checking_account_status_A12: 0.0, Count: 44\n",
      "Most common value in checking_account_status_A13: 0.0, Count: 52\n",
      "Most common value in checking_account_status_A14: 0.0, Count: 43\n",
      "Most common value in credit_history_A31: 0.0, Count: 55\n",
      "Most common value in credit_history_A32: 1.0, Count: 32\n",
      "Most common value in credit_history_A33: 0.0, Count: 54\n",
      "Most common value in credit_history_A34: 0.0, Count: 42\n",
      "Most common value in savings_account_status_A62: 0.0, Count: 44\n",
      "Most common value in savings_account_status_A63: 0.0, Count: 55\n",
      "Most common value in savings_account_status_A64: 0.0, Count: 57\n",
      "Most common value in savings_account_status_A65: 0.0, Count: 56\n",
      "Most common value in employment_status_A72: 0.0, Count: 50\n",
      "Most common value in employment_status_A73: 0.0, Count: 39\n",
      "Most common value in employment_status_A74: 0.0, Count: 51\n",
      "Most common value in employment_status_A75: 0.0, Count: 40\n",
      "Most common value in personal_status_A92: 0.0, Count: 41\n",
      "Most common value in personal_status_A93: 1.0, Count: 32\n",
      "Most common value in personal_status_A94: 0.0, Count: 56\n",
      "Most common value in other_debtors_A102: 0.0, Count: 55\n",
      "Most common value in other_debtors_A103: 0.0, Count: 58\n",
      "Most common value in property_A122: 0.0, Count: 44\n",
      "Most common value in property_A123: 0.0, Count: 40\n",
      "Most common value in property_A124: 0.0, Count: 50\n",
      "Most common value in other_installment_plans_A142: 0.0, Count: 54\n",
      "Most common value in other_installment_plans_A143: 1.0, Count: 49\n",
      "Most common value in housing_A152: 1.0, Count: 41\n",
      "Most common value in housing_A153: 0.0, Count: 52\n",
      "Most common value in job_A172: 0.0, Count: 48\n",
      "Most common value in job_A173: 1.0, Count: 39\n",
      "Most common value in job_A174: 0.0, Count: 51\n",
      "Most common value in telephone_A192: 0.0, Count: 38\n",
      "Most common value in foreign_worker_A202: 0.0, Count: 57\n"
     ]
    }
   ],
   "source": [
    "#Count the most common calues in each column\n",
    "for column in similar_values_encoded_data.columns:\n",
    "    most_common = similar_values_encoded_data[column].value_counts().idxmax()\n",
    "    count = similar_values_encoded_data[column].value_counts().max()\n",
    "    print(f'Most common value in {column}: {most_common}, Count: {count}')"
   ]
  },
  {
   "cell_type": "code",
   "execution_count": 59,
   "metadata": {
    "id": "GKGdhGBlIiyu"
   },
   "outputs": [],
   "source": [
    "#Get the original data from the german dataframe to see what the original labels are \n",
    "check_labels = pd.DataFrame(columns=columns)\n",
    "for value in range(len(ranked_parity)):\n",
    "    if abs(ranked_parity[value]) < abs(statistical_parity):\n",
    "        index = ranked_flip[value]\n",
    "        check_labels = check_labels.append(german_df.loc[index])"
   ]
  },
  {
   "cell_type": "code",
   "execution_count": 60,
   "metadata": {
    "colab": {
     "base_uri": "https://localhost:8080/"
    },
    "id": "pUvbuLHyIrJJ",
    "outputId": "84012c55-2647-456d-8d86-fab327ad0479"
   },
   "outputs": [
    {
     "name": "stdout",
     "output_type": "stream",
     "text": [
      "41\n",
      "18\n"
     ]
    }
   ],
   "source": [
    "#Counts and prints the number of approved people and non-approved people in the original data frame whose parity are less than\n",
    "#the original parity\n",
    "similar_apr = (check_labels['credit_risk'] == 1).sum()\n",
    "similar_noapr = (check_labels['credit_risk'] == 2).sum()\n",
    "\n",
    "print(similar_apr)\n",
    "print(similar_noapr)"
   ]
  },
  {
   "cell_type": "code",
   "execution_count": 61,
   "metadata": {
    "colab": {
     "base_uri": "https://localhost:8080/",
     "height": 507
    },
    "id": "bmkv1Gq9HFn1",
    "outputId": "98a1c282-fdba-46f5-8596-9a64b431ea41"
   },
   "outputs": [
    {
     "data": {
      "text/html": [
       "<div>\n",
       "<style scoped>\n",
       "    .dataframe tbody tr th:only-of-type {\n",
       "        vertical-align: middle;\n",
       "    }\n",
       "\n",
       "    .dataframe tbody tr th {\n",
       "        vertical-align: top;\n",
       "    }\n",
       "\n",
       "    .dataframe thead th {\n",
       "        text-align: right;\n",
       "    }\n",
       "</style>\n",
       "<table border=\"1\" class=\"dataframe\">\n",
       "  <thead>\n",
       "    <tr style=\"text-align: right;\">\n",
       "      <th></th>\n",
       "      <th>checking_account_status_A12</th>\n",
       "      <th>checking_account_status_A13</th>\n",
       "      <th>checking_account_status_A14</th>\n",
       "      <th>credit_history_A31</th>\n",
       "      <th>credit_history_A32</th>\n",
       "      <th>credit_history_A33</th>\n",
       "      <th>credit_history_A34</th>\n",
       "      <th>savings_account_status_A62</th>\n",
       "      <th>savings_account_status_A63</th>\n",
       "      <th>savings_account_status_A64</th>\n",
       "      <th>...</th>\n",
       "      <th>property_A124</th>\n",
       "      <th>other_installment_plans_A142</th>\n",
       "      <th>other_installment_plans_A143</th>\n",
       "      <th>housing_A152</th>\n",
       "      <th>housing_A153</th>\n",
       "      <th>job_A172</th>\n",
       "      <th>job_A173</th>\n",
       "      <th>job_A174</th>\n",
       "      <th>telephone_A192</th>\n",
       "      <th>foreign_worker_A202</th>\n",
       "    </tr>\n",
       "  </thead>\n",
       "  <tbody>\n",
       "    <tr>\n",
       "      <th>count</th>\n",
       "      <td>59.000000</td>\n",
       "      <td>59.000000</td>\n",
       "      <td>59.000000</td>\n",
       "      <td>59.000000</td>\n",
       "      <td>59.000000</td>\n",
       "      <td>59.000000</td>\n",
       "      <td>59.000000</td>\n",
       "      <td>59.000000</td>\n",
       "      <td>59.000000</td>\n",
       "      <td>59.000000</td>\n",
       "      <td>...</td>\n",
       "      <td>59.000000</td>\n",
       "      <td>59.000000</td>\n",
       "      <td>59.000000</td>\n",
       "      <td>59.000000</td>\n",
       "      <td>59.000000</td>\n",
       "      <td>59.000000</td>\n",
       "      <td>59.000000</td>\n",
       "      <td>59.000000</td>\n",
       "      <td>59.000000</td>\n",
       "      <td>59.000000</td>\n",
       "    </tr>\n",
       "    <tr>\n",
       "      <th>mean</th>\n",
       "      <td>0.254237</td>\n",
       "      <td>0.118644</td>\n",
       "      <td>0.271186</td>\n",
       "      <td>0.067797</td>\n",
       "      <td>0.542373</td>\n",
       "      <td>0.084746</td>\n",
       "      <td>0.288136</td>\n",
       "      <td>0.254237</td>\n",
       "      <td>0.067797</td>\n",
       "      <td>0.033898</td>\n",
       "      <td>...</td>\n",
       "      <td>0.152542</td>\n",
       "      <td>0.084746</td>\n",
       "      <td>0.830508</td>\n",
       "      <td>0.694915</td>\n",
       "      <td>0.118644</td>\n",
       "      <td>0.186441</td>\n",
       "      <td>0.661017</td>\n",
       "      <td>0.135593</td>\n",
       "      <td>0.355932</td>\n",
       "      <td>0.033898</td>\n",
       "    </tr>\n",
       "    <tr>\n",
       "      <th>std</th>\n",
       "      <td>0.439169</td>\n",
       "      <td>0.326145</td>\n",
       "      <td>0.448388</td>\n",
       "      <td>0.253555</td>\n",
       "      <td>0.502478</td>\n",
       "      <td>0.280894</td>\n",
       "      <td>0.456782</td>\n",
       "      <td>0.439169</td>\n",
       "      <td>0.253555</td>\n",
       "      <td>0.182521</td>\n",
       "      <td>...</td>\n",
       "      <td>0.362632</td>\n",
       "      <td>0.280894</td>\n",
       "      <td>0.378406</td>\n",
       "      <td>0.464396</td>\n",
       "      <td>0.326145</td>\n",
       "      <td>0.392805</td>\n",
       "      <td>0.477427</td>\n",
       "      <td>0.345295</td>\n",
       "      <td>0.482905</td>\n",
       "      <td>0.182521</td>\n",
       "    </tr>\n",
       "    <tr>\n",
       "      <th>min</th>\n",
       "      <td>0.000000</td>\n",
       "      <td>0.000000</td>\n",
       "      <td>0.000000</td>\n",
       "      <td>0.000000</td>\n",
       "      <td>0.000000</td>\n",
       "      <td>0.000000</td>\n",
       "      <td>0.000000</td>\n",
       "      <td>0.000000</td>\n",
       "      <td>0.000000</td>\n",
       "      <td>0.000000</td>\n",
       "      <td>...</td>\n",
       "      <td>0.000000</td>\n",
       "      <td>0.000000</td>\n",
       "      <td>0.000000</td>\n",
       "      <td>0.000000</td>\n",
       "      <td>0.000000</td>\n",
       "      <td>0.000000</td>\n",
       "      <td>0.000000</td>\n",
       "      <td>0.000000</td>\n",
       "      <td>0.000000</td>\n",
       "      <td>0.000000</td>\n",
       "    </tr>\n",
       "    <tr>\n",
       "      <th>25%</th>\n",
       "      <td>0.000000</td>\n",
       "      <td>0.000000</td>\n",
       "      <td>0.000000</td>\n",
       "      <td>0.000000</td>\n",
       "      <td>0.000000</td>\n",
       "      <td>0.000000</td>\n",
       "      <td>0.000000</td>\n",
       "      <td>0.000000</td>\n",
       "      <td>0.000000</td>\n",
       "      <td>0.000000</td>\n",
       "      <td>...</td>\n",
       "      <td>0.000000</td>\n",
       "      <td>0.000000</td>\n",
       "      <td>1.000000</td>\n",
       "      <td>0.000000</td>\n",
       "      <td>0.000000</td>\n",
       "      <td>0.000000</td>\n",
       "      <td>0.000000</td>\n",
       "      <td>0.000000</td>\n",
       "      <td>0.000000</td>\n",
       "      <td>0.000000</td>\n",
       "    </tr>\n",
       "    <tr>\n",
       "      <th>50%</th>\n",
       "      <td>0.000000</td>\n",
       "      <td>0.000000</td>\n",
       "      <td>0.000000</td>\n",
       "      <td>0.000000</td>\n",
       "      <td>1.000000</td>\n",
       "      <td>0.000000</td>\n",
       "      <td>0.000000</td>\n",
       "      <td>0.000000</td>\n",
       "      <td>0.000000</td>\n",
       "      <td>0.000000</td>\n",
       "      <td>...</td>\n",
       "      <td>0.000000</td>\n",
       "      <td>0.000000</td>\n",
       "      <td>1.000000</td>\n",
       "      <td>1.000000</td>\n",
       "      <td>0.000000</td>\n",
       "      <td>0.000000</td>\n",
       "      <td>1.000000</td>\n",
       "      <td>0.000000</td>\n",
       "      <td>0.000000</td>\n",
       "      <td>0.000000</td>\n",
       "    </tr>\n",
       "    <tr>\n",
       "      <th>75%</th>\n",
       "      <td>0.500000</td>\n",
       "      <td>0.000000</td>\n",
       "      <td>1.000000</td>\n",
       "      <td>0.000000</td>\n",
       "      <td>1.000000</td>\n",
       "      <td>0.000000</td>\n",
       "      <td>1.000000</td>\n",
       "      <td>0.500000</td>\n",
       "      <td>0.000000</td>\n",
       "      <td>0.000000</td>\n",
       "      <td>...</td>\n",
       "      <td>0.000000</td>\n",
       "      <td>0.000000</td>\n",
       "      <td>1.000000</td>\n",
       "      <td>1.000000</td>\n",
       "      <td>0.000000</td>\n",
       "      <td>0.000000</td>\n",
       "      <td>1.000000</td>\n",
       "      <td>0.000000</td>\n",
       "      <td>1.000000</td>\n",
       "      <td>0.000000</td>\n",
       "    </tr>\n",
       "    <tr>\n",
       "      <th>max</th>\n",
       "      <td>1.000000</td>\n",
       "      <td>1.000000</td>\n",
       "      <td>1.000000</td>\n",
       "      <td>1.000000</td>\n",
       "      <td>1.000000</td>\n",
       "      <td>1.000000</td>\n",
       "      <td>1.000000</td>\n",
       "      <td>1.000000</td>\n",
       "      <td>1.000000</td>\n",
       "      <td>1.000000</td>\n",
       "      <td>...</td>\n",
       "      <td>1.000000</td>\n",
       "      <td>1.000000</td>\n",
       "      <td>1.000000</td>\n",
       "      <td>1.000000</td>\n",
       "      <td>1.000000</td>\n",
       "      <td>1.000000</td>\n",
       "      <td>1.000000</td>\n",
       "      <td>1.000000</td>\n",
       "      <td>1.000000</td>\n",
       "      <td>1.000000</td>\n",
       "    </tr>\n",
       "  </tbody>\n",
       "</table>\n",
       "<p>8 rows × 32 columns</p>\n",
       "</div>"
      ],
      "text/plain": [
       "       checking_account_status_A12  checking_account_status_A13  \\\n",
       "count                    59.000000                    59.000000   \n",
       "mean                      0.254237                     0.118644   \n",
       "std                       0.439169                     0.326145   \n",
       "min                       0.000000                     0.000000   \n",
       "25%                       0.000000                     0.000000   \n",
       "50%                       0.000000                     0.000000   \n",
       "75%                       0.500000                     0.000000   \n",
       "max                       1.000000                     1.000000   \n",
       "\n",
       "       checking_account_status_A14  credit_history_A31  credit_history_A32  \\\n",
       "count                    59.000000           59.000000           59.000000   \n",
       "mean                      0.271186            0.067797            0.542373   \n",
       "std                       0.448388            0.253555            0.502478   \n",
       "min                       0.000000            0.000000            0.000000   \n",
       "25%                       0.000000            0.000000            0.000000   \n",
       "50%                       0.000000            0.000000            1.000000   \n",
       "75%                       1.000000            0.000000            1.000000   \n",
       "max                       1.000000            1.000000            1.000000   \n",
       "\n",
       "       credit_history_A33  credit_history_A34  savings_account_status_A62  \\\n",
       "count           59.000000           59.000000                   59.000000   \n",
       "mean             0.084746            0.288136                    0.254237   \n",
       "std              0.280894            0.456782                    0.439169   \n",
       "min              0.000000            0.000000                    0.000000   \n",
       "25%              0.000000            0.000000                    0.000000   \n",
       "50%              0.000000            0.000000                    0.000000   \n",
       "75%              0.000000            1.000000                    0.500000   \n",
       "max              1.000000            1.000000                    1.000000   \n",
       "\n",
       "       savings_account_status_A63  savings_account_status_A64  ...  \\\n",
       "count                   59.000000                   59.000000  ...   \n",
       "mean                     0.067797                    0.033898  ...   \n",
       "std                      0.253555                    0.182521  ...   \n",
       "min                      0.000000                    0.000000  ...   \n",
       "25%                      0.000000                    0.000000  ...   \n",
       "50%                      0.000000                    0.000000  ...   \n",
       "75%                      0.000000                    0.000000  ...   \n",
       "max                      1.000000                    1.000000  ...   \n",
       "\n",
       "       property_A124  other_installment_plans_A142  \\\n",
       "count      59.000000                     59.000000   \n",
       "mean        0.152542                      0.084746   \n",
       "std         0.362632                      0.280894   \n",
       "min         0.000000                      0.000000   \n",
       "25%         0.000000                      0.000000   \n",
       "50%         0.000000                      0.000000   \n",
       "75%         0.000000                      0.000000   \n",
       "max         1.000000                      1.000000   \n",
       "\n",
       "       other_installment_plans_A143  housing_A152  housing_A153   job_A172  \\\n",
       "count                     59.000000     59.000000     59.000000  59.000000   \n",
       "mean                       0.830508      0.694915      0.118644   0.186441   \n",
       "std                        0.378406      0.464396      0.326145   0.392805   \n",
       "min                        0.000000      0.000000      0.000000   0.000000   \n",
       "25%                        1.000000      0.000000      0.000000   0.000000   \n",
       "50%                        1.000000      1.000000      0.000000   0.000000   \n",
       "75%                        1.000000      1.000000      0.000000   0.000000   \n",
       "max                        1.000000      1.000000      1.000000   1.000000   \n",
       "\n",
       "        job_A173   job_A174  telephone_A192  foreign_worker_A202  \n",
       "count  59.000000  59.000000       59.000000            59.000000  \n",
       "mean    0.661017   0.135593        0.355932             0.033898  \n",
       "std     0.477427   0.345295        0.482905             0.182521  \n",
       "min     0.000000   0.000000        0.000000             0.000000  \n",
       "25%     0.000000   0.000000        0.000000             0.000000  \n",
       "50%     1.000000   0.000000        0.000000             0.000000  \n",
       "75%     1.000000   0.000000        1.000000             0.000000  \n",
       "max     1.000000   1.000000        1.000000             1.000000  \n",
       "\n",
       "[8 rows x 32 columns]"
      ]
     },
     "execution_count": 61,
     "metadata": {},
     "output_type": "execute_result"
    }
   ],
   "source": [
    "similar_values_encoded_data.describe()"
   ]
  },
  {
   "cell_type": "code",
   "execution_count": 62,
   "metadata": {
    "id": "wSdotp5PpuK8"
   },
   "outputs": [],
   "source": [
    "#Takes the first 150 parity values and their indices and will graph those\n",
    "top_ranked_parity = ranked_parity[:150]\n",
    "top_ranked_index = ranked_flip[:150]"
   ]
  },
  {
   "cell_type": "code",
   "execution_count": 63,
   "metadata": {
    "colab": {
     "base_uri": "https://localhost:8080/",
     "height": 472
    },
    "id": "l2VEjoBSAhpG",
    "outputId": "e0f8a370-d410-480f-8f04-e978418ea661"
   },
   "outputs": [
    {
     "data": {
      "image/png": "[encoded data removed]",
      "text/plain": [
       "<Figure size 640x480 with 1 Axes>"
      ]
     },
     "metadata": {},
     "output_type": "display_data"
    }
   ],
   "source": [
    "#Plot of the information in the order of the flips of parity\n",
    "x=range(len(top_ranked_parity))\n",
    "\n",
    "#Plot the data\n",
    "plt.plot(x,top_ranked_parity)\n",
    "\n",
    "#Add the labels\n",
    "plt.xlabel('Flips')\n",
    "plt.ylabel('Parity')\n",
    "plt.title('Parity over # flips for ranked list')\n",
    "\n",
    "#Show the plot\n",
    "plt.show()"
   ]
  },
  {
   "cell_type": "code",
   "execution_count": 64,
   "metadata": {},
   "outputs": [],
   "source": [
    "#Create a new dataframe with the original data for the random flipping\n",
    "train_demo_df_random = pd.DataFrame(x_train, columns = predictors)\n",
    "train_outcome_df_random = pd.DataFrame(y_train, columns = ['credit_risk'])\n",
    "train_full_df_random = pd.concat([train_demo_df, train_outcome_df], axis=1)"
   ]
  },
  {
   "cell_type": "code",
   "execution_count": 69,
   "metadata": {
    "id": "otGe9_TkAhpH"
   },
   "outputs": [],
   "source": [
    "#Randomized flipping\n",
    "#Budget of 50\n",
    "import random\n",
    "\n",
    "random_list_flip = []\n",
    "random_list_acc = []\n",
    "random_list_parity = []\n",
    "\n",
    "col_name = 'credit_risk'\n",
    "budget = 150\n",
    "\n",
    "#Loops through the budget and will randomly change rows in the dataframe based on the random library\n",
    "#After changing the row it will calculate the accuracy and parity and then change the value back to its original value\n",
    "#Follows the same flipping and calculations as before but this time it is with random rows rather than systematic flipping\n",
    "for iter in range(budget):\n",
    "    random_row = random.choice(train_full_df_random.index)\n",
    "    if train_full_df_random.at[random_row,col_name] == 1:\n",
    "        train_full_df_random.at[random_row,col_name] = 2\n",
    "\n",
    "        accuracy, test_datapoints, test_prediction = decision_tree(train_full_df_random, predictors, target_var,'credit_risk_12')\n",
    "\n",
    "        random_list_flip.append(iter)\n",
    "        random_list_acc.append(accuracy)\n",
    "\n",
    "        ##################################################################################\n",
    "        parity = s_parity(test_datapoints, predictors, test_prediction, 'age', 45, 'credit_risk_12')\n",
    "        random_list_parity.append(parity)\n",
    "\n",
    "        #train_full_df.at[random_row,col_name] = 1\n",
    "\n",
    "    elif train_full_df_random.at[random_row,col_name] == 2:\n",
    "        train_full_df_random.at[random_row,col_name] = 1\n",
    "\n",
    "        accuracy, test_datapoints, test_prediction = decision_tree(train_full_df_random, predictors, target_var,'credit_risk_12')\n",
    "        random_list_flip.append(iter)\n",
    "        random_list_acc.append(accuracy)\n",
    "\n",
    "        ##################################################################################\n",
    "        parity = s_parity(test_datapoints, predictors, test_prediction, 'age', 45, 'credit_risk_12')\n",
    "        random_list_parity.append(parity)\n",
    "\n",
    "        #train_full_df.at[random_row,col_name] = 2\n",
    "\n",
    "\n"
   ]
  },
  {
   "cell_type": "code",
   "execution_count": 70,
   "metadata": {
    "colab": {
     "base_uri": "https://localhost:8080/",
     "height": 472
    },
    "id": "Pa12taScAhpH",
    "outputId": "1dd34016-947e-4ffd-96a7-35cee880a27c"
   },
   "outputs": [
    {
     "data": {
      "image/png": "[encoded data removed]",
      "text/plain": [
       "<Figure size 640x480 with 1 Axes>"
      ]
     },
     "metadata": {},
     "output_type": "display_data"
    }
   ],
   "source": [
    "#Plotting the random flips dataset and the systematic flips\n",
    "#Systematic flips will have 800\n",
    "#Random will have 150\n",
    "\n",
    "#Plot the first dataset which is the ranked data list with 800 flips\n",
    "#list_parity.sort(reverse=True)\n",
    "x=range(len(top_ranked_parity))\n",
    "plt.plot(x,top_ranked_parity,label='Ranked List')\n",
    "\n",
    "#Plot the second dataset which is the random list of 150 flips\n",
    "x2 = range(len(random_list_parity))\n",
    "plt.plot(x2,random_list_parity,label='Random List')\n",
    "\n",
    "#Add the labels\n",
    "plt.xlabel('Flips')\n",
    "plt.ylabel('Parity')\n",
    "plt.title('Change in parity for the Random and Ranked list')\n",
    "\n",
    "#Add a legend\n",
    "plt.legend()\n",
    "\n",
    "#Show the plot\n",
    "plt.show()\n"
   ]
  },
  {
   "cell_type": "code",
   "execution_count": 67,
   "metadata": {
    "id": "35sNfFpk_wQf"
   },
   "outputs": [],
   "source": [
    "#Getting the top 150 accuracy values\n",
    "top_ranked_acc = ranked_acc[:150]\n",
    "top_ranked_noABS_index = ranked_flip[:150]"
   ]
  },
  {
   "cell_type": "code",
   "execution_count": 68,
   "metadata": {
    "colab": {
     "base_uri": "https://localhost:8080/",
     "height": 472
    },
    "id": "fxs306D3_oG2",
    "outputId": "4119cfff-78ca-4102-9ae5-daa6eaed60b4"
   },
   "outputs": [
    {
     "data": {
      "image/png": "[encoded data removed]",
      "text/plain": [
       "<Figure size 640x480 with 1 Axes>"
      ]
     },
     "metadata": {},
     "output_type": "display_data"
    }
   ],
   "source": [
    "#Plotting the random flips dataset and the systematic flips\n",
    "#Systematic flips will have 800\n",
    "#Random will have 150\n",
    "#This is comparing the two accuracies\n",
    "\n",
    "#Plot the first dataset which is the ranked data list with 800 flips\n",
    "#list_parity.sort(reverse=True)\n",
    "x=range(len(top_ranked_acc))\n",
    "plt.plot(x,top_ranked_acc,label='Ranked List')\n",
    "\n",
    "#Plot the second dataset which is the random list of 150 flips\n",
    "x2 = range(len(random_list_acc))\n",
    "plt.plot(x2,random_list_acc,label='Random List')\n",
    "\n",
    "#Add the labels\n",
    "plt.xlabel('Flips')\n",
    "plt.ylabel('Accuracy')\n",
    "plt.title('Change in Accuracy for the Random and Ranked list')\n",
    "\n",
    "#Add a legend\n",
    "plt.legend()\n",
    "\n",
    "#Show the plot\n",
    "plt.show()\n"
   ]
  },
  {
   "cell_type": "code",
   "execution_count": null,
   "metadata": {
    "id": "fLYXbofr7njL"
   },
   "outputs": [],
   "source": []
  }
 ],
 "metadata": {
  "colab": {
   "include_colab_link": true,
   "provenance": []
  },
  "kernelspec": {
   "display_name": "Python 3 (ipykernel)",
   "language": "python",
   "name": "python3"
  },
  "language_info": {
   "codemirror_mode": {
    "name": "ipython",
    "version": 3
   },
   "file_extension": ".py",
   "mimetype": "text/x-python",
   "name": "python",
   "nbconvert_exporter": "python",
   "pygments_lexer": "ipython3",
   "version": "3.11.4"
  }
 },
 "nbformat": 4,
 "nbformat_minor": 1
}
