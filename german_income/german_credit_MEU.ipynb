{
  "nbformat": 4,
  "nbformat_minor": 0,
  "metadata": {
    "colab": {
      "provenance": [],
      "authorship_tag": "ABX9TyP4IkfoqP2Wf3QDz1OINcPk",
      "include_colab_link": true
    },
    "kernelspec": {
      "name": "python3",
      "display_name": "Python 3"
    },
    "language_info": {
      "name": "python"
    }
  },
  "cells": [
    {
      "cell_type": "markdown",
      "metadata": {
        "id": "view-in-github",
        "colab_type": "text"
      },
      "source": [
        "<a href=\"https://colab.research.google.com/github/s-thandri/labelflipping/blob/main/german_income/german_credit_MEU.ipynb\" target=\"_parent\"><img src=\"https://colab.research.google.com/assets/colab-badge.svg\" alt=\"Open In Colab\"/></a>"
      ]
    },
    {
      "cell_type": "code",
      "execution_count": 1,
      "metadata": {
        "id": "zDawEe1x3iTo"
      },
      "outputs": [],
      "source": [
        "#Imports some of the libraries that we will be using\n",
        "import pandas as pd\n",
        "import numpy as np\n",
        "import warnings\n",
        "from sklearn.linear_model import LogisticRegression\n",
        "from sklearn.model_selection import cross_val_score, train_test_split\n",
        "from sklearn import metrics\n",
        "from sklearn.tree import DecisionTreeClassifier\n",
        "from sklearn import tree\n",
        "from sklearn.metrics import accuracy_score\n",
        "import matplotlib.pyplot as plt\n",
        "warnings.filterwarnings('ignore')\n"
      ]
    },
    {
      "cell_type": "code",
      "source": [
        "#This function is being used to calculate the statistical parity of the data set\n",
        "#test_data: The original data frame containing the test data\n",
        "#predictors: List of the all the column names AKA IV's\n",
        "#prediction_df: Contains the predicitons made by the DT model\n",
        "#sensitive_attr: Name of the sensitive attr\n",
        "#sensitive_attr_cutoff: Cut off value for sensitive attr\n",
        "#concat_col: Name of column I am creating new dataframe on\n",
        "def s_parity(test_data, predictors, prediction_df, sensitive_attr, sensitive_attr_cutoff, concat_col):\n",
        "    #Creating a new DF that contains all the datapoints from the test data and the predictions made from LR model\n",
        "    #Concat_col: credit_risk_12\n",
        "    test_demo_df = pd.DataFrame(test_data, columns = predictors)\n",
        "    predicted_df = pd.DataFrame(prediction_df, columns = [concat_col])\n",
        "    concat_df = pd.concat([test_demo_df,predicted_df], axis=1)\n",
        "\n",
        "    #Get the two groups of people totals\n",
        "    total_unpriv = (len(concat_df[concat_df[sensitive_attr]<sensitive_attr_cutoff]))\n",
        "    total_priv = (len(concat_df[concat_df[sensitive_attr]>=sensitive_attr_cutoff]))\n",
        "\n",
        "    #Number of people accepted\n",
        "    total_credit_unpriv = len(concat_df[(concat_df[concat_col] == 1) & (concat_df[sensitive_attr] < sensitive_attr_cutoff)])\n",
        "    total_credit_priv = len(concat_df[(concat_df[concat_col] == 1) & (concat_df[sensitive_attr] >= sensitive_attr_cutoff)])\n",
        "\n",
        "    #Percentage of approved people\n",
        "    p_unpriv = total_credit_unpriv/total_unpriv\n",
        "    p_priv = total_credit_priv/total_priv\n",
        "\n",
        "\n",
        "    #Calculate the parity\n",
        "    parity = p_priv - p_unpriv\n",
        "\n",
        "\n",
        "    return parity"
      ],
      "metadata": {
        "id": "oD-V0SuP34rc"
      },
      "execution_count": 2,
      "outputs": []
    },
    {
      "cell_type": "code",
      "source": [
        "#Make changes to make more efficient\n",
        "#Function used to run the DT model\n",
        "#train_dataset: Training dataset to train the model\n",
        "#independent_var: Column names\n",
        "#dependent_var: Prediction column name\n",
        "#concat_col: Name of column creating new DF on\n",
        "def decision_tree(train_dataset, independent_var, dependent_var, concat_col):\n",
        "        #Split the data up into train and test values and then run the DT model\n",
        "        #These steps aren't neccessary to consistenly do over and over again\n",
        "        x = train_dataset[independent_var].values\n",
        "        y = train_dataset[dependent_var].values\n",
        "        x_train, x_test, y_train, y_test = train_test_split(x, y, test_size=0.2,random_state=310)\n",
        "        clf = DecisionTreeClassifier(criterion = 'entropy',max_depth = 3, min_samples_leaf=5)\n",
        "        log = clf.fit(x_train,y_train)\n",
        "        prediction = log.predict(x_test)\n",
        "\n",
        "        #Printing the Overall accuracy of the model after one run\n",
        "        #F1_Score=metrics.f1_score(y_test, prediction, average='weighted')\n",
        "        #file.write(f'\\nAccuracy of the model on Testing Sample Data: {F1_Score}')\n",
        "\n",
        "        #Prints out the average across all ten run throughs\n",
        "        #Accuracy_Values=cross_val_score(log, x , y, cv=10, scoring='f1_weighted')\n",
        "\n",
        "        accuracy = accuracy_score(y_test,prediction)*100\n",
        "\n",
        "        #After running the model I return a df with the datapoints and the labels\n",
        "        test_demo_df = pd.DataFrame(x_test, columns = independent_var)\n",
        "        #Concat_col: credit_risk_12\n",
        "        predicted_df = pd.DataFrame(prediction, columns = [concat_col])\n",
        "\n",
        "        return accuracy, test_demo_df, predicted_df"
      ],
      "metadata": {
        "id": "FaPyBhqa367G"
      },
      "execution_count": 3,
      "outputs": []
    },
    {
      "cell_type": "code",
      "source": [
        "#Defining the columns and creating the Dataframe with all 1000 datapoints\n",
        "columns = [\"checking_account_status\", \"duration\", \"credit_history\", \"purpose\", \"credit_amount\", \"savings_account_status\", \"employment_status\", \"installment_rate\", \"personal_status\", \"other_debtors\", \"residence_since\", \"property\", \"age\", \"other_installment_plans\", \"housing\", \"existing_credits\", \"job\", \"num_dependents\", \"telephone\", \"foreign_worker\", \"credit_risk\"]\n",
        "german_df = pd.read_table('german.data', header = None, delim_whitespace=True, names = columns)"
      ],
      "metadata": {
        "id": "R8Q2J-8m2do8"
      },
      "execution_count": 4,
      "outputs": []
    },
    {
      "cell_type": "code",
      "source": [
        "#Encode all the non-numeric columns with dummies\n",
        "encoded_data=pd.get_dummies(german_df,columns=['checking_account_status','credit_history','savings_account_status','employment_status','personal_status','other_debtors','property','other_installment_plans','housing','job','telephone','foreign_worker','purpose'], drop_first=True)"
      ],
      "metadata": {
        "id": "yqGfgbLM2i9l"
      },
      "execution_count": 5,
      "outputs": []
    },
    {
      "cell_type": "code",
      "source": [
        "#Initialize all the different columns including predictors and target variable\n",
        "encoded_data.columns\n",
        "target_var = 'credit_risk'\n",
        "predictors = ['duration', 'credit_amount', 'installment_rate',\n",
        "       'residence_since', 'age', 'existing_credits', 'num_dependents',\n",
        "       'checking_account_status_A12',\n",
        "       'checking_account_status_A13', 'checking_account_status_A14',\n",
        "       'credit_history_A31', 'credit_history_A32', 'credit_history_A33',\n",
        "       'credit_history_A34', 'savings_account_status_A62',\n",
        "       'savings_account_status_A63', 'savings_account_status_A64',\n",
        "       'savings_account_status_A65', 'employment_status_A72',\n",
        "       'employment_status_A73', 'employment_status_A74',\n",
        "       'employment_status_A75', 'personal_status_A92', 'personal_status_A93',\n",
        "       'personal_status_A94', 'other_debtors_A102', 'other_debtors_A103',\n",
        "       'property_A122', 'property_A123', 'property_A124',\n",
        "       'other_installment_plans_A142', 'other_installment_plans_A143',\n",
        "       'housing_A152', 'housing_A153', 'job_A172', 'job_A173', 'job_A174',\n",
        "       'telephone_A192', 'foreign_worker_A202']\n"
      ],
      "metadata": {
        "id": "3QY5iFBb2keR"
      },
      "execution_count": 6,
      "outputs": []
    },
    {
      "cell_type": "code",
      "source": [
        "#Setting the columns to each part of the decision tree\n",
        "#x conatins the IV's\n",
        "#y contains the DV\n",
        "x = encoded_data[predictors].values\n",
        "y = encoded_data[target_var].values"
      ],
      "metadata": {
        "id": "OC5rS_7-2os2"
      },
      "execution_count": 7,
      "outputs": []
    },
    {
      "cell_type": "code",
      "source": [
        "x_train, x_test, y_train, y_test = train_test_split(x, y, test_size=0.2, random_state=310)\n",
        "#X-train is all the data points for training\n",
        "#y_train contains the labels for each of the training data points\n",
        "#x_test contains all the testing data points\n",
        "#y_test contains the ground truth for each of the test data points"
      ],
      "metadata": {
        "id": "hWDI4OfB2qfP"
      },
      "execution_count": 8,
      "outputs": []
    },
    {
      "cell_type": "code",
      "source": [
        "#Run the DT classifier\n",
        "clf = DecisionTreeClassifier(criterion = 'entropy', max_depth = 3, min_samples_leaf=5)\n",
        "dt = clf.fit(x_train,y_train)\n",
        "prediction = dt.predict(x_test)\n",
        "prediction_prob = dt.predict_proba(x_test)"
      ],
      "metadata": {
        "id": "59DuNLhc2r2F"
      },
      "execution_count": 9,
      "outputs": []
    },
    {
      "cell_type": "code",
      "source": [
        "#Break the test dataframe into different groups\n",
        "#Unprotected group is everyone <45\n",
        "#Complement group is everyone >= 45\n",
        "test_demo_df = pd.DataFrame(x_test, columns = predictors)\n",
        "predicted_df = pd.DataFrame(prediction, columns = ['credit_risk_12'])\n",
        "concat_df = pd.concat([test_demo_df,predicted_df], axis=1)\n",
        "\n",
        "#Get the two groups of people totals\n",
        "total_unpriv = (len(concat_df[concat_df['age']<45]))\n",
        "total_priv = (len(concat_df[concat_df['age']>=45]))\n",
        "\n",
        "#Number of people accepted\n",
        "total_credit_unpriv = len(concat_df[(concat_df['credit_risk_12'] == 1) & (concat_df['age'] < 45)])\n",
        "total_credit_priv = len(concat_df[(concat_df['credit_risk_12'] == 1) & (concat_df['age'] >= 45)])\n",
        "\n",
        "#Percentage of approved people\n",
        "p_unpriv = total_credit_unpriv/total_unpriv\n",
        "p_priv = total_credit_priv/total_priv\n",
        "\n",
        "statistical_parity = p_priv - p_unpriv\n",
        "print(f'Statistical Parity: {statistical_parity:.5f}')\n"
      ],
      "metadata": {
        "colab": {
          "base_uri": "https://localhost:8080/"
        },
        "id": "bscY5I-d2tR9",
        "outputId": "d61bee77-4c02-4dbd-a79b-8aa8ef1fb7f0"
      },
      "execution_count": 10,
      "outputs": [
        {
          "output_type": "stream",
          "name": "stdout",
          "text": [
            "Statistical Parity: -0.15625\n"
          ]
        }
      ]
    },
    {
      "cell_type": "code",
      "source": [
        "#Combine x_train and y_train\n",
        "#I combine these so that when I flip the labels I have one DF that I work with\n",
        "#Rather than 2 numpy.ndarrays\n",
        "train_demo_df = pd.DataFrame(x_train, columns = predictors)\n",
        "train_outcome_df = pd.DataFrame(y_train, columns = ['credit_risk'])\n",
        "train_full_df = pd.concat([train_demo_df, train_outcome_df], axis=1)"
      ],
      "metadata": {
        "id": "qEbJR8Ha2wG5"
      },
      "execution_count": 11,
      "outputs": []
    },
    {
      "cell_type": "code",
      "source": [
        "# Obtain predicted probabilities on the training data\n",
        "predicted_probabilities = dt.predict_proba(x_train)"
      ],
      "metadata": {
        "id": "7qug8z1p2yPL"
      },
      "execution_count": 12,
      "outputs": []
    },
    {
      "cell_type": "code",
      "source": [
        "#Make a copy of the original training dataframe to make changes on\n",
        "copy_train_full_df = train_full_df.copy()"
      ],
      "metadata": {
        "id": "SaFtq3Mb20En"
      },
      "execution_count": 13,
      "outputs": []
    },
    {
      "cell_type": "code",
      "source": [
        "#Grab the original label of the DP in the copy dataframe and store in lists along with the index\n",
        "label = []\n",
        "row_index = []\n",
        "for index, row in copy_train_full_df.iterrows():\n",
        "  label.append(copy_train_full_df.at[index,'credit_risk'])\n",
        "  row_index.append(index)\n"
      ],
      "metadata": {
        "id": "8BE2AtNq2b45"
      },
      "execution_count": 14,
      "outputs": []
    },
    {
      "cell_type": "code",
      "source": [
        "#Calculate the first part of the MEU equation\n",
        "MEU_part1_list = []\n",
        "for index, value in enumerate(label):\n",
        "  if value == 1:\n",
        "    prob1 = predicted_probabilities[index,0]\n",
        "    MEU_part1_calc = prob1 * statistical_parity\n",
        "    MEU_part1_list.append(MEU_part1_calc)\n",
        "  elif value == 2:\n",
        "    prob2 = predicted_probabilities[index,1]\n",
        "    MEU_part1_calc = prob2 * statistical_parity\n",
        "    MEU_part1_list.append(MEU_part1_calc)\n"
      ],
      "metadata": {
        "id": "w-JDrxRk_Brn"
      },
      "execution_count": 15,
      "outputs": []
    },
    {
      "cell_type": "code",
      "source": [
        "#Iterate through the copied dataset\n",
        "#Flip each label and calculate the parity\n",
        "\n",
        "#When flipping the label make sure convert the flip before into its original value\n",
        "\n",
        "#Each list holds a different value\n",
        "\n",
        "#list_parity holds each parity value after each flip and recalculation\n",
        "MEU_part2_list_parity = []\n",
        "#list_acc holds the accuracy of each iteration after a flip\n",
        "MEU_part2_list_acc = []\n",
        "#list_flip holds the row number of the flip; starts at 0 and goes through the whole\n",
        "MEU_part2_list_flip = []\n",
        "\n",
        "#Iterating through the training dataset\n",
        "for index, row in copy_train_full_df.iterrows():\n",
        "  #If the row that I am on has the label 1 (credit_risk is the label name) then I will flip it\n",
        "  #And then run the decision_tree function to get the accuracy, the DF that contains datapoints,\n",
        "  #And the DF that contains the predictions\n",
        "  #The two DF's are then combined in the s_parity function to calculate parity\n",
        "    if row['credit_risk'] == 1:\n",
        "      #Flip the label\n",
        "        copy_train_full_df.at[index, 'credit_risk'] = 2\n",
        "\n",
        "        #Run the decision tree function\n",
        "        #train_full_df: training dataset\n",
        "        #predictors: IV's\n",
        "        #target_var: DV's\n",
        "        #'credit_risk12': this is the column that the labels for the test_prediction is in\n",
        "        accuracy,test_datapoints, test_prediction = decision_tree(copy_train_full_df, predictors, target_var, 'credit_risk_12')\n",
        "\n",
        "        #list_flip: contains the row number that has just been flipped\n",
        "        #list_num: contains the accuracy value just calculated\n",
        "        MEU_part2_list_flip.append(index)\n",
        "        MEU_part2_list_acc.append(accuracy)\n",
        "\n",
        "        ##################################################################################\n",
        "        #After calculating the accuracy parity calculation is next\n",
        "        parity = s_parity(test_datapoints, predictors, test_prediction, 'age', 45, 'credit_risk_12')\n",
        "        #list_parity: contains the parity value after the flip\n",
        "        MEU_part2_list_parity.append(parity)\n",
        "\n",
        "        #Flips the label back to its original value\n",
        "        copy_train_full_df.at[index,'credit_risk'] = 1\n",
        "\n",
        "    #Repeats all the same steps as above but this time if the original label is 2\n",
        "    elif row['credit_risk'] == 2:\n",
        "        copy_train_full_df.at[index, 'credit_risk'] = 1\n",
        "\n",
        "        accuracy,test_datapoints, test_prediction = decision_tree(copy_train_full_df, predictors, target_var, 'credit_risk_12')\n",
        "        MEU_part2_list_flip.append(index)\n",
        "        MEU_part2_list_acc.append(accuracy)\n",
        "\n",
        "        ##################################################################################\n",
        "        parity = s_parity(test_datapoints, predictors, test_prediction, 'age', 45, 'credit_risk_12')\n",
        "        MEU_part2_list_parity.append(parity)\n",
        "\n",
        "        copy_train_full_df.at[index,'credit_risk'] = 2"
      ],
      "metadata": {
        "id": "tzGnOA5tvwao"
      },
      "execution_count": 16,
      "outputs": []
    },
    {
      "cell_type": "code",
      "source": [
        "#Second part of the calculation by taking the opposite value\n",
        "MEU_part2_list = []\n",
        "for index, value in enumerate(label):\n",
        "  if value == 1:\n",
        "    prob1 = predicted_probabilities[index,1]\n",
        "    MEU_part2_calc = prob1 * MEU_part2_list_parity[index]\n",
        "    MEU_part2_list.append(MEU_part2_calc)\n",
        "  elif value == 2:\n",
        "    prob2 = predicted_probabilities[index,0]\n",
        "    MEU_part2_calc = prob2 * MEU_part2_list_parity[index]\n",
        "    MEU_part2_list.append(MEU_part2_calc)"
      ],
      "metadata": {
        "id": "Jo3T4fRE9_wD"
      },
      "execution_count": 17,
      "outputs": []
    },
    {
      "cell_type": "code",
      "source": [
        "#Add the two lists together\n",
        "expected_utility_values = []\n",
        "for part1, part2 in zip(MEU_part1_list, MEU_part2_list):\n",
        "    expected_utility_values.append(part1 + part2)"
      ],
      "metadata": {
        "id": "uFtSRMpjDLV5"
      },
      "execution_count": 18,
      "outputs": []
    },
    {
      "cell_type": "code",
      "source": [
        "#Flip the lists so that they are in descending order\n",
        "#Rank the MEUvalues in Increasing order\n",
        "#Match the index list with them\n",
        "\n",
        "#Combine the two lists using zip\n",
        "combined_list = list(zip(expected_utility_values, row_index))\n",
        "\n",
        "#Sort the combined lust based on entropy values in descending order\n",
        "sorted_list = sorted(combined_list, key = lambda x: x[0])\n",
        "\n",
        "#Extract the values\n",
        "sorted_eu_list, sorted_index_list = zip(*sorted_list)"
      ],
      "metadata": {
        "id": "FJd5qlLIDmgD"
      },
      "execution_count": 19,
      "outputs": []
    },
    {
      "cell_type": "code",
      "source": [
        "#Convert each of the tuples into lists\n",
        "ranked_indices_list = list(sorted_index_list)\n",
        "ranked_eu_list = list(sorted_eu_list)\n",
        "\n",
        "#Get the top 500 points in the list\n",
        "top_index_points = ranked_indices_list[:500]\n",
        "top_eu_list = ranked_eu_list[:500]"
      ],
      "metadata": {
        "id": "CEj1TtlnE_wT"
      },
      "execution_count": 20,
      "outputs": []
    },
    {
      "cell_type": "code",
      "source": [
        "#Plot of the information in the order of the flips of parity\n",
        "x=range(len(ranked_eu_list))\n",
        "\n",
        "#Plot the data\n",
        "plt.plot(x,ranked_eu_list)\n",
        "\n",
        "#Add the labels\n",
        "plt.xlabel('Flips')\n",
        "plt.ylabel('Parity')\n",
        "plt.title('Parity over # flips for ranked list')\n",
        "\n",
        "#Show the plot\n",
        "plt.show()"
      ],
      "metadata": {
        "id": "wIfExTuhFMur",
        "outputId": "c571c3e4-736e-4e00-c03e-fdbf23bb4c3c",
        "colab": {
          "base_uri": "https://localhost:8080/",
          "height": 472
        }
      },
      "execution_count": 21,
      "outputs": [
        {
          "output_type": "display_data",
          "data": {
            "text/plain": [
              "<Figure size 640x480 with 1 Axes>"
            ],
            "image/png": "[encoded data removed]"
          },
          "metadata": {}
        }
      ]
    }
  ]
}