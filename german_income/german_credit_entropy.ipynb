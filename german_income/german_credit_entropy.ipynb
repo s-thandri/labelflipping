{
  "nbformat": 4,
  "nbformat_minor": 0,
  "metadata": {
    "colab": {
      "provenance": [],
      "authorship_tag": "ABX9TyMii7q3K0seHc10HFYtkNhF",
      "include_colab_link": true
    },
    "kernelspec": {
      "name": "python3",
      "display_name": "Python 3"
    },
    "language_info": {
      "name": "python"
    }
  },
  "cells": [
    {
      "cell_type": "markdown",
      "metadata": {
        "id": "view-in-github",
        "colab_type": "text"
      },
      "source": [
        "<a href=\"https://colab.research.google.com/github/s-thandri/labelflipping/blob/main/german_income/german_credit_entropy.ipynb\" target=\"_parent\"><img src=\"https://colab.research.google.com/assets/colab-badge.svg\" alt=\"Open In Colab\"/></a>"
      ]
    },
    {
      "cell_type": "code",
      "execution_count": 1,
      "metadata": {
        "id": "RZtss2XTd0X3"
      },
      "outputs": [],
      "source": [
        "#Imports some of the libraries that we will be using\n",
        "import pandas as pd\n",
        "import numpy as np\n",
        "import warnings\n",
        "from sklearn.linear_model import LogisticRegression\n",
        "from sklearn.model_selection import cross_val_score, train_test_split\n",
        "from sklearn import metrics\n",
        "from sklearn.tree import DecisionTreeClassifier\n",
        "from sklearn import tree\n",
        "from sklearn.metrics import accuracy_score\n",
        "import matplotlib.pyplot as plt\n",
        "import math\n",
        "warnings.filterwarnings('ignore')\n"
      ]
    },
    {
      "cell_type": "code",
      "source": [
        "#This function is being used to calculate the statistical parity of the data set\n",
        "#test_data: The original data frame containing the test data\n",
        "#predictors: List of the all the column names AKA IV's\n",
        "#prediction_df: Contains the predicitons made by the DT model\n",
        "#sensitive_attr: Name of the sensitive attr\n",
        "#sensitive_attr_cutoff: Cut off value for sensitive attr\n",
        "#concat_col: Name of column I am creating new dataframe on\n",
        "def s_parity(test_data, predictors, prediction_df, sensitive_attr, sensitive_attr_cutoff, concat_col):\n",
        "    #Creating a new DF that contains all the datapoints from the test data and the predictions made from LR model\n",
        "    #Concat_col: credit_risk_12\n",
        "    test_demo_df = pd.DataFrame(test_data, columns = predictors)\n",
        "    predicted_df = pd.DataFrame(prediction_df, columns = [concat_col])\n",
        "    concat_df = pd.concat([test_demo_df,predicted_df], axis=1)\n",
        "\n",
        "    #Get the two groups of people totals\n",
        "    total_unpriv = (len(concat_df[concat_df[sensitive_attr]<sensitive_attr_cutoff]))\n",
        "    total_priv = (len(concat_df[concat_df[sensitive_attr]>=sensitive_attr_cutoff]))\n",
        "\n",
        "    #Number of people accepted\n",
        "    total_credit_unpriv = len(concat_df[(concat_df[concat_col] == 1) & (concat_df[sensitive_attr] < sensitive_attr_cutoff)])\n",
        "    total_credit_priv = len(concat_df[(concat_df[concat_col] == 1) & (concat_df[sensitive_attr] >= sensitive_attr_cutoff)])\n",
        "\n",
        "    #Percentage of approved people\n",
        "    p_unpriv = total_credit_unpriv/total_unpriv\n",
        "    p_priv = total_credit_priv/total_priv\n",
        "\n",
        "\n",
        "    #Calculate the parity\n",
        "    parity = p_priv - p_unpriv\n",
        "\n",
        "\n",
        "    return parity"
      ],
      "metadata": {
        "id": "Ua8MYr-aeu32"
      },
      "execution_count": 2,
      "outputs": []
    },
    {
      "cell_type": "code",
      "source": [
        "#Make changes to make more efficient\n",
        "#Function used to run the DT model\n",
        "#train_dataset: Training dataset to train the model\n",
        "#independent_var: Column names\n",
        "#dependent_var: Prediction column name\n",
        "#concat_col: Name of column creating new DF on\n",
        "def decision_tree(train_dataset, independent_var, dependent_var, concat_col):\n",
        "        #Split the data up into train and test values and then run the DT model\n",
        "        #These steps aren't neccessary to consistenly do over and over again\n",
        "        x = train_dataset[independent_var].values\n",
        "        y = train_dataset[dependent_var].values\n",
        "        x_train, x_test, y_train, y_test = train_test_split(x, y, test_size=0.2,random_state=622)\n",
        "        clf = DecisionTreeClassifier(criterion = 'entropy',max_depth = 3, min_samples_leaf=5)\n",
        "        log = clf.fit(x_train,y_train)\n",
        "        prediction = log.predict(x_test)\n",
        "\n",
        "        #Printing the Overall accuracy of the model after one run\n",
        "        #F1_Score=metrics.f1_score(y_test, prediction, average='weighted')\n",
        "        #file.write(f'\\nAccuracy of the model on Testing Sample Data: {F1_Score}')\n",
        "\n",
        "        #Prints out the average across all ten run throughs\n",
        "        #Accuracy_Values=cross_val_score(log, x , y, cv=10, scoring='f1_weighted')\n",
        "\n",
        "        accuracy = accuracy_score(y_test,prediction)*100\n",
        "\n",
        "        #After running the model I return a df with the datapoints and the labels\n",
        "        test_demo_df = pd.DataFrame(x_test, columns = independent_var)\n",
        "        #Concat_col: credit_risk_12\n",
        "        predicted_df = pd.DataFrame(prediction, columns = [concat_col])\n",
        "\n",
        "        return accuracy, test_demo_df, predicted_df"
      ],
      "metadata": {
        "id": "bgV4uG0Qey_o"
      },
      "execution_count": 3,
      "outputs": []
    },
    {
      "cell_type": "code",
      "source": [
        "#Defining the columns and creating the Dataframe with all 1000 datapoints\n",
        "columns = [\"checking_account_status\", \"duration\", \"credit_history\", \"purpose\", \"credit_amount\", \"savings_account_status\", \"employment_status\", \"installment_rate\", \"personal_status\", \"other_debtors\", \"residence_since\", \"property\", \"age\", \"other_installment_plans\", \"housing\", \"existing_credits\", \"job\", \"num_dependents\", \"telephone\", \"foreign_worker\", \"credit_risk\"]\n",
        "german_df = pd.read_table('german.data', header = None, delim_whitespace=True, names = columns)"
      ],
      "metadata": {
        "id": "tCVGpcQ1gLwp"
      },
      "execution_count": 4,
      "outputs": []
    },
    {
      "cell_type": "code",
      "source": [
        "#Encode all the non-numeric columns with dummies\n",
        "encoded_data=pd.get_dummies(german_df,columns=['checking_account_status','credit_history','savings_account_status','employment_status','personal_status','other_debtors','property','other_installment_plans','housing','job','telephone','foreign_worker','purpose'], drop_first=True)"
      ],
      "metadata": {
        "id": "B1zH_emegZ7G"
      },
      "execution_count": 5,
      "outputs": []
    },
    {
      "cell_type": "code",
      "source": [
        "# Preprocess labels (assuming labels are 1 for good and 2 for bad)\n",
        "#encoded_data['credit_risk'] = encoded_data['credit_risk'].apply(lambda x: 0 if x == 2 else 1)"
      ],
      "metadata": {
        "id": "uEzv5UJUxmqH"
      },
      "execution_count": 6,
      "outputs": []
    },
    {
      "cell_type": "code",
      "source": [
        "#Initialize all the different columns including predictors and target variable\n",
        "encoded_data.columns\n",
        "target_var = 'credit_risk'\n",
        "predictors = ['duration', 'credit_amount', 'installment_rate',\n",
        "       'residence_since', 'age', 'existing_credits', 'num_dependents',\n",
        "       'checking_account_status_A12',\n",
        "       'checking_account_status_A13', 'checking_account_status_A14',\n",
        "       'credit_history_A31', 'credit_history_A32', 'credit_history_A33',\n",
        "       'credit_history_A34', 'savings_account_status_A62',\n",
        "       'savings_account_status_A63', 'savings_account_status_A64',\n",
        "       'savings_account_status_A65', 'employment_status_A72',\n",
        "       'employment_status_A73', 'employment_status_A74',\n",
        "       'employment_status_A75', 'personal_status_A92', 'personal_status_A93',\n",
        "       'personal_status_A94', 'other_debtors_A102', 'other_debtors_A103',\n",
        "       'property_A122', 'property_A123', 'property_A124',\n",
        "       'other_installment_plans_A142', 'other_installment_plans_A143',\n",
        "       'housing_A152', 'housing_A153', 'job_A172', 'job_A173', 'job_A174',\n",
        "       'telephone_A192', 'foreign_worker_A202']\n"
      ],
      "metadata": {
        "id": "9Kp5us1KglLW"
      },
      "execution_count": 7,
      "outputs": []
    },
    {
      "cell_type": "code",
      "source": [
        "#Setting the columns to each part of the decision tree\n",
        "#x conatins the IV's\n",
        "#y contains the DV\n",
        "x = encoded_data[predictors].values\n",
        "y = encoded_data[target_var].values"
      ],
      "metadata": {
        "id": "ySqcPsGtgmAT"
      },
      "execution_count": 8,
      "outputs": []
    },
    {
      "cell_type": "code",
      "source": [
        "x_train, x_test, y_train, y_test = train_test_split(x, y, test_size=0.2, random_state=310)\n",
        "#X-train is all the data points for training\n",
        "#y_train contains the labels for each of the training data points\n",
        "#x_test contains all the testing data points\n",
        "#y_test contains the ground truth for each of the test data points"
      ],
      "metadata": {
        "id": "Bjd9syEJgpqG"
      },
      "execution_count": 9,
      "outputs": []
    },
    {
      "cell_type": "code",
      "source": [
        "#Run the DT classifier\n",
        "clf = DecisionTreeClassifier(criterion = 'entropy', max_depth = 3, min_samples_leaf=5)\n",
        "dt = clf.fit(x_train,y_train)\n",
        "prediction = dt.predict(x_test)\n",
        "prediction_prob = dt.predict_proba(x_test)"
      ],
      "metadata": {
        "id": "t_RxcTu_gsvO"
      },
      "execution_count": 10,
      "outputs": []
    },
    {
      "cell_type": "code",
      "source": [
        "#Break the test dataframe into different groups\n",
        "#Unprotected group is everyone <45\n",
        "#Complement group is everyone >= 45\n",
        "test_demo_df = pd.DataFrame(x_test, columns = predictors)\n",
        "predicted_df = pd.DataFrame(prediction, columns = ['credit_risk_12'])\n",
        "concat_df = pd.concat([test_demo_df,predicted_df], axis=1)\n",
        "\n",
        "#Get the two groups of people totals\n",
        "total_unpriv = (len(concat_df[concat_df['age']<45]))\n",
        "total_priv = (len(concat_df[concat_df['age']>=45]))\n",
        "\n",
        "#Number of people accepted\n",
        "total_credit_unpriv = len(concat_df[(concat_df['credit_risk_12'] == 1) & (concat_df['age'] < 45)])\n",
        "total_credit_priv = len(concat_df[(concat_df['credit_risk_12'] == 1) & (concat_df['age'] >= 45)])\n",
        "\n",
        "#Percentage of approved people\n",
        "p_unpriv = total_credit_unpriv/total_unpriv\n",
        "p_priv = total_credit_priv/total_priv\n",
        "\n",
        "statistical_parity = p_priv - p_unpriv\n",
        "print(f'Statistical Parity: {statistical_parity:.5f}')\n"
      ],
      "metadata": {
        "colab": {
          "base_uri": "https://localhost:8080/"
        },
        "id": "iH9L3TPTg4x4",
        "outputId": "82a51df7-0f22-4333-cbbf-b5e391359873"
      },
      "execution_count": 11,
      "outputs": [
        {
          "output_type": "stream",
          "name": "stdout",
          "text": [
            "Statistical Parity: -0.15625\n"
          ]
        }
      ]
    },
    {
      "cell_type": "code",
      "source": [
        "#Combine x_train and y_train\n",
        "#I combine these so that when I flip the labels I have one DF that I work with\n",
        "#Rather than 2 numpy.ndarrays\n",
        "train_demo_df = pd.DataFrame(x_train, columns = predictors)\n",
        "train_outcome_df = pd.DataFrame(y_train, columns = ['credit_risk'])\n",
        "train_full_df = pd.concat([train_demo_df, train_outcome_df], axis=1)"
      ],
      "metadata": {
        "id": "rLfNWdlog9Ix"
      },
      "execution_count": 12,
      "outputs": []
    },
    {
      "cell_type": "code",
      "source": [
        "# Obtain predicted probabilities on the training data\n",
        "predicted_probabilities = dt.predict_proba(x_train)"
      ],
      "metadata": {
        "id": "BQASpkCrxd2b"
      },
      "execution_count": 13,
      "outputs": []
    },
    {
      "cell_type": "code",
      "source": [
        "#Log base two would be: log = math.log(x,2)\n",
        "#Entropy equation would then be: -1*(p1((math.log(p1,2))+p2*(math.log(p2,2)))\n",
        "\n",
        "#In the predicted_probabilities: first value is 1 (which is good), second value is 2(which is bad)\n",
        "\n",
        "#Loop through the predicted_probabilities array and calculate values\n",
        "#One list will contain the index of each row in the table and the other will contain the entropy value of each row\n",
        "\n",
        "index_list = []\n",
        "entropy_list = []\n",
        "\n",
        "for index, value in enumerate(predicted_probabilities):\n",
        "  #Calculate p1 and p2\n",
        "  p1=predicted_probabilities[index,0]\n",
        "  p2=predicted_probabilities[index,1]\n",
        "  #Calculate entropy in 3 steps\n",
        "  entropy_calc1 = p1 * math.log(p1,2)\n",
        "  entropy_calc2 = p2 * math.log(p2,2)\n",
        "  entropy_final = -1 * (entropy_calc1 + entropy_calc2)\n",
        "\n",
        "  #Append the values to their respective lists\n",
        "  index_list.append(index)\n",
        "  entropy_list.append(entropy_final)\n"
      ],
      "metadata": {
        "id": "QDP_JGTwz-FN"
      },
      "execution_count": 14,
      "outputs": []
    },
    {
      "cell_type": "code",
      "source": [
        "#Rank the entropy values in decreasing order\n",
        "#Match the index list with them\n",
        "\n",
        "#Combine the two lists using zip\n",
        "combined_list = list(zip(entropy_list, index_list))\n",
        "\n",
        "#Sort the combined lust based on entropy values in descending order\n",
        "sorted_list = sorted(combined_list, key = lambda x: x[0], reverse=True)\n",
        "\n",
        "#Extract the values\n",
        "sorted_ent_list, sorted_index_list = zip(*sorted_list)"
      ],
      "metadata": {
        "id": "6pVB3DVo_dOq"
      },
      "execution_count": 15,
      "outputs": []
    },
    {
      "cell_type": "code",
      "source": [
        "train_full_df['credit_risk'] = train_full_df['credit_risk'].astype('int')"
      ],
      "metadata": {
        "id": "SFS0TR6oYfqV"
      },
      "execution_count": 16,
      "outputs": []
    },
    {
      "cell_type": "code",
      "source": [
        "#Convert each of the tuples into lists\n",
        "ranked_indices_list = list(sorted_index_list)\n",
        "ranked_entropy_list = list(sorted_ent_list)\n",
        "\n",
        "#Get the top 500 points in the list\n",
        "top_index_points = ranked_indices_list[:500]\n",
        "top_entropy_list = ranked_entropy_list[:500]"
      ],
      "metadata": {
        "id": "ml5Vl9oOdFPV"
      },
      "execution_count": 17,
      "outputs": []
    },
    {
      "cell_type": "code",
      "source": [
        "#After ranking and getting the tope 500 points I flip them based on where they are in the list\n",
        "\n",
        "#Different lists to hold each of the values\n",
        "ranked_parity = []\n",
        "ranked_acc = []\n",
        "ranked_flip = []\n",
        "\n",
        "row_num = 0\n",
        "\n",
        "#Go through the training dataset and flip the points based on their entropy levels\n",
        "for row in range(len(top_index_points)):\n",
        "  row_num = ranked_indices_list[row]\n",
        "\n",
        "  if train_full_df.at[row_num,'credit_risk'] == 1:\n",
        "    train_full_df.at[row_num,'credit_risk'] = 2\n",
        "    accuracy,test_datapoints, test_prediction = decision_tree(train_full_df, predictors, target_var, 'credit_risk_12')\n",
        "\n",
        "    ranked_flip.append(row_num)\n",
        "    ranked_acc.append(accuracy)\n",
        "\n",
        "    parity = s_parity(test_datapoints, predictors, test_prediction, 'age', 45, 'credit_risk_12')\n",
        "    ranked_parity.append(parity)\n",
        "\n",
        "  elif train_full_df.at[row_num, 'credit_risk'] == 2:\n",
        "    train_full_df.at[row_num,'credit_risk'] = 1\n",
        "    accuracy,test_datapoints, test_prediction = decision_tree(train_full_df, predictors, target_var, 'credit_risk_12')\n",
        "\n",
        "    ranked_flip.append(row_num)\n",
        "    ranked_acc.append(accuracy)\n",
        "\n",
        "    parity = s_parity(test_datapoints, predictors, test_prediction, 'age', 45, 'credit_risk_12')\n",
        "    ranked_parity.append(parity)\n"
      ],
      "metadata": {
        "id": "rAga7pCAvfnI"
      },
      "execution_count": null,
      "outputs": []
    },
    {
      "cell_type": "code",
      "source": [
        "#Plot of the information in the order of the flips of parity\n",
        "x=range(len(ranked_parity))\n",
        "\n",
        "#Plot the data\n",
        "plt.plot(x,ranked_parity)\n",
        "\n",
        "#Add the labels\n",
        "plt.xlabel('Flips')\n",
        "plt.ylabel('Parity')\n",
        "plt.title('Parity over # flips for ranked list')\n",
        "\n",
        "#Show the plot\n",
        "plt.show()"
      ],
      "metadata": {
        "id": "K2Racrkm1rjo",
        "outputId": "c959c35c-54c8-449b-9f91-cd7c114b022f",
        "colab": {
          "base_uri": "https://localhost:8080/",
          "height": 472
        }
      },
      "execution_count": 19,
      "outputs": [
        {
          "output_type": "display_data",
          "data": {
            "text/plain": [
              "<Figure size 640x480 with 1 Axes>"
            ],
            "image/png": "[encoded data removed]"
          },
          "metadata": {}
        }
      ]
    }
  ]
}