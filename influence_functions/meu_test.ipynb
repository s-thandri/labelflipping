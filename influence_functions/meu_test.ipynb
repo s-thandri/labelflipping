{
 "cells": [
  {
   "cell_type": "code",
   "execution_count": 1,
   "metadata": {},
   "outputs": [],
   "source": [
    "#Imports some of the libraries that we will be using\n",
    "import pandas as pd\n",
    "import numpy as np\n",
    "import math\n",
    "import warnings\n",
    "from sklearn.linear_model import LogisticRegression\n",
    "from sklearn.model_selection import cross_val_score, train_test_split\n",
    "from sklearn import metrics\n",
    "from sklearn import tree\n",
    "from sklearn.metrics import accuracy_score\n",
    "import matplotlib.pyplot as plt\n",
    "import time\n",
    "warnings.filterwarnings('ignore')"
   ]
  },
  {
   "cell_type": "code",
   "execution_count": 2,
   "metadata": {},
   "outputs": [
    {
     "name": "stdout",
     "output_type": "stream",
     "text": [
      "['acs_income.csv', 'acs_influence 1.ipynb', 'acs_influence all solutions.ipynb', 'acs_influence_new.ipynb', 'adult.data', 'adult.test', 'adult_influence 1.ipynb', 'adult_influence copy.ipynb', 'classifier.py', 'compas-scores-two-years.csv', 'compas_influence 1.ipynb', 'compas_influence.ipynb', 'config.json', 'entropy_test.ipynb', 'expl.py', 'functions.py', 'german.data', 'german_influence 1 copy.ipynb', 'german_influence 1.ipynb', 'german_influence.ipynb', 'influence.py', 'influence_functions.ipynb', 'load_dataset.py', 'loss.py', 'metrics.py', 'meu_test.ipynb', 'random_influence.ipynb', 'sqf_influence 1.ipynb', 'sqf_influence.ipynb', 'sqf_test.csv', 'sqf_train.csv', 'utils.py', '__pycache__']\n"
     ]
    }
   ],
   "source": [
    "from load_dataset import load\n",
    "from classifier import NeuralNetwork, Logistic_Regression, SVM\n",
    "from utils import *\n",
    "from metrics import *  # include fairness and corresponding derivatives\n",
    "from expl import explanation_candidate_generation, get_top_k_expl\n",
    "from influence import *"
   ]
  },
  {
   "cell_type": "code",
   "execution_count": 3,
   "metadata": {},
   "outputs": [],
   "source": [
    "#Function to run the logistic regression model based on classifier.py\n",
    "def lr_model(training_df, test_attr_df, classifier):\n",
    "    changed_df_labels = training_df.pop('is_recid')\n",
    "    changed_df_attr = training_df.to_numpy()\n",
    "\n",
    "    classifier.fit(changed_df_attr,changed_df_labels.values)\n",
    "    y_predicted = classifier.predict_proba(test_attr_df)\n",
    "\n",
    "    training_df['is_recid'] = changed_df_labels\n",
    "\n",
    "    return y_predicted\n"
   ]
  },
  {
   "cell_type": "markdown",
   "metadata": {},
   "source": [
    "<h4>Removal Based Influence Calculation<h4>"
   ]
  },
  {
   "cell_type": "code",
   "execution_count": 4,
   "metadata": {},
   "outputs": [],
   "source": [
    "dataset = 'compas'\n",
    "clf_name = 'Logistic_Regression'\n",
    "metric = 0\n",
    "support = 0.05\n",
    "support_small = 0.3"
   ]
  },
  {
   "cell_type": "code",
   "execution_count": 5,
   "metadata": {},
   "outputs": [],
   "source": [
    "X_train, X_test, y_train, y_test = load(dataset)"
   ]
  },
  {
   "cell_type": "code",
   "execution_count": 6,
   "metadata": {},
   "outputs": [],
   "source": [
    "duplicates = 1\n",
    "make_duplicates = lambda x, d: pd.concat([x]*d, axis=0).reset_index(drop=True)\n",
    "X_train = make_duplicates(X_train, duplicates)\n",
    "X_test = make_duplicates(X_test, duplicates)\n",
    "y_train = make_duplicates(y_train, duplicates)\n",
    "y_test = make_duplicates(y_test, duplicates)"
   ]
  },
  {
   "cell_type": "code",
   "execution_count": 7,
   "metadata": {},
   "outputs": [],
   "source": [
    "# ensuring that 1 is favorable.\n",
    "y_train = 1 - y_train"
   ]
  },
  {
   "cell_type": "code",
   "execution_count": 8,
   "metadata": {},
   "outputs": [],
   "source": [
    "import copy\n",
    "X_train_orig = copy.deepcopy(X_train)\n",
    "X_test_orig = copy.deepcopy(X_test)\n",
    "\n",
    "from sklearn.preprocessing import StandardScaler\n",
    "sc = StandardScaler()\n",
    "X_train = sc.fit_transform(X_train)\n",
    "X_test = sc.transform(X_test)"
   ]
  },
  {
   "cell_type": "code",
   "execution_count": 9,
   "metadata": {},
   "outputs": [],
   "source": [
    "predictors = ['event', 'priors_count', 'juv_other_count', 'juv_misd_count',\n",
    "       'juv_fel_count', 'race', 'age_cat', 'sex', 'score_text']\n",
    "target_var =['is_recid']"
   ]
  },
  {
   "cell_type": "code",
   "execution_count": 10,
   "metadata": {},
   "outputs": [],
   "source": [
    "#Combine x_train and y_train\n",
    "#I combine these so that when I flip the labels I have one DF that I work with\n",
    "#Rather than 2 numpy.ndarrays\n",
    "train_demo_df = pd.DataFrame(X_train, columns = predictors)\n",
    "train_outcome_df = y_train.to_frame()\n",
    "#train_outcome_df=train_outcome_df.rename(columns={'credit':'credit_risk'})\n",
    "train_full_df = pd.concat([train_demo_df, train_outcome_df], axis=1)"
   ]
  },
  {
   "cell_type": "code",
   "execution_count": 11,
   "metadata": {},
   "outputs": [],
   "source": [
    "clf = eval(clf_name)(input_size=X_train.shape[-1])\n",
    "\n",
    "num_params = len(convert_grad_to_ndarray(list(clf.parameters())))\n",
    "if isinstance(clf, Logistic_Regression):\n",
    "    loss_func = logistic_loss_torch\n",
    "elif isinstance(clf, SVM):\n",
    "    loss_func = svm_loss_torch\n",
    "elif isinstance(clf, NeuralNetwork):\n",
    "    loss_func = nn_loss_torch\n",
    "else:\n",
    "    raise NotImplementedError"
   ]
  },
  {
   "cell_type": "code",
   "execution_count": 12,
   "metadata": {},
   "outputs": [
    {
     "name": "stdout",
     "output_type": "stream",
     "text": [
      "Initial statistical parity:  -0.10727925675760025\n",
      "Initial TPR parity:  -0.04645962689765579\n",
      "Initial predictive parity:  0.053294977119753506\n",
      "Initial accuracy:  0.09147609147609148\n"
     ]
    }
   ],
   "source": [
    "clf = eval(clf_name)(input_size=X_train.shape[-1])\n",
    "\n",
    "clf.fit(X_train, y_train)\n",
    "\n",
    "y_pred_test = clf.predict_proba(X_test)\n",
    "y_pred_train = clf.predict_proba(X_train)\n",
    "\n",
    "spd_0 = computeFairness(y_pred_test, X_test_orig, y_test, 0, dataset)\n",
    "print(\"Initial statistical parity: \", spd_0)\n",
    "\n",
    "tpr_parity_0 = computeFairness(y_pred_test, X_test_orig, y_test, 1, dataset)\n",
    "print(\"Initial TPR parity: \", tpr_parity_0)\n",
    "\n",
    "predictive_parity_0 = computeFairness(y_pred_test, X_test_orig, y_test, 2, dataset)\n",
    "print(\"Initial predictive parity: \", predictive_parity_0)\n",
    "\n",
    "accuracy_0 = computeAccuracy(y_test, y_pred_test)\n",
    "print(\"Initial accuracy: \", accuracy_0)"
   ]
  },
  {
   "cell_type": "markdown",
   "metadata": {},
   "source": [
    "<h2>MEU<h2>"
   ]
  },
  {
   "cell_type": "code",
   "execution_count": 13,
   "metadata": {},
   "outputs": [],
   "source": [
    "#copy of training data\n",
    "meu_training_df = train_full_df.copy()"
   ]
  },
  {
   "cell_type": "code",
   "execution_count": 14,
   "metadata": {},
   "outputs": [],
   "source": [
    "#get the predicted probabilities of the original label\n",
    "orig_meu_prob = clf.predict_proba(X_train)"
   ]
  },
  {
   "cell_type": "code",
   "execution_count": 15,
   "metadata": {},
   "outputs": [],
   "source": [
    "#Grab the original of the DP in the copy dataframe and sotre in lists along with the index\n",
    "label = []\n",
    "row_index = []\n",
    "for index, row in meu_training_df.iterrows():\n",
    "    label.append(meu_training_df.at[index,'is_recid'])\n",
    "    row_index.append(index)"
   ]
  },
  {
   "cell_type": "code",
   "execution_count": 16,
   "metadata": {},
   "outputs": [],
   "source": [
    "#Calculate the first part of the MEU equation\n",
    "meu_part1_list = []\n",
    "for index, value in enumerate(label):\n",
    "    if value == 1:\n",
    "        prob1 = orig_meu_prob[index]\n",
    "        meu_part1_calc = prob1 * spd_0\n",
    "        meu_part1_list.append(meu_part1_calc)\n",
    "    elif value == 0:\n",
    "        prob2 = orig_meu_prob[index]\n",
    "        meu_part1_calc = prob2 * spd_0\n",
    "        meu_part1_list.append(meu_part1_calc)"
   ]
  },
  {
   "cell_type": "markdown",
   "metadata": {},
   "source": [
    "<h4>MEU Part 2<h4>"
   ]
  },
  {
   "cell_type": "code",
   "execution_count": 17,
   "metadata": {},
   "outputs": [],
   "source": [
    "#fresh copy of data with flipped label\n",
    "flipped_train_demo_df = pd.DataFrame(X_train, columns = predictors)\n",
    "flipped_train_outcome_df = y_train.to_frame()\n",
    "#flipped_train_outcome_df=flipped_train_outcome_df.rename(columns={'credit':'credit_risk'})\n",
    "flipped_train_full_df = pd.concat([flipped_train_demo_df, flipped_train_outcome_df], axis=1)"
   ]
  },
  {
   "cell_type": "code",
   "execution_count": 18,
   "metadata": {},
   "outputs": [],
   "source": [
    "#predict probabilities on the X_train but then do 1-value on each value to get the flipped probability\n",
    "flipped_meu_prob = clf.predict_proba(X_train)\n",
    "flipped_meu_prob = 1 - flipped_meu_prob"
   ]
  },
  {
   "cell_type": "code",
   "execution_count": 19,
   "metadata": {},
   "outputs": [],
   "source": [
    "#flip data labels and re-transform the data\n",
    "meu_training_df_flipped = flipped_train_full_df.copy()\n",
    "meu_training_df_flipped['is_recid'] = meu_training_df_flipped['is_recid'].apply(lambda x: 1 if x == 0 else 0)"
   ]
  },
  {
   "cell_type": "code",
   "execution_count": 20,
   "metadata": {},
   "outputs": [],
   "source": [
    "#Iterate through the copied dataset and flip each lable and calculate the parity\n",
    "\n",
    "meu_part2_parity_list = []\n",
    "\n",
    "for idx, row in meu_training_df_flipped.iterrows():\n",
    "    #If the row is positive then flip it to negative\n",
    "    if row['is_recid'] == 1:\n",
    "        meu_training_df_flipped.at[index,'is_recid']= 0\n",
    "        meu_pred = lr_model(meu_training_df_flipped, X_test, clf)\n",
    "        meu_parity = computeFairness(meu_pred, X_test_orig, y_test, 0, dataset)\n",
    "        meu_part2_parity_list.append(meu_parity)\n",
    "        meu_training_df_flipped.at[index,'is_recid'] = 1\n",
    "    #If negative then flip to positive\n",
    "    elif row['is_recid'] == 0:\n",
    "        meu_training_df_flipped.at[index,'is_recid']= 1\n",
    "        meu_pred = lr_model(meu_training_df_flipped, X_test, clf)\n",
    "        meu_parity = computeFairness(meu_pred, X_test_orig, y_test, 0, dataset)\n",
    "        meu_part2_parity_list.append(meu_parity)\n",
    "        meu_training_df_flipped.at[index,'is_recid'] = 0"
   ]
  },
  {
   "cell_type": "code",
   "execution_count": 21,
   "metadata": {},
   "outputs": [],
   "source": [
    "#Second part of the calculation by taking the opposite value\n",
    "meu_part2_list = []\n",
    "for index, value in enumerate(label):\n",
    "    if value == 0:\n",
    "        prob0 = flipped_meu_prob[index]\n",
    "        meu_part2_calc = prob0 * meu_part2_parity_list[index]\n",
    "    elif value == 1:\n",
    "        prob1 = flipped_meu_prob[index]\n",
    "        meu_part2_calc = prob1 * meu_part2_parity_list[index]\n",
    "    meu_part2_list.append(meu_part2_calc)"
   ]
  },
  {
   "cell_type": "code",
   "execution_count": 22,
   "metadata": {},
   "outputs": [],
   "source": [
    " #Add the two lists together\n",
    "expected_utility_values = []\n",
    "for part1, part2 in zip(meu_part1_list, meu_part2_list):\n",
    "    expected_utility_values.append(part1+part2)"
   ]
  },
  {
   "cell_type": "code",
   "execution_count": 23,
   "metadata": {},
   "outputs": [],
   "source": [
    "#EU - OG Parity = new ranked values\n",
    "new_ranked_value = []\n",
    "for value in expected_utility_values:\n",
    "    new_ranked_value.append(value - spd_0)"
   ]
  },
  {
   "cell_type": "code",
   "execution_count": 24,
   "metadata": {},
   "outputs": [],
   "source": [
    "#Rank the values\n",
    "combined_list = list(zip(new_ranked_value,row_index))\n",
    "sorted_list = sorted(combined_list, key = lambda x: x[0], reverse=True)\n",
    "sorted_eu_list, sorted_index_list = zip(*sorted_list)\n",
    "meu_end = time.time()"
   ]
  },
  {
   "cell_type": "code",
   "execution_count": 25,
   "metadata": {},
   "outputs": [],
   "source": [
    "#After ranking flip the values\n",
    "meu_ranked_parity_list = []\n",
    "\n",
    "for row in range(len(sorted_index_list)):\n",
    "    row_num = sorted_index_list[row]\n",
    "    \n",
    "    if meu_training_df.at[row_num,'is_recid'] == 1:\n",
    "        meu_training_df.at[row_num, 'is_recid'] = 0\n",
    "        meu_pred = lr_model(meu_training_df, X_test, clf)\n",
    "        meu_ranked_parity = computeFairness(meu_pred, X_test_orig, y_test, 0, dataset)\n",
    "        meu_ranked_parity_list.append(meu_ranked_parity)\n",
    "    elif meu_training_df.at[row_num, 'is_recid'] == 0:\n",
    "        meu_training_df.at[row_num, 'is_recid'] = 1\n",
    "        meu_pred = lr_model(meu_training_df, X_test, clf)\n",
    "        meu_ranked_parity = computeFairness(meu_pred, X_test_orig, y_test, 0, dataset)\n",
    "        meu_ranked_parity_list.append(meu_ranked_parity)"
   ]
  },
  {
   "cell_type": "code",
   "execution_count": 26,
   "metadata": {},
   "outputs": [
    {
     "data": {
      "image/png": "[encoded data removed]",
      "text/plain": [
       "<Figure size 640x480 with 1 Axes>"
      ]
     },
     "metadata": {},
     "output_type": "display_data"
    }
   ],
   "source": [
    "datapoints_meu = len(meu_ranked_parity_list)\n",
    "\n",
    "#indices at 10 points along the graph\n",
    "indices = [int(i * datapoints_meu / 10) for i in range(0, 10)]\n",
    "\n",
    "# Extract the values at these indices\n",
    "# values_meu = [meu_ranked_parity_list[index] for index in indices]\n",
    "values_meu = []\n",
    "values_meu.append(spd_0)\n",
    "for index in range(1, len(indices) + 1):\n",
    "    values_meu.append(meu_ranked_parity_list[index * 80 - 1])\n",
    "\n",
    "#Plot the Values\n",
    "plt.plot([0, 10, 20, 30, 40, 50, 60, 70, 80, 90, 100], values_meu, label='MEU Flipping', color='Blue', marker = '*')\n",
    "\n",
    "# Add labels and legend\n",
    "plt.xlabel('Percentage of Data Points')\n",
    "plt.ylabel('Values')\n",
    "plt.title('Graph of Data Points')\n",
    "plt.legend()\n",
    "\n",
    "# Show the plot\n",
    "plt.show()"
   ]
  }
 ],
 "metadata": {
  "kernelspec": {
   "display_name": "base",
   "language": "python",
   "name": "python3"
  },
  "language_info": {
   "codemirror_mode": {
    "name": "ipython",
    "version": 3
   },
   "file_extension": ".py",
   "mimetype": "text/x-python",
   "name": "python",
   "nbconvert_exporter": "python",
   "pygments_lexer": "ipython3",
   "version": "3.11.7"
  }
 },
 "nbformat": 4,
 "nbformat_minor": 2
}
