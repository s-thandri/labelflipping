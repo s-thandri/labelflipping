{
 "cells": [
  {
   "cell_type": "code",
   "execution_count": 1,
   "metadata": {},
   "outputs": [],
   "source": [
    "#Imports some of the libraries that we will be using\n",
    "import pandas as pd\n",
    "import numpy as np\n",
    "import math\n",
    "import warnings\n",
    "from sklearn.linear_model import LogisticRegression\n",
    "from sklearn.model_selection import cross_val_score, train_test_split\n",
    "from sklearn import metrics\n",
    "from sklearn import tree\n",
    "from sklearn.metrics import accuracy_score\n",
    "import matplotlib.pyplot as plt\n",
    "import time\n",
    "warnings.filterwarnings('ignore')\n"
   ]
  },
  {
   "cell_type": "code",
   "execution_count": 2,
   "metadata": {},
   "outputs": [
    {
     "name": "stdout",
     "output_type": "stream",
     "text": [
      "['acs_income.csv', 'acs_influence.ipynb', 'adult.data', 'adult.test', 'adult_influence.ipynb', 'classifier.py', 'compas-scores-two-years.csv', 'compas_influence.ipynb', 'config.json', 'expl.py', 'functions.py', 'german.data', 'german_influence.ipynb', 'influence.py', 'load_dataset.py', 'loss.py', 'metrics.py', 'utils.py', '__pycache__']\n"
     ]
    }
   ],
   "source": [
    "from load_dataset import load, load_acsincome, load_compas\n",
    "from classifier import NeuralNetwork, Logistic_Regression, SVM\n",
    "from utils import *\n",
    "from metrics import *  # include fairness and corresponding derivatives\n",
    "from expl import explanation_candidate_generation, get_top_k_expl\n",
    "from influence import *"
   ]
  },
  {
   "cell_type": "markdown",
   "metadata": {},
   "source": [
    "<h4>Build model and get the influence points<h4>"
   ]
  },
  {
   "cell_type": "code",
   "execution_count": 3,
   "metadata": {},
   "outputs": [],
   "source": [
    "dataset = 'acsincome'\n",
    "clf_name = 'Logistic_Regression'\n",
    "metric = 0\n",
    "support = 0.05\n",
    "support_small = 0.3"
   ]
  },
  {
   "cell_type": "code",
   "execution_count": 4,
   "metadata": {},
   "outputs": [],
   "source": [
    "X_train, X_test, y_train, y_test = load(dataset)"
   ]
  },
  {
   "cell_type": "code",
   "execution_count": 5,
   "metadata": {},
   "outputs": [
    {
     "data": {
      "text/html": [
       "<div>\n",
       "<style scoped>\n",
       "    .dataframe tbody tr th:only-of-type {\n",
       "        vertical-align: middle;\n",
       "    }\n",
       "\n",
       "    .dataframe tbody tr th {\n",
       "        vertical-align: top;\n",
       "    }\n",
       "\n",
       "    .dataframe thead th {\n",
       "        text-align: right;\n",
       "    }\n",
       "</style>\n",
       "<table border=\"1\" class=\"dataframe\">\n",
       "  <thead>\n",
       "    <tr style=\"text-align: right;\">\n",
       "      <th></th>\n",
       "      <th>POBP</th>\n",
       "      <th>WKHP</th>\n",
       "      <th>ST</th>\n",
       "      <th>COW_SE_business</th>\n",
       "      <th>COW_SE_no_business</th>\n",
       "      <th>COW_federal_gov</th>\n",
       "      <th>COW_local_gov</th>\n",
       "      <th>COW_no_pay_work</th>\n",
       "      <th>COW_non-profit</th>\n",
       "      <th>COW_private_business</th>\n",
       "      <th>...</th>\n",
       "      <th>OCCP_production_transportation</th>\n",
       "      <th>OCCP_sales</th>\n",
       "      <th>OCCP_service</th>\n",
       "      <th>RELP_family</th>\n",
       "      <th>RELP_inlaws/other</th>\n",
       "      <th>RELP_non-family</th>\n",
       "      <th>RAC1P_poc</th>\n",
       "      <th>RAC1P_white</th>\n",
       "      <th>AGEP_old</th>\n",
       "      <th>AGEP_young</th>\n",
       "    </tr>\n",
       "  </thead>\n",
       "  <tbody>\n",
       "    <tr>\n",
       "      <th>0</th>\n",
       "      <td>42.0</td>\n",
       "      <td>60.0</td>\n",
       "      <td>42.0</td>\n",
       "      <td>False</td>\n",
       "      <td>False</td>\n",
       "      <td>False</td>\n",
       "      <td>False</td>\n",
       "      <td>False</td>\n",
       "      <td>False</td>\n",
       "      <td>True</td>\n",
       "      <td>...</td>\n",
       "      <td>False</td>\n",
       "      <td>False</td>\n",
       "      <td>False</td>\n",
       "      <td>True</td>\n",
       "      <td>False</td>\n",
       "      <td>False</td>\n",
       "      <td>False</td>\n",
       "      <td>True</td>\n",
       "      <td>False</td>\n",
       "      <td>True</td>\n",
       "    </tr>\n",
       "    <tr>\n",
       "      <th>1</th>\n",
       "      <td>12.0</td>\n",
       "      <td>10.0</td>\n",
       "      <td>2.0</td>\n",
       "      <td>False</td>\n",
       "      <td>False</td>\n",
       "      <td>False</td>\n",
       "      <td>False</td>\n",
       "      <td>False</td>\n",
       "      <td>True</td>\n",
       "      <td>False</td>\n",
       "      <td>...</td>\n",
       "      <td>False</td>\n",
       "      <td>False</td>\n",
       "      <td>False</td>\n",
       "      <td>False</td>\n",
       "      <td>False</td>\n",
       "      <td>True</td>\n",
       "      <td>False</td>\n",
       "      <td>True</td>\n",
       "      <td>False</td>\n",
       "      <td>True</td>\n",
       "    </tr>\n",
       "    <tr>\n",
       "      <th>2</th>\n",
       "      <td>26.0</td>\n",
       "      <td>45.0</td>\n",
       "      <td>6.0</td>\n",
       "      <td>False</td>\n",
       "      <td>False</td>\n",
       "      <td>False</td>\n",
       "      <td>False</td>\n",
       "      <td>False</td>\n",
       "      <td>False</td>\n",
       "      <td>True</td>\n",
       "      <td>...</td>\n",
       "      <td>False</td>\n",
       "      <td>False</td>\n",
       "      <td>False</td>\n",
       "      <td>True</td>\n",
       "      <td>False</td>\n",
       "      <td>False</td>\n",
       "      <td>False</td>\n",
       "      <td>True</td>\n",
       "      <td>True</td>\n",
       "      <td>False</td>\n",
       "    </tr>\n",
       "    <tr>\n",
       "      <th>3</th>\n",
       "      <td>27.0</td>\n",
       "      <td>8.0</td>\n",
       "      <td>27.0</td>\n",
       "      <td>False</td>\n",
       "      <td>False</td>\n",
       "      <td>True</td>\n",
       "      <td>False</td>\n",
       "      <td>False</td>\n",
       "      <td>False</td>\n",
       "      <td>False</td>\n",
       "      <td>...</td>\n",
       "      <td>False</td>\n",
       "      <td>True</td>\n",
       "      <td>False</td>\n",
       "      <td>True</td>\n",
       "      <td>False</td>\n",
       "      <td>False</td>\n",
       "      <td>True</td>\n",
       "      <td>False</td>\n",
       "      <td>False</td>\n",
       "      <td>True</td>\n",
       "    </tr>\n",
       "    <tr>\n",
       "      <th>4</th>\n",
       "      <td>54.0</td>\n",
       "      <td>40.0</td>\n",
       "      <td>54.0</td>\n",
       "      <td>False</td>\n",
       "      <td>False</td>\n",
       "      <td>False</td>\n",
       "      <td>True</td>\n",
       "      <td>False</td>\n",
       "      <td>False</td>\n",
       "      <td>False</td>\n",
       "      <td>...</td>\n",
       "      <td>False</td>\n",
       "      <td>False</td>\n",
       "      <td>True</td>\n",
       "      <td>True</td>\n",
       "      <td>False</td>\n",
       "      <td>False</td>\n",
       "      <td>False</td>\n",
       "      <td>True</td>\n",
       "      <td>False</td>\n",
       "      <td>True</td>\n",
       "    </tr>\n",
       "    <tr>\n",
       "      <th>...</th>\n",
       "      <td>...</td>\n",
       "      <td>...</td>\n",
       "      <td>...</td>\n",
       "      <td>...</td>\n",
       "      <td>...</td>\n",
       "      <td>...</td>\n",
       "      <td>...</td>\n",
       "      <td>...</td>\n",
       "      <td>...</td>\n",
       "      <td>...</td>\n",
       "      <td>...</td>\n",
       "      <td>...</td>\n",
       "      <td>...</td>\n",
       "      <td>...</td>\n",
       "      <td>...</td>\n",
       "      <td>...</td>\n",
       "      <td>...</td>\n",
       "      <td>...</td>\n",
       "      <td>...</td>\n",
       "      <td>...</td>\n",
       "      <td>...</td>\n",
       "    </tr>\n",
       "    <tr>\n",
       "      <th>795</th>\n",
       "      <td>51.0</td>\n",
       "      <td>15.0</td>\n",
       "      <td>51.0</td>\n",
       "      <td>False</td>\n",
       "      <td>False</td>\n",
       "      <td>False</td>\n",
       "      <td>False</td>\n",
       "      <td>False</td>\n",
       "      <td>False</td>\n",
       "      <td>True</td>\n",
       "      <td>...</td>\n",
       "      <td>False</td>\n",
       "      <td>True</td>\n",
       "      <td>False</td>\n",
       "      <td>True</td>\n",
       "      <td>False</td>\n",
       "      <td>False</td>\n",
       "      <td>False</td>\n",
       "      <td>True</td>\n",
       "      <td>False</td>\n",
       "      <td>True</td>\n",
       "    </tr>\n",
       "    <tr>\n",
       "      <th>796</th>\n",
       "      <td>13.0</td>\n",
       "      <td>40.0</td>\n",
       "      <td>36.0</td>\n",
       "      <td>False</td>\n",
       "      <td>False</td>\n",
       "      <td>True</td>\n",
       "      <td>False</td>\n",
       "      <td>False</td>\n",
       "      <td>False</td>\n",
       "      <td>False</td>\n",
       "      <td>...</td>\n",
       "      <td>False</td>\n",
       "      <td>True</td>\n",
       "      <td>False</td>\n",
       "      <td>True</td>\n",
       "      <td>False</td>\n",
       "      <td>False</td>\n",
       "      <td>True</td>\n",
       "      <td>False</td>\n",
       "      <td>False</td>\n",
       "      <td>True</td>\n",
       "    </tr>\n",
       "    <tr>\n",
       "      <th>797</th>\n",
       "      <td>17.0</td>\n",
       "      <td>60.0</td>\n",
       "      <td>17.0</td>\n",
       "      <td>False</td>\n",
       "      <td>False</td>\n",
       "      <td>False</td>\n",
       "      <td>False</td>\n",
       "      <td>False</td>\n",
       "      <td>False</td>\n",
       "      <td>True</td>\n",
       "      <td>...</td>\n",
       "      <td>False</td>\n",
       "      <td>False</td>\n",
       "      <td>False</td>\n",
       "      <td>True</td>\n",
       "      <td>False</td>\n",
       "      <td>False</td>\n",
       "      <td>False</td>\n",
       "      <td>True</td>\n",
       "      <td>False</td>\n",
       "      <td>True</td>\n",
       "    </tr>\n",
       "    <tr>\n",
       "      <th>798</th>\n",
       "      <td>53.0</td>\n",
       "      <td>3.0</td>\n",
       "      <td>53.0</td>\n",
       "      <td>False</td>\n",
       "      <td>False</td>\n",
       "      <td>False</td>\n",
       "      <td>True</td>\n",
       "      <td>False</td>\n",
       "      <td>False</td>\n",
       "      <td>False</td>\n",
       "      <td>...</td>\n",
       "      <td>True</td>\n",
       "      <td>False</td>\n",
       "      <td>False</td>\n",
       "      <td>True</td>\n",
       "      <td>False</td>\n",
       "      <td>False</td>\n",
       "      <td>True</td>\n",
       "      <td>False</td>\n",
       "      <td>True</td>\n",
       "      <td>False</td>\n",
       "    </tr>\n",
       "    <tr>\n",
       "      <th>799</th>\n",
       "      <td>21.0</td>\n",
       "      <td>45.0</td>\n",
       "      <td>37.0</td>\n",
       "      <td>False</td>\n",
       "      <td>False</td>\n",
       "      <td>False</td>\n",
       "      <td>False</td>\n",
       "      <td>False</td>\n",
       "      <td>True</td>\n",
       "      <td>False</td>\n",
       "      <td>...</td>\n",
       "      <td>False</td>\n",
       "      <td>False</td>\n",
       "      <td>False</td>\n",
       "      <td>True</td>\n",
       "      <td>False</td>\n",
       "      <td>False</td>\n",
       "      <td>False</td>\n",
       "      <td>True</td>\n",
       "      <td>False</td>\n",
       "      <td>True</td>\n",
       "    </tr>\n",
       "  </tbody>\n",
       "</table>\n",
       "<p>800 rows × 44 columns</p>\n",
       "</div>"
      ],
      "text/plain": [
       "     POBP  WKHP    ST  COW_SE_business  COW_SE_no_business  COW_federal_gov  \\\n",
       "0    42.0  60.0  42.0            False               False            False   \n",
       "1    12.0  10.0   2.0            False               False            False   \n",
       "2    26.0  45.0   6.0            False               False            False   \n",
       "3    27.0   8.0  27.0            False               False             True   \n",
       "4    54.0  40.0  54.0            False               False            False   \n",
       "..    ...   ...   ...              ...                 ...              ...   \n",
       "795  51.0  15.0  51.0            False               False            False   \n",
       "796  13.0  40.0  36.0            False               False             True   \n",
       "797  17.0  60.0  17.0            False               False            False   \n",
       "798  53.0   3.0  53.0            False               False            False   \n",
       "799  21.0  45.0  37.0            False               False            False   \n",
       "\n",
       "     COW_local_gov  COW_no_pay_work  COW_non-profit  COW_private_business  \\\n",
       "0            False            False           False                  True   \n",
       "1            False            False            True                 False   \n",
       "2            False            False           False                  True   \n",
       "3            False            False           False                 False   \n",
       "4             True            False           False                 False   \n",
       "..             ...              ...             ...                   ...   \n",
       "795          False            False           False                  True   \n",
       "796          False            False           False                 False   \n",
       "797          False            False           False                  True   \n",
       "798           True            False           False                 False   \n",
       "799          False            False            True                 False   \n",
       "\n",
       "     ...  OCCP_production_transportation  OCCP_sales  OCCP_service  \\\n",
       "0    ...                           False       False         False   \n",
       "1    ...                           False       False         False   \n",
       "2    ...                           False       False         False   \n",
       "3    ...                           False        True         False   \n",
       "4    ...                           False       False          True   \n",
       "..   ...                             ...         ...           ...   \n",
       "795  ...                           False        True         False   \n",
       "796  ...                           False        True         False   \n",
       "797  ...                           False       False         False   \n",
       "798  ...                            True       False         False   \n",
       "799  ...                           False       False         False   \n",
       "\n",
       "     RELP_family  RELP_inlaws/other  RELP_non-family  RAC1P_poc  RAC1P_white  \\\n",
       "0           True              False            False      False         True   \n",
       "1          False              False             True      False         True   \n",
       "2           True              False            False      False         True   \n",
       "3           True              False            False       True        False   \n",
       "4           True              False            False      False         True   \n",
       "..           ...                ...              ...        ...          ...   \n",
       "795         True              False            False      False         True   \n",
       "796         True              False            False       True        False   \n",
       "797         True              False            False      False         True   \n",
       "798         True              False            False       True        False   \n",
       "799         True              False            False      False         True   \n",
       "\n",
       "     AGEP_old  AGEP_young  \n",
       "0       False        True  \n",
       "1       False        True  \n",
       "2        True       False  \n",
       "3       False        True  \n",
       "4       False        True  \n",
       "..        ...         ...  \n",
       "795     False        True  \n",
       "796     False        True  \n",
       "797     False        True  \n",
       "798      True       False  \n",
       "799     False        True  \n",
       "\n",
       "[800 rows x 44 columns]"
      ]
     },
     "execution_count": 5,
     "metadata": {},
     "output_type": "execute_result"
    }
   ],
   "source": [
    "X_train"
   ]
  },
  {
   "cell_type": "code",
   "execution_count": 59,
   "metadata": {},
   "outputs": [],
   "source": [
    "#Drop the unecessary columns\n",
    "X_train = X_train.drop(columns=['RAC1P_white','RAC1P_poc','SEX_female','AGEP_old','AGEP_young'])\n",
    "X_test = X_test.drop(columns=['RAC1P_white','RAC1P_poc','SEX_female','AGEP_old','AGEP_young'])"
   ]
  },
  {
   "cell_type": "code",
   "execution_count": 60,
   "metadata": {},
   "outputs": [],
   "source": [
    "duplicates = 1\n",
    "make_duplicates = lambda x, d: pd.concat([x]*d, axis=0).reset_index(drop=True)\n",
    "X_train = make_duplicates(X_train, duplicates)\n",
    "X_test = make_duplicates(X_test, duplicates)\n",
    "y_train = make_duplicates(y_train, duplicates)\n",
    "y_test = make_duplicates(y_test, duplicates)"
   ]
  },
  {
   "cell_type": "code",
   "execution_count": 61,
   "metadata": {},
   "outputs": [],
   "source": [
    "#List of time take to decide data points\n",
    "sol_time = []"
   ]
  },
  {
   "cell_type": "code",
   "execution_count": 62,
   "metadata": {},
   "outputs": [],
   "source": [
    "import copy\n",
    "X_train_orig = copy.deepcopy(X_train)\n",
    "X_test_orig = copy.deepcopy(X_test)\n",
    "\n",
    "from sklearn.preprocessing import StandardScaler\n",
    "sc = StandardScaler()\n",
    "X_train = sc.fit_transform(X_train)\n",
    "X_test = sc.transform(X_test)"
   ]
  },
  {
   "cell_type": "code",
   "execution_count": 63,
   "metadata": {},
   "outputs": [
    {
     "name": "stdout",
     "output_type": "stream",
     "text": [
      "200\n",
      "800\n",
      "200\n",
      "800\n"
     ]
    }
   ],
   "source": [
    "print(len(X_test))\n",
    "print(len(X_train))\n",
    "print(len(y_test))\n",
    "print(len(y_train))"
   ]
  },
  {
   "cell_type": "code",
   "execution_count": 64,
   "metadata": {},
   "outputs": [],
   "source": [
    "clf = eval(clf_name)(input_size=X_train.shape[-1])\n",
    "\n",
    "num_params = len(convert_grad_to_ndarray(list(clf.parameters())))\n",
    "if isinstance(clf, Logistic_Regression):\n",
    "    loss_func = logistic_loss_torch\n",
    "elif isinstance(clf, SVM):\n",
    "    loss_func = svm_loss_torch\n",
    "elif isinstance(clf, NeuralNetwork):\n",
    "    loss_func = nn_loss_torch\n",
    "else:\n",
    "    raise NotImplementedError"
   ]
  },
  {
   "cell_type": "code",
   "execution_count": 65,
   "metadata": {},
   "outputs": [
    {
     "name": "stdout",
     "output_type": "stream",
     "text": [
      "Initial statistical parity:  -0.21716602106705046\n",
      "Initial TPR parity:  -0.14083049819603854\n",
      "Initial predictive parity:  -0.2101012560635348\n",
      "Initial accuracy:  0.785\n"
     ]
    }
   ],
   "source": [
    "clf = eval(clf_name)(input_size=X_train.shape[-1])\n",
    "\n",
    "clf.fit(X_train, y_train)\n",
    "\n",
    "y_pred_test = clf.predict_proba(X_test)\n",
    "y_pred_train = clf.predict_proba(X_train)\n",
    "\n",
    "spd_0 = computeFairness(y_pred_test, X_test_orig, y_test, 0, dataset)\n",
    "print(\"Initial statistical parity: \", spd_0)\n",
    "\n",
    "tpr_parity_0 = computeFairness(y_pred_test, X_test_orig, y_test, 1, dataset)\n",
    "print(\"Initial TPR parity: \", tpr_parity_0)\n",
    "\n",
    "predictive_parity_0 = computeFairness(y_pred_test, X_test_orig, y_test, 2, dataset)\n",
    "print(\"Initial predictive parity: \", predictive_parity_0)\n",
    "\n",
    "accuracy_0 = computeAccuracy(y_test, y_pred_test)\n",
    "print(\"Initial accuracy: \", accuracy_0)"
   ]
  },
  {
   "cell_type": "markdown",
   "metadata": {},
   "source": [
    "<h4>Calculate the Influence of the datapoints<h4>"
   ]
  },
  {
   "cell_type": "code",
   "execution_count": 66,
   "metadata": {},
   "outputs": [],
   "source": [
    "#Original datapoints before changing the datapoints\n",
    "if_start = time.time()\n",
    "metric_val = [spd_0, tpr_parity_0, predictive_parity_0][metric]\n",
    "del_F_del_theta = get_del_F_del_theta(clf, X_test_orig, X_test, y_test, dataset, metric)"
   ]
  },
  {
   "cell_type": "code",
   "execution_count": 67,
   "metadata": {},
   "outputs": [
    {
     "name": "stderr",
     "output_type": "stream",
     "text": [
      "100%|██████████| 800/800 [00:20<00:00, 38.63it/s]\n"
     ]
    }
   ],
   "source": [
    "hessian_all_points = get_hessian_all_points(clf, X_train, y_train, loss_func)"
   ]
  },
  {
   "cell_type": "code",
   "execution_count": 68,
   "metadata": {},
   "outputs": [],
   "source": [
    "del_L_del_theta = get_del_L_del_theta(clf, X_train, y_train, loss_func)"
   ]
  },
  {
   "cell_type": "code",
   "execution_count": 69,
   "metadata": {},
   "outputs": [],
   "source": [
    "hinv_v, hinv = get_hinv_v(hessian_all_points, np.transpose(del_L_del_theta))\n",
    "#incorporate del_l_del_theta_i with the updated datapoint"
   ]
  },
  {
   "cell_type": "code",
   "execution_count": 70,
   "metadata": {},
   "outputs": [],
   "source": [
    "inf = np.matmul(np.transpose(hinv_v), del_F_del_theta)\n",
    "#For the new datapoint re-calculate the hinv_v"
   ]
  },
  {
   "cell_type": "code",
   "execution_count": 71,
   "metadata": {},
   "outputs": [],
   "source": [
    "inf=(1/len(X_train))*(inf)"
   ]
  },
  {
   "cell_type": "code",
   "execution_count": 72,
   "metadata": {},
   "outputs": [
    {
     "data": {
      "text/plain": [
       "array([-1.76338062e-04, -1.97260652e-04, -7.46767674e-05,  1.39314662e-03,\n",
       "       -1.39494354e-03, -3.23243992e-04, -1.09638603e-03,  4.97360146e-04,\n",
       "        5.43388720e-04, -7.26114096e-06, -4.08121574e-04,  6.00483991e-04,\n",
       "       -9.25953374e-04,  1.08129366e-03,  7.01607200e-04, -1.09777032e-03,\n",
       "        5.79468458e-04, -7.20453080e-04,  6.46564341e-04,  8.42849724e-04,\n",
       "       -4.97218379e-04, -4.30610214e-04, -7.03508220e-04,  4.08075376e-04,\n",
       "       -2.95236709e-04, -1.01523837e-04, -6.25763650e-04, -5.12903664e-05,\n",
       "        2.13427148e-06, -1.19728070e-04, -1.93397540e-04,  8.83456344e-04,\n",
       "       -3.00935386e-04, -5.35261531e-04, -7.52629272e-04, -1.14851916e-04,\n",
       "       -3.13998270e-04,  3.38093609e-04, -3.38932979e-04,  6.43902201e-04,\n",
       "        4.80875785e-04, -1.69304675e-04,  3.60638289e-04,  6.21374313e-04,\n",
       "       -6.77219748e-05, -1.31770689e-04,  1.78490617e-03, -1.16304367e-03,\n",
       "       -1.27849591e-03, -2.50206706e-04,  9.59978307e-04, -6.21830584e-04,\n",
       "       -3.85473131e-04, -5.70298956e-04,  4.82194731e-04, -4.11704650e-04,\n",
       "        1.46863046e-03, -6.57109688e-04, -1.31925903e-04,  9.46378492e-04,\n",
       "        2.68628515e-03, -1.12042683e-04, -2.75924820e-03,  1.05869465e-03,\n",
       "       -1.83528861e-04, -9.48610086e-05,  1.88005112e-03,  6.42794061e-04,\n",
       "        1.10917864e-03, -5.74793676e-04, -2.16384382e-04, -2.42165946e-04,\n",
       "       -6.65877761e-05, -1.01442797e-03,  1.36108580e-03, -2.77406615e-05,\n",
       "        1.47527396e-04, -7.18839824e-05, -1.01314741e-04, -8.96806648e-05,\n",
       "        1.92070255e-04, -7.82265482e-04, -1.58839091e-03, -1.05389633e-03,\n",
       "       -3.27076475e-04, -9.78253831e-04,  8.00876684e-04, -3.00905138e-04,\n",
       "       -7.54707715e-04,  1.52110310e-03, -1.94711384e-05,  1.65127547e-03,\n",
       "        1.53052969e-03, -1.82696197e-06,  8.97910072e-04, -4.42951244e-04,\n",
       "       -1.09910243e-03,  3.92637083e-04,  1.01871032e-03,  2.31713196e-03,\n",
       "        1.65301764e-03, -1.57159935e-04, -8.28133081e-05, -1.13592382e-03,\n",
       "        1.11636952e-03, -1.42071594e-03, -3.63601796e-04,  1.13543679e-03,\n",
       "        1.51567288e-03, -7.80331756e-04, -2.93628533e-04, -4.71652406e-04,\n",
       "        1.37866623e-04,  5.09123715e-04,  1.52543740e-05,  2.61135688e-04,\n",
       "       -1.00492745e-03,  3.30698599e-04,  4.82689557e-04,  8.11150283e-04,\n",
       "        5.31573810e-05, -9.09004408e-05, -2.96167505e-04, -3.37107687e-04,\n",
       "        1.22250088e-03, -2.93241658e-04, -3.07223232e-04, -3.37751190e-04,\n",
       "       -1.88231437e-04, -2.51211044e-04, -8.45507096e-04, -3.62147859e-04,\n",
       "       -6.88064414e-04,  1.48560163e-03,  3.10614941e-04,  1.55467904e-03,\n",
       "       -4.34414849e-04, -3.42125322e-04, -2.71698287e-04,  2.29867421e-04,\n",
       "       -6.38764286e-04,  9.59596829e-04, -5.10217126e-04, -1.07838681e-03,\n",
       "        7.81782850e-04, -1.81282444e-04, -3.58619616e-04, -3.01754631e-03,\n",
       "        7.88640415e-04,  1.10203562e-04, -5.51260613e-04, -2.52378561e-04,\n",
       "       -5.98037262e-04,  1.19553976e-03, -3.02066763e-05,  6.04298840e-05,\n",
       "       -1.78015850e-04,  2.26766513e-05,  4.93314595e-04, -1.75978471e-04,\n",
       "       -7.52713589e-06,  2.84496757e-04, -1.23048580e-03, -1.84276011e-04,\n",
       "       -2.31074721e-04, -5.26367953e-04, -2.07650376e-04, -2.40213882e-04,\n",
       "       -2.10423839e-04,  3.21831462e-05, -1.08088954e-04, -5.62040031e-04,\n",
       "       -1.05996924e-03, -4.73971918e-04, -4.14026793e-05,  8.18015284e-04,\n",
       "       -6.75939933e-04,  1.26451160e-03,  6.33691625e-04, -7.91040718e-06,\n",
       "       -2.39883006e-04, -7.79568820e-04,  4.97503208e-04,  6.42805056e-04,\n",
       "        8.09990411e-04, -9.14265120e-05,  9.33157506e-04, -1.38677145e-04,\n",
       "        7.21112285e-04,  9.10499921e-04, -8.12924746e-04,  9.05413996e-04,\n",
       "        2.06034820e-04, -3.69971323e-04, -6.53924773e-05, -2.74000000e-04,\n",
       "       -5.90106008e-05,  3.39273575e-04, -5.84183099e-04, -2.27381905e-03,\n",
       "        8.20461633e-04, -8.10717285e-04, -1.75146102e-04, -1.54106683e-04,\n",
       "       -8.90620806e-04,  1.25595665e-03,  1.05381004e-03, -1.55238562e-03,\n",
       "        1.66414278e-03,  1.42290358e-03, -1.04180973e-03, -8.38083144e-04,\n",
       "       -4.66416082e-05, -1.62634494e-03, -1.36839198e-03, -6.48520613e-04,\n",
       "        1.18524909e-03, -8.91761113e-05,  6.41271408e-05, -4.88439525e-04,\n",
       "        9.34678345e-04, -3.16787679e-04, -1.19281659e-03,  5.77415906e-04,\n",
       "        1.04579134e-03, -6.88437460e-04, -8.19070198e-04,  6.24440175e-04,\n",
       "       -2.29687459e-04,  1.06394347e-03,  5.76862911e-04,  9.82505023e-04,\n",
       "       -3.93409699e-04,  3.95929368e-04,  5.89480105e-04,  9.56292610e-04,\n",
       "       -3.22542191e-04, -1.25152841e-03,  4.02300347e-04, -3.60302076e-04,\n",
       "        8.80119598e-04, -1.33355192e-03, -1.52166828e-03, -5.57680702e-04,\n",
       "       -8.08476748e-05,  6.02153465e-04, -4.72809382e-04, -1.83421536e-04,\n",
       "       -4.23007076e-04,  6.87448826e-04, -5.53724771e-04,  5.81280308e-04,\n",
       "       -3.58564920e-04, -4.54136318e-04,  1.19572027e-04, -3.20186823e-04,\n",
       "       -2.40836144e-04, -1.12343815e-04, -1.62363220e-04,  1.17723124e-03,\n",
       "       -5.79487858e-04, -4.78428589e-04,  6.41221107e-04,  3.33590948e-04,\n",
       "       -3.94848989e-05, -1.11263095e-06, -9.99728958e-05,  1.20340420e-03,\n",
       "       -5.75576531e-04, -3.83164979e-06, -1.94961281e-04,  1.93250387e-04,\n",
       "       -8.48115070e-04,  3.41074697e-04,  1.86095624e-04,  5.31622688e-04,\n",
       "       -7.12837500e-04, -3.37502804e-04, -4.18291677e-04, -1.69657782e-04,\n",
       "        8.74418277e-04,  7.80709685e-04, -7.81501275e-04, -3.99444514e-04,\n",
       "       -1.98451232e-04, -1.29921926e-03, -5.87179078e-04, -1.24398550e-04,\n",
       "        9.33098119e-04, -4.22548380e-05, -7.08390317e-05,  4.04400913e-04,\n",
       "       -3.98795237e-05, -5.14133188e-04,  1.75994080e-03,  4.22266410e-04,\n",
       "        8.23448675e-05, -1.20034750e-03, -4.53896796e-04, -3.94081223e-04,\n",
       "       -8.61894052e-04,  2.76011229e-04, -1.43979849e-04, -7.66286305e-04,\n",
       "       -1.17675117e-03,  9.20380066e-04, -4.47224071e-04, -6.35167843e-05,\n",
       "        3.65723320e-05,  6.31238398e-04, -1.02066652e-04,  1.21168915e-03,\n",
       "        1.19698534e-04, -4.10501633e-04,  5.07246686e-04, -3.21317641e-04,\n",
       "       -9.79764686e-04,  1.42872470e-03,  5.43196278e-04, -4.32631598e-05,\n",
       "       -4.72760253e-04,  3.61930623e-04,  5.37384074e-04,  9.06713369e-04,\n",
       "       -6.91581092e-04, -6.63831336e-04, -6.41275231e-04, -8.14655004e-04,\n",
       "       -7.24162980e-04, -2.01553312e-04,  4.44792012e-04, -2.85789685e-04,\n",
       "        1.39805034e-03, -6.49457549e-05,  1.33302169e-03,  5.20090328e-04,\n",
       "        2.37893196e-04,  3.74197636e-04,  5.61330079e-04, -3.20268715e-04,\n",
       "       -1.51332896e-05,  2.16088390e-03, -5.10177233e-05,  5.46808323e-04,\n",
       "       -4.04463734e-04, -3.48259278e-04, -2.45568470e-05, -2.38452168e-04,\n",
       "       -2.81902778e-04, -1.31732671e-03,  7.76587342e-05,  2.89707478e-04,\n",
       "        1.68282045e-04, -1.24693290e-03,  7.32679244e-04, -2.28414391e-03,\n",
       "       -1.30490783e-05, -9.15284504e-04, -3.06460615e-04,  6.03116832e-04,\n",
       "       -4.37860023e-04, -4.65016707e-04,  9.82051412e-04, -5.45185158e-04,\n",
       "       -3.68387673e-04, -1.38461364e-04,  1.08708276e-03, -4.06058826e-05,\n",
       "       -2.63290486e-04, -5.74492182e-04,  5.37401015e-04, -2.52127408e-04,\n",
       "       -2.56375008e-04,  4.27768791e-04,  1.20767307e-04, -6.26493336e-04,\n",
       "       -1.67727656e-03, -4.51133424e-04, -6.83241031e-04, -2.79831562e-04,\n",
       "       -2.72791746e-04, -2.24079874e-04, -4.57774818e-04, -1.63719678e-03,\n",
       "       -3.26164724e-04,  3.61251482e-04,  8.16915629e-04, -5.64298162e-04,\n",
       "       -5.88289956e-05,  8.89961919e-05,  1.45879620e-03, -3.53131979e-04,\n",
       "       -3.45389480e-04,  7.49613828e-04, -4.49068278e-04, -1.00643255e-03,\n",
       "       -3.97081178e-04, -2.76541502e-04, -1.76907426e-03,  2.20915754e-04,\n",
       "       -7.05830446e-05, -3.84121042e-04, -4.97789595e-05,  1.37278312e-03,\n",
       "       -5.33254005e-05, -5.94349188e-04,  8.31550727e-04,  4.57678919e-04,\n",
       "       -6.48337000e-04, -2.72988310e-03,  5.38304769e-04, -4.17406425e-04,\n",
       "       -1.21699479e-04,  1.47796732e-03, -4.56672174e-04,  1.10911782e-05,\n",
       "       -5.61447358e-03, -9.09069050e-06, -1.54254374e-04, -1.13014745e-03,\n",
       "        2.25563346e-04,  6.09212761e-04,  8.43088947e-05, -2.81172560e-04,\n",
       "        9.46007311e-04,  3.17866334e-04, -1.02070074e-04, -8.77503751e-04,\n",
       "       -2.06781637e-05,  1.87963475e-04, -5.09511829e-05,  7.61535409e-04,\n",
       "        1.83003487e-03, -3.34855052e-05,  1.86045000e-03,  3.28824783e-04,\n",
       "       -1.40992200e-04, -1.93255866e-05, -1.31805470e-03,  1.17664626e-03,\n",
       "        6.40738165e-04,  4.14666545e-04, -4.81979321e-04,  1.02321841e-03,\n",
       "       -1.37266677e-04, -1.39517714e-03, -5.02583674e-04,  4.62075249e-04,\n",
       "       -1.84094483e-03, -2.57549520e-03, -7.07550751e-05, -4.02530647e-04,\n",
       "       -3.05973943e-04, -1.10326367e-04, -2.16226132e-04, -3.14094699e-04,\n",
       "       -4.01626174e-04, -1.85780923e-03,  1.17439413e-03, -2.67850919e-04,\n",
       "       -1.18922461e-03, -8.73883852e-05, -1.44162634e-04,  3.67992515e-04,\n",
       "       -2.10424016e-04, -2.20678197e-04,  5.75654344e-04,  8.56663806e-04,\n",
       "        9.75534657e-04,  6.61511986e-04, -6.35057425e-04,  5.84799375e-04,\n",
       "        1.79416023e-04,  8.02937484e-04,  2.50641379e-04, -2.49225593e-04,\n",
       "        3.60585487e-04,  2.48548296e-03, -2.15770468e-05, -5.59425928e-04,\n",
       "       -2.65223090e-04, -6.21302042e-04, -1.48415166e-03, -6.84463749e-04,\n",
       "        5.22226258e-04, -2.94125505e-03, -1.52088137e-03, -1.69718380e-05,\n",
       "        3.57319290e-04, -2.51576747e-04, -8.13907650e-04,  2.73500544e-04,\n",
       "       -6.26289433e-05,  1.31025782e-03, -1.44388323e-04,  9.01524598e-04,\n",
       "       -5.28234883e-04,  2.02397846e-04,  9.13905560e-04,  9.43346640e-04,\n",
       "        4.06533379e-04, -6.13933505e-04, -6.24166975e-04,  7.78653980e-04,\n",
       "        1.38993769e-03, -3.73982749e-04,  1.54931396e-03, -1.43288393e-03,\n",
       "        2.78415751e-03, -6.77310824e-04,  1.07058463e-03,  2.22162395e-04,\n",
       "        7.86232081e-06, -1.51033317e-04, -1.54857422e-03,  1.62384914e-03,\n",
       "       -1.02302246e-04,  1.51626782e-04, -1.36980675e-04,  1.55221719e-03,\n",
       "        4.38136562e-04, -1.15925655e-05,  6.96580618e-04,  7.38786922e-04,\n",
       "       -5.51474435e-04, -2.85599010e-03, -2.41652425e-04, -6.82647347e-05,\n",
       "       -2.61666664e-04, -3.22351366e-04, -1.09714772e-04, -1.50041281e-04,\n",
       "       -3.96588401e-04, -1.08433446e-04,  1.10567030e-03, -2.07910414e-04,\n",
       "       -6.35347639e-04, -7.59623676e-04, -5.49016361e-04, -1.94945992e-04,\n",
       "       -7.38237491e-04,  1.06651632e-03, -1.12356273e-03,  9.21515680e-04,\n",
       "        1.93830884e-04, -3.10363956e-04, -2.59321240e-03, -1.48160464e-03,\n",
       "       -3.64694062e-05, -1.24343698e-03, -2.61122785e-05, -2.99164458e-04,\n",
       "        1.01494019e-03, -1.93564761e-04, -5.77398587e-04, -1.34413210e-05,\n",
       "        1.22375299e-03, -2.17163707e-03, -4.33665664e-04,  1.87170570e-03,\n",
       "        5.62903747e-04,  3.24705098e-04,  9.23610209e-04,  2.60934423e-04,\n",
       "       -1.96733244e-04, -8.63297638e-04, -6.09491726e-04, -1.03791698e-03,\n",
       "       -6.27189026e-05,  1.09679413e-03, -3.36990538e-04, -6.94150101e-04,\n",
       "        8.58229581e-04, -8.91545401e-04, -1.02830429e-03,  1.16713079e-03,\n",
       "        1.40144767e-03, -2.23595342e-04,  5.23896591e-04, -9.69595363e-04,\n",
       "       -5.17125542e-05,  1.35169408e-03,  6.36306331e-04,  2.57500140e-04,\n",
       "       -1.75146102e-04, -1.61778224e-03, -1.27593725e-04, -2.96982818e-04,\n",
       "       -7.91661976e-05, -1.95212724e-04, -6.74728220e-04,  3.30020005e-04,\n",
       "       -1.57589702e-04, -4.23727834e-03,  1.04144266e-03, -3.27661114e-05,\n",
       "        2.39076580e-04, -7.18413595e-04,  1.42850610e-03, -4.69202207e-04,\n",
       "       -2.78098592e-05, -1.59159440e-03,  4.11449711e-04,  8.01311507e-04,\n",
       "       -8.03778219e-04, -3.68045105e-04,  6.94021292e-04, -2.11575435e-03,\n",
       "       -2.78388965e-04, -3.43879287e-05, -3.54624121e-04, -6.08745536e-05,\n",
       "        7.29263499e-04, -1.54435149e-04,  1.25857204e-03,  1.18025888e-03,\n",
       "        5.12999518e-04,  1.01163698e-03, -1.59020160e-03, -1.65731526e-03,\n",
       "       -1.09931390e-04, -2.80115238e-04,  3.39363690e-04, -1.29899228e-03,\n",
       "       -2.19286176e-04, -3.08228979e-04,  6.73232704e-04, -1.09579396e-03,\n",
       "       -1.21203438e-04, -5.12077311e-04,  1.12956685e-03, -5.20985093e-05,\n",
       "       -1.31022250e-03,  2.27330843e-04, -2.49072553e-04, -2.24592103e-03,\n",
       "        1.41477696e-03, -5.31905715e-04,  2.85353751e-04, -8.22895560e-04,\n",
       "       -4.40852514e-04, -1.77426639e-04, -3.59640846e-05, -2.03162738e-04,\n",
       "        4.53811790e-04, -1.77880930e-05,  4.51189792e-04,  7.02286865e-04,\n",
       "       -3.14948403e-04,  6.47047867e-06, -1.74460752e-04, -1.17238729e-04,\n",
       "       -1.49118578e-04,  7.16186672e-04, -4.28764539e-04,  7.08201515e-04,\n",
       "       -2.39228719e-04, -3.06915475e-04,  1.59330566e-03, -5.59462254e-04,\n",
       "       -4.53346632e-04, -1.84336433e-04, -1.14680164e-04, -1.22107604e-04,\n",
       "       -2.87517368e-05,  7.74844244e-04, -4.26233823e-04,  6.33702446e-04,\n",
       "       -1.30358061e-03,  6.77407582e-04,  1.11634150e-03, -7.26223054e-05,\n",
       "       -4.69735719e-05, -3.42580876e-04,  1.59595696e-03,  2.49865501e-05,\n",
       "        6.88473743e-04, -2.44071271e-04,  3.73405249e-04,  1.66692820e-03,\n",
       "       -2.64407405e-04, -8.18242595e-04, -1.20984156e-04,  2.83867639e-04,\n",
       "       -5.08157051e-04, -1.60440615e-03, -8.53524418e-04, -8.21674422e-04,\n",
       "       -1.07354719e-04, -3.10894888e-04,  1.64746844e-04, -5.67187343e-05,\n",
       "        3.06978600e-04, -3.68263592e-04,  3.11039459e-04, -7.89156645e-05,\n",
       "        3.31089789e-04, -3.67550976e-04,  1.88635891e-04,  9.48259530e-04,\n",
       "       -6.19266757e-04, -2.07762432e-04, -2.05104530e-04, -1.91137615e-04,\n",
       "       -6.89570513e-04, -3.99750909e-05, -1.11120556e-05, -7.94105060e-05,\n",
       "        7.36394760e-04,  6.25818737e-04,  5.60120147e-04,  7.60796823e-04,\n",
       "       -4.51444683e-04,  1.78074277e-04, -1.77406543e-04, -1.90028755e-03,\n",
       "       -1.40513999e-03, -1.17311844e-03, -4.85492188e-04,  2.85713441e-04,\n",
       "        9.22229426e-04, -2.79541746e-04,  1.04411183e-03, -1.13756846e-03,\n",
       "       -1.93543639e-04, -2.40323600e-04, -1.15399820e-04, -2.30180119e-04,\n",
       "       -9.56456658e-04, -2.01239638e-04,  5.28550114e-04, -4.32890538e-04,\n",
       "       -2.05047967e-04,  1.36922866e-03, -1.20347737e-04, -4.36455674e-04,\n",
       "        1.32095993e-04, -2.08532517e-04, -7.20758497e-04,  2.86632617e-04,\n",
       "       -3.41004423e-04,  6.64248016e-04,  1.55403604e-03,  1.13261594e-03,\n",
       "       -1.19054607e-03,  9.40707084e-04, -1.18861215e-04, -1.43507679e-03,\n",
       "       -1.33818423e-03,  2.71780197e-04, -4.22293927e-04,  6.36731121e-04,\n",
       "       -2.95990448e-04,  8.42762161e-04, -1.76277129e-04,  1.29517756e-03,\n",
       "        7.69246872e-04,  5.69837752e-04, -6.58464837e-05, -2.72869408e-05,\n",
       "       -7.31647268e-04,  3.00149191e-05, -7.39865218e-05, -2.63817836e-05,\n",
       "        4.66494094e-04,  6.19132551e-04,  5.86579825e-04,  3.01141266e-04,\n",
       "        7.52273463e-04,  3.07144455e-04, -4.69061814e-05,  4.46251303e-04,\n",
       "        5.88926550e-04,  2.94748258e-04, -8.80054932e-05, -2.06341698e-04,\n",
       "       -1.17504330e-04,  9.16475789e-05, -1.61753414e-03, -2.15281204e-04,\n",
       "        7.07334732e-04, -6.12785372e-06, -3.22455927e-05,  2.06960710e-03,\n",
       "        7.61642745e-04, -2.38920839e-05, -2.41225863e-04,  6.98349262e-04,\n",
       "       -4.64587596e-04, -3.69005251e-04, -1.14149792e-03, -2.10796174e-03,\n",
       "       -1.17440818e-03, -1.51673856e-03,  1.50802357e-03, -2.06429454e-03,\n",
       "        9.54539510e-04, -6.44415772e-05,  2.49803021e-04, -2.52625939e-04])"
      ]
     },
     "execution_count": 72,
     "metadata": {},
     "output_type": "execute_result"
    }
   ],
   "source": [
    "inf"
   ]
  },
  {
   "cell_type": "markdown",
   "metadata": {},
   "source": [
    "<h4>Calculate the influence of flipped datapoints<h4>"
   ]
  },
  {
   "cell_type": "code",
   "execution_count": 73,
   "metadata": {},
   "outputs": [],
   "source": [
    "#Flip all the labels for the encoded data and the scaled data\n",
    "#The labels are the same just the training data looks different \n",
    "y_train_changed = y_train.replace({0:1,1:0})\n",
    "y_test_changed = y_test.replace({0:1,1:0})"
   ]
  },
  {
   "cell_type": "code",
   "execution_count": 74,
   "metadata": {},
   "outputs": [],
   "source": [
    "#Run the Classifiers and calculate the statistical parity after changing everything\n",
    "#In theory it shouldnt change anything but uhhhh lets see \n",
    "clf = eval(clf_name)(input_size=X_train.shape[-1])\n",
    "\n",
    "num_params = len(convert_grad_to_ndarray(list(clf.parameters())))\n",
    "if isinstance(clf, Logistic_Regression):\n",
    "    loss_func = logistic_loss_torch\n",
    "elif isinstance(clf, SVM):\n",
    "    loss_func = svm_loss_torch\n",
    "elif isinstance(clf, NeuralNetwork):\n",
    "    loss_func = nn_loss_torch\n",
    "else:\n",
    "    raise NotImplementedError"
   ]
  },
  {
   "cell_type": "code",
   "execution_count": 75,
   "metadata": {},
   "outputs": [
    {
     "name": "stdout",
     "output_type": "stream",
     "text": [
      "Initial statistical parity:  0.21786160885554479\n",
      "Initial TPR parity:  0.15608851561675197\n",
      "Initial predictive parity:  0.18922332564384525\n",
      "Initial accuracy:  0.785\n"
     ]
    }
   ],
   "source": [
    "clf = eval(clf_name)(input_size=X_train.shape[-1])\n",
    "\n",
    "clf.fit(X_train, y_train_changed)\n",
    "\n",
    "y_pred_test = clf.predict_proba(X_test)\n",
    "y_pred_train = clf.predict_proba(X_train)\n",
    "\n",
    "spd_1 = computeFairness(y_pred_test, X_test_orig, y_test_changed, 0, dataset)\n",
    "print(\"Initial statistical parity: \", spd_1)\n",
    "\n",
    "tpr_parity_0 = computeFairness(y_pred_test, X_test_orig, y_test_changed, 1, dataset)\n",
    "print(\"Initial TPR parity: \", tpr_parity_0)\n",
    "\n",
    "predictive_parity_0 = computeFairness(y_pred_test, X_test_orig, y_test_changed, 2, dataset)\n",
    "print(\"Initial predictive parity: \", predictive_parity_0)\n",
    "\n",
    "accuracy_0 = computeAccuracy(y_test_changed, y_pred_test)\n",
    "print(\"Initial accuracy: \", accuracy_0)"
   ]
  },
  {
   "cell_type": "code",
   "execution_count": 76,
   "metadata": {},
   "outputs": [],
   "source": [
    "#Original datapoints before changing the datapoints\n",
    "if_start = time.time()\n",
    "metric_val = [spd_1, tpr_parity_0, predictive_parity_0][metric]\n",
    "del_F_del_theta = get_del_F_del_theta(clf, X_test_orig, X_test, y_test, dataset, metric)"
   ]
  },
  {
   "cell_type": "code",
   "execution_count": 77,
   "metadata": {},
   "outputs": [
    {
     "name": "stderr",
     "output_type": "stream",
     "text": [
      "100%|██████████| 800/800 [00:20<00:00, 38.29it/s]\n"
     ]
    }
   ],
   "source": [
    "hessian_all_points = get_hessian_all_points(clf, X_train, y_train, loss_func)"
   ]
  },
  {
   "cell_type": "code",
   "execution_count": 78,
   "metadata": {},
   "outputs": [],
   "source": [
    "del_L_del_theta = get_del_L_del_theta(clf, X_train, y_train, loss_func)"
   ]
  },
  {
   "cell_type": "code",
   "execution_count": 79,
   "metadata": {},
   "outputs": [],
   "source": [
    "hinv_v, hinv = get_hinv_v(hessian_all_points, np.transpose(del_L_del_theta))\n",
    "#incorporate del_l_del_theta_i with the updated datapoint"
   ]
  },
  {
   "cell_type": "code",
   "execution_count": 80,
   "metadata": {},
   "outputs": [],
   "source": [
    "inf3 = np.matmul(np.transpose(hinv_v), del_F_del_theta)\n",
    "#For the new datapoint re-calculate the hinv_v"
   ]
  },
  {
   "cell_type": "code",
   "execution_count": 81,
   "metadata": {},
   "outputs": [],
   "source": [
    "inf3=(1/len(X_train))*(inf3)"
   ]
  },
  {
   "cell_type": "code",
   "execution_count": 82,
   "metadata": {},
   "outputs": [
    {
     "data": {
      "text/plain": [
       "array([-2.41468863e-03, -1.40929855e-03, -1.55799636e-03,  1.08936687e-03,\n",
       "       -1.55277099e-03, -5.45830215e-04, -1.95484107e-03,  1.73955101e-03,\n",
       "        6.61858198e-04, -2.33761789e-05, -7.83677802e-04,  1.08457955e-03,\n",
       "       -7.20862746e-04,  1.71591262e-03,  2.28650327e-03, -8.19998582e-04,\n",
       "        4.15718994e-04, -1.61596852e-03,  2.45813322e-03,  1.47560170e-03,\n",
       "       -1.21101785e-03, -8.82862428e-04, -1.15397238e-03,  1.43218919e-03,\n",
       "       -7.15004617e-04, -1.07546434e-03, -1.00884081e-03, -1.41205559e-03,\n",
       "        2.74591781e-06, -4.70992522e-04, -7.10340992e-04,  1.85781382e-03,\n",
       "       -7.42940152e-04, -2.35978543e-04, -1.10859830e-03, -2.56023031e-03,\n",
       "       -1.95971318e-03,  1.23525172e-03, -1.59518509e-03,  1.27644952e-03,\n",
       "        9.74094881e-04, -1.43075193e-03,  1.58223399e-03,  6.90968851e-04,\n",
       "       -9.79084249e-04, -1.25576160e-03,  9.21088280e-04, -1.29940871e-03,\n",
       "       -7.68758904e-04, -1.54091304e-03,  3.93018080e-03, -3.12097892e-03,\n",
       "       -1.56958209e-03, -9.45900872e-04,  4.20648096e-04, -1.97420282e-03,\n",
       "        2.71994249e-04, -8.45885711e-04, -2.50085146e-04,  2.95348346e-03,\n",
       "        1.36026955e-03, -1.26059499e-03, -5.21434044e-04,  1.09815242e-03,\n",
       "       -6.86769130e-04, -1.23135952e-03,  2.26351120e-03,  1.08561002e-03,\n",
       "        1.64237926e-03, -1.47615244e-03, -1.94348783e-04, -4.45960420e-04,\n",
       "       -7.91996287e-04, -1.03831931e-03,  8.95144643e-04, -1.67488093e-04,\n",
       "        2.20426870e-03, -1.19202795e-03, -1.26751940e-03, -1.49374201e-03,\n",
       "        2.13807049e-03, -1.24920650e-03, -1.18866990e-03, -1.28904149e-03,\n",
       "       -1.92667740e-03, -3.03772991e-03,  7.35138151e-04, -1.03377466e-03,\n",
       "       -1.58457507e-03,  5.68077086e-04, -8.29883817e-04,  1.38026740e-03,\n",
       "        1.03936639e-03, -5.01274820e-06,  4.44330241e-04, -1.26023651e-03,\n",
       "       -1.62080256e-03,  1.56390673e-03,  7.21574116e-04,  6.73128054e-04,\n",
       "        9.76227167e-04, -8.17282045e-04, -4.24506227e-04, -1.98782273e-03,\n",
       "        2.76468489e-03, -7.02851382e-04, -1.97071941e-03,  7.92859697e-04,\n",
       "        1.10162410e-03, -7.48005298e-04, -1.08076993e-03, -6.00052547e-04,\n",
       "        1.64357736e-04,  1.52785222e-04,  1.07696559e-04,  2.00721607e-03,\n",
       "       -8.06055559e-04,  1.96289304e-03,  7.73588280e-04,  8.20430433e-04,\n",
       "        8.83857262e-05, -1.27847126e-03, -7.29654668e-04, -1.35705110e-03,\n",
       "        8.81165379e-04, -1.02067072e-03, -8.12638479e-04, -1.47786031e-03,\n",
       "       -2.05150322e-03, -7.57641894e-04, -2.49196097e-03, -3.88417710e-04,\n",
       "       -1.97984320e-03,  3.65799833e-03,  1.04793947e-03,  1.18933604e-03,\n",
       "       -7.66434531e-04, -3.17773610e-04, -9.48997804e-04,  1.51443952e-03,\n",
       "       -1.20599970e-03,  7.32103077e-04, -8.71934787e-04, -3.38630278e-04,\n",
       "        8.58075491e-04, -9.38015174e-04, -1.30538381e-03, -6.66577165e-04,\n",
       "        2.05409654e-03,  3.99459597e-04, -1.01706621e-03, -1.36985841e-03,\n",
       "       -1.92922598e-03,  8.14799744e-04, -2.36167590e-04,  6.08487740e-05,\n",
       "       -9.72831404e-04,  6.78892032e-05,  1.22878121e-03, -1.56235128e-03,\n",
       "       -2.70894986e-04,  1.05508923e-03, -1.11421705e-03, -1.57064172e-03,\n",
       "       -1.95751090e-03, -6.08224033e-04, -1.80714985e-03, -4.48320914e-04,\n",
       "       -1.30621293e-03,  2.93986374e-05, -1.78104783e-03, -3.11842717e-04,\n",
       "       -2.85312427e-04, -1.39477124e-03, -1.17461382e-03,  2.05278205e-03,\n",
       "       -2.57726535e-03,  1.40396164e-03,  1.39322961e-03, -1.46146997e-05,\n",
       "       -1.82299622e-03, -4.15709565e-04,  2.81581274e-03,  1.50579274e-03,\n",
       "        1.48910168e-03, -6.63643709e-04,  1.23503689e-03, -1.31261955e-03,\n",
       "        9.50231238e-04,  8.74583124e-04, -1.57329645e-03,  8.61318313e-04,\n",
       "        1.30360262e-03, -1.27765913e-03, -1.77406777e-03, -7.50162951e-04,\n",
       "       -1.92899177e-03,  1.66626277e-03, -1.59874512e-03, -9.76229778e-04,\n",
       "        3.09684626e-04, -2.09585553e-03, -1.79603391e-03, -1.46681849e-03,\n",
       "       -1.10624742e-03,  1.76552398e-03,  4.81669943e-04, -6.90229577e-04,\n",
       "        1.09888875e-03,  9.35365682e-04, -2.05878601e-03, -1.98382650e-03,\n",
       "       -1.85354877e-03, -1.31469786e-03, -4.26609784e-04, -1.33361851e-03,\n",
       "        2.68045403e-04, -2.75947354e-04,  6.75551612e-04, -1.21321271e-03,\n",
       "        6.34703710e-04, -1.14728062e-03, -2.28011686e-03,  9.67507768e-04,\n",
       "        1.41750580e-03, -3.77157310e-04, -1.58173682e-03,  7.63969935e-04,\n",
       "       -8.44719287e-04,  4.13072028e-04,  1.27307110e-03,  2.57892637e-04,\n",
       "       -7.65523020e-04,  1.69548532e-03,  7.08136964e-04,  4.74147542e-04,\n",
       "       -1.32181927e-03, -3.34395937e-04,  1.59229999e-03, -6.83286922e-04,\n",
       "        3.09676866e-03, -3.63278254e-04, -9.88998902e-04, -4.22008884e-04,\n",
       "       -7.44804102e-05,  9.52461018e-04, -9.46053051e-04, -1.22922282e-03,\n",
       "       -2.69200982e-03,  1.56368749e-03, -1.07509025e-03,  1.63110823e-03,\n",
       "       -1.16677074e-03, -4.99973271e-04,  7.36040554e-04, -1.85742049e-03,\n",
       "       -3.17178158e-03, -8.71498138e-04, -8.04066592e-04,  4.04153995e-04,\n",
       "       -2.78363338e-03, -1.28166969e-03,  1.85249908e-03,  2.22027303e-04,\n",
       "       -4.53135842e-04, -3.85094649e-05, -1.02403832e-03,  6.57215255e-04,\n",
       "       -2.09843865e-03, -1.11295986e-04, -5.90040873e-04,  1.80196079e-03,\n",
       "       -6.95179051e-04,  5.85170569e-04,  1.53987049e-03,  9.14831838e-04,\n",
       "       -1.65141972e-03, -1.38901297e-03, -5.56726624e-04, -1.10042039e-03,\n",
       "        4.16461904e-03,  2.17810797e-03, -1.19891806e-03, -1.76122801e-03,\n",
       "       -1.02918847e-03, -7.21246933e-04, -1.29364279e-03, -3.29394424e-04,\n",
       "        1.95336080e-03, -6.83482911e-04, -1.21379784e-03,  4.67605119e-04,\n",
       "       -9.23321031e-04, -1.56146517e-03,  1.39431430e-03,  6.21152749e-04,\n",
       "        3.29592124e-04, -1.62339031e-03, -1.44992230e-03, -1.76499818e-03,\n",
       "       -3.06094065e-03,  1.96139163e-03, -3.78259606e-04, -2.20937816e-03,\n",
       "       -3.43662303e-04,  5.24906207e-04, -1.28196913e-03, -6.99179821e-04,\n",
       "        8.09907212e-05,  6.35628223e-04, -1.17035919e-03,  9.70292598e-04,\n",
       "        2.00925022e-04, -2.58204683e-04,  3.28636390e-03, -1.61405609e-03,\n",
       "       -1.84287088e-03,  2.11154035e-03,  6.96634765e-04, -1.19073257e-03,\n",
       "       -3.05181224e-03,  1.53528806e-03,  9.97166623e-04,  9.42241403e-04,\n",
       "       -1.00863719e-03, -1.58848273e-03, -1.18065416e-03, -1.57345738e-03,\n",
       "       -2.13697357e-03, -1.31345357e-03,  2.54164805e-03, -1.20492137e-03,\n",
       "        5.17702829e-04, -5.08235708e-04,  8.64290706e-04,  1.65775147e-03,\n",
       "        2.28035436e-04,  1.97647882e-03,  1.90757531e-03, -1.83505304e-04,\n",
       "       -2.16072645e-04,  3.39135487e-04, -1.80091732e-03,  1.36748435e-03,\n",
       "       -1.73916480e-03, -1.47990155e-03, -1.34696017e-03, -8.06806476e-04,\n",
       "       -2.08954790e-03, -4.71360624e-04,  7.90535883e-04,  1.05979006e-03,\n",
       "        2.77305490e-03, -1.77286924e-03,  1.75534957e-03, -9.42054241e-04,\n",
       "       -8.02128599e-04, -9.62942867e-04, -7.36057355e-04,  1.15759220e-03,\n",
       "       -3.90492511e-03, -2.40553095e-03,  5.29774611e-04, -1.21629306e-03,\n",
       "       -7.54638901e-04, -1.65841154e-03,  2.41288766e-03, -4.08475057e-04,\n",
       "       -1.86675249e-03, -1.35723864e-03,  2.29156366e-03, -5.20992140e-04,\n",
       "       -1.06621817e-03,  2.98732916e-03,  1.89903160e-03, -1.46770159e-03,\n",
       "       -1.22305862e-03, -2.28296500e-03, -9.70182687e-04, -5.65320817e-04,\n",
       "       -1.57087634e-03, -9.05313475e-04, -1.37554440e-03, -6.89032706e-04,\n",
       "       -3.57547788e-04,  3.95769086e-03,  2.23800746e-03, -1.19497634e-03,\n",
       "       -7.55425187e-04,  1.13872258e-03,  2.80732026e-03, -1.30772263e-03,\n",
       "       -1.71806997e-03,  1.55998789e-03, -2.14198904e-03, -7.87064695e-04,\n",
       "       -1.76769189e-03, -6.75792139e-04, -1.32190566e-03,  4.18327631e-04,\n",
       "       -1.34815224e-04, -1.25088096e-03, -2.11919020e-03,  6.80452398e-04,\n",
       "       -6.93824740e-04, -7.80335452e-04,  1.22544987e-03,  1.06700894e-03,\n",
       "       -3.23158263e-04, -9.98480264e-04,  5.91325537e-04, -4.55508388e-04,\n",
       "       -1.15663895e-03,  3.42334440e-03, -6.38170799e-04,  1.72044796e-04,\n",
       "       -1.83963675e-03, -2.52701088e-05, -1.65306931e-03, -1.30095268e-03,\n",
       "        4.19019770e-04,  2.51336298e-03,  2.07794683e-03, -2.01865377e-03,\n",
       "        2.16454881e-03,  8.71585606e-04, -7.46365836e-04, -4.21693423e-04,\n",
       "       -1.06686922e-04,  1.10770301e-03, -1.36048672e-03,  2.91379379e-03,\n",
       "        1.03781338e-03, -8.33054348e-04,  1.19727896e-03,  2.19869133e-03,\n",
       "       -1.45985166e-03, -9.77079545e-04, -6.27292150e-04,  1.77284555e-03,\n",
       "        2.72769436e-03,  3.45587446e-03, -3.23556012e-04,  1.14677794e-03,\n",
       "       -2.80969517e-03, -7.66713628e-04, -1.41605273e-03,  4.19277119e-04,\n",
       "       -1.92278926e-03, -4.98769099e-04, -9.52317423e-04, -1.55115927e-03,\n",
       "       -1.50501279e-03, -7.62913795e-04, -1.73147815e-03, -1.10997345e-03,\n",
       "       -1.28686675e-03, -9.38798664e-04,  1.60888157e-03, -2.11096274e-03,\n",
       "       -1.39676346e-03, -1.18071043e-03, -2.22735432e-03,  2.51622539e-04,\n",
       "       -9.59145234e-04, -1.13495525e-03,  3.54970251e-04,  1.20978450e-03,\n",
       "        2.89510629e-04,  1.19618555e-03, -9.17212269e-04,  2.12335878e-04,\n",
       "        6.96955724e-04,  4.64981931e-04,  4.52505891e-04, -7.46957551e-04,\n",
       "        1.80552509e-03,  9.27035427e-04, -6.16605735e-04, -1.76994396e-03,\n",
       "       -2.17537196e-03, -1.53334585e-03, -2.97111083e-04, -7.68967656e-04,\n",
       "        2.98410074e-03, -1.39075342e-03, -3.02438780e-03, -8.16624908e-05,\n",
       "        1.41067939e-03, -2.26683605e-03, -8.76850630e-04,  8.68879500e-04,\n",
       "       -1.11627991e-03,  8.84721944e-04, -1.20172193e-03,  9.26786644e-04,\n",
       "       -5.67748959e-04,  1.74330885e-04,  9.72532306e-04,  3.63171019e-03,\n",
       "        4.13773072e-04, -1.60395162e-03, -1.99006068e-03,  3.72320980e-03,\n",
       "        5.86927057e-04, -9.68567810e-04,  5.50497187e-04, -1.68009877e-03,\n",
       "        6.15600585e-04, -7.28559802e-04,  2.20804585e-03,  9.11175350e-04,\n",
       "        1.33393748e-04, -1.47380274e-03, -1.31079092e-03,  9.46276572e-04,\n",
       "       -5.08355148e-04,  1.69249102e-03, -1.79355715e-03,  3.04903854e-04,\n",
       "        3.55463228e-03, -1.08972848e-04,  1.26151976e-03,  1.33301947e-03,\n",
       "       -2.16851544e-03, -7.71604508e-04, -1.06012839e-03, -7.47891920e-04,\n",
       "       -7.65438582e-05, -1.51873839e-03, -7.35610592e-04, -1.80762470e-03,\n",
       "       -1.42739323e-03, -7.35966649e-04,  6.32301031e-04, -9.85976709e-04,\n",
       "       -1.60479197e-03, -1.38172765e-03, -3.08142120e-04, -6.65958482e-04,\n",
       "       -4.10725468e-04,  6.97018756e-04, -9.70952752e-04,  2.14240251e-03,\n",
       "        1.91875089e-03, -1.76998257e-03, -9.68517966e-04, -1.35254958e-03,\n",
       "       -9.97938370e-04, -5.33394495e-04, -1.68821508e-04, -5.46068346e-04,\n",
       "        7.77334730e-04, -8.05302108e-04, -1.83659440e-03, -7.10386878e-04,\n",
       "        1.23447907e-03, -1.32977680e-03, -1.09986597e-03,  1.86806536e-03,\n",
       "        3.59713656e-03,  2.24876910e-03,  8.84032105e-04,  3.10766171e-03,\n",
       "       -1.05119710e-03, -1.30797425e-03, -2.02188679e-03, -1.66916147e-03,\n",
       "       -9.80754132e-04,  1.09266292e-03, -1.20894387e-03, -1.46997726e-03,\n",
       "        1.06104820e-03, -1.65734406e-03, -1.55377193e-03,  6.10228126e-04,\n",
       "        7.36350818e-04, -1.00861818e-03,  1.47462642e-04, -1.97354522e-03,\n",
       "       -6.68035918e-04,  1.03157664e-03,  4.98801602e-03,  1.53754746e-03,\n",
       "       -1.79603391e-03, -9.59987896e-04, -1.62037236e-03, -2.12127375e-03,\n",
       "       -2.10352209e-03, -2.51504877e-03, -2.24953874e-03,  2.61824082e-03,\n",
       "       -1.38615983e-03, -7.19887028e-04,  5.67640494e-04, -7.02316485e-04,\n",
       "        2.68322834e-03, -1.38326404e-03,  1.62908585e-03, -1.62247416e-03,\n",
       "       -9.38328644e-04, -1.23814733e-03,  8.52547511e-04,  7.27317612e-04,\n",
       "       -5.86574320e-04, -1.05304235e-03,  2.62154321e-03, -9.79892222e-04,\n",
       "       -2.08837978e-03, -1.56359874e-03, -9.41727788e-04, -1.44218808e-03,\n",
       "        1.28301816e-03, -1.67835478e-03,  1.53750411e-03,  2.99034703e-03,\n",
       "        1.49992409e-03,  1.07028013e-03, -2.10271328e-03, -1.30502925e-03,\n",
       "       -9.97832997e-04, -7.60360905e-04,  5.51018754e-04, -4.96942408e-04,\n",
       "       -1.43798230e-03, -6.93896516e-04,  2.39879454e-03, -1.65388138e-03,\n",
       "       -2.29700638e-04, -2.88474940e-03,  1.19404017e-03, -1.12547636e-03,\n",
       "       -1.78816107e-03,  1.62861810e-03, -1.81102762e-03, -9.41883364e-04,\n",
       "        2.40083557e-04, -2.41487919e-03,  1.02036161e-03, -1.32403806e-03,\n",
       "       -1.11324978e-03, -8.95235796e-04, -1.43997421e-03, -1.30133507e-03,\n",
       "        1.08182018e-03, -8.79438838e-05,  1.74773083e-03,  1.59374292e-03,\n",
       "       -1.07905216e-03,  1.81268282e-04, -1.15859500e-03, -7.46519326e-04,\n",
       "       -1.85627893e-03,  1.13426400e-03, -1.44002963e-03,  1.48470753e-03,\n",
       "       -1.45029804e-03, -1.52799310e-03,  1.40890064e-03, -1.34381445e-03,\n",
       "       -7.44433767e-04, -4.21726377e-04, -3.05060777e-04, -8.27451603e-04,\n",
       "       -1.21754544e-03,  3.69093417e-03, -1.34050665e-03,  1.34824038e-03,\n",
       "       -2.81189627e-03,  2.68348850e-03,  5.90382205e-04, -1.55714237e-03,\n",
       "       -4.78952383e-04, -1.12479738e-03,  8.31755922e-04,  2.39684562e-04,\n",
       "        1.76208407e-04, -9.21084451e-04,  3.31943381e-03,  4.61023881e-04,\n",
       "       -8.80748418e-04, -1.67917361e-03, -3.37617277e-04,  1.45753103e-03,\n",
       "       -1.35737834e-03, -4.53831950e-04, -1.69841331e-03, -9.13320664e-04,\n",
       "       -1.47341451e-03, -2.48178420e-03,  2.06413473e-03, -6.61724483e-04,\n",
       "        4.14621802e-04, -1.15777226e-03,  1.40599488e-03, -5.72923183e-04,\n",
       "        1.81192181e-03, -4.55844814e-04,  1.23610909e-03,  8.65493374e-04,\n",
       "       -6.48667001e-04, -1.87125335e-03, -1.45429994e-03, -2.13495964e-03,\n",
       "       -1.99892766e-03, -6.63857515e-04, -1.12300124e-04, -3.83367638e-04,\n",
       "        5.00034414e-03,  1.12005950e-03,  5.14753205e-03,  2.62953750e-04,\n",
       "       -1.36958060e-03,  3.56544771e-04, -8.48443499e-04, -7.71185745e-04,\n",
       "       -9.57776782e-04, -8.30008864e-04, -2.63846131e-03,  9.97771768e-04,\n",
       "        1.06607971e-03, -5.70718325e-04,  4.48398400e-03, -1.31537677e-03,\n",
       "       -1.05889768e-03, -8.25993572e-04, -2.11436618e-03, -9.72213759e-04,\n",
       "       -1.11682820e-03, -1.54540766e-03,  1.15413754e-03, -4.49054126e-04,\n",
       "       -1.18015304e-03,  6.71398968e-04, -1.16226873e-03, -2.55604818e-03,\n",
       "        6.33549655e-04, -1.77447069e-03, -1.86029406e-03,  1.12876722e-03,\n",
       "       -1.11606417e-03,  1.92372847e-03,  1.21537471e-03,  1.81654789e-03,\n",
       "       -1.40982442e-03,  4.12777728e-03, -1.06612271e-03, -5.84428334e-04,\n",
       "       -1.83975779e-03,  1.60871991e-03, -1.13283765e-03,  7.04707520e-04,\n",
       "       -6.08975262e-04,  7.68460386e-04, -4.36044646e-04,  2.37422661e-03,\n",
       "        1.00242792e-03,  1.04071904e-04, -7.97932299e-04, -5.74111393e-04,\n",
       "       -1.28029623e-03,  5.55036583e-04, -1.03702583e-03, -1.75096019e-03,\n",
       "        1.76366022e-03,  3.67900196e-04,  2.53747485e-03,  1.08250958e-03,\n",
       "        1.78845745e-03,  9.12686245e-04, -1.35205490e-03,  5.92253264e-04,\n",
       "        1.85652271e-03,  1.96049333e-03, -7.53058611e-04, -2.60214055e-04,\n",
       "       -1.37174988e-03,  1.42614815e-03, -2.11115349e-03, -7.58471400e-04,\n",
       "        1.32826780e-03, -2.21413288e-04, -2.92517909e-04,  1.99635035e-03,\n",
       "        2.94081960e-03, -3.88206965e-04, -1.88035489e-03,  1.25085377e-03,\n",
       "       -1.20280800e-03, -2.26454691e-03, -6.03457820e-04, -6.10832333e-04,\n",
       "       -3.08327404e-03, -1.26625581e-03,  1.74105401e-03, -1.75472589e-03,\n",
       "        8.52209684e-04, -7.50735640e-04,  2.49067396e-04, -6.83206374e-04])"
      ]
     },
     "execution_count": 82,
     "metadata": {},
     "output_type": "execute_result"
    }
   ],
   "source": [
    "inf3"
   ]
  },
  {
   "cell_type": "markdown",
   "metadata": {},
   "source": [
    "<h4>Determine total influence of datapoints<h4>"
   ]
  },
  {
   "cell_type": "code",
   "execution_count": 83,
   "metadata": {},
   "outputs": [],
   "source": [
    "total_inf = inf3 - inf\n",
    "if_end = time.time()\n",
    "if_time1 = if_start - if_end"
   ]
  },
  {
   "cell_type": "code",
   "execution_count": 84,
   "metadata": {},
   "outputs": [
    {
     "name": "stdout",
     "output_type": "stream",
     "text": [
      "0.004587411900271273\n",
      "-0.0034670650841094075\n",
      "800\n",
      "<class 'numpy.ndarray'>\n",
      "float64\n"
     ]
    }
   ],
   "source": [
    "print(max(total_inf))\n",
    "print(min(total_inf))\n",
    "print(len(total_inf))\n",
    "print(type(total_inf))\n",
    "print(total_inf.dtype)"
   ]
  },
  {
   "cell_type": "markdown",
   "metadata": {},
   "source": [
    "<h4>Make sure everything is working by comparing the predicted values\n",
    "Vs the actualy<h4>"
   ]
  },
  {
   "cell_type": "code",
   "execution_count": 85,
   "metadata": {},
   "outputs": [],
   "source": [
    "#Set up predictors and target variable\n",
    "acs_columns_list = list(X_test_orig.columns)\n",
    "target_var = 'PINCP'\n",
    "predictors = [item for item in acs_columns_list if item != 'PINCP']"
   ]
  },
  {
   "cell_type": "code",
   "execution_count": 86,
   "metadata": {},
   "outputs": [],
   "source": [
    "#Function to run the logistic regression model based on classifier.py\n",
    "def lr_model(training_df, test_attr_df, classifier):\n",
    "    changed_df_labels = training_df.pop('PINCP')\n",
    "    changed_df_attr = training_df.to_numpy()\n",
    "\n",
    "    classifier.fit(changed_df_attr,changed_df_labels.values)\n",
    "    y_predicted = classifier.predict_proba(test_attr_df)\n",
    "\n",
    "    training_df['PINCP'] = changed_df_labels\n",
    "\n",
    "    return y_predicted"
   ]
  },
  {
   "cell_type": "code",
   "execution_count": 87,
   "metadata": {},
   "outputs": [],
   "source": [
    "#Combine x_train and y_train\n",
    "#I combine these so that when I flip the labels I have one DF that I work with\n",
    "#Rather than 2 numpy.ndarrays\n",
    "train_demo_df = pd.DataFrame(X_train, columns = predictors)\n",
    "train_outcome_df = y_train.to_frame()\n",
    "#train_outcome_df=train_outcome_df.rename(columns={'PINCP':'PINCP'})\n",
    "train_full_df = pd.concat([train_demo_df, train_outcome_df], axis=1)"
   ]
  },
  {
   "cell_type": "code",
   "execution_count": null,
   "metadata": {},
   "outputs": [],
   "source": [
    "copy_train = train_full_df.copy()\n",
    "difference = []\n",
    "\n",
    "for index in copy_train.index:\n",
    "    df_dropped = copy_train.copy()\n",
    "    df_dropped = copy_train.drop(index)\n",
    "    #Run lr_model() to get predicted probabilities\n",
    "    ypred = lr_model(df_dropped, X_test, clf)\n",
    "    parity = computeFairness(ypred, X_test_orig, y_test, 0, dataset)\n",
    "    \n",
    "    parity = parity-spd_0\n",
    "\n",
    "    difference.append(parity)\n",
    "    print(index)\n",
    "#This does not fall under the measuring the time taken to decide how long it will take for IF to work "
   ]
  },
  {
   "cell_type": "code",
   "execution_count": 89,
   "metadata": {},
   "outputs": [
    {
     "name": "stdout",
     "output_type": "stream",
     "text": [
      "[-0.0001763381, -0.0001972607, -7.46768e-05, 0.0013931466, -0.0013949435, -0.000323244, -0.001096386, 0.0004973601, 0.0005433887, -7.2611e-06, -0.0004081216, 0.000600484, -0.0009259534, 0.0010812937, 0.0007016072, -0.0010977703, 0.0005794685, -0.0007204531, 0.0006465643, 0.0008428497, -0.0004972184, -0.0004306102, -0.0007035082, 0.0004080754, -0.0002952367, -0.0001015238, -0.0006257637, -5.12904e-05, 2.1343e-06, -0.0001197281, -0.0001933975, 0.0008834563, -0.0003009354, -0.0005352615, -0.0007526293, -0.0001148519, -0.0003139983, 0.0003380936, -0.000338933, 0.0006439022, 0.0004808758, -0.0001693047, 0.0003606383, 0.0006213743, -6.7722e-05, -0.0001317707, 0.0017849062, -0.0011630437, -0.0012784959, -0.0002502067, 0.0009599783, -0.0006218306, -0.0003854731, -0.000570299, 0.0004821947, -0.0004117047, 0.0014686305, -0.0006571097, -0.0001319259, 0.0009463785, 0.0026862852, -0.0001120427, -0.0027592482, 0.0010586947, -0.0001835289, -9.4861e-05, 0.0018800511, 0.0006427941, 0.0011091786, -0.0005747937, -0.0002163844, -0.0002421659, -6.65878e-05, -0.001014428, 0.0013610858, -2.77407e-05, 0.0001475274, -7.1884e-05, -0.0001013147, -8.96807e-05, 0.0001920703, -0.0007822655, -0.0015883909, -0.0010538963, -0.0003270765, -0.0009782538, 0.0008008767, -0.0003009051, -0.0007547077, 0.0015211031, -1.94711e-05, 0.0016512755, 0.0015305297, -1.827e-06, 0.0008979101, -0.0004429512, -0.0010991024, 0.0003926371, 0.0010187103, 0.002317132, 0.0016530176, -0.0001571599, -8.28133e-05, -0.0011359238, 0.0011163695, -0.0014207159, -0.0003636018, 0.0011354368, 0.0015156729, -0.0007803318, -0.0002936285, -0.0004716524, 0.0001378666, 0.0005091237, 1.52544e-05, 0.0002611357, -0.0010049274, 0.0003306986, 0.0004826896, 0.0008111503, 5.31574e-05, -9.09004e-05, -0.0002961675, -0.0003371077, 0.0012225009, -0.0002932417, -0.0003072232, -0.0003377512, -0.0001882314, -0.000251211, -0.0008455071, -0.0003621479, -0.0006880644, 0.0014856016, 0.0003106149, 0.001554679, -0.0004344148, -0.0003421253, -0.0002716983, 0.0002298674, -0.0006387643, 0.0009595968, -0.0005102171, -0.0010783868, 0.0007817828, -0.0001812824, -0.0003586196, -0.0030175463, 0.0007886404, 0.0001102036, -0.0005512606, -0.0002523786, -0.0005980373, 0.0011955398, -3.02067e-05, 6.04299e-05, -0.0001780158, 2.26767e-05, 0.0004933146, -0.0001759785, -7.5271e-06, 0.0002844968, -0.0012304858, -0.000184276, -0.0002310747, -0.000526368, -0.0002076504, -0.0002402139, -0.0002104238, 3.21831e-05, -0.000108089, -0.00056204, -0.0010599692, -0.0004739719, -4.14027e-05, 0.0008180153, -0.0006759399, 0.0012645116, 0.0006336916, -7.9104e-06, -0.000239883, -0.0007795688, 0.0004975032, 0.0006428051, 0.0008099904, -9.14265e-05, 0.0009331575, -0.0001386771, 0.0007211123, 0.0009104999, -0.0008129247, 0.000905414, 0.0002060348, -0.0003699713, -6.53925e-05, -0.000274, -5.90106e-05, 0.0003392736, -0.0005841831, -0.0022738191, 0.0008204616, -0.0008107173, -0.0001751461, -0.0001541067, -0.0008906208, 0.0012559567, 0.00105381, -0.0015523856, 0.0016641428, 0.0014229036, -0.0010418097, -0.0008380831, -4.66416e-05, -0.0016263449, -0.001368392, -0.0006485206, 0.0011852491, -8.91761e-05, 6.41271e-05, -0.0004884395, 0.0009346783, -0.0003167877, -0.0011928166, 0.0005774159, 0.0010457913, -0.0006884375, -0.0008190702, 0.0006244402, -0.0002296875, 0.0010639435, 0.0005768629, 0.000982505, -0.0003934097, 0.0003959294, 0.0005894801, 0.0009562926, -0.0003225422, -0.0012515284, 0.0004023003, -0.0003603021, 0.0008801196, -0.0013335519, -0.0015216683, -0.0005576807, -8.08477e-05, 0.0006021535, -0.0004728094, -0.0001834215, -0.0004230071, 0.0006874488, -0.0005537248, 0.0005812803, -0.0003585649, -0.0004541363, 0.000119572, -0.0003201868, -0.0002408361, -0.0001123438, -0.0001623632, 0.0011772312, -0.0005794879, -0.0004784286, 0.0006412211, 0.0003335909, -3.94849e-05, -1.1126e-06, -9.99729e-05, 0.0012034042, -0.0005755765, -3.8316e-06, -0.0001949613, 0.0001932504, -0.0008481151, 0.0003410747, 0.0001860956, 0.0005316227, -0.0007128375, -0.0003375028, -0.0004182917, -0.0001696578, 0.0008744183, 0.0007807097, -0.0007815013, -0.0003994445, -0.0001984512, -0.0012992193, -0.0005871791, -0.0001243986, 0.0009330981, -4.22548e-05, -7.0839e-05, 0.0004044009, -3.98795e-05, -0.0005141332, 0.0017599408, 0.0004222664, 8.23449e-05, -0.0012003475, -0.0004538968, -0.0003940812, -0.0008618941, 0.0002760112, -0.0001439798, -0.0007662863, -0.0011767512, 0.0009203801, -0.0004472241, -6.35168e-05, 3.65723e-05, 0.0006312384, -0.0001020667, 0.0012116892, 0.0001196985, -0.0004105016, 0.0005072467, -0.0003213176, -0.0009797647, 0.0014287247, 0.0005431963, -4.32632e-05, -0.0004727603, 0.0003619306, 0.0005373841, 0.0009067134, -0.0006915811, -0.0006638313, -0.0006412752, -0.000814655, -0.000724163, -0.0002015533, 0.000444792, -0.0002857897, 0.0013980503, -6.49458e-05, 0.0013330217, 0.0005200903, 0.0002378932, 0.0003741976, 0.0005613301, -0.0003202687, -1.51333e-05, 0.0021608839, -5.10177e-05, 0.0005468083, -0.0004044637, -0.0003482593, -2.45568e-05, -0.0002384522, -0.0002819028, -0.0013173267, 7.76587e-05, 0.0002897075, 0.000168282, -0.0012469329, 0.0007326792, -0.0022841439, -1.30491e-05, -0.0009152845, -0.0003064606, 0.0006031168, -0.00043786, -0.0004650167, 0.0009820514, -0.0005451852, -0.0003683877, -0.0001384614, 0.0010870828, -4.06059e-05, -0.0002632905, -0.0005744922, 0.000537401, -0.0002521274, -0.000256375, 0.0004277688, 0.0001207673, -0.0006264933, -0.0016772766, -0.0004511334, -0.000683241, -0.0002798316, -0.0002727917, -0.0002240799, -0.0004577748, -0.0016371968, -0.0003261647, 0.0003612515, 0.0008169156, -0.0005642982, -5.8829e-05, 8.89962e-05, 0.0014587962, -0.000353132, -0.0003453895, 0.0007496138, -0.0004490683, -0.0010064325, -0.0003970812, -0.0002765415, -0.0017690743, 0.0002209158, -7.0583e-05, -0.000384121, -4.9779e-05, 0.0013727831, -5.33254e-05, -0.0005943492, 0.0008315507, 0.0004576789, -0.000648337, -0.0027298831, 0.0005383048, -0.0004174064, -0.0001216995, 0.0014779673, -0.0004566722, 1.10912e-05, -0.0056144736, -9.0907e-06, -0.0001542544, -0.0011301474, 0.0002255633, 0.0006092128, 8.43089e-05, -0.0002811726, 0.0009460073, 0.0003178663, -0.0001020701, -0.0008775038, -2.06782e-05, 0.0001879635, -5.09512e-05, 0.0007615354, 0.0018300349, -3.34855e-05, 0.00186045, 0.0003288248, -0.0001409922, -1.93256e-05, -0.0013180547, 0.0011766463, 0.0006407382, 0.0004146665, -0.0004819793, 0.0010232184, -0.0001372667, -0.0013951771, -0.0005025837, 0.0004620752, -0.0018409448, -0.0025754952, -7.07551e-05, -0.0004025306, -0.0003059739, -0.0001103264, -0.0002162261, -0.0003140947, -0.0004016262, -0.0018578092, 0.0011743941, -0.0002678509, -0.0011892246, -8.73884e-05, -0.0001441626, 0.0003679925, -0.000210424, -0.0002206782, 0.0005756543, 0.0008566638, 0.0009755347, 0.000661512, -0.0006350574, 0.0005847994, 0.000179416, 0.0008029375, 0.0002506414, -0.0002492256, 0.0003605855, 0.002485483, -2.1577e-05, -0.0005594259, -0.0002652231, -0.000621302, -0.0014841517, -0.0006844637, 0.0005222263, -0.0029412551, -0.0015208814, -1.69718e-05, 0.0003573193, -0.0002515767, -0.0008139076, 0.0002735005, -6.26289e-05, 0.0013102578, -0.0001443883, 0.0009015246, -0.0005282349, 0.0002023978, 0.0009139056, 0.0009433466, 0.0004065334, -0.0006139335, -0.000624167, 0.000778654, 0.0013899377, -0.0003739827, 0.001549314, -0.0014328839, 0.0027841575, -0.0006773108, 0.0010705846, 0.0002221624, 7.8623e-06, -0.0001510333, -0.0015485742, 0.0016238491, -0.0001023022, 0.0001516268, -0.0001369807, 0.0015522172, 0.0004381366, -1.15926e-05, 0.0006965806, 0.0007387869, -0.0005514744, -0.0028559901, -0.0002416524, -6.82647e-05, -0.0002616667, -0.0003223514, -0.0001097148, -0.0001500413, -0.0003965884, -0.0001084334, 0.0011056703, -0.0002079104, -0.0006353476, -0.0007596237, -0.0005490164, -0.000194946, -0.0007382375, 0.0010665163, -0.0011235627, 0.0009215157, 0.0001938309, -0.000310364, -0.0025932124, -0.0014816046, -3.64694e-05, -0.001243437, -2.61123e-05, -0.0002991645, 0.0010149402, -0.0001935648, -0.0005773986, -1.34413e-05, 0.001223753, -0.0021716371, -0.0004336657, 0.0018717057, 0.0005629037, 0.0003247051, 0.0009236102, 0.0002609344, -0.0001967332, -0.0008632976, -0.0006094917, -0.001037917, -6.27189e-05, 0.0010967941, -0.0003369905, -0.0006941501, 0.0008582296, -0.0008915454, -0.0010283043, 0.0011671308, 0.0014014477, -0.0002235953, 0.0005238966, -0.0009695954, -5.17126e-05, 0.0013516941, 0.0006363063, 0.0002575001, -0.0001751461, -0.0016177822, -0.0001275937, -0.0002969828, -7.91662e-05, -0.0001952127, -0.0006747282, 0.00033002, -0.0001575897, -0.0042372783, 0.0010414427, -3.27661e-05, 0.0002390766, -0.0007184136, 0.0014285061, -0.0004692022, -2.78099e-05, -0.0015915944, 0.0004114497, 0.0008013115, -0.0008037782, -0.0003680451, 0.0006940213, -0.0021157543, -0.000278389, -3.43879e-05, -0.0003546241, -6.08746e-05, 0.0007292635, -0.0001544351, 0.001258572, 0.0011802589, 0.0005129995, 0.001011637, -0.0015902016, -0.0016573153, -0.0001099314, -0.0002801152, 0.0003393637, -0.0012989923, -0.0002192862, -0.000308229, 0.0006732327, -0.001095794, -0.0001212034, -0.0005120773, 0.0011295668, -5.20985e-05, -0.0013102225, 0.0002273308, -0.0002490726, -0.002245921, 0.001414777, -0.0005319057, 0.0002853538, -0.0008228956, -0.0004408525, -0.0001774266, -3.59641e-05, -0.0002031627, 0.0004538118, -1.77881e-05, 0.0004511898, 0.0007022869, -0.0003149484, 6.4705e-06, -0.0001744608, -0.0001172387, -0.0001491186, 0.0007161867, -0.0004287645, 0.0007082015, -0.0002392287, -0.0003069155, 0.0015933057, -0.0005594623, -0.0004533466, -0.0001843364, -0.0001146802, -0.0001221076, -2.87517e-05, 0.0007748442, -0.0004262338, 0.0006337024, -0.0013035806, 0.0006774076, 0.0011163415, -7.26223e-05, -4.69736e-05, -0.0003425809, 0.001595957, 2.49866e-05, 0.0006884737, -0.0002440713, 0.0003734052, 0.0016669282, -0.0002644074, -0.0008182426, -0.0001209842, 0.0002838676, -0.0005081571, -0.0016044061, -0.0008535244, -0.0008216744, -0.0001073547, -0.0003108949, 0.0001647468, -5.67187e-05, 0.0003069786, -0.0003682636, 0.0003110395, -7.89157e-05, 0.0003310898, -0.000367551, 0.0001886359, 0.0009482595, -0.0006192668, -0.0002077624, -0.0002051045, -0.0001911376, -0.0006895705, -3.99751e-05, -1.11121e-05, -7.94105e-05, 0.0007363948, 0.0006258187, 0.0005601201, 0.0007607968, -0.0004514447, 0.0001780743, -0.0001774065, -0.0019002876, -0.00140514, -0.0011731184, -0.0004854922, 0.0002857134, 0.0009222294, -0.0002795417, 0.0010441118, -0.0011375685, -0.0001935436, -0.0002403236, -0.0001153998, -0.0002301801, -0.0009564567, -0.0002012396, 0.0005285501, -0.0004328905, -0.000205048, 0.0013692287, -0.0001203477, -0.0004364557, 0.000132096, -0.0002085325, -0.0007207585, 0.0002866326, -0.0003410044, 0.000664248, 0.001554036, 0.0011326159, -0.0011905461, 0.0009407071, -0.0001188612, -0.0014350768, -0.0013381842, 0.0002717802, -0.0004222939, 0.0006367311, -0.0002959904, 0.0008427622, -0.0001762771, 0.0012951776, 0.0007692469, 0.0005698378, -6.58465e-05, -2.72869e-05, -0.0007316473, 3.00149e-05, -7.39865e-05, -2.63818e-05, 0.0004664941, 0.0006191326, 0.0005865798, 0.0003011413, 0.0007522735, 0.0003071445, -4.69062e-05, 0.0004462513, 0.0005889265, 0.0002947483, -8.80055e-05, -0.0002063417, -0.0001175043, 9.16476e-05, -0.0016175341, -0.0002152812, 0.0007073347, -6.1279e-06, -3.22456e-05, 0.0020696071, 0.0007616427, -2.38921e-05, -0.0002412259, 0.0006983493, -0.0004645876, -0.0003690053, -0.0011414979, -0.0021079617, -0.0011744082, -0.0015167386, 0.0015080236, -0.0020642945, 0.0009545395, -6.44416e-05, 0.000249803, -0.0002526259]\n"
     ]
    }
   ],
   "source": [
    "decimal_array = [format(num, '.10f') for num in inf]\n",
    "decimal_array = [float(num) for num in decimal_array]\n",
    "print(decimal_array)"
   ]
  },
  {
   "cell_type": "code",
   "execution_count": 90,
   "metadata": {},
   "outputs": [
    {
     "data": {
      "image/png": "[encoded data removed]",
      "text/plain": [
       "<Figure size 640x480 with 1 Axes>"
      ]
     },
     "metadata": {},
     "output_type": "display_data"
    }
   ],
   "source": [
    "# Assuming your lists are named `predicted_diff` and `actual_diff`\n",
    "predicted_diff = decimal_array\n",
    "actual_diff = difference\n",
    "\n",
    "# Create the scatter plot\n",
    "plt.scatter(actual_diff, predicted_diff, label='Data Points')\n",
    "\n",
    "# Set the labels for the axes\n",
    "plt.xlabel('Actual Diff in Parity')\n",
    "plt.ylabel('Predicted Diff in Parity')\n",
    "\n",
    "# Set the title of the plot (optional)\n",
    "plt.title('Predicted vs Actual Diff in Parity (Removal)')\n",
    "\n",
    "# Add a legend\n",
    "plt.legend()\n",
    "\n",
    "# Show the plot\n",
    "plt.show()"
   ]
  },
  {
   "cell_type": "code",
   "execution_count": 91,
   "metadata": {},
   "outputs": [],
   "source": [
    "if_start = time.time()\n",
    "index_list = []\n",
    "list_len = len(X_train)+ len(y_train)\n",
    "for i in range(list_len):\n",
    "    index_list.append(i)"
   ]
  },
  {
   "cell_type": "code",
   "execution_count": 92,
   "metadata": {},
   "outputs": [],
   "source": [
    "#Make a copy of the training data to make flips on \n",
    "influence_train_copy = train_full_df.copy()"
   ]
  },
  {
   "cell_type": "code",
   "execution_count": 93,
   "metadata": {},
   "outputs": [
    {
     "name": "stdout",
     "output_type": "stream",
     "text": [
      "-21.442115306854248\n"
     ]
    }
   ],
   "source": [
    "#Order the total_inf in descending order based on magnitude\n",
    "combined_list = list(zip(total_inf, index_list))\n",
    "\n",
    "# Step 2: Sort the combined list based on the float values\n",
    "sorted_combined_list = sorted(combined_list, key=lambda x: abs(x[0]), reverse=True)\n",
    "\n",
    "# Step 3: Unpack the sorted list of tuples back into two separate lists\n",
    "abs_sorted_float_list, abs_sorted_index_list = zip(*sorted_combined_list)\n",
    "list(abs_sorted_float_list)\n",
    "list(abs_sorted_index_list)\n",
    "#Measure up to here for the influence functions\n",
    "#This will tell us how long it takes for influence functions to determine which order I need to flip the datapoints in\n",
    "#if_time: Time taken to decide the order in which the datapoints need to be flipped\n",
    "if_end = time.time()\n",
    "if_time2 = if_end-if_start\n",
    "if_time2 += if_time1\n",
    "print(if_time2)"
   ]
  },
  {
   "cell_type": "code",
   "execution_count": 94,
   "metadata": {},
   "outputs": [],
   "source": [
    "if if_time2 < 0:\n",
    "    if_time2 = -1 * if_time2\n",
    "else: \n",
    "    pass"
   ]
  },
  {
   "cell_type": "code",
   "execution_count": 95,
   "metadata": {},
   "outputs": [
    {
     "ename": "KeyboardInterrupt",
     "evalue": "",
     "output_type": "error",
     "traceback": [
      "\u001b[1;31m---------------------------------------------------------------------------\u001b[0m",
      "\u001b[1;31mKeyboardInterrupt\u001b[0m                         Traceback (most recent call last)",
      "Cell \u001b[1;32mIn[95], line 11\u001b[0m\n\u001b[0;32m      9\u001b[0m \u001b[38;5;28;01melif\u001b[39;00m influence_train_copy\u001b[38;5;241m.\u001b[39mat[row_num,\u001b[38;5;124m'\u001b[39m\u001b[38;5;124mPINCP\u001b[39m\u001b[38;5;124m'\u001b[39m] \u001b[38;5;241m==\u001b[39m \u001b[38;5;241m0\u001b[39m:\n\u001b[0;32m     10\u001b[0m     influence_train_copy\u001b[38;5;241m.\u001b[39mat[row_num,\u001b[38;5;124m'\u001b[39m\u001b[38;5;124mPINCP\u001b[39m\u001b[38;5;124m'\u001b[39m] \u001b[38;5;241m=\u001b[39m \u001b[38;5;241m1\u001b[39m\n\u001b[1;32m---> 11\u001b[0m     influence_prediction \u001b[38;5;241m=\u001b[39m lr_model(influence_train_copy, X_test, clf)\n\u001b[0;32m     12\u001b[0m     influence_parity \u001b[38;5;241m=\u001b[39m computeFairness(influence_prediction, X_test_orig, y_test, \u001b[38;5;241m0\u001b[39m, dataset)\n\u001b[0;32m     13\u001b[0m     flip_parity_abs\u001b[38;5;241m.\u001b[39mappend(influence_parity)\n",
      "Cell \u001b[1;32mIn[86], line 6\u001b[0m, in \u001b[0;36mlr_model\u001b[1;34m(training_df, test_attr_df, classifier)\u001b[0m\n\u001b[0;32m      3\u001b[0m changed_df_labels \u001b[38;5;241m=\u001b[39m training_df\u001b[38;5;241m.\u001b[39mpop(\u001b[38;5;124m'\u001b[39m\u001b[38;5;124mPINCP\u001b[39m\u001b[38;5;124m'\u001b[39m)\n\u001b[0;32m      4\u001b[0m changed_df_attr \u001b[38;5;241m=\u001b[39m training_df\u001b[38;5;241m.\u001b[39mto_numpy()\n\u001b[1;32m----> 6\u001b[0m classifier\u001b[38;5;241m.\u001b[39mfit(changed_df_attr,changed_df_labels\u001b[38;5;241m.\u001b[39mvalues)\n\u001b[0;32m      7\u001b[0m y_predicted \u001b[38;5;241m=\u001b[39m classifier\u001b[38;5;241m.\u001b[39mpredict_proba(test_attr_df)\n\u001b[0;32m      9\u001b[0m training_df[\u001b[38;5;124m'\u001b[39m\u001b[38;5;124mPINCP\u001b[39m\u001b[38;5;124m'\u001b[39m] \u001b[38;5;241m=\u001b[39m changed_df_labels\n",
      "File \u001b[1;32mc:\\Users\\shash\\OneDrive\\Desktop\\labelflipping\\influence_functions\\classifier.py:56\u001b[0m, in \u001b[0;36mLogistic_Regression.fit\u001b[1;34m(self, x, y, verbose, use_sklearn)\u001b[0m\n\u001b[0;32m     54\u001b[0m \u001b[38;5;28;01mfor\u001b[39;00m _ \u001b[38;5;129;01min\u001b[39;00m \u001b[38;5;28mrange\u001b[39m(\u001b[38;5;28mself\u001b[39m\u001b[38;5;241m.\u001b[39mepoch_num):\n\u001b[0;32m     55\u001b[0m     loss \u001b[38;5;241m=\u001b[39m \u001b[38;5;28mself\u001b[39m\u001b[38;5;241m.\u001b[39mcriterion(\u001b[38;5;28mself\u001b[39m, x, y)\n\u001b[1;32m---> 56\u001b[0m     \u001b[38;5;28mself\u001b[39m\u001b[38;5;241m.\u001b[39moptimizer\u001b[38;5;241m.\u001b[39mzero_grad()\n\u001b[0;32m     57\u001b[0m     loss\u001b[38;5;241m.\u001b[39mbackward()\n\u001b[0;32m     58\u001b[0m     \u001b[38;5;28mself\u001b[39m\u001b[38;5;241m.\u001b[39moptimizer\u001b[38;5;241m.\u001b[39mstep()\n",
      "File \u001b[1;32mc:\\Users\\shash\\anaconda3\\Lib\\site-packages\\torch\\_compile.py:20\u001b[0m, in \u001b[0;36m_disable_dynamo.<locals>.inner\u001b[1;34m(*args, **kwargs)\u001b[0m\n\u001b[0;32m      9\u001b[0m \u001b[38;5;250m\u001b[39m\u001b[38;5;124;03m\"\"\"\u001b[39;00m\n\u001b[0;32m     10\u001b[0m \u001b[38;5;124;03mThis API should be only used inside torch, external users should still use\u001b[39;00m\n\u001b[0;32m     11\u001b[0m \u001b[38;5;124;03mtorch._dynamo.disable. The main goal of this API is to avoid circular\u001b[39;00m\n\u001b[1;32m   (...)\u001b[0m\n\u001b[0;32m     16\u001b[0m \u001b[38;5;124;03mthe invocation of the decorated function.\u001b[39;00m\n\u001b[0;32m     17\u001b[0m \u001b[38;5;124;03m\"\"\"\u001b[39;00m\n\u001b[0;32m     18\u001b[0m \u001b[38;5;28;01mif\u001b[39;00m fn \u001b[38;5;129;01mis\u001b[39;00m \u001b[38;5;129;01mnot\u001b[39;00m \u001b[38;5;28;01mNone\u001b[39;00m:\n\u001b[1;32m---> 20\u001b[0m     \u001b[38;5;129m@functools\u001b[39m\u001b[38;5;241m.\u001b[39mwraps(fn)\n\u001b[0;32m     21\u001b[0m     \u001b[38;5;28;01mdef\u001b[39;00m \u001b[38;5;21minner\u001b[39m(\u001b[38;5;241m*\u001b[39margs, \u001b[38;5;241m*\u001b[39m\u001b[38;5;241m*\u001b[39mkwargs):\n\u001b[0;32m     22\u001b[0m         \u001b[38;5;28;01mimport\u001b[39;00m \u001b[38;5;21;01mtorch\u001b[39;00m\u001b[38;5;21;01m.\u001b[39;00m\u001b[38;5;21;01m_dynamo\u001b[39;00m\n\u001b[0;32m     24\u001b[0m         \u001b[38;5;28;01mreturn\u001b[39;00m torch\u001b[38;5;241m.\u001b[39m_dynamo\u001b[38;5;241m.\u001b[39mdisable(fn, recursive)(\u001b[38;5;241m*\u001b[39margs, \u001b[38;5;241m*\u001b[39m\u001b[38;5;241m*\u001b[39mkwargs)\n",
      "\u001b[1;31mKeyboardInterrupt\u001b[0m: "
     ]
    }
   ],
   "source": [
    "flip_parity_abs = []\n",
    "for i in range(len(abs_sorted_index_list)):\n",
    "    row_num = abs_sorted_index_list[i]\n",
    "    if influence_train_copy.at[row_num,'PINCP'] == 1:\n",
    "        influence_train_copy.at[row_num,'PINCP'] = 0\n",
    "        influence_prediction = lr_model(influence_train_copy, X_test, clf)\n",
    "        influence_parity = computeFairness(influence_prediction, X_test_orig, y_test, 0, dataset)\n",
    "        flip_parity_abs.append(influence_parity)\n",
    "    elif influence_train_copy.at[row_num,'PINCP'] == 0:\n",
    "        influence_train_copy.at[row_num,'PINCP'] = 1\n",
    "        influence_prediction = lr_model(influence_train_copy, X_test, clf)\n",
    "        influence_parity = computeFairness(influence_prediction, X_test_orig, y_test, 0, dataset)\n",
    "        flip_parity_abs.append(influence_parity)\n",
    "print(flip_parity_abs)"
   ]
  },
  {
   "cell_type": "code",
   "execution_count": null,
   "metadata": {},
   "outputs": [],
   "source": [
    "sol_time.append(if_time2)"
   ]
  },
  {
   "cell_type": "code",
   "execution_count": null,
   "metadata": {},
   "outputs": [
    {
     "data": {
      "image/png": "[encoded data removed]",
      "text/plain": [
       "<Figure size 700x400 with 1 Axes>"
      ]
     },
     "metadata": {},
     "output_type": "display_data"
    }
   ],
   "source": [
    "#Graph the points\n",
    "# Assuming the X-axis is some common range or specific values\n",
    "size = range(len(flip_parity_abs))  # X values for list data\n",
    "\n",
    "# Create the plot\n",
    "plt.figure(figsize=(7, 4))\n",
    "\n",
    "# Plot list data with dots\n",
    "plt.scatter(size, flip_parity_abs, color='red', label='Parity After Flipping DP', marker='o')\n",
    "\n",
    "# Adding labels\n",
    "plt.xlabel('Datapoints')\n",
    "plt.ylabel('Parity')\n",
    "\n",
    "# Adding title and legend\n",
    "plt.title('Parity by flipping the datapoints (Absolute List)')\n",
    "plt.legend()\n",
    "\n",
    "# Display the plot\n",
    "plt.show()"
   ]
  },
  {
   "cell_type": "code",
   "execution_count": null,
   "metadata": {},
   "outputs": [
    {
     "data": {
      "image/png": "[encoded data removed]",
      "text/plain": [
       "<Figure size 640x480 with 1 Axes>"
      ]
     },
     "metadata": {},
     "output_type": "display_data"
    }
   ],
   "source": [
    "#total num of data points\n",
    "#on_abs_sorted = len(flip_parity_sorted)\n",
    "abs_sorted = len(flip_parity_abs)\n",
    "\n",
    "#Calculate the indices for the 5 points\n",
    "#indices_non_abs = [int(i * non_abs_sorted / 5) for i in range(0, 5)]\n",
    "indices_abs = [int(i * abs_sorted / 5) for i in range(0, 5)]\n",
    "\n",
    "# Extract the values at these indices\n",
    "#values_non_abs = [flip_parity_sorted[index] for index in indices_non_abs]\n",
    "values_abs = [flip_parity_abs[index] for index in indices_abs]\n",
    "\n",
    "#Plot the Values\n",
    "plt.plot([20, 40, 60, 80, 100], values_abs, label='ABS Flipping', color='Blue')\n",
    "\n",
    "# Add labels and legend\n",
    "plt.xlabel('Percentage of Data Points')\n",
    "plt.ylabel('Values')\n",
    "plt.title('Graph of Data Points')\n",
    "plt.legend()\n",
    "\n",
    "# Show the plot\n",
    "plt.show()"
   ]
  },
  {
   "cell_type": "markdown",
   "metadata": {},
   "source": [
    "<h4>Comparing INF to Entropy and Randomized<h4>"
   ]
  },
  {
   "cell_type": "markdown",
   "metadata": {},
   "source": [
    "<h5>Entropy<h5>"
   ]
  },
  {
   "cell_type": "code",
   "execution_count": null,
   "metadata": {},
   "outputs": [],
   "source": [
    "entropy_start = time.time()\n",
    "#Remake the dataset\n",
    "entropy_train_df = train_full_df.copy()"
   ]
  },
  {
   "cell_type": "code",
   "execution_count": null,
   "metadata": {},
   "outputs": [
    {
     "name": "stdout",
     "output_type": "stream",
     "text": [
      "72.0\n"
     ]
    }
   ],
   "source": [
    "#Run the LR classifier\n",
    "#Use Scikit learn logistic regression rather than pre-built one\n",
    "clfa = LogisticRegression(class_weight=None, max_iter=100)\n",
    "log = clfa.fit(X_train,y_train)\n",
    "prediction = log.predict(X_test)\n",
    "#prediction_prob = log.predict_proba(X_train)\n",
    "accuracy = accuracy_score(y_test,prediction)*100\n",
    "print(accuracy)"
   ]
  },
  {
   "cell_type": "code",
   "execution_count": null,
   "metadata": {},
   "outputs": [],
   "source": [
    "#Obtain the predicted probabilities\n",
    "predicted_prob = log.predict_proba(X_train)"
   ]
  },
  {
   "cell_type": "code",
   "execution_count": null,
   "metadata": {},
   "outputs": [],
   "source": [
    "#Log base two would be: log = math.log(x,2)\n",
    "#Entropy equation would then be: -1*(p1((math.log(p1,2))+p2*(math.log(p2,2)))\n",
    "\n",
    "#In the predicted_probabilities: first value is 0 (which is bad), second value is 1 (which is good)\n",
    "\n",
    "#Loop through the predicted_probabilities array and calculate values\n",
    "#One list will contain the index of each row in the table and the other will contain the entropy value of each row\n",
    "\n",
    "index_list = []\n",
    "entropy_list = []\n",
    "\n",
    "for index, value in enumerate(predicted_prob):\n",
    "  #Calculate p1 and p2\n",
    "  p1=predicted_prob[index,0]\n",
    "  p2=predicted_prob[index,1]\n",
    "  #Calculate entropy in 3 steps\n",
    "  entropy_calc1 = p1 * math.log(p1,2)\n",
    "  entropy_calc2 = p2 * math.log(p2,2)\n",
    "  entropy_final = -1 * (entropy_calc1 + entropy_calc2)\n",
    "\n",
    "  #Append the values to their respective lists\n",
    "  index_list.append(index)\n",
    "  entropy_list.append(entropy_final)"
   ]
  },
  {
   "cell_type": "code",
   "execution_count": null,
   "metadata": {},
   "outputs": [],
   "source": [
    "#Rank the entropy values in decreasing order\n",
    "#Match the index list with them\n",
    "\n",
    "#Combine the two lists using zip\n",
    "combined_list = list(zip(entropy_list, index_list))\n",
    "\n",
    "#Sort the combined lust based on entropy values in descending order\n",
    "sorted_list = sorted(combined_list, key = lambda x: x[0], reverse=True)\n",
    "\n",
    "#Extract the values\n",
    "sorted_ent_list, sorted_index_list = zip(*sorted_list)\n",
    "entropy_end = time.time()"
   ]
  },
  {
   "cell_type": "code",
   "execution_count": null,
   "metadata": {},
   "outputs": [],
   "source": [
    "entropy_train_df['PINCP'] = entropy_train_df['PINCP'].astype('int')"
   ]
  },
  {
   "cell_type": "code",
   "execution_count": null,
   "metadata": {},
   "outputs": [],
   "source": [
    "ranked_ent_list = list(sorted_ent_list)\n",
    "ranked_idx_list = list(sorted_index_list)"
   ]
  },
  {
   "cell_type": "code",
   "execution_count": null,
   "metadata": {},
   "outputs": [],
   "source": [
    "#After the ranking; flip based on the ranked entropy values\n",
    "#Values with the highest entropy are prioritized for flipping\n",
    "\n",
    "ranked_ent_parity_list = [spd_0]\n",
    "ranked_flip = []\n",
    "\n",
    "row_num = 0\n",
    "\n",
    "#Loop through and flip based on the entropy values\n",
    "for row in range(len(sorted_index_list)):\n",
    "    row_num = ranked_idx_list[row]\n",
    "    if entropy_train_df.at[row_num,'PINCP'] == 0:\n",
    "        entropy_train_df.at[row_num,'PINCP'] = 1\n",
    "        ranked_ent_pred = lr_model(entropy_train_df, X_test, clf)\n",
    "        ranked_ent_parity = computeFairness(ranked_ent_pred, X_test_orig, y_test, 0, dataset)\n",
    "        ranked_ent_parity_list.append(ranked_ent_parity)\n",
    "\n",
    "    elif entropy_train_df.at[row_num,'PINCP'] == 1:\n",
    "        entropy_train_df.at[row_num,'PINCP'] = 0\n",
    "        ranked_ent_pred = lr_model(entropy_train_df, X_test, clf)\n",
    "        ranked_ent_parity = computeFairness(ranked_ent_pred, X_test_orig, y_test, 0, dataset)\n",
    "        ranked_ent_parity_list.append(ranked_ent_parity)"
   ]
  },
  {
   "cell_type": "code",
   "execution_count": null,
   "metadata": {},
   "outputs": [],
   "source": [
    "entropy_time = entropy_end - entropy_start\n",
    "sol_time.append(entropy_time)"
   ]
  },
  {
   "cell_type": "markdown",
   "metadata": {},
   "source": [
    "<h5>Randomized<h5>"
   ]
  },
  {
   "cell_type": "code",
   "execution_count": null,
   "metadata": {},
   "outputs": [],
   "source": [
    "#Training dataset\n",
    "random_start = time.time()\n",
    "random_training_df = train_full_df.copy()"
   ]
  },
  {
   "cell_type": "code",
   "execution_count": null,
   "metadata": {},
   "outputs": [],
   "source": [
    "#Budget of 200 random flipping\n",
    "import random\n",
    "random_flip_parity = []\n",
    "budget = len(y_test)\n",
    "\n",
    "for iter in range(budget):\n",
    "    random_row = random.choice(random_training_df.index)\n",
    "    if random_training_df.at[random_row,'PINCP'] == 1:\n",
    "        random_training_df.at[random_row,'PINCP'] = 0\n",
    "        rand_pred = lr_model(random_training_df, X_test, clf)\n",
    "        rand_ranked_parity = computeFairness(rand_pred, X_test_orig, y_test, 0, dataset)\n",
    "        random_flip_parity.append(rand_ranked_parity)\n",
    "    elif random_training_df.at[random_row,'PINCP'] == 0:\n",
    "        random_training_df.at[random_row,'PINCP'] = 1\n",
    "        rand_pred = lr_model(random_training_df, X_test, clf)\n",
    "        rand_ranked_parity = computeFairness(rand_pred, X_test_orig, y_test, 0, dataset)\n",
    "        random_flip_parity.append(rand_ranked_parity)\n",
    "random_end = time.time()\n"
   ]
  },
  {
   "cell_type": "code",
   "execution_count": null,
   "metadata": {},
   "outputs": [],
   "source": [
    "random_time = random_end - random_start\n",
    "sol_time.append(random_time)"
   ]
  },
  {
   "cell_type": "code",
   "execution_count": null,
   "metadata": {},
   "outputs": [
    {
     "data": {
      "text/plain": [
       "<matplotlib.legend.Legend at 0x1edb0787c90>"
      ]
     },
     "execution_count": 61,
     "metadata": {},
     "output_type": "execute_result"
    },
    {
     "data": {
      "image/png": "[encoded data removed]",
      "text/plain": [
       "<Figure size 640x480 with 1 Axes>"
      ]
     },
     "metadata": {},
     "output_type": "display_data"
    }
   ],
   "source": [
    "# Calculate the total number of data points\n",
    "datapoints_entropy = len(ranked_ent_parity_list)\n",
    "datapoints_random = len(random_flip_parity)\n",
    "datapoints_influence = len(flip_parity_abs)\n",
    "\n",
    "# Calculate the indices for the 5 points\n",
    "indices_entropy = [int(i * datapoints_entropy / 5) for i in range(0, 5)]\n",
    "indices_random = [int(i * datapoints_random / 5) for i in range(0, 5)]\n",
    "indices_influence = [int(i * datapoints_influence / 5) for i in range(0, 5)]\n",
    "\n",
    "# Extract the values at these indices\n",
    "values_entropy = [ranked_ent_parity_list[index] for index in indices_entropy]\n",
    "values_random = [random_flip_parity[index] for index in indices_random]\n",
    "values_influence = [flip_parity_abs[index] for index in indices_influence]\n",
    "\n",
    "# Plot the values\n",
    "plt.plot([20, 40, 60, 80, 100], values_entropy, label='Entropy', color='Blue')\n",
    "plt.plot([20, 40, 60, 80, 100], values_random, label='Random Flipping', color='Black')\n",
    "plt.plot([20, 40, 60, 80, 100], values_influence, label='Influence Flipping', color='Orange')\n",
    "\n",
    "# Add labels and legend\n",
    "plt.xlabel('Percentage of Data Points')\n",
    "plt.ylabel('Statistical Parity')\n",
    "plt.title('Change in Parity')\n",
    "plt.legend()"
   ]
  },
  {
   "cell_type": "code",
   "execution_count": null,
   "metadata": {},
   "outputs": [
    {
     "data": {
      "image/png": "[encoded data removed]",
      "text/plain": [
       "<Figure size 640x480 with 1 Axes>"
      ]
     },
     "metadata": {},
     "output_type": "display_data"
    }
   ],
   "source": [
    "# Create a line chart\n",
    "x_axis = ['IF','Entropy','Randomized']\n",
    "# Colors for each bar\n",
    "colors = ['red', 'blue', 'green']\n",
    "\n",
    "# Create a bar graph with updated labels and colors\n",
    "plt.bar(x_axis, sol_time, color=colors)\n",
    "plt.title('Time Series Bar Graph')\n",
    "plt.xlabel('Algorithm')\n",
    "plt.ylabel('Time')\n",
    "plt.grid(True)\n",
    "plt.xticks(rotation=45)\n",
    "plt.show()"
   ]
  },
  {
   "cell_type": "code",
   "execution_count": null,
   "metadata": {},
   "outputs": [
    {
     "data": {
      "text/plain": [
       "[36.17913484573364, 0.046690940856933594, 14.142665386199951]"
      ]
     },
     "execution_count": 63,
     "metadata": {},
     "output_type": "execute_result"
    }
   ],
   "source": [
    "sol_time"
   ]
  }
 ],
 "metadata": {
  "kernelspec": {
   "display_name": "base",
   "language": "python",
   "name": "python3"
  },
  "language_info": {
   "codemirror_mode": {
    "name": "ipython",
    "version": 3
   },
   "file_extension": ".py",
   "mimetype": "text/x-python",
   "name": "python",
   "nbconvert_exporter": "python",
   "pygments_lexer": "ipython3",
   "version": "3.11.7"
  }
 },
 "nbformat": 4,
 "nbformat_minor": 2
}
