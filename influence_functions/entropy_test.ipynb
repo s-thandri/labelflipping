{
 "cells": [
  {
   "cell_type": "code",
   "execution_count": 1,
   "metadata": {},
   "outputs": [],
   "source": [
    "#Imports some of the libraries that we will be using\n",
    "import pandas as pd\n",
    "import numpy as np\n",
    "import math\n",
    "import warnings\n",
    "from sklearn.linear_model import LogisticRegression\n",
    "from sklearn.model_selection import cross_val_score, train_test_split\n",
    "from sklearn import metrics\n",
    "from sklearn import tree\n",
    "from sklearn.metrics import accuracy_score\n",
    "import matplotlib.pyplot as plt\n",
    "import time\n",
    "warnings.filterwarnings('ignore')"
   ]
  },
  {
   "cell_type": "code",
   "execution_count": 2,
   "metadata": {},
   "outputs": [
    {
     "name": "stdout",
     "output_type": "stream",
     "text": [
      "['acs_income.csv', 'acs_influence 1.ipynb', 'acs_influence all solutions.ipynb', 'acs_influence_new.ipynb', 'adult.data', 'adult.test', 'adult_influence 1.ipynb', 'adult_influence copy.ipynb', 'classifier.py', 'compas-scores-two-years.csv', 'compas_influence 1.ipynb', 'compas_influence.ipynb', 'config.json', 'entropy_test.ipynb', 'expl.py', 'functions.py', 'german.data', 'german_influence 1 copy.ipynb', 'german_influence 1.ipynb', 'german_influence.ipynb', 'influence.py', 'influence_functions.ipynb', 'load_dataset.py', 'loss.py', 'metrics.py', 'meu_test.ipynb', 'random_influence.ipynb', 'sqf_influence 1.ipynb', 'sqf_influence.ipynb', 'sqf_test.csv', 'sqf_train.csv', 'utils.py', '__pycache__']\n"
     ]
    }
   ],
   "source": [
    "from load_dataset import load\n",
    "from classifier import NeuralNetwork, Logistic_Regression, SVM\n",
    "from utils import *\n",
    "from metrics import *  # include fairness and corresponding derivatives\n",
    "from expl import explanation_candidate_generation, get_top_k_expl\n",
    "from influence import *"
   ]
  },
  {
   "cell_type": "code",
   "execution_count": 3,
   "metadata": {},
   "outputs": [],
   "source": [
    "#Function to run the logistic regression model based on classifier.py\n",
    "def lr_model(training_df, test_attr_df, classifier):\n",
    "    changed_df_labels = training_df.pop('is_recid')\n",
    "    changed_df_attr = training_df.to_numpy()\n",
    "\n",
    "    classifier.fit(changed_df_attr,changed_df_labels.values)\n",
    "    y_predicted = classifier.predict_proba(test_attr_df)\n",
    "\n",
    "    training_df['is_recid'] = changed_df_labels\n",
    "\n",
    "    return y_predicted\n"
   ]
  },
  {
   "cell_type": "markdown",
   "metadata": {},
   "source": [
    "<h4>Removal Based Influence Calculation<h4>"
   ]
  },
  {
   "cell_type": "code",
   "execution_count": 4,
   "metadata": {},
   "outputs": [],
   "source": [
    "dataset = 'compas'\n",
    "clf_name = 'Logistic_Regression'\n",
    "metric = 0\n",
    "support = 0.05\n",
    "support_small = 0.3"
   ]
  },
  {
   "cell_type": "code",
   "execution_count": 5,
   "metadata": {},
   "outputs": [],
   "source": [
    "X_train, X_test, y_train, y_test = load(dataset)"
   ]
  },
  {
   "cell_type": "code",
   "execution_count": 6,
   "metadata": {},
   "outputs": [],
   "source": [
    "duplicates = 1\n",
    "make_duplicates = lambda x, d: pd.concat([x]*d, axis=0).reset_index(drop=True)\n",
    "X_train = make_duplicates(X_train, duplicates)\n",
    "X_test = make_duplicates(X_test, duplicates)\n",
    "y_train = make_duplicates(y_train, duplicates)\n",
    "y_test = make_duplicates(y_test, duplicates)"
   ]
  },
  {
   "cell_type": "code",
   "execution_count": 7,
   "metadata": {},
   "outputs": [],
   "source": [
    "import copy\n",
    "X_train_orig = copy.deepcopy(X_train)\n",
    "X_test_orig = copy.deepcopy(X_test)\n",
    "\n",
    "from sklearn.preprocessing import StandardScaler\n",
    "sc = StandardScaler()\n",
    "X_train = sc.fit_transform(X_train)\n",
    "X_test = sc.transform(X_test)"
   ]
  },
  {
   "cell_type": "code",
   "execution_count": 8,
   "metadata": {},
   "outputs": [],
   "source": [
    "predictors = ['event', 'priors_count', 'juv_other_count', 'juv_misd_count',\n",
    "       'juv_fel_count', 'race', 'age_cat', 'sex', 'score_text']\n",
    "target_var =['is_recid']"
   ]
  },
  {
   "cell_type": "code",
   "execution_count": null,
   "metadata": {},
   "outputs": [],
   "source": [
    "#Combine x_train and y_train\n",
    "#I combine these so that when I flip the labels I have one DF that I work with\n",
    "#Rather than 2 numpy.ndarrays\n",
    "train_demo_df = pd.DataFrame(X_train, columns = predictors)\n",
    "train_outcome_df = y_train.to_frame()\n",
    "#train_outcome_df=train_outcome_df.rename(columns={'credit':'credit_risk'})\n",
    "train_full_df = pd.concat([train_demo_df, train_outcome_df], axis=1)"
   ]
  },
  {
   "cell_type": "code",
   "execution_count": 10,
   "metadata": {},
   "outputs": [],
   "source": [
    "clf = eval(clf_name)(input_size=X_train.shape[-1])\n",
    "\n",
    "num_params = len(convert_grad_to_ndarray(list(clf.parameters())))\n",
    "if isinstance(clf, Logistic_Regression):\n",
    "    loss_func = logistic_loss_torch\n",
    "elif isinstance(clf, SVM):\n",
    "    loss_func = svm_loss_torch\n",
    "elif isinstance(clf, NeuralNetwork):\n",
    "    loss_func = nn_loss_torch\n",
    "else:\n",
    "    raise NotImplementedError"
   ]
  },
  {
   "cell_type": "code",
   "execution_count": 11,
   "metadata": {},
   "outputs": [
    {
     "name": "stdout",
     "output_type": "stream",
     "text": [
      "Initial statistical parity:  0.10664561084432223\n",
      "Initial TPR parity:  0.04579037130140762\n",
      "Initial predictive parity:  0.057398965624464116\n",
      "Initial accuracy:  0.9085239085239085\n"
     ]
    }
   ],
   "source": [
    "clf = eval(clf_name)(input_size=X_train.shape[-1])\n",
    "\n",
    "clf.fit(X_train, y_train)\n",
    "\n",
    "y_pred_test = clf.predict_proba(X_test)\n",
    "y_pred_train = clf.predict_proba(X_train)\n",
    "\n",
    "spd_0 = computeFairness(y_pred_test, X_test_orig, y_test, 0, dataset)\n",
    "print(\"Initial statistical parity: \", spd_0)\n",
    "\n",
    "tpr_parity_0 = computeFairness(y_pred_test, X_test_orig, y_test, 1, dataset)\n",
    "print(\"Initial TPR parity: \", tpr_parity_0)\n",
    "\n",
    "predictive_parity_0 = computeFairness(y_pred_test, X_test_orig, y_test, 2, dataset)\n",
    "print(\"Initial predictive parity: \", predictive_parity_0)\n",
    "\n",
    "accuracy_0 = computeAccuracy(y_test, y_pred_test)\n",
    "print(\"Initial accuracy: \", accuracy_0)"
   ]
  },
  {
   "cell_type": "markdown",
   "metadata": {},
   "source": [
    "<h3>Entropy<h3>"
   ]
  },
  {
   "cell_type": "code",
   "execution_count": 12,
   "metadata": {},
   "outputs": [],
   "source": [
    "entropy_start = time.time()\n",
    "#Remake the dataset\n",
    "entropy_train_df = train_full_df.copy()"
   ]
  },
  {
   "cell_type": "code",
   "execution_count": 13,
   "metadata": {},
   "outputs": [],
   "source": [
    "#Calculate the probability of each datapoint using the same one of as the lrmodel function\n",
    "orig_entropy_prob = clf.predict_proba(X_train)\n",
    "flipped_entropy_prob = 1-orig_entropy_prob"
   ]
  },
  {
   "cell_type": "code",
   "execution_count": 14,
   "metadata": {},
   "outputs": [],
   "source": [
    "#Log base two would be: log = math.log(x,2)\n",
    "#Entropy equation would then be: -1*(p1((math.log(p1,2))+p2*(math.log(p2,2)))\n",
    "\n",
    "#In the predicted_probabilities: first value is 0 (which is bad), second value is 1 (which is good)\n",
    "\n",
    "#Loop through the predicted_probabilities array and calculate values\n",
    "#One list will contain the index of each row in the table and the other will contain the entropy value of each row\n",
    "\n",
    "index_list = []\n",
    "entropy_list = []\n",
    "\n",
    "for index in range(len(X_train)):\n",
    "  #Calculate p1 and p2\n",
    "  p1=orig_entropy_prob[index]\n",
    "  p2=flipped_entropy_prob[index]\n",
    "  #print(f\"Index: {index}, p1: {p1}, p2: {p2}\")\n",
    "  #Calculate entropy in 3 steps\n",
    "  entropy_calc1 = p1 * math.log(p1,2) if p1 > 0 else 0\n",
    "  entropy_calc2 = p2 * math.log(p2,2) if p2 > 0 else 0\n",
    "  entropy_final = -1 * (entropy_calc1 + entropy_calc2)\n",
    "\n",
    "  #Append the values to their respective lists\n",
    "  index_list.append(index)\n",
    "  entropy_list.append(entropy_final)"
   ]
  },
  {
   "cell_type": "code",
   "execution_count": 15,
   "metadata": {},
   "outputs": [],
   "source": [
    "#Rank the entropy values in decreasing order\n",
    "#Match the index list with them\n",
    "\n",
    "#Combine the two lists using zip\n",
    "combined_list = list(zip(entropy_list, index_list))\n",
    "\n",
    "#Sort the combined lust based on entropy values in descending order\n",
    "sorted_list = sorted(combined_list, key = lambda x: x[0], reverse=True)\n",
    "\n",
    "#Extract the values\n",
    "sorted_ent_list, sorted_index_list = zip(*sorted_list)\n",
    "entropy_end = time.time() - entropy_start"
   ]
  },
  {
   "cell_type": "code",
   "execution_count": 16,
   "metadata": {},
   "outputs": [],
   "source": [
    "entropy_train_df['is_recid'] = entropy_train_df['is_recid'].astype('int')"
   ]
  },
  {
   "cell_type": "code",
   "execution_count": 17,
   "metadata": {},
   "outputs": [],
   "source": [
    "ranked_ent_list = list(sorted_ent_list)\n",
    "ranked_idx_list = list(sorted_index_list)"
   ]
  },
  {
   "cell_type": "code",
   "execution_count": 18,
   "metadata": {},
   "outputs": [],
   "source": [
    "#After the ranking; flip based on the ranked entropy values\n",
    "#Values with the highest entropy are prioritized for flipping\n",
    "\n",
    "# ranked_ent_parity_list = [spd_0]\n",
    "ranked_ent_parity_list = []\n",
    "ranked_flip = []\n",
    "\n",
    "row_num = 0\n",
    "\n",
    "#Loop through and flip based on the entropy values\n",
    "for row in range(len(sorted_index_list)):\n",
    "    row_num = ranked_idx_list[row]\n",
    "    if entropy_train_df.at[row_num,'is_recid'] == 0:\n",
    "        entropy_train_df.at[row_num,'is_recid'] = 1\n",
    "        ranked_ent_pred = lr_model(entropy_train_df, X_test, clf)\n",
    "        ranked_ent_parity = computeFairness(ranked_ent_pred, X_test_orig, y_test, 0, dataset)\n",
    "        ranked_ent_parity_list.append(ranked_ent_parity)\n",
    "\n",
    "    elif entropy_train_df.at[row_num,'is_recid'] == 1:\n",
    "        entropy_train_df.at[row_num,'is_recid'] = 0\n",
    "        ranked_ent_pred = lr_model(entropy_train_df, X_test, clf)\n",
    "        ranked_ent_parity = computeFairness(ranked_ent_pred, X_test_orig, y_test, 0, dataset)\n",
    "        ranked_ent_parity_list.append(ranked_ent_parity)"
   ]
  },
  {
   "cell_type": "code",
   "execution_count": 19,
   "metadata": {},
   "outputs": [],
   "source": [
    "#entropy_time = entropy_end - entropy_start\n",
    "#sol_time.append(entropy_end)"
   ]
  },
  {
   "cell_type": "code",
   "execution_count": 20,
   "metadata": {},
   "outputs": [
    {
     "data": {
      "image/png": "[encoded data removed]",
      "text/plain": [
       "<Figure size 640x480 with 1 Axes>"
      ]
     },
     "metadata": {},
     "output_type": "display_data"
    }
   ],
   "source": [
    "datapoints_ent = len(ranked_ent_parity_list)\n",
    "\n",
    "#indices at 10 points along the graph\n",
    "indices = [int(i * datapoints_ent / 10) for i in range(0, 10)]\n",
    "\n",
    "# # Extract the values at these indices\n",
    "# values_entropy = [ranked_ent_parity_list[index] for index in indices]\n",
    "\n",
    "values_entropy = []\n",
    "values_entropy.append(spd_0)\n",
    "for index in range(1, len(indices) + 1):\n",
    "    values_entropy.append(ranked_ent_parity_list[index * 80 - 1])\n",
    "\n",
    "#Plot the Values\n",
    "plt.plot([0, 10, 20, 30, 40, 50, 60, 70, 80, 90, 100], values_entropy, label='Uncertainty Reduction', color='Blue', marker = '^')\n",
    "\n",
    "# Add labels and legend\n",
    "plt.xlabel('Percentage of Data Points')\n",
    "plt.ylabel('Values')\n",
    "plt.title('Graph of Data Points')\n",
    "plt.legend()\n",
    "\n",
    "# Show the plot\n",
    "plt.show()"
   ]
  }
 ],
 "metadata": {
  "kernelspec": {
   "display_name": "base",
   "language": "python",
   "name": "python3"
  },
  "language_info": {
   "codemirror_mode": {
    "name": "ipython",
    "version": 3
   },
   "file_extension": ".py",
   "mimetype": "text/x-python",
   "name": "python",
   "nbconvert_exporter": "python",
   "pygments_lexer": "ipython3",
   "version": "3.11.7"
  }
 },
 "nbformat": 4,
 "nbformat_minor": 2
}
