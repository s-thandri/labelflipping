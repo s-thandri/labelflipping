{
 "cells": [
  {
   "cell_type": "code",
   "execution_count": 2,
   "metadata": {},
   "outputs": [],
   "source": [
    "#Imports some of the libraries that we will be using\n",
    "import pandas as pd\n",
    "import numpy as np\n",
    "import math\n",
    "import warnings\n",
    "from sklearn.linear_model import LogisticRegression\n",
    "from sklearn.model_selection import cross_val_score, train_test_split\n",
    "from sklearn import metrics\n",
    "from sklearn import tree\n",
    "from sklearn.metrics import accuracy_score\n",
    "import matplotlib.pyplot as plt\n",
    "import time\n",
    "warnings.filterwarnings('ignore')"
   ]
  },
  {
   "cell_type": "code",
   "execution_count": 3,
   "metadata": {},
   "outputs": [
    {
     "name": "stdout",
     "output_type": "stream",
     "text": [
      "['acs_income.csv', 'acs_influence 1.ipynb', 'acs_influence all solutions.ipynb', 'acs_influence_new.ipynb', 'adult.data', 'adult.test', 'adult_influence 1.ipynb', 'adult_influence copy.ipynb', 'classifier.py', 'compas-scores-two-years.csv', 'compas_influence 1.ipynb', 'compas_influence.ipynb', 'config.json', 'entropy_test.ipynb', 'expl.py', 'functions.py', 'german.data', 'german_influence 1 copy.ipynb', 'german_influence 1.ipynb', 'german_influence.ipynb', 'influence.py', 'influence_functions.ipynb', 'load_dataset.py', 'loss.py', 'metrics.py', 'meu_test.ipynb', 'random_influence.ipynb', 'sqf_influence 1.ipynb', 'sqf_influence.ipynb', 'sqf_test.csv', 'sqf_train.csv', 'utils.py', '__pycache__']\n"
     ]
    }
   ],
   "source": [
    "from load_dataset import load\n",
    "from classifier import NeuralNetwork, Logistic_Regression, SVM\n",
    "from utils import *\n",
    "from metrics import *  # include fairness and corresponding derivatives\n",
    "from expl import explanation_candidate_generation, get_top_k_expl\n",
    "from influence import *"
   ]
  },
  {
   "cell_type": "code",
   "execution_count": 4,
   "metadata": {},
   "outputs": [],
   "source": [
    "#Function to run the logistic regression model based on classifier.py\n",
    "def lr_model(training_df, test_attr_df, classifier):\n",
    "    changed_df_labels = training_df.pop('credit_risk')\n",
    "    changed_df_attr = training_df.to_numpy()\n",
    "\n",
    "    classifier.fit(changed_df_attr,changed_df_labels.values)\n",
    "    y_predicted = classifier.predict_proba(test_attr_df)\n",
    "\n",
    "    training_df['credit_risk'] = changed_df_labels\n",
    "\n",
    "    return y_predicted\n"
   ]
  },
  {
   "cell_type": "markdown",
   "metadata": {},
   "source": [
    "<h4>Removal Based Influence Calculation<h4>"
   ]
  },
  {
   "cell_type": "code",
   "execution_count": 5,
   "metadata": {},
   "outputs": [],
   "source": [
    "#List of time taken\n",
    "sol_time = []"
   ]
  },
  {
   "cell_type": "code",
   "execution_count": 6,
   "metadata": {},
   "outputs": [],
   "source": [
    "dataset = 'german'\n",
    "clf_name = 'Logistic_Regression'\n",
    "metric = 0\n",
    "support = 0.05\n",
    "support_small = 0.3"
   ]
  },
  {
   "cell_type": "code",
   "execution_count": 7,
   "metadata": {},
   "outputs": [],
   "source": [
    "X_train, X_test, y_train, y_test = load(dataset)"
   ]
  },
  {
   "cell_type": "code",
   "execution_count": 8,
   "metadata": {},
   "outputs": [
    {
     "data": {
      "text/plain": [
       "status                1\n",
       "duration              1\n",
       "credit_hist           1\n",
       "credit_amt            0\n",
       "savings               1\n",
       "employment            3\n",
       "install_rate          3\n",
       "debtors               0\n",
       "residence             2\n",
       "property              2\n",
       "age                   0\n",
       "install_plans         0\n",
       "num_credits           2\n",
       "job                   2\n",
       "num_liable            1\n",
       "telephone             1\n",
       "foreign_worker        1\n",
       "gender                0\n",
       "purpose_A40       False\n",
       "purpose_A41       False\n",
       "purpose_A410      False\n",
       "purpose_A42       False\n",
       "purpose_A43        True\n",
       "purpose_A44       False\n",
       "purpose_A45       False\n",
       "purpose_A46       False\n",
       "purpose_A48       False\n",
       "purpose_A49       False\n",
       "housing_A151       True\n",
       "housing_A152      False\n",
       "housing_A153      False\n",
       "Name: 418, dtype: object"
      ]
     },
     "execution_count": 8,
     "metadata": {},
     "output_type": "execute_result"
    }
   ],
   "source": [
    "X_train.iloc[418]"
   ]
  },
  {
   "cell_type": "code",
   "execution_count": 9,
   "metadata": {},
   "outputs": [
    {
     "data": {
      "text/plain": [
       "1"
      ]
     },
     "execution_count": 9,
     "metadata": {},
     "output_type": "execute_result"
    }
   ],
   "source": [
    "y_train[418]"
   ]
  },
  {
   "cell_type": "code",
   "execution_count": 10,
   "metadata": {},
   "outputs": [],
   "source": [
    "duplicates = 1\n",
    "make_duplicates = lambda x, d: pd.concat([x]*d, axis=0).reset_index(drop=True)\n",
    "X_train = make_duplicates(X_train, duplicates)\n",
    "X_test = make_duplicates(X_test, duplicates)\n",
    "y_train = make_duplicates(y_train, duplicates)\n",
    "y_test = make_duplicates(y_test, duplicates)"
   ]
  },
  {
   "cell_type": "code",
   "execution_count": 11,
   "metadata": {},
   "outputs": [],
   "source": [
    "import copy\n",
    "X_train_orig = copy.deepcopy(X_train)\n",
    "X_test_orig = copy.deepcopy(X_test)\n",
    "\n",
    "from sklearn.preprocessing import StandardScaler\n",
    "sc = StandardScaler()\n",
    "X_train = sc.fit_transform(X_train)\n",
    "X_test = sc.transform(X_test)"
   ]
  },
  {
   "cell_type": "code",
   "execution_count": 12,
   "metadata": {},
   "outputs": [],
   "source": [
    "predictors = ['status', 'duration', 'credit_hist', 'credit_amt', 'savings',\n",
    "       'employment', 'install_rate', 'debtors', 'residence', 'property', 'age',\n",
    "       'install_plans', 'num_credits', 'job', 'num_liable', 'telephone',\n",
    "       'foreign_worker', 'gender', 'purpose_A40', 'purpose_A41',\n",
    "       'purpose_A410', 'purpose_A42', 'purpose_A43', 'purpose_A44',\n",
    "       'purpose_A45', 'purpose_A46', 'purpose_A48', 'purpose_A49',\n",
    "       'housing_A151', 'housing_A152', 'housing_A153']\n",
    "target_var =['credit_risk']"
   ]
  },
  {
   "cell_type": "code",
   "execution_count": 13,
   "metadata": {},
   "outputs": [],
   "source": [
    "#Combine x_train and y_train\n",
    "#I combine these so that when I flip the labels I have one DF that I work with\n",
    "#Rather than 2 numpy.ndarrays\n",
    "train_demo_df = pd.DataFrame(X_train, columns = predictors)\n",
    "train_outcome_df = y_train.to_frame()\n",
    "train_outcome_df=train_outcome_df.rename(columns={'credit':'credit_risk'})\n",
    "train_full_df = pd.concat([train_demo_df, train_outcome_df], axis=1)"
   ]
  },
  {
   "cell_type": "code",
   "execution_count": 14,
   "metadata": {},
   "outputs": [],
   "source": [
    "clf = eval(clf_name)(input_size=X_train.shape[-1])\n",
    "\n",
    "num_params = len(convert_grad_to_ndarray(list(clf.parameters())))\n",
    "if isinstance(clf, Logistic_Regression):\n",
    "    loss_func = logistic_loss_torch\n",
    "elif isinstance(clf, SVM):\n",
    "    loss_func = svm_loss_torch\n",
    "elif isinstance(clf, NeuralNetwork):\n",
    "    loss_func = nn_loss_torch\n",
    "else:\n",
    "    raise NotImplementedError"
   ]
  },
  {
   "cell_type": "code",
   "execution_count": 15,
   "metadata": {},
   "outputs": [
    {
     "name": "stdout",
     "output_type": "stream",
     "text": [
      "Initial statistical parity:  -0.09527579839341338\n",
      "Initial TPR parity:  -0.07785149414194836\n",
      "Initial predictive parity:  -0.10136869475949661\n",
      "Initial accuracy:  0.755\n"
     ]
    }
   ],
   "source": [
    "clf = eval(clf_name)(input_size=X_train.shape[-1])\n",
    "\n",
    "clf.fit(X_train, y_train)\n",
    "\n",
    "y_pred_test = clf.predict_proba(X_test)\n",
    "y_pred_train = clf.predict_proba(X_train)\n",
    "\n",
    "spd_0 = computeFairness(y_pred_test, X_test_orig, y_test, 0, dataset)\n",
    "print(\"Initial statistical parity: \", spd_0)\n",
    "\n",
    "tpr_parity_0 = computeFairness(y_pred_test, X_test_orig, y_test, 1, dataset)\n",
    "print(\"Initial TPR parity: \", tpr_parity_0)\n",
    "\n",
    "predictive_parity_0 = computeFairness(y_pred_test, X_test_orig, y_test, 2, dataset)\n",
    "print(\"Initial predictive parity: \", predictive_parity_0)\n",
    "\n",
    "accuracy_0 = computeAccuracy(y_test, y_pred_test)\n",
    "print(\"Initial accuracy: \", accuracy_0)"
   ]
  },
  {
   "cell_type": "markdown",
   "metadata": {},
   "source": [
    "<h5>INF calc on Original Labels for Leave One Out<h5>"
   ]
  },
  {
   "cell_type": "code",
   "execution_count": 16,
   "metadata": {},
   "outputs": [],
   "source": [
    "#if_start = time.time()\n",
    "metric_val = [spd_0, tpr_parity_0, predictive_parity_0][metric]\n",
    "del_F_del_theta = get_del_F_del_theta(clf, X_test_orig, X_test, y_test, dataset, metric)"
   ]
  },
  {
   "cell_type": "code",
   "execution_count": 17,
   "metadata": {},
   "outputs": [
    {
     "name": "stderr",
     "output_type": "stream",
     "text": [
      "100%|██████████| 800/800 [00:12<00:00, 63.52it/s]\n"
     ]
    }
   ],
   "source": [
    "hessian_all_points = get_hessian_all_points(clf, X_train, y_train, loss_func)"
   ]
  },
  {
   "cell_type": "code",
   "execution_count": 18,
   "metadata": {},
   "outputs": [],
   "source": [
    "del_L_del_theta = get_del_L_del_theta(clf, X_train, y_train, loss_func)"
   ]
  },
  {
   "cell_type": "code",
   "execution_count": 19,
   "metadata": {},
   "outputs": [],
   "source": [
    "hinv_v, hinv = get_hinv_v(hessian_all_points, np.transpose(del_L_del_theta))\n",
    "#incorporate del_l_del_theta_i with the updated datapoint"
   ]
  },
  {
   "cell_type": "code",
   "execution_count": 20,
   "metadata": {},
   "outputs": [],
   "source": [
    "#multiple the inverse by -1\n",
    "negative_hinv_v = -1*hinv_v"
   ]
  },
  {
   "cell_type": "code",
   "execution_count": 21,
   "metadata": {},
   "outputs": [],
   "source": [
    "inf = np.matmul(np.transpose(negative_hinv_v), del_F_del_theta)\n",
    "#For the new datapoint re-calculate the hinv_v"
   ]
  },
  {
   "cell_type": "code",
   "execution_count": 22,
   "metadata": {},
   "outputs": [],
   "source": [
    "inf = (-1/(len(X_train))) *inf "
   ]
  },
  {
   "cell_type": "code",
   "execution_count": 23,
   "metadata": {},
   "outputs": [],
   "source": [
    "decimal_array = [format(num, '.10f') for num in inf]\n",
    "decimal_array = [float(num) for num in decimal_array]"
   ]
  },
  {
   "cell_type": "markdown",
   "metadata": {},
   "source": [
    "<h5>Leave one out <h5>"
   ]
  },
  {
   "cell_type": "code",
   "execution_count": 24,
   "metadata": {},
   "outputs": [],
   "source": [
    "#Removal using leave one out concept\n",
    "copy_train = train_full_df.copy()\n",
    "difference = []\n",
    "\n",
    "for index in copy_train.index:\n",
    "    df_dropped = copy_train.copy()\n",
    "    df_dropped = copy_train.drop(index)\n",
    "    #Run lr_model() to get predicted probabilities\n",
    "    ypred = lr_model(df_dropped, X_test, clf)\n",
    "    parity = computeFairness(ypred, X_test_orig, y_test, 0, dataset)\n",
    "    \n",
    "    parity = parity-spd_0\n",
    "\n",
    "    difference.append(parity)\n",
    "#This does not fall under the measuring the time taken to decide how long it will take for IF to work "
   ]
  },
  {
   "cell_type": "code",
   "execution_count": 25,
   "metadata": {},
   "outputs": [
    {
     "data": {
      "image/png": "[encoded data removed]",
      "text/plain": [
       "<Figure size 640x480 with 1 Axes>"
      ]
     },
     "metadata": {},
     "output_type": "display_data"
    }
   ],
   "source": [
    "predicted_diff = decimal_array\n",
    "#actual_diff = actual_parity_list\n",
    "actual_diff = difference\n",
    "\n",
    "# Create the scatter plot\n",
    "plt.scatter(actual_diff, predicted_diff, label='Data Points')\n",
    "\n",
    "# Set the labels for the axes\n",
    "plt.xlabel('Actual Diff in Parity')\n",
    "plt.ylabel('Predicted Diff in Parity')\n",
    "\n",
    "# Set the title of the plot (optional)\n",
    "plt.title('Predicted vs Actual Diff in Parity (Removal)')\n",
    "\n",
    "# Add a legend\n",
    "plt.legend()\n",
    "\n",
    "# Show the plot\n",
    "plt.show()"
   ]
  },
  {
   "cell_type": "markdown",
   "metadata": {},
   "source": [
    "<h3>INF calc on flipped labels and compare them to flipping the datapoints<h3>"
   ]
  },
  {
   "cell_type": "code",
   "execution_count": 26,
   "metadata": {},
   "outputs": [],
   "source": [
    "flipping_time_start = time.time()\n",
    "#Flip all the labels for the encoded data and the scaled data\n",
    "#The labels are the same just the training data looks different \n",
    "y_train_changed = y_train.replace({0:1,1:0})"
   ]
  },
  {
   "cell_type": "code",
   "execution_count": 27,
   "metadata": {},
   "outputs": [],
   "source": [
    "num_params = len(convert_grad_to_ndarray(list(clf.parameters())))\n",
    "if isinstance(clf, Logistic_Regression):\n",
    "    loss_func = logistic_loss_torch\n",
    "elif isinstance(clf, SVM):\n",
    "    loss_func = svm_loss_torch\n",
    "elif isinstance(clf, NeuralNetwork):\n",
    "    loss_func = nn_loss_torch\n",
    "else:\n",
    "    raise NotImplementedError"
   ]
  },
  {
   "cell_type": "code",
   "execution_count": 28,
   "metadata": {},
   "outputs": [
    {
     "name": "stdout",
     "output_type": "stream",
     "text": [
      "Initial statistical parity:  0.09501853685360401\n"
     ]
    }
   ],
   "source": [
    "clf_2 = eval(clf_name)(input_size=X_train.shape[-1])\n",
    "clf_2.fit(X_train, y_train_changed)\n",
    "\n",
    "y_pred_test = clf_2.predict_proba(X_test)\n",
    "y_pred_train = clf_2.predict_proba(X_train)\n",
    "\n",
    "spd_1 = computeFairness(y_pred_test, X_test_orig, y_test, 0, dataset)\n",
    "print(\"Initial statistical parity: \", spd_1)"
   ]
  },
  {
   "cell_type": "code",
   "execution_count": 29,
   "metadata": {},
   "outputs": [],
   "source": [
    "#RP_code\n",
    "del_L_del_theta_2 = get_del_L_del_theta(clf, X_train, y_train_changed, loss_func)\n",
    "hinv_v_2, hinv_2 = get_hinv_v(hessian_all_points, np.transpose(del_L_del_theta_2 - del_L_del_theta))\n",
    "negative_hinv_v_2 = -1*hinv_v_2\n",
    "inf_2 = np.matmul(np.transpose(negative_hinv_v_2), del_F_del_theta)\n",
    "inf_2 = (1/(len(X_train))) *inf_2 "
   ]
  },
  {
   "cell_type": "code",
   "execution_count": 30,
   "metadata": {},
   "outputs": [],
   "source": [
    "flipping_time_end = time.time() - flipping_time_start"
   ]
  },
  {
   "cell_type": "code",
   "execution_count": 31,
   "metadata": {},
   "outputs": [],
   "source": [
    "#Flipping\n",
    "#Make the original flips to test for the parity after each flip \n",
    "actual_df_train = train_full_df.copy()\n",
    "actual_parity_list = []\n",
    "\n",
    "for index, row in actual_df_train.iterrows():\n",
    "    if row['credit_risk'] == 1:\n",
    "        #Flip the label at credit_risk = 1 to 0\n",
    "        actual_df_train.at[index,'credit_risk'] = 0\n",
    "        actual_pred = lr_model(actual_df_train, X_test, clf)\n",
    "        actual_parity = computeFairness(actual_pred, X_test_orig, y_test, 0, dataset)\n",
    "        actual_parity_list.append(actual_parity - spd_0)\n",
    "        actual_df_train.at[index,'credit_risk'] = 1\n",
    "        \n",
    "    elif row['credit_risk'] == 0:\n",
    "        actual_df_train.at[index,'credit_risk'] = 1\n",
    "        actual_pred = lr_model(actual_df_train, X_test, clf)\n",
    "        actual_parity = computeFairness(actual_pred, X_test_orig, y_test, 0, dataset)\n",
    "        actual_parity_list.append(actual_parity - spd_0)\n",
    "        actual_df_train.at[index,'credit_risk'] = 0"
   ]
  },
  {
   "cell_type": "code",
   "execution_count": 32,
   "metadata": {},
   "outputs": [],
   "source": [
    "decimal_array = [format(num, '.10f') for num in inf_2]\n",
    "decimal_array = [float(num) for num in decimal_array]"
   ]
  },
  {
   "cell_type": "code",
   "execution_count": 33,
   "metadata": {},
   "outputs": [
    {
     "data": {
      "image/png": "[encoded data removed]",
      "text/plain": [
       "<Figure size 640x480 with 1 Axes>"
      ]
     },
     "metadata": {},
     "output_type": "display_data"
    }
   ],
   "source": [
    "predicted_diff = decimal_array\n",
    "actual_diff = actual_parity_list\n",
    "\n",
    "# Create the scatter plot\n",
    "plt.scatter(actual_diff, predicted_diff, label='Data Points')\n",
    "\n",
    "# Set the labels for the axes\n",
    "plt.xlabel('Actual Diff in Parity')\n",
    "plt.ylabel('Predicted Diff in Parity')\n",
    "\n",
    "# Set the title of the plot (optional)\n",
    "plt.title('Predicted vs Actual Diff in Parity (Flipping)')\n",
    "\n",
    "# Add a legend\n",
    "plt.legend()\n",
    "\n",
    "# Show the plot\n",
    "plt.show()\n"
   ]
  },
  {
   "cell_type": "markdown",
   "metadata": {},
   "source": [
    "<h4>Calculate the difference between the changed vs original<h4>"
   ]
  },
  {
   "cell_type": "code",
   "execution_count": 34,
   "metadata": {},
   "outputs": [],
   "source": [
    "#Calculate the total influence in one full step\n",
    "#total_inf2 = ((-1*1/n)*np.matmul(np.transpose(-1*hinv_v_2),del_F_del_theta_2)) - ((-1*1/n)*(np.matmul(np.transpose(-1*hinv_v),del_F_del_theta)))"
   ]
  },
  {
   "cell_type": "markdown",
   "metadata": {},
   "source": [
    "<h3>##########################################################################################<h3>"
   ]
  },
  {
   "cell_type": "markdown",
   "metadata": {},
   "source": [
    "<h4>Make flips based on the flipping_total_inf value<h4>"
   ]
  },
  {
   "cell_type": "code",
   "execution_count": 35,
   "metadata": {},
   "outputs": [],
   "source": [
    "if_start = time.time()\n",
    "index_list = []\n",
    "for i in range(len(X_train)):\n",
    "    index_list.append(i)"
   ]
  },
  {
   "cell_type": "code",
   "execution_count": 36,
   "metadata": {},
   "outputs": [],
   "source": [
    "#Make a copy of the training data to make flips on \n",
    "influence_train_copy = train_full_df.copy()"
   ]
  },
  {
   "cell_type": "code",
   "execution_count": 37,
   "metadata": {},
   "outputs": [
    {
     "name": "stdout",
     "output_type": "stream",
     "text": [
      "0.7039482593536377\n"
     ]
    }
   ],
   "source": [
    "#Order the total_inf in descending order based on magnitude\n",
    "combined_list = list(zip(inf_2, index_list))\n",
    "\n",
    "# Step 2: Sort the combined list based on the float values\n",
    "sorted_combined_list = sorted(combined_list, key=lambda x: x[0], reverse=True)\n",
    "\n",
    "# Step 3: Unpack the sorted list of tuples back into two separate lists\n",
    "abs_sorted_float_list, abs_sorted_index_list = zip(*sorted_combined_list)\n",
    "list(abs_sorted_float_list)\n",
    "list(abs_sorted_index_list)\n",
    "#Measure up to here for the influence functions\n",
    "#This will tell us how long it takes for influence functions to determine which order I need to flip the datapoints in\n",
    "#if_time: Time taken to decide the order in which the datapoints need to be flipped\n",
    "if_end = time.time() - if_start\n",
    "if_end += flipping_time_end\n",
    "print(if_end)"
   ]
  },
  {
   "cell_type": "code",
   "execution_count": 38,
   "metadata": {},
   "outputs": [],
   "source": [
    "if if_end < 0:\n",
    "    if_end = -1 * if_end\n",
    "else: \n",
    "    pass"
   ]
  },
  {
   "cell_type": "code",
   "execution_count": 39,
   "metadata": {},
   "outputs": [],
   "source": [
    "#Making flips based on the influence of each datapoint\n",
    "#After ordering them in decreasing order based on magnitude\n",
    "flip_parity_abs = []\n",
    "for i in range(len(abs_sorted_index_list)):\n",
    "    row_num = abs_sorted_index_list[i]\n",
    "    if influence_train_copy.at[row_num,'credit_risk'] == 1:\n",
    "        influence_train_copy.at[row_num,'credit_risk'] = 0\n",
    "        influence_prediction = lr_model(influence_train_copy, X_test, clf)\n",
    "        influence_parity = computeFairness(influence_prediction, X_test_orig, y_test, 0, dataset)\n",
    "        flip_parity_abs.append(influence_parity)\n",
    "    elif influence_train_copy.at[row_num,'credit_risk'] == 0:\n",
    "        influence_train_copy.at[row_num,'credit_risk'] = 1\n",
    "        influence_prediction = lr_model(influence_train_copy, X_test, clf)\n",
    "        influence_parity = computeFairness(influence_prediction, X_test_orig, y_test, 0, dataset)\n",
    "        flip_parity_abs.append(influence_parity)\n",
    "#print(flip_parity_abs)"
   ]
  },
  {
   "cell_type": "code",
   "execution_count": 40,
   "metadata": {},
   "outputs": [],
   "source": [
    "sol_time.append(if_end)"
   ]
  },
  {
   "cell_type": "code",
   "execution_count": 41,
   "metadata": {},
   "outputs": [
    {
     "data": {
      "image/png": "[encoded data removed]",
      "text/plain": [
       "<Figure size 640x480 with 1 Axes>"
      ]
     },
     "metadata": {},
     "output_type": "display_data"
    }
   ],
   "source": [
    "#total num of data points\n",
    "#on_abs_sorted = len(flip_parity_sorted)\n",
    "abs_sorted = len(flip_parity_abs)\n",
    "\n",
    "#Calculate the indices for the 5 points\n",
    "#indices_non_abs = [int(i * non_abs_sorted / 5) for i in range(0, 5)]\n",
    "indices_abs = [int(i * abs_sorted / 10) for i in range(0, 10)]\n",
    "\n",
    "# Extract the values at these indices\n",
    "#values_non_abs = [flip_parity_sorted[index] for index in indices_non_abs]\n",
    "values_abs = []\n",
    "values_abs.append(spd_0)\n",
    "for index in range(1, len(indices_abs) + 1):\n",
    "    values_abs.append(flip_parity_abs[index * 80 - 1])\n",
    "    \n",
    "# values_abs[0] = flip_parity_abs[0]\n",
    "# values_abs = [flip_parity_abs[index] for index in indices_abs]\n",
    "\n",
    "#Plot the Values\n",
    "plt.plot([0, 10, 20, 30, 40, 50, 60, 70, 80, 90, 100], values_abs, label='ABS Flipping', color='Blue', marker = 'x')\n",
    "\n",
    "# Add labels and legend\n",
    "plt.xlabel('Percentage of Data Points')\n",
    "plt.ylabel('Values')\n",
    "plt.title('Graph of Data Points')\n",
    "plt.legend()\n",
    "\n",
    "# Show the plot\n",
    "plt.show()"
   ]
  },
  {
   "cell_type": "markdown",
   "metadata": {},
   "source": [
    "<h3>Compare methods of: Naive, Entropy, MEU, and IF<h3>"
   ]
  },
  {
   "cell_type": "markdown",
   "metadata": {},
   "source": [
    "<h5>Naive Method: Greedy Algorithm<h5>"
   ]
  },
  {
   "cell_type": "code",
   "execution_count": 42,
   "metadata": {},
   "outputs": [],
   "source": [
    "greedy_start = time.time()\n",
    "#Beginning of the Greedy Algorithm\n",
    "#Make the original flips to test for the parity after each flip \n",
    "greedy_train = train_full_df.copy()\n",
    "greedy_parity_list = []\n",
    "\n",
    "for index, row in greedy_train.iterrows():\n",
    "    if row['credit_risk'] == 1:\n",
    "        #Flip the label at credit_risk = 1 to 0\n",
    "        greedy_train.at[index,'credit_risk'] = 0\n",
    "        greedy_pred = lr_model(greedy_train, X_test, clf)\n",
    "        greedy_parity = computeFairness(greedy_pred, X_test_orig, y_test, 0, dataset)\n",
    "        greedy_parity_list.append(greedy_parity)\n",
    "        greedy_train.at[index,'credit_risk'] = 1\n",
    "        \n",
    "    elif row['credit_risk'] == 0:\n",
    "        greedy_train.at[index,'credit_risk'] = 1\n",
    "        greedy_pred = lr_model(greedy_train, X_test, clf)\n",
    "        greedy_parity = computeFairness(greedy_pred, X_test_orig, y_test, 0, dataset)\n",
    "        greedy_parity_list.append(greedy_parity)\n",
    "        greedy_train.at[index,'credit_risk'] = 0"
   ]
  },
  {
   "cell_type": "code",
   "execution_count": 43,
   "metadata": {},
   "outputs": [],
   "source": [
    "#Compare each of the parity values after flipping to the OG parity value\n",
    "#Append to a new list\n",
    "\n",
    "#parity_difference: Contains the difference between flipped and original value\n",
    "parity_difference = []\n",
    "#Contains parity values that fall between .03 and -.03\n",
    "large_influence = []\n",
    "#Contains the row number of each flip\n",
    "li_row = []\n",
    "\n",
    "for value in greedy_parity_list:\n",
    "    difference = value - spd_0\n",
    "    parity_difference.append(difference)\n",
    "\n",
    "#Rows considered to be high influence if they in between a specific value\n",
    "for index, item in enumerate(parity_difference):\n",
    "  if spd_0 > 0:\n",
    "    if item <= spd_0 or item >= -1*(spd_0):\n",
    "        large_influence.append(item)\n",
    "        li_row.append(index)\n",
    "  else:\n",
    "    if item >= spd_0 or item <= -1*(spd_0):\n",
    "        large_influence.append(item)\n",
    "        li_row.append(index)"
   ]
  },
  {
   "cell_type": "code",
   "execution_count": 44,
   "metadata": {},
   "outputs": [],
   "source": [
    "# Combine lists into tuples and zip them\n",
    "combined_data = list(zip(large_influence, li_row))\n",
    "\n",
    "# Sort based on statistical parity values in descending order\n",
    "combined_data.sort(key=lambda x: abs(x[0]), reverse=True)\n",
    "\n",
    "# Extract sorted indices list and the sorted values\n",
    "sorted_indices_list = [index for _, index in combined_data]\n",
    "sorted_values = sorted(large_influence, reverse=True)\n",
    "greedy_end = time.time()"
   ]
  },
  {
   "cell_type": "code",
   "execution_count": 45,
   "metadata": {},
   "outputs": [],
   "source": [
    "#After ranking the values now go back through the dataset flipping \n",
    "#based on the ranked values\n",
    "\n",
    "#Parity values after each flip\n",
    "ranked_greedy_parity_list = []\n",
    "#Accuracy after every flip\n",
    "ranked_acc = []\n",
    "#Index/row of the flip\n",
    "ranked_flip = []\n",
    "\n",
    "row_num = 0\n",
    "ranked_indices_list = list(sorted_indices_list)\n",
    "\n",
    "#Iterate through the ranked list and start the flipping\n",
    "for idx, row in enumerate(ranked_indices_list):\n",
    "    row_num = ranked_indices_list[row]\n",
    "    #If the label at the specific row is 1 it flips it to 0 then calculates the parity and accuracy\n",
    "    #It follows the same steps as the flipping before\n",
    "    if greedy_train.at[row_num,'credit_risk'] == 1:\n",
    "        greedy_train.at[row,'credit_risk'] = 0\n",
    "        ranked_greedy_pred = lr_model(greedy_train, X_test, clf)\n",
    "        ranked_greedy_parity = computeFairness(ranked_greedy_pred, X_test_orig, y_test, 0, dataset)\n",
    "        ranked_greedy_parity_list.append(ranked_greedy_parity)\n",
    "    elif greedy_train.at[row_num, 'credit_risk'] == 0:\n",
    "        greedy_train.at[row, 'credit_risk'] = 1\n",
    "        ranked_greedy_pred = lr_model(greedy_train, X_test, clf)\n",
    "        ranked_greedy_parity = computeFairness(ranked_greedy_pred, X_test_orig, y_test, 0, dataset)\n",
    "        ranked_greedy_parity_list.append(ranked_greedy_parity)"
   ]
  },
  {
   "cell_type": "code",
   "execution_count": 46,
   "metadata": {},
   "outputs": [],
   "source": [
    "greedy_time = greedy_end - greedy_start\n",
    "sol_time.append(greedy_time)"
   ]
  },
  {
   "cell_type": "code",
   "execution_count": 47,
   "metadata": {},
   "outputs": [
    {
     "data": {
      "image/png": "[encoded data removed]",
      "text/plain": [
       "<Figure size 640x480 with 1 Axes>"
      ]
     },
     "metadata": {},
     "output_type": "display_data"
    }
   ],
   "source": [
    "datapoints_iterative = len(ranked_greedy_parity_list)\n",
    "\n",
    "#Calculate the indices for the 5 points\n",
    "#indices_non_abs = [int(i * non_abs_sorted / 5) for i in range(0, 5)]\n",
    "indices_abs = [int(i * datapoints_iterative / 10) for i in range(0, 10)]\n",
    "\n",
    "values_iterative = []\n",
    "values_iterative.append(spd_0)\n",
    "for index in range(1, len(indices_abs) + 1):\n",
    "    values_iterative.append(ranked_greedy_parity_list[index * 80 - 1])\n",
    "\n",
    "\n",
    "# Extract the values at these indices\n",
    "#values_non_abs = [flip_parity_sorted[index] for index in indices_non_abs]\n",
    "# values_iterative = [ranked_greedy_parity_list[index] for index in indices_abs]\n",
    "\n",
    "#Plot the Values\n",
    "plt.plot([0, 10, 20, 30, 40, 50, 60, 70, 80, 90, 100], values_iterative, label='Greedy Flipping', color='Blue', marker = 'o')\n",
    "\n",
    "# Add labels and legend\n",
    "plt.xlabel('Percentage of Data Points')\n",
    "plt.ylabel('Values')\n",
    "plt.title('Graph of Data Points')\n",
    "plt.legend()\n",
    "\n",
    "# Show the plot\n",
    "plt.show()"
   ]
  },
  {
   "cell_type": "markdown",
   "metadata": {},
   "source": [
    "<h4>Uncertainty Reduction/Entropy<h4>"
   ]
  },
  {
   "cell_type": "code",
   "execution_count": 48,
   "metadata": {},
   "outputs": [],
   "source": [
    "entropy_start = time.time()\n",
    "#Remake the dataset\n",
    "entropy_train_df = train_full_df.copy()"
   ]
  },
  {
   "cell_type": "code",
   "execution_count": 49,
   "metadata": {},
   "outputs": [],
   "source": [
    "#Calculate the probability of each datapoint using the same one of as the lrmodel function\n",
    "orig_entropy_prob = clf.predict_proba(X_train)\n",
    "flipped_entropy_prob = 1-orig_entropy_prob"
   ]
  },
  {
   "cell_type": "code",
   "execution_count": 50,
   "metadata": {},
   "outputs": [
    {
     "data": {
      "text/plain": [
       "'#Run the LR classifier\\n#Use Scikit learn logistic regression rather than pre-built one\\nclfa = LogisticRegression(class_weight=None, max_iter=100)\\nlog = clfa.fit(X_train,y_train)\\nprediction = log.predict(X_test)\\n#prediction_prob = log.predict_proba(X_train)\\naccuracy = accuracy_score(y_test,prediction)*100\\nprint(accuracy)'"
      ]
     },
     "execution_count": 50,
     "metadata": {},
     "output_type": "execute_result"
    }
   ],
   "source": [
    "'''#Run the LR classifier\n",
    "#Use Scikit learn logistic regression rather than pre-built one\n",
    "clfa = LogisticRegression(class_weight=None, max_iter=100)\n",
    "log = clfa.fit(X_train,y_train)\n",
    "prediction = log.predict(X_test)\n",
    "#prediction_prob = log.predict_proba(X_train)\n",
    "accuracy = accuracy_score(y_test,prediction)*100\n",
    "print(accuracy)'''"
   ]
  },
  {
   "cell_type": "code",
   "execution_count": 51,
   "metadata": {},
   "outputs": [],
   "source": [
    "#Obtain the predicted probabilities\n",
    "#predicted_prob = log.predict_proba(X_train)"
   ]
  },
  {
   "cell_type": "code",
   "execution_count": 52,
   "metadata": {},
   "outputs": [
    {
     "name": "stdout",
     "output_type": "stream",
     "text": [
      "0.48365462 0.5163454\n",
      "0.3827574 0.6172426\n",
      "0.47380984 0.52619016\n",
      "0.38224733 0.6177527\n",
      "0.48666874 0.5133313\n",
      "0.48056257 0.51943743\n",
      "0.53074473 0.46925527\n",
      "0.4331625 0.5668375\n",
      "0.47962803 0.520372\n",
      "0.4172653 0.5827347\n",
      "0.58352625 0.41647375\n",
      "0.4763616 0.52363837\n",
      "0.27194935 0.72805065\n",
      "0.32549992 0.6745001\n",
      "0.36424616 0.63575387\n",
      "0.5291111 0.4708889\n",
      "0.41776618 0.5822338\n",
      "0.3828616 0.6171384\n",
      "0.36294731 0.63705266\n",
      "0.45400557 0.5459944\n",
      "0.46588448 0.53411555\n",
      "0.453442 0.546558\n",
      "0.44332585 0.5566741\n",
      "0.4692095 0.5307905\n",
      "0.382069 0.617931\n",
      "0.5191842 0.48081583\n",
      "0.48890236 0.51109767\n",
      "0.40865228 0.5913477\n",
      "0.40879223 0.59120774\n",
      "0.44836387 0.5516361\n",
      "0.47368076 0.52631927\n",
      "0.45710334 0.5428966\n",
      "0.54519176 0.45480824\n",
      "0.48921445 0.5107856\n",
      "0.46980065 0.53019935\n",
      "0.44449314 0.5555068\n",
      "0.41467828 0.5853217\n",
      "0.31643876 0.6835612\n",
      "0.45099926 0.54900074\n",
      "0.47645286 0.5235472\n",
      "0.30931488 0.69068515\n",
      "0.31838256 0.68161744\n",
      "0.3930384 0.6069616\n",
      "0.45149952 0.5485005\n",
      "0.52981246 0.47018754\n",
      "0.4844596 0.51554036\n",
      "0.42460868 0.5753913\n",
      "0.39165395 0.60834605\n",
      "0.51566523 0.48433477\n",
      "0.55651444 0.44348556\n",
      "0.5180548 0.48194522\n",
      "0.5835413 0.41645873\n",
      "0.41641116 0.58358884\n",
      "0.37158576 0.6284143\n",
      "0.4209066 0.5790934\n",
      "0.50017047 0.49982953\n",
      "0.38609317 0.61390686\n",
      "0.4821508 0.5178492\n",
      "0.43334708 0.5666529\n",
      "0.4249088 0.57509124\n",
      "0.49771488 0.5022851\n",
      "0.5039361 0.4960639\n",
      "0.27838928 0.7216107\n",
      "0.40713114 0.59286886\n",
      "0.42815804 0.57184196\n",
      "0.5013529 0.4986471\n",
      "0.54303646 0.45696354\n",
      "0.51976585 0.48023415\n",
      "0.520286 0.47971398\n",
      "0.48850706 0.51149297\n",
      "0.53456986 0.46543014\n",
      "0.41491672 0.58508325\n",
      "0.43824148 0.5617585\n",
      "0.4754686 0.52453136\n",
      "0.4357347 0.5642653\n",
      "0.5999463 0.40005368\n",
      "0.3139779 0.6860221\n",
      "0.4977092 0.5022908\n",
      "0.3529598 0.6470402\n",
      "0.46386915 0.53613085\n",
      "0.3794353 0.6205647\n",
      "0.5796122 0.4203878\n",
      "0.46022007 0.5397799\n",
      "0.51526445 0.48473555\n",
      "0.3714436 0.6285564\n",
      "0.50402814 0.49597186\n",
      "0.40783903 0.59216094\n",
      "0.46472883 0.53527117\n",
      "0.46440166 0.53559834\n",
      "0.44786823 0.5521318\n",
      "0.42033884 0.57966113\n",
      "0.46559736 0.5344026\n",
      "0.4249867 0.5750133\n",
      "0.51662654 0.48337346\n",
      "0.4159493 0.58405066\n",
      "0.47032186 0.5296781\n",
      "0.48805207 0.51194793\n",
      "0.26828036 0.7317196\n",
      "0.45619518 0.5438048\n",
      "0.484514 0.515486\n",
      "0.49674198 0.503258\n",
      "0.51671696 0.48328304\n",
      "0.3769746 0.6230254\n",
      "0.44300878 0.5569912\n",
      "0.44639012 0.55360985\n",
      "0.5107459 0.48925412\n",
      "0.4093615 0.5906385\n",
      "0.54554844 0.45445156\n",
      "0.44686761 0.5531324\n",
      "0.48050195 0.51949805\n",
      "0.29785714 0.70214283\n",
      "0.5127444 0.48725557\n",
      "0.47109935 0.5289006\n",
      "0.39515403 0.604846\n",
      "0.3559907 0.6440093\n",
      "0.5303693 0.46963072\n",
      "0.45182186 0.54817814\n",
      "0.5239468 0.47605318\n",
      "0.40312767 0.5968723\n",
      "0.41418177 0.58581823\n",
      "0.5131914 0.4868086\n",
      "0.42614752 0.5738525\n",
      "0.42128277 0.57871723\n",
      "0.4859993 0.5140007\n",
      "0.39214268 0.60785735\n",
      "0.5351681 0.4648319\n",
      "0.4762184 0.5237816\n",
      "0.48362818 0.51637185\n",
      "0.4092783 0.5907217\n",
      "0.48923972 0.5107603\n",
      "0.40273494 0.59726506\n",
      "0.48348567 0.5165143\n",
      "0.48017207 0.51982796\n",
      "0.38578856 0.61421144\n",
      "0.3332701 0.6667299\n",
      "0.48750377 0.51249623\n",
      "0.4651971 0.5348029\n",
      "0.47456682 0.5254332\n",
      "0.41168833 0.5883117\n",
      "0.3516462 0.6483538\n",
      "0.48750377 0.51249623\n",
      "0.43682736 0.56317264\n",
      "0.5632685 0.43673152\n",
      "0.42763466 0.57236534\n",
      "0.5396609 0.46033913\n",
      "0.42886534 0.5711347\n",
      "0.40033916 0.5996609\n",
      "0.38644734 0.6135527\n",
      "0.31495082 0.6850492\n",
      "0.48129407 0.51870596\n",
      "0.5517589 0.4482411\n",
      "0.5005384 0.4994616\n",
      "0.34849438 0.6515056\n",
      "0.44123426 0.55876577\n",
      "0.44247556 0.55752444\n",
      "0.44784328 0.5521567\n",
      "0.47581202 0.524188\n",
      "0.4527197 0.5472803\n",
      "0.47453648 0.5254635\n",
      "0.41592732 0.5840727\n",
      "0.48379642 0.5162036\n",
      "0.36148974 0.6385102\n",
      "0.37592486 0.6240752\n",
      "0.4208418 0.5791582\n",
      "0.38585344 0.6141466\n",
      "0.5313841 0.4686159\n",
      "0.451281 0.548719\n",
      "0.44134104 0.55865896\n",
      "0.350576 0.64942396\n",
      "0.47999194 0.5200081\n",
      "0.40847507 0.59152496\n",
      "0.52048767 0.47951233\n",
      "0.50479794 0.49520206\n",
      "0.48831493 0.5116851\n",
      "0.45691377 0.54308623\n",
      "0.48321953 0.5167805\n",
      "0.32083836 0.67916167\n",
      "0.47691736 0.5230826\n",
      "0.48411068 0.5158893\n",
      "0.64859766 0.35140234\n",
      "0.36493793 0.6350621\n",
      "0.49169254 0.50830746\n",
      "0.45012978 0.54987025\n",
      "0.44761965 0.5523803\n",
      "0.37934273 0.62065727\n",
      "0.4630866 0.5369134\n",
      "0.353926 0.646074\n",
      "0.46800464 0.53199536\n",
      "0.47754017 0.52245986\n",
      "0.4357375 0.5642625\n",
      "0.5146534 0.48534662\n",
      "0.47564456 0.5243554\n",
      "0.46912247 0.53087753\n",
      "0.5185595 0.48144048\n",
      "0.46707714 0.53292286\n",
      "0.47581926 0.52418077\n",
      "0.33000854 0.6699915\n",
      "0.5619285 0.4380715\n",
      "0.43320492 0.5667951\n",
      "0.48934132 0.5106587\n",
      "0.55772907 0.44227093\n",
      "0.42450097 0.57549906\n",
      "0.37031838 0.6296816\n",
      "0.43117514 0.5688249\n",
      "0.41802126 0.58197874\n",
      "0.45792603 0.54207397\n",
      "0.44829336 0.5517067\n",
      "0.4489018 0.5510982\n",
      "0.4370857 0.5629143\n",
      "0.30093303 0.699067\n",
      "0.5042325 0.49576747\n",
      "0.38292733 0.6170727\n",
      "0.35576347 0.64423656\n",
      "0.5003177 0.4996823\n",
      "0.43640044 0.5635996\n",
      "0.40145954 0.5985404\n",
      "0.42324203 0.57675797\n",
      "0.3928773 0.60712266\n",
      "0.51671237 0.48328763\n",
      "0.4653397 0.53466034\n",
      "0.44804737 0.5519526\n",
      "0.564335 0.435665\n",
      "0.331326 0.668674\n",
      "0.42000595 0.5799941\n",
      "0.49439946 0.5056006\n",
      "0.41086507 0.58913493\n",
      "0.4754892 0.5245108\n",
      "0.4940597 0.5059403\n",
      "0.4218086 0.5781914\n",
      "0.47665715 0.52334285\n",
      "0.46549246 0.5345075\n",
      "0.44645607 0.5535439\n",
      "0.43885565 0.56114435\n",
      "0.40684208 0.5931579\n",
      "0.5106253 0.4893747\n",
      "0.45138356 0.5486164\n",
      "0.5051065 0.4948935\n",
      "0.4477741 0.5522259\n",
      "0.30964753 0.69035244\n",
      "0.42360872 0.5763913\n",
      "0.32481986 0.67518014\n",
      "0.39383247 0.60616755\n",
      "0.3282297 0.67177033\n",
      "0.49130416 0.50869584\n",
      "0.46957275 0.5304272\n",
      "0.31154504 0.688455\n",
      "0.5009628 0.4990372\n",
      "0.36080047 0.6391995\n",
      "0.47854987 0.52145016\n",
      "0.42546982 0.5745302\n",
      "0.48018676 0.51981324\n",
      "0.52807736 0.47192264\n",
      "0.44873947 0.55126053\n",
      "0.4564165 0.5435835\n",
      "0.36678672 0.6332133\n",
      "0.5013597 0.4986403\n",
      "0.52353925 0.47646075\n",
      "0.43577638 0.56422365\n",
      "0.4577732 0.5422268\n",
      "0.49316746 0.50683254\n",
      "0.46155033 0.53844965\n",
      "0.31191596 0.688084\n",
      "0.52435184 0.47564816\n",
      "0.37166712 0.62833285\n",
      "0.36909416 0.63090587\n",
      "0.3988229 0.6011771\n",
      "0.35617048 0.6438295\n",
      "0.47116274 0.52883726\n",
      "0.2924084 0.7075916\n",
      "0.4630135 0.5369865\n",
      "0.4870286 0.5129714\n",
      "0.46820897 0.53179103\n",
      "0.4705278 0.52947223\n",
      "0.52216125 0.47783875\n",
      "0.47136608 0.52863395\n",
      "0.3923689 0.6076311\n",
      "0.49636668 0.5036333\n",
      "0.4714726 0.5285274\n",
      "0.44610175 0.5538982\n",
      "0.44973812 0.55026186\n",
      "0.5425234 0.45747662\n",
      "0.43853477 0.56146526\n",
      "0.44517013 0.55482984\n",
      "0.4847311 0.5152689\n",
      "0.39543435 0.6045656\n",
      "0.42415464 0.57584536\n",
      "0.5045793 0.4954207\n",
      "0.45550603 0.544494\n",
      "0.442159 0.557841\n",
      "0.47011384 0.5298861\n",
      "0.35243893 0.6475611\n",
      "0.4549647 0.5450353\n",
      "0.36267307 0.63732696\n",
      "0.46195543 0.5380446\n",
      "0.29274547 0.7072545\n",
      "0.46577817 0.5342218\n",
      "0.40905198 0.590948\n",
      "0.45490754 0.54509246\n",
      "0.4231379 0.5768621\n",
      "0.42222834 0.57777166\n",
      "0.49686497 0.503135\n",
      "0.3647844 0.63521564\n",
      "0.44495016 0.55504984\n",
      "0.4099001 0.59009993\n",
      "0.49390087 0.5060991\n",
      "0.525039 0.47496098\n",
      "0.40113145 0.59886855\n",
      "0.35657823 0.64342177\n",
      "0.5544065 0.44559348\n",
      "0.49106234 0.50893766\n",
      "0.3795774 0.6204226\n",
      "0.48692876 0.51307124\n",
      "0.51560855 0.48439145\n",
      "0.49405783 0.50594217\n",
      "0.42974496 0.57025504\n",
      "0.4575226 0.54247737\n",
      "0.5281697 0.4718303\n",
      "0.4531792 0.54682076\n",
      "0.5126735 0.4873265\n",
      "0.42090163 0.57909834\n",
      "0.6184815 0.38151848\n",
      "0.50196534 0.49803466\n",
      "0.44794276 0.55205727\n",
      "0.60031754 0.39968246\n",
      "0.42172247 0.5782775\n",
      "0.47102094 0.52897906\n",
      "0.3406055 0.6593945\n",
      "0.47366238 0.5263376\n",
      "0.47084385 0.52915615\n",
      "0.35306677 0.6469332\n",
      "0.45895877 0.54104125\n",
      "0.43078458 0.5692154\n",
      "0.45108464 0.5489154\n",
      "0.3503734 0.6496266\n",
      "0.45595196 0.5440481\n",
      "0.5428482 0.45715177\n",
      "0.41095057 0.58904946\n",
      "0.35386205 0.64613795\n",
      "0.38356802 0.61643195\n",
      "0.47839606 0.52160394\n",
      "0.4695093 0.5304907\n",
      "0.52996975 0.47003025\n",
      "0.36569571 0.6343043\n",
      "0.49727315 0.50272685\n",
      "0.47152743 0.52847254\n",
      "0.480923 0.519077\n",
      "0.5659476 0.4340524\n",
      "0.32154018 0.6784598\n",
      "0.34152615 0.65847385\n",
      "0.38757056 0.61242944\n",
      "0.34592208 0.6540779\n",
      "0.46714422 0.53285575\n",
      "0.4678934 0.53210664\n",
      "0.41977528 0.58022475\n",
      "0.42401835 0.5759816\n",
      "0.46040145 0.5395986\n",
      "0.36104327 0.6389567\n",
      "0.3124373 0.6875627\n",
      "0.5011459 0.4988541\n",
      "0.35090384 0.64909613\n",
      "0.523705 0.476295\n",
      "0.52713037 0.47286963\n",
      "0.55117303 0.44882697\n",
      "0.3662554 0.6337446\n",
      "0.43875787 0.5612421\n",
      "0.366016 0.63398397\n",
      "0.40862808 0.5913719\n",
      "0.44054252 0.5594575\n",
      "0.35771006 0.64228994\n",
      "0.3776404 0.62235963\n",
      "0.3283859 0.6716141\n",
      "0.42347518 0.57652485\n",
      "0.44832355 0.55167645\n",
      "0.5229564 0.47704363\n",
      "0.30671257 0.69328743\n",
      "0.4788052 0.5211948\n",
      "0.37438193 0.6256181\n",
      "0.46793452 0.5320655\n",
      "0.36377773 0.63622224\n",
      "0.4651176 0.5348824\n",
      "0.46990776 0.53009224\n",
      "0.5047365 0.49526352\n",
      "0.49903643 0.50096357\n",
      "0.37218913 0.62781084\n",
      "0.56383777 0.43616223\n",
      "0.4233198 0.5766802\n",
      "0.36599836 0.6340016\n",
      "0.45434332 0.5456567\n",
      "0.44910058 0.5508994\n",
      "0.49732715 0.50267285\n",
      "0.33271417 0.6672858\n",
      "0.5036523 0.49634773\n",
      "0.5640013 0.43599868\n",
      "0.32490823 0.67509174\n",
      "0.44107124 0.5589287\n",
      "0.5064698 0.4935302\n",
      "0.56966114 0.43033886\n",
      "0.51155084 0.48844916\n",
      "0.32309127 0.67690873\n",
      "0.3732264 0.6267736\n",
      "0.47834346 0.5216565\n",
      "0.5189299 0.4810701\n",
      "0.47250873 0.5274913\n",
      "0.45329225 0.54670775\n",
      "0.47126547 0.52873456\n",
      "0.3982293 0.6017707\n",
      "0.6083875 0.39161253\n",
      "0.45348966 0.54651034\n",
      "0.5024844 0.49751562\n",
      "0.43931088 0.5606891\n",
      "0.4506043 0.5493957\n",
      "0.3850234 0.61497664\n",
      "0.5183675 0.48163247\n",
      "0.5502848 0.4497152\n",
      "0.33073318 0.6692668\n",
      "0.45627344 0.54372656\n",
      "0.4768889 0.5231111\n",
      "0.41066903 0.589331\n",
      "0.49994195 0.50005805\n",
      "0.4811288 0.5188712\n",
      "0.4458381 0.5541619\n",
      "0.39997613 0.60002387\n",
      "0.5008279 0.4991721\n",
      "0.39359245 0.6064075\n",
      "0.4342819 0.5657181\n",
      "0.41529202 0.584708\n",
      "0.47956085 0.52043915\n",
      "0.39898407 0.6010159\n",
      "0.47082135 0.5291786\n",
      "0.3686633 0.6313367\n",
      "0.19854467 0.8014553\n",
      "0.46113193 0.53886807\n",
      "0.49054787 0.5094521\n",
      "0.4573937 0.5426063\n",
      "0.5595052 0.44049478\n",
      "0.37121558 0.6287844\n",
      "0.51524657 0.48475343\n",
      "0.50430465 0.49569535\n",
      "0.4937941 0.5062059\n",
      "0.49294022 0.5070598\n",
      "0.4922335 0.5077665\n",
      "0.51690847 0.48309153\n",
      "0.5019524 0.4980476\n",
      "0.534208 0.465792\n",
      "0.37354442 0.62645555\n",
      "0.47200358 0.5279964\n",
      "0.49073407 0.5092659\n",
      "0.5441719 0.45582807\n",
      "0.5193139 0.48068613\n",
      "0.49386016 0.5061399\n",
      "0.46488428 0.5351157\n",
      "0.57384837 0.42615163\n",
      "0.42000303 0.57999694\n",
      "0.50268406 0.49731594\n",
      "0.34942952 0.6505705\n",
      "0.45594805 0.54405195\n",
      "0.5157175 0.4842825\n",
      "0.4884521 0.5115479\n",
      "0.51976913 0.48023087\n",
      "0.43539104 0.56460893\n",
      "0.33495152 0.6650485\n",
      "0.6007752 0.39922482\n",
      "0.276663 0.723337\n",
      "0.39424366 0.60575634\n",
      "0.5666891 0.43331093\n",
      "0.395984 0.604016\n",
      "0.35701996 0.64298004\n",
      "0.47435707 0.52564293\n",
      "0.32870707 0.6712929\n",
      "0.42236584 0.57763416\n",
      "0.48299572 0.51700425\n",
      "0.46980938 0.5301906\n",
      "0.45453435 0.54546565\n",
      "0.36845127 0.63154876\n",
      "0.39381325 0.60618675\n",
      "0.46258092 0.5374191\n",
      "0.49974805 0.50025195\n",
      "0.49203694 0.50796306\n",
      "0.4998795 0.5001205\n",
      "0.4000644 0.5999356\n",
      "0.50000775 0.49999225\n",
      "0.46603757 0.5339624\n",
      "0.4373121 0.5626879\n",
      "0.55003434 0.44996566\n",
      "0.39891955 0.6010804\n",
      "0.3307904 0.6692096\n",
      "0.4643634 0.5356366\n",
      "0.3516184 0.6483816\n",
      "0.5036285 0.4963715\n",
      "0.43861407 0.5613859\n",
      "0.49215853 0.50784147\n",
      "0.48304358 0.51695645\n",
      "0.35469142 0.6453086\n",
      "0.44617674 0.55382323\n",
      "0.31576324 0.68423676\n",
      "0.4705348 0.5294652\n",
      "0.3510039 0.6489961\n",
      "0.46426967 0.53573036\n",
      "0.47382572 0.5261743\n",
      "0.38064677 0.61935323\n",
      "0.51398003 0.48601997\n",
      "0.5823322 0.4176678\n",
      "0.5104615 0.4895385\n",
      "0.3941196 0.6058804\n",
      "0.47488317 0.5251168\n",
      "0.20912309 0.7908769\n",
      "0.36464402 0.63535595\n",
      "0.44358972 0.5564103\n",
      "0.43290675 0.56709325\n",
      "0.50458145 0.49541855\n",
      "0.41776934 0.5822307\n",
      "0.4736613 0.5263387\n",
      "0.4453038 0.5546962\n",
      "0.5231963 0.47680372\n",
      "0.4587612 0.5412388\n",
      "0.4263907 0.5736093\n",
      "0.3368103 0.6631897\n",
      "0.5042336 0.4957664\n",
      "0.47915322 0.5208468\n",
      "0.4629079 0.5370921\n",
      "0.4630421 0.53695786\n",
      "0.36769357 0.63230646\n",
      "0.5235845 0.47641551\n",
      "0.3347907 0.6652093\n",
      "0.37873563 0.62126434\n",
      "0.48581254 0.51418746\n",
      "0.35394955 0.64605045\n",
      "0.51772887 0.48227113\n",
      "0.5139345 0.4860655\n",
      "0.45604458 0.54395545\n",
      "0.5506626 0.44933742\n",
      "0.46941602 0.530584\n",
      "0.4165411 0.5834589\n",
      "0.48763916 0.5123608\n",
      "0.43461484 0.56538516\n",
      "0.48426315 0.5157368\n",
      "0.46929497 0.53070503\n",
      "0.38648105 0.61351895\n",
      "0.49037954 0.5096204\n",
      "0.47240666 0.5275934\n",
      "0.45438465 0.5456153\n",
      "0.5748653 0.42513472\n",
      "0.3824826 0.6175174\n",
      "0.4906007 0.5093993\n",
      "0.47871193 0.52128804\n",
      "0.42646617 0.57353383\n",
      "0.470004 0.52999604\n",
      "0.48510963 0.5148904\n",
      "0.43439502 0.565605\n",
      "0.44960144 0.5503986\n",
      "0.4414133 0.5585867\n",
      "0.6068759 0.3931241\n",
      "0.43029213 0.5697079\n",
      "0.4013102 0.5986898\n",
      "0.4848288 0.5151712\n",
      "0.40452245 0.5954776\n",
      "0.31284386 0.68715614\n",
      "0.45056683 0.5494332\n",
      "0.34937862 0.6506214\n",
      "0.39152244 0.6084776\n",
      "0.43090647 0.5690935\n",
      "0.30003208 0.6999679\n",
      "0.33487964 0.66512036\n",
      "0.35342482 0.6465752\n",
      "0.4399437 0.5600563\n",
      "0.48341748 0.5165825\n",
      "0.52694523 0.47305477\n",
      "0.24900447 0.7509955\n",
      "0.46477044 0.53522956\n",
      "0.3921227 0.6078773\n",
      "0.5271645 0.47283548\n",
      "0.49818307 0.5018169\n",
      "0.42826912 0.57173085\n",
      "0.4508871 0.5491129\n",
      "0.42671025 0.57328975\n",
      "0.27614686 0.7238531\n",
      "0.4619524 0.5380476\n",
      "0.48044583 0.51955414\n",
      "0.4116335 0.5883665\n",
      "0.45730036 0.54269964\n",
      "0.4859209 0.5140791\n",
      "0.42547926 0.5745207\n",
      "0.5045501 0.4954499\n",
      "0.55213946 0.44786054\n",
      "0.47216904 0.52783096\n",
      "0.28501466 0.7149854\n",
      "0.5184394 0.4815606\n",
      "0.44585365 0.55414635\n",
      "0.35141924 0.6485808\n",
      "0.52436143 0.47563857\n",
      "0.42931125 0.5706887\n",
      "0.50948703 0.49051297\n",
      "0.4454839 0.5545161\n",
      "0.50242406 0.49757594\n",
      "0.4793831 0.5206169\n",
      "0.55351585 0.44648415\n",
      "0.45930183 0.5406982\n",
      "0.35061634 0.64938366\n",
      "0.285811 0.714189\n",
      "0.32119602 0.678804\n",
      "0.50116456 0.49883544\n",
      "0.2885692 0.7114308\n",
      "0.49756077 0.50243926\n",
      "0.27013814 0.72986186\n",
      "0.33300826 0.6669917\n",
      "0.4648746 0.5351254\n",
      "0.5324085 0.46759152\n",
      "0.2989455 0.7010545\n",
      "0.39905035 0.60094965\n",
      "0.41202632 0.5879737\n",
      "0.46833235 0.53166765\n",
      "0.44119647 0.55880356\n",
      "0.44100437 0.5589956\n",
      "0.3842667 0.61573327\n",
      "0.4240117 0.5759883\n",
      "0.40519875 0.59480125\n",
      "0.38904336 0.61095667\n",
      "0.41720513 0.5827949\n",
      "0.36090663 0.6390934\n",
      "0.51244426 0.48755574\n",
      "0.31584498 0.684155\n",
      "0.49662864 0.50337136\n",
      "0.48496458 0.5150354\n",
      "0.31988317 0.68011683\n",
      "0.42307988 0.57692015\n",
      "0.42961812 0.5703819\n",
      "0.3685887 0.6314113\n",
      "0.45454308 0.5454569\n",
      "0.48244217 0.51755786\n",
      "0.45981085 0.54018915\n",
      "0.47728357 0.5227164\n",
      "0.48677108 0.5132289\n",
      "0.4841735 0.51582646\n",
      "0.49605396 0.50394607\n",
      "0.51206285 0.48793715\n",
      "0.50303584 0.49696416\n",
      "0.32206318 0.6779368\n",
      "0.3516826 0.6483174\n",
      "0.47522232 0.52477765\n",
      "0.472629 0.527371\n",
      "0.4880365 0.5119635\n",
      "0.44218576 0.55781424\n",
      "0.35558772 0.6444123\n",
      "0.4328815 0.5671185\n",
      "0.39094144 0.60905856\n",
      "0.54981494 0.45018506\n",
      "0.4073217 0.5926783\n",
      "0.41784576 0.5821543\n",
      "0.50987345 0.49012655\n",
      "0.40950137 0.5904986\n",
      "0.4799481 0.5200519\n",
      "0.48683617 0.5131638\n",
      "0.40903273 0.5909673\n",
      "0.56314284 0.43685716\n",
      "0.4344277 0.56557226\n",
      "0.45844403 0.541556\n",
      "0.38545874 0.6145413\n",
      "0.48562357 0.5143764\n",
      "0.51678234 0.48321766\n",
      "0.4918935 0.50810647\n",
      "0.49265957 0.50734043\n",
      "0.50019693 0.49980307\n",
      "0.45137239 0.5486276\n",
      "0.4642135 0.5357865\n",
      "0.42551735 0.5744827\n",
      "0.4610169 0.5389831\n",
      "0.52164185 0.47835815\n",
      "0.43643305 0.5635669\n",
      "0.35320982 0.64679015\n",
      "0.3623603 0.6376397\n",
      "0.4193153 0.58068466\n",
      "0.39234826 0.6076517\n",
      "0.44785988 0.5521401\n",
      "0.39021558 0.6097844\n",
      "0.44087788 0.5591221\n",
      "0.30928504 0.69071496\n",
      "0.33405247 0.66594756\n",
      "0.42781618 0.57218385\n",
      "0.42913473 0.5708653\n",
      "0.2809876 0.7190124\n",
      "0.415981 0.584019\n",
      "0.48112348 0.51887655\n",
      "0.458285 0.541715\n",
      "0.50774395 0.49225605\n",
      "0.55696225 0.44303775\n",
      "0.43655014 0.56344986\n",
      "0.33156905 0.6684309\n",
      "0.49767235 0.5023277\n",
      "0.49955413 0.50044584\n",
      "0.4489253 0.55107474\n",
      "0.28649738 0.71350265\n",
      "0.4767156 0.52328444\n",
      "0.4241148 0.5758852\n",
      "0.4447538 0.55524623\n",
      "0.45191136 0.54808867\n",
      "0.38655305 0.61344695\n",
      "0.40700337 0.5929966\n",
      "0.4323821 0.5676179\n",
      "0.44811553 0.5518845\n",
      "0.4701727 0.5298273\n",
      "0.4934315 0.5065685\n",
      "0.22515953 0.7748405\n",
      "0.48975065 0.5102494\n",
      "0.41884217 0.5811578\n",
      "0.4064085 0.5935915\n",
      "0.49470776 0.50529224\n",
      "0.50729305 0.49270695\n",
      "0.39916435 0.6008357\n",
      "0.42734608 0.5726539\n",
      "0.50721383 0.49278617\n",
      "0.45913798 0.540862\n",
      "0.42928165 0.57071835\n",
      "0.35977575 0.6402242\n",
      "0.34784162 0.6521584\n",
      "0.520474 0.47952598\n",
      "0.29701933 0.70298064\n",
      "0.35617036 0.64382964\n",
      "0.4947099 0.5052901\n",
      "0.41464055 0.58535945\n",
      "0.39539027 0.6046097\n",
      "0.50166947 0.49833053\n",
      "0.49697676 0.50302327\n",
      "0.48206413 0.5179359\n",
      "0.48235035 0.51764965\n",
      "0.4473178 0.55268216\n",
      "0.47976267 0.5202373\n",
      "0.29456154 0.7054385\n",
      "0.31431627 0.6856837\n",
      "0.4479245 0.5520755\n",
      "0.33184543 0.6681546\n",
      "0.41900462 0.5809954\n",
      "0.48305592 0.51694405\n",
      "0.49584234 0.50415766\n",
      "0.47309723 0.5269028\n",
      "0.50070286 0.49929714\n",
      "0.47361916 0.52638084\n",
      "0.4519643 0.54803574\n",
      "0.4213045 0.57869554\n",
      "0.3589398 0.64106023\n",
      "0.42152548 0.5784745\n",
      "0.40983558 0.5901644\n",
      "0.48297104 0.5170289\n",
      "0.41708377 0.58291626\n",
      "0.53264827 0.46735173\n",
      "0.4767156 0.52328444\n",
      "0.38470522 0.6152948\n",
      "0.31109628 0.6889037\n",
      "0.43468124 0.56531876\n",
      "0.42483678 0.57516325\n",
      "0.39221448 0.6077855\n",
      "0.4927279 0.5072721\n",
      "0.31527185 0.68472815\n",
      "0.33690834 0.66309166\n",
      "0.49861944 0.50138056\n",
      "0.41039142 0.58960855\n",
      "0.4666574 0.5333426\n",
      "0.40835765 0.5916424\n",
      "0.4894309 0.5105691\n",
      "0.522385 0.477615\n",
      "0.46367225 0.5363277\n",
      "0.53104246 0.46895754\n",
      "0.45360088 0.5463991\n",
      "0.44263023 0.55736977\n",
      "0.543662 0.456338\n",
      "0.45801646 0.54198354\n",
      "0.43937743 0.5606226\n",
      "0.5175204 0.48247957\n",
      "0.39089128 0.6091087\n",
      "0.35294187 0.6470581\n",
      "0.47992405 0.5200759\n",
      "0.36498564 0.63501436\n",
      "0.26791075 0.7320893\n",
      "0.45788556 0.54211444\n",
      "0.51149946 0.48850054\n",
      "0.31350118 0.6864988\n",
      "0.42936814 0.57063186\n",
      "0.44062984 0.55937016\n",
      "0.4542387 0.5457613\n",
      "0.46927938 0.5307206\n",
      "0.5035535 0.4964465\n",
      "0.48809364 0.5119064\n",
      "0.49120337 0.50879663\n",
      "0.37425372 0.62574625\n",
      "0.45557964 0.54442036\n",
      "0.46952736 0.53047264\n",
      "0.44393912 0.5560609\n",
      "0.4953422 0.5046578\n",
      "0.29594174 0.7040583\n",
      "0.38104707 0.61895293\n",
      "0.52505696 0.47494304\n",
      "0.5517486 0.44825143\n",
      "0.41987008 0.5801299\n",
      "0.44448364 0.55551636\n",
      "0.3616626 0.6383374\n",
      "0.5077057 0.4922943\n",
      "0.43813226 0.5618677\n",
      "0.33346888 0.6665311\n",
      "0.28581154 0.71418846\n",
      "0.42074108 0.5792589\n",
      "0.4259992 0.57400084\n"
     ]
    }
   ],
   "source": [
    "#Log base two would be: log = math.log(x,2)\n",
    "#Entropy equation would then be: -1*(p1((math.log(p1,2))+p2*(math.log(p2,2)))\n",
    "\n",
    "#In the predicted_probabilities: first value is 0 (which is bad), second value is 1 (which is good)\n",
    "\n",
    "#Loop through the predicted_probabilities array and calculate values\n",
    "#One list will contain the index of each row in the table and the other will contain the entropy value of each row\n",
    "\n",
    "index_list = []\n",
    "entropy_list = []\n",
    "\n",
    "for index in range(len(X_train)):\n",
    "  #Calculate p1 and p2\n",
    "  p1=orig_entropy_prob[index]\n",
    "  p2=flipped_entropy_prob[index]\n",
    "  print(p1, p2)\n",
    "  #Calculate entropy in 3 steps\n",
    "  entropy_calc1 = p1 * math.log(p1,2) if p1 > 0 else 0\n",
    "  entropy_calc2 = p2 * math.log(p2,2) if p2 > 0 else 0\n",
    "  entropy_final = -1 * (entropy_calc1 + entropy_calc2)\n",
    "\n",
    "  #Append the values to their respective lists\n",
    "  index_list.append(index)\n",
    "  entropy_list.append(entropy_final)"
   ]
  },
  {
   "cell_type": "code",
   "execution_count": 53,
   "metadata": {},
   "outputs": [],
   "source": [
    "#Rank the entropy values in decreasing order\n",
    "#Match the index list with them\n",
    "\n",
    "#Combine the two lists using zip\n",
    "combined_list = list(zip(entropy_list, index_list))\n",
    "\n",
    "#Sort the combined lust based on entropy values in descending order\n",
    "sorted_list = sorted(combined_list, key = lambda x: x[0], reverse=True)\n",
    "\n",
    "#Extract the values\n",
    "sorted_ent_list, sorted_index_list = zip(*sorted_list)\n",
    "entropy_end = time.time() - entropy_start"
   ]
  },
  {
   "cell_type": "code",
   "execution_count": 54,
   "metadata": {},
   "outputs": [],
   "source": [
    "entropy_train_df['credit_risk'] = entropy_train_df['credit_risk'].astype('int')"
   ]
  },
  {
   "cell_type": "code",
   "execution_count": 55,
   "metadata": {},
   "outputs": [],
   "source": [
    "ranked_ent_list = list(sorted_ent_list)\n",
    "ranked_idx_list = list(sorted_index_list)"
   ]
  },
  {
   "cell_type": "code",
   "execution_count": 56,
   "metadata": {},
   "outputs": [],
   "source": [
    "#After the ranking; flip based on the ranked entropy values\n",
    "#Values with the highest entropy are prioritized for flipping\n",
    "\n",
    "# ranked_ent_parity_list = [spd_0]\n",
    "ranked_ent_parity_list = []\n",
    "ranked_flip = []\n",
    "\n",
    "row_num = 0\n",
    "\n",
    "#Loop through and flip based on the entropy values\n",
    "for row in range(len(sorted_index_list)):\n",
    "    row_num = ranked_idx_list[row]\n",
    "    if entropy_train_df.at[row_num,'credit_risk'] == 0:\n",
    "        entropy_train_df.at[row_num,'credit_risk'] = 1\n",
    "        ranked_ent_pred = lr_model(entropy_train_df, X_test, clf)\n",
    "        ranked_ent_parity = computeFairness(ranked_ent_pred, X_test_orig, y_test, 0, dataset)\n",
    "        ranked_ent_parity_list.append(ranked_ent_parity)\n",
    "\n",
    "    elif entropy_train_df.at[row_num,'credit_risk'] == 1:\n",
    "        entropy_train_df.at[row_num,'credit_risk'] = 0\n",
    "        ranked_ent_pred = lr_model(entropy_train_df, X_test, clf)\n",
    "        ranked_ent_parity = computeFairness(ranked_ent_pred, X_test_orig, y_test, 0, dataset)\n",
    "        ranked_ent_parity_list.append(ranked_ent_parity)"
   ]
  },
  {
   "cell_type": "code",
   "execution_count": 57,
   "metadata": {},
   "outputs": [],
   "source": [
    "#entropy_time = entropy_end - entropy_start\n",
    "sol_time.append(entropy_end)"
   ]
  },
  {
   "cell_type": "code",
   "execution_count": 58,
   "metadata": {},
   "outputs": [
    {
     "data": {
      "image/png": "[encoded data removed]",
      "text/plain": [
       "<Figure size 640x480 with 1 Axes>"
      ]
     },
     "metadata": {},
     "output_type": "display_data"
    }
   ],
   "source": [
    "datapoints_ent = len(ranked_ent_parity_list)\n",
    "\n",
    "#indices at 10 points along the graph\n",
    "indices = [int(i * datapoints_ent / 10) for i in range(0, 10)]\n",
    "\n",
    "# # Extract the values at these indices\n",
    "# values_entropy = [ranked_ent_parity_list[index] for index in indices]\n",
    "\n",
    "values_entropy = []\n",
    "values_entropy.append(spd_0)\n",
    "for index in range(1, len(indices) + 1):\n",
    "    values_entropy.append(ranked_ent_parity_list[index * 80 - 1])\n",
    "\n",
    "#Plot the Values\n",
    "plt.plot([0, 10, 20, 30, 40, 50, 60, 70, 80, 90, 100], values_entropy, label='Entropy Flipping', color='Blue', marker = '^')\n",
    "\n",
    "# Add labels and legend\n",
    "plt.xlabel('Percentage of Data Points')\n",
    "plt.ylabel('Values')\n",
    "plt.title('Graph of Data Points')\n",
    "plt.legend()\n",
    "\n",
    "# Show the plot\n",
    "plt.show()"
   ]
  },
  {
   "cell_type": "markdown",
   "metadata": {},
   "source": [
    "<h4>Maximum Expected Utility<h4>"
   ]
  },
  {
   "cell_type": "code",
   "execution_count": 59,
   "metadata": {},
   "outputs": [],
   "source": [
    "meu_start = time.time()\n",
    "#copy of training data\n",
    "meu_training_df = train_full_df.copy()"
   ]
  },
  {
   "cell_type": "code",
   "execution_count": 60,
   "metadata": {},
   "outputs": [],
   "source": [
    "#get the predicted probabilities of the original label\n",
    "orig_meu_prob = clf.predict_proba(X_train)"
   ]
  },
  {
   "cell_type": "code",
   "execution_count": 61,
   "metadata": {},
   "outputs": [],
   "source": [
    "#Grab the original of the DP in the copy dataframe and sotre in lists along with the index\n",
    "label = []\n",
    "row_index = []\n",
    "for index, row in meu_training_df.iterrows():\n",
    "    label.append(meu_training_df.at[index,'credit_risk'])\n",
    "    row_index.append(index)"
   ]
  },
  {
   "cell_type": "code",
   "execution_count": 62,
   "metadata": {},
   "outputs": [],
   "source": [
    "#Calculate the first part of the MEU equation\n",
    "meu_part1_list = []\n",
    "for index, value in enumerate(label):\n",
    "    if value == 1:\n",
    "        prob1 = orig_meu_prob[index]\n",
    "        meu_part1_calc = prob1 * spd_0\n",
    "        meu_part1_list.append(meu_part1_calc)\n",
    "    elif value == 0:\n",
    "        prob2 = orig_meu_prob[index]\n",
    "        meu_part1_calc = prob2 * spd_0\n",
    "        meu_part1_list.append(meu_part1_calc)"
   ]
  },
  {
   "cell_type": "markdown",
   "metadata": {},
   "source": [
    "<h5>MEU Part 2<h5>"
   ]
  },
  {
   "cell_type": "code",
   "execution_count": 63,
   "metadata": {},
   "outputs": [],
   "source": [
    "#fresh copy of data with flipped label\n",
    "flipped_train_demo_df = pd.DataFrame(X_train, columns = predictors)\n",
    "flipped_train_outcome_df = y_train.to_frame()\n",
    "flipped_train_outcome_df=flipped_train_outcome_df.rename(columns={'credit':'credit_risk'})\n",
    "flipped_train_full_df = pd.concat([flipped_train_demo_df, flipped_train_outcome_df], axis=1)"
   ]
  },
  {
   "cell_type": "code",
   "execution_count": 64,
   "metadata": {},
   "outputs": [],
   "source": [
    "#predict probabilities on the X_train but then do 1-value on each value to get the flipped probability\n",
    "flipped_meu_prob = clf.predict_proba(X_train)\n",
    "flipped_meu_prob = 1 - flipped_meu_prob"
   ]
  },
  {
   "cell_type": "code",
   "execution_count": 65,
   "metadata": {},
   "outputs": [],
   "source": [
    "#flip data labels and re-transform the data\n",
    "meu_training_df_flipped = flipped_train_full_df.copy()\n",
    "meu_training_df_flipped['credit_risk'] = meu_training_df_flipped['credit_risk'].apply(lambda x: 1 if x == 0 else 0)"
   ]
  },
  {
   "cell_type": "code",
   "execution_count": 66,
   "metadata": {},
   "outputs": [],
   "source": [
    "#Iterate through the copied dataset and flip each lable and calculate the parity\n",
    "\n",
    "meu_part2_parity_list = []\n",
    "\n",
    "for idx, row in meu_training_df_flipped.iterrows():\n",
    "    #If the row is positive then flip it to negative\n",
    "    if row['credit_risk'] == 1:\n",
    "        meu_training_df_flipped.at[index,'credit_risk']= 0\n",
    "        meu_pred = lr_model(meu_training_df_flipped, X_test, clf)\n",
    "        meu_parity = computeFairness(meu_pred, X_test_orig, y_test, 0, dataset)\n",
    "        meu_part2_parity_list.append(meu_parity)\n",
    "        meu_training_df_flipped.at[index,'credit_risk'] = 1\n",
    "    #If negative then flip to positive\n",
    "    elif row['credit_risk'] == 0:\n",
    "        meu_training_df_flipped.at[index,'credit_risk']= 1\n",
    "        meu_pred = lr_model(meu_training_df_flipped, X_test, clf)\n",
    "        meu_parity = computeFairness(meu_pred, X_test_orig, y_test, 0, dataset)\n",
    "        meu_part2_parity_list.append(meu_parity)\n",
    "        meu_training_df_flipped.at[index,'credit_risk'] = 0"
   ]
  },
  {
   "cell_type": "code",
   "execution_count": 67,
   "metadata": {},
   "outputs": [],
   "source": [
    "#Second part of the calculation by taking the opposite value\n",
    "meu_part2_list = []\n",
    "for index, value in enumerate(label):\n",
    "    if value == 0:\n",
    "        prob0 = flipped_meu_prob[index]\n",
    "        meu_part2_calc = prob0 * meu_part2_parity_list[index]\n",
    "    elif value == 1:\n",
    "        prob1 = flipped_meu_prob[index]\n",
    "        meu_part2_calc = prob1 * meu_part2_parity_list[index]\n",
    "    meu_part2_list.append(meu_part2_calc)"
   ]
  },
  {
   "cell_type": "code",
   "execution_count": 68,
   "metadata": {},
   "outputs": [],
   "source": [
    " #Add the two lists together\n",
    "expected_utility_values = []\n",
    "for part1, part2 in zip(meu_part1_list, meu_part2_list):\n",
    "    expected_utility_values.append(part1+part2)"
   ]
  },
  {
   "cell_type": "code",
   "execution_count": 69,
   "metadata": {},
   "outputs": [],
   "source": [
    "#EU - OG Parity = new ranked values\n",
    "new_ranked_value = []\n",
    "for value in expected_utility_values:\n",
    "    new_ranked_value.append(value - spd_0)"
   ]
  },
  {
   "cell_type": "code",
   "execution_count": 70,
   "metadata": {},
   "outputs": [],
   "source": [
    "#Rank the values\n",
    "combined_list = list(zip(new_ranked_value,row_index))\n",
    "sorted_list = sorted(combined_list, key = lambda x: x[0], reverse=True)\n",
    "sorted_eu_list, sorted_index_list = zip(*sorted_list)\n",
    "meu_end = time.time()"
   ]
  },
  {
   "cell_type": "code",
   "execution_count": 71,
   "metadata": {},
   "outputs": [],
   "source": [
    "#After ranking flip the values\n",
    "meu_ranked_parity_list = []\n",
    "\n",
    "for row in range(len(sorted_index_list)):\n",
    "    row_num = sorted_index_list[row]\n",
    "    \n",
    "    if meu_training_df.at[row_num,'credit_risk'] == 1:\n",
    "        meu_training_df.at[row_num, 'credit_risk'] = 0\n",
    "        meu_pred = lr_model(meu_training_df, X_test, clf)\n",
    "        meu_ranked_parity = computeFairness(meu_pred, X_test_orig, y_test, 0, dataset)\n",
    "        meu_ranked_parity_list.append(meu_ranked_parity)\n",
    "    elif meu_training_df.at[row_num, 'credit_risk'] == 0:\n",
    "        meu_training_df.at[row_num, 'credit_risk'] = 1\n",
    "        meu_pred = lr_model(meu_training_df, X_test, clf)\n",
    "        meu_ranked_parity = computeFairness(meu_pred, X_test_orig, y_test, 0, dataset)\n",
    "        meu_ranked_parity_list.append(meu_ranked_parity)"
   ]
  },
  {
   "cell_type": "code",
   "execution_count": 72,
   "metadata": {},
   "outputs": [],
   "source": [
    "#expected_utility_values = [meu_part1_list[index] + meu_part2_list[index] for index in range(len(meu_part2_list))]"
   ]
  },
  {
   "cell_type": "code",
   "execution_count": 73,
   "metadata": {},
   "outputs": [],
   "source": [
    "meu_time = meu_end - meu_start\n",
    "sol_time.append(meu_time)"
   ]
  },
  {
   "cell_type": "code",
   "execution_count": 74,
   "metadata": {},
   "outputs": [
    {
     "data": {
      "image/png": "[encoded data removed]",
      "text/plain": [
       "<Figure size 640x480 with 1 Axes>"
      ]
     },
     "metadata": {},
     "output_type": "display_data"
    }
   ],
   "source": [
    "datapoints_meu = len(meu_ranked_parity_list)\n",
    "\n",
    "#indices at 10 points along the graph\n",
    "indices = [int(i * datapoints_meu / 10) for i in range(0, 10)]\n",
    "\n",
    "# Extract the values at these indices\n",
    "# values_meu = [meu_ranked_parity_list[index] for index in indices]\n",
    "values_meu = []\n",
    "values_meu.append(spd_0)\n",
    "for index in range(1, len(indices) + 1):\n",
    "    values_meu.append(meu_ranked_parity_list[index * 80 - 1])\n",
    "\n",
    "#Plot the Values\n",
    "plt.plot([0, 10, 20, 30, 40, 50, 60, 70, 80, 90, 100], values_meu, label='MEU Flipping', color='Blue', marker = '*')\n",
    "\n",
    "# Add labels and legend\n",
    "plt.xlabel('Percentage of Data Points')\n",
    "plt.ylabel('Values')\n",
    "plt.title('Graph of Data Points')\n",
    "plt.legend()\n",
    "\n",
    "# Show the plot\n",
    "plt.show()"
   ]
  },
  {
   "cell_type": "markdown",
   "metadata": {},
   "source": [
    "<h4>Randomized flipping<h4>"
   ]
  },
  {
   "cell_type": "code",
   "execution_count": 75,
   "metadata": {},
   "outputs": [],
   "source": [
    "#Training dataset\n",
    "random_start = time.time()\n",
    "random_training_df = train_full_df.copy()"
   ]
  },
  {
   "cell_type": "code",
   "execution_count": 76,
   "metadata": {},
   "outputs": [],
   "source": [
    "import random\n",
    "rand_val = list(range(len(X_train)))\n",
    "random.shuffle(rand_val)\n",
    "random_end = time.time() - random_start"
   ]
  },
  {
   "cell_type": "code",
   "execution_count": 77,
   "metadata": {},
   "outputs": [],
   "source": [
    "#Iterate through the ranked list and start the flipping\n",
    "random_flip_parity = []\n",
    "for row in rand_val:\n",
    "    if random_training_df.at[row,'credit_risk'] == 1:\n",
    "        random_training_df.at[row,'credit_risk'] = 0\n",
    "        rand_pred = lr_model(random_training_df, X_test, clf)\n",
    "        rand_ranked_parity = computeFairness(rand_pred, X_test_orig, y_test, 0, dataset)\n",
    "        random_flip_parity.append(rand_ranked_parity)\n",
    "    elif random_training_df.at[row, 'credit_risk'] == 0:\n",
    "        random_training_df.at[row,'credit_risk'] = 1\n",
    "        rand_pred = lr_model(random_training_df, X_test, clf)\n",
    "        rand_ranked_parity = computeFairness(rand_pred, X_test_orig, y_test, 0, dataset)\n",
    "        random_flip_parity.append(rand_ranked_parity)"
   ]
  },
  {
   "cell_type": "code",
   "execution_count": 78,
   "metadata": {},
   "outputs": [
    {
     "data": {
      "text/plain": [
       "\"random_flip_parity = []\\n\\nfor iter in range(budget):\\n    random_row = random.choice(random_training_df.index)\\n    if random_training_df.at[random_row,'credit_risk'] == 1:\\n        random_training_df.at[random_row,'credit_risk'] = 0\\n        rand_pred = lr_model(random_training_df, X_test, clf)\\n        rand_ranked_parity = computeFairness(rand_pred, X_test_orig, y_test, 0, dataset)\\n        random_flip_parity.append(rand_ranked_parity)\\n    elif random_training_df.at[random_row,'credit_risk'] == 0:\\n        random_training_df.at[random_row,'credit_risk'] = 1\\n        rand_pred = lr_model(random_training_df, X_test, clf)\\n        rand_ranked_parity = computeFairness(rand_pred, X_test_orig, y_test, 0, dataset)\\n        random_flip_parity.append(rand_ranked_parity)\\nrandom_end = time.time()\""
      ]
     },
     "execution_count": 78,
     "metadata": {},
     "output_type": "execute_result"
    }
   ],
   "source": [
    "#random flipping\n",
    "'''random_flip_parity = []\n",
    "\n",
    "for iter in range(budget):\n",
    "    random_row = random.choice(random_training_df.index)\n",
    "    if random_training_df.at[random_row,'credit_risk'] == 1:\n",
    "        random_training_df.at[random_row,'credit_risk'] = 0\n",
    "        rand_pred = lr_model(random_training_df, X_test, clf)\n",
    "        rand_ranked_parity = computeFairness(rand_pred, X_test_orig, y_test, 0, dataset)\n",
    "        random_flip_parity.append(rand_ranked_parity)\n",
    "    elif random_training_df.at[random_row,'credit_risk'] == 0:\n",
    "        random_training_df.at[random_row,'credit_risk'] = 1\n",
    "        rand_pred = lr_model(random_training_df, X_test, clf)\n",
    "        rand_ranked_parity = computeFairness(rand_pred, X_test_orig, y_test, 0, dataset)\n",
    "        random_flip_parity.append(rand_ranked_parity)\n",
    "random_end = time.time()'''\n"
   ]
  },
  {
   "cell_type": "code",
   "execution_count": 79,
   "metadata": {},
   "outputs": [],
   "source": [
    "sol_time.append(random_end)"
   ]
  },
  {
   "cell_type": "code",
   "execution_count": 80,
   "metadata": {},
   "outputs": [
    {
     "data": {
      "image/png": "[encoded data removed]",
      "text/plain": [
       "<Figure size 640x480 with 1 Axes>"
      ]
     },
     "metadata": {},
     "output_type": "display_data"
    }
   ],
   "source": [
    "datapoints_rand = len(random_flip_parity)\n",
    "\n",
    "#indices at 10 points along the graph\n",
    "indices = [int(i * datapoints_rand / 10) for i in range(0, 10)]\n",
    "\n",
    "# Extract the values at these indices\n",
    "# values_rand = [random_flip_parity[index] for index in indices]\n",
    "\n",
    "values_rand = []\n",
    "values_rand.append(spd_0)\n",
    "for index in range(1, len(indices) + 1):\n",
    "    values_rand.append(random_flip_parity[index * 80 - 1])\n",
    "\n",
    "#Plot the Values\n",
    "plt.plot([0, 10, 20, 30, 40, 50, 60, 70, 80, 90, 100], values_rand, label='Random Flipping', color='Blue', marker = '*')\n",
    "\n",
    "# Add labels and legend\n",
    "plt.xlabel('Percentage of Data Points')\n",
    "plt.ylabel('Values')\n",
    "plt.title('Graph of Data Points')\n",
    "plt.legend()\n",
    "\n",
    "# Show the plot\n",
    "plt.show()"
   ]
  },
  {
   "cell_type": "markdown",
   "metadata": {},
   "source": [
    "<h4>Graph of outcomes<h4>"
   ]
  },
  {
   "cell_type": "code",
   "execution_count": 81,
   "metadata": {},
   "outputs": [
    {
     "data": {
      "text/plain": [
       "800"
      ]
     },
     "execution_count": 81,
     "metadata": {},
     "output_type": "execute_result"
    }
   ],
   "source": [
    "len(ranked_greedy_parity_list)"
   ]
  },
  {
   "cell_type": "code",
   "execution_count": 85,
   "metadata": {},
   "outputs": [
    {
     "name": "stdout",
     "output_type": "stream",
     "text": [
      "[0, 80, 160, 240, 320, 400, 480, 560, 640, 720, 800]\n",
      "[0, 80, 160, 240, 320, 400, 480, 560, 640, 720, 800]\n",
      "[0, 80, 160, 240, 320, 400, 480, 560, 640, 720, 800]\n",
      "[0, 80, 160, 240, 320, 400, 480, 560, 640, 720, 800]\n",
      "[0, 80, 160, 240, 320, 400, 480, 560, 640, 720, 800]\n"
     ]
    },
    {
     "data": {
      "text/plain": [
       "<matplotlib.legend.Legend at 0x1ca3ac6d9d0>"
      ]
     },
     "execution_count": 85,
     "metadata": {},
     "output_type": "execute_result"
    },
    {
     "data": {
      "image/png": "[encoded data removed]",
      "text/plain": [
       "<Figure size 640x480 with 1 Axes>"
      ]
     },
     "metadata": {},
     "output_type": "display_data"
    }
   ],
   "source": [
    "# Calculate the total number of data points\n",
    "datapoints_iterative = len(ranked_greedy_parity_list)\n",
    "datapoints_entropy = len(ranked_ent_parity_list)\n",
    "datapoints_meu = len(meu_ranked_parity_list)\n",
    "datapoints_random = len(random_flip_parity)\n",
    "datapoints_influence = len(flip_parity_abs)\n",
    "\n",
    "# Calculate the indices for the 5 points\n",
    "indices_iterative = [int(i * datapoints_iterative / 10) for i in range(0, 11)]\n",
    "indices_entropy = [int(i * datapoints_entropy / 10) for i in range(0, 11)]\n",
    "indices_meu = [int(i * datapoints_meu / 10) for i in range(0, 11)]\n",
    "indices_random = [int(i * datapoints_random / 10) for i in range(0, 11)]\n",
    "indices_influence = [int(i * datapoints_influence / 10) for i in range(0, 11)]\n",
    "\n",
    "print(indices_iterative)\n",
    "print(indices_entropy)\n",
    "print(indices_meu)\n",
    "print(indices_random)\n",
    "print(indices_influence)\n",
    "\n",
    "#These should be the same?\n",
    "\n",
    "# Extract the values at these indices\n",
    "# values_iterative = [ranked_greedy_parity_list[index] for index in indices_iterative]\n",
    "# values_entropy = [ranked_ent_parity_list[index * 80 - 1] for index in indices_entropy]\n",
    "# values_meu = [meu_ranked_parity_list[index * 80 - 1] for index in indices_meu]\n",
    "# values_random = [random_flip_parity[index * 80 - 1] for index in indices_random]\n",
    "# values_influence = [flip_parity_abs[index * 80 - 1] for index in indices_influence]\n",
    "\n",
    "values_iterative = []\n",
    "values_entropy = []\n",
    "values_meu = []\n",
    "values_random = []\n",
    "values_influence = []\n",
    "values_iterative.append(spd_0)\n",
    "values_entropy.append(spd_0)\n",
    "values_meu.append(spd_0)\n",
    "values_random.append(spd_0)\n",
    "values_influence.append(spd_0)\n",
    "for index in range(1, len(indices) + 1):\n",
    "    values_iterative.append(ranked_greedy_parity_list[index * 80 - 1])\n",
    "    values_entropy.append(ranked_ent_parity_list[index * 80 - 1])\n",
    "    values_meu.append(meu_ranked_parity_list[index * 80 - 1])\n",
    "    values_random.append(random_flip_parity[index * 80 - 1])\n",
    "    values_influence.append(flip_parity_abs[index * 80 - 1])\n",
    "\n",
    "\n",
    "\n",
    "# Plot the values\n",
    "# plt.plot(values_iterative, label='Iterative Flipping', color='Orange')\n",
    "# plt.plot(values_entropy, label='Entropy', color='Blue')\n",
    "# plt.plot(values_meu, label='MEU', color='Yellow')\n",
    "# plt.plot(values_random, label='Random Flipping', color='Green')\n",
    "# plt.plot( values_influence, label='Influence Flipping', color='Red')\n",
    "plt.plot([0, 10,20, 30, 40, 50, 60, 70, 80, 90, 100], values_iterative, label='Iterative Flipping', color='Orange',marker='o')\n",
    "plt.plot([0, 10,20, 30, 40, 50, 60, 70, 80, 90, 100], values_entropy, label='Uncertainty Reduction', color='Blue', marker='^')\n",
    "plt.plot([0, 10,20, 30, 40, 50, 60, 70, 80, 90, 100], values_meu, label='MEU', color='Magenta', marker='*')\n",
    "plt.plot([0, 10,20, 30, 40, 50, 60, 70, 80, 90, 100], values_random, label='Random Flipping', color='Green',marker='s')\n",
    "plt.plot([0, 10,20, 30, 40, 50, 60, 70, 80, 90, 100], values_influence, label='Influence Flipping', color='Red', marker='x')\n",
    "\n",
    "# Add labels and legend\n",
    "plt.xlabel('Percentage of Data Points')\n",
    "plt.ylabel('Statistical Parity')\n",
    "plt.title('Change in Parity')\n",
    "plt.legend(loc='upper right', fontsize='7')"
   ]
  },
  {
   "cell_type": "markdown",
   "metadata": {},
   "source": [
    "<h4>Time Comparisons<h4>"
   ]
  },
  {
   "cell_type": "code",
   "execution_count": 86,
   "metadata": {},
   "outputs": [
    {
     "data": {
      "image/png": "[encoded data removed]",
      "text/plain": [
       "<Figure size 640x480 with 1 Axes>"
      ]
     },
     "metadata": {},
     "output_type": "display_data"
    }
   ],
   "source": [
    "# Create a line chart\n",
    "x_axis = ['IF', 'Greedy', 'Uncertainty Reduction', 'MEU', 'Randomized']\n",
    "# Colors for each bar\n",
    "colors = ['red', 'orange', 'blue', 'magenta', 'green']\n",
    "\n",
    "# Create a bar graph with updated labels and colors\n",
    "plt.bar(x_axis, sol_time, color=colors)\n",
    "plt.title('Time Series Bar Graph')\n",
    "plt.xlabel('Algorithm')\n",
    "plt.ylabel('Time')\n",
    "plt.grid(True)\n",
    "plt.xticks(rotation=45)\n",
    "plt.show()"
   ]
  },
  {
   "cell_type": "code",
   "execution_count": 84,
   "metadata": {},
   "outputs": [
    {
     "name": "stdout",
     "output_type": "stream",
     "text": [
      "[0.7039482593536377, 72.99740314483643, 0.08359527587890625, 69.92385745048523, 0.016934633255004883]\n"
     ]
    }
   ],
   "source": [
    "#When calculating the time we are looking at the time taken to choose which datapoint to flip \n",
    "#Do not consider the time taken to calculate the fairness on each datapoint\n",
    "#Also when implementing the other solutions on the bigger datasets do not implement MEU and greedy due to the expense of it\n",
    "#Instead implement IF, Entropy, and randomized\n",
    "\n",
    "#Since our solution is looking to determine the efficiency at which the datapoints are selected we want to measure the time \n",
    "#taken to determine which order the datapoints should be flipped in\n",
    "#Measure how long it takes to determine which datapoints need to be flipping and do not consider the parity calculations\n",
    "print(sol_time)"
   ]
  },
  {
   "cell_type": "code",
   "execution_count": 87,
   "metadata": {},
   "outputs": [
    {
     "name": "stdout",
     "output_type": "stream",
     "text": [
      "0.08998013641685249\n",
      "0.09481187581550332\n",
      "0.09481764447409663\n",
      "0.09481793791055682\n",
      "0.09483433538116515\n"
     ]
    }
   ],
   "source": [
    "print(ranked_greedy_parity_list[-1])\n",
    "print(ranked_ent_parity_list[-1])\n",
    "print(meu_ranked_parity_list[-1])\n",
    "print(random_flip_parity[-1])\n",
    "print(flip_parity_abs[-1])"
   ]
  }
 ],
 "metadata": {
  "kernelspec": {
   "display_name": "base",
   "language": "python",
   "name": "python3"
  },
  "language_info": {
   "codemirror_mode": {
    "name": "ipython",
    "version": 3
   },
   "file_extension": ".py",
   "mimetype": "text/x-python",
   "name": "python",
   "nbconvert_exporter": "python",
   "pygments_lexer": "ipython3",
   "version": "3.11.7"
  }
 },
 "nbformat": 4,
 "nbformat_minor": 4
}
