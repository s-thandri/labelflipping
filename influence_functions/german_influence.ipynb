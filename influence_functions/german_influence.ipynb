{
 "cells": [
  {
   "cell_type": "code",
   "execution_count": 36,
   "metadata": {},
   "outputs": [],
   "source": [
    "#Imports some of the libraries that we will be using\n",
    "import pandas as pd\n",
    "import numpy as np\n",
    "import math\n",
    "import warnings\n",
    "from sklearn.linear_model import LogisticRegression\n",
    "from sklearn.model_selection import cross_val_score, train_test_split\n",
    "from sklearn import metrics\n",
    "from sklearn import tree\n",
    "from sklearn.metrics import accuracy_score\n",
    "import matplotlib.pyplot as plt\n",
    "import time\n",
    "warnings.filterwarnings('ignore')"
   ]
  },
  {
   "cell_type": "code",
   "execution_count": 37,
   "metadata": {},
   "outputs": [],
   "source": [
    "from load_dataset import load\n",
    "from classifier import NeuralNetwork, Logistic_Regression, SVM\n",
    "from utils import *\n",
    "from metrics import *  # include fairness and corresponding derivatives\n",
    "from expl import explanation_candidate_generation, get_top_k_expl\n",
    "from influence import *"
   ]
  },
  {
   "cell_type": "code",
   "execution_count": 38,
   "metadata": {},
   "outputs": [],
   "source": [
    "#Function to run the logistic regression model based on classifier.py\n",
    "def lr_model(training_df, test_attr_df, classifier):\n",
    "    changed_df_labels = training_df.pop('credit_risk')\n",
    "    changed_df_attr = training_df.to_numpy()\n",
    "\n",
    "    classifier.fit(changed_df_attr,changed_df_labels.values)\n",
    "    y_predicted = classifier.predict_proba(test_attr_df)\n",
    "\n",
    "    training_df['credit_risk'] = changed_df_labels\n",
    "\n",
    "    return y_predicted\n"
   ]
  },
  {
   "cell_type": "markdown",
   "metadata": {},
   "source": [
    "<h4>Removal Based Influence Calculation<h4>"
   ]
  },
  {
   "cell_type": "code",
   "execution_count": 39,
   "metadata": {},
   "outputs": [],
   "source": [
    "#List of time taken\n",
    "sol_time = []"
   ]
  },
  {
   "cell_type": "code",
   "execution_count": 40,
   "metadata": {},
   "outputs": [],
   "source": [
    "dataset = 'german'\n",
    "clf_name = 'Logistic_Regression'\n",
    "metric = 0\n",
    "support = 0.05\n",
    "support_small = 0.3"
   ]
  },
  {
   "cell_type": "code",
   "execution_count": 41,
   "metadata": {},
   "outputs": [],
   "source": [
    "X_train, X_test, y_train, y_test = load(dataset)"
   ]
  },
  {
   "cell_type": "code",
   "execution_count": 42,
   "metadata": {},
   "outputs": [],
   "source": [
    "duplicates = 1\n",
    "make_duplicates = lambda x, d: pd.concat([x]*d, axis=0).reset_index(drop=True)\n",
    "X_train = make_duplicates(X_train, duplicates)\n",
    "X_test = make_duplicates(X_test, duplicates)\n",
    "y_train = make_duplicates(y_train, duplicates)\n",
    "y_test = make_duplicates(y_test, duplicates)"
   ]
  },
  {
   "cell_type": "code",
   "execution_count": 43,
   "metadata": {},
   "outputs": [],
   "source": [
    "import copy\n",
    "X_train_orig = copy.deepcopy(X_train)\n",
    "X_test_orig = copy.deepcopy(X_test)\n",
    "\n",
    "from sklearn.preprocessing import StandardScaler\n",
    "sc = StandardScaler()\n",
    "X_train = sc.fit_transform(X_train)\n",
    "X_test = sc.transform(X_test)"
   ]
  },
  {
   "cell_type": "code",
   "execution_count": 44,
   "metadata": {},
   "outputs": [],
   "source": [
    "predictors = ['status', 'duration', 'credit_hist', 'credit_amt', 'savings',\n",
    "       'employment', 'install_rate', 'debtors', 'residence', 'property', 'age',\n",
    "       'install_plans', 'num_credits', 'job', 'num_liable', 'telephone',\n",
    "       'foreign_worker', 'gender', 'purpose_A40', 'purpose_A41',\n",
    "       'purpose_A410', 'purpose_A42', 'purpose_A43', 'purpose_A44',\n",
    "       'purpose_A45', 'purpose_A46', 'purpose_A48', 'purpose_A49',\n",
    "       'housing_A151', 'housing_A152', 'housing_A153']\n",
    "target_var =['credit_risk']"
   ]
  },
  {
   "cell_type": "code",
   "execution_count": 45,
   "metadata": {},
   "outputs": [],
   "source": [
    "#Combine x_train and y_train\n",
    "#I combine these so that when I flip the labels I have one DF that I work with\n",
    "#Rather than 2 numpy.ndarrays\n",
    "train_demo_df = pd.DataFrame(X_train, columns = predictors)\n",
    "train_outcome_df = y_train.to_frame()\n",
    "train_outcome_df=train_outcome_df.rename(columns={'credit':'credit_risk'})\n",
    "train_full_df = pd.concat([train_demo_df, train_outcome_df], axis=1)"
   ]
  },
  {
   "cell_type": "code",
   "execution_count": 46,
   "metadata": {},
   "outputs": [],
   "source": [
    "clf = eval(clf_name)(input_size=X_train.shape[-1])\n",
    "\n",
    "num_params = len(convert_grad_to_ndarray(list(clf.parameters())))\n",
    "if isinstance(clf, Logistic_Regression):\n",
    "    loss_func = logistic_loss_torch\n",
    "elif isinstance(clf, SVM):\n",
    "    loss_func = svm_loss_torch\n",
    "elif isinstance(clf, NeuralNetwork):\n",
    "    loss_func = nn_loss_torch\n",
    "else:\n",
    "    raise NotImplementedError"
   ]
  },
  {
   "cell_type": "code",
   "execution_count": 47,
   "metadata": {},
   "outputs": [
    {
     "name": "stdout",
     "output_type": "stream",
     "text": [
      "Initial statistical parity:  -0.09527579578571022\n",
      "Initial TPR parity:  -0.07785149123690549\n",
      "Initial predictive parity:  -0.10136869457116315\n",
      "Initial accuracy:  0.755\n"
     ]
    }
   ],
   "source": [
    "clf = eval(clf_name)(input_size=X_train.shape[-1])\n",
    "\n",
    "clf.fit(X_train, y_train)\n",
    "\n",
    "y_pred_test = clf.predict_proba(X_test)\n",
    "y_pred_train = clf.predict_proba(X_train)\n",
    "\n",
    "spd_0 = computeFairness(y_pred_test, X_test_orig, y_test, 0, dataset)\n",
    "print(\"Initial statistical parity: \", spd_0)\n",
    "\n",
    "tpr_parity_0 = computeFairness(y_pred_test, X_test_orig, y_test, 1, dataset)\n",
    "print(\"Initial TPR parity: \", tpr_parity_0)\n",
    "\n",
    "predictive_parity_0 = computeFairness(y_pred_test, X_test_orig, y_test, 2, dataset)\n",
    "print(\"Initial predictive parity: \", predictive_parity_0)\n",
    "\n",
    "accuracy_0 = computeAccuracy(y_test, y_pred_test)\n",
    "print(\"Initial accuracy: \", accuracy_0)"
   ]
  },
  {
   "cell_type": "markdown",
   "metadata": {},
   "source": [
    "<h5>INF calc on Original Labels for Leave One Out<h5>"
   ]
  },
  {
   "cell_type": "code",
   "execution_count": 48,
   "metadata": {},
   "outputs": [],
   "source": [
    "#if_start = time.time()\n",
    "metric_val = [spd_0, tpr_parity_0, predictive_parity_0][metric]\n",
    "del_F_del_theta = get_del_F_del_theta(clf, X_test_orig, X_test, y_test, dataset, metric)"
   ]
  },
  {
   "cell_type": "code",
   "execution_count": 49,
   "metadata": {},
   "outputs": [
    {
     "name": "stderr",
     "output_type": "stream",
     "text": [
      "100%|██████████| 800/800 [00:06<00:00, 127.15it/s]\n"
     ]
    }
   ],
   "source": [
    "hessian_all_points = get_hessian_all_points(clf, X_train, y_train, loss_func)"
   ]
  },
  {
   "cell_type": "code",
   "execution_count": 50,
   "metadata": {},
   "outputs": [],
   "source": [
    "del_L_del_theta = get_del_L_del_theta(clf, X_train, y_train, loss_func)"
   ]
  },
  {
   "cell_type": "code",
   "execution_count": 51,
   "metadata": {},
   "outputs": [],
   "source": [
    "hinv_v, hinv = get_hinv_v(hessian_all_points, np.transpose(del_L_del_theta))\n",
    "#incorporate del_l_del_theta_i with the updated datapoint"
   ]
  },
  {
   "cell_type": "code",
   "execution_count": 52,
   "metadata": {},
   "outputs": [],
   "source": [
    "#multiple the inverse by -1\n",
    "negative_hinv_v = -1*hinv_v"
   ]
  },
  {
   "cell_type": "code",
   "execution_count": 53,
   "metadata": {},
   "outputs": [],
   "source": [
    "inf = np.matmul(np.transpose(negative_hinv_v), del_F_del_theta)\n",
    "#For the new datapoint re-calculate the hinv_v"
   ]
  },
  {
   "cell_type": "code",
   "execution_count": 54,
   "metadata": {},
   "outputs": [],
   "source": [
    "inf = (-1/(len(X_train))) *inf "
   ]
  },
  {
   "cell_type": "code",
   "execution_count": 55,
   "metadata": {},
   "outputs": [],
   "source": [
    "decimal_array = [format(num, '.10f') for num in inf]\n",
    "decimal_array = [float(num) for num in decimal_array]"
   ]
  },
  {
   "cell_type": "markdown",
   "metadata": {},
   "source": [
    "<h5>Leave one out <h5>"
   ]
  },
  {
   "cell_type": "code",
   "execution_count": 56,
   "metadata": {},
   "outputs": [],
   "source": [
    "#Removal using leave one out concept\n",
    "copy_train = train_full_df.copy()\n",
    "difference = []\n",
    "\n",
    "for index in copy_train.index:\n",
    "    df_dropped = copy_train.copy()\n",
    "    df_dropped = copy_train.drop(index)\n",
    "    #Run lr_model() to get predicted probabilities\n",
    "    ypred = lr_model(df_dropped, X_test, clf)\n",
    "    parity = computeFairness(ypred, X_test_orig, y_test, 0, dataset)\n",
    "    \n",
    "    parity = parity-spd_0\n",
    "\n",
    "    difference.append(parity)\n",
    "#This does not fall under the measuring the time taken to decide how long it will take for IF to work "
   ]
  },
  {
   "cell_type": "code",
   "execution_count": 57,
   "metadata": {},
   "outputs": [
    {
     "data": {
      "image/png": "[encoded data removed]",
      "text/plain": [
       "<Figure size 640x480 with 1 Axes>"
      ]
     },
     "metadata": {},
     "output_type": "display_data"
    }
   ],
   "source": [
    "predicted_diff = decimal_array\n",
    "#actual_diff = actual_parity_list\n",
    "actual_diff = difference\n",
    "\n",
    "# Create the scatter plot\n",
    "plt.scatter(actual_diff, predicted_diff, label='Data Points')\n",
    "\n",
    "# Set the labels for the axes\n",
    "plt.xlabel('Actual Diff in Parity')\n",
    "plt.ylabel('Predicted Diff in Parity')\n",
    "\n",
    "# Set the title of the plot (optional)\n",
    "plt.title('Predicted vs Actual Diff in Parity (Removal)')\n",
    "\n",
    "# Add a legend\n",
    "plt.legend()\n",
    "\n",
    "# Show the plot\n",
    "plt.show()"
   ]
  },
  {
   "cell_type": "markdown",
   "metadata": {},
   "source": [
    "<h3>INF calc on flipped labels and compare them to flipping the datapoints<h3>"
   ]
  },
  {
   "cell_type": "code",
   "execution_count": 58,
   "metadata": {},
   "outputs": [],
   "source": [
    "flipping_time_start = time.time()\n",
    "#Flip all the labels for the encoded data and the scaled data\n",
    "#The labels are the same just the training data looks different \n",
    "y_train_changed = y_train.replace({0:1,1:0})"
   ]
  },
  {
   "cell_type": "code",
   "execution_count": 59,
   "metadata": {},
   "outputs": [],
   "source": [
    "clf = eval(clf_name)(input_size=X_train.shape[-1])\n",
    "\n",
    "num_params = len(convert_grad_to_ndarray(list(clf.parameters())))\n",
    "if isinstance(clf, Logistic_Regression):\n",
    "    loss_func = logistic_loss_torch\n",
    "elif isinstance(clf, SVM):\n",
    "    loss_func = svm_loss_torch\n",
    "elif isinstance(clf, NeuralNetwork):\n",
    "    loss_func = nn_loss_torch\n",
    "else:\n",
    "    raise NotImplementedError"
   ]
  },
  {
   "cell_type": "code",
   "execution_count": 60,
   "metadata": {},
   "outputs": [
    {
     "name": "stdout",
     "output_type": "stream",
     "text": [
      "Initial statistical parity:  0.09501853843685237\n",
      "Initial TPR parity:  0.07762472729685654\n",
      "Initial predictive parity:  -0.10818301462090729\n",
      "Initial accuracy:  0.245\n"
     ]
    }
   ],
   "source": [
    "clf = eval(clf_name)(input_size=X_train.shape[-1])\n",
    "\n",
    "clf.fit(X_train, y_train_changed)\n",
    "\n",
    "y_pred_test = clf.predict_proba(X_test)\n",
    "y_pred_train = clf.predict_proba(X_train)\n",
    "\n",
    "spd_1 = computeFairness(y_pred_test, X_test_orig, y_test, 0, dataset)\n",
    "print(\"Initial statistical parity: \", spd_1)\n",
    "\n",
    "tpr_parity_0 = computeFairness(y_pred_test, X_test_orig, y_test, 1, dataset)\n",
    "print(\"Initial TPR parity: \", tpr_parity_0)\n",
    "\n",
    "predictive_parity_0 = computeFairness(y_pred_test, X_test_orig, y_test, 2, dataset)\n",
    "print(\"Initial predictive parity: \", predictive_parity_0)\n",
    "\n",
    "accuracy_0 = computeAccuracy(y_test, y_pred_test)\n",
    "print(\"Initial accuracy: \", accuracy_0)"
   ]
  },
  {
   "cell_type": "code",
   "execution_count": 61,
   "metadata": {},
   "outputs": [],
   "source": [
    "#if_start = time.time()\n",
    "metric_val = [spd_1, tpr_parity_0, predictive_parity_0][metric]\n",
    "del_F_del_theta_2 = get_del_F_del_theta(clf, X_test_orig, X_test, y_test, dataset, metric)"
   ]
  },
  {
   "cell_type": "code",
   "execution_count": 62,
   "metadata": {},
   "outputs": [
    {
     "name": "stderr",
     "output_type": "stream",
     "text": [
      "100%|██████████| 800/800 [00:06<00:00, 130.78it/s]\n"
     ]
    }
   ],
   "source": [
    "hessian_all_points_2 = get_hessian_all_points(clf, X_train, y_train_changed, loss_func)"
   ]
  },
  {
   "cell_type": "code",
   "execution_count": 63,
   "metadata": {},
   "outputs": [],
   "source": [
    "del_L_del_theta_2 = get_del_L_del_theta(clf, X_train, y_train_changed, loss_func)"
   ]
  },
  {
   "cell_type": "code",
   "execution_count": 64,
   "metadata": {},
   "outputs": [],
   "source": [
    "hinv_v_2, hinv_2 = get_hinv_v(hessian_all_points_2, np.transpose(del_L_del_theta_2))\n",
    "#incorporate del_l_del_theta_i with the updated datapoint"
   ]
  },
  {
   "cell_type": "code",
   "execution_count": 65,
   "metadata": {},
   "outputs": [],
   "source": [
    "#get the negative of the inverse hessian\n",
    "negative_hinv_v_2 = -1*hinv_v_2"
   ]
  },
  {
   "cell_type": "code",
   "execution_count": 66,
   "metadata": {},
   "outputs": [],
   "source": [
    "inf2 = np.matmul(np.transpose(negative_hinv_v_2), del_F_del_theta_2)\n",
    "#For the new datapoint re-calculate the hinv_v"
   ]
  },
  {
   "cell_type": "code",
   "execution_count": 67,
   "metadata": {},
   "outputs": [],
   "source": [
    "inf2 = (-1/len(X_train)) *inf2 "
   ]
  },
  {
   "cell_type": "code",
   "execution_count": 68,
   "metadata": {},
   "outputs": [],
   "source": [
    "#Flipping\n",
    "#Make the original flips to test for the parity after each flip \n",
    "actual_df_train = train_full_df.copy()\n",
    "actual_parity_list = []\n",
    "\n",
    "for index, row in actual_df_train.iterrows():\n",
    "    if row['credit_risk'] == 1:\n",
    "        #Flip the label at credit_risk = 1 to 0\n",
    "        actual_df_train.at[index,'credit_risk'] = 0\n",
    "        actual_pred = lr_model(actual_df_train, X_test, clf)\n",
    "        actual_parity = computeFairness(actual_pred, X_test_orig, y_test, 0, dataset)\n",
    "        actual_parity_list.append(actual_parity)\n",
    "        actual_df_train.at[index,'credit_risk'] = 1\n",
    "        \n",
    "    elif row['credit_risk'] == 0:\n",
    "        actual_df_train.at[index,'credit_risk'] = 1\n",
    "        actual_pred = lr_model(actual_df_train, X_test, clf)\n",
    "        actual_parity = computeFairness(actual_pred, X_test_orig, y_test, 0, dataset)\n",
    "        actual_parity_list.append(actual_parity)\n",
    "        actual_df_train.at[index,'credit_risk'] = 0"
   ]
  },
  {
   "cell_type": "code",
   "execution_count": 69,
   "metadata": {},
   "outputs": [],
   "source": [
    "decimal_array = [format(num, '.10f') for num in inf2]\n",
    "decimal_array = [float(num) for num in decimal_array]"
   ]
  },
  {
   "cell_type": "code",
   "execution_count": 70,
   "metadata": {},
   "outputs": [
    {
     "data": {
      "image/png": "[encoded data removed]",
      "text/plain": [
       "<Figure size 640x480 with 1 Axes>"
      ]
     },
     "metadata": {},
     "output_type": "display_data"
    }
   ],
   "source": [
    "predicted_diff = decimal_array\n",
    "actual_diff = actual_parity_list\n",
    "\n",
    "# Create the scatter plot\n",
    "plt.scatter(actual_diff, predicted_diff, label='Data Points')\n",
    "\n",
    "# Set the labels for the axes\n",
    "plt.xlabel('Actual Diff in Parity')\n",
    "plt.ylabel('Predicted Diff in Parity')\n",
    "\n",
    "# Set the title of the plot (optional)\n",
    "plt.title('Predicted vs Actual Diff in Parity (Flipping)')\n",
    "\n",
    "# Add a legend\n",
    "plt.legend()\n",
    "\n",
    "# Show the plot\n",
    "plt.show()\n"
   ]
  },
  {
   "cell_type": "markdown",
   "metadata": {},
   "source": [
    "<h4>Calculate the difference between the changed vs original<h4>"
   ]
  },
  {
   "cell_type": "code",
   "execution_count": 71,
   "metadata": {},
   "outputs": [],
   "source": [
    "#Calculate the total influence in one full step\n",
    "#total_inf2 = ((-1*1/n)*np.matmul(np.transpose(-1*hinv_v_2),del_F_del_theta_2)) - ((-1*1/n)*(np.matmul(np.transpose(-1*hinv_v),del_F_del_theta)))"
   ]
  },
  {
   "cell_type": "markdown",
   "metadata": {},
   "source": [
    "<h3>##########################################################################################<h3>"
   ]
  },
  {
   "cell_type": "markdown",
   "metadata": {},
   "source": [
    "<h4>Make flips based on the flipping_total_inf value<h4>"
   ]
  },
  {
   "cell_type": "code",
   "execution_count": 72,
   "metadata": {},
   "outputs": [],
   "source": [
    "index_list = []\n",
    "for i in range(len(X_train)):\n",
    "    index_list.append(i)"
   ]
  },
  {
   "cell_type": "code",
   "execution_count": 73,
   "metadata": {},
   "outputs": [],
   "source": [
    "#Make a copy of the training data to make flips on \n",
    "influence_train_copy = train_full_df.copy()"
   ]
  },
  {
   "cell_type": "code",
   "execution_count": 74,
   "metadata": {},
   "outputs": [
    {
     "name": "stdout",
     "output_type": "stream",
     "text": [
      "41.985286474227905\n"
     ]
    }
   ],
   "source": [
    "#Order the total_inf in descending order based on magnitude\n",
    "combined_list = list(zip(inf2, index_list))\n",
    "\n",
    "# Step 2: Sort the combined list based on the float values\n",
    "sorted_combined_list = sorted(combined_list, key=lambda x: abs(x[0]), reverse=True)\n",
    "\n",
    "# Step 3: Unpack the sorted list of tuples back into two separate lists\n",
    "abs_sorted_float_list, abs_sorted_index_list = zip(*sorted_combined_list)\n",
    "list(abs_sorted_float_list)\n",
    "list(abs_sorted_index_list)\n",
    "#Measure up to here for the influence functions\n",
    "#This will tell us how long it takes for influence functions to determine which order I need to flip the datapoints in\n",
    "#if_time: Time taken to decide the order in which the datapoints need to be flipped\n",
    "flipping_time_end = time.time() - flipping_time_start\n",
    "print(flipping_time_end)"
   ]
  },
  {
   "cell_type": "code",
   "execution_count": 75,
   "metadata": {},
   "outputs": [],
   "source": [
    "if flipping_time_end < 0:\n",
    "    flipping_time_end = -1 * flipping_time_end\n",
    "else: \n",
    "    pass"
   ]
  },
  {
   "cell_type": "code",
   "execution_count": 76,
   "metadata": {},
   "outputs": [],
   "source": [
    "#Making flips based on the influence of each datapoint\n",
    "#After ordering them in decreasing order based on magnitude\n",
    "flip_parity_abs = []\n",
    "for i in range(len(abs_sorted_index_list)):\n",
    "    row_num = abs_sorted_index_list[i]\n",
    "    if influence_train_copy.at[row_num,'credit_risk'] == 1:\n",
    "        influence_train_copy.at[row_num,'credit_risk'] = 0\n",
    "        influence_prediction = lr_model(influence_train_copy, X_test, clf)\n",
    "        influence_parity = computeFairness(influence_prediction, X_test_orig, y_test, 0, dataset)\n",
    "        flip_parity_abs.append(influence_parity)\n",
    "    elif influence_train_copy.at[row_num,'credit_risk'] == 0:\n",
    "        influence_train_copy.at[row_num,'credit_risk'] = 1\n",
    "        influence_prediction = lr_model(influence_train_copy, X_test, clf)\n",
    "        influence_parity = computeFairness(influence_prediction, X_test_orig, y_test, 0, dataset)\n",
    "        flip_parity_abs.append(influence_parity)\n",
    "#print(flip_parity_abs)"
   ]
  },
  {
   "cell_type": "code",
   "execution_count": 77,
   "metadata": {},
   "outputs": [],
   "source": [
    "sol_time.append(flipping_time_end)"
   ]
  },
  {
   "cell_type": "code",
   "execution_count": 78,
   "metadata": {},
   "outputs": [
    {
     "data": {
      "image/png": "[encoded data removed]",
      "text/plain": [
       "<Figure size 700x400 with 1 Axes>"
      ]
     },
     "metadata": {},
     "output_type": "display_data"
    }
   ],
   "source": [
    "#Graph the points\n",
    "# Assuming the X-axis is some common range or specific values\n",
    "size = range(len(flip_parity_abs))  # X values for list data\n",
    "\n",
    "# Create the plot\n",
    "plt.figure(figsize=(7, 4))\n",
    "\n",
    "# Plot list data with dots\n",
    "plt.scatter(size, flip_parity_abs, color='red', label='Parity After Flipping DP', marker='o')\n",
    "\n",
    "# Adding labels\n",
    "plt.xlabel('Datapoints')\n",
    "plt.ylabel('Parity')\n",
    "\n",
    "# Adding title and legend\n",
    "plt.title('Parity by flipping the datapoints (Absolute List)')\n",
    "plt.legend()\n",
    "\n",
    "# Display the plot\n",
    "plt.show()"
   ]
  },
  {
   "cell_type": "code",
   "execution_count": 79,
   "metadata": {},
   "outputs": [
    {
     "data": {
      "image/png": "[encoded data removed]",
      "text/plain": [
       "<Figure size 640x480 with 1 Axes>"
      ]
     },
     "metadata": {},
     "output_type": "display_data"
    }
   ],
   "source": [
    "#total num of data points\n",
    "#on_abs_sorted = len(flip_parity_sorted)\n",
    "abs_sorted = len(flip_parity_abs)\n",
    "\n",
    "#Calculate the indices for the 5 points\n",
    "#indices_non_abs = [int(i * non_abs_sorted / 5) for i in range(0, 5)]\n",
    "indices_abs = [int(i * abs_sorted / 5) for i in range(0, 5)]\n",
    "\n",
    "# Extract the values at these indices\n",
    "#values_non_abs = [flip_parity_sorted[index] for index in indices_non_abs]\n",
    "values_abs = [flip_parity_abs[index] for index in indices_abs]\n",
    "\n",
    "#Plot the Values\n",
    "plt.plot([20, 40, 60, 80, 100], values_abs, label='ABS Flipping', color='Blue')\n",
    "\n",
    "# Add labels and legend\n",
    "plt.xlabel('Percentage of Data Points')\n",
    "plt.ylabel('Values')\n",
    "plt.title('Graph of Data Points')\n",
    "plt.legend()\n",
    "\n",
    "# Show the plot\n",
    "plt.show()"
   ]
  },
  {
   "cell_type": "markdown",
   "metadata": {},
   "source": [
    "<h3>Compare methods of: Naive, Entropy, MEU, and IF<h3>"
   ]
  },
  {
   "cell_type": "markdown",
   "metadata": {},
   "source": [
    "<h5>Naive Method: Greedy Algorithm<h5>"
   ]
  },
  {
   "cell_type": "code",
   "execution_count": 80,
   "metadata": {},
   "outputs": [],
   "source": [
    "greedy_start = time.time()\n",
    "#Beginning of the Greedy Algorithm\n",
    "#Make the original flips to test for the parity after each flip \n",
    "greedy_train = train_full_df.copy()\n",
    "greedy_parity_list = []\n",
    "\n",
    "for index, row in greedy_train.iterrows():\n",
    "    if row['credit_risk'] == 1:\n",
    "        #Flip the label at credit_risk = 1 to 0\n",
    "        greedy_train.at[index,'credit_risk'] = 0\n",
    "        greedy_pred = lr_model(greedy_train, X_test, clf)\n",
    "        greedy_parity = computeFairness(greedy_pred, X_test_orig, y_test, 0, dataset)\n",
    "        greedy_parity_list.append(greedy_parity)\n",
    "        greedy_train.at[index,'credit_risk'] = 1\n",
    "        \n",
    "    elif row['credit_risk'] == 0:\n",
    "        greedy_train.at[index,'credit_risk'] = 1\n",
    "        greedy_pred = lr_model(greedy_train, X_test, clf)\n",
    "        greedy_parity = computeFairness(greedy_pred, X_test_orig, y_test, 0, dataset)\n",
    "        greedy_parity_list.append(greedy_parity)\n",
    "        greedy_train.at[index,'credit_risk'] = 0"
   ]
  },
  {
   "cell_type": "code",
   "execution_count": 81,
   "metadata": {},
   "outputs": [],
   "source": [
    "#Compare each of the parity values after flipping to the OG parity value\n",
    "#Append to a new list\n",
    "\n",
    "#parity_difference: Contains the difference between flipped and original value\n",
    "parity_difference = []\n",
    "#Contains parity values that fall between .03 and -.03\n",
    "large_influence = []\n",
    "#Contains the row number of each flip\n",
    "li_row = []\n",
    "\n",
    "for value in greedy_parity_list:\n",
    "    difference = abs(value) - abs(spd_0)\n",
    "    parity_difference.append(difference)\n",
    "\n",
    "#Rows considered to be high influence if they in between a specific value\n",
    "for index, item in enumerate(parity_difference):\n",
    "  if spd_0 > 0:\n",
    "    if item <= spd_0 or item >= -1*(spd_0):\n",
    "        large_influence.append(item)\n",
    "        li_row.append(index)\n",
    "  else:\n",
    "    if item >= spd_0 or item <= -1*(spd_0):\n",
    "        large_influence.append(item)\n",
    "        li_row.append(index)"
   ]
  },
  {
   "cell_type": "code",
   "execution_count": 82,
   "metadata": {},
   "outputs": [],
   "source": [
    "# Combine lists into tuples and zip them\n",
    "combined_data = list(zip(large_influence, li_row))\n",
    "\n",
    "# Sort based on statistical parity values in descending order\n",
    "combined_data.sort(key=lambda x: abs(x[0]), reverse=True)\n",
    "\n",
    "# Extract sorted indices list and the sorted values\n",
    "sorted_indices_list = [index for _, index in combined_data]\n",
    "sorted_values = sorted(large_influence, reverse=True)\n",
    "greedy_end = time.time()"
   ]
  },
  {
   "cell_type": "code",
   "execution_count": 83,
   "metadata": {},
   "outputs": [],
   "source": [
    "#After ranking the values now go back through the dataset flipping \n",
    "#based on the ranked values\n",
    "\n",
    "#Parity values after each flip\n",
    "ranked_greedy_parity_list = []\n",
    "#Accuracy after every flip\n",
    "ranked_acc = []\n",
    "#Index/row of the flip\n",
    "ranked_flip = []\n",
    "\n",
    "row_num = 0\n",
    "ranked_indices_list = list(sorted_indices_list)\n",
    "\n",
    "#Iterate through the ranked list and start the flipping\n",
    "for idx, row in enumerate(ranked_indices_list):\n",
    "    row_num = ranked_indices_list[row]\n",
    "    #If the label at the specific row is 1 it flips it to 0 then calculates the parity and accuracy\n",
    "    #It follows the same steps as the flipping before\n",
    "    if greedy_train.at[row_num,'credit_risk'] == 1:\n",
    "        greedy_train.at[row,'credit_risk'] = 0\n",
    "        ranked_greedy_pred = lr_model(greedy_train, X_test, clf)\n",
    "        ranked_greedy_parity = computeFairness(ranked_greedy_pred, X_test_orig, y_test, 0, dataset)\n",
    "        ranked_greedy_parity_list.append(ranked_greedy_parity)\n",
    "    elif greedy_train.at[row_num, 'credit_risk'] == 0:\n",
    "        greedy_train.at[row, 'credit_risk'] = 1\n",
    "        ranked_greedy_pred = lr_model(greedy_train, X_test, clf)\n",
    "        ranked_greedy_parity = computeFairness(ranked_greedy_pred, X_test_orig, y_test, 0, dataset)\n",
    "        ranked_greedy_parity_list.append(ranked_greedy_parity)"
   ]
  },
  {
   "cell_type": "code",
   "execution_count": 84,
   "metadata": {},
   "outputs": [],
   "source": [
    "greedy_time = greedy_end - greedy_start\n",
    "sol_time.append(greedy_time)"
   ]
  },
  {
   "cell_type": "markdown",
   "metadata": {},
   "source": [
    "<h4>Uncertainty Reduction/Entropy<h4>"
   ]
  },
  {
   "cell_type": "code",
   "execution_count": 85,
   "metadata": {},
   "outputs": [],
   "source": [
    "entropy_start = time.time()\n",
    "#Remake the dataset\n",
    "entropy_train_df = train_full_df.copy()"
   ]
  },
  {
   "cell_type": "code",
   "execution_count": 86,
   "metadata": {},
   "outputs": [
    {
     "name": "stdout",
     "output_type": "stream",
     "text": [
      "75.5\n"
     ]
    }
   ],
   "source": [
    "#Run the LR classifier\n",
    "#Use Scikit learn logistic regression rather than pre-built one\n",
    "clfa = LogisticRegression(class_weight=None, max_iter=100)\n",
    "log = clfa.fit(X_train,y_train)\n",
    "prediction = log.predict(X_test)\n",
    "#prediction_prob = log.predict_proba(X_train)\n",
    "accuracy = accuracy_score(y_test,prediction)*100\n",
    "print(accuracy)"
   ]
  },
  {
   "cell_type": "code",
   "execution_count": 87,
   "metadata": {},
   "outputs": [],
   "source": [
    "#Obtain the predicted probabilities\n",
    "predicted_prob = log.predict_proba(X_train)"
   ]
  },
  {
   "cell_type": "code",
   "execution_count": 88,
   "metadata": {},
   "outputs": [],
   "source": [
    "#Log base two would be: log = math.log(x,2)\n",
    "#Entropy equation would then be: -1*(p1((math.log(p1,2))+p2*(math.log(p2,2)))\n",
    "\n",
    "#In the predicted_probabilities: first value is 0 (which is bad), second value is 1 (which is good)\n",
    "\n",
    "#Loop through the predicted_probabilities array and calculate values\n",
    "#One list will contain the index of each row in the table and the other will contain the entropy value of each row\n",
    "\n",
    "index_list = []\n",
    "entropy_list = []\n",
    "\n",
    "for index, value in enumerate(predicted_prob):\n",
    "  #Calculate p1 and p2\n",
    "  p1=predicted_prob[index,0]\n",
    "  p2=predicted_prob[index,1]\n",
    "  #Calculate entropy in 3 steps\n",
    "  entropy_calc1 = p1 * math.log(p1,2)\n",
    "  entropy_calc2 = p2 * math.log(p2,2)\n",
    "  entropy_final = -1 * (entropy_calc1 + entropy_calc2)\n",
    "\n",
    "  #Append the values to their respective lists\n",
    "  index_list.append(index)\n",
    "  entropy_list.append(entropy_final)"
   ]
  },
  {
   "cell_type": "code",
   "execution_count": 89,
   "metadata": {},
   "outputs": [],
   "source": [
    "#Rank the entropy values in decreasing order\n",
    "#Match the index list with them\n",
    "\n",
    "#Combine the two lists using zip\n",
    "combined_list = list(zip(entropy_list, index_list))\n",
    "\n",
    "#Sort the combined lust based on entropy values in descending order\n",
    "sorted_list = sorted(combined_list, key = lambda x: x[0], reverse=True)\n",
    "\n",
    "#Extract the values\n",
    "sorted_ent_list, sorted_index_list = zip(*sorted_list)\n",
    "entropy_end = time.time()"
   ]
  },
  {
   "cell_type": "code",
   "execution_count": 90,
   "metadata": {},
   "outputs": [],
   "source": [
    "entropy_train_df['credit_risk'] = entropy_train_df['credit_risk'].astype('int')"
   ]
  },
  {
   "cell_type": "code",
   "execution_count": 91,
   "metadata": {},
   "outputs": [],
   "source": [
    "ranked_ent_list = list(sorted_ent_list)\n",
    "ranked_idx_list = list(sorted_index_list)"
   ]
  },
  {
   "cell_type": "code",
   "execution_count": 92,
   "metadata": {},
   "outputs": [],
   "source": [
    "#After the ranking; flip based on the ranked entropy values\n",
    "#Values with the highest entropy are prioritized for flipping\n",
    "\n",
    "ranked_ent_parity_list = [spd_0]\n",
    "ranked_flip = []\n",
    "\n",
    "row_num = 0\n",
    "\n",
    "#Loop through and flip based on the entropy values\n",
    "for row in range(len(sorted_index_list)):\n",
    "    row_num = ranked_idx_list[row]\n",
    "    if entropy_train_df.at[row_num,'credit_risk'] == 0:\n",
    "        entropy_train_df.at[row_num,'credit_risk'] = 1\n",
    "        ranked_ent_pred = lr_model(greedy_train, X_test, clf)\n",
    "        ranked_ent_parity = computeFairness(ranked_ent_pred, X_test_orig, y_test, 0, dataset)\n",
    "        ranked_ent_parity_list.append(ranked_ent_parity)\n",
    "\n",
    "    elif entropy_train_df.at[row_num,'credit_risk'] == 1:\n",
    "        entropy_train_df.at[row_num,'credit_risk'] = 0\n",
    "        ranked_ent_pred = lr_model(greedy_train, X_test, clf)\n",
    "        ranked_ent_parity = computeFairness(ranked_ent_pred, X_test_orig, y_test, 0, dataset)\n",
    "        ranked_ent_parity_list.append(ranked_ent_parity)"
   ]
  },
  {
   "cell_type": "code",
   "execution_count": 93,
   "metadata": {},
   "outputs": [],
   "source": [
    "entropy_time = entropy_end - entropy_start\n",
    "sol_time.append(entropy_time)"
   ]
  },
  {
   "cell_type": "markdown",
   "metadata": {},
   "source": [
    "<h4>Maximum Expected Utility<h4>"
   ]
  },
  {
   "cell_type": "code",
   "execution_count": 94,
   "metadata": {},
   "outputs": [],
   "source": [
    "#Copy training dataset\n",
    "meu_start = time.time()\n",
    "meu_training_df = train_full_df.copy()"
   ]
  },
  {
   "cell_type": "code",
   "execution_count": 95,
   "metadata": {},
   "outputs": [],
   "source": [
    "#Obtain the predicted probabilities \n",
    "meu_pred_prob = log.predict_proba(X_train)"
   ]
  },
  {
   "cell_type": "code",
   "execution_count": 96,
   "metadata": {},
   "outputs": [],
   "source": [
    "#Grab the original of the DP in the copy dataframe and sotre in lists along with the index\n",
    "label = []\n",
    "row_index = []\n",
    "for index, row in meu_training_df.iterrows():\n",
    "    label.append(meu_training_df.at[index,'credit_risk'])\n",
    "    row_index.append(index)"
   ]
  },
  {
   "cell_type": "code",
   "execution_count": 97,
   "metadata": {},
   "outputs": [],
   "source": [
    "#Calculate the first part of the MEU equation\n",
    "meu_part1_list = []\n",
    "for index, value in enumerate(label):\n",
    "    if value == 1:\n",
    "        prob1 = meu_pred_prob[index,1]\n",
    "        meu_part1_calc = prob1 * spd_0\n",
    "        meu_part1_list.append(meu_part1_calc)\n",
    "    elif value == 0:\n",
    "        prob2 = meu_pred_prob[index,0]\n",
    "        meu_part1_calc = prob2 * spd_0\n",
    "        meu_part1_list.append(meu_part1_calc)"
   ]
  },
  {
   "cell_type": "code",
   "execution_count": 98,
   "metadata": {},
   "outputs": [],
   "source": [
    "#Iterate through the copied dataset and flip each lable and calculate the parity\n",
    "\n",
    "meu_part2_parity_list = []\n",
    "\n",
    "for idx, row in meu_training_df.iterrows():\n",
    "    #If the row is positive then flip it to negative\n",
    "    if row['credit_risk'] == 1:\n",
    "        meu_training_df.at[index,'credit_risk']= 0\n",
    "        meu_pred = lr_model(meu_training_df, X_test, clf)\n",
    "        meu_parity = computeFairness(meu_pred, X_test_orig, y_test, 0, dataset)\n",
    "        meu_part2_parity_list.append(meu_parity)\n",
    "        meu_training_df.at[index,'credit_risk'] = 1\n",
    "    #If negative then flip to positive\n",
    "    elif row['credit_risk'] == 0:\n",
    "        meu_training_df.at[index,'credit_risk']= 1\n",
    "        meu_pred = lr_model(meu_training_df, X_test, clf)\n",
    "        meu_parity = computeFairness(meu_pred, X_test_orig, y_test, 0, dataset)\n",
    "        meu_part2_parity_list.append(meu_parity)\n",
    "        meu_training_df.at[index,'credit_risk'] = 0\n",
    "        "
   ]
  },
  {
   "cell_type": "code",
   "execution_count": 99,
   "metadata": {},
   "outputs": [],
   "source": [
    "#Second part of the calculation by taking the opposite value\n",
    "meu_part2_list = []\n",
    "for index, value in enumerate(label):\n",
    "    if value == 0:\n",
    "        prob0 = meu_pred_prob[index,0]\n",
    "        meu_part2_calc = prob0* meu_part2_parity_list[index]\n",
    "    elif value == 1:\n",
    "        prob1 = meu_pred_prob[index,1]\n",
    "        meu_part2_calc = prob1 * meu_part2_parity_list[index]\n",
    "        meu_part2_list.append(meu_part2_calc)\n"
   ]
  },
  {
   "cell_type": "code",
   "execution_count": 100,
   "metadata": {},
   "outputs": [],
   "source": [
    "#Add the two lists together\n",
    "expected_utility_values = []\n",
    "for part1, part2 in zip(meu_part1_list, meu_part2_list):\n",
    "    expected_utility_values.append(part1+part2)"
   ]
  },
  {
   "cell_type": "code",
   "execution_count": 101,
   "metadata": {},
   "outputs": [],
   "source": [
    "#EU - OG Parity = new ranked values\n",
    "new_ranked_value = []\n",
    "\n",
    "for value in expected_utility_values:\n",
    "    new_ranked_value.append(value - spd_0)"
   ]
  },
  {
   "cell_type": "code",
   "execution_count": 102,
   "metadata": {},
   "outputs": [],
   "source": [
    "#Rank the values\n",
    "combined_list = list(zip(new_ranked_value,row_index))\n",
    "sorted_list = sorted(combined_list, key = lambda x: abs(x[0]), reverse=True)\n",
    "sorted_eu_list, sorted_index_list = zip(*sorted_list)\n",
    "meu_end = time.time()"
   ]
  },
  {
   "cell_type": "code",
   "execution_count": 103,
   "metadata": {},
   "outputs": [],
   "source": [
    "#After ranking flip the values\n",
    "meu_ranked_parity_list = [spd_0]\n",
    "\n",
    "for row in range(len(sorted_index_list)):\n",
    "    row_num = sorted_index_list[row]\n",
    "    \n",
    "    if meu_training_df.at[row_num,'credit_risk'] == 1:\n",
    "        meu_training_df.at[row_num, 'credit_risk'] = 0\n",
    "        meu_pred = lr_model(meu_training_df, X_test, clf)\n",
    "        meu_ranked_parity = computeFairness(meu_pred, X_test_orig, y_test, 0, dataset)\n",
    "        meu_ranked_parity_list.append(meu_ranked_parity)\n",
    "    elif meu_training_df.at[row_num, 'credit_risk'] == 0:\n",
    "        meu_training_df.at[row_num, 'credit_risk'] = 1\n",
    "        meu_pred = lr_model(meu_training_df, X_test, clf)\n",
    "        meu_ranked_parity = computeFairness(meu_pred, X_test_orig, y_test, 0, dataset)\n",
    "        meu_ranked_parity_list.append(meu_ranked_parity)"
   ]
  },
  {
   "cell_type": "code",
   "execution_count": 104,
   "metadata": {},
   "outputs": [],
   "source": [
    "meu_time = meu_end - meu_start\n",
    "sol_time.append(meu_time)"
   ]
  },
  {
   "cell_type": "markdown",
   "metadata": {},
   "source": [
    "<h4>Randomized flipping<h4>"
   ]
  },
  {
   "cell_type": "code",
   "execution_count": 105,
   "metadata": {},
   "outputs": [],
   "source": [
    "#Training dataset\n",
    "random_start = time.time()\n",
    "random_training_df = train_full_df.copy()"
   ]
  },
  {
   "cell_type": "code",
   "execution_count": 106,
   "metadata": {},
   "outputs": [],
   "source": [
    "#Budget of 200 random flipping\n",
    "import random\n",
    "random_flip_parity = []\n",
    "budget = len(y_test)\n",
    "\n",
    "for iter in range(budget):\n",
    "    random_row = random.choice(random_training_df.index)\n",
    "    if random_training_df.at[random_row,'credit_risk'] == 1:\n",
    "        random_training_df.at[random_row,'credit_risk'] = 0\n",
    "        rand_pred = lr_model(random_training_df, X_test, clf)\n",
    "        rand_ranked_parity = computeFairness(rand_pred, X_test_orig, y_test, 0, dataset)\n",
    "        random_flip_parity.append(rand_ranked_parity)\n",
    "    elif random_training_df.at[random_row,'credit_risk'] == 0:\n",
    "        random_training_df.at[random_row,'credit_risk'] = 1\n",
    "        rand_pred = lr_model(random_training_df, X_test, clf)\n",
    "        rand_ranked_parity = computeFairness(rand_pred, X_test_orig, y_test, 0, dataset)\n",
    "        random_flip_parity.append(rand_ranked_parity)\n",
    "random_end = time.time()\n"
   ]
  },
  {
   "cell_type": "code",
   "execution_count": 107,
   "metadata": {},
   "outputs": [],
   "source": [
    "random_time = random_end - random_start\n",
    "sol_time.append(random_time)"
   ]
  },
  {
   "cell_type": "markdown",
   "metadata": {},
   "source": [
    "<h4>Graph of outcomes<h4>"
   ]
  },
  {
   "cell_type": "code",
   "execution_count": 109,
   "metadata": {},
   "outputs": [
    {
     "data": {
      "text/plain": [
       "<matplotlib.legend.Legend at 0x1e058a39210>"
      ]
     },
     "execution_count": 109,
     "metadata": {},
     "output_type": "execute_result"
    },
    {
     "data": {
      "image/png": "[encoded data removed]",
      "text/plain": [
       "<Figure size 640x480 with 1 Axes>"
      ]
     },
     "metadata": {},
     "output_type": "display_data"
    }
   ],
   "source": [
    "# Calculate the total number of data points\n",
    "datapoints_iterative = len(ranked_greedy_parity_list)\n",
    "datapoints_entropy = len(ranked_ent_parity_list)\n",
    "datapoints_meu = len(meu_ranked_parity_list)\n",
    "datapoints_random = len(random_flip_parity)\n",
    "datapoints_influence = len(flip_parity_abs)\n",
    "\n",
    "# Calculate the indices for the 5 points\n",
    "indices_iterative = [int(i * datapoints_iterative / 10) for i in range(0, 10)]\n",
    "indices_entropy = [int(i * datapoints_entropy / 10) for i in range(0, 10)]\n",
    "indices_meu = [int(i * datapoints_meu / 10) for i in range(0, 10)]\n",
    "indices_random = [int(i * datapoints_random / 10) for i in range(0, 10)]\n",
    "indices_influence = [int(i * datapoints_influence / 10) for i in range(0, 10)]\n",
    "\n",
    "# Extract the values at these indices\n",
    "values_iterative = [ranked_greedy_parity_list[index] for index in indices_iterative]\n",
    "values_entropy = [ranked_ent_parity_list[index] for index in indices_entropy]\n",
    "values_meu = [meu_ranked_parity_list[index] for index in indices_meu]\n",
    "values_random = [random_flip_parity[index] for index in indices_random]\n",
    "values_influence = [flip_parity_abs[index] for index in indices_influence]\n",
    "\n",
    "# Plot the values\n",
    "# plt.plot(values_iterative, label='Iterative Flipping', color='Orange')\n",
    "# plt.plot(values_entropy, label='Entropy', color='Blue')\n",
    "# plt.plot(values_meu, label='MEU', color='Yellow')\n",
    "# plt.plot(values_random, label='Random Flipping', color='Green')\n",
    "# plt.plot( values_influence, label='Influence Flipping', color='Red')\n",
    "plt.plot([10,20, 30, 40, 50, 60, 70, 80, 90, 100], values_iterative, label='Iterative Flipping', color='Orange')\n",
    "plt.plot([10,20, 30, 40, 50, 60, 70, 80, 90, 100], values_entropy, label='Entropy', color='Blue')\n",
    "plt.plot([10,20, 30, 40, 50, 60, 70, 80, 90, 100], values_meu, label='MEU', color='Yellow')\n",
    "plt.plot([10,20, 30, 40, 50, 60, 70, 80, 90, 100], values_random, label='Random Flipping', color='Green')\n",
    "plt.plot([10,20, 30, 40, 50, 60, 70, 80, 90, 100], values_influence, label='Influence Flipping', color='Red')\n",
    "\n",
    "# Add labels and legend\n",
    "plt.xlabel('Percentage of Data Points')\n",
    "plt.ylabel('Statistical Parity')\n",
    "plt.title('Change in Parity')\n",
    "plt.legend()"
   ]
  },
  {
   "cell_type": "markdown",
   "metadata": {},
   "source": [
    "<h4>Time Comparisons<h4>"
   ]
  },
  {
   "cell_type": "code",
   "execution_count": 110,
   "metadata": {},
   "outputs": [
    {
     "data": {
      "image/png": "[encoded data removed]",
      "text/plain": [
       "<Figure size 640x480 with 1 Axes>"
      ]
     },
     "metadata": {},
     "output_type": "display_data"
    }
   ],
   "source": [
    "# Create a line chart\n",
    "x_axis = ['IF', 'Greedy', 'Entropy', 'MEU', 'Randomized']\n",
    "# Colors for each bar\n",
    "colors = ['red', 'orange', 'blue', 'yellow', 'green']\n",
    "\n",
    "# Create a bar graph with updated labels and colors\n",
    "plt.bar(x_axis, sol_time, color=colors)\n",
    "plt.title('Time Series Bar Graph')\n",
    "plt.xlabel('Algorithm')\n",
    "plt.ylabel('Time')\n",
    "plt.grid(True)\n",
    "plt.xticks(rotation=45)\n",
    "plt.show()"
   ]
  },
  {
   "cell_type": "code",
   "execution_count": 105,
   "metadata": {},
   "outputs": [
    {
     "name": "stdout",
     "output_type": "stream",
     "text": [
      "[15.022312641143799, 64.83190822601318, 0.06735396385192871, 61.95244598388672, 15.24081015586853]\n"
     ]
    }
   ],
   "source": [
    "#When calculating the time we are looking at the time taken to choose which datapoint to flip \n",
    "#Do not consider the time taken to calculate the fairness on each datapoint\n",
    "#Also when implementing the other solutions on the bigger datasets do not implement MEU and greedy due to the expense of it\n",
    "#Instead implement IF, Entropy, and randomized\n",
    "\n",
    "#Since our solution is looking to determine the efficiency at which the datapoints are selected we want to measure the time \n",
    "#taken to determine which order the datapoints should be flipped in\n",
    "#Measure how long it takes to determine which datapoints need to be flipping and do not consider the parity calculations\n",
    "print(sol_time)"
   ]
  }
 ],
 "metadata": {
  "kernelspec": {
   "display_name": "base",
   "language": "python",
   "name": "python3"
  },
  "language_info": {
   "codemirror_mode": {
    "name": "ipython",
    "version": 3
   },
   "file_extension": ".py",
   "mimetype": "text/x-python",
   "name": "python",
   "nbconvert_exporter": "python",
   "pygments_lexer": "ipython3",
   "version": "3.11.7"
  }
 },
 "nbformat": 4,
 "nbformat_minor": 2
}
