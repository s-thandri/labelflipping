{
 "cells": [
  {
   "cell_type": "code",
   "execution_count": 1,
   "metadata": {},
   "outputs": [],
   "source": [
    "#Imports some of the libraries that we will be using\n",
    "import pandas as pd\n",
    "import numpy as np\n",
    "import math\n",
    "import warnings\n",
    "from sklearn.linear_model import LogisticRegression\n",
    "from sklearn.model_selection import cross_val_score, train_test_split\n",
    "from sklearn import metrics\n",
    "from sklearn import tree\n",
    "from sklearn.metrics import accuracy_score\n",
    "import matplotlib.pyplot as plt\n",
    "import time\n",
    "warnings.filterwarnings('ignore')"
   ]
  },
  {
   "cell_type": "code",
   "execution_count": 2,
   "metadata": {},
   "outputs": [
    {
     "name": "stdout",
     "output_type": "stream",
     "text": [
      "['acs_income.csv', 'acs_influence_new.ipynb', 'adult.data', 'adult.test', 'adult_influence.ipynb', 'classifier.py', 'compas-scores-two-years.csv', 'compas_influence.ipynb', 'config.json', 'expl.py', 'functions.py', 'german.data', 'german_influence.ipynb', 'influence.py', 'load_dataset.py', 'loss.py', 'metrics.py', 'random_influence.ipynb', 'sqf_influence.ipynb', 'sqf_test.csv', 'sqf_train.csv', 'utils.py', '__pycache__']\n"
     ]
    }
   ],
   "source": [
    "from load_dataset import load\n",
    "from classifier import NeuralNetwork, Logistic_Regression, SVM\n",
    "from utils import *\n",
    "from metrics import *  # include fairness and corresponding derivatives\n",
    "from expl import explanation_candidate_generation, get_top_k_expl\n",
    "from influence import *"
   ]
  },
  {
   "cell_type": "markdown",
   "metadata": {},
   "source": [
    "<h4>Build model and get the influence points<h4>"
   ]
  },
  {
   "cell_type": "code",
   "execution_count": 3,
   "metadata": {},
   "outputs": [],
   "source": [
    "dataset = 'german'\n",
    "clf_name = 'Logistic_Regression'\n",
    "metric = 0\n",
    "support = 0.05\n",
    "support_small = 0.3"
   ]
  },
  {
   "cell_type": "code",
   "execution_count": 4,
   "metadata": {},
   "outputs": [],
   "source": [
    "X_train, X_test, y_train, y_test = load(dataset)"
   ]
  },
  {
   "cell_type": "code",
   "execution_count": 5,
   "metadata": {},
   "outputs": [
    {
     "data": {
      "text/html": [
       "<div>\n",
       "<style scoped>\n",
       "    .dataframe tbody tr th:only-of-type {\n",
       "        vertical-align: middle;\n",
       "    }\n",
       "\n",
       "    .dataframe tbody tr th {\n",
       "        vertical-align: top;\n",
       "    }\n",
       "\n",
       "    .dataframe thead th {\n",
       "        text-align: right;\n",
       "    }\n",
       "</style>\n",
       "<table border=\"1\" class=\"dataframe\">\n",
       "  <thead>\n",
       "    <tr style=\"text-align: right;\">\n",
       "      <th></th>\n",
       "      <th>status</th>\n",
       "      <th>duration</th>\n",
       "      <th>credit_hist</th>\n",
       "      <th>credit_amt</th>\n",
       "      <th>savings</th>\n",
       "      <th>employment</th>\n",
       "      <th>install_rate</th>\n",
       "      <th>debtors</th>\n",
       "      <th>residence</th>\n",
       "      <th>property</th>\n",
       "      <th>...</th>\n",
       "      <th>purpose_A42</th>\n",
       "      <th>purpose_A43</th>\n",
       "      <th>purpose_A44</th>\n",
       "      <th>purpose_A45</th>\n",
       "      <th>purpose_A46</th>\n",
       "      <th>purpose_A48</th>\n",
       "      <th>purpose_A49</th>\n",
       "      <th>housing_A151</th>\n",
       "      <th>housing_A152</th>\n",
       "      <th>housing_A153</th>\n",
       "    </tr>\n",
       "  </thead>\n",
       "  <tbody>\n",
       "    <tr>\n",
       "      <th>0</th>\n",
       "      <td>3</td>\n",
       "      <td>1</td>\n",
       "      <td>2</td>\n",
       "      <td>0</td>\n",
       "      <td>4</td>\n",
       "      <td>3</td>\n",
       "      <td>4</td>\n",
       "      <td>0</td>\n",
       "      <td>4</td>\n",
       "      <td>2</td>\n",
       "      <td>...</td>\n",
       "      <td>False</td>\n",
       "      <td>False</td>\n",
       "      <td>False</td>\n",
       "      <td>False</td>\n",
       "      <td>False</td>\n",
       "      <td>False</td>\n",
       "      <td>False</td>\n",
       "      <td>True</td>\n",
       "      <td>False</td>\n",
       "      <td>False</td>\n",
       "    </tr>\n",
       "    <tr>\n",
       "      <th>1</th>\n",
       "      <td>3</td>\n",
       "      <td>0</td>\n",
       "      <td>2</td>\n",
       "      <td>1</td>\n",
       "      <td>4</td>\n",
       "      <td>4</td>\n",
       "      <td>4</td>\n",
       "      <td>0</td>\n",
       "      <td>3</td>\n",
       "      <td>1</td>\n",
       "      <td>...</td>\n",
       "      <td>False</td>\n",
       "      <td>False</td>\n",
       "      <td>False</td>\n",
       "      <td>False</td>\n",
       "      <td>False</td>\n",
       "      <td>False</td>\n",
       "      <td>False</td>\n",
       "      <td>False</td>\n",
       "      <td>True</td>\n",
       "      <td>False</td>\n",
       "    </tr>\n",
       "    <tr>\n",
       "      <th>2</th>\n",
       "      <td>2</td>\n",
       "      <td>1</td>\n",
       "      <td>2</td>\n",
       "      <td>1</td>\n",
       "      <td>1</td>\n",
       "      <td>2</td>\n",
       "      <td>1</td>\n",
       "      <td>0</td>\n",
       "      <td>1</td>\n",
       "      <td>1</td>\n",
       "      <td>...</td>\n",
       "      <td>False</td>\n",
       "      <td>False</td>\n",
       "      <td>False</td>\n",
       "      <td>False</td>\n",
       "      <td>False</td>\n",
       "      <td>False</td>\n",
       "      <td>False</td>\n",
       "      <td>False</td>\n",
       "      <td>True</td>\n",
       "      <td>False</td>\n",
       "    </tr>\n",
       "    <tr>\n",
       "      <th>3</th>\n",
       "      <td>0</td>\n",
       "      <td>0</td>\n",
       "      <td>2</td>\n",
       "      <td>0</td>\n",
       "      <td>2</td>\n",
       "      <td>0</td>\n",
       "      <td>1</td>\n",
       "      <td>0</td>\n",
       "      <td>2</td>\n",
       "      <td>2</td>\n",
       "      <td>...</td>\n",
       "      <td>False</td>\n",
       "      <td>False</td>\n",
       "      <td>False</td>\n",
       "      <td>False</td>\n",
       "      <td>False</td>\n",
       "      <td>False</td>\n",
       "      <td>False</td>\n",
       "      <td>True</td>\n",
       "      <td>False</td>\n",
       "      <td>False</td>\n",
       "    </tr>\n",
       "    <tr>\n",
       "      <th>4</th>\n",
       "      <td>0</td>\n",
       "      <td>1</td>\n",
       "      <td>2</td>\n",
       "      <td>1</td>\n",
       "      <td>0</td>\n",
       "      <td>2</td>\n",
       "      <td>2</td>\n",
       "      <td>0</td>\n",
       "      <td>2</td>\n",
       "      <td>3</td>\n",
       "      <td>...</td>\n",
       "      <td>False</td>\n",
       "      <td>True</td>\n",
       "      <td>False</td>\n",
       "      <td>False</td>\n",
       "      <td>False</td>\n",
       "      <td>False</td>\n",
       "      <td>False</td>\n",
       "      <td>False</td>\n",
       "      <td>True</td>\n",
       "      <td>False</td>\n",
       "    </tr>\n",
       "    <tr>\n",
       "      <th>...</th>\n",
       "      <td>...</td>\n",
       "      <td>...</td>\n",
       "      <td>...</td>\n",
       "      <td>...</td>\n",
       "      <td>...</td>\n",
       "      <td>...</td>\n",
       "      <td>...</td>\n",
       "      <td>...</td>\n",
       "      <td>...</td>\n",
       "      <td>...</td>\n",
       "      <td>...</td>\n",
       "      <td>...</td>\n",
       "      <td>...</td>\n",
       "      <td>...</td>\n",
       "      <td>...</td>\n",
       "      <td>...</td>\n",
       "      <td>...</td>\n",
       "      <td>...</td>\n",
       "      <td>...</td>\n",
       "      <td>...</td>\n",
       "      <td>...</td>\n",
       "    </tr>\n",
       "    <tr>\n",
       "      <th>795</th>\n",
       "      <td>3</td>\n",
       "      <td>0</td>\n",
       "      <td>2</td>\n",
       "      <td>1</td>\n",
       "      <td>4</td>\n",
       "      <td>1</td>\n",
       "      <td>1</td>\n",
       "      <td>0</td>\n",
       "      <td>4</td>\n",
       "      <td>3</td>\n",
       "      <td>...</td>\n",
       "      <td>False</td>\n",
       "      <td>False</td>\n",
       "      <td>False</td>\n",
       "      <td>False</td>\n",
       "      <td>False</td>\n",
       "      <td>False</td>\n",
       "      <td>False</td>\n",
       "      <td>True</td>\n",
       "      <td>False</td>\n",
       "      <td>False</td>\n",
       "    </tr>\n",
       "    <tr>\n",
       "      <th>796</th>\n",
       "      <td>0</td>\n",
       "      <td>0</td>\n",
       "      <td>0</td>\n",
       "      <td>0</td>\n",
       "      <td>0</td>\n",
       "      <td>4</td>\n",
       "      <td>3</td>\n",
       "      <td>0</td>\n",
       "      <td>4</td>\n",
       "      <td>0</td>\n",
       "      <td>...</td>\n",
       "      <td>False</td>\n",
       "      <td>False</td>\n",
       "      <td>False</td>\n",
       "      <td>False</td>\n",
       "      <td>False</td>\n",
       "      <td>False</td>\n",
       "      <td>False</td>\n",
       "      <td>False</td>\n",
       "      <td>False</td>\n",
       "      <td>True</td>\n",
       "    </tr>\n",
       "    <tr>\n",
       "      <th>797</th>\n",
       "      <td>3</td>\n",
       "      <td>1</td>\n",
       "      <td>1</td>\n",
       "      <td>1</td>\n",
       "      <td>0</td>\n",
       "      <td>1</td>\n",
       "      <td>1</td>\n",
       "      <td>0</td>\n",
       "      <td>2</td>\n",
       "      <td>2</td>\n",
       "      <td>...</td>\n",
       "      <td>False</td>\n",
       "      <td>False</td>\n",
       "      <td>False</td>\n",
       "      <td>False</td>\n",
       "      <td>False</td>\n",
       "      <td>False</td>\n",
       "      <td>False</td>\n",
       "      <td>False</td>\n",
       "      <td>True</td>\n",
       "      <td>False</td>\n",
       "    </tr>\n",
       "    <tr>\n",
       "      <th>798</th>\n",
       "      <td>0</td>\n",
       "      <td>1</td>\n",
       "      <td>2</td>\n",
       "      <td>0</td>\n",
       "      <td>0</td>\n",
       "      <td>0</td>\n",
       "      <td>4</td>\n",
       "      <td>0</td>\n",
       "      <td>2</td>\n",
       "      <td>1</td>\n",
       "      <td>...</td>\n",
       "      <td>False</td>\n",
       "      <td>True</td>\n",
       "      <td>False</td>\n",
       "      <td>False</td>\n",
       "      <td>False</td>\n",
       "      <td>False</td>\n",
       "      <td>False</td>\n",
       "      <td>False</td>\n",
       "      <td>True</td>\n",
       "      <td>False</td>\n",
       "    </tr>\n",
       "    <tr>\n",
       "      <th>799</th>\n",
       "      <td>2</td>\n",
       "      <td>1</td>\n",
       "      <td>2</td>\n",
       "      <td>1</td>\n",
       "      <td>0</td>\n",
       "      <td>2</td>\n",
       "      <td>4</td>\n",
       "      <td>1</td>\n",
       "      <td>2</td>\n",
       "      <td>3</td>\n",
       "      <td>...</td>\n",
       "      <td>False</td>\n",
       "      <td>True</td>\n",
       "      <td>False</td>\n",
       "      <td>False</td>\n",
       "      <td>False</td>\n",
       "      <td>False</td>\n",
       "      <td>False</td>\n",
       "      <td>False</td>\n",
       "      <td>True</td>\n",
       "      <td>False</td>\n",
       "    </tr>\n",
       "  </tbody>\n",
       "</table>\n",
       "<p>800 rows × 31 columns</p>\n",
       "</div>"
      ],
      "text/plain": [
       "     status  duration  credit_hist  credit_amt  savings  employment  \\\n",
       "0         3         1            2           0        4           3   \n",
       "1         3         0            2           1        4           4   \n",
       "2         2         1            2           1        1           2   \n",
       "3         0         0            2           0        2           0   \n",
       "4         0         1            2           1        0           2   \n",
       "..      ...       ...          ...         ...      ...         ...   \n",
       "795       3         0            2           1        4           1   \n",
       "796       0         0            0           0        0           4   \n",
       "797       3         1            1           1        0           1   \n",
       "798       0         1            2           0        0           0   \n",
       "799       2         1            2           1        0           2   \n",
       "\n",
       "     install_rate  debtors  residence  property  ...  purpose_A42  \\\n",
       "0               4        0          4         2  ...        False   \n",
       "1               4        0          3         1  ...        False   \n",
       "2               1        0          1         1  ...        False   \n",
       "3               1        0          2         2  ...        False   \n",
       "4               2        0          2         3  ...        False   \n",
       "..            ...      ...        ...       ...  ...          ...   \n",
       "795             1        0          4         3  ...        False   \n",
       "796             3        0          4         0  ...        False   \n",
       "797             1        0          2         2  ...        False   \n",
       "798             4        0          2         1  ...        False   \n",
       "799             4        1          2         3  ...        False   \n",
       "\n",
       "     purpose_A43  purpose_A44  purpose_A45  purpose_A46  purpose_A48  \\\n",
       "0          False        False        False        False        False   \n",
       "1          False        False        False        False        False   \n",
       "2          False        False        False        False        False   \n",
       "3          False        False        False        False        False   \n",
       "4           True        False        False        False        False   \n",
       "..           ...          ...          ...          ...          ...   \n",
       "795        False        False        False        False        False   \n",
       "796        False        False        False        False        False   \n",
       "797        False        False        False        False        False   \n",
       "798         True        False        False        False        False   \n",
       "799         True        False        False        False        False   \n",
       "\n",
       "     purpose_A49  housing_A151  housing_A152  housing_A153  \n",
       "0          False          True         False         False  \n",
       "1          False         False          True         False  \n",
       "2          False         False          True         False  \n",
       "3          False          True         False         False  \n",
       "4          False         False          True         False  \n",
       "..           ...           ...           ...           ...  \n",
       "795        False          True         False         False  \n",
       "796        False         False         False          True  \n",
       "797        False         False          True         False  \n",
       "798        False         False          True         False  \n",
       "799        False         False          True         False  \n",
       "\n",
       "[800 rows x 31 columns]"
      ]
     },
     "execution_count": 5,
     "metadata": {},
     "output_type": "execute_result"
    }
   ],
   "source": [
    "X_train"
   ]
  },
  {
   "cell_type": "code",
   "execution_count": 6,
   "metadata": {},
   "outputs": [],
   "source": [
    "duplicates = 1\n",
    "make_duplicates = lambda x, d: pd.concat([x]*d, axis=0).reset_index(drop=True)\n",
    "X_train = make_duplicates(X_train, duplicates)\n",
    "X_test = make_duplicates(X_test, duplicates)\n",
    "y_train = make_duplicates(y_train, duplicates)\n",
    "y_test = make_duplicates(y_test, duplicates)"
   ]
  },
  {
   "cell_type": "code",
   "execution_count": 7,
   "metadata": {},
   "outputs": [],
   "source": [
    "#list of solution times\n",
    "sol_time = []"
   ]
  },
  {
   "cell_type": "code",
   "execution_count": 8,
   "metadata": {},
   "outputs": [],
   "source": [
    "import copy\n",
    "X_train_orig = copy.deepcopy(X_train)\n",
    "X_test_orig = copy.deepcopy(X_test)\n",
    "\n",
    "from sklearn.preprocessing import StandardScaler\n",
    "sc = StandardScaler()\n",
    "X_train = sc.fit_transform(X_train)\n",
    "X_test = sc.transform(X_test)"
   ]
  },
  {
   "cell_type": "code",
   "execution_count": 9,
   "metadata": {},
   "outputs": [],
   "source": [
    "clf = eval(clf_name)(input_size=X_train.shape[-1])\n",
    "\n",
    "num_params = len(convert_grad_to_ndarray(list(clf.parameters())))\n",
    "if isinstance(clf, Logistic_Regression):\n",
    "    loss_func = logistic_loss_torch\n",
    "elif isinstance(clf, SVM):\n",
    "    loss_func = svm_loss_torch\n",
    "elif isinstance(clf, NeuralNetwork):\n",
    "    loss_func = nn_loss_torch\n",
    "else:\n",
    "    raise NotImplementedError"
   ]
  },
  {
   "cell_type": "code",
   "execution_count": 10,
   "metadata": {},
   "outputs": [
    {
     "name": "stdout",
     "output_type": "stream",
     "text": [
      "Initial statistical parity:  -0.09527579839341338\n",
      "Initial TPR parity:  -0.07785149414194836\n",
      "Initial predictive parity:  -0.10136869475949661\n",
      "Initial accuracy:  0.755\n"
     ]
    }
   ],
   "source": [
    "clf = eval(clf_name)(input_size=X_train.shape[-1])\n",
    "\n",
    "clf.fit(X_train, y_train)\n",
    "\n",
    "y_pred_test = clf.predict_proba(X_test)\n",
    "y_pred_train = clf.predict_proba(X_train)\n",
    "\n",
    "spd_0 = computeFairness(y_pred_test, X_test_orig, y_test, 0, dataset)\n",
    "print(\"Initial statistical parity: \", spd_0)\n",
    "\n",
    "tpr_parity_0 = computeFairness(y_pred_test, X_test_orig, y_test, 1, dataset)\n",
    "print(\"Initial TPR parity: \", tpr_parity_0)\n",
    "\n",
    "predictive_parity_0 = computeFairness(y_pred_test, X_test_orig, y_test, 2, dataset)\n",
    "print(\"Initial predictive parity: \", predictive_parity_0)\n",
    "\n",
    "accuracy_0 = computeAccuracy(y_test, y_pred_test)\n",
    "print(\"Initial accuracy: \", accuracy_0)"
   ]
  },
  {
   "cell_type": "markdown",
   "metadata": {},
   "source": [
    "<h4>Calculate Influence of original datapoints with original labels<h4>"
   ]
  },
  {
   "cell_type": "code",
   "execution_count": 11,
   "metadata": {},
   "outputs": [],
   "source": [
    "if_start = time.time()\n",
    "metric_val = [spd_0, tpr_parity_0, predictive_parity_0][metric]\n",
    "del_F_del_theta = get_del_F_del_theta(clf, X_test_orig, X_test, y_test, dataset, metric)"
   ]
  },
  {
   "cell_type": "code",
   "execution_count": 12,
   "metadata": {},
   "outputs": [
    {
     "name": "stdout",
     "output_type": "stream",
     "text": [
      "-0.09527579839341338\n"
     ]
    }
   ],
   "source": [
    "print(metric_val)"
   ]
  },
  {
   "cell_type": "code",
   "execution_count": 13,
   "metadata": {},
   "outputs": [
    {
     "name": "stderr",
     "output_type": "stream",
     "text": [
      "100%|██████████| 800/800 [00:13<00:00, 60.60it/s]\n"
     ]
    }
   ],
   "source": [
    "hessian_all_points = get_hessian_all_points(clf, X_train, y_train, loss_func)"
   ]
  },
  {
   "cell_type": "code",
   "execution_count": 14,
   "metadata": {},
   "outputs": [
    {
     "data": {
      "text/plain": [
       "'\\n\\nCompute the offline and online times for the influence functions\\nOffline: Time taken for Hessian Computation\\nOnline: Time taken to compute influence for each of the datapoints\\n\\nBreak this down in the time graph; rather than showing just the total time taken for influence flipping\\nBreak it down by offline and online\\n\\n'"
      ]
     },
     "execution_count": 14,
     "metadata": {},
     "output_type": "execute_result"
    }
   ],
   "source": [
    "'''\n",
    "\n",
    "Compute the offline and online times for the influence functions\n",
    "Offline: Time taken for Hessian Computation\n",
    "Online: Time taken to compute influence for each of the datapoints\n",
    "\n",
    "Break this down in the time graph; rather than showing just the total time taken for influence flipping\n",
    "Break it down by offline and online\n",
    "\n",
    "'''"
   ]
  },
  {
   "cell_type": "code",
   "execution_count": 15,
   "metadata": {},
   "outputs": [],
   "source": [
    "del_L_del_theta = get_del_L_del_theta(clf, X_train, y_train, loss_func)"
   ]
  },
  {
   "cell_type": "code",
   "execution_count": 16,
   "metadata": {},
   "outputs": [],
   "source": [
    "hinv_v, hinv = get_hinv_v(hessian_all_points, np.transpose(del_L_del_theta))\n",
    "#incorporate del_l_del_theta_i with the updated datapoint"
   ]
  },
  {
   "cell_type": "code",
   "execution_count": 17,
   "metadata": {},
   "outputs": [],
   "source": [
    "#multiple the inverse by -1\n",
    "negative_hinv_v = -1*hinv_v"
   ]
  },
  {
   "cell_type": "code",
   "execution_count": 18,
   "metadata": {},
   "outputs": [],
   "source": [
    "inf = np.matmul(np.transpose(negative_hinv_v), del_F_del_theta)\n",
    "#For the new datapoint re-calculate the hinv_v"
   ]
  },
  {
   "cell_type": "markdown",
   "metadata": {},
   "source": [
    "<h4>Calculated flipped the Normal way<h4>"
   ]
  },
  {
   "cell_type": "code",
   "execution_count": 19,
   "metadata": {},
   "outputs": [],
   "source": [
    "#Flip all the labels for the encoded data and the scaled data\n",
    "#The labels are the same just the training data looks different \n",
    "y_train_changed = y_train.replace({0:1,1:0})\n",
    "#y_test_changed = y_test.replace({0:1,1:0})"
   ]
  },
  {
   "cell_type": "code",
   "execution_count": 20,
   "metadata": {},
   "outputs": [],
   "source": [
    "clf = eval(clf_name)(input_size=X_train.shape[-1])\n",
    "\n",
    "num_params = len(convert_grad_to_ndarray(list(clf.parameters())))\n",
    "if isinstance(clf, Logistic_Regression):\n",
    "    loss_func = logistic_loss_torch\n",
    "elif isinstance(clf, SVM):\n",
    "    loss_func = svm_loss_torch\n",
    "elif isinstance(clf, NeuralNetwork):\n",
    "    loss_func = nn_loss_torch\n",
    "else:\n",
    "    raise NotImplementedError"
   ]
  },
  {
   "cell_type": "code",
   "execution_count": 21,
   "metadata": {},
   "outputs": [
    {
     "name": "stdout",
     "output_type": "stream",
     "text": [
      "Initial statistical parity:  0.09501853685360401\n",
      "Initial TPR parity:  0.07762472527187081\n",
      "Initial predictive parity:  -0.10818301552416576\n",
      "Initial accuracy:  0.245\n"
     ]
    }
   ],
   "source": [
    "clf = eval(clf_name)(input_size=X_train.shape[-1])\n",
    "\n",
    "clf.fit(X_train, y_train_changed)\n",
    "\n",
    "y_pred_test = clf.predict_proba(X_test)\n",
    "y_pred_train = clf.predict_proba(X_train)\n",
    "\n",
    "spd_1 = computeFairness(y_pred_test, X_test_orig, y_test, 0, dataset)\n",
    "print(\"Initial statistical parity: \", spd_1)\n",
    "\n",
    "tpr_parity_0 = computeFairness(y_pred_test, X_test_orig, y_test, 1, dataset)\n",
    "print(\"Initial TPR parity: \", tpr_parity_0)\n",
    "\n",
    "predictive_parity_0 = computeFairness(y_pred_test, X_test_orig, y_test, 2, dataset)\n",
    "print(\"Initial predictive parity: \", predictive_parity_0)\n",
    "\n",
    "accuracy_0 = computeAccuracy(y_test, y_pred_test)\n",
    "print(\"Initial accuracy: \", accuracy_0)"
   ]
  },
  {
   "cell_type": "code",
   "execution_count": 22,
   "metadata": {},
   "outputs": [],
   "source": [
    "if_start = time.time()\n",
    "metric_val = [spd_1, tpr_parity_0, predictive_parity_0][metric]\n",
    "del_F_del_theta_2 = get_del_F_del_theta(clf, X_test_orig, X_test, y_test, dataset, metric)"
   ]
  },
  {
   "cell_type": "code",
   "execution_count": 23,
   "metadata": {},
   "outputs": [
    {
     "name": "stderr",
     "output_type": "stream",
     "text": [
      "100%|██████████| 800/800 [00:13<00:00, 59.48it/s]\n"
     ]
    }
   ],
   "source": [
    "hessian_all_points = get_hessian_all_points(clf, X_train, y_train_changed, loss_func)"
   ]
  },
  {
   "cell_type": "code",
   "execution_count": 24,
   "metadata": {},
   "outputs": [
    {
     "data": {
      "text/plain": [
       "'\\n\\nCompute the offline and online times for the influence functions\\nOffline: Time taken for Hessian Computation\\nOnline: Time taken to compute influence for each of the datapoints\\n\\nBreak this down in the time graph; rather than showing just the total time taken for influence flipping\\nBreak it down by offline and online\\n\\n'"
      ]
     },
     "execution_count": 24,
     "metadata": {},
     "output_type": "execute_result"
    }
   ],
   "source": [
    "'''\n",
    "\n",
    "Compute the offline and online times for the influence functions\n",
    "Offline: Time taken for Hessian Computation\n",
    "Online: Time taken to compute influence for each of the datapoints\n",
    "\n",
    "Break this down in the time graph; rather than showing just the total time taken for influence flipping\n",
    "Break it down by offline and online\n",
    "\n",
    "'''"
   ]
  },
  {
   "cell_type": "code",
   "execution_count": 25,
   "metadata": {},
   "outputs": [],
   "source": [
    "del_L_del_theta = get_del_L_del_theta(clf, X_train, y_train_changed, loss_func)"
   ]
  },
  {
   "cell_type": "code",
   "execution_count": 26,
   "metadata": {},
   "outputs": [],
   "source": [
    "hinv_v_2, hinv_2 = get_hinv_v(hessian_all_points, np.transpose(del_L_del_theta))\n",
    "#incorporate del_l_del_theta_i with the updated datapoint"
   ]
  },
  {
   "cell_type": "code",
   "execution_count": 27,
   "metadata": {},
   "outputs": [],
   "source": [
    "negative_hinv_v = -1*hinv_v_2"
   ]
  },
  {
   "cell_type": "code",
   "execution_count": 28,
   "metadata": {},
   "outputs": [],
   "source": [
    "inf2 = np.matmul(np.transpose(negative_hinv_v), del_F_del_theta_2)\n",
    "#For the new datapoint re-calculate the hinv_v"
   ]
  },
  {
   "cell_type": "markdown",
   "metadata": {},
   "source": [
    "<h4>Calculate the difference between the changed vs original<h4>"
   ]
  },
  {
   "cell_type": "code",
   "execution_count": 29,
   "metadata": {},
   "outputs": [],
   "source": [
    "#Apply the multiplication of -1/n of the dataset for both influence lists\n",
    "#Length of the dataset\n",
    "n = len(X_test) + len(X_train)\n",
    "#Influence of original datapoints\n",
    "og_inf =(-1/n)*inf\n",
    "#Influence of altered datapoints\n",
    "changed_inf = (-1/n)*inf2"
   ]
  },
  {
   "cell_type": "code",
   "execution_count": 30,
   "metadata": {},
   "outputs": [],
   "source": [
    "#do the math in one whole step here \n",
    "total_inf2 = ((-1*1/n)*np.matmul(np.transpose(-1*hinv_v_2),del_F_del_theta_2)) - ((-1*1/n)*(np.matmul(np.transpose(-1*hinv_v),del_F_del_theta)))"
   ]
  },
  {
   "cell_type": "code",
   "execution_count": 31,
   "metadata": {},
   "outputs": [],
   "source": [
    "total_inf = changed_inf-og_inf\n",
    "if_end = time.time()\n",
    "if_time1 = if_start - if_end"
   ]
  },
  {
   "cell_type": "code",
   "execution_count": 32,
   "metadata": {},
   "outputs": [
    {
     "name": "stdout",
     "output_type": "stream",
     "text": [
      "0.009555880058520476\n",
      "-0.005134349009965776\n",
      "800\n",
      "<class 'numpy.ndarray'>\n",
      "float64\n"
     ]
    }
   ],
   "source": [
    "print(max(total_inf))\n",
    "print(min(total_inf))\n",
    "print(len(total_inf))\n",
    "print(type(total_inf))\n",
    "print(total_inf.dtype)"
   ]
  },
  {
   "cell_type": "code",
   "execution_count": 33,
   "metadata": {},
   "outputs": [
    {
     "name": "stdout",
     "output_type": "stream",
     "text": [
      "0.009555880058520476\n",
      "-0.005134349009965776\n",
      "800\n",
      "<class 'numpy.ndarray'>\n",
      "float64\n"
     ]
    }
   ],
   "source": [
    "print(max(total_inf2))\n",
    "print(min(total_inf2))\n",
    "print(len(total_inf2))\n",
    "print(type(total_inf2))\n",
    "print(total_inf2.dtype)"
   ]
  },
  {
   "cell_type": "markdown",
   "metadata": {},
   "source": [
    "<h4>Flip the datapoints and remove the datapoints and compare the parity values<h4>"
   ]
  },
  {
   "cell_type": "code",
   "execution_count": 34,
   "metadata": {},
   "outputs": [],
   "source": [
    "\n",
    "predictors = ['status', 'duration', 'credit_hist', 'credit_amt', 'savings',\n",
    "       'employment', 'install_rate', 'debtors', 'residence', 'property', 'age',\n",
    "       'install_plans', 'num_credits', 'job', 'num_liable', 'telephone',\n",
    "       'foreign_worker', 'gender', 'purpose_A40', 'purpose_A41',\n",
    "       'purpose_A410', 'purpose_A42', 'purpose_A43', 'purpose_A44',\n",
    "       'purpose_A45', 'purpose_A46', 'purpose_A48', 'purpose_A49',\n",
    "       'housing_A151', 'housing_A152', 'housing_A153']\n",
    "target_var =['credit_risk']"
   ]
  },
  {
   "cell_type": "code",
   "execution_count": 35,
   "metadata": {},
   "outputs": [],
   "source": [
    "#Function to run the logistic regression model based on classifier.py\n",
    "def lr_model(training_df, test_attr_df, classifier):\n",
    "    changed_df_labels = training_df.pop('credit_risk')\n",
    "    changed_df_attr = training_df.to_numpy()\n",
    "\n",
    "    classifier.fit(changed_df_attr,changed_df_labels.values)\n",
    "    y_predicted = classifier.predict_proba(test_attr_df)\n",
    "\n",
    "    training_df['credit_risk'] = changed_df_labels\n",
    "\n",
    "    return y_predicted\n"
   ]
  },
  {
   "cell_type": "code",
   "execution_count": 36,
   "metadata": {},
   "outputs": [],
   "source": [
    "#Combine x_train and y_train\n",
    "#I combine these so that when I flip the labels I have one DF that I work with\n",
    "#Rather than 2 numpy.ndarrays\n",
    "train_demo_df = pd.DataFrame(X_train, columns = predictors)\n",
    "train_outcome_df = y_train.to_frame()\n",
    "train_outcome_df=train_outcome_df.rename(columns={'credit':'credit_risk'})\n",
    "train_full_df = pd.concat([train_demo_df, train_outcome_df], axis=1)"
   ]
  },
  {
   "cell_type": "code",
   "execution_count": 37,
   "metadata": {},
   "outputs": [],
   "source": [
    "#Removal \n",
    "copy_train = train_full_df.copy()\n",
    "difference = []\n",
    "\n",
    "for index in copy_train.index:\n",
    "    df_dropped = copy_train.copy()\n",
    "    df_dropped = copy_train.drop(index)\n",
    "    #Run lr_model() to get predicted probabilities\n",
    "    ypred = lr_model(df_dropped, X_test, clf)\n",
    "    parity = computeFairness(ypred, X_test_orig, y_test, 0, dataset)\n",
    "    \n",
    "    parity = parity-spd_0\n",
    "\n",
    "    difference.append(parity)\n",
    "#This does not fall under the measuring the time taken to decide how long it will take for IF to work "
   ]
  },
  {
   "cell_type": "code",
   "execution_count": 38,
   "metadata": {},
   "outputs": [],
   "source": [
    "#Flipping\n",
    "#Make the original flips to test for the parity after each flip \n",
    "actual_df_train = train_full_df.copy()\n",
    "actual_parity_list = []\n",
    "\n",
    "for index, row in actual_df_train.iterrows():\n",
    "    if row['credit_risk'] == 1:\n",
    "        #Flip the label at credit_risk = 1 to 0\n",
    "        actual_df_train.at[index,'credit_risk'] = 0\n",
    "        actual_pred = lr_model(actual_df_train, X_test, clf)\n",
    "        actual_parity = computeFairness(actual_pred, X_test_orig, y_test, 0, dataset)\n",
    "        actual_parity_list.append(actual_parity)\n",
    "        actual_df_train.at[index,'credit_risk'] = 1\n",
    "        \n",
    "    elif row['credit_risk'] == 0:\n",
    "        actual_df_train.at[index,'credit_risk'] = 1\n",
    "        actual_pred = lr_model(actual_df_train, X_test, clf)\n",
    "        actual_parity = computeFairness(actual_pred, X_test_orig, y_test, 0, dataset)\n",
    "        actual_parity_list.append(actual_parity)\n",
    "        actual_df_train.at[index,'credit_risk'] = 0"
   ]
  },
  {
   "cell_type": "code",
   "execution_count": 39,
   "metadata": {},
   "outputs": [
    {
     "name": "stdout",
     "output_type": "stream",
     "text": [
      "[0.0002149403, -0.0012289269, -2.8318e-06, 0.0007372724, -0.0007326445, 2.2564e-06, 0.0001023724, 0.0002083344, 0.0019818815, -0.0009298976, 0.0004718955, -0.0001221884, 0.0018243271, 0.0029634867, -0.0015578186, -0.0015049971, -0.0009973385, -0.0013787451, 0.0025048967, 0.0004472225, 0.001720223, 0.0012149054, -0.0005824825, 0.000614704, 0.0011053901, -0.0013272512, 0.0012486251, -0.001480994, 0.0012312502, 0.0002952182, -0.0001989758, 0.0008943433, 0.0002230949, -0.0023627261, 0.0013655889, 0.0002217015, 0.0007713534, -0.0018216264, -0.0012865867, 0.0002892606, -0.000695576, 5.98549e-05, -0.0020228738, -0.0012336227, -0.0001107761, 0.0002906605, 0.0021359985, -0.0019512834, -1.15593e-05, 0.0001059044, 0.0003473159, 9.9761e-05, 0.0046527918, 0.0021149258, 0.0010550054, 0.0002199231, 0.0005246293, -0.0018819985, 0.0010500901, 0.0003996535, 0.0001140049, 0.0001116724, -0.0006535013, -0.0006324262, -0.0014425233, 1.0516e-05, 0.0017061766, 0.0005529694, 6.60478e-05, 0.0001941084, 7.7876e-06, 0.0002553259, -0.0009440287, 0.0001937949, -0.0009676898, 0.0005074064, -0.0021675622, 0.0007398502, 0.0001716001, 0.0011266996, 0.0026436068, -0.0001549384, -0.0013982515, 0.0017937027, 0.0012465606, -0.0007359462, -0.0007453709, 0.0002869404, -0.000682069, 0.0037233163, 0.0004361149, 0.0003359123, 0.0015248195, -9.80535e-05, -0.0013984261, 0.0005066628, 0.0002085124, -0.0006843057, 0.0017403231, -0.0013208385, -0.0013568155, 0.0002046084, -0.0018754025, 0.0013503669, 0.0028254057, 0.0001979997, -0.0005957844, 0.0003656078, 0.000248882, 0.0007345403, -0.0009155319, 0.000268617, 0.0022137787, -0.0010894054, -9.9465e-05, 9.92058e-05, -0.00170097, 0.0003088874, -0.0010399344, 0.0001007962, 0.0017973426, 0.0002566928, 0.0021349554, 0.0001870998, -0.0008141571, 0.0001353697, -0.0016430592, -0.0003537628, 0.0013755555, -0.002029287, 0.0019415729, 0.000425208, 0.0011066763, -0.0023957573, -0.0016180097, 0.0002859975, 0.0005992025, -0.0004457123, 0.0009090543, -0.0004230425, 0.0002859975, -0.0010850906, -0.0004013748, 0.0007456031, 0.0007061953, -0.0004592729, -0.0020445606, 0.0003095942, -0.0001703916, 0.0003350552, 0.0014507446, 0.0001084173, -0.0009837514, -0.0009997054, -0.0013399974, -0.0009631021, 1.94108e-05, 0.0003915485, 0.00042843, 0.0002872892, 0.0002971727, 0.0043298871, -0.0007421625, -0.0025107216, -0.0005974822, -0.0004853427, 0.0007344075, -0.0019603337, -0.0011268469, -0.0006049048, -0.0015014831, 0.0001900167, 0.0004908498, 0.0009714108, -0.0006162843, -0.0024791953, 0.0014080331, -0.0005443496, -5.67469e-05, -7.14331e-05, -0.0002922648, 0.0007611739, -0.0014125923, -0.001033659, -0.0013264547, 0.0022021214, -0.0005771192, 0.0009954896, -0.0003485993, 0.0006254199, 0.0002084566, -0.0005730666, 0.0016726727, 0.0001383247, -0.001301131, -0.0013150611, -0.0036160008, 0.0009356772, 0.0095558801, 0.0003123707, 0.0003544839, 0.0004892188, -0.003143067, 6.6693e-05, -0.0009859542, 0.0002594264, 7.92215e-05, -0.0008645428, -0.0005829596, 0.0004806921, -0.0007785183, -3.48759e-05, -0.0011006939, 0.00067216, -0.0006243724, 0.0022611437, -0.0015386007, -0.0006604015, 6.46106e-05, -0.000106931, 0.001242734, 0.001126983, -0.0001001151, 0.0014717377, 0.0016955123, -0.0010343291, 4.33e-07, 0.0008381181, -0.0001667271, 8.09346e-05, -0.0022081801, 0.0037809808, -0.0019040687, -0.0038298691, 9.94294e-05, 0.0008945558, -0.0008578136, -0.0008159372, 0.0031937761, 0.0024332831, 0.0006005333, -0.0038174237, -0.0028226872, -3.5986e-05, 0.0006896625, 0.0007812727, -2.96424e-05, 0.0021452361, 0.0004022557, 0.0002862015, 0.0001219405, -0.0013066001, -0.0047634042, 8.61335e-05, -0.0009653339, -5.93491e-05, -0.0001423913, -0.0004215873, -9.40813e-05, 0.000942743, 0.0003011826, 0.0004217777, 0.000321512, 0.0008897511, 0.0009030431, 0.0022670889, -0.0033044363, 0.00027895, -0.0021481887, 0.0001606363, 0.0012211378, 0.0001194525, 0.0018195662, 6.55091e-05, -0.000127232, -0.0019125688, 0.000261693, 0.0001270201, -0.0008846535, -0.0013926868, -0.0005794541, -0.000685047, -0.0021227526, 3.4624e-06, 0.0001764419, -0.0013069889, 0.0001503377, 0.0020600721, -0.0009906106, 0.0038574956, -2.63091e-05, -0.0005127895, 0.0018055548, -9.58896e-05, -0.0008096799, 0.0012919973, -0.0019290767, 4.30877e-05, 0.0018653414, 0.0006643917, -0.0014549927, -0.0021385055, -0.0003355136, -0.0006733067, 8.5967e-06, -0.0001276111, -0.0014875477, 0.0011766723, 0.0007213483, 0.00095923, -5.9368e-05, -0.0009712089, 0.000888653, -0.0016424956, 0.0015803361, -0.0002614587, 0.0002340383, -0.0011269396, 0.0003256504, 0.0020946089, 0.0003080282, 0.0010198881, 2.80555e-05, 0.0001664483, 0.0005885024, -0.0004852245, 0.0018750504, -0.0012732288, -0.0021711647, -0.0006477602, -0.0033347429, 0.0013620752, 0.0002123696, -0.0017170192, 0.000171085, 0.0007776693, 0.0001188039, -0.0008912567, -0.0024276098, 0.0005713573, -0.0017467692, 0.0003588005, -0.005134349, 0.000876675, -0.0022028925, 0.0006834908, 0.0003514899, 0.0002327147, 0.0009351151, -0.0040738948, 0.0045844671, 0.0012678379, -7.42545e-05, -0.0021200234, -0.0034979744, -0.0008442182, -0.0020085422, -0.001334111, 0.0002704603, 0.0020923987, 0.0004712464, 1.6234e-05, -4.81157e-05, 0.0002227164, -0.0009822626, 0.0010489048, 0.0005165873, 0.0019895409, 0.0004478651, -0.0008473373, -0.001140145, -0.0029202404, -3.42376e-05, 0.0011876894, -0.0045071653, 0.0010572853, -0.0045936596, 0.0003059715, 0.0024225692, 0.0002713211, 0.0002496865, -0.0013117119, 0.000132717, 0.0003229444, 0.0007977912, 0.0008968708, 0.0038921005, 0.0001839471, 0.0001132555, 0.0005839473, -0.0031092806, -0.0002226961, -0.0007182574, 0.0011428491, -0.000743239, 1.8681e-06, 0.0002669697, 0.0003311603, 0.0036968252, -0.0014224285, -0.0008281169, 0.0007651449, -0.0010419634, 0.0003505404, 0.000456521, 0.0044797323, -0.0003958423, 0.0006833957, 4.93742e-05, -0.0006145641, 0.0010593895, -0.0011200048, 0.0022559224, 0.0012302639, -0.0008322133, 0.0004606986, 0.0004328266, 0.0002641045, 0.0006023878, -0.0005844432, -0.0009188858, 7.68188e-05, 0.0004578814, 0.0073383923, 0.0001045872, -0.0007526649, 0.0006717261, -0.0006017025, -0.003091772, 0.0049617131, -0.0032551027, 0.0004251026, -0.0018936244, -0.0001503029, -0.0004689004, -0.0010494009, 0.0012482013, 0.0003424588, 0.0001269714, -0.0008679205, 0.0004050079, -0.0012320255, -0.001090758, -6.8768e-06, -0.0027302405, -0.0005374151, -0.0003308693, 9.8e-06, 0.0005200665, 3.74364e-05, 0.0016777778, -0.0013061734, -0.0005997482, -0.0007315383, 0.0008130547, 0.0004466668, 0.000906232, 5.01807e-05, -0.0002577445, 0.0003365631, 8.59532e-05, -4.46974e-05, -0.0026193724, -0.0006911977, -0.0003971429, 0.0014086464, -0.0005546599, -0.0001401678, -0.0004768885, -0.0025262532, -0.0016265609, 0.0006452972, -0.0013187906, 0.0027187368, -6.39823e-05, 0.0024527503, 0.0002389244, -0.0011160048, 0.001043155, -0.0022375356, 0.0001826098, 0.0001703297, 0.0006070624, 0.0004108479, -0.0015512279, -2.60729e-05, 0.0004868943, 0.002680963, -3.802e-05, 0.000573793, 0.0004950013, 0.0004328123, -0.0013782789, 0.0015440813, -0.0009090893, 0.0011760396, -0.0003190963, -0.0001153029, -0.0014764119, 0.0008275912, -0.000510346, 0.0003148797, 3.23969e-05, -0.0018945214, 0.0012057425, -0.0031165804, -0.0049762825, 0.0001188498, 0.0029971287, 0.0001681413, -0.0009291172, -0.0008230272, 0.0006353315, 0.0002549065, 0.0009487271, 0.0008329093, -0.0008387463, -0.0003135899, -0.0001055901, -5.45506e-05, 0.0015022209, -0.0010488669, 0.0020705985, -0.0003556488, -0.0029035771, 0.0009430757, -0.0019924737, 0.0002882516, 0.00078558, 0.0001504644, -0.0021416402, -0.0007728952, 5.57164e-05, 0.0003450749, 0.0006734239, -0.0012728835, 0.0004800209, -0.0015662592, 0.0004546679, -0.0003457578, 0.0007540588, 0.0001635042, 0.0028129725, -0.0012306166, 5.50917e-05, -0.0008191775, 0.0012810006, -0.0031708812, 0.0015522366, 0.0013358733, -0.0006657733, -0.0002294364, 0.0019689774, 0.0057374111, 0.0005461154, 0.0002488242, -0.0015520572, -0.0003398891, -2.42004e-05, 0.0014403865, -0.0012620957, -0.0003134635, -0.0015456087, -0.0007312789, 0.0003584535, 0.0005952508, -7.40923e-05, -0.0020242575, -0.0011078145, -0.0011372115, 4.86441e-05, -0.0002878884, -0.001396451, 0.0004761827, 0.0011163415, -0.0004389436, 0.0004389482, -0.0001242875, -0.0006943185, 0.0001227019, -0.0005487739, 0.0005911659, -3.7314e-05, 0.0011507828, 0.0001073424, -0.0016404428, -0.0018281904, 0.0007872184, -0.0017241535, 0.0004988613, -3.65254e-05, 0.000263493, -0.0006591213, 0.0004199023, 0.0007075582, -0.0015521408, 0.0001775642, 0.0058618098, -0.0033763716, -0.0001212807, 8.40702e-05, 0.0006515222, 0.0007449655, 0.0011968034, -0.0018334491, -0.0002204646, 0.0005879344, -0.0007994293, -0.0033187976, -0.0015465682, -0.0020300047, 0.0004451787, 0.001194694, -0.0012138922, -0.0006098255, 0.000238447, -0.0015247584, 0.0008580386, -0.0017209766, 0.000271917, 0.0036405448, -0.0002905858, 0.0009744436, -0.0010247851, -0.0003281108, 0.0005896825, 0.0031326931, -0.0015373459, 0.0010413408, 0.0003489225, -0.0015225432, -0.0001617235, -0.0016882833, 0.001322492, 0.0003895559, 0.0005262869, -0.0048964187, -6.17001e-05, 4.34415e-05, 0.0016744814, 0.0015952038, 7.49349e-05, 0.0001730776, -2.51913e-05, -0.0008762871, -2.73611e-05, 0.0003504947, -0.0015420624, 0.0001252481, 0.0005608644, -0.0012054925, 0.0012253168, 0.0055476411, -0.0002446632, -0.0009096099, 4.94173e-05, -0.0010040118, 1.24963e-05, 0.0004193219, 0.0008742741, -0.0013458343, 0.0016517011, -0.0007076921, 0.0002522076, 0.0003775916, 6.10354e-05, 5.54888e-05, -0.0006973567, -0.0018303814, -0.0006673735, -0.0014089597, -0.0020741693, 0.0022520105, -0.0006830941, 0.0003867519, -0.00177605, -0.0012954057, 0.0003131768, 0.0005636738, -0.001384922, 0.0018703464, 0.0003300897, -0.0017984065, 0.0005047408, 0.0004532247, -0.0013017267, -0.000797023, 2.13648e-05, -0.0007086539, -0.0012441789, 0.005794259, 0.0015925396, 0.0003117722, 0.000319337, -0.0028672843, 0.0026751578, -0.0019161273, 0.0026663875, 0.0004572805, 0.0001597646, -0.0004746008, -0.0023038012, -4.70231e-05, -0.0010540775, -0.0003414114, 0.0007092105, -0.0007333623, -0.0002044645, -0.0006382275, 0.0001952133, 0.000867372, -0.0001249381, -3.34132e-05, -0.0012094619, 0.0008008923, 7.3747e-06, -0.0026701601, 9.2451e-05, -0.0008823608, -0.0010122825, 0.0016165436, 0.0004681462, 0.0001217903, 0.0003262179, -0.001407114, -0.0019940943, -0.0006423873, -0.0008297073, -0.0012946823, 0.0004458718, 0.000428326, 3.95672e-05, 0.0032316844, 0.0012086575, 0.0003848687, 6.24612e-05, 0.000841168, -0.0023976265, -2.3588e-05, 0.0037868531, -0.001736823, 0.0009715624, -0.0004279475, -0.0012686741, 0.0015925396, -0.0001481198, 0.0005995604, -0.0011955206, -0.0021162586, 0.0008599017, 0.0001693046, -0.0003132362, 0.0004662469, 0.0009357683, 0.0003221512, -0.0010367954, 0.0002686032, 0.0026330381, 0.0010810989, 0.0009795436, 0.0004108421, 0.0013533037, 0.0010927677, 6.90138e-05, 0.0008909477, -0.0010878373, 0.0006535749, 0.0003415887, -0.0003909758, -0.0001958343, 0.0047919769, 0.0021358104, -0.0021549528, 0.0001448355, -0.0002608091, 0.0013918641, 0.0011992802, -0.0011412423, -0.001671897, 0.0002877591, 0.000293293, -9.28797e-05, -0.001555402, 0.0004449134, 0.0002427668, 0.0001373287, -0.0005421323, -0.0013349569, -0.0015518712, 0.0005253001, 5.858e-05, 0.0008078775, -0.0031301823, -0.0003193691, 0.0001331064, -8.57627e-05, -0.0041032862, -0.0005989323, -4.36907e-05, 0.0006378774]\n"
     ]
    }
   ],
   "source": [
    "decimal_array = [format(num, '.10f') for num in total_inf2]\n",
    "decimal_array = [float(num) for num in decimal_array]\n",
    "print(decimal_array)"
   ]
  },
  {
   "cell_type": "code",
   "execution_count": 40,
   "metadata": {},
   "outputs": [
    {
     "data": {
      "image/png": "[encoded data removed]",
      "text/plain": [
       "<Figure size 640x480 with 1 Axes>"
      ]
     },
     "metadata": {},
     "output_type": "display_data"
    }
   ],
   "source": [
    "# Assuming your lists are named `predicted_diff` and `actual_diff`\n",
    "predicted_diff = decimal_array\n",
    "#actual_diff = actual_parity_list\n",
    "actual_diff = difference\n",
    "\n",
    "# Create the scatter plot\n",
    "plt.scatter(actual_diff, predicted_diff, label='Data Points')\n",
    "\n",
    "# Set the labels for the axes\n",
    "plt.xlabel('Actual Diff in Parity')\n",
    "plt.ylabel('Predicted Diff in Parity')\n",
    "\n",
    "# Set the title of the plot (optional)\n",
    "plt.title('Predicted vs Actual Diff in Parity (Removal)')\n",
    "\n",
    "# Add a legend\n",
    "plt.legend()\n",
    "\n",
    "# Show the plot\n",
    "plt.show()"
   ]
  },
  {
   "cell_type": "code",
   "execution_count": 41,
   "metadata": {},
   "outputs": [
    {
     "data": {
      "image/png": "[encoded data removed]",
      "text/plain": [
       "<Figure size 640x480 with 1 Axes>"
      ]
     },
     "metadata": {},
     "output_type": "display_data"
    }
   ],
   "source": [
    "# Assuming your lists are named `predicted_diff` and `actual_diff`\n",
    "predicted_diff = decimal_array\n",
    "actual_diff = actual_parity_list\n",
    "#actual_diff = difference\n",
    "\n",
    "# Create the scatter plot\n",
    "plt.scatter(actual_diff, predicted_diff, label='Data Points')\n",
    "\n",
    "# Set the labels for the axes\n",
    "plt.xlabel('Actual Diff in Parity')\n",
    "plt.ylabel('Predicted Diff in Parity')\n",
    "\n",
    "# Set the title of the plot (optional)\n",
    "plt.title('Predicted vs Actual Diff in Parity (Flipping)')\n",
    "\n",
    "# Add a legend\n",
    "plt.legend()\n",
    "\n",
    "# Show the plot\n",
    "plt.show()"
   ]
  },
  {
   "cell_type": "markdown",
   "metadata": {},
   "source": [
    "<h3>##########################################################################################<h3>"
   ]
  },
  {
   "cell_type": "markdown",
   "metadata": {},
   "source": [
    "<h4>Make flips based on the total_inf value<h4>"
   ]
  },
  {
   "cell_type": "code",
   "execution_count": 42,
   "metadata": {},
   "outputs": [],
   "source": [
    "if_start = time.time()\n",
    "index_list = []\n",
    "for i in range(800):\n",
    "    index_list.append(i)"
   ]
  },
  {
   "cell_type": "code",
   "execution_count": 43,
   "metadata": {},
   "outputs": [],
   "source": [
    "#Make a copy of the training data to make flips on \n",
    "influence_train_copy = train_full_df.copy()"
   ]
  },
  {
   "cell_type": "code",
   "execution_count": 44,
   "metadata": {},
   "outputs": [
    {
     "name": "stdout",
     "output_type": "stream",
     "text": [
      "-14.027283906936646\n"
     ]
    }
   ],
   "source": [
    "#Order the total_inf in descending order based on magnitude\n",
    "combined_list = list(zip(total_inf, index_list))\n",
    "\n",
    "# Step 2: Sort the combined list based on the float values\n",
    "sorted_combined_list = sorted(combined_list, key=lambda x: abs(x[0]), reverse=True)\n",
    "\n",
    "# Step 3: Unpack the sorted list of tuples back into two separate lists\n",
    "abs_sorted_float_list, abs_sorted_index_list = zip(*sorted_combined_list)\n",
    "list(abs_sorted_float_list)\n",
    "list(abs_sorted_index_list)\n",
    "#Measure up to here for the influence functions\n",
    "#This will tell us how long it takes for influence functions to determine which order I need to flip the datapoints in\n",
    "#if_time: Time taken to decide the order in which the datapoints need to be flipped\n",
    "if_end = time.time()\n",
    "if_time2 = if_end-if_start\n",
    "if_time2 += if_time1\n",
    "print(if_time2)"
   ]
  },
  {
   "cell_type": "code",
   "execution_count": 45,
   "metadata": {},
   "outputs": [],
   "source": [
    "if if_time2 < 0:\n",
    "    if_time2 = -1 * if_time2\n",
    "else: \n",
    "    pass"
   ]
  },
  {
   "cell_type": "code",
   "execution_count": 46,
   "metadata": {},
   "outputs": [
    {
     "name": "stdout",
     "output_type": "stream",
     "text": [
      "[-0.10218003829941158, -0.10753717408515506, -0.11207302426919341, -0.11622929121367631, -0.12125294948928056, -0.12659075628034766, -0.12146631106734274, -0.11644866191782055, -0.12104142797179518, -0.1164893473032862, -0.12095326432026932, -0.11600848273374142, -0.11992157571949069, -0.11489752717316148, -0.11907285400666301, -0.11389763019979005, -0.11768810139037666, -0.12249887776561075, -0.11609309962950642, -0.11294397045858207, -0.11619228292256589, -0.12109633637592188, -0.1169770409353077, -0.11235624370165176, -0.11716357958503065, -0.12069159834645693, -0.12367278481833643, -0.12866317806765437, -0.13226142982020983, -0.1275466285645962, -0.12188710179179907, -0.11724127796478567, -0.11432541268877683, -0.11111116143874822, -0.10591281647793949, -0.10112892487086356, -0.10429659229703248, -0.1083603295963258, -0.1055669744964689, -0.09946359787136316, -0.10397339044138787, -0.10118115912191572, -0.09581840732134883, -0.0916045515798033, -0.08911148649640388, -0.09173080394975841, -0.09513125559315094, -0.09229341810569158, -0.0868544954806566, -0.08208893518894911, -0.08515955908223993, -0.0795675144065171, -0.08330830419436097, -0.07838403945788741, -0.08096061795949927, -0.08498869733884928, -0.08834913442842662, -0.08261582180857652, -0.08507880843244497, -0.08776862397789953, -0.09050565026700497, -0.08843151535838834, -0.08656788431107998, -0.08287295470945533, -0.08496269448660321, -0.08233542256057258, -0.08480131891556086, -0.08710479373112323, -0.08225582703016698, -0.08610516828484827, -0.0812016143929214, -0.07632908914238212, -0.07425633324310188, -0.06855838536284864, -0.07255584020167594, -0.07559590982273223, -0.07800141973420982, -0.0801430749706924, -0.07716865511611104, -0.08040975020267072, -0.0772447959519923, -0.07218672456219788, -0.07421751096844675, -0.0718699448276311, -0.06659599146805706, -0.06422528885304923, -0.061067834869027116, -0.06561405686661592, -0.06310562780126927, -0.06006043883971879, -0.062215500092133835, -0.06676102206110957, -0.06909651812165973, -0.06729279099963603, -0.06440276056528094, -0.0617079958319664, -0.06367280604317782, -0.06767621766775844, -0.06927052447572346, -0.06442601731978359, -0.06658083656802771, -0.06972462250851097, -0.06585602941922841, -0.06424496686086056, -0.062141132354736284, -0.0561533416621387, -0.052982491068542026, -0.051016164897009664, -0.048419943451881386, -0.0433735969476402, -0.04574599717743688, -0.04849827587604516, -0.05104674859903746, -0.048247049329802394, -0.04623374301008887, -0.048312606709078, -0.04504926609806714, -0.04214676297269759, -0.037840326549485326, -0.03578613372519612, -0.03067237040959303, -0.027970629371702582, -0.025003521936014295, -0.021929626772180133, -0.02515465957112606, -0.027386462502181463, -0.029730115877464436, -0.026655703969299727, -0.02174230273813016, -0.020007109455764338, -0.02517725983634589, -0.020504409959539838, -0.023961052391678117, -0.026662862254306696, -0.023593805264681578, -0.025896631414070725, -0.028062595520168543, -0.023554008547216676, -0.021736193029209927, -0.024449606658890843, -0.02244555861689146, -0.017771307611837983, -0.010427053924650043, -0.0123997931368649, -0.007817437406629324, -0.009978181449696422, -0.008312951307743788, -0.010705190431326672, -0.009077569423243337, -0.011319831805303715, -0.013536568544805117, -0.014962997846305393, -0.013627421995624944, -0.0167870980687439, -0.0151372133754194, -0.01385913942940531, -0.010591679997742132, -0.008617021190002516, -0.0043067417573183775, -0.006260340008884646, -0.008085383800789714, -0.010191654087975621, -0.012280214065685913, -0.015327416872605637, -0.010964585654437586, -0.007984201330691554, -0.0025523905642330647, -0.0049033327028155105, -0.00344397025182841, -6.603687070305675e-05, 0.0017642602790147732, 0.005566777195781469, 0.010310330800712086, 0.015702296700328633, 0.013382417568936877, 0.015372113510966345, 0.01635929495096211, 0.01810225383378561, 0.016164671257138163, 0.019828992430120707, 0.02244119355455043, 0.024149273149669193, 0.02204222125001254, 0.023658913141116455, 0.02716360664926465, 0.02919062622822821, 0.030584851466119334, 0.02806507805362346, 0.03108313134871421, 0.02981893755495546, 0.03579688337631526, 0.03307368671521549, 0.03548286673612888, 0.039750034315511606, 0.04502178099937737, 0.041543663339689396, 0.03670591134577983, 0.03841881374828515, 0.04015713962726297, 0.0418761988636106, 0.04453263925388462, 0.045411077141761846, 0.04352825474925337, 0.04656600644811981, 0.05104978345334532, 0.05318971625529234, 0.05040299599058928, 0.04891939368098974, 0.04648215100169184, 0.04785976652055979, 0.04649767111986869, 0.044333046302199364, 0.04654830256477005, 0.04922215123660867, 0.04677127636969092, 0.05055912858806555, 0.05426022713072598, 0.05667478889226907, 0.057816961733624384, 0.05609386363066737, 0.05724327471107238, 0.05928607946261766, 0.060810779500752754, 0.06324053984135392, 0.06986043546348808, 0.07114781164564199, 0.07220211662352083, 0.07364318696782002, 0.0754459683317692, 0.08128482666797943, 0.08243412273004647, 0.08069336377084257, 0.08190945670939986, 0.07935080821625884, 0.08016694490797815, 0.08278678953647611, 0.0844105235766619, 0.08281194576993589, 0.0846937427762896, 0.08350526038557282, 0.08228803309611976, 0.08004305618815122, 0.081116411043331, 0.07834563637152314, 0.08045275034382937, 0.08238876843824983, 0.08090936876833443, 0.08227850198745734, 0.0806150445248931, 0.08586303815245622, 0.08473716680891819, 0.08215772160328927, 0.08036628752015529, 0.084596683923155, 0.08816120200790456, 0.0852818232960999, 0.08414618484675884, 0.08694962961599229, 0.08437485871836548, 0.08019420551136136, 0.08149834629148245, 0.07983654309064148, 0.07757451273500926, 0.07438145121559503, 0.07184459287673228, 0.0708181850612164, 0.06835339684039354, 0.07063282104209068, 0.07412585197016597, 0.07643098868429654, 0.0756018090061843, 0.0769231749698519, 0.08086953600868585, 0.07909884760156272, 0.08323394237086179, 0.08040807815268636, 0.08218238325789573, 0.08266604021191593, 0.08002641974017033, 0.07968601286411281, 0.08382495166733861, 0.08149678213521838, 0.08271734975278378, 0.08780119819566612, 0.08889276981353766, 0.09055241206660869, 0.08853135760873554, 0.0874208867549896, 0.08600444849580524, 0.08420586725696921, 0.08650678396224976, 0.08352908920496704, 0.0877740157768131, 0.08611822938546532, 0.08844063170254235, 0.08644254179671407, 0.08765873936936264, 0.08642519460991027, 0.09100792221724985, 0.09186921482905741, 0.09262695061042903, 0.09343469375744462, 0.09699482861906294, 0.09451549081131816, 0.0995615251362324, 0.10480386540293696, 0.10647584693506351, 0.10797817194834347, 0.10592877222225072, 0.10622881557792418, 0.10805762251839046, 0.11204123562201862, 0.1137828371487557, 0.11222885074093936, 0.11113168941810725, 0.10968893673270941, 0.10794433569535611, 0.10898539079353209, 0.11015345761552453, 0.11511956127360468, 0.11695122430101035, 0.11532971458509567, 0.11456376938149337, 0.11768400911241772, 0.11665887432172894, 0.11549835046753287, 0.11441018572077155, 0.11225966103374951, 0.1082699098624289, 0.10998195931315424, 0.11227709650993345, 0.11563596548512578, 0.12094894433394077, 0.1227724792435766, 0.12689301641657957, 0.12448595967143783, 0.12267750520259146, 0.1206194709986449, 0.11797245210036633, 0.11595330741256471, 0.11316266907379025, 0.11918774787336583, 0.1175912445411087, 0.11456206925213341, 0.11363697471097112, 0.11478557223454122, 0.11629280764609584, 0.11495785415172577, 0.11971583133563402, 0.11826580949127674, 0.11991309933364391, 0.11904038954526186, 0.122641340084374, 0.11924565751105543, 0.11676275040954354, 0.1185476640239358, 0.12297019083052874, 0.12576247919350858, 0.12394087426364431, 0.12491505090147248, 0.12413334660232067, 0.12210164256393918, 0.1229881534352898, 0.12635746169835338, 0.12628047801554199, 0.12500384058803327, 0.12537636961787935, 0.13120678812265396, 0.13298365231603382, 0.13805158827453845, 0.13704871404916041, 0.1418992623686791, 0.1403505897149444, 0.13880292288959017, 0.139845984056592, 0.1383513115346432, 0.14436288960278043, 0.14312012605369095, 0.14161050785332918, 0.14011483136564495, 0.14140212871134283, 0.13957820441573854, 0.14144559334963558, 0.14018772635608912, 0.1393543999642134, 0.1383997039869428, 0.1354778604581952, 0.13785587847232816, 0.13607501722872262, 0.1411050843074918, 0.1381082246080041, 0.13998063746839762, 0.14610650129616254, 0.1446383774280548, 0.1422087647020817, 0.14260857980698344, 0.14018292129039767, 0.13762067891657348, 0.1390378193929792, 0.13947228249162436, 0.14073611013591292, 0.1461501572281122, 0.14483060427010053, 0.14609197545796632, 0.14544147383421657, 0.14538420904427773, 0.14771817810833449, 0.1458848845213651, 0.1440940044820309, 0.14682003725320103, 0.14791124165058134, 0.1522822815924883, 0.15507675614207983, 0.1541946429759264, 0.156953414157033, 0.16239935792982574, 0.16100636683404446, 0.15943056531250477, 0.16462186928838496, 0.1646766653284431, 0.1627119736745954, 0.16642256509512665, 0.16373884938657285, 0.16197890844196083, 0.16827549505978823, 0.17093936838209628, 0.16971814893186088, 0.1762150377035141, 0.18077986091375353, 0.17936708591878414, 0.181325806491077, 0.18058386854827402, 0.18586705308407547, 0.18405615519732232, 0.19003316946327686, 0.19135755021125073, 0.1902286319062113, 0.18821011707186697, 0.19364799689501522, 0.19112587142735715, 0.1958067834377289, 0.1982854273170233, 0.19601065739989282, 0.20064673572778702, 0.20499740820378065, 0.20427419468760494, 0.20496733319014315, 0.20378370732069018, 0.2044255482032895, 0.201444828696549, 0.20262296348810194, 0.2014524905011058, 0.200192073918879, 0.20518801864236597, 0.2112257087603211, 0.21283075716346506, 0.2109263839200139, 0.2102400429546833, 0.20826328732073301, 0.20671227257698777, 0.20531101617962128, 0.205563341267407, 0.20483802426606423, 0.20942795686423782, 0.2102263148874045, 0.21219033356755973, 0.2142826648429036, 0.21263526920229198, 0.2125945882871747, 0.21163381170481443, 0.21018550284206872, 0.2079776694998145, 0.209596474468708, 0.20813478156924248, 0.20866402704268688, 0.2073450656607747, 0.20806862134486437, 0.20832607597112662, 0.20925241895020008, 0.20686106681823735, 0.20477746967226274, 0.20316330250352616, 0.2024091400206089, 0.20056317169219257, 0.20092582814395427, 0.20618788208812477, 0.2043221531435847, 0.20353440959006547, 0.20172895025461912, 0.19991522543132312, 0.19930870160460473, 0.19863299224525688, 0.19695299305021763, 0.19550724439322947, 0.19656668379902842, 0.19828742388635878, 0.19766298439353702, 0.19675462823361162, 0.20264309439808137, 0.2013362707570195, 0.20220063570886848, 0.2010346408933401, 0.20047864541411398, 0.20012109074741596, 0.19963355381041764, 0.19872612021863456, 0.19817753061652182, 0.19893581159412854, 0.19730186983942982, 0.1959496723487973, 0.1936226604506373, 0.19194310158491135, 0.1911861214786768, 0.18887228518724436, 0.18863504528999325, 0.1883003829047084, 0.1876820953562856, 0.1881315253674984, 0.1854596313089133, 0.18456033188849685, 0.1835818698629737, 0.18428815845400098, 0.18291230201721193, 0.18185012303292747, 0.18032200187444686, 0.1784397978335619, 0.17747031431645155, 0.18246072027832272, 0.18126304186880587, 0.1797378921881318, 0.18444174248725181, 0.18303831070661547, 0.18365833442658186, 0.18253252897411587, 0.18053530212491747, 0.17961761783808466, 0.17868837583810093, 0.17656990587711335, 0.17516528367996215, 0.17820216957479718, 0.17742438968271018, 0.17934467177838082, 0.1794635275378823, 0.17883312646299598, 0.17933413255959746, 0.17871845047920948, 0.1771961571648717, 0.17540639657527207, 0.17390126623213287, 0.1732942769303918, 0.17147635538130995, 0.16895901393145318, 0.1742733232676983, 0.17309065191075207, 0.17440793756395578, 0.17551465276628736, 0.17539594313129786, 0.1734102180227638, 0.17217052215710282, 0.17289568455889825, 0.1719038128852844, 0.17275710105896003, 0.1714746350422502, 0.17081926567479966, 0.1665517140179873, 0.16687060296535494, 0.1681463887915015, 0.16719255810603495, 0.16587466960772873, 0.16640744162723425, 0.1651579068973661, 0.16405969886109228, 0.1646426946856081, 0.16325745675712822, 0.16460724882781508, 0.1640085940249264, 0.16311236061155798, 0.16337740002200002, 0.16280379379168147, 0.1617659510113299, 0.1662628554739058, 0.16490964042022827, 0.16618152502924205, 0.16712760003283622, 0.1680088847875595, 0.16925187101587652, 0.17574977790936824, 0.17368650725111362, 0.17189460815861823, 0.17015334824100137, 0.16994986487552527, 0.1691515089012683, 0.1700366925448179, 0.16897096661850813, 0.1672318257391453, 0.16669921614229677, 0.16584152979776268, 0.16483030579984187, 0.16589243588969105, 0.16489756656810645, 0.16513323327526447, 0.16473003169521694, 0.1638767675496638, 0.164849420171231, 0.16352024730294945, 0.16160641917958857, 0.16118105053901677, 0.16048641838133337, 0.15986511232331396, 0.15927110686898227, 0.15878775157034403, 0.15800331132486467, 0.15552602997049686, 0.1541630788706243, 0.15377383176237347, 0.15263821370899677, 0.1520669411867857, 0.15145490141585471, 0.15102788191288707, 0.14969290625303988, 0.1504169593565166, 0.15126824900507924, 0.15044874073937542, 0.15119682447984817, 0.14993200087919833, 0.14798901714384555, 0.14736024327576164, 0.14693705076351765, 0.14621516205370427, 0.14380916748195882, 0.14197769155725837, 0.14243827518075702, 0.14187200255692006, 0.14129439601674676, 0.1384121716953814, 0.1376538798213005, 0.1369873031042516, 0.13819460440427062, 0.1375261524692178, 0.13710318710654978, 0.1375657379627228, 0.13667126186192036, 0.1369393293745816, 0.13715139068663118, 0.13614877108484508, 0.13397809118032455, 0.13239447213709354, 0.1308813175186515, 0.12926864288747314, 0.12769955452531573, 0.13399129556491968, 0.13394056130200627, 0.13362987311556934, 0.1343400673009455, 0.1339291076175868, 0.1334284326992929, 0.1325787058100104, 0.1317454014904797, 0.12988831922411914, 0.12918488197028638, 0.12856140108779074, 0.12664596065878864, 0.12540250392630692, 0.1251210581511259, 0.12415824756026267, 0.12278293278068303, 0.12322847414761784, 0.12213685819879172, 0.12077340995892882, 0.1195076869800687, 0.11972212707623842, 0.12018029280006887, 0.11908669741824274, 0.11892152586951854, 0.11729640746489167, 0.11567425644025209, 0.11656185602769253, 0.1157194678671658, 0.11486782813444729, 0.1152988920919597, 0.11553703993558884, 0.11473760912194847, 0.1149969681166112, 0.11516444040462376, 0.11479736724868417, 0.1140819265507162, 0.11353939492255449, 0.11351285772398112, 0.11321148108690982, 0.11376978801563381, 0.1140789596363902, 0.11376787815243006, 0.11226110523566607, 0.11207615863531828, 0.1125582727603614, 0.11308271875604986, 0.11215079957619306, 0.11218700977042317, 0.11093459138646722, 0.11012958679348234, 0.1106312724761665, 0.11037609130144121, 0.10967431869357824, 0.10787508366629478, 0.10846429644152522, 0.10776395648717879, 0.10744163775816556, 0.10712026963010429, 0.10759018342942, 0.10732472259551284, 0.1068175555206835, 0.1070568425580859, 0.10612921910360457, 0.10635537942871454, 0.10475366646423939, 0.10441209170967342, 0.10381642132997515, 0.10430520959198475, 0.10359493298456074, 0.10414890060201287, 0.10348353860899806, 0.10310359336435793, 0.10314555717632179, 0.10343038858845832, 0.10361010404303667, 0.10390199832618241, 0.10340353976935146, 0.10279400800354777, 0.10254669263958932, 0.10301829036325216, 0.10279913404956459, 0.10211581140756609, 0.1015558350365609, 0.10148768676444886, 0.10003547267988322, 0.10019914940930902, 0.10051809409633283, 0.10128119182772932, 0.10115989586338403, 0.10049284435808659, 0.10018118191510439, 0.09942947425879539, 0.09918010337278249, 0.09913996341638265, 0.09813718311488628, 0.09830634798854593, 0.09786439905874433, 0.09755857740528878, 0.09790298445150258, 0.09788571884855629, 0.09758262406103313, 0.0978195213712752, 0.09713160013779998, 0.09659184650517999, 0.09561923444271087, 0.0956946318037808, 0.0953009059187025, 0.09494603159837428, 0.09436637032777073, 0.09439911060035228, 0.09468533033505083, 0.0948423905763775, 0.09506898480467496, 0.09510769611224529, 0.09474846702069045, 0.09462584932334722, 0.09455113960430023, 0.09486228590831158, 0.09468862116336824, 0.09472937914542856, 0.09491063370369379, 0.09485928039066494, 0.094825735129416, 0.09503340004011984, 0.09512263275682925, 0.09495377712883057, 0.09508004814852028, 0.0948691344819963, 0.09502966192085299, 0.09523446252569556, 0.09539507667068392, 0.09542474935296918, 0.09561076613608743, 0.09556231840979307, 0.09539435962215065, 0.0952562801307067, 0.09504646162968133, 0.09487798924092206, 0.09497088547796012, 0.0948998958105221, 0.09491567565128206, 0.09491535094566644, 0.09486471747513858, 0.09476197899784894, 0.09483722350560131, 0.094824576494284, 0.09484095706138757, 0.09478536425158379, 0.09482689371798186, 0.09481482668779789]\n"
     ]
    }
   ],
   "source": [
    "flip_parity_abs = []\n",
    "for i in range(len(abs_sorted_index_list)):\n",
    "    row_num = abs_sorted_index_list[i]\n",
    "    if influence_train_copy.at[row_num,'credit_risk'] == 1:\n",
    "        influence_train_copy.at[row_num,'credit_risk'] = 0\n",
    "        influence_prediction = lr_model(influence_train_copy, X_test, clf)\n",
    "        influence_parity = computeFairness(influence_prediction, X_test_orig, y_test, 0, dataset)\n",
    "        flip_parity_abs.append(influence_parity)\n",
    "    elif influence_train_copy.at[row_num,'credit_risk'] == 0:\n",
    "        influence_train_copy.at[row_num,'credit_risk'] = 1\n",
    "        influence_prediction = lr_model(influence_train_copy, X_test, clf)\n",
    "        influence_parity = computeFairness(influence_prediction, X_test_orig, y_test, 0, dataset)\n",
    "        flip_parity_abs.append(influence_parity)\n",
    "print(flip_parity_abs)"
   ]
  },
  {
   "cell_type": "code",
   "execution_count": 47,
   "metadata": {},
   "outputs": [],
   "source": [
    "sol_time.append(if_time2)"
   ]
  },
  {
   "cell_type": "code",
   "execution_count": 48,
   "metadata": {},
   "outputs": [
    {
     "data": {
      "image/png": "[encoded data removed]",
      "text/plain": [
       "<Figure size 700x400 with 1 Axes>"
      ]
     },
     "metadata": {},
     "output_type": "display_data"
    }
   ],
   "source": [
    "#Graph the points\n",
    "# Assuming the X-axis is some common range or specific values\n",
    "size = range(len(flip_parity_abs))  # X values for list data\n",
    "\n",
    "# Create the plot\n",
    "plt.figure(figsize=(7, 4))\n",
    "\n",
    "# Plot list data with dots\n",
    "plt.scatter(size, flip_parity_abs, color='red', label='Parity After Flipping DP', marker='o')\n",
    "\n",
    "# Adding labels\n",
    "plt.xlabel('Datapoints')\n",
    "plt.ylabel('Parity')\n",
    "\n",
    "# Adding title and legend\n",
    "plt.title('Parity by flipping the datapoints (Absolute List)')\n",
    "plt.legend()\n",
    "\n",
    "# Display the plot\n",
    "plt.show()"
   ]
  },
  {
   "cell_type": "code",
   "execution_count": 49,
   "metadata": {},
   "outputs": [
    {
     "data": {
      "image/png": "[encoded data removed]",
      "text/plain": [
       "<Figure size 640x480 with 1 Axes>"
      ]
     },
     "metadata": {},
     "output_type": "display_data"
    }
   ],
   "source": [
    "#total num of data points\n",
    "#on_abs_sorted = len(flip_parity_sorted)\n",
    "abs_sorted = len(flip_parity_abs)\n",
    "\n",
    "#Calculate the indices for the 5 points\n",
    "#indices_non_abs = [int(i * non_abs_sorted / 5) for i in range(0, 5)]\n",
    "indices_abs = [int(i * abs_sorted / 5) for i in range(0, 5)]\n",
    "\n",
    "# Extract the values at these indices\n",
    "#values_non_abs = [flip_parity_sorted[index] for index in indices_non_abs]\n",
    "values_abs = [flip_parity_abs[index] for index in indices_abs]\n",
    "\n",
    "#Plot the Values\n",
    "plt.plot([20, 40, 60, 80, 100], values_abs, label='ABS Flipping', color='Blue')\n",
    "\n",
    "# Add labels and legend\n",
    "plt.xlabel('Percentage of Data Points')\n",
    "plt.ylabel('Values')\n",
    "plt.title('Graph of Data Points')\n",
    "plt.legend()\n",
    "\n",
    "# Show the plot\n",
    "plt.show()"
   ]
  },
  {
   "cell_type": "markdown",
   "metadata": {},
   "source": [
    "<h3>Compare methods of: Naive, Entropy, MEU, and IF<h3>"
   ]
  },
  {
   "cell_type": "markdown",
   "metadata": {},
   "source": [
    "<h5>Naive Method: Greedy Algorithm<h5>"
   ]
  },
  {
   "cell_type": "code",
   "execution_count": 50,
   "metadata": {},
   "outputs": [
    {
     "ename": "KeyboardInterrupt",
     "evalue": "",
     "output_type": "error",
     "traceback": [
      "\u001b[1;31m---------------------------------------------------------------------------\u001b[0m",
      "\u001b[1;31mKeyboardInterrupt\u001b[0m                         Traceback (most recent call last)",
      "Cell \u001b[1;32mIn[50], line 11\u001b[0m\n\u001b[0;32m      8\u001b[0m \u001b[38;5;28;01mif\u001b[39;00m row[\u001b[38;5;124m'\u001b[39m\u001b[38;5;124mcredit_risk\u001b[39m\u001b[38;5;124m'\u001b[39m] \u001b[38;5;241m==\u001b[39m \u001b[38;5;241m1\u001b[39m:\n\u001b[0;32m      9\u001b[0m     \u001b[38;5;66;03m#Flip the label at credit_risk = 1 to 0\u001b[39;00m\n\u001b[0;32m     10\u001b[0m     greedy_train\u001b[38;5;241m.\u001b[39mat[index,\u001b[38;5;124m'\u001b[39m\u001b[38;5;124mcredit_risk\u001b[39m\u001b[38;5;124m'\u001b[39m] \u001b[38;5;241m=\u001b[39m \u001b[38;5;241m0\u001b[39m\n\u001b[1;32m---> 11\u001b[0m     greedy_pred \u001b[38;5;241m=\u001b[39m lr_model(greedy_train, X_test, clf)\n\u001b[0;32m     12\u001b[0m     greedy_parity \u001b[38;5;241m=\u001b[39m computeFairness(greedy_pred, X_test_orig, y_test, \u001b[38;5;241m0\u001b[39m, dataset)\n\u001b[0;32m     13\u001b[0m     greedy_parity_list\u001b[38;5;241m.\u001b[39mappend(greedy_parity)\n",
      "Cell \u001b[1;32mIn[35], line 6\u001b[0m, in \u001b[0;36mlr_model\u001b[1;34m(training_df, test_attr_df, classifier)\u001b[0m\n\u001b[0;32m      3\u001b[0m changed_df_labels \u001b[38;5;241m=\u001b[39m training_df\u001b[38;5;241m.\u001b[39mpop(\u001b[38;5;124m'\u001b[39m\u001b[38;5;124mcredit_risk\u001b[39m\u001b[38;5;124m'\u001b[39m)\n\u001b[0;32m      4\u001b[0m changed_df_attr \u001b[38;5;241m=\u001b[39m training_df\u001b[38;5;241m.\u001b[39mto_numpy()\n\u001b[1;32m----> 6\u001b[0m classifier\u001b[38;5;241m.\u001b[39mfit(changed_df_attr,changed_df_labels\u001b[38;5;241m.\u001b[39mvalues)\n\u001b[0;32m      7\u001b[0m y_predicted \u001b[38;5;241m=\u001b[39m classifier\u001b[38;5;241m.\u001b[39mpredict_proba(test_attr_df)\n\u001b[0;32m      9\u001b[0m training_df[\u001b[38;5;124m'\u001b[39m\u001b[38;5;124mcredit_risk\u001b[39m\u001b[38;5;124m'\u001b[39m] \u001b[38;5;241m=\u001b[39m changed_df_labels\n",
      "File \u001b[1;32mc:\\Users\\shash\\OneDrive\\Desktop\\labelflipping\\influence_functions\\classifier.py:57\u001b[0m, in \u001b[0;36mLogistic_Regression.fit\u001b[1;34m(self, x, y, verbose, use_sklearn)\u001b[0m\n\u001b[0;32m     55\u001b[0m loss \u001b[38;5;241m=\u001b[39m \u001b[38;5;28mself\u001b[39m\u001b[38;5;241m.\u001b[39mcriterion(\u001b[38;5;28mself\u001b[39m, x, y)\n\u001b[0;32m     56\u001b[0m \u001b[38;5;28mself\u001b[39m\u001b[38;5;241m.\u001b[39moptimizer\u001b[38;5;241m.\u001b[39mzero_grad()\n\u001b[1;32m---> 57\u001b[0m loss\u001b[38;5;241m.\u001b[39mbackward()\n\u001b[0;32m     58\u001b[0m \u001b[38;5;28mself\u001b[39m\u001b[38;5;241m.\u001b[39moptimizer\u001b[38;5;241m.\u001b[39mstep()\n",
      "File \u001b[1;32mc:\\Users\\shash\\anaconda3\\Lib\\site-packages\\torch\\_tensor.py:522\u001b[0m, in \u001b[0;36mTensor.backward\u001b[1;34m(self, gradient, retain_graph, create_graph, inputs)\u001b[0m\n\u001b[0;32m    512\u001b[0m \u001b[38;5;28;01mif\u001b[39;00m has_torch_function_unary(\u001b[38;5;28mself\u001b[39m):\n\u001b[0;32m    513\u001b[0m     \u001b[38;5;28;01mreturn\u001b[39;00m handle_torch_function(\n\u001b[0;32m    514\u001b[0m         Tensor\u001b[38;5;241m.\u001b[39mbackward,\n\u001b[0;32m    515\u001b[0m         (\u001b[38;5;28mself\u001b[39m,),\n\u001b[1;32m   (...)\u001b[0m\n\u001b[0;32m    520\u001b[0m         inputs\u001b[38;5;241m=\u001b[39minputs,\n\u001b[0;32m    521\u001b[0m     )\n\u001b[1;32m--> 522\u001b[0m torch\u001b[38;5;241m.\u001b[39mautograd\u001b[38;5;241m.\u001b[39mbackward(\n\u001b[0;32m    523\u001b[0m     \u001b[38;5;28mself\u001b[39m, gradient, retain_graph, create_graph, inputs\u001b[38;5;241m=\u001b[39minputs\n\u001b[0;32m    524\u001b[0m )\n",
      "File \u001b[1;32mc:\\Users\\shash\\anaconda3\\Lib\\site-packages\\torch\\autograd\\__init__.py:266\u001b[0m, in \u001b[0;36mbackward\u001b[1;34m(tensors, grad_tensors, retain_graph, create_graph, grad_variables, inputs)\u001b[0m\n\u001b[0;32m    261\u001b[0m     retain_graph \u001b[38;5;241m=\u001b[39m create_graph\n\u001b[0;32m    263\u001b[0m \u001b[38;5;66;03m# The reason we repeat the same comment below is that\u001b[39;00m\n\u001b[0;32m    264\u001b[0m \u001b[38;5;66;03m# some Python versions print out the first line of a multi-line function\u001b[39;00m\n\u001b[0;32m    265\u001b[0m \u001b[38;5;66;03m# calls in the traceback and some print out the last line\u001b[39;00m\n\u001b[1;32m--> 266\u001b[0m Variable\u001b[38;5;241m.\u001b[39m_execution_engine\u001b[38;5;241m.\u001b[39mrun_backward(  \u001b[38;5;66;03m# Calls into the C++ engine to run the backward pass\u001b[39;00m\n\u001b[0;32m    267\u001b[0m     tensors,\n\u001b[0;32m    268\u001b[0m     grad_tensors_,\n\u001b[0;32m    269\u001b[0m     retain_graph,\n\u001b[0;32m    270\u001b[0m     create_graph,\n\u001b[0;32m    271\u001b[0m     inputs,\n\u001b[0;32m    272\u001b[0m     allow_unreachable\u001b[38;5;241m=\u001b[39m\u001b[38;5;28;01mTrue\u001b[39;00m,\n\u001b[0;32m    273\u001b[0m     accumulate_grad\u001b[38;5;241m=\u001b[39m\u001b[38;5;28;01mTrue\u001b[39;00m,\n\u001b[0;32m    274\u001b[0m )\n",
      "\u001b[1;31mKeyboardInterrupt\u001b[0m: "
     ]
    }
   ],
   "source": [
    "greedy_start = time.time()\n",
    "#Beginning of the Greedy Algorithm\n",
    "#Make the original flips to test for the parity after each flip \n",
    "greedy_train = train_full_df.copy()\n",
    "greedy_parity_list = []\n",
    "\n",
    "for index, row in greedy_train.iterrows():\n",
    "    if row['credit_risk'] == 1:\n",
    "        #Flip the label at credit_risk = 1 to 0\n",
    "        greedy_train.at[index,'credit_risk'] = 0\n",
    "        greedy_pred = lr_model(greedy_train, X_test, clf)\n",
    "        greedy_parity = computeFairness(greedy_pred, X_test_orig, y_test, 0, dataset)\n",
    "        greedy_parity_list.append(greedy_parity)\n",
    "        greedy_train.at[index,'credit_risk'] = 1\n",
    "        \n",
    "    elif row['credit_risk'] == 0:\n",
    "        greedy_train.at[index,'credit_risk'] = 1\n",
    "        greedy_pred = lr_model(greedy_train, X_test, clf)\n",
    "        greedy_parity = computeFairness(greedy_pred, X_test_orig, y_test, 0, dataset)\n",
    "        greedy_parity_list.append(greedy_parity)\n",
    "        greedy_train.at[index,'credit_risk'] = 0"
   ]
  },
  {
   "cell_type": "code",
   "execution_count": 50,
   "metadata": {},
   "outputs": [],
   "source": [
    "#Compare each of the parity values after flipping to the OG parity value\n",
    "#Append to a new list\n",
    "\n",
    "#parity_difference: Contains the difference between flipped and original value\n",
    "parity_difference = []\n",
    "#Contains parity values that fall between .03 and -.03\n",
    "large_influence = []\n",
    "#Contains the row number of each flip\n",
    "li_row = []\n",
    "\n",
    "for value in greedy_parity_list:\n",
    "    difference = abs(value) - abs(spd_0)\n",
    "    parity_difference.append(difference)\n",
    "\n",
    "#Rows considered to be high influence if they in between a specific value\n",
    "for index, item in enumerate(parity_difference):\n",
    "  if spd_0 > 0:\n",
    "    if item <= spd_0 or item >= -1*(spd_0):\n",
    "        large_influence.append(item)\n",
    "        li_row.append(index)\n",
    "  else:\n",
    "    if item >= spd_0 or item <= -1*(spd_0):\n",
    "        large_influence.append(item)\n",
    "        li_row.append(index)"
   ]
  },
  {
   "cell_type": "code",
   "execution_count": 51,
   "metadata": {},
   "outputs": [],
   "source": [
    "# Combine lists into tuples and zip them\n",
    "combined_data = list(zip(large_influence, li_row))\n",
    "\n",
    "# Sort based on statistical parity values in descending order\n",
    "combined_data.sort(key=lambda x: abs(x[0]), reverse=True)\n",
    "\n",
    "# Extract sorted indices list and the sorted values\n",
    "sorted_indices_list = [index for _, index in combined_data]\n",
    "sorted_values = sorted(large_influence, reverse=True)\n",
    "greedy_end = time.time()"
   ]
  },
  {
   "cell_type": "code",
   "execution_count": 52,
   "metadata": {},
   "outputs": [],
   "source": [
    "#After ranking the values now go back through the dataset flipping \n",
    "#based on the ranked values\n",
    "\n",
    "#Parity values after each flip\n",
    "ranked_greedy_parity_list = []\n",
    "#Accuracy after every flip\n",
    "ranked_acc = []\n",
    "#Index/row of the flip\n",
    "ranked_flip = []\n",
    "\n",
    "row_num = 0\n",
    "ranked_indices_list = list(sorted_indices_list)\n",
    "\n",
    "#Iterate through the ranked list and start the flipping\n",
    "for idx, row in enumerate(ranked_indices_list):\n",
    "    row_num = ranked_indices_list[row]\n",
    "    #If the label at the specific row is 1 it flips it to 0 then calculates the parity and accuracy\n",
    "    #It follows the same steps as the flipping before\n",
    "    if greedy_train.at[row_num,'credit_risk'] == 1:\n",
    "        greedy_train.at[row,'credit_risk'] = 0\n",
    "        ranked_greedy_pred = lr_model(greedy_train, X_test, clf)\n",
    "        ranked_greedy_parity = computeFairness(ranked_greedy_pred, X_test_orig, y_test, 0, dataset)\n",
    "        ranked_greedy_parity_list.append(ranked_greedy_parity)\n",
    "    elif greedy_train.at[row_num, 'credit_risk'] == 0:\n",
    "        greedy_train.at[row, 'credit_risk'] = 1\n",
    "        ranked_greedy_pred = lr_model(greedy_train, X_test, clf)\n",
    "        ranked_greedy_parity = computeFairness(ranked_greedy_pred, X_test_orig, y_test, 0, dataset)\n",
    "        ranked_greedy_parity_list.append(ranked_greedy_parity)"
   ]
  },
  {
   "cell_type": "code",
   "execution_count": 53,
   "metadata": {},
   "outputs": [],
   "source": [
    "greedy_time = greedy_end - greedy_start\n",
    "sol_time.append(greedy_time)"
   ]
  },
  {
   "cell_type": "markdown",
   "metadata": {},
   "source": [
    "<h4>Uncertainty Reduction/Entropy<h4>"
   ]
  },
  {
   "cell_type": "code",
   "execution_count": 54,
   "metadata": {},
   "outputs": [],
   "source": [
    "entropy_start = time.time()\n",
    "#Remake the dataset\n",
    "entropy_train_df = train_full_df.copy()"
   ]
  },
  {
   "cell_type": "code",
   "execution_count": 55,
   "metadata": {},
   "outputs": [
    {
     "name": "stdout",
     "output_type": "stream",
     "text": [
      "75.5\n"
     ]
    }
   ],
   "source": [
    "#Run the LR classifier\n",
    "#Use Scikit learn logistic regression rather than pre-built one\n",
    "clfa = LogisticRegression(class_weight=None, max_iter=100)\n",
    "log = clfa.fit(X_train,y_train)\n",
    "prediction = log.predict(X_test)\n",
    "#prediction_prob = log.predict_proba(X_train)\n",
    "accuracy = accuracy_score(y_test,prediction)*100\n",
    "print(accuracy)"
   ]
  },
  {
   "cell_type": "code",
   "execution_count": 56,
   "metadata": {},
   "outputs": [],
   "source": [
    "#Obtain the predicted probabilities\n",
    "predicted_prob = log.predict_proba(X_train)"
   ]
  },
  {
   "cell_type": "code",
   "execution_count": 57,
   "metadata": {},
   "outputs": [],
   "source": [
    "#Log base two would be: log = math.log(x,2)\n",
    "#Entropy equation would then be: -1*(p1((math.log(p1,2))+p2*(math.log(p2,2)))\n",
    "\n",
    "#In the predicted_probabilities: first value is 0 (which is bad), second value is 1 (which is good)\n",
    "\n",
    "#Loop through the predicted_probabilities array and calculate values\n",
    "#One list will contain the index of each row in the table and the other will contain the entropy value of each row\n",
    "\n",
    "index_list = []\n",
    "entropy_list = []\n",
    "\n",
    "for index, value in enumerate(predicted_prob):\n",
    "  #Calculate p1 and p2\n",
    "  p1=predicted_prob[index,0]\n",
    "  p2=predicted_prob[index,1]\n",
    "  #Calculate entropy in 3 steps\n",
    "  entropy_calc1 = p1 * math.log(p1,2)\n",
    "  entropy_calc2 = p2 * math.log(p2,2)\n",
    "  entropy_final = -1 * (entropy_calc1 + entropy_calc2)\n",
    "\n",
    "  #Append the values to their respective lists\n",
    "  index_list.append(index)\n",
    "  entropy_list.append(entropy_final)"
   ]
  },
  {
   "cell_type": "code",
   "execution_count": 58,
   "metadata": {},
   "outputs": [],
   "source": [
    "#Rank the entropy values in decreasing order\n",
    "#Match the index list with them\n",
    "\n",
    "#Combine the two lists using zip\n",
    "combined_list = list(zip(entropy_list, index_list))\n",
    "\n",
    "#Sort the combined lust based on entropy values in descending order\n",
    "sorted_list = sorted(combined_list, key = lambda x: x[0], reverse=True)\n",
    "\n",
    "#Extract the values\n",
    "sorted_ent_list, sorted_index_list = zip(*sorted_list)\n",
    "entropy_end = time.time()"
   ]
  },
  {
   "cell_type": "code",
   "execution_count": 59,
   "metadata": {},
   "outputs": [],
   "source": [
    "entropy_train_df['credit_risk'] = entropy_train_df['credit_risk'].astype('int')"
   ]
  },
  {
   "cell_type": "code",
   "execution_count": 60,
   "metadata": {},
   "outputs": [],
   "source": [
    "ranked_ent_list = list(sorted_ent_list)\n",
    "ranked_idx_list = list(sorted_index_list)"
   ]
  },
  {
   "cell_type": "code",
   "execution_count": 61,
   "metadata": {},
   "outputs": [],
   "source": [
    "#After the ranking; flip based on the ranked entropy values\n",
    "#Values with the highest entropy are prioritized for flipping\n",
    "\n",
    "ranked_ent_parity_list = [spd_0]\n",
    "ranked_flip = []\n",
    "\n",
    "row_num = 0\n",
    "\n",
    "#Loop through and flip based on the entropy values\n",
    "for row in range(len(sorted_index_list)):\n",
    "    row_num = ranked_idx_list[row]\n",
    "    if entropy_train_df.at[row_num,'credit_risk'] == 0:\n",
    "        entropy_train_df.at[row_num,'credit_risk'] = 1\n",
    "        ranked_ent_pred = lr_model(greedy_train, X_test, clf)\n",
    "        ranked_ent_parity = computeFairness(ranked_ent_pred, X_test_orig, y_test, 0, dataset)\n",
    "        ranked_ent_parity_list.append(ranked_ent_parity)\n",
    "\n",
    "    elif entropy_train_df.at[row_num,'credit_risk'] == 1:\n",
    "        entropy_train_df.at[row_num,'credit_risk'] = 0\n",
    "        ranked_ent_pred = lr_model(greedy_train, X_test, clf)\n",
    "        ranked_ent_parity = computeFairness(ranked_ent_pred, X_test_orig, y_test, 0, dataset)\n",
    "        ranked_ent_parity_list.append(ranked_ent_parity)"
   ]
  },
  {
   "cell_type": "code",
   "execution_count": 62,
   "metadata": {},
   "outputs": [],
   "source": [
    "entropy_time = entropy_end - entropy_start\n",
    "sol_time.append(entropy_time)"
   ]
  },
  {
   "cell_type": "markdown",
   "metadata": {},
   "source": [
    "<h4>Maximum Expected Utility<h4>"
   ]
  },
  {
   "cell_type": "code",
   "execution_count": 63,
   "metadata": {},
   "outputs": [],
   "source": [
    "#Copy training dataset\n",
    "meu_start = time.time()\n",
    "meu_training_df = train_full_df.copy()"
   ]
  },
  {
   "cell_type": "code",
   "execution_count": 64,
   "metadata": {},
   "outputs": [],
   "source": [
    "#Obtain the predicted probabilities \n",
    "meu_pred_prob = log.predict_proba(X_train)"
   ]
  },
  {
   "cell_type": "code",
   "execution_count": 65,
   "metadata": {},
   "outputs": [],
   "source": [
    "#Grab the original of the DP in the copy dataframe and sotre in lists along with the index\n",
    "label = []\n",
    "row_index = []\n",
    "for index, row in meu_training_df.iterrows():\n",
    "    label.append(meu_training_df.at[index,'credit_risk'])\n",
    "    row_index.append(index)"
   ]
  },
  {
   "cell_type": "code",
   "execution_count": 66,
   "metadata": {},
   "outputs": [],
   "source": [
    "#Calculate the first part of the MEU equation\n",
    "meu_part1_list = []\n",
    "for index, value in enumerate(label):\n",
    "    if value == 1:\n",
    "        prob1 = meu_pred_prob[index,1]\n",
    "        meu_part1_calc = prob1 * spd_0\n",
    "        meu_part1_list.append(meu_part1_calc)\n",
    "    elif value == 0:\n",
    "        prob2 = meu_pred_prob[index,0]\n",
    "        meu_part1_calc = prob2 * spd_0\n",
    "        meu_part1_list.append(meu_part1_calc)"
   ]
  },
  {
   "cell_type": "code",
   "execution_count": 67,
   "metadata": {},
   "outputs": [],
   "source": [
    "#Iterate through the copied dataset and flip each lable and calculate the parity\n",
    "\n",
    "meu_part2_parity_list = []\n",
    "\n",
    "for idx, row in meu_training_df.iterrows():\n",
    "    #If the row is positive then flip it to negative\n",
    "    if row['credit_risk'] == 1:\n",
    "        meu_training_df.at[index,'credit_risk']= 0\n",
    "        meu_pred = lr_model(meu_training_df, X_test, clf)\n",
    "        meu_parity = computeFairness(meu_pred, X_test_orig, y_test, 0, dataset)\n",
    "        meu_part2_parity_list.append(meu_parity)\n",
    "        meu_training_df.at[index,'credit_risk'] = 1\n",
    "    #If negative then flip to positive\n",
    "    elif row['credit_risk'] == 0:\n",
    "        meu_training_df.at[index,'credit_risk']= 1\n",
    "        meu_pred = lr_model(meu_training_df, X_test, clf)\n",
    "        meu_parity = computeFairness(meu_pred, X_test_orig, y_test, 0, dataset)\n",
    "        meu_part2_parity_list.append(meu_parity)\n",
    "        meu_training_df.at[index,'credit_risk'] = 0\n",
    "        "
   ]
  },
  {
   "cell_type": "code",
   "execution_count": 68,
   "metadata": {},
   "outputs": [],
   "source": [
    "#Second part of the calculation by taking the opposite value\n",
    "meu_part2_list = []\n",
    "for index, value in enumerate(label):\n",
    "    if value == 0:\n",
    "        prob0 = meu_pred_prob[index,0]\n",
    "        meu_part2_calc = prob0* meu_part2_parity_list[index]\n",
    "    elif value == 1:\n",
    "        prob1 = meu_pred_prob[index,1]\n",
    "        meu_part2_calc = prob1 * meu_part2_parity_list[index]\n",
    "        meu_part2_list.append(meu_part2_calc)\n"
   ]
  },
  {
   "cell_type": "code",
   "execution_count": 69,
   "metadata": {},
   "outputs": [],
   "source": [
    "#Add the two lists together\n",
    "expected_utility_values = []\n",
    "for part1, part2 in zip(meu_part1_list, meu_part2_list):\n",
    "    expected_utility_values.append(part1+part2)"
   ]
  },
  {
   "cell_type": "code",
   "execution_count": 70,
   "metadata": {},
   "outputs": [],
   "source": [
    "#EU - OG Parity = new ranked values\n",
    "new_ranked_value = []\n",
    "\n",
    "for value in expected_utility_values:\n",
    "    new_ranked_value.append(value - spd_0)"
   ]
  },
  {
   "cell_type": "code",
   "execution_count": 71,
   "metadata": {},
   "outputs": [],
   "source": [
    "#Rank the values\n",
    "combined_list = list(zip(new_ranked_value,row_index))\n",
    "sorted_list = sorted(combined_list, key = lambda x: abs(x[0]), reverse=True)\n",
    "sorted_eu_list, sorted_index_list = zip(*sorted_list)\n",
    "meu_end = time.time()"
   ]
  },
  {
   "cell_type": "code",
   "execution_count": 72,
   "metadata": {},
   "outputs": [],
   "source": [
    "#After ranking flip the values\n",
    "meu_ranked_parity_list = [spd_0]\n",
    "\n",
    "for row in range(len(sorted_index_list)):\n",
    "    row_num = sorted_index_list[row]\n",
    "    \n",
    "    if meu_training_df.at[row_num,'credit_risk'] == 1:\n",
    "        meu_training_df.at[row_num, 'credit_risk'] = 0\n",
    "        meu_pred = lr_model(meu_training_df, X_test, clf)\n",
    "        meu_ranked_parity = computeFairness(meu_pred, X_test_orig, y_test, 0, dataset)\n",
    "        meu_ranked_parity_list.append(meu_ranked_parity)\n",
    "    elif meu_training_df.at[row_num, 'credit_risk'] == 0:\n",
    "        meu_training_df.at[row_num, 'credit_risk'] = 1\n",
    "        meu_pred = lr_model(meu_training_df, X_test, clf)\n",
    "        meu_ranked_parity = computeFairness(meu_pred, X_test_orig, y_test, 0, dataset)\n",
    "        meu_ranked_parity_list.append(meu_ranked_parity)"
   ]
  },
  {
   "cell_type": "code",
   "execution_count": 73,
   "metadata": {},
   "outputs": [],
   "source": [
    "meu_time = meu_end - meu_start\n",
    "sol_time.append(meu_time)"
   ]
  },
  {
   "cell_type": "markdown",
   "metadata": {},
   "source": [
    "<h4>Randomized flipping<h4>"
   ]
  },
  {
   "cell_type": "code",
   "execution_count": 74,
   "metadata": {},
   "outputs": [],
   "source": [
    "#Training dataset\n",
    "random_start = time.time()\n",
    "random_training_df = train_full_df.copy()"
   ]
  },
  {
   "cell_type": "code",
   "execution_count": 75,
   "metadata": {},
   "outputs": [],
   "source": [
    "#Budget of 200 random flipping\n",
    "import random\n",
    "random_flip_parity = []\n",
    "budget = len(y_test)\n",
    "\n",
    "for iter in range(budget):\n",
    "    random_row = random.choice(random_training_df.index)\n",
    "    if random_training_df.at[random_row,'credit_risk'] == 1:\n",
    "        random_training_df.at[random_row,'credit_risk'] = 0\n",
    "        rand_pred = lr_model(random_training_df, X_test, clf)\n",
    "        rand_ranked_parity = computeFairness(rand_pred, X_test_orig, y_test, 0, dataset)\n",
    "        random_flip_parity.append(rand_ranked_parity)\n",
    "    elif random_training_df.at[random_row,'credit_risk'] == 0:\n",
    "        random_training_df.at[random_row,'credit_risk'] = 1\n",
    "        rand_pred = lr_model(random_training_df, X_test, clf)\n",
    "        rand_ranked_parity = computeFairness(rand_pred, X_test_orig, y_test, 0, dataset)\n",
    "        random_flip_parity.append(rand_ranked_parity)\n",
    "random_end = time.time()\n"
   ]
  },
  {
   "cell_type": "code",
   "execution_count": 76,
   "metadata": {},
   "outputs": [],
   "source": [
    "random_time = random_end - random_start\n",
    "sol_time.append(random_time)"
   ]
  },
  {
   "cell_type": "code",
   "execution_count": 77,
   "metadata": {},
   "outputs": [
    {
     "data": {
      "text/plain": [
       "1726345264.6297765"
      ]
     },
     "execution_count": 77,
     "metadata": {},
     "output_type": "execute_result"
    }
   ],
   "source": [
    "if_start"
   ]
  },
  {
   "cell_type": "markdown",
   "metadata": {},
   "source": [
    "<h4>Graph of outcomes<h4>"
   ]
  },
  {
   "cell_type": "code",
   "execution_count": 78,
   "metadata": {},
   "outputs": [
    {
     "data": {
      "text/plain": [
       "<matplotlib.legend.Legend at 0x265234039d0>"
      ]
     },
     "execution_count": 78,
     "metadata": {},
     "output_type": "execute_result"
    },
    {
     "data": {
      "image/png": "[encoded data removed]",
      "text/plain": [
       "<Figure size 640x480 with 1 Axes>"
      ]
     },
     "metadata": {},
     "output_type": "display_data"
    }
   ],
   "source": [
    "# Calculate the total number of data points\n",
    "datapoints_iterative = len(ranked_greedy_parity_list)\n",
    "datapoints_entropy = len(ranked_ent_parity_list)\n",
    "datapoints_meu = len(meu_ranked_parity_list)\n",
    "datapoints_random = len(random_flip_parity)\n",
    "datapoints_influence = len(flip_parity_abs)\n",
    "\n",
    "# Calculate the indices for the 5 points\n",
    "indices_iterative = [int(i * datapoints_iterative / 5) for i in range(0, 5)]\n",
    "indices_entropy = [int(i * datapoints_entropy / 5) for i in range(0, 5)]\n",
    "indices_meu = [int(i * datapoints_meu / 5) for i in range(0, 5)]\n",
    "indices_random = [int(i * datapoints_random / 5) for i in range(0, 5)]\n",
    "indices_influence = [int(i * datapoints_influence / 5) for i in range(0, 5)]\n",
    "\n",
    "# Extract the values at these indices\n",
    "values_iterative = [ranked_greedy_parity_list[index] for index in indices_iterative]\n",
    "values_entropy = [ranked_ent_parity_list[index] for index in indices_entropy]\n",
    "values_meu = [meu_ranked_parity_list[index] for index in indices_meu]\n",
    "values_random = [random_flip_parity[index] for index in indices_random]\n",
    "values_influence = [flip_parity_abs[index] for index in indices_influence]\n",
    "\n",
    "# Plot the values\n",
    "plt.plot([20, 40, 60, 80, 100], values_iterative, label='Iterative Flipping', color='Orange')\n",
    "plt.plot([20, 40, 60, 80, 100], values_entropy, label='Entropy', color='Blue')\n",
    "plt.plot([20, 40, 60, 80, 100], values_meu, label='MEU', color='Yellow')\n",
    "plt.plot([20, 40, 60, 80, 100], values_random, label='Random Flipping', color='Green')\n",
    "plt.plot([20, 40, 60, 80, 100], values_influence, label='Influence Flipping', color='Red')\n",
    "\n",
    "# Add labels and legend\n",
    "plt.xlabel('Percentage of Data Points')\n",
    "plt.ylabel('Statistical Parity')\n",
    "plt.title('Change in Parity')\n",
    "plt.legend()"
   ]
  },
  {
   "cell_type": "markdown",
   "metadata": {},
   "source": [
    "<h4>Time Comparisons<h4>"
   ]
  },
  {
   "cell_type": "code",
   "execution_count": 79,
   "metadata": {},
   "outputs": [
    {
     "data": {
      "image/png": "[encoded data removed]",
      "text/plain": [
       "<Figure size 640x480 with 1 Axes>"
      ]
     },
     "metadata": {},
     "output_type": "display_data"
    }
   ],
   "source": [
    "# Create a line chart\n",
    "x_axis = ['IF', 'Greedy', 'Entropy', 'MEU', 'Randomized']\n",
    "# Colors for each bar\n",
    "colors = ['red', 'orange', 'blue', 'yellow', 'green']\n",
    "\n",
    "# Create a bar graph with updated labels and colors\n",
    "plt.bar(x_axis, sol_time, color=colors)\n",
    "plt.title('Time Series Bar Graph')\n",
    "plt.xlabel('Algorithm')\n",
    "plt.ylabel('Time')\n",
    "plt.grid(True)\n",
    "plt.xticks(rotation=45)\n",
    "plt.show()"
   ]
  },
  {
   "cell_type": "code",
   "execution_count": 80,
   "metadata": {},
   "outputs": [
    {
     "name": "stdout",
     "output_type": "stream",
     "text": [
      "[14.517300844192505, 71.58307433128357, 0.08031129837036133, 66.68825149536133, 18.599604606628418]\n"
     ]
    }
   ],
   "source": [
    "#When calculating the time we are looking at the time taken to choose which datapoint to flip \n",
    "#Do not consider the time taken to calculate the fairness on each datapoint\n",
    "#Also when implementing the other solutions on the bigger datasets do not implement MEU and greedy due to the expense of it\n",
    "#Instead implement IF, Entropy, and randomized\n",
    "\n",
    "#Since our solution is looking to determine the efficiency at which the datapoints are selected we want to measure the time \n",
    "#taken to determine which order the datapoints should be flipped in\n",
    "#Measure how long it takes to determine which datapoints need to be flipping and do not consider the parity calculations\n",
    "print(sol_time)"
   ]
  }
 ],
 "metadata": {
  "kernelspec": {
   "display_name": "base",
   "language": "python",
   "name": "python3"
  },
  "language_info": {
   "codemirror_mode": {
    "name": "ipython",
    "version": 3
   },
   "file_extension": ".py",
   "mimetype": "text/x-python",
   "name": "python",
   "nbconvert_exporter": "python",
   "pygments_lexer": "ipython3",
   "version": "3.11.7"
  }
 },
 "nbformat": 4,
 "nbformat_minor": 2
}
