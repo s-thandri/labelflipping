{
 "cells": [
  {
   "cell_type": "code",
   "execution_count": 1,
   "metadata": {},
   "outputs": [],
   "source": [
    "#Imports some of the libraries that we will be using\n",
    "import pandas as pd\n",
    "import numpy as np\n",
    "import math\n",
    "import warnings\n",
    "from sklearn.linear_model import LogisticRegression\n",
    "from sklearn.model_selection import cross_val_score, train_test_split\n",
    "from sklearn import metrics\n",
    "from sklearn import tree\n",
    "from sklearn.metrics import accuracy_score\n",
    "import matplotlib.pyplot as plt\n",
    "import time\n",
    "warnings.filterwarnings('ignore')"
   ]
  },
  {
   "cell_type": "code",
   "execution_count": 2,
   "metadata": {},
   "outputs": [
    {
     "name": "stdout",
     "output_type": "stream",
     "text": [
      "['acs_income.csv', 'acs_influence_new.ipynb', 'adult.data', 'adult.test', 'adult_influence.ipynb', 'classifier.py', 'compas-scores-two-years.csv', 'compas_influence.ipynb', 'config.json', 'expl.py', 'functions.py', 'german.data', 'german_influence.ipynb', 'german_influence_copy.ipynb', 'influence.py', 'load_dataset.py', 'loss.py', 'metrics.py', 'random_influence.ipynb', 'sqf_influence.ipynb', 'sqf_test.csv', 'sqf_train.csv', 'utils.py', '__pycache__']\n"
     ]
    }
   ],
   "source": [
    "from load_dataset import load\n",
    "from classifier import NeuralNetwork, Logistic_Regression, SVM\n",
    "from utils import *\n",
    "from metrics import *  # include fairness and corresponding derivatives\n",
    "from expl import explanation_candidate_generation, get_top_k_expl\n",
    "from influence import *"
   ]
  },
  {
   "cell_type": "markdown",
   "metadata": {},
   "source": [
    "<h4>Removal Based Influence Calculation<h4>"
   ]
  },
  {
   "cell_type": "code",
   "execution_count": 3,
   "metadata": {},
   "outputs": [],
   "source": [
    "#List of time taken\n",
    "sol_time = []"
   ]
  },
  {
   "cell_type": "code",
   "execution_count": 4,
   "metadata": {},
   "outputs": [],
   "source": [
    "dataset = 'german'\n",
    "clf_name = 'Logistic_Regression'\n",
    "metric = 0\n",
    "support = 0.05\n",
    "support_small = 0.3"
   ]
  },
  {
   "cell_type": "code",
   "execution_count": 5,
   "metadata": {},
   "outputs": [],
   "source": [
    "X_train, X_test, y_train, y_test = load(dataset)"
   ]
  },
  {
   "cell_type": "code",
   "execution_count": 6,
   "metadata": {},
   "outputs": [],
   "source": [
    "duplicates = 1\n",
    "make_duplicates = lambda x, d: pd.concat([x]*d, axis=0).reset_index(drop=True)\n",
    "X_train = make_duplicates(X_train, duplicates)\n",
    "X_test = make_duplicates(X_test, duplicates)\n",
    "y_train = make_duplicates(y_train, duplicates)\n",
    "y_test = make_duplicates(y_test, duplicates)"
   ]
  },
  {
   "cell_type": "code",
   "execution_count": 7,
   "metadata": {},
   "outputs": [],
   "source": [
    "import copy\n",
    "X_train_orig = copy.deepcopy(X_train)\n",
    "X_test_orig = copy.deepcopy(X_test)\n",
    "\n",
    "from sklearn.preprocessing import StandardScaler\n",
    "sc = StandardScaler()\n",
    "X_train = sc.fit_transform(X_train)\n",
    "X_test = sc.transform(X_test)"
   ]
  },
  {
   "cell_type": "code",
   "execution_count": 8,
   "metadata": {},
   "outputs": [],
   "source": [
    "clf = eval(clf_name)(input_size=X_train.shape[-1])\n",
    "\n",
    "num_params = len(convert_grad_to_ndarray(list(clf.parameters())))\n",
    "if isinstance(clf, Logistic_Regression):\n",
    "    loss_func = logistic_loss_torch\n",
    "elif isinstance(clf, SVM):\n",
    "    loss_func = svm_loss_torch\n",
    "elif isinstance(clf, NeuralNetwork):\n",
    "    loss_func = nn_loss_torch\n",
    "else:\n",
    "    raise NotImplementedError"
   ]
  },
  {
   "cell_type": "code",
   "execution_count": 9,
   "metadata": {},
   "outputs": [
    {
     "name": "stdout",
     "output_type": "stream",
     "text": [
      "Initial statistical parity:  -0.09527579578571022\n",
      "Initial TPR parity:  -0.07785149123690549\n",
      "Initial predictive parity:  -0.10136869457116315\n",
      "Initial accuracy:  0.755\n"
     ]
    }
   ],
   "source": [
    "clf = eval(clf_name)(input_size=X_train.shape[-1])\n",
    "\n",
    "clf.fit(X_train, y_train)\n",
    "\n",
    "y_pred_test = clf.predict_proba(X_test)\n",
    "y_pred_train = clf.predict_proba(X_train)\n",
    "\n",
    "spd_0 = computeFairness(y_pred_test, X_test_orig, y_test, 0, dataset)\n",
    "print(\"Initial statistical parity: \", spd_0)\n",
    "\n",
    "tpr_parity_0 = computeFairness(y_pred_test, X_test_orig, y_test, 1, dataset)\n",
    "print(\"Initial TPR parity: \", tpr_parity_0)\n",
    "\n",
    "predictive_parity_0 = computeFairness(y_pred_test, X_test_orig, y_test, 2, dataset)\n",
    "print(\"Initial predictive parity: \", predictive_parity_0)\n",
    "\n",
    "accuracy_0 = computeAccuracy(y_test, y_pred_test)\n",
    "print(\"Initial accuracy: \", accuracy_0)"
   ]
  },
  {
   "cell_type": "markdown",
   "metadata": {},
   "source": [
    "<h5>INF calc on Original Labels<h5>"
   ]
  },
  {
   "cell_type": "code",
   "execution_count": 10,
   "metadata": {},
   "outputs": [],
   "source": [
    "#if_start = time.time()\n",
    "metric_val = [spd_0, tpr_parity_0, predictive_parity_0][metric]\n",
    "del_F_del_theta = get_del_F_del_theta(clf, X_test_orig, X_test, y_test, dataset, metric)"
   ]
  },
  {
   "cell_type": "code",
   "execution_count": 11,
   "metadata": {},
   "outputs": [
    {
     "name": "stderr",
     "output_type": "stream",
     "text": [
      "100%|██████████| 800/800 [00:05<00:00, 134.09it/s]\n"
     ]
    }
   ],
   "source": [
    "hessian_all_points = get_hessian_all_points(clf, X_train, y_train, loss_func)"
   ]
  },
  {
   "cell_type": "code",
   "execution_count": 12,
   "metadata": {},
   "outputs": [],
   "source": [
    "del_L_del_theta = get_del_L_del_theta(clf, X_train, y_train, loss_func)"
   ]
  },
  {
   "cell_type": "code",
   "execution_count": 13,
   "metadata": {},
   "outputs": [],
   "source": [
    "hinv_v, hinv = get_hinv_v(hessian_all_points, np.transpose(del_L_del_theta))\n",
    "#incorporate del_l_del_theta_i with the updated datapoint"
   ]
  },
  {
   "cell_type": "code",
   "execution_count": 14,
   "metadata": {},
   "outputs": [],
   "source": [
    "#multiple the inverse by -1\n",
    "negative_hinv_v = -1*hinv_v"
   ]
  },
  {
   "cell_type": "code",
   "execution_count": 15,
   "metadata": {},
   "outputs": [],
   "source": [
    "inf = np.matmul(np.transpose(negative_hinv_v), del_F_del_theta)\n",
    "#For the new datapoint re-calculate the hinv_v"
   ]
  },
  {
   "cell_type": "code",
   "execution_count": 16,
   "metadata": {},
   "outputs": [],
   "source": [
    "inf = (-1/(len(X_train))) *inf "
   ]
  },
  {
   "cell_type": "markdown",
   "metadata": {},
   "source": [
    "<h5>Graph of Removal<h5>"
   ]
  },
  {
   "cell_type": "code",
   "execution_count": 17,
   "metadata": {},
   "outputs": [],
   "source": [
    "predictors = ['status', 'duration', 'credit_hist', 'credit_amt', 'savings',\n",
    "       'employment', 'install_rate', 'debtors', 'residence', 'property', 'age',\n",
    "       'install_plans', 'num_credits', 'job', 'num_liable', 'telephone',\n",
    "       'foreign_worker', 'gender', 'purpose_A40', 'purpose_A41',\n",
    "       'purpose_A410', 'purpose_A42', 'purpose_A43', 'purpose_A44',\n",
    "       'purpose_A45', 'purpose_A46', 'purpose_A48', 'purpose_A49',\n",
    "       'housing_A151', 'housing_A152', 'housing_A153']\n",
    "target_var =['credit_risk']"
   ]
  },
  {
   "cell_type": "code",
   "execution_count": 18,
   "metadata": {},
   "outputs": [],
   "source": [
    "#Combine x_train and y_train\n",
    "#I combine these so that when I flip the labels I have one DF that I work with\n",
    "#Rather than 2 numpy.ndarrays\n",
    "train_demo_df = pd.DataFrame(X_train, columns = predictors)\n",
    "train_outcome_df = y_train.to_frame()\n",
    "train_outcome_df=train_outcome_df.rename(columns={'credit':'credit_risk'})\n",
    "train_full_df = pd.concat([train_demo_df, train_outcome_df], axis=1)"
   ]
  },
  {
   "cell_type": "code",
   "execution_count": 19,
   "metadata": {},
   "outputs": [],
   "source": [
    "#Function to run the logistic regression model based on classifier.py\n",
    "def lr_model(training_df, test_attr_df, classifier):\n",
    "    changed_df_labels = training_df.pop('credit_risk')\n",
    "    changed_df_attr = training_df.to_numpy()\n",
    "\n",
    "    classifier.fit(changed_df_attr,changed_df_labels.values)\n",
    "    y_predicted = classifier.predict_proba(test_attr_df)\n",
    "\n",
    "    training_df['credit_risk'] = changed_df_labels\n",
    "\n",
    "    return y_predicted\n"
   ]
  },
  {
   "cell_type": "code",
   "execution_count": 20,
   "metadata": {},
   "outputs": [],
   "source": [
    "#Removal \n",
    "copy_train = train_full_df.copy()\n",
    "difference = []\n",
    "\n",
    "for index in copy_train.index:\n",
    "    df_dropped = copy_train.copy()\n",
    "    df_dropped = copy_train.drop(index)\n",
    "    #Run lr_model() to get predicted probabilities\n",
    "    ypred = lr_model(df_dropped, X_test, clf)\n",
    "    parity = computeFairness(ypred, X_test_orig, y_test, 0, dataset)\n",
    "    \n",
    "    parity = parity-spd_0\n",
    "\n",
    "    difference.append(parity)\n",
    "#This does not fall under the measuring the time taken to decide how long it will take for IF to work "
   ]
  },
  {
   "cell_type": "code",
   "execution_count": 35,
   "metadata": {},
   "outputs": [],
   "source": [
    "decimal_array = [format(num, '.10f') for num in inf]\n",
    "decimal_array = [float(num) for num in decimal_array]"
   ]
  },
  {
   "cell_type": "code",
   "execution_count": 36,
   "metadata": {},
   "outputs": [
    {
     "data": {
      "image/png": "[encoded data removed]",
      "text/plain": [
       "<Figure size 640x480 with 1 Axes>"
      ]
     },
     "metadata": {},
     "output_type": "display_data"
    }
   ],
   "source": [
    "predicted_diff = decimal_array\n",
    "#actual_diff = actual_parity_list\n",
    "actual_diff = difference\n",
    "\n",
    "# Create the scatter plot\n",
    "plt.scatter(actual_diff, predicted_diff, label='Data Points')\n",
    "\n",
    "# Set the labels for the axes\n",
    "plt.xlabel('Actual Diff in Parity')\n",
    "plt.ylabel('Predicted Diff in Parity')\n",
    "\n",
    "# Set the title of the plot (optional)\n",
    "plt.title('Predicted vs Actual Diff in Parity (Removal)')\n",
    "\n",
    "# Add a legend\n",
    "plt.legend()\n",
    "\n",
    "# Show the plot\n",
    "plt.show()"
   ]
  },
  {
   "cell_type": "markdown",
   "metadata": {},
   "source": [
    "**<span style=\"color:red\">RP: Checked until this point</span>**"
   ]
  },
  {
   "cell_type": "markdown",
   "metadata": {},
   "source": [
    "<h5>INF calc on flipped labels<h5>"
   ]
  },
  {
   "cell_type": "code",
   "execution_count": 23,
   "metadata": {},
   "outputs": [],
   "source": [
    "#Flip all the labels for the encoded data and the scaled data\n",
    "#The labels are the same just the training data looks different \n",
    "y_train_changed = y_train.replace({0:1,1:0})"
   ]
  },
  {
   "cell_type": "code",
   "execution_count": 24,
   "metadata": {},
   "outputs": [],
   "source": [
    "clf = eval(clf_name)(input_size=X_train.shape[-1])\n",
    "\n",
    "num_params = len(convert_grad_to_ndarray(list(clf.parameters())))\n",
    "if isinstance(clf, Logistic_Regression):\n",
    "    loss_func = logistic_loss_torch\n",
    "elif isinstance(clf, SVM):\n",
    "    loss_func = svm_loss_torch\n",
    "elif isinstance(clf, NeuralNetwork):\n",
    "    loss_func = nn_loss_torch\n",
    "else:\n",
    "    raise NotImplementedError"
   ]
  },
  {
   "cell_type": "code",
   "execution_count": 25,
   "metadata": {},
   "outputs": [
    {
     "name": "stdout",
     "output_type": "stream",
     "text": [
      "Initial statistical parity:  0.09501853843685237\n",
      "Initial TPR parity:  0.07762472729685654\n",
      "Initial predictive parity:  -0.10818301462090729\n",
      "Initial accuracy:  0.245\n"
     ]
    }
   ],
   "source": [
    "clf = eval(clf_name)(input_size=X_train.shape[-1])\n",
    "\n",
    "clf.fit(X_train, y_train_changed)\n",
    "\n",
    "y_pred_test = clf.predict_proba(X_test)\n",
    "y_pred_train = clf.predict_proba(X_train)\n",
    "\n",
    "spd_1 = computeFairness(y_pred_test, X_test_orig, y_test, 0, dataset)\n",
    "print(\"Initial statistical parity: \", spd_1)\n",
    "\n",
    "tpr_parity_0 = computeFairness(y_pred_test, X_test_orig, y_test, 1, dataset)\n",
    "print(\"Initial TPR parity: \", tpr_parity_0)\n",
    "\n",
    "predictive_parity_0 = computeFairness(y_pred_test, X_test_orig, y_test, 2, dataset)\n",
    "print(\"Initial predictive parity: \", predictive_parity_0)\n",
    "\n",
    "accuracy_0 = computeAccuracy(y_test, y_pred_test)\n",
    "print(\"Initial accuracy: \", accuracy_0)"
   ]
  },
  {
   "cell_type": "code",
   "execution_count": 26,
   "metadata": {},
   "outputs": [],
   "source": [
    "#if_start = time.time()\n",
    "metric_val = [spd_1, tpr_parity_0, predictive_parity_0][metric]\n",
    "del_F_del_theta_2 = get_del_F_del_theta(clf, X_test_orig, X_test, y_test, dataset, metric)"
   ]
  },
  {
   "cell_type": "code",
   "execution_count": 27,
   "metadata": {},
   "outputs": [
    {
     "name": "stderr",
     "output_type": "stream",
     "text": [
      "100%|██████████| 800/800 [00:06<00:00, 129.53it/s]\n"
     ]
    }
   ],
   "source": [
    "hessian_all_points_2 = get_hessian_all_points(clf, X_train, y_train_changed, loss_func)"
   ]
  },
  {
   "cell_type": "code",
   "execution_count": 28,
   "metadata": {},
   "outputs": [],
   "source": [
    "del_L_del_theta_2 = get_del_L_del_theta(clf, X_train, y_train_changed, loss_func)"
   ]
  },
  {
   "cell_type": "code",
   "execution_count": 29,
   "metadata": {},
   "outputs": [],
   "source": [
    "hinv_v_2, hinv_2 = get_hinv_v(hessian_all_points_2, np.transpose(del_L_del_theta_2))\n",
    "#incorporate del_l_del_theta_i with the updated datapoint"
   ]
  },
  {
   "cell_type": "code",
   "execution_count": 30,
   "metadata": {},
   "outputs": [],
   "source": [
    "#get the negative of the inverse hessian\n",
    "negative_hinv_v_2 = -1*hinv_v_2"
   ]
  },
  {
   "cell_type": "code",
   "execution_count": 31,
   "metadata": {},
   "outputs": [],
   "source": [
    "inf2 = np.matmul(np.transpose(negative_hinv_v_2), del_F_del_theta_2)\n",
    "#For the new datapoint re-calculate the hinv_v"
   ]
  },
  {
   "cell_type": "code",
   "execution_count": 32,
   "metadata": {},
   "outputs": [],
   "source": [
    "inf2 = (-1/len(X_train)) *inf2 "
   ]
  },
  {
   "cell_type": "markdown",
   "metadata": {},
   "source": [
    "<h4>Calculate the difference between the changed vs original<h4>"
   ]
  },
  {
   "cell_type": "code",
   "execution_count": 27,
   "metadata": {},
   "outputs": [],
   "source": [
    "#Calculate the total influence in one full step\n",
    "#total_inf2 = ((-1*1/n)*np.matmul(np.transpose(-1*hinv_v_2),del_F_del_theta_2)) - ((-1*1/n)*(np.matmul(np.transpose(-1*hinv_v),del_F_del_theta)))"
   ]
  },
  {
   "cell_type": "code",
   "execution_count": 28,
   "metadata": {},
   "outputs": [],
   "source": [
    "total_inf = inf2 - inf\n",
    "#if_end = time.time()\n",
    "#if_time1 = if_start - if_end"
   ]
  },
  {
   "cell_type": "code",
   "execution_count": 29,
   "metadata": {},
   "outputs": [
    {
     "name": "stdout",
     "output_type": "stream",
     "text": [
      "0.011944850073150597\n",
      "-0.00641793626245722\n",
      "800\n",
      "<class 'numpy.ndarray'>\n",
      "float64\n"
     ]
    }
   ],
   "source": [
    "print(max(total_inf))\n",
    "print(min(total_inf))\n",
    "print(len(total_inf))\n",
    "print(type(total_inf))\n",
    "print(total_inf.dtype)"
   ]
  },
  {
   "cell_type": "markdown",
   "metadata": {},
   "source": [
    "<h5>Flip the datapoints and remove the datapoints and compare the parity values<h5>"
   ]
  },
  {
   "cell_type": "code",
   "execution_count": 30,
   "metadata": {},
   "outputs": [],
   "source": [
    "predictors = ['status', 'duration', 'credit_hist', 'credit_amt', 'savings',\n",
    "       'employment', 'install_rate', 'debtors', 'residence', 'property', 'age',\n",
    "       'install_plans', 'num_credits', 'job', 'num_liable', 'telephone',\n",
    "       'foreign_worker', 'gender', 'purpose_A40', 'purpose_A41',\n",
    "       'purpose_A410', 'purpose_A42', 'purpose_A43', 'purpose_A44',\n",
    "       'purpose_A45', 'purpose_A46', 'purpose_A48', 'purpose_A49',\n",
    "       'housing_A151', 'housing_A152', 'housing_A153']\n",
    "target_var =['credit_risk']"
   ]
  },
  {
   "cell_type": "code",
   "execution_count": 31,
   "metadata": {},
   "outputs": [],
   "source": [
    "#Function to run the logistic regression model based on classifier.py\n",
    "def lr_model(training_df, test_attr_df, classifier):\n",
    "    changed_df_labels = training_df.pop('credit_risk')\n",
    "    changed_df_attr = training_df.to_numpy()\n",
    "\n",
    "    classifier.fit(changed_df_attr,changed_df_labels.values)\n",
    "    y_predicted = classifier.predict_proba(test_attr_df)\n",
    "\n",
    "    training_df['credit_risk'] = changed_df_labels\n",
    "\n",
    "    return y_predicted\n"
   ]
  },
  {
   "cell_type": "markdown",
   "metadata": {},
   "source": [
    "<h3>Flipping Based Influence Calculation<h3>"
   ]
  },
  {
   "cell_type": "code",
   "execution_count": 36,
   "metadata": {},
   "outputs": [],
   "source": [
    "#Start timing the process\n",
    "if_start = time.time()\n",
    "###################################\n",
    "flipping_dataset = 'german'\n",
    "flipping_clf_name = 'Logistic_Regression'\n",
    "flipping_metric = 0\n",
    "flipping_support = 0.05\n",
    "flipping_support_small = 0.3"
   ]
  },
  {
   "cell_type": "code",
   "execution_count": 37,
   "metadata": {},
   "outputs": [],
   "source": [
    "#Split for the flipping based influence calc\n",
    "X_train, X_test, y_train, y_test = load(flipping_dataset)"
   ]
  },
  {
   "cell_type": "code",
   "execution_count": 38,
   "metadata": {},
   "outputs": [],
   "source": [
    "duplicates = 1\n",
    "make_duplicates = lambda x, d: pd.concat([x]*d, axis=0).reset_index(drop=True)\n",
    "X_train = make_duplicates(X_train, duplicates)\n",
    "X_test = make_duplicates(X_test, duplicates)\n",
    "y_train = make_duplicates(y_train, duplicates)\n",
    "y_test = make_duplicates(y_test, duplicates)"
   ]
  },
  {
   "cell_type": "code",
   "execution_count": 39,
   "metadata": {},
   "outputs": [],
   "source": [
    "import copy\n",
    "X_train_orig = copy.deepcopy(X_train)\n",
    "X_test_orig = copy.deepcopy(X_test)\n",
    "\n",
    "from sklearn.preprocessing import StandardScaler\n",
    "sc = StandardScaler()\n",
    "X_train = sc.fit_transform(X_train)\n",
    "X_test = sc.transform(X_test)"
   ]
  },
  {
   "cell_type": "code",
   "execution_count": 40,
   "metadata": {},
   "outputs": [],
   "source": [
    "clf = eval(clf_name)(input_size=X_train.shape[-1])\n",
    "\n",
    "num_params = len(convert_grad_to_ndarray(list(clf.parameters())))\n",
    "if isinstance(clf, Logistic_Regression):\n",
    "    loss_func = logistic_loss_torch\n",
    "elif isinstance(clf, SVM):\n",
    "    loss_func = svm_loss_torch\n",
    "elif isinstance(clf, NeuralNetwork):\n",
    "    loss_func = nn_loss_torch\n",
    "else:\n",
    "    raise NotImplementedError"
   ]
  },
  {
   "cell_type": "code",
   "execution_count": 41,
   "metadata": {},
   "outputs": [
    {
     "name": "stdout",
     "output_type": "stream",
     "text": [
      "Initial statistical parity:  -0.09527579839341338\n",
      "Initial TPR parity:  -0.07785149414194836\n",
      "Initial predictive parity:  -0.10136869475949661\n",
      "Initial accuracy:  0.755\n"
     ]
    }
   ],
   "source": [
    "clf = eval(clf_name)(input_size=X_train.shape[-1])\n",
    "\n",
    "clf.fit(X_train, y_train)\n",
    "\n",
    "y_pred_test = clf.predict_proba(X_test)\n",
    "y_pred_train = clf.predict_proba(X_train)\n",
    "\n",
    "flipping_spd_0 = computeFairness(y_pred_test, X_test_orig, y_test, 0, flipping_dataset)\n",
    "print(\"Initial statistical parity: \", flipping_spd_0)\n",
    "\n",
    "tpr_parity_0 = computeFairness(y_pred_test, X_test_orig, y_test, 1, flipping_dataset)\n",
    "print(\"Initial TPR parity: \", tpr_parity_0)\n",
    "\n",
    "predictive_parity_0 = computeFairness(y_pred_test, X_test_orig, y_test, 2, flipping_dataset)\n",
    "print(\"Initial predictive parity: \", predictive_parity_0)\n",
    "\n",
    "accuracy_0 = computeAccuracy(y_test, y_pred_test)\n",
    "print(\"Initial accuracy: \", accuracy_0)"
   ]
  },
  {
   "cell_type": "markdown",
   "metadata": {},
   "source": [
    "<h5>INF for original datapoint<h5>"
   ]
  },
  {
   "cell_type": "code",
   "execution_count": 42,
   "metadata": {},
   "outputs": [],
   "source": [
    "flipping_metric_val = [flipping_spd_0, tpr_parity_0, predictive_parity_0][metric]\n",
    "flipping_del_F_del_theta = get_del_F_del_theta(clf, X_test_orig, X_test, y_test, dataset, metric)"
   ]
  },
  {
   "cell_type": "code",
   "execution_count": 43,
   "metadata": {},
   "outputs": [
    {
     "name": "stderr",
     "output_type": "stream",
     "text": [
      "100%|██████████| 800/800 [00:13<00:00, 58.40it/s]\n"
     ]
    }
   ],
   "source": [
    "flipping_hessian_all_points = get_hessian_all_points(clf, X_train, y_train, loss_func)"
   ]
  },
  {
   "cell_type": "code",
   "execution_count": 44,
   "metadata": {},
   "outputs": [],
   "source": [
    "flipping_del_L_del_theta = get_del_L_del_theta(clf, X_train, y_train, loss_func)"
   ]
  },
  {
   "cell_type": "code",
   "execution_count": 45,
   "metadata": {},
   "outputs": [],
   "source": [
    "flipping_hinv_v, flipping_hinv = get_hinv_v(flipping_hessian_all_points, np.transpose(flipping_del_L_del_theta))\n",
    "#incorporate del_l_del_theta_i with the updated datapoint"
   ]
  },
  {
   "cell_type": "code",
   "execution_count": 46,
   "metadata": {},
   "outputs": [],
   "source": [
    "#multiple the inverse by -1\n",
    "flipping_negative_hinv_v = -1*flipping_hinv_v"
   ]
  },
  {
   "cell_type": "code",
   "execution_count": 47,
   "metadata": {},
   "outputs": [],
   "source": [
    "flipping_inf = np.matmul(np.transpose(flipping_negative_hinv_v), flipping_del_F_del_theta)\n",
    "#For the new datapoint re-calculate the hinv_v"
   ]
  },
  {
   "cell_type": "code",
   "execution_count": 48,
   "metadata": {},
   "outputs": [],
   "source": [
    "flipping_inf = (-1/(len(X_train))) * flipping_inf"
   ]
  },
  {
   "cell_type": "markdown",
   "metadata": {},
   "source": [
    "<h5>INF for Flipped datapoint<h5>"
   ]
  },
  {
   "cell_type": "code",
   "execution_count": 49,
   "metadata": {},
   "outputs": [],
   "source": [
    "#Flip all the labels for the encoded data and the scaled data\n",
    "#The labels are the same just the training data looks different \n",
    "y_train_changed = y_train.replace({0:1,1:0})"
   ]
  },
  {
   "cell_type": "code",
   "execution_count": 50,
   "metadata": {},
   "outputs": [],
   "source": [
    "clf = eval(clf_name)(input_size=X_train.shape[-1])\n",
    "\n",
    "num_params = len(convert_grad_to_ndarray(list(clf.parameters())))\n",
    "if isinstance(clf, Logistic_Regression):\n",
    "    loss_func = logistic_loss_torch\n",
    "elif isinstance(clf, SVM):\n",
    "    loss_func = svm_loss_torch\n",
    "elif isinstance(clf, NeuralNetwork):\n",
    "    loss_func = nn_loss_torch\n",
    "else:\n",
    "    raise NotImplementedError"
   ]
  },
  {
   "cell_type": "code",
   "execution_count": 51,
   "metadata": {},
   "outputs": [
    {
     "name": "stdout",
     "output_type": "stream",
     "text": [
      "Initial statistical parity:  0.09501853685360401\n",
      "Initial TPR parity:  0.07762472527187081\n",
      "Initial predictive parity:  -0.10818301552416576\n",
      "Initial accuracy:  0.245\n"
     ]
    }
   ],
   "source": [
    "clf = eval(clf_name)(input_size=X_train.shape[-1])\n",
    "\n",
    "clf.fit(X_train, y_train_changed)\n",
    "\n",
    "y_pred_test = clf.predict_proba(X_test)\n",
    "y_pred_train = clf.predict_proba(X_train)\n",
    "\n",
    "flipping_spd_1 = computeFairness(y_pred_test, X_test_orig, y_test, 0, flipping_dataset)\n",
    "print(\"Initial statistical parity: \", flipping_spd_1)\n",
    "\n",
    "tpr_parity_0 = computeFairness(y_pred_test, X_test_orig, y_test, 1, flipping_dataset)\n",
    "print(\"Initial TPR parity: \", tpr_parity_0)\n",
    "\n",
    "predictive_parity_0 = computeFairness(y_pred_test, X_test_orig, y_test, 2, flipping_dataset)\n",
    "print(\"Initial predictive parity: \", predictive_parity_0)\n",
    "\n",
    "accuracy_0 = computeAccuracy(y_test, y_pred_test)\n",
    "print(\"Initial accuracy: \", accuracy_0)"
   ]
  },
  {
   "cell_type": "code",
   "execution_count": 52,
   "metadata": {},
   "outputs": [],
   "source": [
    "if_start = time.time()\n",
    "flipping_metric_val_2 = [flipping_spd_1, tpr_parity_0, predictive_parity_0][metric]\n",
    "flipping_del_F_del_theta_2 = get_del_F_del_theta(clf, X_test_orig, X_test, y_test, dataset, metric)"
   ]
  },
  {
   "cell_type": "code",
   "execution_count": 53,
   "metadata": {},
   "outputs": [
    {
     "name": "stderr",
     "output_type": "stream",
     "text": [
      "100%|██████████| 800/800 [00:14<00:00, 55.21it/s]\n"
     ]
    }
   ],
   "source": [
    "flipping_hessian_all_points_2 = get_hessian_all_points(clf, X_train, y_train_changed, loss_func)"
   ]
  },
  {
   "cell_type": "code",
   "execution_count": 54,
   "metadata": {},
   "outputs": [],
   "source": [
    "flipping_del_L_del_theta_2 = get_del_L_del_theta(clf, X_train, y_train_changed, loss_func)"
   ]
  },
  {
   "cell_type": "code",
   "execution_count": 55,
   "metadata": {},
   "outputs": [],
   "source": [
    "flipping_hinv_v_2, flipping_hinv_2 = get_hinv_v(flipping_hessian_all_points_2, np.transpose(flipping_del_L_del_theta_2))\n",
    "#incorporate del_l_del_theta_i with the updated datapoint"
   ]
  },
  {
   "cell_type": "code",
   "execution_count": 56,
   "metadata": {},
   "outputs": [],
   "source": [
    "#multiple the inverse by -1\n",
    "flipping_negative_hinv_v_2 = -1*flipping_hinv_v_2"
   ]
  },
  {
   "cell_type": "code",
   "execution_count": 57,
   "metadata": {},
   "outputs": [],
   "source": [
    "flipping_inf2 = np.matmul(np.transpose(flipping_negative_hinv_v_2), flipping_del_F_del_theta_2)\n",
    "#For the new datapoint re-calculate the hinv_v"
   ]
  },
  {
   "cell_type": "code",
   "execution_count": 58,
   "metadata": {},
   "outputs": [],
   "source": [
    "flipping_inf2 = (-1/(len(X_train))) * flipping_inf2"
   ]
  },
  {
   "cell_type": "code",
   "execution_count": 59,
   "metadata": {},
   "outputs": [],
   "source": [
    "flipping_total_inf = flipping_inf2 - flipping_inf\n",
    "if_end = time.time()\n",
    "if_time = if_start - if_end"
   ]
  },
  {
   "cell_type": "markdown",
   "metadata": {},
   "source": [
    "<h5>Flip the datapoints and remove the datapoints and compare the parity values<h5>"
   ]
  },
  {
   "cell_type": "code",
   "execution_count": 60,
   "metadata": {},
   "outputs": [],
   "source": [
    "predictors = ['status', 'duration', 'credit_hist', 'credit_amt', 'savings',\n",
    "       'employment', 'install_rate', 'debtors', 'residence', 'property', 'age',\n",
    "       'install_plans', 'num_credits', 'job', 'num_liable', 'telephone',\n",
    "       'foreign_worker', 'gender', 'purpose_A40', 'purpose_A41',\n",
    "       'purpose_A410', 'purpose_A42', 'purpose_A43', 'purpose_A44',\n",
    "       'purpose_A45', 'purpose_A46', 'purpose_A48', 'purpose_A49',\n",
    "       'housing_A151', 'housing_A152', 'housing_A153']\n",
    "target_var =['credit_risk']"
   ]
  },
  {
   "cell_type": "code",
   "execution_count": 61,
   "metadata": {},
   "outputs": [],
   "source": [
    "#Function to run the logistic regression model based on classifier.py\n",
    "def lr_model(training_df, test_attr_df, classifier):\n",
    "    changed_df_labels = training_df.pop('credit_risk')\n",
    "    changed_df_attr = training_df.to_numpy()\n",
    "\n",
    "    classifier.fit(changed_df_attr,changed_df_labels.values)\n",
    "    y_predicted = classifier.predict_proba(test_attr_df)\n",
    "\n",
    "    training_df['credit_risk'] = changed_df_labels\n",
    "\n",
    "    return y_predicted\n"
   ]
  },
  {
   "cell_type": "code",
   "execution_count": 62,
   "metadata": {},
   "outputs": [],
   "source": [
    "#Combine x_train and y_train\n",
    "#I combine these so that when I flip the labels I have one DF that I work with\n",
    "#Rather than 2 numpy.ndarrays\n",
    "train_demo_df = pd.DataFrame(X_train, columns = predictors)\n",
    "train_outcome_df = y_train.to_frame()\n",
    "train_outcome_df=train_outcome_df.rename(columns={'credit':'credit_risk'})\n",
    "train_full_df = pd.concat([train_demo_df, train_outcome_df], axis=1)"
   ]
  },
  {
   "cell_type": "code",
   "execution_count": 63,
   "metadata": {},
   "outputs": [],
   "source": [
    "#Flipping\n",
    "#Make the original flips to test for the parity after each flip \n",
    "actual_df_train = train_full_df.copy()\n",
    "actual_parity_list = []\n",
    "\n",
    "for index, row in actual_df_train.iterrows():\n",
    "    if row['credit_risk'] == 1:\n",
    "        #Flip the label at credit_risk = 1 to 0\n",
    "        actual_df_train.at[index,'credit_risk'] = 0\n",
    "        actual_pred = lr_model(actual_df_train, X_test, clf)\n",
    "        actual_parity = computeFairness(actual_pred, X_test_orig, y_test, 0, dataset)\n",
    "        actual_parity_list.append(actual_parity)\n",
    "        actual_df_train.at[index,'credit_risk'] = 1\n",
    "        \n",
    "    elif row['credit_risk'] == 0:\n",
    "        actual_df_train.at[index,'credit_risk'] = 1\n",
    "        actual_pred = lr_model(actual_df_train, X_test, clf)\n",
    "        actual_parity = computeFairness(actual_pred, X_test_orig, y_test, 0, dataset)\n",
    "        actual_parity_list.append(actual_parity)\n",
    "        actual_df_train.at[index,'credit_risk'] = 0"
   ]
  },
  {
   "cell_type": "code",
   "execution_count": 64,
   "metadata": {},
   "outputs": [],
   "source": [
    "decimal_array = [format(num, '.10f') for num in total_inf]\n",
    "decimal_array = [float(num) for num in decimal_array]"
   ]
  },
  {
   "cell_type": "code",
   "execution_count": 65,
   "metadata": {},
   "outputs": [
    {
     "data": {
      "image/png": "[encoded data removed]",
      "text/plain": [
       "<Figure size 640x480 with 1 Axes>"
      ]
     },
     "metadata": {},
     "output_type": "display_data"
    }
   ],
   "source": [
    "predicted_diff = decimal_array\n",
    "actual_diff = actual_parity_list\n",
    "\n",
    "# Create the scatter plot\n",
    "plt.scatter(actual_diff, predicted_diff, label='Data Points')\n",
    "\n",
    "# Set the labels for the axes\n",
    "plt.xlabel('Actual Diff in Parity')\n",
    "plt.ylabel('Predicted Diff in Parity')\n",
    "\n",
    "# Set the title of the plot (optional)\n",
    "plt.title('Predicted vs Actual Diff in Parity (Flipping)')\n",
    "\n",
    "# Add a legend\n",
    "plt.legend()\n",
    "\n",
    "# Show the plot\n",
    "plt.show()"
   ]
  },
  {
   "cell_type": "markdown",
   "metadata": {},
   "source": [
    "<h3>##########################################################################################<h3>"
   ]
  },
  {
   "cell_type": "markdown",
   "metadata": {},
   "source": [
    "<h4>Make flips based on the flipping_total_inf value<h4>"
   ]
  },
  {
   "cell_type": "code",
   "execution_count": 66,
   "metadata": {},
   "outputs": [],
   "source": [
    "if_start = time.time()\n",
    "index_list = []\n",
    "for i in range(800):\n",
    "    index_list.append(i)"
   ]
  },
  {
   "cell_type": "code",
   "execution_count": 67,
   "metadata": {},
   "outputs": [],
   "source": [
    "#Make a copy of the training data to make flips on \n",
    "influence_train_copy = train_full_df.copy()"
   ]
  },
  {
   "cell_type": "code",
   "execution_count": 68,
   "metadata": {},
   "outputs": [
    {
     "name": "stdout",
     "output_type": "stream",
     "text": [
      "-15.022312641143799\n"
     ]
    }
   ],
   "source": [
    "#Order the total_inf in descending order based on magnitude\n",
    "combined_list = list(zip(flipping_total_inf, index_list))\n",
    "\n",
    "# Step 2: Sort the combined list based on the float values\n",
    "sorted_combined_list = sorted(combined_list, key=lambda x: abs(x[0]), reverse=True)\n",
    "\n",
    "# Step 3: Unpack the sorted list of tuples back into two separate lists\n",
    "abs_sorted_float_list, abs_sorted_index_list = zip(*sorted_combined_list)\n",
    "list(abs_sorted_float_list)\n",
    "list(abs_sorted_index_list)\n",
    "#Measure up to here for the influence functions\n",
    "#This will tell us how long it takes for influence functions to determine which order I need to flip the datapoints in\n",
    "#if_time: Time taken to decide the order in which the datapoints need to be flipped\n",
    "if_end = time.time()\n",
    "if_time2 = if_end-if_start\n",
    "if_time2 += if_time\n",
    "print(if_time2)"
   ]
  },
  {
   "cell_type": "code",
   "execution_count": 69,
   "metadata": {},
   "outputs": [],
   "source": [
    "if if_time2 < 0:\n",
    "    if_time2 = -1 * if_time2\n",
    "else: \n",
    "    pass"
   ]
  },
  {
   "cell_type": "code",
   "execution_count": 70,
   "metadata": {},
   "outputs": [
    {
     "name": "stdout",
     "output_type": "stream",
     "text": [
      "[-0.10218003974296153, -0.10753716644831002, -0.11207302068360159, -0.11622929112054403, -0.12125293849967422, -0.1265907552558928, -0.12146631847135725, -0.11644866773858675, -0.12104141786694533, -0.11648934646509579, -0.12095326827839015, -0.11600848333910108, -0.11992157273925841, -0.11489752028137445, -0.11907284599728873, -0.11389761818572874, -0.11768810157664122, -0.12249887534417214, -0.11609310428611941, -0.11294396831654008, -0.11619228105992074, -0.1210963318124414, -0.11697704857215285, -0.1123562455642968, -0.11716357874684036, -0.12069159881211822, -0.12367278668098147, -0.12866318197920923, -0.13226142679341146, -0.12754663210362194, -0.1218871074728668, -0.11724128467030814, -0.11432541436515753, -0.1111111705657094, -0.10591281452216206, -0.10112891490571196, -0.10429658717475832, -0.10836032736115164, -0.10556697463616738, -0.09946359707973906, -0.10397338941693313, -0.1011811616364866, -0.09581841188482942, -0.09160455185920002, -0.08911148360930377, -0.09173081158660346, -0.09513126402162009, -0.09229342415928843, -0.0868544979952276, -0.08208891954272979, -0.08515955982729795, -0.07956752525642508, -0.08330830466002226, -0.07838404104113583, -0.08096061768010254, -0.08498870152980087, -0.08834913275204603, -0.08261581957340247, -0.08507879846729338, -0.08776861783117063, -0.09050564486533408, -0.08843150124885135, -0.0865678846836091, -0.0828729552682489, -0.08496270226314662, -0.08233541827648871, -0.08480131994001572, -0.08710479168221352, -0.08225583219900723, -0.08610517387278382, -0.08120162668637931, -0.07632908364757895, -0.07425633873790505, -0.06855838708579542, -0.07255583694204693, -0.07559591215103867, -0.07800141973420982, -0.08014305788092313, -0.07716865427792075, -0.08040974843315785, -0.07724480014294388, -0.07218671943992372, -0.07421751306392255, -0.0718699373770505, -0.06659599193371823, -0.06422528428956864, -0.06106783719733355, -0.06561405714601276, -0.06310562286525967, -0.060060447873547584, -0.062215494876727395, -0.0667610202450305, -0.06909651174210008, -0.06729279546998446, -0.06440275977365673, -0.061707993131130956, -0.06367280324921021, -0.06767621859908102, -0.06927052503451714, -0.06442601745948195, -0.06658082990907133, -0.06972461934201424, -0.06585602727718654, -0.06424495880492032, -0.06214113691821699, -0.056153346225619405, -0.052982489299029156, -0.05101615698076778, -0.048419949039816834, -0.04337361110374338, -0.045746006164699815, -0.04849827555008224, -0.05104675055481489, -0.04824704783968625, -0.046233748784288764, -0.04831260987557462, -0.04504926013760269, -0.04214676511473958, -0.03784031821414835, -0.03578614471480246, -0.030672369664534904, -0.027970632538199425, -0.025003517139703058, -0.021929627750068903, -0.025154659012332603, -0.02738646254874766, -0.02973011326976127, -0.026655701175332114, -0.02174229538068173, -0.020007113367319085, -0.02517725825309758, -0.020504417549818688, -0.023961053276434607, -0.02666285992600015, -0.023593805357813857, -0.02589663243852558, -0.028062599012628198, -0.023554006405174688, -0.02173620280809707, -0.02444960386492312, -0.022445554565638237, -0.01777130966074758, -0.010427058674395084, -0.012399792158976242, -0.00781743726693096, -0.009978189272806026, -0.008312949538230918, -0.010705193411558844, -0.00907756905071444, -0.011319836368784308, -0.013536566682159856, -0.014963018661364957, -0.013627420691773251, -0.016787108872085788, -0.015137217426672622, -0.013859142037108474, -0.010591674037277676, -0.008617026126012228, -0.004306741524487734, -0.006260348623618461, -0.008085374580696247, -0.010191653994843342, -0.01228021346032615, -0.015327417664229848, -0.010964589612558528, -0.00798420789651566, -0.002552371192723557, -0.004903329536318779, -0.0034439637325703876, -6.604008376598358e-05, 0.001764257019385651, 0.005566778872162059, 0.01031032688915734, 0.015702291019260795, 0.013382413703948215, 0.015372104663401887, 0.01635928964242339, 0.018102262169122696, 0.016164656914770537, 0.019828988937661052, 0.022441197931766466, 0.02414927147328849, 0.02204222795553501, 0.023658916866406754, 0.02716360595077283, 0.029190639825537823, 0.03058485486544671, 0.028065084572881482, 0.031083135819062524, 0.02981892554089427, 0.035796888964250706, 0.033073684806004144, 0.03548287604935474, 0.03975002951920026, 0.045021798554807924, 0.04154367088340227, 0.03670591656118627, 0.03841881887055931, 0.040157137392088704, 0.041876209015026644, 0.0445326430723072, 0.04541106279939411, 0.04352825875394051, 0.04656599657610061, 0.051049781031906605, 0.05318971290253105, 0.0504030107986182, 0.04891937179490924, 0.04648215011693535, 0.047859777230769396, 0.04649767656810577, 0.04433302492834634, 0.04654831262305381, 0.049222154356539316, 0.046771273482590914, 0.05055912770330906, 0.05426022508181627, 0.05667478749528532, 0.057816958706826016, 0.05609386200085276, 0.05724326437339189, 0.05928608039394012, 0.06081076841801403, 0.0632405518554151, 0.06986043741926551, 0.07114781481213861, 0.07220213022083044, 0.07364318342879417, 0.07544597960077226, 0.0812848288100213, 0.08243411183357241, 0.08069336684420714, 0.08190946914255615, 0.0793508121278137, 0.08016696069389573, 0.08278679167851799, 0.08441053503192963, 0.08281194800511005, 0.08469371600076558, 0.08350525619462135, 0.08228802718222139, 0.08004304110072558, 0.08111641663126656, 0.07834562640637155, 0.08045274019241333, 0.08238876881077883, 0.08090937822125843, 0.08227849369868634, 0.08061504312790935, 0.08586304001510148, 0.08473716326989233, 0.08215771825052798, 0.08036628025583914, 0.08459668532013898, 0.08816121066920457, 0.08528182907029991, 0.08414618680253627, 0.08694962942972773, 0.08437486784532666, 0.08019420523196452, 0.08149833772331483, 0.07983654746785762, 0.07757451422512529, 0.07438144208863384, 0.07184459166601309, 0.0708181825466454, 0.06835339209064839, 0.07063282001763582, 0.07412585420534012, 0.0764309876598418, 0.075601805280894, 0.07692316845059388, 0.08086953964084387, 0.07909884154796609, 0.08323394265025852, 0.08040808280929923, 0.0821823825128376, 0.08266601851209998, 0.08002643417567012, 0.07968601165339351, 0.08382495231926446, 0.0814967589452863, 0.08271734640002248, 0.08780117528513076, 0.08889276795089252, 0.09055240685120225, 0.08853135798126455, 0.08742089206352832, 0.08600444644689553, 0.08420585757121446, 0.08650677539408214, 0.08352907067164772, 0.08777402518317101, 0.0861182282678783, 0.08844063123688106, 0.08644254701212051, 0.0876587394624948, 0.08642519926652314, 0.09100790694355965, 0.09186921836808326, 0.0926269515417516, 0.0934346979483962, 0.09699485963210464, 0.09451549192890518, 0.09956152029335497, 0.10480387825518844, 0.1064758536405862, 0.10797817585989833, 0.10592877278104418, 0.1062288213521243, 0.10805761618539689, 0.11204123748466377, 0.11378283230587838, 0.11222885483875866, 0.11113168932497497, 0.10968893906101584, 0.10794434743002057, 0.1089853932149708, 0.11015346739441156, 0.11511958027258518, 0.11695123296231025, 0.11532972017303111, 0.11456374451518059, 0.11768400454893713, 0.11665887357667093, 0.1154983648099005, 0.11441018255427482, 0.11225965376943348, 0.10826990762725475, 0.10998196341097355, 0.11227711066603663, 0.11563596101477736, 0.1209489515982568, 0.12277247980237005, 0.12689301809296005, 0.12448596544563773, 0.12267750054597859, 0.12061946876347063, 0.11797245470806961, 0.11595329567790036, 0.11316266944631925, 0.11918774414807554, 0.117591243237257, 0.11456207334995272, 0.11363697340711942, 0.11478557130321865, 0.11629280596971514, 0.1149578552693129, 0.11971581419929855, 0.11826580986380575, 0.11991307977586985, 0.11904038488864899, 0.1226413441821933, 0.11924564391374581, 0.11676275711506601, 0.11854766830801955, 0.1229702100157738, 0.125762477889657, 0.1239408630877733, 0.12491504773497586, 0.12413335256278513, 0.1221016416326165, 0.12298815213143832, 0.12635747492313387, 0.12628047131001952, 0.12500386536121366, 0.1253763714805246, 0.13120678700506694, 0.13298365268856294, 0.1380515687167645, 0.13704871181398637, 0.14189927708357575, 0.14035059325397015, 0.13880292344838374, 0.13984597641974683, 0.13835131134837875, 0.14436288382858042, 0.14312013294547798, 0.1416105031967163, 0.14011481162160644, 0.1414021350443363, 0.1395782103762031, 0.14144558925181627, 0.14018773622810843, 0.13935442175716162, 0.13839970584958794, 0.13547786530107264, 0.13785587642341857, 0.1360750284045934, 0.14110508002340794, 0.13810822013765567, 0.13998063690960405, 0.14610650464892383, 0.14463837835937737, 0.1422087719663977, 0.1426085840910673, 0.14018291980028152, 0.13762069158256052, 0.1390378227457404, 0.13947227951139218, 0.1407361090183259, 0.14615014698356393, 0.14483060669153924, 0.14609197434037918, 0.14544147457927464, 0.14538421016186476, 0.14771818667650227, 0.14588488470762973, 0.14409399535506967, 0.14682004991918796, 0.1479112397879362, 0.15228228401392696, 0.15507672503590586, 0.1541946429759264, 0.15695340894162657, 0.16239936035126445, 0.16100638285279273, 0.15943054817616942, 0.1646218560636043, 0.16467665433883671, 0.162711962684989, 0.1664225561544299, 0.16373884417116646, 0.16197890583425767, 0.16827549897134303, 0.17093937303870915, 0.16971814688295123, 0.17621503714472053, 0.18077986650168892, 0.17936707045882938, 0.1813257921487093, 0.1805838655680418, 0.18586705327033998, 0.1840561574324966, 0.19003316257148978, 0.1913575559854508, 0.190228638984263, 0.18821011260151865, 0.19364799316972492, 0.19112587329000236, 0.19580676946789022, 0.19828542899340396, 0.1960106568410993, 0.2006467290222645, 0.20499741155654194, 0.20427419971674676, 0.20496733747422702, 0.2037837155163288, 0.2044255478307605, 0.2014448247849941, 0.20262295883148906, 0.2014524888247251, 0.2001920755952597, 0.20518801733851433, 0.21122571192681794, 0.21283075865358114, 0.21092638149857518, 0.2102400470525026, 0.20826330725103614, 0.2067122736945748, 0.2053110178560018, 0.20556334126740688, 0.2048380214720964, 0.20942794606089588, 0.21022631172090767, 0.21219034269452097, 0.2142826743423939, 0.21263525206595657, 0.21259458810091025, 0.21163380909711127, 0.21018549371510747, 0.20797765236347915, 0.20959648322314023, 0.20813477877527475, 0.20866402443498366, 0.20734506286680698, 0.2080686135217547, 0.20832607671618464, 0.20925241634249686, 0.20686107557266953, 0.2047774650156498, 0.2031633021309972, 0.20240912772715092, 0.2005631901323795, 0.20092583056539304, 0.20618788208812472, 0.20432215202599757, 0.20353441517800086, 0.20172895658761264, 0.19991522245109083, 0.19930869042873384, 0.19863299392163758, 0.19695299360901114, 0.19550724979490036, 0.19656668417155737, 0.1982874225825072, 0.19766297787427906, 0.19675463102757929, 0.20264308713376522, 0.20133627373725171, 0.2022006360813975, 0.20103464275598526, 0.20047864187508824, 0.20012108609080315, 0.19963354114443066, 0.19872612413018947, 0.198177501745522, 0.19893581066280602, 0.19730188623070716, 0.19594967216253278, 0.19362266082316637, 0.1919430995360017, 0.19118612166494137, 0.1888722823932767, 0.18863504808396103, 0.1883003786206245, 0.18768209833651778, 0.18813152592629195, 0.18545963410288097, 0.18456033635884528, 0.18358186967670914, 0.18428815715014935, 0.18291229847818613, 0.1818501245230436, 0.18032199498265977, 0.17843980062752957, 0.1774703141301871, 0.18246072232723243, 0.18126303888857365, 0.17973789386451244, 0.18444174751639364, 0.18303830046206715, 0.18365834187716246, 0.18253254871815439, 0.18053530920296906, 0.17961761560291056, 0.1786883883178234, 0.176569907926023, 0.17516528293490408, 0.1782021518796682, 0.17742438875138766, 0.17934467215090993, 0.17946352828294032, 0.17883312646299598, 0.17933413051068786, 0.1787184474989772, 0.17719615418463952, 0.17540639657527213, 0.17390126734972, 0.1732942754402757, 0.17147635240107773, 0.16895901318639522, 0.17427331507205956, 0.173090645391494, 0.17440794128924608, 0.17551465723663573, 0.1753959423862398, 0.17341019511222838, 0.1721705197356641, 0.17289568167179825, 0.17190380915999415, 0.1727570962160826, 0.17147463411092756, 0.17081927144899967, 0.1665517158806324, 0.16687060659751296, 0.16814638376235963, 0.16719255493953827, 0.16587467109784482, 0.16640744144096975, 0.165157897118479, 0.16405969494953754, 0.16464269598945974, 0.16325745116919277, 0.16460725013166666, 0.16400858918204908, 0.16311236368492243, 0.16337739964947107, 0.1628037753514946, 0.1617659528739751, 0.16626285454258316, 0.16490964218974113, 0.16618152577430007, 0.1671276030130684, 0.1680088929831982, 0.16925186933949588, 0.17574977343901987, 0.17368650287389759, 0.17189460629597303, 0.17015334842726593, 0.16994986198842527, 0.16915150331333284, 0.1700366931036114, 0.16897095981985327, 0.16723182685673244, 0.16669921306893232, 0.16584153035655613, 0.16483032088726757, 0.16589243663474923, 0.1648975689895451, 0.16513323178514844, 0.16473002573475237, 0.16387676475569612, 0.16484940638765694, 0.16352025074884302, 0.16160642681643372, 0.16118104923516513, 0.1604864329099655, 0.15986511865630748, 0.15927108805626633, 0.1587877469137311, 0.15800331151112917, 0.1555260353721678, 0.15416307458654044, 0.15377383008599277, 0.1526382117532194, 0.1520669453777373, 0.1514549010433257, 0.15102788154035812, 0.1496929237619043, 0.15041695917025205, 0.15126823391765354, 0.15044874483719473, 0.1511968204751611, 0.1499320018105209, 0.14798901854082946, 0.14736023312434554, 0.14693703567609195, 0.1462151794694364, 0.14380918936803938, 0.1419776709750295, 0.1424382757395506, 0.1418720011599362, 0.14129440458491443, 0.1384121700190008, 0.13765388056635852, 0.13698727609589695, 0.13819460542872547, 0.13752615172415972, 0.13710318878293037, 0.13756574094295498, 0.13667127732187512, 0.13693933086469767, 0.1371514029800892, 0.13614876829087735, 0.13397808689624074, 0.132394459657371, 0.13088130401447418, 0.12926865201443433, 0.12769953869283202, 0.13399129966273904, 0.1339405678212643, 0.1336298638023436, 0.13434008667245512, 0.13392910594120622, 0.13342842692509294, 0.13257871586829428, 0.13174539990723133, 0.12988832341507078, 0.12918488327413802, 0.12856142222881317, 0.12664595842361448, 0.12540250988677143, 0.12512102276086812, 0.1241582488641143, 0.12278293278068309, 0.12322847675532106, 0.12213685745373365, 0.12077342038974165, 0.11950768828392028, 0.11972212642431262, 0.12018028628081084, 0.11908669536933303, 0.11892152512446047, 0.11729640578851108, 0.11567426258698105, 0.11656185565516353, 0.1157194690778851, 0.11486782589927319, 0.11529889283701777, 0.11553703509271146, 0.11473760763183233, 0.11499696578830482, 0.11516443947330118, 0.11479736594483253, 0.11408192599192263, 0.11353939920663836, 0.11351286238059399, 0.1132114863023162, 0.11376979006454346, 0.11407895479351282, 0.11376786176115278, 0.11226110812276602, 0.11207616617903116, 0.11255829101428394, 0.11308272266760466, 0.11215080218389634, 0.11218701405450704, 0.11093460274860267, 0.11012959191575644, 0.1106312621384859, 0.11037609735503795, 0.10967432176694275, 0.10787507984787226, 0.10846430230885745, 0.1077639663591981, 0.10744163198396561, 0.10712027521803974, 0.10759018100798129, 0.1073247227817774, 0.10681755580008029, 0.10705684488639233, 0.10612921183928847, 0.10635538771748543, 0.10475366367027161, 0.10441208807751534, 0.10381642058491708, 0.10430521182715896, 0.10359493223950267, 0.10414889780804515, 0.10348354903981088, 0.1031035932712257, 0.10314556984230877, 0.10343039305880664, 0.10361010255292058, 0.10390199003741146, 0.10340353259816765, 0.10279400986619291, 0.10254669114947318, 0.10301829008385538, 0.10279913740232582, 0.10211581187322738, 0.10155584970489145, 0.10148768234066663, 0.10003547859378159, 0.10019915187731387, 0.10051809744909407, 0.10128119611181319, 0.10115989604964853, 0.10049284379929302, 0.10018117963336409, 0.09942947612144049, 0.09918010253459214, 0.09913995480164889, 0.09813717897050084, 0.0983063563704491, 0.09786439687013626, 0.09755857023410502, 0.09790298556908966, 0.0978857297450304, 0.09758262587711214, 0.09781952016055584, 0.09713159296661616, 0.09659184841439128, 0.09561923258006572, 0.09569463068619372, 0.09530091136693952, 0.0949460352305323, 0.09436636539176108, 0.09439910957589742, 0.09468532814644276, 0.0948423897381872, 0.09506899104453626, 0.09510770114138722, 0.09474846962839362, 0.09462585761211817, 0.09455113667063414, 0.09486229871399704, 0.0946886173915118, 0.09472938259132208, 0.09491063612513245, 0.09485928229987617, 0.09482573131099342, 0.09503340348601341, 0.09512263308279217, 0.09495377307757735, 0.09508002961520107, 0.09486913667060431, 0.09502966778818522, 0.09523446178063749, 0.0953950790455565, 0.09542475000489503, 0.09561076802201568, 0.09556231840979307, 0.09539435799233614, 0.095256276614964, 0.09504645855631677, 0.09487798686604948, 0.09497088319621982, 0.09489989134017379, 0.0949156709481031, 0.0949153478257358, 0.09486471859272572, 0.09476197410840537, 0.09483722350560131, 0.09482457819394763, 0.09484096618834881, 0.09478536304086443, 0.09482689972501246, 0.09481481183320284]\n"
     ]
    }
   ],
   "source": [
    "#Making flips based on the influence of each datapoint\n",
    "#After ordering them in decreasing order based on magnitude\n",
    "flip_parity_abs = []\n",
    "for i in range(len(abs_sorted_index_list)):\n",
    "    row_num = abs_sorted_index_list[i]\n",
    "    if influence_train_copy.at[row_num,'credit_risk'] == 1:\n",
    "        influence_train_copy.at[row_num,'credit_risk'] = 0\n",
    "        influence_prediction = lr_model(influence_train_copy, X_test, clf)\n",
    "        influence_parity = computeFairness(influence_prediction, X_test_orig, y_test, 0, dataset)\n",
    "        flip_parity_abs.append(influence_parity)\n",
    "    elif influence_train_copy.at[row_num,'credit_risk'] == 0:\n",
    "        influence_train_copy.at[row_num,'credit_risk'] = 1\n",
    "        influence_prediction = lr_model(influence_train_copy, X_test, clf)\n",
    "        influence_parity = computeFairness(influence_prediction, X_test_orig, y_test, 0, dataset)\n",
    "        flip_parity_abs.append(influence_parity)\n",
    "print(flip_parity_abs)"
   ]
  },
  {
   "cell_type": "code",
   "execution_count": 71,
   "metadata": {},
   "outputs": [],
   "source": [
    "sol_time.append(if_time2)"
   ]
  },
  {
   "cell_type": "code",
   "execution_count": 72,
   "metadata": {},
   "outputs": [
    {
     "data": {
      "image/png": "[encoded data removed]",
      "text/plain": [
       "<Figure size 700x400 with 1 Axes>"
      ]
     },
     "metadata": {},
     "output_type": "display_data"
    }
   ],
   "source": [
    "#Graph the points\n",
    "# Assuming the X-axis is some common range or specific values\n",
    "size = range(len(flip_parity_abs))  # X values for list data\n",
    "\n",
    "# Create the plot\n",
    "plt.figure(figsize=(7, 4))\n",
    "\n",
    "# Plot list data with dots\n",
    "plt.scatter(size, flip_parity_abs, color='red', label='Parity After Flipping DP', marker='o')\n",
    "\n",
    "# Adding labels\n",
    "plt.xlabel('Datapoints')\n",
    "plt.ylabel('Parity')\n",
    "\n",
    "# Adding title and legend\n",
    "plt.title('Parity by flipping the datapoints (Absolute List)')\n",
    "plt.legend()\n",
    "\n",
    "# Display the plot\n",
    "plt.show()"
   ]
  },
  {
   "cell_type": "code",
   "execution_count": 73,
   "metadata": {},
   "outputs": [
    {
     "data": {
      "image/png": "[encoded data removed]",
      "text/plain": [
       "<Figure size 640x480 with 1 Axes>"
      ]
     },
     "metadata": {},
     "output_type": "display_data"
    }
   ],
   "source": [
    "#total num of data points\n",
    "#on_abs_sorted = len(flip_parity_sorted)\n",
    "abs_sorted = len(flip_parity_abs)\n",
    "\n",
    "#Calculate the indices for the 5 points\n",
    "#indices_non_abs = [int(i * non_abs_sorted / 5) for i in range(0, 5)]\n",
    "indices_abs = [int(i * abs_sorted / 5) for i in range(0, 5)]\n",
    "\n",
    "# Extract the values at these indices\n",
    "#values_non_abs = [flip_parity_sorted[index] for index in indices_non_abs]\n",
    "values_abs = [flip_parity_abs[index] for index in indices_abs]\n",
    "\n",
    "#Plot the Values\n",
    "plt.plot([20, 40, 60, 80, 100], values_abs, label='ABS Flipping', color='Blue')\n",
    "\n",
    "# Add labels and legend\n",
    "plt.xlabel('Percentage of Data Points')\n",
    "plt.ylabel('Values')\n",
    "plt.title('Graph of Data Points')\n",
    "plt.legend()\n",
    "\n",
    "# Show the plot\n",
    "plt.show()"
   ]
  },
  {
   "cell_type": "markdown",
   "metadata": {},
   "source": [
    "<h3>Compare methods of: Naive, Entropy, MEU, and IF<h3>"
   ]
  },
  {
   "cell_type": "markdown",
   "metadata": {},
   "source": [
    "<h5>Naive Method: Greedy Algorithm<h5>"
   ]
  },
  {
   "cell_type": "code",
   "execution_count": 74,
   "metadata": {},
   "outputs": [],
   "source": [
    "greedy_start = time.time()\n",
    "#Beginning of the Greedy Algorithm\n",
    "#Make the original flips to test for the parity after each flip \n",
    "greedy_train = train_full_df.copy()\n",
    "greedy_parity_list = []\n",
    "\n",
    "for index, row in greedy_train.iterrows():\n",
    "    if row['credit_risk'] == 1:\n",
    "        #Flip the label at credit_risk = 1 to 0\n",
    "        greedy_train.at[index,'credit_risk'] = 0\n",
    "        greedy_pred = lr_model(greedy_train, X_test, clf)\n",
    "        greedy_parity = computeFairness(greedy_pred, X_test_orig, y_test, 0, dataset)\n",
    "        greedy_parity_list.append(greedy_parity)\n",
    "        greedy_train.at[index,'credit_risk'] = 1\n",
    "        \n",
    "    elif row['credit_risk'] == 0:\n",
    "        greedy_train.at[index,'credit_risk'] = 1\n",
    "        greedy_pred = lr_model(greedy_train, X_test, clf)\n",
    "        greedy_parity = computeFairness(greedy_pred, X_test_orig, y_test, 0, dataset)\n",
    "        greedy_parity_list.append(greedy_parity)\n",
    "        greedy_train.at[index,'credit_risk'] = 0"
   ]
  },
  {
   "cell_type": "code",
   "execution_count": 75,
   "metadata": {},
   "outputs": [],
   "source": [
    "#Compare each of the parity values after flipping to the OG parity value\n",
    "#Append to a new list\n",
    "\n",
    "#parity_difference: Contains the difference between flipped and original value\n",
    "parity_difference = []\n",
    "#Contains parity values that fall between .03 and -.03\n",
    "large_influence = []\n",
    "#Contains the row number of each flip\n",
    "li_row = []\n",
    "\n",
    "for value in greedy_parity_list:\n",
    "    difference = abs(value) - abs(spd_0)\n",
    "    parity_difference.append(difference)\n",
    "\n",
    "#Rows considered to be high influence if they in between a specific value\n",
    "for index, item in enumerate(parity_difference):\n",
    "  if spd_0 > 0:\n",
    "    if item <= spd_0 or item >= -1*(spd_0):\n",
    "        large_influence.append(item)\n",
    "        li_row.append(index)\n",
    "  else:\n",
    "    if item >= spd_0 or item <= -1*(spd_0):\n",
    "        large_influence.append(item)\n",
    "        li_row.append(index)"
   ]
  },
  {
   "cell_type": "code",
   "execution_count": 76,
   "metadata": {},
   "outputs": [],
   "source": [
    "# Combine lists into tuples and zip them\n",
    "combined_data = list(zip(large_influence, li_row))\n",
    "\n",
    "# Sort based on statistical parity values in descending order\n",
    "combined_data.sort(key=lambda x: abs(x[0]), reverse=True)\n",
    "\n",
    "# Extract sorted indices list and the sorted values\n",
    "sorted_indices_list = [index for _, index in combined_data]\n",
    "sorted_values = sorted(large_influence, reverse=True)\n",
    "greedy_end = time.time()"
   ]
  },
  {
   "cell_type": "code",
   "execution_count": 77,
   "metadata": {},
   "outputs": [],
   "source": [
    "#After ranking the values now go back through the dataset flipping \n",
    "#based on the ranked values\n",
    "\n",
    "#Parity values after each flip\n",
    "ranked_greedy_parity_list = []\n",
    "#Accuracy after every flip\n",
    "ranked_acc = []\n",
    "#Index/row of the flip\n",
    "ranked_flip = []\n",
    "\n",
    "row_num = 0\n",
    "ranked_indices_list = list(sorted_indices_list)\n",
    "\n",
    "#Iterate through the ranked list and start the flipping\n",
    "for idx, row in enumerate(ranked_indices_list):\n",
    "    row_num = ranked_indices_list[row]\n",
    "    #If the label at the specific row is 1 it flips it to 0 then calculates the parity and accuracy\n",
    "    #It follows the same steps as the flipping before\n",
    "    if greedy_train.at[row_num,'credit_risk'] == 1:\n",
    "        greedy_train.at[row,'credit_risk'] = 0\n",
    "        ranked_greedy_pred = lr_model(greedy_train, X_test, clf)\n",
    "        ranked_greedy_parity = computeFairness(ranked_greedy_pred, X_test_orig, y_test, 0, dataset)\n",
    "        ranked_greedy_parity_list.append(ranked_greedy_parity)\n",
    "    elif greedy_train.at[row_num, 'credit_risk'] == 0:\n",
    "        greedy_train.at[row, 'credit_risk'] = 1\n",
    "        ranked_greedy_pred = lr_model(greedy_train, X_test, clf)\n",
    "        ranked_greedy_parity = computeFairness(ranked_greedy_pred, X_test_orig, y_test, 0, dataset)\n",
    "        ranked_greedy_parity_list.append(ranked_greedy_parity)"
   ]
  },
  {
   "cell_type": "code",
   "execution_count": 78,
   "metadata": {},
   "outputs": [],
   "source": [
    "greedy_time = greedy_end - greedy_start\n",
    "sol_time.append(greedy_time)"
   ]
  },
  {
   "cell_type": "markdown",
   "metadata": {},
   "source": [
    "<h4>Uncertainty Reduction/Entropy<h4>"
   ]
  },
  {
   "cell_type": "code",
   "execution_count": 79,
   "metadata": {},
   "outputs": [],
   "source": [
    "entropy_start = time.time()\n",
    "#Remake the dataset\n",
    "entropy_train_df = train_full_df.copy()"
   ]
  },
  {
   "cell_type": "code",
   "execution_count": 80,
   "metadata": {},
   "outputs": [
    {
     "name": "stdout",
     "output_type": "stream",
     "text": [
      "75.5\n"
     ]
    }
   ],
   "source": [
    "#Run the LR classifier\n",
    "#Use Scikit learn logistic regression rather than pre-built one\n",
    "clfa = LogisticRegression(class_weight=None, max_iter=100)\n",
    "log = clfa.fit(X_train,y_train)\n",
    "prediction = log.predict(X_test)\n",
    "#prediction_prob = log.predict_proba(X_train)\n",
    "accuracy = accuracy_score(y_test,prediction)*100\n",
    "print(accuracy)"
   ]
  },
  {
   "cell_type": "code",
   "execution_count": 81,
   "metadata": {},
   "outputs": [],
   "source": [
    "#Obtain the predicted probabilities\n",
    "predicted_prob = log.predict_proba(X_train)"
   ]
  },
  {
   "cell_type": "code",
   "execution_count": 82,
   "metadata": {},
   "outputs": [],
   "source": [
    "#Log base two would be: log = math.log(x,2)\n",
    "#Entropy equation would then be: -1*(p1((math.log(p1,2))+p2*(math.log(p2,2)))\n",
    "\n",
    "#In the predicted_probabilities: first value is 0 (which is bad), second value is 1 (which is good)\n",
    "\n",
    "#Loop through the predicted_probabilities array and calculate values\n",
    "#One list will contain the index of each row in the table and the other will contain the entropy value of each row\n",
    "\n",
    "index_list = []\n",
    "entropy_list = []\n",
    "\n",
    "for index, value in enumerate(predicted_prob):\n",
    "  #Calculate p1 and p2\n",
    "  p1=predicted_prob[index,0]\n",
    "  p2=predicted_prob[index,1]\n",
    "  #Calculate entropy in 3 steps\n",
    "  entropy_calc1 = p1 * math.log(p1,2)\n",
    "  entropy_calc2 = p2 * math.log(p2,2)\n",
    "  entropy_final = -1 * (entropy_calc1 + entropy_calc2)\n",
    "\n",
    "  #Append the values to their respective lists\n",
    "  index_list.append(index)\n",
    "  entropy_list.append(entropy_final)"
   ]
  },
  {
   "cell_type": "code",
   "execution_count": 83,
   "metadata": {},
   "outputs": [],
   "source": [
    "#Rank the entropy values in decreasing order\n",
    "#Match the index list with them\n",
    "\n",
    "#Combine the two lists using zip\n",
    "combined_list = list(zip(entropy_list, index_list))\n",
    "\n",
    "#Sort the combined lust based on entropy values in descending order\n",
    "sorted_list = sorted(combined_list, key = lambda x: x[0], reverse=True)\n",
    "\n",
    "#Extract the values\n",
    "sorted_ent_list, sorted_index_list = zip(*sorted_list)\n",
    "entropy_end = time.time()"
   ]
  },
  {
   "cell_type": "code",
   "execution_count": 84,
   "metadata": {},
   "outputs": [],
   "source": [
    "entropy_train_df['credit_risk'] = entropy_train_df['credit_risk'].astype('int')"
   ]
  },
  {
   "cell_type": "code",
   "execution_count": 85,
   "metadata": {},
   "outputs": [],
   "source": [
    "ranked_ent_list = list(sorted_ent_list)\n",
    "ranked_idx_list = list(sorted_index_list)"
   ]
  },
  {
   "cell_type": "code",
   "execution_count": 86,
   "metadata": {},
   "outputs": [],
   "source": [
    "#After the ranking; flip based on the ranked entropy values\n",
    "#Values with the highest entropy are prioritized for flipping\n",
    "\n",
    "ranked_ent_parity_list = [spd_0]\n",
    "ranked_flip = []\n",
    "\n",
    "row_num = 0\n",
    "\n",
    "#Loop through and flip based on the entropy values\n",
    "for row in range(len(sorted_index_list)):\n",
    "    row_num = ranked_idx_list[row]\n",
    "    if entropy_train_df.at[row_num,'credit_risk'] == 0:\n",
    "        entropy_train_df.at[row_num,'credit_risk'] = 1\n",
    "        ranked_ent_pred = lr_model(greedy_train, X_test, clf)\n",
    "        ranked_ent_parity = computeFairness(ranked_ent_pred, X_test_orig, y_test, 0, dataset)\n",
    "        ranked_ent_parity_list.append(ranked_ent_parity)\n",
    "\n",
    "    elif entropy_train_df.at[row_num,'credit_risk'] == 1:\n",
    "        entropy_train_df.at[row_num,'credit_risk'] = 0\n",
    "        ranked_ent_pred = lr_model(greedy_train, X_test, clf)\n",
    "        ranked_ent_parity = computeFairness(ranked_ent_pred, X_test_orig, y_test, 0, dataset)\n",
    "        ranked_ent_parity_list.append(ranked_ent_parity)"
   ]
  },
  {
   "cell_type": "code",
   "execution_count": 87,
   "metadata": {},
   "outputs": [],
   "source": [
    "entropy_time = entropy_end - entropy_start\n",
    "sol_time.append(entropy_time)"
   ]
  },
  {
   "cell_type": "markdown",
   "metadata": {},
   "source": [
    "<h4>Maximum Expected Utility<h4>"
   ]
  },
  {
   "cell_type": "code",
   "execution_count": 88,
   "metadata": {},
   "outputs": [],
   "source": [
    "#Copy training dataset\n",
    "meu_start = time.time()\n",
    "meu_training_df = train_full_df.copy()"
   ]
  },
  {
   "cell_type": "code",
   "execution_count": 89,
   "metadata": {},
   "outputs": [],
   "source": [
    "#Obtain the predicted probabilities \n",
    "meu_pred_prob = log.predict_proba(X_train)"
   ]
  },
  {
   "cell_type": "code",
   "execution_count": 90,
   "metadata": {},
   "outputs": [],
   "source": [
    "#Grab the original of the DP in the copy dataframe and sotre in lists along with the index\n",
    "label = []\n",
    "row_index = []\n",
    "for index, row in meu_training_df.iterrows():\n",
    "    label.append(meu_training_df.at[index,'credit_risk'])\n",
    "    row_index.append(index)"
   ]
  },
  {
   "cell_type": "code",
   "execution_count": 91,
   "metadata": {},
   "outputs": [],
   "source": [
    "#Calculate the first part of the MEU equation\n",
    "meu_part1_list = []\n",
    "for index, value in enumerate(label):\n",
    "    if value == 1:\n",
    "        prob1 = meu_pred_prob[index,1]\n",
    "        meu_part1_calc = prob1 * spd_0\n",
    "        meu_part1_list.append(meu_part1_calc)\n",
    "    elif value == 0:\n",
    "        prob2 = meu_pred_prob[index,0]\n",
    "        meu_part1_calc = prob2 * spd_0\n",
    "        meu_part1_list.append(meu_part1_calc)"
   ]
  },
  {
   "cell_type": "code",
   "execution_count": 92,
   "metadata": {},
   "outputs": [],
   "source": [
    "#Iterate through the copied dataset and flip each lable and calculate the parity\n",
    "\n",
    "meu_part2_parity_list = []\n",
    "\n",
    "for idx, row in meu_training_df.iterrows():\n",
    "    #If the row is positive then flip it to negative\n",
    "    if row['credit_risk'] == 1:\n",
    "        meu_training_df.at[index,'credit_risk']= 0\n",
    "        meu_pred = lr_model(meu_training_df, X_test, clf)\n",
    "        meu_parity = computeFairness(meu_pred, X_test_orig, y_test, 0, dataset)\n",
    "        meu_part2_parity_list.append(meu_parity)\n",
    "        meu_training_df.at[index,'credit_risk'] = 1\n",
    "    #If negative then flip to positive\n",
    "    elif row['credit_risk'] == 0:\n",
    "        meu_training_df.at[index,'credit_risk']= 1\n",
    "        meu_pred = lr_model(meu_training_df, X_test, clf)\n",
    "        meu_parity = computeFairness(meu_pred, X_test_orig, y_test, 0, dataset)\n",
    "        meu_part2_parity_list.append(meu_parity)\n",
    "        meu_training_df.at[index,'credit_risk'] = 0\n",
    "        "
   ]
  },
  {
   "cell_type": "code",
   "execution_count": 93,
   "metadata": {},
   "outputs": [],
   "source": [
    "#Second part of the calculation by taking the opposite value\n",
    "meu_part2_list = []\n",
    "for index, value in enumerate(label):\n",
    "    if value == 0:\n",
    "        prob0 = meu_pred_prob[index,0]\n",
    "        meu_part2_calc = prob0* meu_part2_parity_list[index]\n",
    "    elif value == 1:\n",
    "        prob1 = meu_pred_prob[index,1]\n",
    "        meu_part2_calc = prob1 * meu_part2_parity_list[index]\n",
    "        meu_part2_list.append(meu_part2_calc)\n"
   ]
  },
  {
   "cell_type": "code",
   "execution_count": 94,
   "metadata": {},
   "outputs": [],
   "source": [
    "#Add the two lists together\n",
    "expected_utility_values = []\n",
    "for part1, part2 in zip(meu_part1_list, meu_part2_list):\n",
    "    expected_utility_values.append(part1+part2)"
   ]
  },
  {
   "cell_type": "code",
   "execution_count": 95,
   "metadata": {},
   "outputs": [],
   "source": [
    "#EU - OG Parity = new ranked values\n",
    "new_ranked_value = []\n",
    "\n",
    "for value in expected_utility_values:\n",
    "    new_ranked_value.append(value - spd_0)"
   ]
  },
  {
   "cell_type": "code",
   "execution_count": 96,
   "metadata": {},
   "outputs": [],
   "source": [
    "#Rank the values\n",
    "combined_list = list(zip(new_ranked_value,row_index))\n",
    "sorted_list = sorted(combined_list, key = lambda x: abs(x[0]), reverse=True)\n",
    "sorted_eu_list, sorted_index_list = zip(*sorted_list)\n",
    "meu_end = time.time()"
   ]
  },
  {
   "cell_type": "code",
   "execution_count": 97,
   "metadata": {},
   "outputs": [],
   "source": [
    "#After ranking flip the values\n",
    "meu_ranked_parity_list = [spd_0]\n",
    "\n",
    "for row in range(len(sorted_index_list)):\n",
    "    row_num = sorted_index_list[row]\n",
    "    \n",
    "    if meu_training_df.at[row_num,'credit_risk'] == 1:\n",
    "        meu_training_df.at[row_num, 'credit_risk'] = 0\n",
    "        meu_pred = lr_model(meu_training_df, X_test, clf)\n",
    "        meu_ranked_parity = computeFairness(meu_pred, X_test_orig, y_test, 0, dataset)\n",
    "        meu_ranked_parity_list.append(meu_ranked_parity)\n",
    "    elif meu_training_df.at[row_num, 'credit_risk'] == 0:\n",
    "        meu_training_df.at[row_num, 'credit_risk'] = 1\n",
    "        meu_pred = lr_model(meu_training_df, X_test, clf)\n",
    "        meu_ranked_parity = computeFairness(meu_pred, X_test_orig, y_test, 0, dataset)\n",
    "        meu_ranked_parity_list.append(meu_ranked_parity)"
   ]
  },
  {
   "cell_type": "code",
   "execution_count": 98,
   "metadata": {},
   "outputs": [],
   "source": [
    "meu_time = meu_end - meu_start\n",
    "sol_time.append(meu_time)"
   ]
  },
  {
   "cell_type": "markdown",
   "metadata": {},
   "source": [
    "<h4>Randomized flipping<h4>"
   ]
  },
  {
   "cell_type": "code",
   "execution_count": 99,
   "metadata": {},
   "outputs": [],
   "source": [
    "#Training dataset\n",
    "random_start = time.time()\n",
    "random_training_df = train_full_df.copy()"
   ]
  },
  {
   "cell_type": "code",
   "execution_count": 100,
   "metadata": {},
   "outputs": [],
   "source": [
    "#Budget of 200 random flipping\n",
    "import random\n",
    "random_flip_parity = []\n",
    "budget = len(y_test)\n",
    "\n",
    "for iter in range(budget):\n",
    "    random_row = random.choice(random_training_df.index)\n",
    "    if random_training_df.at[random_row,'credit_risk'] == 1:\n",
    "        random_training_df.at[random_row,'credit_risk'] = 0\n",
    "        rand_pred = lr_model(random_training_df, X_test, clf)\n",
    "        rand_ranked_parity = computeFairness(rand_pred, X_test_orig, y_test, 0, dataset)\n",
    "        random_flip_parity.append(rand_ranked_parity)\n",
    "    elif random_training_df.at[random_row,'credit_risk'] == 0:\n",
    "        random_training_df.at[random_row,'credit_risk'] = 1\n",
    "        rand_pred = lr_model(random_training_df, X_test, clf)\n",
    "        rand_ranked_parity = computeFairness(rand_pred, X_test_orig, y_test, 0, dataset)\n",
    "        random_flip_parity.append(rand_ranked_parity)\n",
    "random_end = time.time()\n"
   ]
  },
  {
   "cell_type": "code",
   "execution_count": 101,
   "metadata": {},
   "outputs": [],
   "source": [
    "random_time = random_end - random_start\n",
    "sol_time.append(random_time)"
   ]
  },
  {
   "cell_type": "code",
   "execution_count": 102,
   "metadata": {},
   "outputs": [
    {
     "data": {
      "text/plain": [
       "1727066783.9352417"
      ]
     },
     "execution_count": 102,
     "metadata": {},
     "output_type": "execute_result"
    }
   ],
   "source": [
    "if_start"
   ]
  },
  {
   "cell_type": "markdown",
   "metadata": {},
   "source": [
    "<h4>Graph of outcomes<h4>"
   ]
  },
  {
   "cell_type": "code",
   "execution_count": 109,
   "metadata": {},
   "outputs": [
    {
     "data": {
      "text/plain": [
       "<matplotlib.legend.Legend at 0x248038ae910>"
      ]
     },
     "execution_count": 109,
     "metadata": {},
     "output_type": "execute_result"
    },
    {
     "data": {
      "image/png": "[encoded data removed]",
      "text/plain": [
       "<Figure size 640x480 with 1 Axes>"
      ]
     },
     "metadata": {},
     "output_type": "display_data"
    }
   ],
   "source": [
    "# Calculate the total number of data points\n",
    "datapoints_iterative = len(ranked_greedy_parity_list)\n",
    "datapoints_entropy = len(ranked_ent_parity_list)\n",
    "datapoints_meu = len(meu_ranked_parity_list)\n",
    "datapoints_random = len(random_flip_parity)\n",
    "datapoints_influence = len(flip_parity_abs)\n",
    "\n",
    "# Calculate the indices for the 5 points\n",
    "indices_iterative = [int(i * datapoints_iterative / 10) for i in range(0, 10)]\n",
    "indices_entropy = [int(i * datapoints_entropy / 10) for i in range(0, 10)]\n",
    "indices_meu = [int(i * datapoints_meu / 10) for i in range(0, 10)]\n",
    "indices_random = [int(i * datapoints_random / 10) for i in range(0, 10)]\n",
    "indices_influence = [int(i * datapoints_influence / 10) for i in range(0, 10)]\n",
    "\n",
    "# Extract the values at these indices\n",
    "values_iterative = [ranked_greedy_parity_list[index] for index in indices_iterative]\n",
    "values_entropy = [ranked_ent_parity_list[index] for index in indices_entropy]\n",
    "values_meu = [meu_ranked_parity_list[index] for index in indices_meu]\n",
    "values_random = [random_flip_parity[index] for index in indices_random]\n",
    "values_influence = [flip_parity_abs[index] for index in indices_influence]\n",
    "\n",
    "# Plot the values\n",
    "# plt.plot(values_iterative, label='Iterative Flipping', color='Orange')\n",
    "# plt.plot(values_entropy, label='Entropy', color='Blue')\n",
    "# plt.plot(values_meu, label='MEU', color='Yellow')\n",
    "# plt.plot(values_random, label='Random Flipping', color='Green')\n",
    "# plt.plot( values_influence, label='Influence Flipping', color='Red')\n",
    "plt.plot([10,20, 30, 40, 50, 60, 70, 80, 90, 100], values_iterative, label='Iterative Flipping', color='Orange')\n",
    "plt.plot([10,20, 30, 40, 50, 60, 70, 80, 90, 100], values_entropy, label='Entropy', color='Blue')\n",
    "plt.plot([10,20, 30, 40, 50, 60, 70, 80, 90, 100], values_meu, label='MEU', color='Yellow')\n",
    "plt.plot([10,20, 30, 40, 50, 60, 70, 80, 90, 100], values_random, label='Random Flipping', color='Green')\n",
    "plt.plot([10,20, 30, 40, 50, 60, 70, 80, 90, 100], values_influence, label='Influence Flipping', color='Red')\n",
    "\n",
    "# Add labels and legend\n",
    "plt.xlabel('Percentage of Data Points')\n",
    "plt.ylabel('Statistical Parity')\n",
    "plt.title('Change in Parity')\n",
    "plt.legend()"
   ]
  },
  {
   "cell_type": "markdown",
   "metadata": {},
   "source": [
    "<h4>Time Comparisons<h4>"
   ]
  },
  {
   "cell_type": "code",
   "execution_count": 104,
   "metadata": {},
   "outputs": [
    {
     "data": {
      "image/png": "[encoded data removed]",
      "text/plain": [
       "<Figure size 640x480 with 1 Axes>"
      ]
     },
     "metadata": {},
     "output_type": "display_data"
    }
   ],
   "source": [
    "# Create a line chart\n",
    "x_axis = ['IF', 'Greedy', 'Entropy', 'MEU', 'Randomized']\n",
    "# Colors for each bar\n",
    "colors = ['red', 'orange', 'blue', 'yellow', 'green']\n",
    "\n",
    "# Create a bar graph with updated labels and colors\n",
    "plt.bar(x_axis, sol_time, color=colors)\n",
    "plt.title('Time Series Bar Graph')\n",
    "plt.xlabel('Algorithm')\n",
    "plt.ylabel('Time')\n",
    "plt.grid(True)\n",
    "plt.xticks(rotation=45)\n",
    "plt.show()"
   ]
  },
  {
   "cell_type": "code",
   "execution_count": 105,
   "metadata": {},
   "outputs": [
    {
     "name": "stdout",
     "output_type": "stream",
     "text": [
      "[15.022312641143799, 64.83190822601318, 0.06735396385192871, 61.95244598388672, 15.24081015586853]\n"
     ]
    }
   ],
   "source": [
    "#When calculating the time we are looking at the time taken to choose which datapoint to flip \n",
    "#Do not consider the time taken to calculate the fairness on each datapoint\n",
    "#Also when implementing the other solutions on the bigger datasets do not implement MEU and greedy due to the expense of it\n",
    "#Instead implement IF, Entropy, and randomized\n",
    "\n",
    "#Since our solution is looking to determine the efficiency at which the datapoints are selected we want to measure the time \n",
    "#taken to determine which order the datapoints should be flipped in\n",
    "#Measure how long it takes to determine which datapoints need to be flipping and do not consider the parity calculations\n",
    "print(sol_time)"
   ]
  }
 ],
 "metadata": {
  "kernelspec": {
   "display_name": "Python 3 (ipykernel)",
   "language": "python",
   "name": "python3"
  },
  "language_info": {
   "codemirror_mode": {
    "name": "ipython",
    "version": 3
   },
   "file_extension": ".py",
   "mimetype": "text/x-python",
   "name": "python",
   "nbconvert_exporter": "python",
   "pygments_lexer": "ipython3",
   "version": "3.11.4"
  }
 },
 "nbformat": 4,
 "nbformat_minor": 4
}
