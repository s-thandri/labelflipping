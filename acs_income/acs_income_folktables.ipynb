{
 "cells": [
  {
   "cell_type": "code",
   "execution_count": 1,
   "metadata": {},
   "outputs": [],
   "source": [
    "#Import all of the necessary libraries in\n",
    "import pandas as pd\n",
    "import numpy as np\n",
    "import warnings\n",
    "from sklearn.linear_model import LogisticRegression\n",
    "from sklearn.model_selection import cross_val_score, train_test_split\n",
    "from sklearn import metrics\n",
    "from sklearn import tree\n",
    "from sklearn.metrics import accuracy_score\n",
    "import matplotlib.pyplot as plt\n",
    "from folktables import ACSDataSource, ACSIncome\n",
    "import math\n",
    "warnings.filterwarnings('ignore')"
   ]
  },
  {
   "cell_type": "code",
   "execution_count": 2,
   "metadata": {},
   "outputs": [],
   "source": [
    "#This function is being used to calculate the statistical parity of the data set\n",
    "#test_data: The original data frame containing the test data\n",
    "#predictors: List of the all the column names AKA IV's\n",
    "#prediction_df: Contains the predicitons made by the DT model\n",
    "#sensitive_attr: Name of the sensitive attr\n",
    "#sensitive_attr_cutoff: Cut off value for sensitive attr\n",
    "#concat_col: Name of column I am creating new dataframe on\n",
    "\n",
    "def s_parity(test_data, predictors, prediction_df, sensitive_attr, concat_col):\n",
    "    #Creating a new DF that contains all the datapoints from the test data and the predictions made from LR model\n",
    "    #Concat_col: outcome\n",
    "    test_demo_df = pd.DataFrame(test_data, columns = predictors)\n",
    "    predicted_df = pd.DataFrame(prediction_df, columns = [concat_col])\n",
    "    concat_df = pd.concat([test_demo_df,predicted_df], axis=1)\n",
    "\n",
    "    #Get the two groups of people totals\n",
    "    total_unpriv = (len(concat_df[concat_df[sensitive_attr]==0]))\n",
    "    total_priv = (len(concat_df[concat_df[sensitive_attr]==1]))\n",
    "\n",
    "    #Number of people accepted\n",
    "    total_credit_unpriv = len(concat_df[(concat_df[concat_col] == 1) & (concat_df[sensitive_attr] == 0)])\n",
    "    total_credit_priv = len(concat_df[(concat_df[concat_col] == 1) & (concat_df[sensitive_attr] == 1)])\n",
    "\n",
    "    #Percentage of approved people\n",
    "    p_unpriv = total_credit_unpriv/total_unpriv\n",
    "    p_priv = total_credit_priv/total_priv\n",
    "\n",
    "\n",
    "    #Calculate the parity\n",
    "    parity = p_priv - p_unpriv\n",
    "\n",
    "\n",
    "    return parity"
   ]
  },
  {
   "cell_type": "code",
   "execution_count": 3,
   "metadata": {},
   "outputs": [],
   "source": [
    "#Make changes to make more efficient\n",
    "#Function used to run the DT model\n",
    "#train_dataset: Training dataset to train the model\n",
    "#independent_var: Column names\n",
    "#dependent_var: Prediction column name\n",
    "#concat_col: Name of column creating new DF on\n",
    "def logistic_regression(train_dataset, independent_var, dependent_var, concat_col):\n",
    "        #Split the data up into train and test values and then run the DT model\n",
    "        #These steps aren't neccessary to consistenly do over and over again\n",
    "        x = train_dataset[independent_var].values\n",
    "        y = train_dataset[dependent_var].values\n",
    "        x_train, x_test, y_train, y_test = train_test_split(x, y, test_size=0.2,random_state=310)\n",
    "        clf = LogisticRegression(class_weight=None, max_iter=100)\n",
    "        log = clf.fit(x_train,y_train)\n",
    "        prediction = log.predict(x_test)\n",
    "\n",
    "        #Printing the Overall accuracy of the model after one run\n",
    "        #F1_Score=metrics.f1_score(y_test, prediction, average='weighted')\n",
    "        #file.write(f'\\nAccuracy of the model on Testing Sample Data: {F1_Score}')\n",
    "\n",
    "        #Prints out the average across all ten run throughs\n",
    "        #Accuracy_Values=cross_val_score(log, x , y, cv=10, scoring='f1_weighted')\n",
    "\n",
    "        accuracy = accuracy_score(y_test,prediction)*100\n",
    "\n",
    "        #After running the model I return a df with the datapoints and the labels\n",
    "        test_demo_df = pd.DataFrame(x_test, columns = independent_var)\n",
    "        #Concat_col: credit_risk_12\n",
    "        predicted_df = pd.DataFrame(prediction, columns = [concat_col])\n",
    "\n",
    "        return accuracy, test_demo_df, predicted_df"
   ]
  },
  {
   "cell_type": "code",
   "execution_count": 4,
   "metadata": {},
   "outputs": [],
   "source": [
    "states_abbr = [\n",
    "    'AL', 'AK', 'AZ', 'AR', 'CA', 'CO', 'CT', 'DE', 'FL', 'GA', \n",
    "    'HI', 'ID', 'IL', 'IN', 'IA', 'KS', 'KY', 'LA', 'ME', 'MD', \n",
    "    'MA', 'MI', 'MN', 'MS', 'MO', 'MT', 'NE', 'NV', 'NH', 'NJ', \n",
    "    'NM', 'NY', 'NC', 'ND', 'OH', 'OK', 'OR', 'PA', 'RI', 'SC', \n",
    "    'SD', 'TN', 'TX', 'UT', 'VT', 'VA', 'WA', 'WV', 'WI', 'WY'\n",
    "]\n",
    "\n",
    "size = []\n",
    "\n",
    "for state in states_abbr:\n",
    "    data_source = ACSDataSource(survey_year='2018', horizon='1-Year', survey='person')\n",
    "    data = data_source.get_data(states=[state], download=True)\n",
    "    features, labels, _ = ACSIncome.df_to_pandas(data)\n",
    "    size.append(len(features))\n"
   ]
  },
  {
   "cell_type": "markdown",
   "metadata": {},
   "source": [
    "<h3>State 1: Connecticut <h3>"
   ]
  },
  {
   "cell_type": "code",
   "execution_count": 5,
   "metadata": {},
   "outputs": [],
   "source": [
    "#Before conducting analysis I need to access the data and join it together\n",
    "data_source = ACSDataSource(survey_year='2018', horizon='1-Year', survey='person')\n",
    "data = data_source.get_data(states=['CT'])\n",
    "features, labels,_= ACSIncome.df_to_pandas(data)\n",
    "connecticut_df = pd.concat([features,labels], axis=1)"
   ]
  },
  {
   "cell_type": "markdown",
   "metadata": {},
   "source": [
    "<h5>Code the columns <h5>"
   ]
  },
  {
   "cell_type": "code",
   "execution_count": 6,
   "metadata": {},
   "outputs": [],
   "source": [
    "#After joining them I will code the different columns\n",
    "#Group the SCHL columns into a single values\n",
    "#1: Grade School (No Diploman)\n",
    "#2: High School Diploma/GED\n",
    "#3: Some College (2 Years at Most)\n",
    "#4: Bachelor's Degree\n",
    "#5: Master's Degree\n",
    "#6: Professional Degree\n",
    "#7: Doctorate Or Equivalent\n",
    "ranges = {'GS': (1, 15), 'HSD': (16, 17), 'SC': (18, 20), 'BD': (21,21), 'ME': (22,22), 'PD': (23,23), 'DE': (24,24)}\n",
    "group_dict = {}\n",
    "\n",
    "def assign_group(value):\n",
    "  \"\"\"Assigns a group label to a value based on the ranges dictionary.\"\"\"\n",
    "  if value not in group_dict:\n",
    "    for group_name, group_range in ranges.items():\n",
    "      if group_range[0] <= value <= group_range[1]:\n",
    "        group_dict[value] = group_name\n",
    "        break\n",
    "  return group_dict.get(value)\n",
    "\n",
    "connecticut_df['SCHL'] = connecticut_df['SCHL'].apply(assign_group)"
   ]
  },
  {
   "cell_type": "code",
   "execution_count": 7,
   "metadata": {},
   "outputs": [],
   "source": [
    "#Assign codes to occupations based on ranges\n",
    "#0010-0440\t11-0000\tManagement Occupations: 170997\n",
    "#0500-0960\t13-0000\tBusiness and Financial Operations Occupations: 91842\n",
    "#1005-1240\t15-0000\tComputer and mathematical occupations: 50817\n",
    "#1305-1560\t17-0000\tArchitecture and Engineering Occupations: 31718\n",
    "#1600-1980\t19-0000\tLife, Physical, and Social Science Occupations: 16529\n",
    "#2001-2970\t21-0000 - 27-0000\tEducation, Legal, Community Service, Arts, and Media Occupations: 193762\n",
    "#3000-3550\t29-0000\tHealthcare Practitioners and Technical Occupations: 100986\n",
    "#3601-4655\t31-0000 - 39-0000\tService Occupations: 283912\n",
    "#4700-5940\t41-0000 - 43-0000\tSales and Office Occupations: 358340\n",
    "#6005-7640\t45-0000 - 49-0000\tNatural Resources, Construction, and Maintenance Occupations: 143613\n",
    "#7700-9760\t51-0000 - 53-0000\tProduction, Transportation, and Material Moving Occupations: 216280\n",
    "#9800-9920                      Military Specific Occupations: 5704\n",
    "\n",
    "ranges = {\n",
    "    'management': (10,440),\n",
    "    'business': (500,960),\n",
    "    'computer': (1005,1240),\n",
    "    'engineering': (1305,1560),\n",
    "    'life': (1600,1980),\n",
    "    'education_arts': (2001,2970),\n",
    "    'healthcare': (3000,3550),\n",
    "    'service': (3601,4655),\n",
    "    'sales': (4700,5940),\n",
    "    'environmental_construction': (6005,7640),\n",
    "    'production_transportation': (7700,9760),\n",
    "    'military': (9800,9920)\n",
    "}\n",
    "group_dict = {}\n",
    "connecticut_df['OCCP'] = connecticut_df['OCCP'].apply(assign_group)"
   ]
  },
  {
   "cell_type": "code",
   "execution_count": 8,
   "metadata": {},
   "outputs": [],
   "source": [
    "#Add family codes \n",
    "#1-7: Family\n",
    "#8-10: inlaws and other family\n",
    "#11-17: Non-Family\n",
    "ranges = {\n",
    "    'family': (0,7),\n",
    "    'inlaws/other': (8,10),\n",
    "    'non-family': (11,17)\n",
    "}\n",
    "group_dict = {}\n",
    "connecticut_df['RELP'] = connecticut_df['RELP'].apply(assign_group)"
   ]
  },
  {
   "cell_type": "code",
   "execution_count": 9,
   "metadata": {},
   "outputs": [],
   "source": [
    "#Code the Class of worker column from numeric to strings\n",
    "connecticut_df['COW'] = connecticut_df['COW'].replace(1, 'private_business')\n",
    "connecticut_df['COW'] = connecticut_df['COW'].replace(2, 'non-profit')\n",
    "connecticut_df['COW'] = connecticut_df['COW'].replace(3, 'local_gov')\n",
    "connecticut_df['COW'] = connecticut_df['COW'].replace(4, 'state_gov')\n",
    "connecticut_df['COW'] = connecticut_df['COW'].replace(5, 'federal_gov')\n",
    "connecticut_df['COW'] = connecticut_df['COW'].replace(6, 'SE_no_business')\n",
    "connecticut_df['COW'] = connecticut_df['COW'].replace(7, 'SE_business')\n",
    "connecticut_df['COW'] = connecticut_df['COW'].replace(8, 'no_pay_work')\n",
    "connecticut_df['COW'] = connecticut_df['COW'].replace(9, 'unemployed')"
   ]
  },
  {
   "cell_type": "code",
   "execution_count": 10,
   "metadata": {},
   "outputs": [],
   "source": [
    "#Class the Marital Status from numeric to strings\n",
    "connecticut_df['MAR'] = connecticut_df['MAR'].replace(1, 'married')\n",
    "connecticut_df['MAR'] = connecticut_df['MAR'].replace(2, 'widowed')\n",
    "connecticut_df['MAR'] = connecticut_df['MAR'].replace(3, 'divorced')\n",
    "connecticut_df['MAR'] = connecticut_df['MAR'].replace(4, 'seperated')\n",
    "connecticut_df['MAR'] = connecticut_df['MAR'].replace(5, 'never_married')"
   ]
  },
  {
   "cell_type": "code",
   "execution_count": 11,
   "metadata": {},
   "outputs": [],
   "source": [
    "#Code the sex column from numeric to string\n",
    "connecticut_df['SEX'] = connecticut_df['SEX'].replace(1, 'male')\n",
    "connecticut_df['SEX'] = connecticut_df['SEX'].replace(2, 'female')"
   ]
  },
  {
   "cell_type": "code",
   "execution_count": 12,
   "metadata": {},
   "outputs": [],
   "source": [
    "#Code the race column from numeric to string\n",
    "connecticut_df['RAC1P'] = connecticut_df['RAC1P'].replace(1, 'white')\n",
    "connecticut_df['RAC1P'] = connecticut_df['RAC1P'].replace(2, 'black')\n",
    "connecticut_df['RAC1P'] = connecticut_df['RAC1P'].replace(3, 'american_indian')\n",
    "connecticut_df['RAC1P'] = connecticut_df['RAC1P'].replace(4, 'alaska_native')\n",
    "connecticut_df['RAC1P'] = connecticut_df['RAC1P'].replace(5, 'native_american')\n",
    "connecticut_df['RAC1P'] = connecticut_df['RAC1P'].replace(6, 'asian')\n",
    "connecticut_df['RAC1P'] = connecticut_df['RAC1P'].replace(7, 'native_hawaiian')\n",
    "connecticut_df['RAC1P'] = connecticut_df['RAC1P'].replace(8, 'other')\n",
    "connecticut_df['RAC1P'] = connecticut_df['RAC1P'].replace(9, 'mixed_race')"
   ]
  },
  {
   "cell_type": "code",
   "execution_count": 13,
   "metadata": {},
   "outputs": [],
   "source": [
    "connecticut_df = connecticut_df.drop(columns=['AGEP','RAC1P'])"
   ]
  },
  {
   "cell_type": "code",
   "execution_count": 14,
   "metadata": {},
   "outputs": [],
   "source": [
    "encoded_data = pd.get_dummies(connecticut_df, columns=['RELP','COW','SCHL','MAR','OCCP','POBP','SEX'])"
   ]
  },
  {
   "cell_type": "markdown",
   "metadata": {},
   "source": [
    "<h5>Build the Model and get Parity and Accuracy<h5>"
   ]
  },
  {
   "cell_type": "code",
   "execution_count": 15,
   "metadata": {},
   "outputs": [
    {
     "name": "stdout",
     "output_type": "stream",
     "text": [
      "82.5\n"
     ]
    }
   ],
   "source": [
    "#Get the columns for the predictors and target variable\n",
    "acs_columns_list = list(encoded_data.columns)\n",
    "\n",
    "predictors = [item for item in acs_columns_list if item != 'PINCP']\n",
    "target_var = 'PINCP'\n",
    "\n",
    "#Setting the columns to each part of the logistic regression\n",
    "#x conatins the IV's\n",
    "#y contains the DV\n",
    "x = encoded_data[predictors].values\n",
    "y = encoded_data[target_var].values\n",
    "\n",
    "x_train, x_test, y_train, y_test = train_test_split(x, y, test_size=0.2, random_state=310)\n",
    "#X-train is all the data points for training\n",
    "#y_train contains the labels for each of the training data points\n",
    "#x_test contains all the testing data points\n",
    "#y_test contains the ground truth for each of the test data points\n",
    "\n",
    "#Run the LR classifier\n",
    "clf = LogisticRegression(class_weight=None, max_iter=100)\n",
    "lr = clf.fit(x_train,y_train)\n",
    "prediction = lr.predict(x_test)\n",
    "prediction_prob = lr.predict_proba(x_train)\n",
    "accuracy = accuracy_score(y_test,prediction)*100\n",
    "print(accuracy)\n"
   ]
  },
  {
   "cell_type": "code",
   "execution_count": 16,
   "metadata": {},
   "outputs": [
    {
     "name": "stdout",
     "output_type": "stream",
     "text": [
      "Statistical Parity: 0.16867\n"
     ]
    }
   ],
   "source": [
    "#Break the test dataframe into different groups\n",
    "#Unprotected group is everyone who is a female or 2\n",
    "#Complement group is everyone who is a male or 1\n",
    "test_demo_df = pd.DataFrame(x_test, columns = predictors)\n",
    "predicted_df = pd.DataFrame(prediction, columns = ['income'])\n",
    "concat_df = pd.concat([test_demo_df,predicted_df], axis=1)\n",
    "\n",
    "#Get the two groups of people totals\n",
    "total_unpriv = (len(concat_df[concat_df['SEX_male']==0]))\n",
    "total_priv = (len(concat_df[concat_df['SEX_male']==1]))\n",
    "\n",
    "#Number of people accepted\n",
    "total_credit_unpriv = len(concat_df[(concat_df['income'] == 1) & (concat_df['SEX_male'] == 0)])\n",
    "total_credit_priv = len(concat_df[(concat_df['income'] == 1) & (concat_df['SEX_male'] == 1)])\n",
    "\n",
    "#Percentage of approved people\n",
    "p_unpriv = total_credit_unpriv/total_unpriv\n",
    "p_priv = total_credit_priv/total_priv\n",
    "\n",
    "statistical_parity = p_priv - p_unpriv\n",
    "print(f'Statistical Parity: {statistical_parity:.5f}')"
   ]
  },
  {
   "cell_type": "code",
   "execution_count": 17,
   "metadata": {},
   "outputs": [],
   "source": [
    "state_parity = []\n",
    "state_name = []\n",
    "\n",
    "state_parity.append(statistical_parity)\n",
    "state_name.append('CT')"
   ]
  },
  {
   "cell_type": "markdown",
   "metadata": {},
   "source": [
    "<h5>Iterative Flipping<h5>"
   ]
  },
  {
   "cell_type": "code",
   "execution_count": 18,
   "metadata": {},
   "outputs": [],
   "source": [
    "#Need to build a new dataframe for training and testing purposes for iterative flipping \n",
    "#Combine x_train and y_train\n",
    "#I combine these so that when I flip the labels I have one DF that I work with\n",
    "#Rather than 2 numpy.ndarrays\n",
    "train_demo_df = pd.DataFrame(x_train, columns = predictors)\n",
    "train_outcome_df = pd.DataFrame(y_train, columns = ['PINCP'])\n",
    "train_full_df = pd.concat([train_demo_df, train_outcome_df], axis=1)"
   ]
  },
  {
   "cell_type": "code",
   "execution_count": 20,
   "metadata": {},
   "outputs": [],
   "source": [
    "train_full_df['PINCP'] = train_full_df['PINCP'].replace(True, 1)\n",
    "train_full_df['PINCP'] = train_full_df['PINCP'].replace(False, 0)"
   ]
  },
  {
   "cell_type": "code",
   "execution_count": 21,
   "metadata": {},
   "outputs": [],
   "source": [
    "#When flipping the label make sure convert the flip before into its original value\n",
    "\n",
    "#Combine x_train and y_train\n",
    "#Retrain the model after combining them and then flip and calculate\n",
    "#Implement label flipping and recalculate\n",
    "\n",
    "#Each list holds a different value\n",
    "\n",
    "#list_parity holds each parity value after each flip and recalculation\n",
    "list_parity = []\n",
    "#list_acc holds the accuracy of each iteration after a flip\n",
    "list_acc = []\n",
    "#list_flip holds the row number of the flip; starts at 0 and goes through the whole\n",
    "list_flip = []\n",
    "\n",
    "#Iterating through the training dataset\n",
    "for index, row in train_full_df.iterrows():\n",
    "  #If the row that I am on has the label 1 (credit_risk is the label name) then I will flip it\n",
    "  #And then run the logistic_regression function to get the accuracy, the DF that contains datapoints,\n",
    "  #And the DF that contains the predictions\n",
    "  #The two DF's are then combined in the s_parity function to calculate parity\n",
    "    if row['PINCP'] == 1:\n",
    "      #Flip the label\n",
    "        train_full_df.at[index, 'PINCP'] = 0\n",
    "\n",
    "        #Run the logistic regression function\n",
    "        #train_full_df: training dataset\n",
    "        #predictors: IV's\n",
    "        #target_var: DV's\n",
    "        #'credit_risk12': this is the column that the labels for the test_prediction is in\n",
    "        accuracy,test_datapoints, test_prediction = logistic_regression(train_full_df, predictors, target_var, 'income')\n",
    "\n",
    "        #list_flip: contains the row number that has just been flipped\n",
    "        #list_num: contains the accuracy value just calculated\n",
    "        list_flip.append(index)\n",
    "        list_acc.append(accuracy)\n",
    "\n",
    "        ##################################################################################\n",
    "        #After calculating the accuracy parity calculation is next\n",
    "        parity = s_parity(test_datapoints, predictors, test_prediction, 'SEX_male', 'income')\n",
    "        #list_parity: contains the parity value after the flip\n",
    "        #print(parity)\n",
    "        list_parity.append(parity)\n",
    "\n",
    "        #Flips the label back to its original value\n",
    "        train_full_df.at[index,'PINCP'] = 1\n",
    "\n",
    "    #Repeats all the same steps as above but this time if the original label is 2\n",
    "    elif row['PINCP'] == 0:\n",
    "        train_full_df.at[index, 'PINCP'] = 1\n",
    "\n",
    "        accuracy,test_datapoints, test_prediction = logistic_regression(train_full_df, predictors, target_var, 'income')\n",
    "        list_flip.append(index)\n",
    "        list_acc.append(accuracy)\n",
    "\n",
    "        ##################################################################################\n",
    "        parity = s_parity(test_datapoints, predictors, test_prediction, 'SEX_male', 'income')\n",
    "        #print(parity)\n",
    "        list_parity.append(parity)\n",
    "\n",
    "        train_full_df.at[index,'PINCP'] = 0"
   ]
  },
  {
   "cell_type": "code",
   "execution_count": 22,
   "metadata": {},
   "outputs": [],
   "source": [
    "#parity_difference: Contains the difference between flipped and original value\n",
    "parity_difference = []\n",
    "#Contains parity values that fall between .03 and -.03\n",
    "large_influence = []\n",
    "#Contains the row number of each flip\n",
    "li_row = []\n",
    "\n",
    "#Takes each of the parity values after flipping and compares it to the original parity value\n",
    "#Appends the difference to a new list\n",
    "for value in list_parity:\n",
    "    difference = abs(value) - abs(statistical_parity)\n",
    "    parity_difference.append(difference)\n",
    "\n",
    "\n",
    "#Rows are considered to be high influence if they fall in between\n",
    "for index, item in enumerate(parity_difference):\n",
    "  if statistical_parity > 0:\n",
    "    if item <= statistical_parity or item >= -1*(statistical_parity):\n",
    "        large_influence.append(item)\n",
    "        li_row.append(index)\n",
    "  else:\n",
    "    if item >= statistical_parity or item <= -1*(statistical_parity):\n",
    "        large_influence.append(item)\n",
    "        li_row.append(index)"
   ]
  },
  {
   "cell_type": "code",
   "execution_count": 23,
   "metadata": {},
   "outputs": [],
   "source": [
    "# Combine lists into tuples and zip them\n",
    "combined_data = list(zip(large_influence, li_row))\n",
    "\n",
    "# Sort based on statistical parity values in descending order\n",
    "combined_data.sort(key=lambda x: abs(x[0]), reverse=True)\n",
    "\n",
    "# Extract sorted indices list and the sorted values\n",
    "sorted_indices_list = [index for _, index in combined_data]\n",
    "sorted_values = sorted(large_influence, reverse=True)"
   ]
  },
  {
   "cell_type": "code",
   "execution_count": 24,
   "metadata": {},
   "outputs": [],
   "source": [
    "#Flip the top 50% of the list\n",
    "sorted_indices_list = sorted_indices_list[:len(sorted_indices_list)//2]"
   ]
  },
  {
   "cell_type": "code",
   "execution_count": 25,
   "metadata": {},
   "outputs": [],
   "source": [
    "#After ranking the values it is time to now go back through the flipping process but flip the top 500 labels based on their ranking\n",
    "#Parity values after each flip\n",
    "ranked_parity = []\n",
    "#Accuracy after every flip\n",
    "ranked_acc = []\n",
    "#Index/row of the flip\n",
    "ranked_flip = []\n",
    "\n",
    "row_num = 0\n",
    "#sorted_indices is a tuple so it's coverted to a list\n",
    "ranked_indices_list = list(sorted_indices_list)\n",
    "\n",
    "#Iterate through the ranked indices and start flipping labels based on their position in the list\n",
    "for row in range(len(ranked_indices_list)):\n",
    "  #row_num: contains the row number with respect to the dataframe\n",
    "  row_num = ranked_indices_list[row]\n",
    "  #If the label at the specific row is 1 it flips it to 2 then calculates the parity and accuracy\n",
    "  #It follows the same steps as the flipping before\n",
    "  if train_full_df.at[row_num,'PINCP'] == 1:\n",
    "      train_full_df.at[row_num, 'PINCP'] = 0\n",
    "\n",
    "      accuracy,test_datapoints, test_prediction = logistic_regression(train_full_df, predictors, target_var, 'income')\n",
    "\n",
    "      ranked_flip.append(row_num)\n",
    "      ranked_acc.append(accuracy)\n",
    "\n",
    "      ##################################################################################\n",
    "      parity = s_parity(test_datapoints, predictors, test_prediction, 'SEX_male', 'income')\n",
    "      ranked_parity.append(parity)\n",
    "\n",
    "\n",
    "  elif train_full_df.at[row_num,'PINCP'] == 0:\n",
    "      train_full_df.at[row_num, 'PINCP'] = 1\n",
    "\n",
    "      accuracy,test_datapoints, test_prediction = logistic_regression(train_full_df, predictors, target_var, 'income')\n",
    "\n",
    "      ranked_flip.append(row_num)\n",
    "      ranked_acc.append(accuracy)\n",
    "\n",
    "      ##################################################################################\n",
    "      parity = s_parity(test_datapoints, predictors, test_prediction, 'SEX_male', 'income')\n",
    "      ranked_parity.append(parity)"
   ]
  },
  {
   "cell_type": "code",
   "execution_count": 26,
   "metadata": {},
   "outputs": [],
   "source": [
    "#Takes the first 150 parity values and their indices and will graph those\n",
    "top_ranked_parity = ranked_parity[:]\n",
    "top_ranked_index = ranked_flip[:]"
   ]
  },
  {
   "cell_type": "code",
   "execution_count": 27,
   "metadata": {},
   "outputs": [],
   "source": [
    "#Place the original parity at the beginning of the list\n",
    "top_ranked_parity.insert(0,statistical_parity)"
   ]
  },
  {
   "cell_type": "markdown",
   "metadata": {},
   "source": [
    "<h5>Uncertainty Reduction<h5>"
   ]
  },
  {
   "cell_type": "code",
   "execution_count": 28,
   "metadata": {},
   "outputs": [],
   "source": [
    "#Create new training dataset\n",
    "train_demo_df_entropy = pd.DataFrame(x_train, columns = predictors)\n",
    "train_outcome_df_entropy = pd.DataFrame(y_train, columns = ['PINCP'])\n",
    "train_full_df_entropy = pd.concat([train_demo_df_entropy, train_outcome_df_entropy], axis=1)"
   ]
  },
  {
   "cell_type": "code",
   "execution_count": 29,
   "metadata": {},
   "outputs": [],
   "source": [
    "train_full_df_entropy['PINCP'] = train_full_df_entropy['PINCP'].replace(True, 1)\n",
    "train_full_df_entropy['PINCP'] = train_full_df_entropy['PINCP'].replace(False, 0)"
   ]
  },
  {
   "cell_type": "code",
   "execution_count": 30,
   "metadata": {},
   "outputs": [],
   "source": [
    "# Obtain predicted probabilities on the training data\n",
    "predicted_probabilities = lr.predict_proba(x_train)"
   ]
  },
  {
   "cell_type": "code",
   "execution_count": 31,
   "metadata": {},
   "outputs": [],
   "source": [
    "#Log base two would be: log = math.log(x,2)\n",
    "#Entropy equation would then be: -1*(p1((math.log(p1,2))+p2*(math.log(p2,2)))\n",
    "\n",
    "#In the predicted_probabilities: first value is 1 (which is good), second value is 2(which is bad)\n",
    "\n",
    "#Loop through the predicted_probabilities array and calculate values\n",
    "#One list will contain the index of each row in the table and the other will contain the entropy value of each row\n",
    "\n",
    "index_list = []\n",
    "entropy_list = []\n",
    "\n",
    "for index, value in enumerate(predicted_probabilities):\n",
    "  #Calculate p1 and p2\n",
    "  p1=predicted_probabilities[index,0]\n",
    "  p2=predicted_probabilities[index,1]\n",
    "  #Calculate entropy in 3 steps\n",
    "  entropy_calc1 = p1 * math.log(p1,2)\n",
    "  entropy_calc2 = p2 * math.log(p2,2)\n",
    "  entropy_final = -1 * (entropy_calc1 + entropy_calc2)\n",
    "\n",
    "  #Append the values to their respective lists\n",
    "  index_list.append(index)\n",
    "  entropy_list.append(entropy_final)"
   ]
  },
  {
   "cell_type": "code",
   "execution_count": 32,
   "metadata": {},
   "outputs": [],
   "source": [
    "#Rank the entropy values in decreasing order\n",
    "#Match the index list with them\n",
    "\n",
    "#Combine the two lists using zip\n",
    "combined_list = list(zip(entropy_list, index_list))\n",
    "\n",
    "#Sort the combined lust based on entropy values in descending order\n",
    "sorted_list = sorted(combined_list, key = lambda x: x[0], reverse=True)\n",
    "\n",
    "#Extract the values\n",
    "sorted_ent_list, sorted_index_list = zip(*sorted_list)"
   ]
  },
  {
   "cell_type": "code",
   "execution_count": 38,
   "metadata": {},
   "outputs": [],
   "source": [
    "#Convert each of the tuples into lists\n",
    "ranked_indices_list = list(sorted_index_list)\n",
    "ranked_entropy_list = list(sorted_ent_list)\n",
    "\n",
    "#Getting the top 50% values\n",
    "ranked_indices_list = ranked_indices_list[:len(ranked_indices_list)//2]"
   ]
  },
  {
   "cell_type": "code",
   "execution_count": 39,
   "metadata": {},
   "outputs": [],
   "source": [
    "#After ranking and getting the top 50% points I flip them based on where they are in the list\n",
    "\n",
    "#Different lists to hold each of the values\n",
    "ranked_parity = [statistical_parity]\n",
    "ranked_acc = []\n",
    "ranked_flip = []\n",
    "\n",
    "row_num = 0\n",
    "\n",
    "#Go through the training dataset and flip the points based on their entropy levels\n",
    "for row in range(len(ranked_indices_list)):\n",
    "  row_num = ranked_indices_list[row]\n",
    "\n",
    "  if train_full_df_entropy.at[row_num,'PINCP'] == 1:\n",
    "    train_full_df_entropy.at[row_num,'PINCP'] = 0\n",
    "    accuracy,test_datapoints, test_prediction = logistic_regression(train_full_df_entropy, predictors, target_var, 'income')\n",
    "\n",
    "    ranked_flip.append(row_num)\n",
    "    ranked_acc.append(accuracy)\n",
    "\n",
    "    parity = s_parity(test_datapoints, predictors, test_prediction, 'SEX_male','income')\n",
    "    ranked_parity.append(parity)\n",
    "\n",
    "  elif train_full_df_entropy.at[row_num, 'PINCP'] == 0:\n",
    "    train_full_df_entropy.at[row_num,'PINCP'] = 1\n",
    "    accuracy,test_datapoints, test_prediction = logistic_regression(train_full_df_entropy, predictors, target_var, 'income')\n",
    "\n",
    "    ranked_flip.append(row_num)\n",
    "    ranked_acc.append(accuracy)\n",
    "\n",
    "    parity = s_parity(test_datapoints, predictors, test_prediction, 'SEX_male','income')\n",
    "    ranked_parity.append(parity)\n"
   ]
  },
  {
   "cell_type": "markdown",
   "metadata": {},
   "source": [
    "<h5>Maximum Expected Utility<h5>"
   ]
  },
  {
   "cell_type": "code",
   "execution_count": 40,
   "metadata": {},
   "outputs": [],
   "source": [
    "#Create a fresh training dataset\n",
    "train_demo_df_MEU = pd.DataFrame(x_train, columns = predictors)\n",
    "train_outcome_df_MEU = pd.DataFrame(y_train, columns = ['PINCP'])\n",
    "train_full_df_MEU = pd.concat([train_demo_df_MEU, train_outcome_df_MEU], axis=1)"
   ]
  },
  {
   "cell_type": "code",
   "execution_count": 41,
   "metadata": {},
   "outputs": [],
   "source": [
    "train_full_df_MEU['PINCP'] = train_full_df_MEU['PINCP'].replace(True, 1)\n",
    "train_full_df_MEU['PINCP'] = train_full_df_MEU['PINCP'].replace(False, 0)"
   ]
  },
  {
   "cell_type": "code",
   "execution_count": 42,
   "metadata": {},
   "outputs": [],
   "source": [
    "# Obtain predicted probabilities on the training data\n",
    "predicted_probabilities = lr.predict_proba(x_train)"
   ]
  },
  {
   "cell_type": "code",
   "execution_count": 43,
   "metadata": {},
   "outputs": [],
   "source": [
    "#Make a copy of the original training dataframe to make changes on\n",
    "copy_train_full_df = train_full_df_MEU.copy()"
   ]
  },
  {
   "cell_type": "code",
   "execution_count": 44,
   "metadata": {},
   "outputs": [],
   "source": [
    "#Grab the original label of the DP in the copy dataframe and store in lists along with the index\n",
    "label = []\n",
    "row_index = []\n",
    "for index, row in copy_train_full_df.iterrows():\n",
    "  label.append(copy_train_full_df.at[index,'PINCP'])\n",
    "  row_index.append(index)"
   ]
  },
  {
   "cell_type": "code",
   "execution_count": 45,
   "metadata": {},
   "outputs": [],
   "source": [
    "#Calculate the first part of the MEU equation\n",
    "MEU_part1_list = []\n",
    "for index, value in enumerate(label):\n",
    "  if value == 1:\n",
    "    prob1 = predicted_probabilities[index,0]\n",
    "    MEU_part1_calc = prob1 * statistical_parity\n",
    "    MEU_part1_list.append(MEU_part1_calc)\n",
    "  elif value == 2:\n",
    "    prob2 = predicted_probabilities[index,1]\n",
    "    MEU_part1_calc = prob2 * statistical_parity\n",
    "    MEU_part1_list.append(MEU_part1_calc)"
   ]
  },
  {
   "cell_type": "code",
   "execution_count": 46,
   "metadata": {},
   "outputs": [],
   "source": [
    "#Iterate through the copied dataset\n",
    "#Flip each label and calculate the parity\n",
    "\n",
    "#When flipping the label make sure convert the flip before into its original value\n",
    "\n",
    "#Each list holds a different value\n",
    "\n",
    "#list_parity holds each parity value after each flip and recalculation\n",
    "MEU_part2_list_parity = []\n",
    "#list_acc holds the accuracy of each iteration after a flip\n",
    "MEU_part2_list_acc = []\n",
    "#list_flip holds the row number of the flip; starts at 0 and goes through the whole\n",
    "MEU_part2_list_flip = []\n",
    "\n",
    "#Iterating through the training dataset\n",
    "for index, row in copy_train_full_df.iterrows():\n",
    "  #If the row that I am on has the label 1 (credit_risk is the label name) then I will flip it\n",
    "  #And then run the logistic_regression function to get the accuracy, the DF that contains datapoints,\n",
    "  #And the DF that contains the predictions\n",
    "  #The two DF's are then combined in the s_parity function to calculate parity\n",
    "    if row['PINCP'] == 1:\n",
    "      #Flip the label\n",
    "        copy_train_full_df.at[index, 'PINCP'] = 0\n",
    "\n",
    "        #Run the logistic regression function\n",
    "        #train_full_df: training dataset\n",
    "        #predictors: IV's\n",
    "        #target_var: DV's\n",
    "        #'credit_risk12': this is the column that the labels for the test_prediction is in\n",
    "        accuracy,test_datapoints, test_prediction = logistic_regression(copy_train_full_df, predictors, target_var, 'income')\n",
    "\n",
    "        #list_flip: contains the row number that has just been flipped\n",
    "        #list_num: contains the accuracy value just calculated\n",
    "        MEU_part2_list_flip.append(index)\n",
    "        MEU_part2_list_acc.append(accuracy)\n",
    "\n",
    "        ##################################################################################\n",
    "        #After calculating the accuracy parity calculation is next\n",
    "        parity = s_parity(test_datapoints, predictors, test_prediction, 'SEX_male', 'income')\n",
    "        #list_parity: contains the parity value after the flip\n",
    "        MEU_part2_list_parity.append(parity)\n",
    "\n",
    "        #Flips the label back to its original value\n",
    "        copy_train_full_df.at[index,'PINCP'] = 1\n",
    "\n",
    "    #Repeats all the same steps as above but this time if the original label is 2\n",
    "    elif row['PINCP'] == 0:\n",
    "        copy_train_full_df.at[index, 'PINCP'] = 1\n",
    "\n",
    "        accuracy,test_datapoints, test_prediction = logistic_regression(copy_train_full_df, predictors, target_var, 'income')\n",
    "        MEU_part2_list_flip.append(index)\n",
    "        MEU_part2_list_acc.append(accuracy)\n",
    "\n",
    "        ##################################################################################\n",
    "        parity = s_parity(test_datapoints, predictors, test_prediction, 'SEX_male','income')\n",
    "        MEU_part2_list_parity.append(parity)\n",
    "\n",
    "        copy_train_full_df.at[index,'PINCP'] = 0"
   ]
  },
  {
   "cell_type": "code",
   "execution_count": 47,
   "metadata": {},
   "outputs": [],
   "source": [
    "#Second part of the calculation by taking the opposite value\n",
    "MEU_part2_list = []\n",
    "for index, value in enumerate(label):\n",
    "  if value == 1:\n",
    "    prob1 = predicted_probabilities[index,1]\n",
    "    MEU_part2_calc = prob1 * MEU_part2_list_parity[index]\n",
    "    MEU_part2_list.append(MEU_part2_calc)\n",
    "  elif value == 2:\n",
    "    prob2 = predicted_probabilities[index,0]\n",
    "    MEU_part2_calc = prob2 * MEU_part2_list_parity[index]\n",
    "    MEU_part2_list.append(MEU_part2_calc)"
   ]
  },
  {
   "cell_type": "code",
   "execution_count": 48,
   "metadata": {},
   "outputs": [],
   "source": [
    "#Add the two lists together\n",
    "expected_utility_values = []\n",
    "for part1, part2 in zip(MEU_part1_list, MEU_part2_list):\n",
    "    expected_utility_values.append(part1 + part2)"
   ]
  },
  {
   "cell_type": "code",
   "execution_count": 49,
   "metadata": {},
   "outputs": [],
   "source": [
    "#After adding the two lists together I need do the following calculation:\n",
    "#EU - OG Parity = New ranked value to flip on\n",
    "new_ranked_value = []\n",
    "\n",
    "for value in expected_utility_values:\n",
    "  new_ranked_value.append(value - statistical_parity)"
   ]
  },
  {
   "cell_type": "code",
   "execution_count": 50,
   "metadata": {},
   "outputs": [],
   "source": [
    "#Flip the lists so that they are in increasing order\n",
    "#Rank the MEUvalues in Increasing order\n",
    "#Match the index list with them\n",
    "\n",
    "#Combine the two lists using zip\n",
    "combined_list = list(zip(new_ranked_value, row_index))\n",
    "\n",
    "#Sort the combined lust based on EU values in increasing order\n",
    "sorted_list = sorted(combined_list, key = lambda x: abs(x[0]), reverse = True)\n",
    "\n",
    "#Extract the values\n",
    "sorted_eu_list, sorted_index_list = zip(*sorted_list)\n",
    "\n",
    "#Get the top 50% of points\n",
    "sorted_index_list = sorted_index_list[:len(sorted_index_list)//2]"
   ]
  },
  {
   "cell_type": "code",
   "execution_count": 51,
   "metadata": {},
   "outputs": [],
   "source": [
    "#After ranking and getting the tope 500 points I flip them based on where they are in the list\n",
    "\n",
    "#Different lists to hold each of the values\n",
    "MEU_ranked_parity = [statistical_parity]\n",
    "MEU_ranked_acc = []\n",
    "MEU_ranked_flip = []\n",
    "\n",
    "row_num = 0\n",
    "\n",
    "#Go through the training dataset and flip the points based on their entropy levels\n",
    "for row in range(len(sorted_index_list)):\n",
    "  row_num = sorted_index_list[row]\n",
    "\n",
    "  if train_full_df_MEU.at[row_num,'PINCP'] == 1:\n",
    "    train_full_df_MEU.at[row_num,'PINCP'] = 0\n",
    "    accuracy,test_datapoints, test_prediction = logistic_regression(train_full_df_MEU, predictors, target_var, 'income')\n",
    "\n",
    "    MEU_ranked_flip.append(row_num)\n",
    "    MEU_ranked_acc.append(accuracy)\n",
    "\n",
    "    parity = s_parity(test_datapoints, predictors, test_prediction, 'SEX_male', 'income')\n",
    "    MEU_ranked_parity.append(parity)\n",
    "\n",
    "  elif train_full_df_MEU.at[row_num, 'PINCP'] == 0:\n",
    "    train_full_df_MEU.at[row_num,'PINCP'] = 1\n",
    "    accuracy,test_datapoints, test_prediction = logistic_regression(train_full_df_MEU, predictors, target_var, 'income')\n",
    "\n",
    "    MEU_ranked_flip.append(row_num)\n",
    "    MEU_ranked_acc.append(accuracy)\n",
    "\n",
    "    parity = s_parity(test_datapoints, predictors, test_prediction, 'SEX_male', 'income')\n",
    "    MEU_ranked_parity.append(parity)\n",
    "\n",
    "\n"
   ]
  },
  {
   "cell_type": "code",
   "execution_count": 52,
   "metadata": {},
   "outputs": [],
   "source": [
    "#Convert each of the tuples into lists\n",
    "ranked_indices_list = list(sorted_index_list)\n",
    "ranked_eu_list = list(MEU_ranked_parity)\n",
    "\n",
    "#Get the top 500 points in the list\n",
    "top_index_points = ranked_indices_list[:500]\n",
    "top_eu_list = ranked_eu_list[:500]"
   ]
  },
  {
   "cell_type": "markdown",
   "metadata": {},
   "source": [
    "<h5>Random Flipping<h5>`"
   ]
  },
  {
   "cell_type": "code",
   "execution_count": 53,
   "metadata": {},
   "outputs": [],
   "source": [
    "#Create a new dataframe with the original data for the random flipping\n",
    "train_demo_df_random = pd.DataFrame(x_train, columns = predictors)\n",
    "train_outcome_df_random = pd.DataFrame(y_train, columns = ['PINCP'])\n",
    "train_full_df_random = pd.concat([train_demo_df_random, train_outcome_df_random], axis=1)"
   ]
  },
  {
   "cell_type": "code",
   "execution_count": 54,
   "metadata": {},
   "outputs": [],
   "source": [
    "train_full_df_random['PINCP'] = train_full_df_random['PINCP'].replace(True, 1)\n",
    "train_full_df_random['PINCP'] = train_full_df_random['PINCP'].replace(False, 0)"
   ]
  },
  {
   "cell_type": "code",
   "execution_count": 55,
   "metadata": {},
   "outputs": [],
   "source": [
    "#Randomized flipping\n",
    "#Budget of 50\n",
    "import random\n",
    "\n",
    "random_list_flip = []\n",
    "random_list_acc = []\n",
    "random_list_parity = []\n",
    "\n",
    "col_name = 'PINCP'\n",
    "budget = len(train_full_df_random)*.2\n",
    "\n",
    "#Loops through the budget and will randomly change rows in the dataframe based on the random library\n",
    "#After changing the row it will calculate the accuracy and parity and then change the value back to its original value\n",
    "#Follows the same flipping and calculations as before but this time it is with random rows rather than systematic flipping\n",
    "for iter in range(budget):\n",
    "    random_row = random.choice(train_full_df_random.index)\n",
    "    if train_full_df_random.at[random_row,col_name] == 1:\n",
    "        train_full_df_random.at[random_row,col_name] = 0\n",
    "\n",
    "        accuracy, test_datapoints, test_prediction = logistic_regression(train_full_df_random, predictors, target_var,'income')\n",
    "\n",
    "        random_list_flip.append(iter)\n",
    "        random_list_acc.append(accuracy)\n",
    "\n",
    "        ##################################################################################\n",
    "        parity = s_parity(test_datapoints, predictors, test_prediction, 'SEX_male','income')\n",
    "        random_list_parity.append(parity)\n",
    "\n",
    "    elif train_full_df_random.at[random_row,col_name] == 0:\n",
    "        train_full_df_random.at[random_row,col_name] = 1\n",
    "\n",
    "        accuracy, test_datapoints, test_prediction = logistic_regression(train_full_df_random, predictors, target_var,'income')\n",
    "        random_list_flip.append(iter)\n",
    "        random_list_acc.append(accuracy)\n",
    "\n",
    "        ##################################################################################\n",
    "        parity = s_parity(test_datapoints, predictors, test_prediction, 'SEX_male', 'income')\n",
    "        random_list_parity.append(parity)"
   ]
  },
  {
   "cell_type": "code",
   "execution_count": 56,
   "metadata": {},
   "outputs": [
    {
     "data": {
      "image/png": "[encoded data removed]",
      "text/plain": [
       "<Figure size 640x480 with 1 Axes>"
      ]
     },
     "metadata": {},
     "output_type": "display_data"
    }
   ],
   "source": [
    "#Plotting the random flips dataset and the systematic flips\n",
    "#Systematic flips will have 800\n",
    "#Random will have 150\n",
    "\n",
    "#Plot the first dataset which is the ranked data list with 800 flips\n",
    "#list_parity.sort(reverse=True)\n",
    "x=range(len(list_parity))\n",
    "plt.plot(x,list_parity,label='Ranked List',color='blue')\n",
    "\n",
    "#Plot the second dataset which is the random list of 150 flips\n",
    "x2 = range(len(random_list_parity))\n",
    "plt.plot(x2,random_list_parity,label='Random List',color='red')\n",
    "\n",
    "#Entropy based flips\n",
    "x3 = range(len(ranked_parity))\n",
    "plt.plot(x3,ranked_parity,label='Uncertainty Reduction',color='black')\n",
    "\n",
    "#MEU based flips\n",
    "x4 = range(len(MEU_ranked_parity))\n",
    "plt.plot(x4,MEU_ranked_parity,label='MEU',color='brown')\n",
    "\n",
    "#Add the labels\n",
    "plt.xlabel('Flips')\n",
    "plt.ylabel('Parity')\n",
    "plt.title('Change in parity for the Random and Ranked list')\n",
    "\n",
    "#Add a legend\n",
    "plt.legend()\n",
    "\n",
    "#Show the plot\n",
    "plt.show()"
   ]
  },
  {
   "cell_type": "markdown",
   "metadata": {},
   "source": [
    "<h4>Wyoming<h4>"
   ]
  },
  {
   "cell_type": "code",
   "execution_count": 57,
   "metadata": {},
   "outputs": [],
   "source": [
    "#Before conducting analysis I need to access the data and join it together\n",
    "data_source = ACSDataSource(survey_year='2018', horizon='1-Year', survey='person')\n",
    "data = data_source.get_data(states=['WY'])\n",
    "features, labels,_= ACSIncome.df_to_pandas(data)\n",
    "wyoming_df = pd.concat([features,labels], axis=1)"
   ]
  },
  {
   "cell_type": "code",
   "execution_count": 58,
   "metadata": {},
   "outputs": [],
   "source": [
    "#After joining them I will code the different columns\n",
    "#Group the SCHL columns into a single values\n",
    "#1: Grade School (No Diploman)\n",
    "#2: High School Diploma/GED\n",
    "#3: Some College (2 Years at Most)\n",
    "#4: Bachelor's Degree\n",
    "#5: Master's Degree\n",
    "#6: Professional Degree\n",
    "#7: Doctorate Or Equivalent\n",
    "ranges = {'GS': (1, 15), 'HSD': (16, 17), 'SC': (18, 20), 'BD': (21,21), 'ME': (22,22), 'PD': (23,23), 'DE': (24,24)}\n",
    "group_dict = {}\n",
    "\n",
    "def assign_group(value):\n",
    "  \"\"\"Assigns a group label to a value based on the ranges dictionary.\"\"\"\n",
    "  if value not in group_dict:\n",
    "    for group_name, group_range in ranges.items():\n",
    "      if group_range[0] <= value <= group_range[1]:\n",
    "        group_dict[value] = group_name\n",
    "        break\n",
    "  return group_dict.get(value)\n",
    "\n",
    "wyoming_df['SCHL'] = wyoming_df['SCHL'].apply(assign_group)"
   ]
  },
  {
   "cell_type": "code",
   "execution_count": 59,
   "metadata": {},
   "outputs": [],
   "source": [
    "#Assign codes to occupations based on ranges\n",
    "#0010-0440\t11-0000\tManagement Occupations: 170997\n",
    "#0500-0960\t13-0000\tBusiness and Financial Operations Occupations: 91842\n",
    "#1005-1240\t15-0000\tComputer and mathematical occupations: 50817\n",
    "#1305-1560\t17-0000\tArchitecture and Engineering Occupations: 31718\n",
    "#1600-1980\t19-0000\tLife, Physical, and Social Science Occupations: 16529\n",
    "#2001-2970\t21-0000 - 27-0000\tEducation, Legal, Community Service, Arts, and Media Occupations: 193762\n",
    "#3000-3550\t29-0000\tHealthcare Practitioners and Technical Occupations: 100986\n",
    "#3601-4655\t31-0000 - 39-0000\tService Occupations: 283912\n",
    "#4700-5940\t41-0000 - 43-0000\tSales and Office Occupations: 358340\n",
    "#6005-7640\t45-0000 - 49-0000\tNatural Resources, Construction, and Maintenance Occupations: 143613\n",
    "#7700-9760\t51-0000 - 53-0000\tProduction, Transportation, and Material Moving Occupations: 216280\n",
    "#9800-9920                      Military Specific Occupations: 5704\n",
    "\n",
    "ranges = {\n",
    "    'management': (10,440),\n",
    "    'business': (500,960),\n",
    "    'computer': (1005,1240),\n",
    "    'engineering': (1305,1560),\n",
    "    'life': (1600,1980),\n",
    "    'education_arts': (2001,2970),\n",
    "    'healthcare': (3000,3550),\n",
    "    'service': (3601,4655),\n",
    "    'sales': (4700,5940),\n",
    "    'environmental_construction': (6005,7640),\n",
    "    'production_transportation': (7700,9760),\n",
    "    'military': (9800,9920)\n",
    "}\n",
    "group_dict = {}\n",
    "wyoming_df['OCCP'] = wyoming_df['OCCP'].apply(assign_group)"
   ]
  },
  {
   "cell_type": "code",
   "execution_count": 60,
   "metadata": {},
   "outputs": [],
   "source": [
    "#Add family codes \n",
    "#1-7: Family\n",
    "#8-10: inlaws and other family\n",
    "#11-17: Non-Family\n",
    "ranges = {\n",
    "    'family': (0,7),\n",
    "    'inlaws/other': (8,10),\n",
    "    'non-family': (11,17)\n",
    "}\n",
    "group_dict = {}\n",
    "wyoming_df['RELP'] = wyoming_df['RELP'].apply(assign_group)"
   ]
  },
  {
   "cell_type": "code",
   "execution_count": 61,
   "metadata": {},
   "outputs": [],
   "source": [
    "#Code the Class of worker column from numeric to strings\n",
    "wyoming_df['COW'] = wyoming_df['COW'].replace(1, 'private_business')\n",
    "wyoming_df['COW'] = wyoming_df['COW'].replace(2, 'non-profit')\n",
    "wyoming_df['COW'] = wyoming_df['COW'].replace(3, 'local_gov')\n",
    "wyoming_df['COW'] = wyoming_df['COW'].replace(4, 'state_gov')\n",
    "wyoming_df['COW'] = wyoming_df['COW'].replace(5, 'federal_gov')\n",
    "wyoming_df['COW'] = wyoming_df['COW'].replace(6, 'SE_no_business')\n",
    "wyoming_df['COW'] = wyoming_df['COW'].replace(7, 'SE_business')\n",
    "wyoming_df['COW'] = wyoming_df['COW'].replace(8, 'no_pay_work')\n",
    "wyoming_df['COW'] = wyoming_df['COW'].replace(9, 'unemployed')\n"
   ]
  },
  {
   "cell_type": "code",
   "execution_count": 62,
   "metadata": {},
   "outputs": [],
   "source": [
    "#Class the Marital Status from numeric to strings\n",
    "wyoming_df['MAR'] = wyoming_df['MAR'].replace(1, 'married')\n",
    "wyoming_df['MAR'] = wyoming_df['MAR'].replace(2, 'widowed')\n",
    "wyoming_df['MAR'] = wyoming_df['MAR'].replace(3, 'divorced')\n",
    "wyoming_df['MAR'] = wyoming_df['MAR'].replace(4, 'seperated')\n",
    "wyoming_df['MAR'] = wyoming_df['MAR'].replace(5, 'never_married')"
   ]
  },
  {
   "cell_type": "code",
   "execution_count": 63,
   "metadata": {},
   "outputs": [],
   "source": [
    "#Code the sex column from numeric to string\n",
    "wyoming_df['SEX'] = wyoming_df['SEX'].replace(1, 'male')\n",
    "wyoming_df['SEX'] = wyoming_df['SEX'].replace(2, 'female')"
   ]
  },
  {
   "cell_type": "code",
   "execution_count": 64,
   "metadata": {},
   "outputs": [],
   "source": [
    "wyoming_df = wyoming_df.drop(columns=['AGEP','RAC1P'])"
   ]
  },
  {
   "cell_type": "code",
   "execution_count": 65,
   "metadata": {},
   "outputs": [],
   "source": [
    "encoded_data = pd.get_dummies(wyoming_df, columns=['RELP','COW','SCHL','MAR','OCCP','POBP','SEX'])"
   ]
  },
  {
   "cell_type": "markdown",
   "metadata": {},
   "source": [
    "<h5>Build the Model and get Parity and Accuracy<h5>"
   ]
  },
  {
   "cell_type": "code",
   "execution_count": 66,
   "metadata": {},
   "outputs": [
    {
     "name": "stdout",
     "output_type": "stream",
     "text": [
      "79.6084828711256\n"
     ]
    }
   ],
   "source": [
    "#Get the columns for the predictors and target variable\n",
    "acs_columns_list = list(encoded_data.columns)\n",
    "\n",
    "predictors = [item for item in acs_columns_list if item != 'PINCP']\n",
    "target_var = 'PINCP'\n",
    "\n",
    "#Setting the columns to each part of the logistic regression\n",
    "#x conatins the IV's\n",
    "#y contains the DV\n",
    "x = encoded_data[predictors].values\n",
    "y = encoded_data[target_var].values\n",
    "\n",
    "x_train, x_test, y_train, y_test = train_test_split(x, y, test_size=0.2, random_state=310)\n",
    "#X-train is all the data points for training\n",
    "#y_train contains the labels for each of the training data points\n",
    "#x_test contains all the testing data points\n",
    "#y_test contains the ground truth for each of the test data points\n",
    "\n",
    "#Run the LR classifier\n",
    "clf = LogisticRegression(class_weight=None, max_iter=100)\n",
    "lr = clf.fit(x_train,y_train)\n",
    "prediction = lr.predict(x_test)\n",
    "prediction_prob = lr.predict_proba(x_train)\n",
    "accuracy = accuracy_score(y_test,prediction)*100\n",
    "print(accuracy)\n"
   ]
  },
  {
   "cell_type": "code",
   "execution_count": 67,
   "metadata": {},
   "outputs": [
    {
     "name": "stdout",
     "output_type": "stream",
     "text": [
      "Statistical Parity: 0.32446\n"
     ]
    }
   ],
   "source": [
    "#Break the test dataframe into different groups\n",
    "#Unprotected group is everyone who is a female or 2\n",
    "#Complement group is everyone who is a male or 1\n",
    "test_demo_df = pd.DataFrame(x_test, columns = predictors)\n",
    "predicted_df = pd.DataFrame(prediction, columns = ['income'])\n",
    "concat_df = pd.concat([test_demo_df,predicted_df], axis=1)\n",
    "\n",
    "#Get the two groups of people totals\n",
    "total_unpriv = (len(concat_df[concat_df['SEX_male']==0]))\n",
    "total_priv = (len(concat_df[concat_df['SEX_male']==1]))\n",
    "\n",
    "#Number of people accepted\n",
    "total_credit_unpriv = len(concat_df[(concat_df['income'] == 1) & (concat_df['SEX_male'] == 0)])\n",
    "total_credit_priv = len(concat_df[(concat_df['income'] == 1) & (concat_df['SEX_male'] == 1)])\n",
    "\n",
    "#Percentage of approved people\n",
    "p_unpriv = total_credit_unpriv/total_unpriv\n",
    "p_priv = total_credit_priv/total_priv\n",
    "\n",
    "statistical_parity = p_priv - p_unpriv\n",
    "print(f'Statistical Parity: {statistical_parity:.5f}')"
   ]
  },
  {
   "cell_type": "code",
   "execution_count": 68,
   "metadata": {},
   "outputs": [],
   "source": [
    "state_parity.append(statistical_parity)\n",
    "state_name.append('WY')"
   ]
  },
  {
   "cell_type": "markdown",
   "metadata": {},
   "source": [
    "<h5>Iterative Flipping<h5>"
   ]
  },
  {
   "cell_type": "code",
   "execution_count": 69,
   "metadata": {},
   "outputs": [],
   "source": [
    "#Need to build a new dataframe for training and testing purposes for iterative flipping \n",
    "#Combine x_train and y_train\n",
    "#I combine these so that when I flip the labels I have one DF that I work with\n",
    "#Rather than 2 numpy.ndarrays\n",
    "train_demo_df = pd.DataFrame(x_train, columns = predictors)\n",
    "train_outcome_df = pd.DataFrame(y_train, columns = ['PINCP'])\n",
    "train_full_df = pd.concat([train_demo_df, train_outcome_df], axis=1)"
   ]
  },
  {
   "cell_type": "code",
   "execution_count": 71,
   "metadata": {},
   "outputs": [],
   "source": [
    "train_full_df['PINCP'] = train_full_df['PINCP'].replace(True, 1)\n",
    "train_full_df['PINCP'] = train_full_df['PINCP'].replace(False, 0)"
   ]
  },
  {
   "cell_type": "code",
   "execution_count": 72,
   "metadata": {},
   "outputs": [],
   "source": [
    "#When flipping the label make sure convert the flip before into its original value\n",
    "\n",
    "#Combine x_train and y_train\n",
    "#Retrain the model after combining them and then flip and calculate\n",
    "#Implement label flipping and recalculate\n",
    "\n",
    "#Each list holds a different value\n",
    "\n",
    "#list_parity holds each parity value after each flip and recalculation\n",
    "list_parity = []\n",
    "#list_acc holds the accuracy of each iteration after a flip\n",
    "list_acc = []\n",
    "#list_flip holds the row number of the flip; starts at 0 and goes through the whole\n",
    "list_flip = []\n",
    "\n",
    "#Iterating through the training dataset\n",
    "for index, row in train_full_df.iterrows():\n",
    "  #If the row that I am on has the label 1 (credit_risk is the label name) then I will flip it\n",
    "  #And then run the logistic_regression function to get the accuracy, the DF that contains datapoints,\n",
    "  #And the DF that contains the predictions\n",
    "  #The two DF's are then combined in the s_parity function to calculate parity\n",
    "    if row['PINCP'] == 1:\n",
    "      #Flip the label\n",
    "        train_full_df.at[index, 'PINCP'] = 0\n",
    "\n",
    "        #Run the logistic regression function\n",
    "        #train_full_df: training dataset\n",
    "        #predictors: IV's\n",
    "        #target_var: DV's\n",
    "        #'credit_risk12': this is the column that the labels for the test_prediction is in\n",
    "        accuracy,test_datapoints, test_prediction = logistic_regression(train_full_df, predictors, target_var, 'income')\n",
    "\n",
    "        #list_flip: contains the row number that has just been flipped\n",
    "        #list_num: contains the accuracy value just calculated\n",
    "        list_flip.append(index)\n",
    "        list_acc.append(accuracy)\n",
    "\n",
    "        ##################################################################################\n",
    "        #After calculating the accuracy parity calculation is next\n",
    "        parity = s_parity(test_datapoints, predictors, test_prediction, 'SEX_male', 'income')\n",
    "        #list_parity: contains the parity value after the flip\n",
    "        #print(parity)\n",
    "        list_parity.append(parity)\n",
    "\n",
    "        #Flips the label back to its original value\n",
    "        train_full_df.at[index,'PINCP'] = 1\n",
    "\n",
    "    #Repeats all the same steps as above but this time if the original label is 2\n",
    "    elif row['PINCP'] == 0:\n",
    "        train_full_df.at[index, 'PINCP'] = 1\n",
    "\n",
    "        accuracy,test_datapoints, test_prediction = logistic_regression(train_full_df, predictors, target_var, 'income')\n",
    "        list_flip.append(index)\n",
    "        list_acc.append(accuracy)\n",
    "\n",
    "        ##################################################################################\n",
    "        parity = s_parity(test_datapoints, predictors, test_prediction, 'SEX_male', 'income')\n",
    "        #print(parity)\n",
    "        list_parity.append(parity)\n",
    "\n",
    "        train_full_df.at[index,'PINCP'] = 0"
   ]
  },
  {
   "cell_type": "code",
   "execution_count": 73,
   "metadata": {},
   "outputs": [],
   "source": [
    "#parity_difference: Contains the difference between flipped and original value\n",
    "parity_difference = []\n",
    "#Contains parity values that fall between .03 and -.03\n",
    "large_influence = []\n",
    "#Contains the row number of each flip\n",
    "li_row = []\n",
    "\n",
    "#Takes each of the parity values after flipping and compares it to the original parity value\n",
    "#Appends the difference to a new list\n",
    "for value in list_parity:\n",
    "    difference = abs(value) - abs(statistical_parity)\n",
    "    parity_difference.append(difference)\n",
    "\n",
    "\n",
    "#Rows are considered to be high influence if they fall in between\n",
    "for index, item in enumerate(parity_difference):\n",
    "  if statistical_parity > 0:\n",
    "    if item <= statistical_parity or item >= -1*(statistical_parity):\n",
    "        large_influence.append(item)\n",
    "        li_row.append(index)\n",
    "  else:\n",
    "    if item >= statistical_parity or item <= -1*(statistical_parity):\n",
    "        large_influence.append(item)\n",
    "        li_row.append(index)"
   ]
  },
  {
   "cell_type": "code",
   "execution_count": 74,
   "metadata": {},
   "outputs": [],
   "source": [
    "# Combine lists into tuples and zip them\n",
    "combined_data = list(zip(large_influence, li_row))\n",
    "\n",
    "# Sort based on statistical parity values in descending order\n",
    "combined_data.sort(key=lambda x: abs(x[0]), reverse=True)\n",
    "\n",
    "# Extract sorted indices list and the sorted values\n",
    "sorted_indices_list = [index for _, index in combined_data]\n",
    "sorted_values = sorted(large_influence, reverse=True)"
   ]
  },
  {
   "cell_type": "code",
   "execution_count": 75,
   "metadata": {},
   "outputs": [],
   "source": [
    "#Get the top 50% of the datapoints\n",
    "sorted_indices_list = sorted_indices_list[:(len(sorted_indices_list)//2)]"
   ]
  },
  {
   "cell_type": "code",
   "execution_count": 76,
   "metadata": {},
   "outputs": [],
   "source": [
    "#After ranking the values it is time to now go back through the flipping process but flip the top 500 labels based on their ranking\n",
    "#Parity values after each flip\n",
    "ranked_parity = []\n",
    "#Accuracy after every flip\n",
    "ranked_acc = []\n",
    "#Index/row of the flip\n",
    "ranked_flip = []\n",
    "\n",
    "row_num = 0\n",
    "#sorted_indices is a tuple so it's coverted to a list\n",
    "ranked_indices_list = list(sorted_indices_list)\n",
    "\n",
    "#Iterate through the ranked indices and start flipping labels based on their position in the list\n",
    "for row in range(len(ranked_indices_list)):\n",
    "  #row_num: contains the row number with respect to the dataframe\n",
    "  row_num = ranked_indices_list[row]\n",
    "  #If the label at the specific row is 1 it flips it to 2 then calculates the parity and accuracy\n",
    "  #It follows the same steps as the flipping before\n",
    "  if train_full_df.at[row_num,'PINCP'] == 1:\n",
    "      train_full_df.at[row_num, 'PINCP'] = 0\n",
    "\n",
    "      accuracy,test_datapoints, test_prediction = logistic_regression(train_full_df, predictors, target_var, 'income')\n",
    "\n",
    "      ranked_flip.append(row_num)\n",
    "      ranked_acc.append(accuracy)\n",
    "\n",
    "      ##################################################################################\n",
    "      parity = s_parity(test_datapoints, predictors, test_prediction, 'SEX_male', 'income')\n",
    "      ranked_parity.append(parity)\n",
    "\n",
    "      #train_full_df.at[index,'credit_risk'] = 1\n",
    "\n",
    "  elif train_full_df.at[row_num,'PINCP'] == 0:\n",
    "      train_full_df.at[row_num, 'PINCP'] = 1\n",
    "\n",
    "      accuracy,test_datapoints, test_prediction = logistic_regression(train_full_df, predictors, target_var, 'income')\n",
    "\n",
    "      ranked_flip.append(row_num)\n",
    "      ranked_acc.append(accuracy)\n",
    "\n",
    "      ##################################################################################\n",
    "      parity = s_parity(test_datapoints, predictors, test_prediction, 'SEX_male', 'income')\n",
    "      ranked_parity.append(parity)\n",
    "\n",
    "      #train_full_df.at[index,'credit_risk'] = 2\n",
    "\n",
    "\n"
   ]
  },
  {
   "cell_type": "code",
   "execution_count": 77,
   "metadata": {},
   "outputs": [],
   "source": [
    "#Takes the first 150 parity values and their indices and will graph those\n",
    "top_ranked_parity = ranked_parity[:]\n",
    "top_ranked_index = ranked_flip[:]"
   ]
  },
  {
   "cell_type": "code",
   "execution_count": 78,
   "metadata": {},
   "outputs": [],
   "source": [
    "#Place the original parity at the beginning of the list\n",
    "top_ranked_parity.insert(0,statistical_parity)"
   ]
  },
  {
   "cell_type": "markdown",
   "metadata": {},
   "source": [
    "<h5>Uncertainty Reduction<h5>"
   ]
  },
  {
   "cell_type": "code",
   "execution_count": 79,
   "metadata": {},
   "outputs": [],
   "source": [
    "#Create new training dataset\n",
    "train_demo_df_entropy = pd.DataFrame(x_train, columns = predictors)\n",
    "train_outcome_df_entropy = pd.DataFrame(y_train, columns = ['PINCP'])\n",
    "train_full_df_entropy = pd.concat([train_demo_df_entropy, train_outcome_df_entropy], axis=1)"
   ]
  },
  {
   "cell_type": "code",
   "execution_count": 80,
   "metadata": {},
   "outputs": [],
   "source": [
    "train_full_df_entropy['PINCP'] = train_full_df_entropy['PINCP'].replace(True, 1)\n",
    "train_full_df_entropy['PINCP'] = train_full_df_entropy['PINCP'].replace(False, 0)"
   ]
  },
  {
   "cell_type": "code",
   "execution_count": 81,
   "metadata": {},
   "outputs": [],
   "source": [
    "# Obtain predicted probabilities on the training data\n",
    "predicted_probabilities = lr.predict_proba(x_train)"
   ]
  },
  {
   "cell_type": "code",
   "execution_count": 82,
   "metadata": {},
   "outputs": [],
   "source": [
    "#Log base two would be: log = math.log(x,2)\n",
    "#Entropy equation would then be: -1*(p1((math.log(p1,2))+p2*(math.log(p2,2)))\n",
    "\n",
    "#In the predicted_probabilities: first value is 1 (which is good), second value is 2(which is bad)\n",
    "\n",
    "#Loop through the predicted_probabilities array and calculate values\n",
    "#One list will contain the index of each row in the table and the other will contain the entropy value of each row\n",
    "\n",
    "index_list = []\n",
    "entropy_list = []\n",
    "\n",
    "for index, value in enumerate(predicted_probabilities):\n",
    "  #Calculate p1 and p2\n",
    "  p1=predicted_probabilities[index,0]\n",
    "  p2=predicted_probabilities[index,1]\n",
    "  #Calculate entropy in 3 steps\n",
    "  entropy_calc1 = p1 * math.log(p1,2)\n",
    "  entropy_calc2 = p2 * math.log(p2,2)\n",
    "  entropy_final = -1 * (entropy_calc1 + entropy_calc2)\n",
    "\n",
    "  #Append the values to their respective lists\n",
    "  index_list.append(index)\n",
    "  entropy_list.append(entropy_final)"
   ]
  },
  {
   "cell_type": "code",
   "execution_count": 83,
   "metadata": {},
   "outputs": [],
   "source": [
    "#Rank the entropy values in decreasing order\n",
    "#Match the index list with them\n",
    "\n",
    "#Combine the two lists using zip\n",
    "combined_list = list(zip(entropy_list, index_list))\n",
    "\n",
    "#Sort the combined lust based on entropy values in descending order\n",
    "sorted_list = sorted(combined_list, key = lambda x: x[0], reverse=True)\n",
    "\n",
    "#Extract the values\n",
    "sorted_ent_list, sorted_index_list = zip(*sorted_list)"
   ]
  },
  {
   "cell_type": "code",
   "execution_count": 86,
   "metadata": {},
   "outputs": [],
   "source": [
    "#Convert each of the tuples into lists\n",
    "ranked_indices_list = list(sorted_index_list)\n",
    "ranked_entropy_list = list(sorted_ent_list)\n",
    "\n",
    "#Top 50% of the points\n",
    "ranked_indices_list = ranked_indices_list[:len(ranked_indices_list)//2]"
   ]
  },
  {
   "cell_type": "code",
   "execution_count": 88,
   "metadata": {},
   "outputs": [],
   "source": [
    "#After ranking and getting the tope 500 points I flip them based on where they are in the list\n",
    "\n",
    "#Different lists to hold each of the values\n",
    "ranked_parity = [statistical_parity]\n",
    "ranked_acc = []\n",
    "ranked_flip = []\n",
    "\n",
    "row_num = 0\n",
    "\n",
    "#Go through the training dataset and flip the points based on their entropy levels\n",
    "for row in range(len(ranked_indices_list)):\n",
    "  row_num = ranked_indices_list[row]\n",
    "\n",
    "  if train_full_df_entropy.at[row_num,'PINCP'] == 1:\n",
    "    train_full_df_entropy.at[row_num,'PINCP'] = 0\n",
    "    accuracy,test_datapoints, test_prediction = logistic_regression(train_full_df_entropy, predictors, target_var, 'income')\n",
    "\n",
    "    ranked_flip.append(row_num)\n",
    "    ranked_acc.append(accuracy)\n",
    "\n",
    "    parity = s_parity(test_datapoints, predictors, test_prediction, 'SEX_male','income')\n",
    "    ranked_parity.append(parity)\n",
    "\n",
    "  elif train_full_df_entropy.at[row_num, 'PINCP'] == 0:\n",
    "    train_full_df_entropy.at[row_num,'PINCP'] = 1\n",
    "    accuracy,test_datapoints, test_prediction = logistic_regression(train_full_df_entropy, predictors, target_var, 'income')\n",
    "\n",
    "    ranked_flip.append(row_num)\n",
    "    ranked_acc.append(accuracy)\n",
    "\n",
    "    parity = s_parity(test_datapoints, predictors, test_prediction, 'SEX_male','income')\n",
    "    ranked_parity.append(parity)\n"
   ]
  },
  {
   "cell_type": "markdown",
   "metadata": {},
   "source": [
    "<h5>Maximum Expected Utility<h5>"
   ]
  },
  {
   "cell_type": "code",
   "execution_count": 89,
   "metadata": {},
   "outputs": [],
   "source": [
    "#Create a fresh training dataset\n",
    "train_demo_df_MEU = pd.DataFrame(x_train, columns = predictors)\n",
    "train_outcome_df_MEU = pd.DataFrame(y_train, columns = ['PINCP'])\n",
    "train_full_df_MEU = pd.concat([train_demo_df_MEU, train_outcome_df_MEU], axis=1)"
   ]
  },
  {
   "cell_type": "code",
   "execution_count": 90,
   "metadata": {},
   "outputs": [],
   "source": [
    "train_full_df_MEU['PINCP'] = train_full_df_MEU['PINCP'].replace(True, 1)\n",
    "train_full_df_MEU['PINCP'] = train_full_df_MEU['PINCP'].replace(False, 0)"
   ]
  },
  {
   "cell_type": "code",
   "execution_count": null,
   "metadata": {},
   "outputs": [],
   "source": [
    "# Obtain predicted probabilities on the training data\n",
    "predicted_probabilities = lr.predict_proba(x_train)"
   ]
  },
  {
   "cell_type": "code",
   "execution_count": 92,
   "metadata": {},
   "outputs": [],
   "source": [
    "#Make a copy of the original training dataframe to make changes on\n",
    "copy_train_full_df = train_full_df_MEU.copy()"
   ]
  },
  {
   "cell_type": "code",
   "execution_count": 93,
   "metadata": {},
   "outputs": [],
   "source": [
    "#Grab the original label of the DP in the copy dataframe and store in lists along with the index\n",
    "label = []\n",
    "row_index = []\n",
    "for index, row in copy_train_full_df.iterrows():\n",
    "  label.append(copy_train_full_df.at[index,'PINCP'])\n",
    "  row_index.append(index)"
   ]
  },
  {
   "cell_type": "code",
   "execution_count": 94,
   "metadata": {},
   "outputs": [],
   "source": [
    "#Calculate the first part of the MEU equation\n",
    "MEU_part1_list = []\n",
    "for index, value in enumerate(label):\n",
    "  if value == 1:\n",
    "    prob1 = predicted_probabilities[index,0]\n",
    "    MEU_part1_calc = prob1 * statistical_parity\n",
    "    MEU_part1_list.append(MEU_part1_calc)\n",
    "  elif value == 2:\n",
    "    prob2 = predicted_probabilities[index,1]\n",
    "    MEU_part1_calc = prob2 * statistical_parity\n",
    "    MEU_part1_list.append(MEU_part1_calc)"
   ]
  },
  {
   "cell_type": "code",
   "execution_count": 95,
   "metadata": {},
   "outputs": [],
   "source": [
    "#Iterate through the copied dataset\n",
    "#Flip each label and calculate the parity\n",
    "\n",
    "#When flipping the label make sure convert the flip before into its original value\n",
    "\n",
    "#Each list holds a different value\n",
    "\n",
    "#list_parity holds each parity value after each flip and recalculation\n",
    "MEU_part2_list_parity = []\n",
    "#list_acc holds the accuracy of each iteration after a flip\n",
    "MEU_part2_list_acc = []\n",
    "#list_flip holds the row number of the flip; starts at 0 and goes through the whole\n",
    "MEU_part2_list_flip = []\n",
    "\n",
    "#Iterating through the training dataset\n",
    "for index, row in copy_train_full_df.iterrows():\n",
    "  #If the row that I am on has the label 1 (credit_risk is the label name) then I will flip it\n",
    "  #And then run the logistic_regression function to get the accuracy, the DF that contains datapoints,\n",
    "  #And the DF that contains the predictions\n",
    "  #The two DF's are then combined in the s_parity function to calculate parity\n",
    "    if row['PINCP'] == 1:\n",
    "      #Flip the label\n",
    "        copy_train_full_df.at[index, 'PINCP'] = 0\n",
    "\n",
    "        #Run the logistic regression function\n",
    "        #train_full_df: training dataset\n",
    "        #predictors: IV's\n",
    "        #target_var: DV's\n",
    "        #'credit_risk12': this is the column that the labels for the test_prediction is in\n",
    "        accuracy,test_datapoints, test_prediction = logistic_regression(copy_train_full_df, predictors, target_var, 'income')\n",
    "\n",
    "        #list_flip: contains the row number that has just been flipped\n",
    "        #list_num: contains the accuracy value just calculated\n",
    "        MEU_part2_list_flip.append(index)\n",
    "        MEU_part2_list_acc.append(accuracy)\n",
    "\n",
    "        ##################################################################################\n",
    "        #After calculating the accuracy parity calculation is next\n",
    "        parity = s_parity(test_datapoints, predictors, test_prediction, 'SEX_male', 'income')\n",
    "        #list_parity: contains the parity value after the flip\n",
    "        MEU_part2_list_parity.append(parity)\n",
    "\n",
    "        #Flips the label back to its original value\n",
    "        copy_train_full_df.at[index,'PINCP'] = 1\n",
    "\n",
    "    #Repeats all the same steps as above but this time if the original label is 2\n",
    "    elif row['PINCP'] == 0:\n",
    "        copy_train_full_df.at[index, 'PINCP'] = 1\n",
    "\n",
    "        accuracy,test_datapoints, test_prediction = logistic_regression(copy_train_full_df, predictors, target_var, 'income')\n",
    "        MEU_part2_list_flip.append(index)\n",
    "        MEU_part2_list_acc.append(accuracy)\n",
    "\n",
    "        ##################################################################################\n",
    "        parity = s_parity(test_datapoints, predictors, test_prediction, 'SEX_male','income')\n",
    "        MEU_part2_list_parity.append(parity)\n",
    "\n",
    "        copy_train_full_df.at[index,'PINCP'] = 0"
   ]
  },
  {
   "cell_type": "code",
   "execution_count": 96,
   "metadata": {},
   "outputs": [],
   "source": [
    "#Second part of the calculation by taking the opposite value\n",
    "MEU_part2_list = []\n",
    "for index, value in enumerate(label):\n",
    "  if value == 1:\n",
    "    prob1 = predicted_probabilities[index,1]\n",
    "    MEU_part2_calc = prob1 * MEU_part2_list_parity[index]\n",
    "    MEU_part2_list.append(MEU_part2_calc)\n",
    "  elif value == 2:\n",
    "    prob2 = predicted_probabilities[index,0]\n",
    "    MEU_part2_calc = prob2 * MEU_part2_list_parity[index]\n",
    "    MEU_part2_list.append(MEU_part2_calc)"
   ]
  },
  {
   "cell_type": "code",
   "execution_count": 97,
   "metadata": {},
   "outputs": [],
   "source": [
    "#Add the two lists together\n",
    "expected_utility_values = []\n",
    "for part1, part2 in zip(MEU_part1_list, MEU_part2_list):\n",
    "    expected_utility_values.append(part1 + part2)"
   ]
  },
  {
   "cell_type": "code",
   "execution_count": 98,
   "metadata": {},
   "outputs": [],
   "source": [
    "#After adding the two lists together I need do the following calculation:\n",
    "#EU - OG Parity = New ranked value to flip on\n",
    "new_ranked_value = []\n",
    "\n",
    "for value in expected_utility_values:\n",
    "  new_ranked_value.append(value - statistical_parity)"
   ]
  },
  {
   "cell_type": "code",
   "execution_count": 99,
   "metadata": {},
   "outputs": [],
   "source": [
    "#Flip the lists so that they are in increasing order\n",
    "#Rank the MEUvalues in Increasing order\n",
    "#Match the index list with them\n",
    "\n",
    "#Combine the two lists using zip\n",
    "combined_list = list(zip(new_ranked_value, row_index))\n",
    "\n",
    "#Sort the combined lust based on EU values in increasing order\n",
    "sorted_list = sorted(combined_list, key = lambda x: abs(x[0]), reverse = True)\n",
    "\n",
    "#Extract the values\n",
    "sorted_eu_list, sorted_index_list = zip(*sorted_list)"
   ]
  },
  {
   "cell_type": "code",
   "execution_count": 100,
   "metadata": {},
   "outputs": [],
   "source": [
    "#Top 50% of the points\n",
    "sorted_index_list = sorted_index_list[:len(sorted_index_list)//2]"
   ]
  },
  {
   "cell_type": "code",
   "execution_count": 101,
   "metadata": {},
   "outputs": [],
   "source": [
    "#After ranking and getting the tope 500 points I flip them based on where they are in the list\n",
    "\n",
    "#Different lists to hold each of the values\n",
    "MEU_ranked_parity = [statistical_parity]\n",
    "MEU_ranked_acc = []\n",
    "MEU_ranked_flip = []\n",
    "\n",
    "row_num = 0\n",
    "\n",
    "#Go through the training dataset and flip the points based on their entropy levels\n",
    "for row in range(len(sorted_index_list)):\n",
    "  row_num = sorted_index_list[row]\n",
    "\n",
    "  if train_full_df_MEU.at[row_num,'PINCP'] == 1:\n",
    "    train_full_df_MEU.at[row_num,'PINCP'] = 0\n",
    "    accuracy,test_datapoints, test_prediction = logistic_regression(train_full_df_MEU, predictors, target_var, 'income')\n",
    "\n",
    "    MEU_ranked_flip.append(row_num)\n",
    "    MEU_ranked_acc.append(accuracy)\n",
    "\n",
    "    parity = s_parity(test_datapoints, predictors, test_prediction, 'SEX_male', 'income')\n",
    "    MEU_ranked_parity.append(parity)\n",
    "\n",
    "  elif train_full_df_MEU.at[row_num, 'PINCP'] == 0:\n",
    "    train_full_df_MEU.at[row_num,'PINCP'] = 1\n",
    "    accuracy,test_datapoints, test_prediction = logistic_regression(train_full_df_MEU, predictors, target_var, 'income')\n",
    "\n",
    "    MEU_ranked_flip.append(row_num)\n",
    "    MEU_ranked_acc.append(accuracy)\n",
    "\n",
    "    parity = s_parity(test_datapoints, predictors, test_prediction, 'SEX_male', 'income')\n",
    "    MEU_ranked_parity.append(parity)\n",
    "\n",
    "\n"
   ]
  },
  {
   "cell_type": "code",
   "execution_count": 102,
   "metadata": {},
   "outputs": [],
   "source": [
    "#Convert each of the tuples into lists\n",
    "ranked_indices_list = list(sorted_index_list)\n",
    "ranked_eu_list = list(MEU_ranked_parity)\n",
    "\n",
    "#Get the top 500 points in the list\n",
    "top_index_points = ranked_indices_list[:]\n",
    "top_eu_list = ranked_eu_list[:]"
   ]
  },
  {
   "cell_type": "markdown",
   "metadata": {},
   "source": [
    "<h5>Random Flipping<h5>`"
   ]
  },
  {
   "cell_type": "code",
   "execution_count": 103,
   "metadata": {},
   "outputs": [],
   "source": [
    "#Create a new dataframe with the original data for the random flipping\n",
    "train_demo_df_random = pd.DataFrame(x_train, columns = predictors)\n",
    "train_outcome_df_random = pd.DataFrame(y_train, columns = ['PINCP'])\n",
    "train_full_df_random = pd.concat([train_demo_df_random, train_outcome_df_random], axis=1)"
   ]
  },
  {
   "cell_type": "code",
   "execution_count": 104,
   "metadata": {},
   "outputs": [],
   "source": [
    "train_full_df_random['PINCP'] = train_full_df_random['PINCP'].replace(True, 1)\n",
    "train_full_df_random['PINCP'] = train_full_df_random['PINCP'].replace(False, 0)"
   ]
  },
  {
   "cell_type": "code",
   "execution_count": 105,
   "metadata": {},
   "outputs": [],
   "source": [
    "#Randomized flipping\n",
    "#Budget of 50\n",
    "import random\n",
    "\n",
    "random_list_flip = []\n",
    "random_list_acc = []\n",
    "random_list_parity = []\n",
    "\n",
    "col_name = 'PINCP'\n",
    "budget = len(train_full_df_random)//2\n",
    "\n",
    "#Loops through the budget and will randomly change rows in the dataframe based on the random library\n",
    "#After changing the row it will calculate the accuracy and parity and then change the value back to its original value\n",
    "#Follows the same flipping and calculations as before but this time it is with random rows rather than systematic flipping\n",
    "for iter in range(budget):\n",
    "    random_row = random.choice(train_full_df_random.index)\n",
    "    if train_full_df_random.at[random_row,col_name] == 1:\n",
    "        train_full_df_random.at[random_row,col_name] = 0\n",
    "\n",
    "        accuracy, test_datapoints, test_prediction = logistic_regression(train_full_df_random, predictors, target_var,'income')\n",
    "\n",
    "        random_list_flip.append(iter)\n",
    "        random_list_acc.append(accuracy)\n",
    "\n",
    "        ##################################################################################\n",
    "        parity = s_parity(test_datapoints, predictors, test_prediction, 'SEX_male','income')\n",
    "        random_list_parity.append(parity)\n",
    "\n",
    "        #train_full_df.at[random_row,col_name] = 1\n",
    "\n",
    "    elif train_full_df_random.at[random_row,col_name] == 0:\n",
    "        train_full_df_random.at[random_row,col_name] = 1\n",
    "\n",
    "        accuracy, test_datapoints, test_prediction = logistic_regression(train_full_df_random, predictors, target_var,'income')\n",
    "        random_list_flip.append(iter)\n",
    "        random_list_acc.append(accuracy)\n",
    "\n",
    "        ##################################################################################\n",
    "        parity = s_parity(test_datapoints, predictors, test_prediction, 'SEX_male', 'income')\n",
    "        random_list_parity.append(parity)\n",
    "\n",
    "        #train_full_df.at[random_row,col_name] = 2\n",
    "\n",
    "\n"
   ]
  },
  {
   "cell_type": "code",
   "execution_count": null,
   "metadata": {},
   "outputs": [],
   "source": [
    "#Getting the top 150 accuracy values\n",
    "top_ranked_acc = ranked_acc[:]\n",
    "top_ranked_noABS_index = ranked_flip[:]"
   ]
  },
  {
   "cell_type": "code",
   "execution_count": 106,
   "metadata": {},
   "outputs": [
    {
     "data": {
      "image/png": "[encoded data removed]",
      "text/plain": [
       "<Figure size 640x480 with 1 Axes>"
      ]
     },
     "metadata": {},
     "output_type": "display_data"
    }
   ],
   "source": [
    "#Plotting the random flips dataset and the systematic flips\n",
    "#Systematic flips will have 800\n",
    "#Random will have 150\n",
    "\n",
    "#Plot the first dataset which is the ranked data list with 800 flips\n",
    "#list_parity.sort(reverse=True)\n",
    "x=range(len(list_parity))\n",
    "plt.plot(x,list_parity,label='Ranked List',color='blue')\n",
    "\n",
    "#Plot the second dataset which is the random list of 150 flips\n",
    "x2 = range(len(random_list_parity))\n",
    "plt.plot(x2,random_list_parity,label='Random List',color='red')\n",
    "\n",
    "#Entropy based flips\n",
    "x3 = range(len(ranked_parity))\n",
    "plt.plot(x3,ranked_parity,label='Uncertainty Reduction',color='black')\n",
    "\n",
    "#MEU based flips\n",
    "x4 = range(len(MEU_ranked_parity))\n",
    "plt.plot(x4,MEU_ranked_parity,label='MEU',color='brown')\n",
    "\n",
    "#Add the labels\n",
    "plt.xlabel('Flips')\n",
    "plt.ylabel('Parity')\n",
    "plt.title('Change in parity for the Random and Ranked list')\n",
    "\n",
    "#Add a legend\n",
    "plt.legend()\n",
    "\n",
    "#Show the plot\n",
    "plt.show()"
   ]
  },
  {
   "cell_type": "markdown",
   "metadata": {},
   "source": [
    "<h4>Arkansas<h4>"
   ]
  },
  {
   "cell_type": "code",
   "execution_count": 107,
   "metadata": {},
   "outputs": [],
   "source": [
    "#Before conducting analysis I need to access the data and join it together\n",
    "data_source = ACSDataSource(survey_year='2018', horizon='1-Year', survey='person')\n",
    "data = data_source.get_data(states=['AK'], download=True)\n",
    "features, labels,_= ACSIncome.df_to_pandas(data)\n",
    "arkansas_df = pd.concat([features,labels], axis=1)"
   ]
  },
  {
   "cell_type": "code",
   "execution_count": 108,
   "metadata": {},
   "outputs": [],
   "source": [
    "#Group the SCHL columns into a single values\n",
    "#1: Grade School (No Diploman)\n",
    "#2: High School Diploma/GED\n",
    "#3: Some College (2 Years at Most)\n",
    "#4: Bachelor's Degree\n",
    "#5: Master's Degree\n",
    "#6: Professional Degree\n",
    "#7: Doctorate Or Equivalent\n",
    "ranges = {'GS': (1, 15), 'HSD': (16, 17), 'SC': (18, 20), 'BD': (21,21), 'ME': (22,22), 'PD': (23,23), 'DE': (24,24)}\n",
    "group_dict = {}\n",
    "\n",
    "def assign_group(value):\n",
    "  \"\"\"Assigns a group label to a value based on the ranges dictionary.\"\"\"\n",
    "  if value not in group_dict:\n",
    "    for group_name, group_range in ranges.items():\n",
    "      if group_range[0] <= value <= group_range[1]:\n",
    "        group_dict[value] = group_name\n",
    "        break\n",
    "  return group_dict.get(value)\n",
    "\n",
    "arkansas_df['SCHL'] = arkansas_df['SCHL'].apply(assign_group)"
   ]
  },
  {
   "cell_type": "code",
   "execution_count": 109,
   "metadata": {},
   "outputs": [],
   "source": [
    "#Assign codes to occupations based on ranges\n",
    "#0010-0440\t11-0000\tManagement Occupations: 170997\n",
    "#0500-0960\t13-0000\tBusiness and Financial Operations Occupations: 91842\n",
    "#1005-1240\t15-0000\tComputer and mathematical occupations: 50817\n",
    "#1305-1560\t17-0000\tArchitecture and Engineering Occupations: 31718\n",
    "#1600-1980\t19-0000\tLife, Physical, and Social Science Occupations: 16529\n",
    "#2001-2970\t21-0000 - 27-0000\tEducation, Legal, Community Service, Arts, and Media Occupations: 193762\n",
    "#3000-3550\t29-0000\tHealthcare Practitioners and Technical Occupations: 100986\n",
    "#3601-4655\t31-0000 - 39-0000\tService Occupations: 283912\n",
    "#4700-5940\t41-0000 - 43-0000\tSales and Office Occupations: 358340\n",
    "#6005-7640\t45-0000 - 49-0000\tNatural Resources, Construction, and Maintenance Occupations: 143613\n",
    "#7700-9760\t51-0000 - 53-0000\tProduction, Transportation, and Material Moving Occupations: 216280\n",
    "#9800-9920                      Military Specific Occupations: 5704\n",
    "\n",
    "ranges = {\n",
    "    'management': (10,440),\n",
    "    'business': (500,960),\n",
    "    'computer': (1005,1240),\n",
    "    'engineering': (1305,1560),\n",
    "    'life': (1600,1980),\n",
    "    'education_arts': (2001,2970),\n",
    "    'healthcare': (3000,3550),\n",
    "    'service': (3601,4655),\n",
    "    'sales': (4700,5940),\n",
    "    'environmental_construction': (6005,7640),\n",
    "    'production_transportation': (7700,9760),\n",
    "    'military': (9800,9920)\n",
    "}\n",
    "group_dict = {}\n",
    "arkansas_df['OCCP'] = arkansas_df['OCCP'].apply(assign_group)"
   ]
  },
  {
   "cell_type": "code",
   "execution_count": 111,
   "metadata": {},
   "outputs": [],
   "source": [
    "#Add family codes \n",
    "#1-7: Family\n",
    "#8-10: inlaws and other family\n",
    "#11-17: Non-Family\n",
    "ranges = {\n",
    "    'family': (0,7),\n",
    "    'inlaws/other': (8,10),\n",
    "    'non-family': (11,17)\n",
    "}\n",
    "group_dict = {}\n",
    "arkansas_df['RELP'] = arkansas_df['RELP'].apply(assign_group)"
   ]
  },
  {
   "cell_type": "code",
   "execution_count": 112,
   "metadata": {},
   "outputs": [],
   "source": [
    "#Code the Class of worker column from numeric to strings\n",
    "arkansas_df['COW'] = arkansas_df['COW'].replace(1, 'private_business')\n",
    "arkansas_df['COW'] = arkansas_df['COW'].replace(2, 'non-profit')\n",
    "arkansas_df['COW'] = arkansas_df['COW'].replace(3, 'local_gov')\n",
    "arkansas_df['COW'] = arkansas_df['COW'].replace(4, 'state_gov')\n",
    "arkansas_df['COW'] = arkansas_df['COW'].replace(5, 'federal_gov')\n",
    "arkansas_df['COW'] = arkansas_df['COW'].replace(6, 'SE_no_business')\n",
    "arkansas_df['COW'] = arkansas_df['COW'].replace(7, 'SE_business')\n",
    "arkansas_df['COW'] = arkansas_df['COW'].replace(8, 'no_pay_work')\n",
    "arkansas_df['COW'] = arkansas_df['COW'].replace(9, 'unemployed')\n"
   ]
  },
  {
   "cell_type": "code",
   "execution_count": 113,
   "metadata": {},
   "outputs": [],
   "source": [
    "#Class the Marital Status from numeric to strings\n",
    "arkansas_df['MAR'] = arkansas_df['MAR'].replace(1, 'married')\n",
    "arkansas_df['MAR'] = arkansas_df['MAR'].replace(2, 'widowed')\n",
    "arkansas_df['MAR'] = arkansas_df['MAR'].replace(3, 'divorced')\n",
    "arkansas_df['MAR'] = arkansas_df['MAR'].replace(4, 'seperated')\n",
    "arkansas_df['MAR'] = arkansas_df['MAR'].replace(5, 'never_married')"
   ]
  },
  {
   "cell_type": "code",
   "execution_count": 114,
   "metadata": {},
   "outputs": [],
   "source": [
    "#Code the sex column from numeric to string\n",
    "arkansas_df['SEX'] = arkansas_df['SEX'].replace(1, 'male')\n",
    "arkansas_df['SEX'] = arkansas_df['SEX'].replace(2, 'female')"
   ]
  },
  {
   "cell_type": "code",
   "execution_count": 115,
   "metadata": {},
   "outputs": [],
   "source": [
    "#Code the race column from numeric to string\n",
    "arkansas_df['RAC1P'] = arkansas_df['RAC1P'].replace(1, 'white')\n",
    "arkansas_df['RAC1P'] = arkansas_df['RAC1P'].replace(2, 'black')\n",
    "arkansas_df['RAC1P'] = arkansas_df['RAC1P'].replace(3, 'american_indian')\n",
    "arkansas_df['RAC1P'] = arkansas_df['RAC1P'].replace(4, 'alaska_native')\n",
    "arkansas_df['RAC1P'] = arkansas_df['RAC1P'].replace(5, 'native_american')\n",
    "arkansas_df['RAC1P'] = arkansas_df['RAC1P'].replace(6, 'asian')\n",
    "arkansas_df['RAC1P'] = arkansas_df['RAC1P'].replace(7, 'native_hawaiian')\n",
    "arkansas_df['RAC1P'] = arkansas_df['RAC1P'].replace(8, 'other')\n",
    "arkansas_df['RAC1P'] = arkansas_df['RAC1P'].replace(9, 'mixed_race')"
   ]
  },
  {
   "cell_type": "code",
   "execution_count": 116,
   "metadata": {},
   "outputs": [],
   "source": [
    "arkansas_df =arkansas_df.drop(columns=['AGEP','RAC1P'])"
   ]
  },
  {
   "cell_type": "code",
   "execution_count": 117,
   "metadata": {},
   "outputs": [],
   "source": [
    "encoded_data = pd.get_dummies(arkansas_df, columns=['RELP','COW','SCHL','MAR','OCCP','POBP','SEX'])"
   ]
  },
  {
   "cell_type": "markdown",
   "metadata": {},
   "source": [
    "<h5>Build the Model and get Parity and Accuracy<h5>"
   ]
  },
  {
   "cell_type": "code",
   "execution_count": 118,
   "metadata": {},
   "outputs": [
    {
     "name": "stdout",
     "output_type": "stream",
     "text": [
      "73.38028169014085\n"
     ]
    }
   ],
   "source": [
    "#Get the columns for the predictors and target variable\n",
    "acs_columns_list = list(encoded_data.columns)\n",
    "\n",
    "predictors = [item for item in acs_columns_list if item != 'PINCP']\n",
    "target_var = 'PINCP'\n",
    "\n",
    "#Setting the columns to each part of the logistic regression\n",
    "#x conatins the IV's\n",
    "#y contains the DV\n",
    "x = encoded_data[predictors].values\n",
    "y = encoded_data[target_var].values\n",
    "\n",
    "x_train, x_test, y_train, y_test = train_test_split(x, y, test_size=0.2, random_state=310)\n",
    "#X-train is all the data points for training\n",
    "#y_train contains the labels for each of the training data points\n",
    "#x_test contains all the testing data points\n",
    "#y_test contains the ground truth for each of the test data points\n",
    "\n",
    "#Run the LR classifier\n",
    "clf = LogisticRegression(class_weight=None, max_iter=100)\n",
    "lr = clf.fit(x_train,y_train)\n",
    "prediction = lr.predict(x_test)\n",
    "prediction_prob = lr.predict_proba(x_train)\n",
    "accuracy = accuracy_score(y_test,prediction)*100\n",
    "print(accuracy)\n"
   ]
  },
  {
   "cell_type": "code",
   "execution_count": 119,
   "metadata": {},
   "outputs": [
    {
     "name": "stdout",
     "output_type": "stream",
     "text": [
      "Statistical Parity: 0.12242\n"
     ]
    }
   ],
   "source": [
    "#Break the test dataframe into different groups\n",
    "#Unprotected group is everyone who is a female or 2\n",
    "#Complement group is everyone who is a male or 1\n",
    "test_demo_df = pd.DataFrame(x_test, columns = predictors)\n",
    "predicted_df = pd.DataFrame(prediction, columns = ['income'])\n",
    "concat_df = pd.concat([test_demo_df,predicted_df], axis=1)\n",
    "\n",
    "#Get the two groups of people totals\n",
    "total_unpriv = (len(concat_df[concat_df['SEX_male']==0]))\n",
    "total_priv = (len(concat_df[concat_df['SEX_male']==1]))\n",
    "\n",
    "#Number of people accepted\n",
    "total_credit_unpriv = len(concat_df[(concat_df['income'] == 1) & (concat_df['SEX_male'] == 0)])\n",
    "total_credit_priv = len(concat_df[(concat_df['income'] == 1) & (concat_df['SEX_male'] == 1)])\n",
    "\n",
    "#Percentage of approved people\n",
    "p_unpriv = total_credit_unpriv/total_unpriv\n",
    "p_priv = total_credit_priv/total_priv\n",
    "\n",
    "statistical_parity = p_priv - p_unpriv\n",
    "print(f'Statistical Parity: {statistical_parity:.5f}')"
   ]
  },
  {
   "cell_type": "code",
   "execution_count": 120,
   "metadata": {},
   "outputs": [],
   "source": [
    "state_parity.append(statistical_parity)\n",
    "state_name.append('AK')"
   ]
  },
  {
   "cell_type": "markdown",
   "metadata": {},
   "source": [
    "<h5>Iterative Flipping<h5>"
   ]
  },
  {
   "cell_type": "code",
   "execution_count": 121,
   "metadata": {},
   "outputs": [],
   "source": [
    "#Need to build a new dataframe for training and testing purposes for iterative flipping \n",
    "#Combine x_train and y_train\n",
    "#I combine these so that when I flip the labels I have one DF that I work with\n",
    "#Rather than 2 numpy.ndarrays\n",
    "train_demo_df = pd.DataFrame(x_train, columns = predictors)\n",
    "train_outcome_df = pd.DataFrame(y_train, columns = ['PINCP'])\n",
    "train_full_df = pd.concat([train_demo_df, train_outcome_df], axis=1)"
   ]
  },
  {
   "cell_type": "code",
   "execution_count": 123,
   "metadata": {},
   "outputs": [],
   "source": [
    "train_full_df['PINCP'] = train_full_df['PINCP'].replace(True, 1)\n",
    "train_full_df['PINCP'] = train_full_df['PINCP'].replace(False, 0)"
   ]
  },
  {
   "cell_type": "code",
   "execution_count": 124,
   "metadata": {},
   "outputs": [],
   "source": [
    "#When flipping the label make sure convert the flip before into its original value\n",
    "\n",
    "#Combine x_train and y_train\n",
    "#Retrain the model after combining them and then flip and calculate\n",
    "#Implement label flipping and recalculate\n",
    "\n",
    "#Each list holds a different value\n",
    "\n",
    "#list_parity holds each parity value after each flip and recalculation\n",
    "list_parity = []\n",
    "#list_acc holds the accuracy of each iteration after a flip\n",
    "list_acc = []\n",
    "#list_flip holds the row number of the flip; starts at 0 and goes through the whole\n",
    "list_flip = []\n",
    "\n",
    "#Iterating through the training dataset\n",
    "for index, row in train_full_df.iterrows():\n",
    "  #If the row that I am on has the label 1 (credit_risk is the label name) then I will flip it\n",
    "  #And then run the logistic_regression function to get the accuracy, the DF that contains datapoints,\n",
    "  #And the DF that contains the predictions\n",
    "  #The two DF's are then combined in the s_parity function to calculate parity\n",
    "    if row['PINCP'] == 1:\n",
    "      #Flip the label\n",
    "        train_full_df.at[index, 'PINCP'] = 0\n",
    "\n",
    "        #Run the logistic regression function\n",
    "        #train_full_df: training dataset\n",
    "        #predictors: IV's\n",
    "        #target_var: DV's\n",
    "        #'credit_risk12': this is the column that the labels for the test_prediction is in\n",
    "        accuracy,test_datapoints, test_prediction = logistic_regression(train_full_df, predictors, target_var, 'income')\n",
    "\n",
    "        #list_flip: contains the row number that has just been flipped\n",
    "        #list_num: contains the accuracy value just calculated\n",
    "        list_flip.append(index)\n",
    "        list_acc.append(accuracy)\n",
    "\n",
    "        ##################################################################################\n",
    "        #After calculating the accuracy parity calculation is next\n",
    "        parity = s_parity(test_datapoints, predictors, test_prediction, 'SEX_male', 'income')\n",
    "        #list_parity: contains the parity value after the flip\n",
    "        #print(parity)\n",
    "        list_parity.append(parity)\n",
    "\n",
    "        #Flips the label back to its original value\n",
    "        train_full_df.at[index,'PINCP'] = 1\n",
    "\n",
    "    #Repeats all the same steps as above but this time if the original label is 2\n",
    "    elif row['PINCP'] == 0:\n",
    "        train_full_df.at[index, 'PINCP'] = 1\n",
    "\n",
    "        accuracy,test_datapoints, test_prediction = logistic_regression(train_full_df, predictors, target_var, 'income')\n",
    "        list_flip.append(index)\n",
    "        list_acc.append(accuracy)\n",
    "\n",
    "        ##################################################################################\n",
    "        parity = s_parity(test_datapoints, predictors, test_prediction, 'SEX_male', 'income')\n",
    "        #print(parity)\n",
    "        list_parity.append(parity)\n",
    "\n",
    "        train_full_df.at[index,'PINCP'] = 0"
   ]
  },
  {
   "cell_type": "code",
   "execution_count": 125,
   "metadata": {},
   "outputs": [],
   "source": [
    "#parity_difference: Contains the difference between flipped and original value\n",
    "parity_difference = []\n",
    "#Contains parity values that fall between .03 and -.03\n",
    "large_influence = []\n",
    "#Contains the row number of each flip\n",
    "li_row = []\n",
    "\n",
    "#Takes each of the parity values after flipping and compares it to the original parity value\n",
    "#Appends the difference to a new list\n",
    "for value in list_parity:\n",
    "    difference = abs(value) - abs(statistical_parity)\n",
    "    parity_difference.append(difference)\n",
    "\n",
    "\n",
    "#Rows are considered to be high influence if they fall in between\n",
    "for index, item in enumerate(parity_difference):\n",
    "  if statistical_parity > 0:\n",
    "    if item <= statistical_parity or item >= -1*(statistical_parity):\n",
    "        large_influence.append(item)\n",
    "        li_row.append(index)\n",
    "  else:\n",
    "    if item >= statistical_parity or item <= -1*(statistical_parity):\n",
    "        large_influence.append(item)\n",
    "        li_row.append(index)"
   ]
  },
  {
   "cell_type": "code",
   "execution_count": 126,
   "metadata": {},
   "outputs": [],
   "source": [
    "# Combine lists into tuples and zip them\n",
    "combined_data = list(zip(large_influence, li_row))\n",
    "\n",
    "# Sort based on statistical parity values in descending order\n",
    "combined_data.sort(key=lambda x: abs(x[0]), reverse=True)\n",
    "\n",
    "# Extract sorted indices list and the sorted values\n",
    "sorted_indices_list = [index for _, index in combined_data]\n",
    "sorted_values = sorted(large_influence, reverse=True)"
   ]
  },
  {
   "cell_type": "code",
   "execution_count": 127,
   "metadata": {},
   "outputs": [],
   "source": [
    "#50% of the information\n",
    "sorted_indices_list = sorted_indices_list[:(len(sorted_indices_list)//2)]"
   ]
  },
  {
   "cell_type": "code",
   "execution_count": 128,
   "metadata": {},
   "outputs": [],
   "source": [
    "#After ranking the values it is time to now go back through the flipping process but flip the top 500 labels based on their ranking\n",
    "#Parity values after each flip\n",
    "ranked_parity = []\n",
    "#Accuracy after every flip\n",
    "ranked_acc = []\n",
    "#Index/row of the flip\n",
    "ranked_flip = []\n",
    "\n",
    "row_num = 0\n",
    "#sorted_indices is a tuple so it's coverted to a list\n",
    "ranked_indices_list = list(sorted_indices_list)\n",
    "\n",
    "#Iterate through the ranked indices and start flipping labels based on their position in the list\n",
    "for row in range(len(ranked_indices_list)):\n",
    "  #row_num: contains the row number with respect to the dataframe\n",
    "  row_num = ranked_indices_list[row]\n",
    "  #If the label at the specific row is 1 it flips it to 2 then calculates the parity and accuracy\n",
    "  #It follows the same steps as the flipping before\n",
    "  if train_full_df.at[row_num,'PINCP'] == 1:\n",
    "      train_full_df.at[row_num, 'PINCP'] = 0\n",
    "\n",
    "      accuracy,test_datapoints, test_prediction = logistic_regression(train_full_df, predictors, target_var, 'income')\n",
    "\n",
    "      ranked_flip.append(row_num)\n",
    "      ranked_acc.append(accuracy)\n",
    "\n",
    "      ##################################################################################\n",
    "      parity = s_parity(test_datapoints, predictors, test_prediction, 'SEX_male', 'income')\n",
    "      ranked_parity.append(parity)\n",
    "\n",
    "      #train_full_df.at[index,'credit_risk'] = 1\n",
    "\n",
    "  elif train_full_df.at[row_num,'PINCP'] == 0:\n",
    "      train_full_df.at[row_num, 'PINCP'] = 1\n",
    "\n",
    "      accuracy,test_datapoints, test_prediction = logistic_regression(train_full_df, predictors, target_var, 'income')\n",
    "\n",
    "      ranked_flip.append(row_num)\n",
    "      ranked_acc.append(accuracy)\n",
    "\n",
    "      ##################################################################################\n",
    "      parity = s_parity(test_datapoints, predictors, test_prediction, 'SEX_male', 'income')\n",
    "      ranked_parity.append(parity)\n",
    "\n",
    "      #train_full_df.at[index,'credit_risk'] = 2\n",
    "\n",
    "\n"
   ]
  },
  {
   "cell_type": "code",
   "execution_count": 129,
   "metadata": {},
   "outputs": [],
   "source": [
    "#Takes the first 150 parity values and their indices and will graph those\n",
    "top_ranked_parity = ranked_parity[:]\n",
    "top_ranked_index = ranked_flip[:]"
   ]
  },
  {
   "cell_type": "code",
   "execution_count": 130,
   "metadata": {},
   "outputs": [],
   "source": [
    "#Place the original parity at the beginning of the list\n",
    "top_ranked_parity.insert(0,statistical_parity)"
   ]
  },
  {
   "cell_type": "markdown",
   "metadata": {},
   "source": [
    "<h5>Uncertainty Reduction<h5>"
   ]
  },
  {
   "cell_type": "code",
   "execution_count": 131,
   "metadata": {},
   "outputs": [],
   "source": [
    "#Create new training dataset\n",
    "train_demo_df_entropy = pd.DataFrame(x_train, columns = predictors)\n",
    "train_outcome_df_entropy = pd.DataFrame(y_train, columns = ['PINCP'])\n",
    "train_full_df_entropy = pd.concat([train_demo_df_entropy, train_outcome_df_entropy], axis=1)"
   ]
  },
  {
   "cell_type": "code",
   "execution_count": 132,
   "metadata": {},
   "outputs": [],
   "source": [
    "train_full_df_entropy['PINCP'] = train_full_df_entropy['PINCP'].replace(True, 1)\n",
    "train_full_df_entropy['PINCP'] = train_full_df_entropy['PINCP'].replace(False, 0)"
   ]
  },
  {
   "cell_type": "code",
   "execution_count": 133,
   "metadata": {},
   "outputs": [],
   "source": [
    "# Obtain predicted probabilities on the training data\n",
    "predicted_probabilities = lr.predict_proba(x_train)"
   ]
  },
  {
   "cell_type": "code",
   "execution_count": 134,
   "metadata": {},
   "outputs": [],
   "source": [
    "#Log base two would be: log = math.log(x,2)\n",
    "#Entropy equation would then be: -1*(p1((math.log(p1,2))+p2*(math.log(p2,2)))\n",
    "\n",
    "#In the predicted_probabilities: first value is 1 (which is good), second value is 2(which is bad)\n",
    "\n",
    "#Loop through the predicted_probabilities array and calculate values\n",
    "#One list will contain the index of each row in the table and the other will contain the entropy value of each row\n",
    "\n",
    "index_list = []\n",
    "entropy_list = []\n",
    "\n",
    "for index, value in enumerate(predicted_probabilities):\n",
    "  #Calculate p1 and p2\n",
    "  p1=predicted_probabilities[index,0]\n",
    "  p2=predicted_probabilities[index,1]\n",
    "  #Calculate entropy in 3 steps\n",
    "  entropy_calc1 = p1 * math.log(p1,2)\n",
    "  entropy_calc2 = p2 * math.log(p2,2)\n",
    "  entropy_final = -1 * (entropy_calc1 + entropy_calc2)\n",
    "\n",
    "  #Append the values to their respective lists\n",
    "  index_list.append(index)\n",
    "  entropy_list.append(entropy_final)"
   ]
  },
  {
   "cell_type": "code",
   "execution_count": 135,
   "metadata": {},
   "outputs": [],
   "source": [
    "#Rank the entropy values in decreasing order\n",
    "#Match the index list with them\n",
    "\n",
    "#Combine the two lists using zip\n",
    "combined_list = list(zip(entropy_list, index_list))\n",
    "\n",
    "#Sort the combined lust based on entropy values in descending order\n",
    "sorted_list = sorted(combined_list, key = lambda x: x[0], reverse=True)\n",
    "\n",
    "#Extract the values\n",
    "sorted_ent_list, sorted_index_list = zip(*sorted_list)"
   ]
  },
  {
   "cell_type": "code",
   "execution_count": 137,
   "metadata": {},
   "outputs": [],
   "source": [
    "#Convert each of the tuples into lists\n",
    "ranked_indices_list = list(sorted_index_list)\n",
    "ranked_entropy_list = list(sorted_ent_list)\n",
    "\n",
    "#Top 50% of the points\n",
    "ranked_indices_list= ranked_indices_list[:(len(ranked_indices_list)//2)]"
   ]
  },
  {
   "cell_type": "code",
   "execution_count": 138,
   "metadata": {},
   "outputs": [],
   "source": [
    "#After ranking and getting the tope 500 points I flip them based on where they are in the list\n",
    "\n",
    "#Different lists to hold each of the values\n",
    "ranked_parity = [statistical_parity]\n",
    "ranked_acc = []\n",
    "ranked_flip = []\n",
    "\n",
    "row_num = 0\n",
    "\n",
    "#Go through the training dataset and flip the points based on their entropy levels\n",
    "for row in range(len(ranked_indices_list)):\n",
    "  row_num = ranked_indices_list[row]\n",
    "\n",
    "  if train_full_df_entropy.at[row_num,'PINCP'] == 1:\n",
    "    train_full_df_entropy.at[row_num,'PINCP'] = 0\n",
    "    accuracy,test_datapoints, test_prediction = logistic_regression(train_full_df_entropy, predictors, target_var, 'income')\n",
    "\n",
    "    ranked_flip.append(row_num)\n",
    "    ranked_acc.append(accuracy)\n",
    "\n",
    "    parity = s_parity(test_datapoints, predictors, test_prediction, 'SEX_male','income')\n",
    "    ranked_parity.append(parity)\n",
    "\n",
    "  elif train_full_df_entropy.at[row_num, 'PINCP'] == 0:\n",
    "    train_full_df_entropy.at[row_num,'PINCP'] = 1\n",
    "    accuracy,test_datapoints, test_prediction = logistic_regression(train_full_df_entropy, predictors, target_var, 'income')\n",
    "\n",
    "    ranked_flip.append(row_num)\n",
    "    ranked_acc.append(accuracy)\n",
    "\n",
    "    parity = s_parity(test_datapoints, predictors, test_prediction, 'SEX_male','income')\n",
    "    ranked_parity.append(parity)\n"
   ]
  },
  {
   "cell_type": "markdown",
   "metadata": {},
   "source": [
    "<h5>Maximum Expected Utility<h5>"
   ]
  },
  {
   "cell_type": "code",
   "execution_count": 139,
   "metadata": {},
   "outputs": [],
   "source": [
    "#Create a fresh training dataset\n",
    "train_demo_df_MEU = pd.DataFrame(x_train, columns = predictors)\n",
    "train_outcome_df_MEU = pd.DataFrame(y_train, columns = ['PINCP'])\n",
    "train_full_df_MEU = pd.concat([train_demo_df_MEU, train_outcome_df_MEU], axis=1)"
   ]
  },
  {
   "cell_type": "code",
   "execution_count": 140,
   "metadata": {},
   "outputs": [],
   "source": [
    "train_full_df_MEU['PINCP'] = train_full_df_MEU['PINCP'].replace(True, 1)\n",
    "train_full_df_MEU['PINCP'] = train_full_df_MEU['PINCP'].replace(False, 0)"
   ]
  },
  {
   "cell_type": "code",
   "execution_count": 141,
   "metadata": {},
   "outputs": [],
   "source": [
    "# Obtain predicted probabilities on the training data\n",
    "predicted_probabilities = lr.predict_proba(x_train)"
   ]
  },
  {
   "cell_type": "code",
   "execution_count": 142,
   "metadata": {},
   "outputs": [],
   "source": [
    "#Make a copy of the original training dataframe to make changes on\n",
    "copy_train_full_df = train_full_df_MEU.copy()"
   ]
  },
  {
   "cell_type": "code",
   "execution_count": 143,
   "metadata": {},
   "outputs": [],
   "source": [
    "#Grab the original label of the DP in the copy dataframe and store in lists along with the index\n",
    "label = []\n",
    "row_index = []\n",
    "for index, row in copy_train_full_df.iterrows():\n",
    "  label.append(copy_train_full_df.at[index,'PINCP'])\n",
    "  row_index.append(index)"
   ]
  },
  {
   "cell_type": "code",
   "execution_count": 144,
   "metadata": {},
   "outputs": [],
   "source": [
    "#Calculate the first part of the MEU equation\n",
    "MEU_part1_list = []\n",
    "for index, value in enumerate(label):\n",
    "  if value == 1:\n",
    "    prob1 = predicted_probabilities[index,0]\n",
    "    MEU_part1_calc = prob1 * statistical_parity\n",
    "    MEU_part1_list.append(MEU_part1_calc)\n",
    "  elif value == 2:\n",
    "    prob2 = predicted_probabilities[index,1]\n",
    "    MEU_part1_calc = prob2 * statistical_parity\n",
    "    MEU_part1_list.append(MEU_part1_calc)"
   ]
  },
  {
   "cell_type": "code",
   "execution_count": 145,
   "metadata": {},
   "outputs": [],
   "source": [
    "#Iterate through the copied dataset\n",
    "#Flip each label and calculate the parity\n",
    "\n",
    "#When flipping the label make sure convert the flip before into its original value\n",
    "\n",
    "#Each list holds a different value\n",
    "\n",
    "#list_parity holds each parity value after each flip and recalculation\n",
    "MEU_part2_list_parity = []\n",
    "#list_acc holds the accuracy of each iteration after a flip\n",
    "MEU_part2_list_acc = []\n",
    "#list_flip holds the row number of the flip; starts at 0 and goes through the whole\n",
    "MEU_part2_list_flip = []\n",
    "\n",
    "#Iterating through the training dataset\n",
    "for index, row in copy_train_full_df.iterrows():\n",
    "  #If the row that I am on has the label 1 (credit_risk is the label name) then I will flip it\n",
    "  #And then run the logistic_regression function to get the accuracy, the DF that contains datapoints,\n",
    "  #And the DF that contains the predictions\n",
    "  #The two DF's are then combined in the s_parity function to calculate parity\n",
    "    if row['PINCP'] == 1:\n",
    "      #Flip the label\n",
    "        copy_train_full_df.at[index, 'PINCP'] = 0\n",
    "\n",
    "        #Run the logistic regression function\n",
    "        #train_full_df: training dataset\n",
    "        #predictors: IV's\n",
    "        #target_var: DV's\n",
    "        #'credit_risk12': this is the column that the labels for the test_prediction is in\n",
    "        accuracy,test_datapoints, test_prediction = logistic_regression(copy_train_full_df, predictors, target_var, 'income')\n",
    "\n",
    "        #list_flip: contains the row number that has just been flipped\n",
    "        #list_num: contains the accuracy value just calculated\n",
    "        MEU_part2_list_flip.append(index)\n",
    "        MEU_part2_list_acc.append(accuracy)\n",
    "\n",
    "        ##################################################################################\n",
    "        #After calculating the accuracy parity calculation is next\n",
    "        parity = s_parity(test_datapoints, predictors, test_prediction, 'SEX_male', 'income')\n",
    "        #list_parity: contains the parity value after the flip\n",
    "        MEU_part2_list_parity.append(parity)\n",
    "\n",
    "        #Flips the label back to its original value\n",
    "        copy_train_full_df.at[index,'PINCP'] = 1\n",
    "\n",
    "    #Repeats all the same steps as above but this time if the original label is 2\n",
    "    elif row['PINCP'] == 0:\n",
    "        copy_train_full_df.at[index, 'PINCP'] = 1\n",
    "\n",
    "        accuracy,test_datapoints, test_prediction = logistic_regression(copy_train_full_df, predictors, target_var, 'income')\n",
    "        MEU_part2_list_flip.append(index)\n",
    "        MEU_part2_list_acc.append(accuracy)\n",
    "\n",
    "        ##################################################################################\n",
    "        parity = s_parity(test_datapoints, predictors, test_prediction, 'SEX_male','income')\n",
    "        MEU_part2_list_parity.append(parity)\n",
    "\n",
    "        copy_train_full_df.at[index,'PINCP'] = 0"
   ]
  },
  {
   "cell_type": "code",
   "execution_count": 146,
   "metadata": {},
   "outputs": [],
   "source": [
    "#Second part of the calculation by taking the opposite value\n",
    "MEU_part2_list = []\n",
    "for index, value in enumerate(label):\n",
    "  if value == 1:\n",
    "    prob1 = predicted_probabilities[index,1]\n",
    "    MEU_part2_calc = prob1 * MEU_part2_list_parity[index]\n",
    "    MEU_part2_list.append(MEU_part2_calc)\n",
    "  elif value == 2:\n",
    "    prob2 = predicted_probabilities[index,0]\n",
    "    MEU_part2_calc = prob2 * MEU_part2_list_parity[index]\n",
    "    MEU_part2_list.append(MEU_part2_calc)"
   ]
  },
  {
   "cell_type": "code",
   "execution_count": 147,
   "metadata": {},
   "outputs": [],
   "source": [
    "#Add the two lists together\n",
    "expected_utility_values = []\n",
    "for part1, part2 in zip(MEU_part1_list, MEU_part2_list):\n",
    "    expected_utility_values.append(part1 + part2)"
   ]
  },
  {
   "cell_type": "code",
   "execution_count": 148,
   "metadata": {},
   "outputs": [],
   "source": [
    "#After adding the two lists together I need do the following calculation:\n",
    "#EU - OG Parity = New ranked value to flip on\n",
    "new_ranked_value = []\n",
    "\n",
    "for value in expected_utility_values:\n",
    "  new_ranked_value.append(value - statistical_parity)"
   ]
  },
  {
   "cell_type": "code",
   "execution_count": 149,
   "metadata": {},
   "outputs": [],
   "source": [
    "#Flip the lists so that they are in increasing order\n",
    "#Rank the MEUvalues in Increasing order\n",
    "#Match the index list with them\n",
    "\n",
    "#Combine the two lists using zip\n",
    "combined_list = list(zip(new_ranked_value, row_index))\n",
    "\n",
    "#Sort the combined lust based on EU values in increasing order\n",
    "sorted_list = sorted(combined_list, key = lambda x: abs(x[0]), reverse = True)\n",
    "\n",
    "#Extract the values\n",
    "sorted_eu_list, sorted_index_list = zip(*sorted_list)"
   ]
  },
  {
   "cell_type": "code",
   "execution_count": 150,
   "metadata": {},
   "outputs": [],
   "source": [
    "#Getting the top points \n",
    "sorted_index_list = sorted_index_list[:(len(sorted_index_list)//2)]"
   ]
  },
  {
   "cell_type": "code",
   "execution_count": 151,
   "metadata": {},
   "outputs": [],
   "source": [
    "#After ranking and getting the tope 500 points I flip them based on where they are in the list\n",
    "\n",
    "#Different lists to hold each of the values\n",
    "MEU_ranked_parity = [statistical_parity]\n",
    "MEU_ranked_acc = []\n",
    "MEU_ranked_flip = []\n",
    "\n",
    "row_num = 0\n",
    "\n",
    "#Go through the training dataset and flip the points based on their entropy levels\n",
    "for row in range(len(sorted_index_list)):\n",
    "  row_num = sorted_index_list[row]\n",
    "\n",
    "  if train_full_df_MEU.at[row_num,'PINCP'] == 1:\n",
    "    train_full_df_MEU.at[row_num,'PINCP'] = 0\n",
    "    accuracy,test_datapoints, test_prediction = logistic_regression(train_full_df_MEU, predictors, target_var, 'income')\n",
    "\n",
    "    MEU_ranked_flip.append(row_num)\n",
    "    MEU_ranked_acc.append(accuracy)\n",
    "\n",
    "    parity = s_parity(test_datapoints, predictors, test_prediction, 'SEX_male', 'income')\n",
    "    MEU_ranked_parity.append(parity)\n",
    "\n",
    "  elif train_full_df_MEU.at[row_num, 'PINCP'] == 0:\n",
    "    train_full_df_MEU.at[row_num,'PINCP'] = 1\n",
    "    accuracy,test_datapoints, test_prediction = logistic_regression(train_full_df_MEU, predictors, target_var, 'income')\n",
    "\n",
    "    MEU_ranked_flip.append(row_num)\n",
    "    MEU_ranked_acc.append(accuracy)\n",
    "\n",
    "    parity = s_parity(test_datapoints, predictors, test_prediction, 'SEX_male', 'income')\n",
    "    MEU_ranked_parity.append(parity)\n",
    "\n",
    "\n"
   ]
  },
  {
   "cell_type": "code",
   "execution_count": 152,
   "metadata": {},
   "outputs": [],
   "source": [
    "#Convert each of the tuples into lists\n",
    "ranked_indices_list = list(sorted_index_list)\n",
    "ranked_eu_list = list(MEU_ranked_parity)\n",
    "\n",
    "#Get the top 500 points in the list\n",
    "top_index_points = ranked_indices_list[:500]\n",
    "top_eu_list = ranked_eu_list[:500]"
   ]
  },
  {
   "cell_type": "markdown",
   "metadata": {},
   "source": [
    "<h5>Random Flipping<h5>`"
   ]
  },
  {
   "cell_type": "code",
   "execution_count": 153,
   "metadata": {},
   "outputs": [],
   "source": [
    "#Create a new dataframe with the original data for the random flipping\n",
    "train_demo_df_random = pd.DataFrame(x_train, columns = predictors)\n",
    "train_outcome_df_random = pd.DataFrame(y_train, columns = ['PINCP'])\n",
    "train_full_df_random = pd.concat([train_demo_df_random, train_outcome_df_random], axis=1)"
   ]
  },
  {
   "cell_type": "code",
   "execution_count": 154,
   "metadata": {},
   "outputs": [],
   "source": [
    "train_full_df_random['PINCP'] = train_full_df_random['PINCP'].replace(True, 1)\n",
    "train_full_df_random['PINCP'] = train_full_df_random['PINCP'].replace(False, 0)"
   ]
  },
  {
   "cell_type": "code",
   "execution_count": 155,
   "metadata": {},
   "outputs": [],
   "source": [
    "#Randomized flipping\n",
    "#Budget of 50\n",
    "import random\n",
    "\n",
    "random_list_flip = []\n",
    "random_list_acc = []\n",
    "random_list_parity = []\n",
    "\n",
    "col_name = 'PINCP'\n",
    "budget = len(train_full_df_random)//2\n",
    "\n",
    "#Loops through the budget and will randomly change rows in the dataframe based on the random library\n",
    "#After changing the row it will calculate the accuracy and parity and then change the value back to its original value\n",
    "#Follows the same flipping and calculations as before but this time it is with random rows rather than systematic flipping\n",
    "for iter in range(budget):\n",
    "    random_row = random.choice(train_full_df_random.index)\n",
    "    if train_full_df_random.at[random_row,col_name] == 1:\n",
    "        train_full_df_random.at[random_row,col_name] = 0\n",
    "\n",
    "        accuracy, test_datapoints, test_prediction = logistic_regression(train_full_df_random, predictors, target_var,'income')\n",
    "\n",
    "        random_list_flip.append(iter)\n",
    "        random_list_acc.append(accuracy)\n",
    "\n",
    "        ##################################################################################\n",
    "        parity = s_parity(test_datapoints, predictors, test_prediction, 'SEX_male','income')\n",
    "        random_list_parity.append(parity)\n",
    "\n",
    "        #train_full_df.at[random_row,col_name] = 1\n",
    "\n",
    "    elif train_full_df_random.at[random_row,col_name] == 0:\n",
    "        train_full_df_random.at[random_row,col_name] = 1\n",
    "\n",
    "        accuracy, test_datapoints, test_prediction = logistic_regression(train_full_df_random, predictors, target_var,'income')\n",
    "        random_list_flip.append(iter)\n",
    "        random_list_acc.append(accuracy)\n",
    "\n",
    "        ##################################################################################\n",
    "        parity = s_parity(test_datapoints, predictors, test_prediction, 'SEX_male', 'income')\n",
    "        random_list_parity.append(parity)\n",
    "\n",
    "        #train_full_df.at[random_row,col_name] = 2\n",
    "\n",
    "\n"
   ]
  },
  {
   "cell_type": "code",
   "execution_count": null,
   "metadata": {},
   "outputs": [],
   "source": [
    "#Getting the top 150 accuracy values\n",
    "top_ranked_acc = ranked_acc[:]\n",
    "top_ranked_noABS_index = ranked_flip[:]"
   ]
  },
  {
   "cell_type": "code",
   "execution_count": 156,
   "metadata": {},
   "outputs": [
    {
     "data": {
      "image/png": "[encoded data removed]",
      "text/plain": [
       "<Figure size 640x480 with 1 Axes>"
      ]
     },
     "metadata": {},
     "output_type": "display_data"
    }
   ],
   "source": [
    "#Plotting the random flips dataset and the systematic flips\n",
    "#Systematic flips will have 800\n",
    "#Random will have 150\n",
    "\n",
    "#Plot the first dataset which is the ranked data list with 800 flips\n",
    "#list_parity.sort(reverse=True)\n",
    "x=range(len(list_parity))\n",
    "plt.plot(x,list_parity,label='Ranked List',color='blue')\n",
    "\n",
    "#Plot the second dataset which is the random list of 150 flips\n",
    "x2 = range(len(random_list_parity))\n",
    "plt.plot(x2,random_list_parity,label='Random List',color='red')\n",
    "\n",
    "#Entropy based flips\n",
    "x3 = range(len(ranked_parity))\n",
    "plt.plot(x3,ranked_parity,label='Uncertainty Reduction',color='black')\n",
    "\n",
    "#MEU based flips\n",
    "x4 = range(len(MEU_ranked_parity))\n",
    "plt.plot(x4,MEU_ranked_parity,label='MEU',color='brown')\n",
    "\n",
    "#Add the labels\n",
    "plt.xlabel('Flips')\n",
    "plt.ylabel('Parity')\n",
    "plt.title('Change in parity for the Random and Ranked list')\n",
    "\n",
    "#Add a legend\n",
    "plt.legend()\n",
    "\n",
    "#Show the plot\n",
    "plt.show()"
   ]
  },
  {
   "cell_type": "markdown",
   "metadata": {},
   "source": [
    "<h5> Vermont <h5>"
   ]
  },
  {
   "cell_type": "code",
   "execution_count": 157,
   "metadata": {},
   "outputs": [],
   "source": [
    "#Before conducting analysis I need to access the data and join it together\n",
    "data_source = ACSDataSource(survey_year='2018', horizon='1-Year', survey='person')\n",
    "data = data_source.get_data(states=['VT'], download=True)\n",
    "features, labels,_= ACSIncome.df_to_pandas(data)\n",
    "vermont_df = pd.concat([features,labels], axis=1)"
   ]
  },
  {
   "cell_type": "code",
   "execution_count": 158,
   "metadata": {},
   "outputs": [],
   "source": [
    "#Group the SCHL columns into a single values\n",
    "#1: Grade School (No Diploman)\n",
    "#2: High School Diploma/GED\n",
    "#3: Some College (2 Years at Most)\n",
    "#4: Bachelor's Degree\n",
    "#5: Master's Degree\n",
    "#6: Professional Degree\n",
    "#7: Doctorate Or Equivalent\n",
    "ranges = {'GS': (1, 15), 'HSD': (16, 17), 'SC': (18, 20), 'BD': (21,21), 'ME': (22,22), 'PD': (23,23), 'DE': (24,24)}\n",
    "group_dict = {}\n",
    "\n",
    "def assign_group(value):\n",
    "  \"\"\"Assigns a group label to a value based on the ranges dictionary.\"\"\"\n",
    "  if value not in group_dict:\n",
    "    for group_name, group_range in ranges.items():\n",
    "      if group_range[0] <= value <= group_range[1]:\n",
    "        group_dict[value] = group_name\n",
    "        break\n",
    "  return group_dict.get(value)\n",
    "\n",
    "vermont_df['SCHL'] = vermont_df['SCHL'].apply(assign_group)"
   ]
  },
  {
   "cell_type": "code",
   "execution_count": 159,
   "metadata": {},
   "outputs": [],
   "source": [
    "#Assign codes to occupations based on ranges\n",
    "#0010-0440\t11-0000\tManagement Occupations: 170997\n",
    "#0500-0960\t13-0000\tBusiness and Financial Operations Occupations: 91842\n",
    "#1005-1240\t15-0000\tComputer and mathematical occupations: 50817\n",
    "#1305-1560\t17-0000\tArchitecture and Engineering Occupations: 31718\n",
    "#1600-1980\t19-0000\tLife, Physical, and Social Science Occupations: 16529\n",
    "#2001-2970\t21-0000 - 27-0000\tEducation, Legal, Community Service, Arts, and Media Occupations: 193762\n",
    "#3000-3550\t29-0000\tHealthcare Practitioners and Technical Occupations: 100986\n",
    "#3601-4655\t31-0000 - 39-0000\tService Occupations: 283912\n",
    "#4700-5940\t41-0000 - 43-0000\tSales and Office Occupations: 358340\n",
    "#6005-7640\t45-0000 - 49-0000\tNatural Resources, Construction, and Maintenance Occupations: 143613\n",
    "#7700-9760\t51-0000 - 53-0000\tProduction, Transportation, and Material Moving Occupations: 216280\n",
    "#9800-9920                      Military Specific Occupations: 5704\n",
    "\n",
    "ranges = {\n",
    "    'management': (10,440),\n",
    "    'business': (500,960),\n",
    "    'computer': (1005,1240),\n",
    "    'engineering': (1305,1560),\n",
    "    'life': (1600,1980),\n",
    "    'education_arts': (2001,2970),\n",
    "    'healthcare': (3000,3550),\n",
    "    'service': (3601,4655),\n",
    "    'sales': (4700,5940),\n",
    "    'environmental_construction': (6005,7640),\n",
    "    'production_transportation': (7700,9760),\n",
    "    'military': (9800,9920)\n",
    "}\n",
    "group_dict = {}\n",
    "vermont_df['OCCP'] = vermont_df['OCCP'].apply(assign_group)"
   ]
  },
  {
   "cell_type": "code",
   "execution_count": null,
   "metadata": {},
   "outputs": [],
   "source": [
    "#Dont group the states because there is no reason\n",
    "#Ask if I should group it but probably wont need to"
   ]
  },
  {
   "cell_type": "code",
   "execution_count": 160,
   "metadata": {},
   "outputs": [],
   "source": [
    "#Add family codes \n",
    "#1-7: Family\n",
    "#8-10: inlaws and other family\n",
    "#11-17: Non-Family\n",
    "ranges = {\n",
    "    'family': (0,7),\n",
    "    'inlaws/other': (8,10),\n",
    "    'non-family': (11,17)\n",
    "}\n",
    "group_dict = {}\n",
    "vermont_df['RELP'] = vermont_df['RELP'].apply(assign_group)"
   ]
  },
  {
   "cell_type": "code",
   "execution_count": 161,
   "metadata": {},
   "outputs": [],
   "source": [
    "#Code the Class of worker column from numeric to strings\n",
    "vermont_df['COW'] = vermont_df['COW'].replace(1, 'private_business')\n",
    "vermont_df['COW'] = vermont_df['COW'].replace(2, 'non-profit')\n",
    "vermont_df['COW'] = vermont_df['COW'].replace(3, 'local_gov')\n",
    "vermont_df['COW'] = vermont_df['COW'].replace(4, 'state_gov')\n",
    "vermont_df['COW'] = vermont_df['COW'].replace(5, 'federal_gov')\n",
    "vermont_df['COW'] = vermont_df['COW'].replace(6, 'SE_no_business')\n",
    "vermont_df['COW'] = vermont_df['COW'].replace(7, 'SE_business')\n",
    "vermont_df['COW'] = vermont_df['COW'].replace(8, 'no_pay_work')\n",
    "vermont_df['COW'] = vermont_df['COW'].replace(9, 'unemployed')\n"
   ]
  },
  {
   "cell_type": "code",
   "execution_count": 162,
   "metadata": {},
   "outputs": [],
   "source": [
    "#Class the Marital Status from numeric to strings\n",
    "vermont_df['MAR'] = vermont_df['MAR'].replace(1, 'married')\n",
    "vermont_df['MAR'] = vermont_df['MAR'].replace(2, 'widowed')\n",
    "vermont_df['MAR'] = vermont_df['MAR'].replace(3, 'divorced')\n",
    "vermont_df['MAR'] = vermont_df['MAR'].replace(4, 'seperated')\n",
    "vermont_df['MAR'] = vermont_df['MAR'].replace(5, 'never_married')"
   ]
  },
  {
   "cell_type": "code",
   "execution_count": 163,
   "metadata": {},
   "outputs": [],
   "source": [
    "#Code the sex column from numeric to string\n",
    "vermont_df['SEX'] = vermont_df['SEX'].replace(1, 'male')\n",
    "vermont_df['SEX'] = vermont_df['SEX'].replace(2, 'female')"
   ]
  },
  {
   "cell_type": "code",
   "execution_count": 164,
   "metadata": {},
   "outputs": [],
   "source": [
    "#Code the race column from numeric to string\n",
    "vermont_df['RAC1P'] = vermont_df['RAC1P'].replace(1, 'white')\n",
    "vermont_df['RAC1P'] = vermont_df['RAC1P'].replace(2, 'black')\n",
    "vermont_df['RAC1P'] = vermont_df['RAC1P'].replace(3, 'american_indian')\n",
    "vermont_df['RAC1P'] = vermont_df['RAC1P'].replace(4, 'alaska_native')\n",
    "vermont_df['RAC1P'] = vermont_df['RAC1P'].replace(5, 'native_american')\n",
    "vermont_df['RAC1P'] = vermont_df['RAC1P'].replace(6, 'asian')\n",
    "vermont_df['RAC1P'] = vermont_df['RAC1P'].replace(7, 'native_hawaiian')\n",
    "vermont_df['RAC1P'] = vermont_df['RAC1P'].replace(8, 'other')\n",
    "vermont_df['RAC1P'] = vermont_df['RAC1P'].replace(9, 'mixed_race')"
   ]
  },
  {
   "cell_type": "code",
   "execution_count": 165,
   "metadata": {},
   "outputs": [],
   "source": [
    "vermont_df =vermont_df.drop(columns=['AGEP','RAC1P'])"
   ]
  },
  {
   "cell_type": "code",
   "execution_count": null,
   "metadata": {},
   "outputs": [],
   "source": [
    "encoded_data = pd.get_dummies(vermont_df, columns=['RELP','COW','SCHL','MAR','OCCP','POBP','SEX'])"
   ]
  },
  {
   "cell_type": "markdown",
   "metadata": {},
   "source": [
    "<h5>Build the Model and get Parity and Accuracy<h5>"
   ]
  },
  {
   "cell_type": "code",
   "execution_count": 167,
   "metadata": {},
   "outputs": [
    {
     "name": "stdout",
     "output_type": "stream",
     "text": [
      "78.51458885941645\n"
     ]
    }
   ],
   "source": [
    "#Get the columns for the predictors and target variable\n",
    "acs_columns_list = list(encoded_data.columns)\n",
    "\n",
    "predictors = [item for item in acs_columns_list if item != 'PINCP']\n",
    "target_var = 'PINCP'\n",
    "\n",
    "#Setting the columns to each part of the logistic regression\n",
    "#x conatins the IV's\n",
    "#y contains the DV\n",
    "x = encoded_data[predictors].values\n",
    "y = encoded_data[target_var].values\n",
    "\n",
    "x_train, x_test, y_train, y_test = train_test_split(x, y, test_size=0.2, random_state=310)\n",
    "#X-train is all the data points for training\n",
    "#y_train contains the labels for each of the training data points\n",
    "#x_test contains all the testing data points\n",
    "#y_test contains the ground truth for each of the test data points\n",
    "\n",
    "#Run the LR classifier\n",
    "clf = LogisticRegression(class_weight=None, max_iter=100)\n",
    "lr = clf.fit(x_train,y_train)\n",
    "prediction = lr.predict(x_test)\n",
    "prediction_prob = lr.predict_proba(x_train)\n",
    "accuracy = accuracy_score(y_test,prediction)*100\n",
    "print(accuracy)\n"
   ]
  },
  {
   "cell_type": "code",
   "execution_count": 168,
   "metadata": {},
   "outputs": [
    {
     "name": "stdout",
     "output_type": "stream",
     "text": [
      "Statistical Parity: 0.09997\n"
     ]
    }
   ],
   "source": [
    "#Break the test dataframe into different groups\n",
    "#Unprotected group is everyone who is a female or 2\n",
    "#Complement group is everyone who is a male or 1\n",
    "test_demo_df = pd.DataFrame(x_test, columns = predictors)\n",
    "predicted_df = pd.DataFrame(prediction, columns = ['income'])\n",
    "concat_df = pd.concat([test_demo_df,predicted_df], axis=1)\n",
    "\n",
    "#Get the two groups of people totals\n",
    "total_unpriv = (len(concat_df[concat_df['SEX_male']==0]))\n",
    "total_priv = (len(concat_df[concat_df['SEX_male']==1]))\n",
    "\n",
    "#Number of people accepted\n",
    "total_credit_unpriv = len(concat_df[(concat_df['income'] == 1) & (concat_df['SEX_male'] == 0)])\n",
    "total_credit_priv = len(concat_df[(concat_df['income'] == 1) & (concat_df['SEX_male'] == 1)])\n",
    "\n",
    "#Percentage of approved people\n",
    "p_unpriv = total_credit_unpriv/total_unpriv\n",
    "p_priv = total_credit_priv/total_priv\n",
    "\n",
    "statistical_parity = p_priv - p_unpriv\n",
    "print(f'Statistical Parity: {statistical_parity:.5f}')"
   ]
  },
  {
   "cell_type": "code",
   "execution_count": 169,
   "metadata": {},
   "outputs": [],
   "source": [
    "state_parity.append(statistical_parity)\n",
    "state_name.append('VT')"
   ]
  },
  {
   "cell_type": "markdown",
   "metadata": {},
   "source": [
    "<h5>Iterative Flipping<h5>"
   ]
  },
  {
   "cell_type": "code",
   "execution_count": 170,
   "metadata": {},
   "outputs": [],
   "source": [
    "#Need to build a new dataframe for training and testing purposes for iterative flipping \n",
    "#Combine x_train and y_train\n",
    "#I combine these so that when I flip the labels I have one DF that I work with\n",
    "#Rather than 2 numpy.ndarrays\n",
    "train_demo_df = pd.DataFrame(x_train, columns = predictors)\n",
    "train_outcome_df = pd.DataFrame(y_train, columns = ['PINCP'])\n",
    "train_full_df = pd.concat([train_demo_df, train_outcome_df], axis=1)"
   ]
  },
  {
   "cell_type": "code",
   "execution_count": 172,
   "metadata": {},
   "outputs": [],
   "source": [
    "train_full_df['PINCP'] = train_full_df['PINCP'].replace(True, 1)\n",
    "train_full_df['PINCP'] = train_full_df['PINCP'].replace(False, 0)"
   ]
  },
  {
   "cell_type": "code",
   "execution_count": 173,
   "metadata": {},
   "outputs": [],
   "source": [
    "#When flipping the label make sure convert the flip before into its original value\n",
    "\n",
    "#Combine x_train and y_train\n",
    "#Retrain the model after combining them and then flip and calculate\n",
    "#Implement label flipping and recalculate\n",
    "\n",
    "#Each list holds a different value\n",
    "\n",
    "#list_parity holds each parity value after each flip and recalculation\n",
    "list_parity = []\n",
    "#list_acc holds the accuracy of each iteration after a flip\n",
    "list_acc = []\n",
    "#list_flip holds the row number of the flip; starts at 0 and goes through the whole\n",
    "list_flip = []\n",
    "\n",
    "#Iterating through the training dataset\n",
    "for index, row in train_full_df.iterrows():\n",
    "  #If the row that I am on has the label 1 (credit_risk is the label name) then I will flip it\n",
    "  #And then run the logistic_regression function to get the accuracy, the DF that contains datapoints,\n",
    "  #And the DF that contains the predictions\n",
    "  #The two DF's are then combined in the s_parity function to calculate parity\n",
    "    if row['PINCP'] == 1:\n",
    "      #Flip the label\n",
    "        train_full_df.at[index, 'PINCP'] = 0\n",
    "\n",
    "        #Run the logistic regression function\n",
    "        #train_full_df: training dataset\n",
    "        #predictors: IV's\n",
    "        #target_var: DV's\n",
    "        #'credit_risk12': this is the column that the labels for the test_prediction is in\n",
    "        accuracy,test_datapoints, test_prediction = logistic_regression(train_full_df, predictors, target_var, 'income')\n",
    "\n",
    "        #list_flip: contains the row number that has just been flipped\n",
    "        #list_num: contains the accuracy value just calculated\n",
    "        list_flip.append(index)\n",
    "        list_acc.append(accuracy)\n",
    "\n",
    "        ##################################################################################\n",
    "        #After calculating the accuracy parity calculation is next\n",
    "        parity = s_parity(test_datapoints, predictors, test_prediction, 'SEX_male', 'income')\n",
    "        #list_parity: contains the parity value after the flip\n",
    "        #print(parity)\n",
    "        list_parity.append(parity)\n",
    "\n",
    "        #Flips the label back to its original value\n",
    "        train_full_df.at[index,'PINCP'] = 1\n",
    "\n",
    "    #Repeats all the same steps as above but this time if the original label is 2\n",
    "    elif row['PINCP'] == 0:\n",
    "        train_full_df.at[index, 'PINCP'] = 1\n",
    "\n",
    "        accuracy,test_datapoints, test_prediction = logistic_regression(train_full_df, predictors, target_var, 'income')\n",
    "        list_flip.append(index)\n",
    "        list_acc.append(accuracy)\n",
    "\n",
    "        ##################################################################################\n",
    "        parity = s_parity(test_datapoints, predictors, test_prediction, 'SEX_male', 'income')\n",
    "        #print(parity)\n",
    "        list_parity.append(parity)\n",
    "\n",
    "        train_full_df.at[index,'PINCP'] = 0"
   ]
  },
  {
   "cell_type": "code",
   "execution_count": 174,
   "metadata": {},
   "outputs": [],
   "source": [
    "#parity_difference: Contains the difference between flipped and original value\n",
    "parity_difference = []\n",
    "#Contains parity values that fall between .03 and -.03\n",
    "large_influence = []\n",
    "#Contains the row number of each flip\n",
    "li_row = []\n",
    "\n",
    "#Takes each of the parity values after flipping and compares it to the original parity value\n",
    "#Appends the difference to a new list\n",
    "for value in list_parity:\n",
    "    difference = abs(value) - abs(statistical_parity)\n",
    "    parity_difference.append(difference)\n",
    "\n",
    "\n",
    "#Rows are considered to be high influence if they fall in between\n",
    "for index, item in enumerate(parity_difference):\n",
    "  if statistical_parity > 0:\n",
    "    if item <= statistical_parity or item >= -1*(statistical_parity):\n",
    "        large_influence.append(item)\n",
    "        li_row.append(index)\n",
    "  else:\n",
    "    if item >= statistical_parity or item <= -1*(statistical_parity):\n",
    "        large_influence.append(item)\n",
    "        li_row.append(index)"
   ]
  },
  {
   "cell_type": "code",
   "execution_count": 175,
   "metadata": {},
   "outputs": [],
   "source": [
    "# Combine lists into tuples and zip them\n",
    "combined_data = list(zip(large_influence, li_row))\n",
    "\n",
    "# Sort based on statistical parity values in descending order\n",
    "combined_data.sort(key=lambda x: abs(x[0]), reverse=True)\n",
    "\n",
    "# Extract sorted indices list and the sorted values\n",
    "sorted_indices_list = [index for _, index in combined_data]\n",
    "sorted_values = sorted(large_influence, reverse=True)"
   ]
  },
  {
   "cell_type": "code",
   "execution_count": 176,
   "metadata": {},
   "outputs": [],
   "source": [
    "sorted_indices_list = sorted_indices_list[:len(sorted_indices_list)//2]"
   ]
  },
  {
   "cell_type": "code",
   "execution_count": 177,
   "metadata": {},
   "outputs": [],
   "source": [
    "#After ranking the values it is time to now go back through the flipping process but flip the top 500 labels based on their ranking\n",
    "#Parity values after each flip\n",
    "ranked_parity = []\n",
    "#Accuracy after every flip\n",
    "ranked_acc = []\n",
    "#Index/row of the flip\n",
    "ranked_flip = []\n",
    "\n",
    "row_num = 0\n",
    "#sorted_indices is a tuple so it's coverted to a list\n",
    "ranked_indices_list = list(sorted_indices_list)\n",
    "\n",
    "#Iterate through the ranked indices and start flipping labels based on their position in the list\n",
    "for row in range(len(ranked_indices_list)):\n",
    "  #row_num: contains the row number with respect to the dataframe\n",
    "  row_num = ranked_indices_list[row]\n",
    "  #If the label at the specific row is 1 it flips it to 2 then calculates the parity and accuracy\n",
    "  #It follows the same steps as the flipping before\n",
    "  if train_full_df.at[row_num,'PINCP'] == 1:\n",
    "      train_full_df.at[row_num, 'PINCP'] = 0\n",
    "\n",
    "      accuracy,test_datapoints, test_prediction = logistic_regression(train_full_df, predictors, target_var, 'income')\n",
    "\n",
    "      ranked_flip.append(row_num)\n",
    "      ranked_acc.append(accuracy)\n",
    "\n",
    "      ##################################################################################\n",
    "      parity = s_parity(test_datapoints, predictors, test_prediction, 'SEX_male', 'income')\n",
    "      ranked_parity.append(parity)\n",
    "\n",
    "      #train_full_df.at[index,'credit_risk'] = 1\n",
    "\n",
    "  elif train_full_df.at[row_num,'PINCP'] == 0:\n",
    "      train_full_df.at[row_num, 'PINCP'] = 1\n",
    "\n",
    "      accuracy,test_datapoints, test_prediction = logistic_regression(train_full_df, predictors, target_var, 'income')\n",
    "\n",
    "      ranked_flip.append(row_num)\n",
    "      ranked_acc.append(accuracy)\n",
    "\n",
    "      ##################################################################################\n",
    "      parity = s_parity(test_datapoints, predictors, test_prediction, 'SEX_male', 'income')\n",
    "      ranked_parity.append(parity)\n",
    "\n",
    "      #train_full_df.at[index,'credit_risk'] = 2\n",
    "\n",
    "\n"
   ]
  },
  {
   "cell_type": "code",
   "execution_count": 178,
   "metadata": {},
   "outputs": [],
   "source": [
    "#Takes the first 150 parity values and their indices and will graph those\n",
    "top_ranked_parity = ranked_parity[:]\n",
    "top_ranked_index = ranked_flip[:]"
   ]
  },
  {
   "cell_type": "code",
   "execution_count": 179,
   "metadata": {},
   "outputs": [],
   "source": [
    "#Place the original parity at the beginning of the list\n",
    "top_ranked_parity.insert(0,statistical_parity)"
   ]
  },
  {
   "cell_type": "markdown",
   "metadata": {},
   "source": [
    "<h5>Uncertainty Reduction<h5>"
   ]
  },
  {
   "cell_type": "code",
   "execution_count": 180,
   "metadata": {},
   "outputs": [],
   "source": [
    "#Create new training dataset\n",
    "train_demo_df_entropy = pd.DataFrame(x_train, columns = predictors)\n",
    "train_outcome_df_entropy = pd.DataFrame(y_train, columns = ['PINCP'])\n",
    "train_full_df_entropy = pd.concat([train_demo_df_entropy, train_outcome_df_entropy], axis=1)"
   ]
  },
  {
   "cell_type": "code",
   "execution_count": 181,
   "metadata": {},
   "outputs": [],
   "source": [
    "train_full_df_entropy['PINCP'] = train_full_df_entropy['PINCP'].replace(True, 1)\n",
    "train_full_df_entropy['PINCP'] = train_full_df_entropy['PINCP'].replace(False, 0)"
   ]
  },
  {
   "cell_type": "code",
   "execution_count": 182,
   "metadata": {},
   "outputs": [],
   "source": [
    "# Obtain predicted probabilities on the training data\n",
    "predicted_probabilities = lr.predict_proba(x_train)"
   ]
  },
  {
   "cell_type": "code",
   "execution_count": 183,
   "metadata": {},
   "outputs": [],
   "source": [
    "#Log base two would be: log = math.log(x,2)\n",
    "#Entropy equation would then be: -1*(p1((math.log(p1,2))+p2*(math.log(p2,2)))\n",
    "\n",
    "#In the predicted_probabilities: first value is 1 (which is good), second value is 2(which is bad)\n",
    "\n",
    "#Loop through the predicted_probabilities array and calculate values\n",
    "#One list will contain the index of each row in the table and the other will contain the entropy value of each row\n",
    "\n",
    "index_list = []\n",
    "entropy_list = []\n",
    "\n",
    "for index, value in enumerate(predicted_probabilities):\n",
    "  #Calculate p1 and p2\n",
    "  p1=predicted_probabilities[index,0]\n",
    "  p2=predicted_probabilities[index,1]\n",
    "  #Calculate entropy in 3 steps\n",
    "  entropy_calc1 = p1 * math.log(p1,2)\n",
    "  entropy_calc2 = p2 * math.log(p2,2)\n",
    "  entropy_final = -1 * (entropy_calc1 + entropy_calc2)\n",
    "\n",
    "  #Append the values to their respective lists\n",
    "  index_list.append(index)\n",
    "  entropy_list.append(entropy_final)"
   ]
  },
  {
   "cell_type": "code",
   "execution_count": 184,
   "metadata": {},
   "outputs": [],
   "source": [
    "#Rank the entropy values in decreasing order\n",
    "#Match the index list with them\n",
    "\n",
    "#Combine the two lists using zip\n",
    "combined_list = list(zip(entropy_list, index_list))\n",
    "\n",
    "#Sort the combined lust based on entropy values in descending order\n",
    "sorted_list = sorted(combined_list, key = lambda x: x[0], reverse=True)\n",
    "\n",
    "#Extract the values\n",
    "sorted_ent_list, sorted_index_list = zip(*sorted_list)"
   ]
  },
  {
   "cell_type": "code",
   "execution_count": 185,
   "metadata": {},
   "outputs": [],
   "source": [
    "#Convert each of the tuples into lists\n",
    "ranked_indices_list = list(sorted_index_list)\n",
    "ranked_entropy_list = list(sorted_ent_list)\n",
    "\n",
    "ranked_indices_list= ranked_indices_list[:(len(ranked_indices_list)//2)]"
   ]
  },
  {
   "cell_type": "code",
   "execution_count": 186,
   "metadata": {},
   "outputs": [],
   "source": [
    "#After ranking and getting the tope 500 points I flip them based on where they are in the list\n",
    "\n",
    "#Different lists to hold each of the values\n",
    "ranked_parity = [statistical_parity]\n",
    "ranked_acc = []\n",
    "ranked_flip = []\n",
    "\n",
    "row_num = 0\n",
    "\n",
    "#Go through the training dataset and flip the points based on their entropy levels\n",
    "for row in range(len(ranked_indices_list)):\n",
    "  row_num = ranked_indices_list[row]\n",
    "\n",
    "  if train_full_df_entropy.at[row_num,'PINCP'] == 1:\n",
    "    train_full_df_entropy.at[row_num,'PINCP'] = 0\n",
    "    accuracy,test_datapoints, test_prediction = logistic_regression(train_full_df_entropy, predictors, target_var, 'income')\n",
    "\n",
    "    ranked_flip.append(row_num)\n",
    "    ranked_acc.append(accuracy)\n",
    "\n",
    "    parity = s_parity(test_datapoints, predictors, test_prediction, 'SEX_male','income')\n",
    "    ranked_parity.append(parity)\n",
    "\n",
    "  elif train_full_df_entropy.at[row_num, 'PINCP'] == 0:\n",
    "    train_full_df_entropy.at[row_num,'PINCP'] = 1\n",
    "    accuracy,test_datapoints, test_prediction = logistic_regression(train_full_df_entropy, predictors, target_var, 'income')\n",
    "\n",
    "    ranked_flip.append(row_num)\n",
    "    ranked_acc.append(accuracy)\n",
    "\n",
    "    parity = s_parity(test_datapoints, predictors, test_prediction, 'SEX_male','income')\n",
    "    ranked_parity.append(parity)\n"
   ]
  },
  {
   "cell_type": "markdown",
   "metadata": {},
   "source": [
    "<h5>Maximum Expected Utility<h5>"
   ]
  },
  {
   "cell_type": "code",
   "execution_count": 187,
   "metadata": {},
   "outputs": [],
   "source": [
    "#Create a fresh training dataset\n",
    "train_demo_df_MEU = pd.DataFrame(x_train, columns = predictors)\n",
    "train_outcome_df_MEU = pd.DataFrame(y_train, columns = ['PINCP'])\n",
    "train_full_df_MEU = pd.concat([train_demo_df_MEU, train_outcome_df_MEU], axis=1)"
   ]
  },
  {
   "cell_type": "code",
   "execution_count": 188,
   "metadata": {},
   "outputs": [],
   "source": [
    "train_full_df_MEU['PINCP'] = train_full_df_MEU['PINCP'].replace(True, 1)\n",
    "train_full_df_MEU['PINCP'] = train_full_df_MEU['PINCP'].replace(False, 0)"
   ]
  },
  {
   "cell_type": "code",
   "execution_count": 189,
   "metadata": {},
   "outputs": [],
   "source": [
    "# Obtain predicted probabilities on the training data\n",
    "predicted_probabilities = lr.predict_proba(x_train)"
   ]
  },
  {
   "cell_type": "code",
   "execution_count": 190,
   "metadata": {},
   "outputs": [],
   "source": [
    "#Make a copy of the original training dataframe to make changes on\n",
    "copy_train_full_df = train_full_df_MEU.copy()"
   ]
  },
  {
   "cell_type": "code",
   "execution_count": 191,
   "metadata": {},
   "outputs": [],
   "source": [
    "#Grab the original label of the DP in the copy dataframe and store in lists along with the index\n",
    "label = []\n",
    "row_index = []\n",
    "for index, row in copy_train_full_df.iterrows():\n",
    "  label.append(copy_train_full_df.at[index,'PINCP'])\n",
    "  row_index.append(index)"
   ]
  },
  {
   "cell_type": "code",
   "execution_count": 192,
   "metadata": {},
   "outputs": [],
   "source": [
    "#Calculate the first part of the MEU equation\n",
    "MEU_part1_list = []\n",
    "for index, value in enumerate(label):\n",
    "  if value == 1:\n",
    "    prob1 = predicted_probabilities[index,0]\n",
    "    MEU_part1_calc = prob1 * statistical_parity\n",
    "    MEU_part1_list.append(MEU_part1_calc)\n",
    "  elif value == 2:\n",
    "    prob2 = predicted_probabilities[index,1]\n",
    "    MEU_part1_calc = prob2 * statistical_parity\n",
    "    MEU_part1_list.append(MEU_part1_calc)"
   ]
  },
  {
   "cell_type": "code",
   "execution_count": 193,
   "metadata": {},
   "outputs": [],
   "source": [
    "#Iterate through the copied dataset\n",
    "#Flip each label and calculate the parity\n",
    "\n",
    "#When flipping the label make sure convert the flip before into its original value\n",
    "\n",
    "#Each list holds a different value\n",
    "\n",
    "#list_parity holds each parity value after each flip and recalculation\n",
    "MEU_part2_list_parity = []\n",
    "#list_acc holds the accuracy of each iteration after a flip\n",
    "MEU_part2_list_acc = []\n",
    "#list_flip holds the row number of the flip; starts at 0 and goes through the whole\n",
    "MEU_part2_list_flip = []\n",
    "\n",
    "#Iterating through the training dataset\n",
    "for index, row in copy_train_full_df.iterrows():\n",
    "  #If the row that I am on has the label 1 (credit_risk is the label name) then I will flip it\n",
    "  #And then run the logistic_regression function to get the accuracy, the DF that contains datapoints,\n",
    "  #And the DF that contains the predictions\n",
    "  #The two DF's are then combined in the s_parity function to calculate parity\n",
    "    if row['PINCP'] == 1:\n",
    "      #Flip the label\n",
    "        copy_train_full_df.at[index, 'PINCP'] = 0\n",
    "\n",
    "        #Run the logistic regression function\n",
    "        #train_full_df: training dataset\n",
    "        #predictors: IV's\n",
    "        #target_var: DV's\n",
    "        #'credit_risk12': this is the column that the labels for the test_prediction is in\n",
    "        accuracy,test_datapoints, test_prediction = logistic_regression(copy_train_full_df, predictors, target_var, 'income')\n",
    "\n",
    "        #list_flip: contains the row number that has just been flipped\n",
    "        #list_num: contains the accuracy value just calculated\n",
    "        MEU_part2_list_flip.append(index)\n",
    "        MEU_part2_list_acc.append(accuracy)\n",
    "\n",
    "        ##################################################################################\n",
    "        #After calculating the accuracy parity calculation is next\n",
    "        parity = s_parity(test_datapoints, predictors, test_prediction, 'SEX_male', 'income')\n",
    "        #list_parity: contains the parity value after the flip\n",
    "        MEU_part2_list_parity.append(parity)\n",
    "\n",
    "        #Flips the label back to its original value\n",
    "        copy_train_full_df.at[index,'PINCP'] = 1\n",
    "\n",
    "    #Repeats all the same steps as above but this time if the original label is 2\n",
    "    elif row['PINCP'] == 0:\n",
    "        copy_train_full_df.at[index, 'PINCP'] = 1\n",
    "\n",
    "        accuracy,test_datapoints, test_prediction = logistic_regression(copy_train_full_df, predictors, target_var, 'income')\n",
    "        MEU_part2_list_flip.append(index)\n",
    "        MEU_part2_list_acc.append(accuracy)\n",
    "\n",
    "        ##################################################################################\n",
    "        parity = s_parity(test_datapoints, predictors, test_prediction, 'SEX_male','income')\n",
    "        MEU_part2_list_parity.append(parity)\n",
    "\n",
    "        copy_train_full_df.at[index,'PINCP'] = 0"
   ]
  },
  {
   "cell_type": "code",
   "execution_count": 194,
   "metadata": {},
   "outputs": [],
   "source": [
    "#Second part of the calculation by taking the opposite value\n",
    "MEU_part2_list = []\n",
    "for index, value in enumerate(label):\n",
    "  if value == 1:\n",
    "    prob1 = predicted_probabilities[index,1]\n",
    "    MEU_part2_calc = prob1 * MEU_part2_list_parity[index]\n",
    "    MEU_part2_list.append(MEU_part2_calc)\n",
    "  elif value == 2:\n",
    "    prob2 = predicted_probabilities[index,0]\n",
    "    MEU_part2_calc = prob2 * MEU_part2_list_parity[index]\n",
    "    MEU_part2_list.append(MEU_part2_calc)"
   ]
  },
  {
   "cell_type": "code",
   "execution_count": 195,
   "metadata": {},
   "outputs": [],
   "source": [
    "#Add the two lists together\n",
    "expected_utility_values = []\n",
    "for part1, part2 in zip(MEU_part1_list, MEU_part2_list):\n",
    "    expected_utility_values.append(part1 + part2)"
   ]
  },
  {
   "cell_type": "code",
   "execution_count": 196,
   "metadata": {},
   "outputs": [],
   "source": [
    "#After adding the two lists together I need do the following calculation:\n",
    "#EU - OG Parity = New ranked value to flip on\n",
    "new_ranked_value = []\n",
    "\n",
    "for value in expected_utility_values:\n",
    "  new_ranked_value.append(value - statistical_parity)"
   ]
  },
  {
   "cell_type": "code",
   "execution_count": 197,
   "metadata": {},
   "outputs": [],
   "source": [
    "#Flip the lists so that they are in increasing order\n",
    "#Rank the MEUvalues in Increasing order\n",
    "#Match the index list with them\n",
    "\n",
    "#Combine the two lists using zip\n",
    "combined_list = list(zip(new_ranked_value, row_index))\n",
    "\n",
    "#Sort the combined lust based on EU values in increasing order\n",
    "sorted_list = sorted(combined_list, key = lambda x: abs(x[0]), reverse = True)\n",
    "\n",
    "#Extract the values\n",
    "sorted_eu_list, sorted_index_list = zip(*sorted_list)"
   ]
  },
  {
   "cell_type": "code",
   "execution_count": 198,
   "metadata": {},
   "outputs": [],
   "source": [
    "#Getting the top points \n",
    "sorted_index_list = sorted_index_list[:(len(sorted_index_list)//2)]"
   ]
  },
  {
   "cell_type": "code",
   "execution_count": 199,
   "metadata": {},
   "outputs": [],
   "source": [
    "#After ranking and getting the tope 500 points I flip them based on where they are in the list\n",
    "\n",
    "#Different lists to hold each of the values\n",
    "MEU_ranked_parity = [statistical_parity]\n",
    "MEU_ranked_acc = []\n",
    "MEU_ranked_flip = []\n",
    "\n",
    "row_num = 0\n",
    "\n",
    "#Go through the training dataset and flip the points based on their entropy levels\n",
    "for row in range(len(sorted_index_list)):\n",
    "  row_num = sorted_index_list[row]\n",
    "\n",
    "  if train_full_df_MEU.at[row_num,'PINCP'] == 1:\n",
    "    train_full_df_MEU.at[row_num,'PINCP'] = 0\n",
    "    accuracy,test_datapoints, test_prediction = logistic_regression(train_full_df_MEU, predictors, target_var, 'income')\n",
    "\n",
    "    MEU_ranked_flip.append(row_num)\n",
    "    MEU_ranked_acc.append(accuracy)\n",
    "\n",
    "    parity = s_parity(test_datapoints, predictors, test_prediction, 'SEX_male', 'income')\n",
    "    MEU_ranked_parity.append(parity)\n",
    "\n",
    "  elif train_full_df_MEU.at[row_num, 'PINCP'] == 0:\n",
    "    train_full_df_MEU.at[row_num,'PINCP'] = 1\n",
    "    accuracy,test_datapoints, test_prediction = logistic_regression(train_full_df_MEU, predictors, target_var, 'income')\n",
    "\n",
    "    MEU_ranked_flip.append(row_num)\n",
    "    MEU_ranked_acc.append(accuracy)\n",
    "\n",
    "    parity = s_parity(test_datapoints, predictors, test_prediction, 'SEX_male', 'income')\n",
    "    MEU_ranked_parity.append(parity)\n",
    "\n",
    "\n"
   ]
  },
  {
   "cell_type": "code",
   "execution_count": 200,
   "metadata": {},
   "outputs": [],
   "source": [
    "#Convert each of the tuples into lists\n",
    "ranked_indices_list = list(sorted_index_list)\n",
    "ranked_eu_list = list(MEU_ranked_parity)\n",
    "\n",
    "#Get the top 500 points in the list\n",
    "top_index_points = ranked_indices_list[:]\n",
    "top_eu_list = ranked_eu_list[:]"
   ]
  },
  {
   "cell_type": "markdown",
   "metadata": {},
   "source": [
    "<h5>Random Flipping<h5>`"
   ]
  },
  {
   "cell_type": "code",
   "execution_count": 201,
   "metadata": {},
   "outputs": [],
   "source": [
    "#Create a new dataframe with the original data for the random flipping\n",
    "train_demo_df_random = pd.DataFrame(x_train, columns = predictors)\n",
    "train_outcome_df_random = pd.DataFrame(y_train, columns = ['PINCP'])\n",
    "train_full_df_random = pd.concat([train_demo_df_random, train_outcome_df_random], axis=1)"
   ]
  },
  {
   "cell_type": "code",
   "execution_count": 202,
   "metadata": {},
   "outputs": [],
   "source": [
    "train_full_df_random['PINCP'] = train_full_df_random['PINCP'].replace(True, 1)\n",
    "train_full_df_random['PINCP'] = train_full_df_random['PINCP'].replace(False, 0)"
   ]
  },
  {
   "cell_type": "code",
   "execution_count": 203,
   "metadata": {},
   "outputs": [],
   "source": [
    "#Randomized flipping\n",
    "#Budget of 50\n",
    "import random\n",
    "\n",
    "random_list_flip = []\n",
    "random_list_acc = []\n",
    "random_list_parity = []\n",
    "\n",
    "col_name = 'PINCP'\n",
    "budget = len(train_full_df_random)//2\n",
    "\n",
    "#Loops through the budget and will randomly change rows in the dataframe based on the random library\n",
    "#After changing the row it will calculate the accuracy and parity and then change the value back to its original value\n",
    "#Follows the same flipping and calculations as before but this time it is with random rows rather than systematic flipping\n",
    "for iter in range(budget):\n",
    "    random_row = random.choice(train_full_df_random.index)\n",
    "    if train_full_df_random.at[random_row,col_name] == 1:\n",
    "        train_full_df_random.at[random_row,col_name] = 0\n",
    "\n",
    "        accuracy, test_datapoints, test_prediction = logistic_regression(train_full_df_random, predictors, target_var,'income')\n",
    "\n",
    "        random_list_flip.append(iter)\n",
    "        random_list_acc.append(accuracy)\n",
    "\n",
    "        ##################################################################################\n",
    "        parity = s_parity(test_datapoints, predictors, test_prediction, 'SEX_male','income')\n",
    "        random_list_parity.append(parity)\n",
    "\n",
    "        #train_full_df.at[random_row,col_name] = 1\n",
    "\n",
    "    elif train_full_df_random.at[random_row,col_name] == 0:\n",
    "        train_full_df_random.at[random_row,col_name] = 1\n",
    "\n",
    "        accuracy, test_datapoints, test_prediction = logistic_regression(train_full_df_random, predictors, target_var,'income')\n",
    "        random_list_flip.append(iter)\n",
    "        random_list_acc.append(accuracy)\n",
    "\n",
    "        ##################################################################################\n",
    "        parity = s_parity(test_datapoints, predictors, test_prediction, 'SEX_male', 'income')\n",
    "        random_list_parity.append(parity)\n",
    "\n",
    "        #train_full_df.at[random_row,col_name] = 2\n",
    "\n",
    "\n"
   ]
  },
  {
   "cell_type": "code",
   "execution_count": 204,
   "metadata": {},
   "outputs": [],
   "source": [
    "#Getting the top 150 accuracy values\n",
    "top_ranked_acc = ranked_acc[:]\n",
    "top_ranked_noABS_index = ranked_flip[:]"
   ]
  },
  {
   "cell_type": "code",
   "execution_count": 205,
   "metadata": {},
   "outputs": [
    {
     "data": {
      "image/png": "[encoded data removed]",
      "text/plain": [
       "<Figure size 640x480 with 1 Axes>"
      ]
     },
     "metadata": {},
     "output_type": "display_data"
    }
   ],
   "source": [
    "#Plotting the random flips dataset and the systematic flips\n",
    "#Systematic flips will have 800\n",
    "#Random will have 150\n",
    "\n",
    "#Plot the first dataset which is the ranked data list with 800 flips\n",
    "#list_parity.sort(reverse=True)\n",
    "x=range(len(list_parity))\n",
    "plt.plot(x,list_parity,label='Ranked List',color='blue')\n",
    "\n",
    "#Plot the second dataset which is the random list of 150 flips\n",
    "x2 = range(len(random_list_parity))\n",
    "plt.plot(x2,random_list_parity,label='Random List',color='red')\n",
    "\n",
    "#Entropy based flips\n",
    "x3 = range(len(ranked_parity))\n",
    "plt.plot(x3,ranked_parity,label='Uncertainty Reduction',color='black')\n",
    "\n",
    "#MEU based flips\n",
    "x4 = range(len(MEU_ranked_parity))\n",
    "plt.plot(x4,MEU_ranked_parity,label='MEU',color='brown')\n",
    "\n",
    "#Add the labels\n",
    "plt.xlabel('Flips')\n",
    "plt.ylabel('Parity')\n",
    "plt.title('Change in parity for the Random and Ranked list')\n",
    "\n",
    "#Add a legend\n",
    "plt.legend()\n",
    "\n",
    "#Show the plot\n",
    "plt.show()"
   ]
  },
  {
   "cell_type": "markdown",
   "metadata": {},
   "source": [
    "<h5> North Dakota<h5>"
   ]
  },
  {
   "cell_type": "code",
   "execution_count": 206,
   "metadata": {},
   "outputs": [],
   "source": [
    "#Before conducting analysis I need to access the data and join it together\n",
    "data_source = ACSDataSource(survey_year='2018', horizon='1-Year', survey='person')\n",
    "data = data_source.get_data(states=['VT'], download=True)\n",
    "features, labels,_= ACSIncome.df_to_pandas(data)\n",
    "north_dakota_df = pd.concat([features,labels], axis=1)"
   ]
  },
  {
   "cell_type": "code",
   "execution_count": 207,
   "metadata": {},
   "outputs": [],
   "source": [
    "#Group the SCHL columns into a single values\n",
    "#1: Grade School (No Diploman)\n",
    "#2: High School Diploma/GED\n",
    "#3: Some College (2 Years at Most)\n",
    "#4: Bachelor's Degree\n",
    "#5: Master's Degree\n",
    "#6: Professional Degree\n",
    "#7: Doctorate Or Equivalent\n",
    "ranges = {'GS': (1, 15), 'HSD': (16, 17), 'SC': (18, 20), 'BD': (21,21), 'ME': (22,22), 'PD': (23,23), 'DE': (24,24)}\n",
    "group_dict = {}\n",
    "\n",
    "def assign_group(value):\n",
    "  \"\"\"Assigns a group label to a value based on the ranges dictionary.\"\"\"\n",
    "  if value not in group_dict:\n",
    "    for group_name, group_range in ranges.items():\n",
    "      if group_range[0] <= value <= group_range[1]:\n",
    "        group_dict[value] = group_name\n",
    "        break\n",
    "  return group_dict.get(value)\n",
    "\n",
    "north_dakota_df['SCHL'] = north_dakota_df['SCHL'].apply(assign_group)"
   ]
  },
  {
   "cell_type": "code",
   "execution_count": 208,
   "metadata": {},
   "outputs": [],
   "source": [
    "#Assign codes to occupations based on ranges\n",
    "#0010-0440\t11-0000\tManagement Occupations: 170997\n",
    "#0500-0960\t13-0000\tBusiness and Financial Operations Occupations: 91842\n",
    "#1005-1240\t15-0000\tComputer and mathematical occupations: 50817\n",
    "#1305-1560\t17-0000\tArchitecture and Engineering Occupations: 31718\n",
    "#1600-1980\t19-0000\tLife, Physical, and Social Science Occupations: 16529\n",
    "#2001-2970\t21-0000 - 27-0000\tEducation, Legal, Community Service, Arts, and Media Occupations: 193762\n",
    "#3000-3550\t29-0000\tHealthcare Practitioners and Technical Occupations: 100986\n",
    "#3601-4655\t31-0000 - 39-0000\tService Occupations: 283912\n",
    "#4700-5940\t41-0000 - 43-0000\tSales and Office Occupations: 358340\n",
    "#6005-7640\t45-0000 - 49-0000\tNatural Resources, Construction, and Maintenance Occupations: 143613\n",
    "#7700-9760\t51-0000 - 53-0000\tProduction, Transportation, and Material Moving Occupations: 216280\n",
    "#9800-9920                      Military Specific Occupations: 5704\n",
    "\n",
    "ranges = {\n",
    "    'management': (10,440),\n",
    "    'business': (500,960),\n",
    "    'computer': (1005,1240),\n",
    "    'engineering': (1305,1560),\n",
    "    'life': (1600,1980),\n",
    "    'education_arts': (2001,2970),\n",
    "    'healthcare': (3000,3550),\n",
    "    'service': (3601,4655),\n",
    "    'sales': (4700,5940),\n",
    "    'environmental_construction': (6005,7640),\n",
    "    'production_transportation': (7700,9760),\n",
    "    'military': (9800,9920)\n",
    "}\n",
    "group_dict = {}\n",
    "north_dakota_df['OCCP'] = north_dakota_df['OCCP'].apply(assign_group)"
   ]
  },
  {
   "cell_type": "code",
   "execution_count": 209,
   "metadata": {},
   "outputs": [],
   "source": [
    "#Dont group the states because there is no reason\n",
    "#Ask if I should group it but probably wont need to"
   ]
  },
  {
   "cell_type": "code",
   "execution_count": 210,
   "metadata": {},
   "outputs": [],
   "source": [
    "#Add family codes \n",
    "#1-7: Family\n",
    "#8-10: inlaws and other family\n",
    "#11-17: Non-Family\n",
    "ranges = {\n",
    "    'family': (0,7),\n",
    "    'inlaws/other': (8,10),\n",
    "    'non-family': (11,17)\n",
    "}\n",
    "group_dict = {}\n",
    "north_dakota_df['RELP'] = north_dakota_df['RELP'].apply(assign_group)"
   ]
  },
  {
   "cell_type": "code",
   "execution_count": 211,
   "metadata": {},
   "outputs": [],
   "source": [
    "#Code the Class of worker column from numeric to strings\n",
    "north_dakota_df['COW'] = north_dakota_df['COW'].replace(1, 'private_business')\n",
    "north_dakota_df['COW'] = north_dakota_df['COW'].replace(2, 'non-profit')\n",
    "north_dakota_df['COW'] = north_dakota_df['COW'].replace(3, 'local_gov')\n",
    "north_dakota_df['COW'] = north_dakota_df['COW'].replace(4, 'state_gov')\n",
    "north_dakota_df['COW'] = north_dakota_df['COW'].replace(5, 'federal_gov')\n",
    "north_dakota_df['COW'] = north_dakota_df['COW'].replace(6, 'SE_no_business')\n",
    "north_dakota_df['COW'] = north_dakota_df['COW'].replace(7, 'SE_business')\n",
    "north_dakota_df['COW'] = north_dakota_df['COW'].replace(8, 'no_pay_work')\n",
    "north_dakota_df['COW'] = north_dakota_df['COW'].replace(9, 'unemployed')\n"
   ]
  },
  {
   "cell_type": "code",
   "execution_count": 212,
   "metadata": {},
   "outputs": [],
   "source": [
    "#Class the Marital Status from numeric to strings\n",
    "north_dakota_df['MAR'] = north_dakota_df['MAR'].replace(1, 'married')\n",
    "north_dakota_df['MAR'] = north_dakota_df['MAR'].replace(2, 'widowed')\n",
    "north_dakota_df['MAR'] = north_dakota_df['MAR'].replace(3, 'divorced')\n",
    "north_dakota_df['MAR'] = north_dakota_df['MAR'].replace(4, 'seperated')\n",
    "north_dakota_df['MAR'] = north_dakota_df['MAR'].replace(5, 'never_married')"
   ]
  },
  {
   "cell_type": "code",
   "execution_count": 213,
   "metadata": {},
   "outputs": [],
   "source": [
    "#Code the sex column from numeric to string\n",
    "north_dakota_df['SEX'] = north_dakota_df['SEX'].replace(1, 'male')\n",
    "north_dakota_df['SEX'] = north_dakota_df['SEX'].replace(2, 'female')"
   ]
  },
  {
   "cell_type": "code",
   "execution_count": 214,
   "metadata": {},
   "outputs": [],
   "source": [
    "#Code the race column from numeric to string\n",
    "north_dakota_df['RAC1P'] = north_dakota_df['RAC1P'].replace(1, 'white')\n",
    "north_dakota_df['RAC1P'] = north_dakota_df['RAC1P'].replace(2, 'black')\n",
    "north_dakota_df['RAC1P'] = north_dakota_df['RAC1P'].replace(3, 'american_indian')\n",
    "north_dakota_df['RAC1P'] = north_dakota_df['RAC1P'].replace(4, 'alaska_native')\n",
    "north_dakota_df['RAC1P'] = north_dakota_df['RAC1P'].replace(5, 'native_american')\n",
    "north_dakota_df['RAC1P'] = north_dakota_df['RAC1P'].replace(6, 'asian')\n",
    "north_dakota_df['RAC1P'] = north_dakota_df['RAC1P'].replace(7, 'native_hawaiian')\n",
    "north_dakota_df['RAC1P'] = north_dakota_df['RAC1P'].replace(8, 'other')\n",
    "north_dakota_df['RAC1P'] = north_dakota_df['RAC1P'].replace(9, 'mixed_race')"
   ]
  },
  {
   "cell_type": "code",
   "execution_count": 215,
   "metadata": {},
   "outputs": [],
   "source": [
    "north_dakota_df =north_dakota_df.drop(columns=['AGEP','RAC1P'])"
   ]
  },
  {
   "cell_type": "code",
   "execution_count": 216,
   "metadata": {},
   "outputs": [],
   "source": [
    "encoded_data = pd.get_dummies(north_dakota_df, columns=['RELP','COW','SCHL','MAR','OCCP','POBP','SEX'])"
   ]
  },
  {
   "cell_type": "markdown",
   "metadata": {},
   "source": [
    "<h5>Build the Model and get Parity and Accuracy<h5>"
   ]
  },
  {
   "cell_type": "code",
   "execution_count": 217,
   "metadata": {},
   "outputs": [
    {
     "name": "stdout",
     "output_type": "stream",
     "text": [
      "78.51458885941645\n"
     ]
    }
   ],
   "source": [
    "#Get the columns for the predictors and target variable\n",
    "acs_columns_list = list(encoded_data.columns)\n",
    "\n",
    "predictors = [item for item in acs_columns_list if item != 'PINCP']\n",
    "target_var = 'PINCP'\n",
    "\n",
    "#Setting the columns to each part of the logistic regression\n",
    "#x conatins the IV's\n",
    "#y contains the DV\n",
    "x = encoded_data[predictors].values\n",
    "y = encoded_data[target_var].values\n",
    "\n",
    "x_train, x_test, y_train, y_test = train_test_split(x, y, test_size=0.2, random_state=310)\n",
    "#X-train is all the data points for training\n",
    "#y_train contains the labels for each of the training data points\n",
    "#x_test contains all the testing data points\n",
    "#y_test contains the ground truth for each of the test data points\n",
    "\n",
    "#Run the LR classifier\n",
    "clf = LogisticRegression(class_weight=None, max_iter=100)\n",
    "lr = clf.fit(x_train,y_train)\n",
    "prediction = lr.predict(x_test)\n",
    "prediction_prob = lr.predict_proba(x_train)\n",
    "accuracy = accuracy_score(y_test,prediction)*100\n",
    "print(accuracy)\n"
   ]
  },
  {
   "cell_type": "code",
   "execution_count": 218,
   "metadata": {},
   "outputs": [
    {
     "name": "stdout",
     "output_type": "stream",
     "text": [
      "Statistical Parity: 0.09997\n"
     ]
    }
   ],
   "source": [
    "#Break the test dataframe into different groups\n",
    "#Unprotected group is everyone who is a female or 2\n",
    "#Complement group is everyone who is a male or 1\n",
    "test_demo_df = pd.DataFrame(x_test, columns = predictors)\n",
    "predicted_df = pd.DataFrame(prediction, columns = ['income'])\n",
    "concat_df = pd.concat([test_demo_df,predicted_df], axis=1)\n",
    "\n",
    "#Get the two groups of people totals\n",
    "total_unpriv = (len(concat_df[concat_df['SEX_male']==0]))\n",
    "total_priv = (len(concat_df[concat_df['SEX_male']==1]))\n",
    "\n",
    "#Number of people accepted\n",
    "total_credit_unpriv = len(concat_df[(concat_df['income'] == 1) & (concat_df['SEX_male'] == 0)])\n",
    "total_credit_priv = len(concat_df[(concat_df['income'] == 1) & (concat_df['SEX_male'] == 1)])\n",
    "\n",
    "#Percentage of approved people\n",
    "p_unpriv = total_credit_unpriv/total_unpriv\n",
    "p_priv = total_credit_priv/total_priv\n",
    "\n",
    "statistical_parity = p_priv - p_unpriv\n",
    "print(f'Statistical Parity: {statistical_parity:.5f}')"
   ]
  },
  {
   "cell_type": "code",
   "execution_count": 219,
   "metadata": {},
   "outputs": [],
   "source": [
    "state_parity.append(statistical_parity)\n",
    "state_name.append('ND')"
   ]
  },
  {
   "cell_type": "markdown",
   "metadata": {},
   "source": [
    "<h5>Iterative Flipping<h5>"
   ]
  },
  {
   "cell_type": "code",
   "execution_count": 220,
   "metadata": {},
   "outputs": [],
   "source": [
    "#Need to build a new dataframe for training and testing purposes for iterative flipping \n",
    "#Combine x_train and y_train\n",
    "#I combine these so that when I flip the labels I have one DF that I work with\n",
    "#Rather than 2 numpy.ndarrays\n",
    "train_demo_df = pd.DataFrame(x_train, columns = predictors)\n",
    "train_outcome_df = pd.DataFrame(y_train, columns = ['PINCP'])\n",
    "train_full_df = pd.concat([train_demo_df, train_outcome_df], axis=1)"
   ]
  },
  {
   "cell_type": "code",
   "execution_count": 222,
   "metadata": {},
   "outputs": [],
   "source": [
    "train_full_df['PINCP'] = train_full_df['PINCP'].replace(True, 1)\n",
    "train_full_df['PINCP'] = train_full_df['PINCP'].replace(False, 0)"
   ]
  },
  {
   "cell_type": "code",
   "execution_count": 223,
   "metadata": {},
   "outputs": [],
   "source": [
    "#When flipping the label make sure convert the flip before into its original value\n",
    "\n",
    "#Combine x_train and y_train\n",
    "#Retrain the model after combining them and then flip and calculate\n",
    "#Implement label flipping and recalculate\n",
    "\n",
    "#Each list holds a different value\n",
    "\n",
    "#list_parity holds each parity value after each flip and recalculation\n",
    "list_parity = []\n",
    "#list_acc holds the accuracy of each iteration after a flip\n",
    "list_acc = []\n",
    "#list_flip holds the row number of the flip; starts at 0 and goes through the whole\n",
    "list_flip = []\n",
    "\n",
    "#Iterating through the training dataset\n",
    "for index, row in train_full_df.iterrows():\n",
    "  #If the row that I am on has the label 1 (credit_risk is the label name) then I will flip it\n",
    "  #And then run the logistic_regression function to get the accuracy, the DF that contains datapoints,\n",
    "  #And the DF that contains the predictions\n",
    "  #The two DF's are then combined in the s_parity function to calculate parity\n",
    "    if row['PINCP'] == 1:\n",
    "      #Flip the label\n",
    "        train_full_df.at[index, 'PINCP'] = 0\n",
    "\n",
    "        #Run the logistic regression function\n",
    "        #train_full_df: training dataset\n",
    "        #predictors: IV's\n",
    "        #target_var: DV's\n",
    "        #'credit_risk12': this is the column that the labels for the test_prediction is in\n",
    "        accuracy,test_datapoints, test_prediction = logistic_regression(train_full_df, predictors, target_var, 'income')\n",
    "\n",
    "        #list_flip: contains the row number that has just been flipped\n",
    "        #list_num: contains the accuracy value just calculated\n",
    "        list_flip.append(index)\n",
    "        list_acc.append(accuracy)\n",
    "\n",
    "        ##################################################################################\n",
    "        #After calculating the accuracy parity calculation is next\n",
    "        parity = s_parity(test_datapoints, predictors, test_prediction, 'SEX_male', 'income')\n",
    "        #list_parity: contains the parity value after the flip\n",
    "        #print(parity)\n",
    "        list_parity.append(parity)\n",
    "\n",
    "        #Flips the label back to its original value\n",
    "        train_full_df.at[index,'PINCP'] = 1\n",
    "\n",
    "    #Repeats all the same steps as above but this time if the original label is 2\n",
    "    elif row['PINCP'] == 0:\n",
    "        train_full_df.at[index, 'PINCP'] = 1\n",
    "\n",
    "        accuracy,test_datapoints, test_prediction = logistic_regression(train_full_df, predictors, target_var, 'income')\n",
    "        list_flip.append(index)\n",
    "        list_acc.append(accuracy)\n",
    "\n",
    "        ##################################################################################\n",
    "        parity = s_parity(test_datapoints, predictors, test_prediction, 'SEX_male', 'income')\n",
    "        #print(parity)\n",
    "        list_parity.append(parity)\n",
    "\n",
    "        train_full_df.at[index,'PINCP'] = 0"
   ]
  },
  {
   "cell_type": "code",
   "execution_count": 224,
   "metadata": {},
   "outputs": [],
   "source": [
    "#parity_difference: Contains the difference between flipped and original value\n",
    "parity_difference = []\n",
    "#Contains parity values that fall between .03 and -.03\n",
    "large_influence = []\n",
    "#Contains the row number of each flip\n",
    "li_row = []\n",
    "\n",
    "#Takes each of the parity values after flipping and compares it to the original parity value\n",
    "#Appends the difference to a new list\n",
    "for value in list_parity:\n",
    "    difference = abs(value) - abs(statistical_parity)\n",
    "    parity_difference.append(difference)\n",
    "\n",
    "\n",
    "#Rows are considered to be high influence if they fall in between\n",
    "for index, item in enumerate(parity_difference):\n",
    "  if statistical_parity > 0:\n",
    "    if item <= statistical_parity or item >= -1*(statistical_parity):\n",
    "        large_influence.append(item)\n",
    "        li_row.append(index)\n",
    "  else:\n",
    "    if item >= statistical_parity or item <= -1*(statistical_parity):\n",
    "        large_influence.append(item)\n",
    "        li_row.append(index)"
   ]
  },
  {
   "cell_type": "code",
   "execution_count": 225,
   "metadata": {},
   "outputs": [],
   "source": [
    "# Combine lists into tuples and zip them\n",
    "combined_data = list(zip(large_influence, li_row))\n",
    "\n",
    "# Sort based on statistical parity values in descending order\n",
    "combined_data.sort(key=lambda x: abs(x[0]), reverse=True)\n",
    "\n",
    "# Extract sorted indices list and the sorted values\n",
    "sorted_indices_list = [index for _, index in combined_data]\n",
    "sorted_values = sorted(large_influence, reverse=True)"
   ]
  },
  {
   "cell_type": "code",
   "execution_count": 226,
   "metadata": {},
   "outputs": [],
   "source": [
    "sorted_indices_list = sorted_indices_list[:len(sorted_indices_list)//2]"
   ]
  },
  {
   "cell_type": "code",
   "execution_count": 227,
   "metadata": {},
   "outputs": [],
   "source": [
    "#After ranking the values it is time to now go back through the flipping process but flip the top 500 labels based on their ranking\n",
    "#Parity values after each flip\n",
    "ranked_parity = []\n",
    "#Accuracy after every flip\n",
    "ranked_acc = []\n",
    "#Index/row of the flip\n",
    "ranked_flip = []\n",
    "\n",
    "row_num = 0\n",
    "#sorted_indices is a tuple so it's coverted to a list\n",
    "ranked_indices_list = list(sorted_indices_list)\n",
    "\n",
    "#Iterate through the ranked indices and start flipping labels based on their position in the list\n",
    "for row in range(len(ranked_indices_list)):\n",
    "  #row_num: contains the row number with respect to the dataframe\n",
    "  row_num = ranked_indices_list[row]\n",
    "  #If the label at the specific row is 1 it flips it to 2 then calculates the parity and accuracy\n",
    "  #It follows the same steps as the flipping before\n",
    "  if train_full_df.at[row_num,'PINCP'] == 1:\n",
    "      train_full_df.at[row_num, 'PINCP'] = 0\n",
    "\n",
    "      accuracy,test_datapoints, test_prediction = logistic_regression(train_full_df, predictors, target_var, 'income')\n",
    "\n",
    "      ranked_flip.append(row_num)\n",
    "      ranked_acc.append(accuracy)\n",
    "\n",
    "      ##################################################################################\n",
    "      parity = s_parity(test_datapoints, predictors, test_prediction, 'SEX_male', 'income')\n",
    "      ranked_parity.append(parity)\n",
    "\n",
    "      #train_full_df.at[index,'credit_risk'] = 1\n",
    "\n",
    "  elif train_full_df.at[row_num,'PINCP'] == 0:\n",
    "      train_full_df.at[row_num, 'PINCP'] = 1\n",
    "\n",
    "      accuracy,test_datapoints, test_prediction = logistic_regression(train_full_df, predictors, target_var, 'income')\n",
    "\n",
    "      ranked_flip.append(row_num)\n",
    "      ranked_acc.append(accuracy)\n",
    "\n",
    "      ##################################################################################\n",
    "      parity = s_parity(test_datapoints, predictors, test_prediction, 'SEX_male', 'income')\n",
    "      ranked_parity.append(parity)\n",
    "\n",
    "      #train_full_df.at[index,'credit_risk'] = 2\n",
    "\n",
    "\n"
   ]
  },
  {
   "cell_type": "code",
   "execution_count": 228,
   "metadata": {},
   "outputs": [],
   "source": [
    "#Takes the first 150 parity values and their indices and will graph those\n",
    "top_ranked_parity = ranked_parity[:]\n",
    "top_ranked_index = ranked_flip[:]"
   ]
  },
  {
   "cell_type": "code",
   "execution_count": 229,
   "metadata": {},
   "outputs": [],
   "source": [
    "#Place the original parity at the beginning of the list\n",
    "top_ranked_parity.insert(0,statistical_parity)"
   ]
  },
  {
   "cell_type": "markdown",
   "metadata": {},
   "source": [
    "<h5>Uncertainty Reduction<h5>"
   ]
  },
  {
   "cell_type": "code",
   "execution_count": 230,
   "metadata": {},
   "outputs": [],
   "source": [
    "#Create new training dataset\n",
    "train_demo_df_entropy = pd.DataFrame(x_train, columns = predictors)\n",
    "train_outcome_df_entropy = pd.DataFrame(y_train, columns = ['PINCP'])\n",
    "train_full_df_entropy = pd.concat([train_demo_df_entropy, train_outcome_df_entropy], axis=1)"
   ]
  },
  {
   "cell_type": "code",
   "execution_count": 231,
   "metadata": {},
   "outputs": [],
   "source": [
    "train_full_df_entropy['PINCP'] = train_full_df_entropy['PINCP'].replace(True, 1)\n",
    "train_full_df_entropy['PINCP'] = train_full_df_entropy['PINCP'].replace(False, 0)"
   ]
  },
  {
   "cell_type": "code",
   "execution_count": 232,
   "metadata": {},
   "outputs": [],
   "source": [
    "# Obtain predicted probabilities on the training data\n",
    "predicted_probabilities = lr.predict_proba(x_train)"
   ]
  },
  {
   "cell_type": "code",
   "execution_count": 233,
   "metadata": {},
   "outputs": [],
   "source": [
    "#Log base two would be: log = math.log(x,2)\n",
    "#Entropy equation would then be: -1*(p1((math.log(p1,2))+p2*(math.log(p2,2)))\n",
    "\n",
    "#In the predicted_probabilities: first value is 1 (which is good), second value is 2(which is bad)\n",
    "\n",
    "#Loop through the predicted_probabilities array and calculate values\n",
    "#One list will contain the index of each row in the table and the other will contain the entropy value of each row\n",
    "\n",
    "index_list = []\n",
    "entropy_list = []\n",
    "\n",
    "for index, value in enumerate(predicted_probabilities):\n",
    "  #Calculate p1 and p2\n",
    "  p1=predicted_probabilities[index,0]\n",
    "  p2=predicted_probabilities[index,1]\n",
    "  #Calculate entropy in 3 steps\n",
    "  entropy_calc1 = p1 * math.log(p1,2)\n",
    "  entropy_calc2 = p2 * math.log(p2,2)\n",
    "  entropy_final = -1 * (entropy_calc1 + entropy_calc2)\n",
    "\n",
    "  #Append the values to their respective lists\n",
    "  index_list.append(index)\n",
    "  entropy_list.append(entropy_final)"
   ]
  },
  {
   "cell_type": "code",
   "execution_count": 234,
   "metadata": {},
   "outputs": [],
   "source": [
    "#Rank the entropy values in decreasing order\n",
    "#Match the index list with them\n",
    "\n",
    "#Combine the two lists using zip\n",
    "combined_list = list(zip(entropy_list, index_list))\n",
    "\n",
    "#Sort the combined lust based on entropy values in descending order\n",
    "sorted_list = sorted(combined_list, key = lambda x: x[0], reverse=True)\n",
    "\n",
    "#Extract the values\n",
    "sorted_ent_list, sorted_index_list = zip(*sorted_list)"
   ]
  },
  {
   "cell_type": "code",
   "execution_count": 235,
   "metadata": {},
   "outputs": [],
   "source": [
    "#Convert each of the tuples into lists\n",
    "ranked_indices_list = list(sorted_index_list)\n",
    "ranked_entropy_list = list(sorted_ent_list)\n",
    "\n",
    "ranked_indices_list= ranked_indices_list[:(len(ranked_indices_list)//2)]"
   ]
  },
  {
   "cell_type": "code",
   "execution_count": 236,
   "metadata": {},
   "outputs": [],
   "source": [
    "#After ranking and getting the tope 500 points I flip them based on where they are in the list\n",
    "\n",
    "#Different lists to hold each of the values\n",
    "ranked_parity = [statistical_parity]\n",
    "ranked_acc = []\n",
    "ranked_flip = []\n",
    "\n",
    "row_num = 0\n",
    "\n",
    "#Go through the training dataset and flip the points based on their entropy levels\n",
    "for row in range(len(ranked_indices_list)):\n",
    "  row_num = ranked_indices_list[row]\n",
    "\n",
    "  if train_full_df_entropy.at[row_num,'PINCP'] == 1:\n",
    "    train_full_df_entropy.at[row_num,'PINCP'] = 0\n",
    "    accuracy,test_datapoints, test_prediction = logistic_regression(train_full_df_entropy, predictors, target_var, 'income')\n",
    "\n",
    "    ranked_flip.append(row_num)\n",
    "    ranked_acc.append(accuracy)\n",
    "\n",
    "    parity = s_parity(test_datapoints, predictors, test_prediction, 'SEX_male','income')\n",
    "    ranked_parity.append(parity)\n",
    "\n",
    "  elif train_full_df_entropy.at[row_num, 'PINCP'] == 0:\n",
    "    train_full_df_entropy.at[row_num,'PINCP'] = 1\n",
    "    accuracy,test_datapoints, test_prediction = logistic_regression(train_full_df_entropy, predictors, target_var, 'income')\n",
    "\n",
    "    ranked_flip.append(row_num)\n",
    "    ranked_acc.append(accuracy)\n",
    "\n",
    "    parity = s_parity(test_datapoints, predictors, test_prediction, 'SEX_male','income')\n",
    "    ranked_parity.append(parity)\n"
   ]
  },
  {
   "cell_type": "markdown",
   "metadata": {},
   "source": [
    "<h5>Maximum Expected Utility<h5>"
   ]
  },
  {
   "cell_type": "code",
   "execution_count": 237,
   "metadata": {},
   "outputs": [],
   "source": [
    "#Create a fresh training dataset\n",
    "train_demo_df_MEU = pd.DataFrame(x_train, columns = predictors)\n",
    "train_outcome_df_MEU = pd.DataFrame(y_train, columns = ['PINCP'])\n",
    "train_full_df_MEU = pd.concat([train_demo_df_MEU, train_outcome_df_MEU], axis=1)"
   ]
  },
  {
   "cell_type": "code",
   "execution_count": 238,
   "metadata": {},
   "outputs": [],
   "source": [
    "train_full_df_MEU['PINCP'] = train_full_df_MEU['PINCP'].replace(True, 1)\n",
    "train_full_df_MEU['PINCP'] = train_full_df_MEU['PINCP'].replace(False, 0)"
   ]
  },
  {
   "cell_type": "code",
   "execution_count": 239,
   "metadata": {},
   "outputs": [],
   "source": [
    "# Obtain predicted probabilities on the training data\n",
    "predicted_probabilities = lr.predict_proba(x_train)"
   ]
  },
  {
   "cell_type": "code",
   "execution_count": 240,
   "metadata": {},
   "outputs": [],
   "source": [
    "#Make a copy of the original training dataframe to make changes on\n",
    "copy_train_full_df = train_full_df_MEU.copy()"
   ]
  },
  {
   "cell_type": "code",
   "execution_count": 241,
   "metadata": {},
   "outputs": [],
   "source": [
    "#Grab the original label of the DP in the copy dataframe and store in lists along with the index\n",
    "label = []\n",
    "row_index = []\n",
    "for index, row in copy_train_full_df.iterrows():\n",
    "  label.append(copy_train_full_df.at[index,'PINCP'])\n",
    "  row_index.append(index)"
   ]
  },
  {
   "cell_type": "code",
   "execution_count": 242,
   "metadata": {},
   "outputs": [],
   "source": [
    "#Calculate the first part of the MEU equation\n",
    "MEU_part1_list = []\n",
    "for index, value in enumerate(label):\n",
    "  if value == 1:\n",
    "    prob1 = predicted_probabilities[index,0]\n",
    "    MEU_part1_calc = prob1 * statistical_parity\n",
    "    MEU_part1_list.append(MEU_part1_calc)\n",
    "  elif value == 2:\n",
    "    prob2 = predicted_probabilities[index,1]\n",
    "    MEU_part1_calc = prob2 * statistical_parity\n",
    "    MEU_part1_list.append(MEU_part1_calc)"
   ]
  },
  {
   "cell_type": "code",
   "execution_count": 243,
   "metadata": {},
   "outputs": [],
   "source": [
    "#Iterate through the copied dataset\n",
    "#Flip each label and calculate the parity\n",
    "\n",
    "#When flipping the label make sure convert the flip before into its original value\n",
    "\n",
    "#Each list holds a different value\n",
    "\n",
    "#list_parity holds each parity value after each flip and recalculation\n",
    "MEU_part2_list_parity = []\n",
    "#list_acc holds the accuracy of each iteration after a flip\n",
    "MEU_part2_list_acc = []\n",
    "#list_flip holds the row number of the flip; starts at 0 and goes through the whole\n",
    "MEU_part2_list_flip = []\n",
    "\n",
    "#Iterating through the training dataset\n",
    "for index, row in copy_train_full_df.iterrows():\n",
    "  #If the row that I am on has the label 1 (credit_risk is the label name) then I will flip it\n",
    "  #And then run the logistic_regression function to get the accuracy, the DF that contains datapoints,\n",
    "  #And the DF that contains the predictions\n",
    "  #The two DF's are then combined in the s_parity function to calculate parity\n",
    "    if row['PINCP'] == 1:\n",
    "      #Flip the label\n",
    "        copy_train_full_df.at[index, 'PINCP'] = 0\n",
    "\n",
    "        #Run the logistic regression function\n",
    "        #train_full_df: training dataset\n",
    "        #predictors: IV's\n",
    "        #target_var: DV's\n",
    "        #'credit_risk12': this is the column that the labels for the test_prediction is in\n",
    "        accuracy,test_datapoints, test_prediction = logistic_regression(copy_train_full_df, predictors, target_var, 'income')\n",
    "\n",
    "        #list_flip: contains the row number that has just been flipped\n",
    "        #list_num: contains the accuracy value just calculated\n",
    "        MEU_part2_list_flip.append(index)\n",
    "        MEU_part2_list_acc.append(accuracy)\n",
    "\n",
    "        ##################################################################################\n",
    "        #After calculating the accuracy parity calculation is next\n",
    "        parity = s_parity(test_datapoints, predictors, test_prediction, 'SEX_male', 'income')\n",
    "        #list_parity: contains the parity value after the flip\n",
    "        MEU_part2_list_parity.append(parity)\n",
    "\n",
    "        #Flips the label back to its original value\n",
    "        copy_train_full_df.at[index,'PINCP'] = 1\n",
    "\n",
    "    #Repeats all the same steps as above but this time if the original label is 2\n",
    "    elif row['PINCP'] == 0:\n",
    "        copy_train_full_df.at[index, 'PINCP'] = 1\n",
    "\n",
    "        accuracy,test_datapoints, test_prediction = logistic_regression(copy_train_full_df, predictors, target_var, 'income')\n",
    "        MEU_part2_list_flip.append(index)\n",
    "        MEU_part2_list_acc.append(accuracy)\n",
    "\n",
    "        ##################################################################################\n",
    "        parity = s_parity(test_datapoints, predictors, test_prediction, 'SEX_male','income')\n",
    "        MEU_part2_list_parity.append(parity)\n",
    "\n",
    "        copy_train_full_df.at[index,'PINCP'] = 0"
   ]
  },
  {
   "cell_type": "code",
   "execution_count": 244,
   "metadata": {},
   "outputs": [],
   "source": [
    "#Second part of the calculation by taking the opposite value\n",
    "MEU_part2_list = []\n",
    "for index, value in enumerate(label):\n",
    "  if value == 1:\n",
    "    prob1 = predicted_probabilities[index,1]\n",
    "    MEU_part2_calc = prob1 * MEU_part2_list_parity[index]\n",
    "    MEU_part2_list.append(MEU_part2_calc)\n",
    "  elif value == 2:\n",
    "    prob2 = predicted_probabilities[index,0]\n",
    "    MEU_part2_calc = prob2 * MEU_part2_list_parity[index]\n",
    "    MEU_part2_list.append(MEU_part2_calc)"
   ]
  },
  {
   "cell_type": "code",
   "execution_count": 245,
   "metadata": {},
   "outputs": [],
   "source": [
    "#Add the two lists together\n",
    "expected_utility_values = []\n",
    "for part1, part2 in zip(MEU_part1_list, MEU_part2_list):\n",
    "    expected_utility_values.append(part1 + part2)"
   ]
  },
  {
   "cell_type": "code",
   "execution_count": 246,
   "metadata": {},
   "outputs": [],
   "source": [
    "#After adding the two lists together I need do the following calculation:\n",
    "#EU - OG Parity = New ranked value to flip on\n",
    "new_ranked_value = []\n",
    "\n",
    "for value in expected_utility_values:\n",
    "  new_ranked_value.append(value - statistical_parity)"
   ]
  },
  {
   "cell_type": "code",
   "execution_count": 247,
   "metadata": {},
   "outputs": [],
   "source": [
    "#Flip the lists so that they are in increasing order\n",
    "#Rank the MEUvalues in Increasing order\n",
    "#Match the index list with them\n",
    "\n",
    "#Combine the two lists using zip\n",
    "combined_list = list(zip(new_ranked_value, row_index))\n",
    "\n",
    "#Sort the combined lust based on EU values in increasing order\n",
    "sorted_list = sorted(combined_list, key = lambda x: abs(x[0]), reverse = True)\n",
    "\n",
    "#Extract the values\n",
    "sorted_eu_list, sorted_index_list = zip(*sorted_list)"
   ]
  },
  {
   "cell_type": "code",
   "execution_count": 248,
   "metadata": {},
   "outputs": [],
   "source": [
    "#Getting the top points \n",
    "sorted_index_list = sorted_index_list[:(len(sorted_index_list)//2)]"
   ]
  },
  {
   "cell_type": "code",
   "execution_count": 249,
   "metadata": {},
   "outputs": [],
   "source": [
    "#After ranking and getting the tope 500 points I flip them based on where they are in the list\n",
    "\n",
    "#Different lists to hold each of the values\n",
    "MEU_ranked_parity = [statistical_parity]\n",
    "MEU_ranked_acc = []\n",
    "MEU_ranked_flip = []\n",
    "\n",
    "row_num = 0\n",
    "\n",
    "#Go through the training dataset and flip the points based on their entropy levels\n",
    "for row in range(len(sorted_index_list)):\n",
    "  row_num = sorted_index_list[row]\n",
    "\n",
    "  if train_full_df_MEU.at[row_num,'PINCP'] == 1:\n",
    "    train_full_df_MEU.at[row_num,'PINCP'] = 0\n",
    "    accuracy,test_datapoints, test_prediction = logistic_regression(train_full_df_MEU, predictors, target_var, 'income')\n",
    "\n",
    "    MEU_ranked_flip.append(row_num)\n",
    "    MEU_ranked_acc.append(accuracy)\n",
    "\n",
    "    parity = s_parity(test_datapoints, predictors, test_prediction, 'SEX_male', 'income')\n",
    "    MEU_ranked_parity.append(parity)\n",
    "\n",
    "  elif train_full_df_MEU.at[row_num, 'PINCP'] == 0:\n",
    "    train_full_df_MEU.at[row_num,'PINCP'] = 1\n",
    "    accuracy,test_datapoints, test_prediction = logistic_regression(train_full_df_MEU, predictors, target_var, 'income')\n",
    "\n",
    "    MEU_ranked_flip.append(row_num)\n",
    "    MEU_ranked_acc.append(accuracy)\n",
    "\n",
    "    parity = s_parity(test_datapoints, predictors, test_prediction, 'SEX_male', 'income')\n",
    "    MEU_ranked_parity.append(parity)\n",
    "\n",
    "\n"
   ]
  },
  {
   "cell_type": "code",
   "execution_count": 250,
   "metadata": {},
   "outputs": [],
   "source": [
    "#Convert each of the tuples into lists\n",
    "ranked_indices_list = list(sorted_index_list)\n",
    "ranked_eu_list = list(MEU_ranked_parity)\n",
    "\n",
    "#Get the top 500 points in the list\n",
    "top_index_points = ranked_indices_list[:]\n",
    "top_eu_list = ranked_eu_list[:]"
   ]
  },
  {
   "cell_type": "markdown",
   "metadata": {},
   "source": [
    "<h5>Random Flipping<h5>`"
   ]
  },
  {
   "cell_type": "code",
   "execution_count": 251,
   "metadata": {},
   "outputs": [],
   "source": [
    "#Create a new dataframe with the original data for the random flipping\n",
    "train_demo_df_random = pd.DataFrame(x_train, columns = predictors)\n",
    "train_outcome_df_random = pd.DataFrame(y_train, columns = ['PINCP'])\n",
    "train_full_df_random = pd.concat([train_demo_df_random, train_outcome_df_random], axis=1)"
   ]
  },
  {
   "cell_type": "code",
   "execution_count": 252,
   "metadata": {},
   "outputs": [],
   "source": [
    "train_full_df_random['PINCP'] = train_full_df_random['PINCP'].replace(True, 1)\n",
    "train_full_df_random['PINCP'] = train_full_df_random['PINCP'].replace(False, 0)"
   ]
  },
  {
   "cell_type": "code",
   "execution_count": 253,
   "metadata": {},
   "outputs": [],
   "source": [
    "#Randomized flipping\n",
    "#Budget of 50\n",
    "import random\n",
    "\n",
    "random_list_flip = []\n",
    "random_list_acc = []\n",
    "random_list_parity = []\n",
    "\n",
    "col_name = 'PINCP'\n",
    "budget = len(train_full_df_random)//2\n",
    "\n",
    "#Loops through the budget and will randomly change rows in the dataframe based on the random library\n",
    "#After changing the row it will calculate the accuracy and parity and then change the value back to its original value\n",
    "#Follows the same flipping and calculations as before but this time it is with random rows rather than systematic flipping\n",
    "for iter in range(budget):\n",
    "    random_row = random.choice(train_full_df_random.index)\n",
    "    if train_full_df_random.at[random_row,col_name] == 1:\n",
    "        train_full_df_random.at[random_row,col_name] = 0\n",
    "\n",
    "        accuracy, test_datapoints, test_prediction = logistic_regression(train_full_df_random, predictors, target_var,'income')\n",
    "\n",
    "        random_list_flip.append(iter)\n",
    "        random_list_acc.append(accuracy)\n",
    "\n",
    "        ##################################################################################\n",
    "        parity = s_parity(test_datapoints, predictors, test_prediction, 'SEX_male','income')\n",
    "        random_list_parity.append(parity)\n",
    "\n",
    "        #train_full_df.at[random_row,col_name] = 1\n",
    "\n",
    "    elif train_full_df_random.at[random_row,col_name] == 0:\n",
    "        train_full_df_random.at[random_row,col_name] = 1\n",
    "\n",
    "        accuracy, test_datapoints, test_prediction = logistic_regression(train_full_df_random, predictors, target_var,'income')\n",
    "        random_list_flip.append(iter)\n",
    "        random_list_acc.append(accuracy)\n",
    "\n",
    "        ##################################################################################\n",
    "        parity = s_parity(test_datapoints, predictors, test_prediction, 'SEX_male', 'income')\n",
    "        random_list_parity.append(parity)\n",
    "\n",
    "        #train_full_df.at[random_row,col_name] = 2\n",
    "\n",
    "\n"
   ]
  },
  {
   "cell_type": "code",
   "execution_count": 254,
   "metadata": {},
   "outputs": [],
   "source": [
    "#Getting the top 150 accuracy values\n",
    "top_ranked_acc = ranked_acc[:]\n",
    "top_ranked_noABS_index = ranked_flip[:]"
   ]
  },
  {
   "cell_type": "code",
   "execution_count": 255,
   "metadata": {},
   "outputs": [
    {
     "data": {
      "image/png": "[encoded data removed]",
      "text/plain": [
       "<Figure size 640x480 with 1 Axes>"
      ]
     },
     "metadata": {},
     "output_type": "display_data"
    }
   ],
   "source": [
    "#Plotting the random flips dataset and the systematic flips\n",
    "#Systematic flips will have 800\n",
    "#Random will have 150\n",
    "\n",
    "#Plot the first dataset which is the ranked data list with 800 flips\n",
    "#list_parity.sort(reverse=True)\n",
    "x=range(len(list_parity))\n",
    "plt.plot(x,list_parity,label='Ranked List',color='blue')\n",
    "\n",
    "#Plot the second dataset which is the random list of 150 flips\n",
    "x2 = range(len(random_list_parity))\n",
    "plt.plot(x2,random_list_parity,label='Random List',color='red')\n",
    "\n",
    "#Entropy based flips\n",
    "x3 = range(len(ranked_parity))\n",
    "plt.plot(x3,ranked_parity,label='Uncertainty Reduction',color='black')\n",
    "\n",
    "#MEU based flips\n",
    "x4 = range(len(MEU_ranked_parity))\n",
    "plt.plot(x4,MEU_ranked_parity,label='MEU',color='brown')\n",
    "\n",
    "#Add the labels\n",
    "plt.xlabel('Flips')\n",
    "plt.ylabel('Parity')\n",
    "plt.title('Change in parity for the Random and Ranked list')\n",
    "\n",
    "#Add a legend\n",
    "plt.legend()\n",
    "\n",
    "#Show the plot\n",
    "plt.show()"
   ]
  }
 ],
 "metadata": {
  "kernelspec": {
   "display_name": "base",
   "language": "python",
   "name": "python3"
  },
  "language_info": {
   "codemirror_mode": {
    "name": "ipython",
    "version": 3
   },
   "file_extension": ".py",
   "mimetype": "text/x-python",
   "name": "python",
   "nbconvert_exporter": "python",
   "pygments_lexer": "ipython3",
   "version": "3.11.4"
  }
 },
 "nbformat": 4,
 "nbformat_minor": 2
}
