{
 "cells": [
  {
   "cell_type": "markdown",
   "metadata": {},
   "source": [
    "<h3>This Notebook will contain some of the final steps taken with the ACS Income Dataset<h3>\n",
    "<h4>There are a number of steps that I will be taking here to see the solution across multiple samples of ACSincome data<h4>\n",
    "<ul>\n",
    "<li>Take 5 samples of the ACSIncome data: 1k, 5k, 10k, 15k, 20k</li>\n",
    "<li>Flip 20% of the datapoints rather than 50%</li>\n",
    "<li>Represent the changes as percentages rather than individual datapoints</li>\n",
    "<li>This file will also contain all the sensitive attributes in order see them against each other</li>\n",
    "</ul>"
   ]
  },
  {
   "cell_type": "code",
   "execution_count": 1,
   "metadata": {},
   "outputs": [],
   "source": [
    "#Import all of the necessary libraries in\n",
    "import pandas as pd\n",
    "import numpy as np\n",
    "import warnings\n",
    "from sklearn.linear_model import LogisticRegression\n",
    "from sklearn.model_selection import cross_val_score, train_test_split\n",
    "from sklearn import metrics\n",
    "from sklearn import tree\n",
    "from sklearn.metrics import accuracy_score\n",
    "import matplotlib.pyplot as plt\n",
    "from folktables import ACSDataSource, ACSIncome\n",
    "import math\n",
    "warnings.filterwarnings('ignore')"
   ]
  },
  {
   "cell_type": "code",
   "execution_count": null,
   "metadata": {},
   "outputs": [],
   "source": [
    "#This function is being used to calculate the statistical parity of the data set\n",
    "#test_data: The original data frame containing the test data\n",
    "#predictors: List of the all the column names AKA IV's\n",
    "#prediction_df: Contains the predicitons made by the DT model\n",
    "#sensitive_attr: Name of the sensitive attr\n",
    "#sensitive_attr_cutoff: Cut off value for sensitive attr\n",
    "#concat_col: Name of column I am creating new dataframe on\n",
    "\n",
    "def s_parity(test_data, predictors, prediction_df, sensitive_attr, concat_col):\n",
    "    #Creating a new DF that contains all the datapoints from the test data and the predictions made from LR model\n",
    "    #Concat_col: outcome\n",
    "    test_demo_df = pd.DataFrame(test_data, columns = predictors)\n",
    "    predicted_df = pd.DataFrame(prediction_df, columns = [concat_col])\n",
    "    concat_df = pd.concat([test_demo_df,predicted_df], axis=1)\n",
    "\n",
    "    #Get the two groups of people totals\n",
    "    total_unpriv = (len(concat_df[concat_df[sensitive_attr]==0]))\n",
    "    total_priv = (len(concat_df[concat_df[sensitive_attr]==1]))\n",
    "\n",
    "    #Number of people accepted\n",
    "    total_credit_unpriv = len(concat_df[(concat_df[concat_col] == 1) & (concat_df[sensitive_attr] == 0)])\n",
    "    total_credit_priv = len(concat_df[(concat_df[concat_col] == 1) & (concat_df[sensitive_attr] == 1)])\n",
    "\n",
    "    #Percentage of approved people\n",
    "    p_unpriv = total_credit_unpriv/total_unpriv\n",
    "    p_priv = total_credit_priv/total_priv\n",
    "\n",
    "\n",
    "    #Calculate the parity\n",
    "    parity = p_priv - p_unpriv\n",
    "\n",
    "\n",
    "    return parity"
   ]
  },
  {
   "cell_type": "code",
   "execution_count": null,
   "metadata": {},
   "outputs": [],
   "source": [
    "#Make changes to make more efficient\n",
    "#Function used to run the DT model\n",
    "#train_dataset: Training dataset to train the model\n",
    "#independent_var: Column names\n",
    "#dependent_var: Prediction column name\n",
    "#concat_col: Name of column creating new DF on\n",
    "def logistic_regression(train_dataset, independent_var, dependent_var, concat_col):\n",
    "        #Split the data up into train and test values and then run the DT model\n",
    "        #These steps aren't neccessary to consistenly do over and over again\n",
    "        x = train_dataset[independent_var].values\n",
    "        y = train_dataset[dependent_var].values\n",
    "        x_train, x_test, y_train, y_test = train_test_split(x, y, test_size=0.2,random_state=310)\n",
    "        clf = LogisticRegression(class_weight=None, max_iter=100)\n",
    "        log = clf.fit(x_train,y_train)\n",
    "        prediction = log.predict(x_test)\n",
    "\n",
    "        #Printing the Overall accuracy of the model after one run\n",
    "        #F1_Score=metrics.f1_score(y_test, prediction, average='weighted')\n",
    "        #file.write(f'\\nAccuracy of the model on Testing Sample Data: {F1_Score}')\n",
    "\n",
    "        #Prints out the average across all ten run throughs\n",
    "        #Accuracy_Values=cross_val_score(log, x , y, cv=10, scoring='f1_weighted')\n",
    "\n",
    "        accuracy = accuracy_score(y_test,prediction)*100\n",
    "\n",
    "        #After running the model I return a df with the datapoints and the labels\n",
    "        test_demo_df = pd.DataFrame(x_test, columns = independent_var)\n",
    "        #Concat_col: credit_risk_12\n",
    "        predicted_df = pd.DataFrame(prediction, columns = [concat_col])\n",
    "\n",
    "        return accuracy, test_demo_df, predicted_df"
   ]
  },
  {
   "cell_type": "markdown",
   "metadata": {},
   "source": [
    "<h5>Setup the data with the random samples from acs_income.csv<h5>"
   ]
  },
  {
   "cell_type": "code",
   "execution_count": 2,
   "metadata": {},
   "outputs": [],
   "source": [
    "acs_dataframe = pd.read_csv('acs_data/acs_income.csv', index_col=None, sep=',')"
   ]
  },
  {
   "cell_type": "code",
   "execution_count": 12,
   "metadata": {},
   "outputs": [],
   "source": [
    "#Split the data into different dataframes to represent the samples\n",
    "\n",
    "#1k datpoints\n",
    "onek_datapoints = pd.read_csv('acs_data/acs_income.csv', index_col=None, sep=',').sample(1000)\n",
    "onek_datapoints=onek_datapoints.reset_index(drop=True)\n",
    "\n",
    "#5k datapoints\n",
    "fivek_datapoints = pd.read_csv('acs_data/acs_income.csv', index_col=None, sep=',').sample(5000) \n",
    "fivek_datapoint = fivek_datapoints.reset_index(drop=True)\n",
    "\n",
    "#10k datapoints\n",
    "tenk_datapoints = pd.read_csv('acs_data/acs_income.csv', index_col=None, sep=',').sample(10000) \n",
    "tenk_datapoint = tenk_datapoints.reset_index(drop=True)\n",
    "\n",
    "#15k datapoints\n",
    "fifteenk_datapoints = pd.read_csv('acs_data/acs_income.csv', index_col=None, sep=',').sample(15000)\n",
    "fifteenk_datapoints = fifteenk_datapoints.reset_index(drop=True)\n",
    "\n",
    "#20k datapoints\n",
    "twentyk_datapoints = pd.read_csv('acs_data/acs_income.csv', index_col=None, sep=',').sample(20000)\n",
    "twentyk_datapoints = twentyk_datapoints.reset_index(drop=True)"
   ]
  }
 ],
 "metadata": {
  "kernelspec": {
   "display_name": "base",
   "language": "python",
   "name": "python3"
  },
  "language_info": {
   "codemirror_mode": {
    "name": "ipython",
    "version": 3
   },
   "file_extension": ".py",
   "mimetype": "text/x-python",
   "name": "python",
   "nbconvert_exporter": "python",
   "pygments_lexer": "ipython3",
   "version": "3.11.4"
  }
 },
 "nbformat": 4,
 "nbformat_minor": 2
}
