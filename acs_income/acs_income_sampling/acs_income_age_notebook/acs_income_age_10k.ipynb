{
  "cells": [
    {
      "cell_type": "markdown",
      "metadata": {
        "colab_type": "text",
        "id": "view-in-github"
      },
      "source": [
        "<a href=\"https://colab.research.google.com/github/s-thandri/labelflipping/blob/main/acs_income/acs_income_sampling/acs_income_sex_notebook/acs_income_sex_1k.ipynb\" target=\"_parent\"><img src=\"https://colab.research.google.com/assets/colab-badge.svg\" alt=\"Open In Colab\"/></a>"
      ]
    },
    {
      "cell_type": "markdown",
      "metadata": {
        "id": "leVpphhGA2_Q"
      },
      "source": [
        "<h3>This Notebook will contain some of the final steps taken with the ACS Income Dataset<h3>\n",
        "<h4>There are a number of steps that I will be taking here to see the solution across multiple samples of ACSincome data<h4>\n",
        "<ul>\n",
        "<li>Take 5 samples of the ACSIncome data: 1k, 5k, 10k, 15k, 20k</li>\n",
        "<li>Flip 20% of the datapoints rather than 50%</li>\n",
        "<li>Represent the changes as percentages rather than individual datapoints</li>\n",
        "<li>This file will also contain all the sensitive attributes in order see them against each other</li>\n",
        "</ul>"
      ]
    },
    {
      "cell_type": "code",
      "execution_count": 14,
      "metadata": {
        "id": "6wnXcLVVBOFa"
      },
      "outputs": [],
      "source": [
        "#!pip install folktables"
      ]
    },
    {
      "cell_type": "code",
      "execution_count": 15,
      "metadata": {
        "id": "7NPRNfsLA2_R"
      },
      "outputs": [],
      "source": [
        "#Import all of the necessary libraries in\n",
        "import pandas as pd\n",
        "import numpy as np\n",
        "np.float = float\n",
        "import warnings\n",
        "from sklearn.linear_model import LogisticRegression\n",
        "from sklearn.model_selection import cross_val_score, train_test_split\n",
        "from sklearn import metrics\n",
        "from sklearn import tree\n",
        "from sklearn.metrics import accuracy_score\n",
        "import matplotlib.pyplot as plt\n",
        "#from folktables import ACSDataSource, ACSIncome\n",
        "import math\n",
        "import time\n",
        "warnings.filterwarnings('ignore')"
      ]
    },
    {
      "cell_type": "code",
      "execution_count": 16,
      "metadata": {
        "id": "keE0Vq0AA2_S"
      },
      "outputs": [],
      "source": [
        "#This function is being used to calculate the statistical parity of the data set\n",
        "#test_data: The original data frame containing the test data\n",
        "#predictors: List of the all the column names AKA IV's\n",
        "#prediction_df: Contains the predicitons made by the DT model\n",
        "#sensitive_attr: Name of the sensitive attr\n",
        "#sensitive_attr_cutoff: Cut off value for sensitive attr\n",
        "#concat_col: Name of column I am creating new dataframe on\n",
        "\n",
        "def s_parity(test_data, predictors, prediction_df, sensitive_attr, concat_col):\n",
        "    #Creating a new DF that contains all the datapoints from the test data and the predictions made from LR model\n",
        "    #Concat_col: outcome\n",
        "    test_demo_df = pd.DataFrame(test_data, columns = predictors)\n",
        "    predicted_df = pd.DataFrame(prediction_df, columns = [concat_col])\n",
        "    concat_df = pd.concat([test_demo_df,predicted_df], axis=1)\n",
        "\n",
        "    #Get the two groups of people totals\n",
        "    total_unpriv = (len(concat_df[concat_df[sensitive_attr]==0]))\n",
        "    total_priv = (len(concat_df[concat_df[sensitive_attr]==1]))\n",
        "\n",
        "    #Number of people accepted\n",
        "    total_credit_unpriv = len(concat_df[(concat_df[concat_col] == 1) & (concat_df[sensitive_attr] == 0)])\n",
        "    total_credit_priv = len(concat_df[(concat_df[concat_col] == 1) & (concat_df[sensitive_attr] == 1)])\n",
        "\n",
        "    #Percentage of approved people\n",
        "    p_unpriv = total_credit_unpriv/total_unpriv\n",
        "    p_priv = total_credit_priv/total_priv\n",
        "\n",
        "\n",
        "    #Calculate the parity\n",
        "    parity = p_priv - p_unpriv\n",
        "\n",
        "\n",
        "    return parity"
      ]
    },
    {
      "cell_type": "code",
      "execution_count": 17,
      "metadata": {
        "id": "lBt_h0N-A2_S"
      },
      "outputs": [],
      "source": [
        "#Make changes to make more efficient\n",
        "#Function used to run the DT model\n",
        "#train_dataset: Training dataset to train the model\n",
        "#independent_var: Column names\n",
        "#dependent_var: Prediction column name\n",
        "#concat_col: Name of column creating new DF on\n",
        "def logistic_regression(train_dataset, independent_var, dependent_var, concat_col):\n",
        "        #Split the data up into train and test values and then run the DT model\n",
        "        #These steps aren't neccessary to consistenly do over and over again\n",
        "        x = train_dataset[independent_var].values\n",
        "        y = train_dataset[dependent_var].values\n",
        "        x_train, x_test, y_train, y_test = train_test_split(x, y, test_size=0.2,random_state=310)\n",
        "        clf = LogisticRegression(class_weight=None, max_iter=100)\n",
        "        log = clf.fit(x_train,y_train)\n",
        "        prediction = log.predict(x_test)\n",
        "\n",
        "        #Printing the Overall accuracy of the model after one run\n",
        "        #F1_Score=metrics.f1_score(y_test, prediction, average='weighted')\n",
        "        #file.write(f'\\nAccuracy of the model on Testing Sample Data: {F1_Score}')\n",
        "\n",
        "        #Prints out the average across all ten run throughs\n",
        "        #Accuracy_Values=cross_val_score(log, x , y, cv=10, scoring='f1_weighted')\n",
        "\n",
        "        accuracy = accuracy_score(y_test,prediction)*100\n",
        "\n",
        "        #After running the model I return a df with the datapoints and the labels\n",
        "        test_demo_df = pd.DataFrame(x_test, columns = independent_var)\n",
        "        #Concat_col: credit_risk_12\n",
        "        predicted_df = pd.DataFrame(prediction, columns = [concat_col])\n",
        "\n",
        "        return accuracy, test_demo_df, predicted_df"
      ]
    },
    {
      "cell_type": "code",
      "execution_count": null,
      "metadata": {},
      "outputs": [],
      "source": [
        "#Make changes to make more efficient\n",
        "#Function used to run the DT model\n",
        "#train_dataset: Training dataset to train the model\n",
        "#independent_var: Column names\n",
        "#dependent_var: Prediction column name\n",
        "#concat_col: Name of column creating new DF on\n",
        "def logistic_regression_updated(train_dataset, X_test_orig, y_test, independent_var, concat_col):\n",
        "        #Split the data up into train and test values and then run the DT model\n",
        "        #These steps aren't neccessary to consistenly do over and over again\n",
        "        training_labels = train_dataset.pop('PINCP')\n",
        "        training_attributes = train_dataset\n",
        "        #x = train_dataset[independent_var].values\n",
        "        #y = train_dataset[dependent_var].values\n",
        "        #x_train, x_test, y_train, y_test = train_test_split(x, y, test_size=0.2,random_state=310)\n",
        "        clf = LogisticRegression(class_weight=None, max_iter=100)\n",
        "        log = clf.fit(training_attributes,training_labels)\n",
        "        prediction = log.predict(X_test_orig)\n",
        "\n",
        "        train_dataset['PINCP'] = training_labels\n",
        "        #print(train_dataset)\n",
        "\n",
        "        #Printing the Overall accuracy of the model after one run\n",
        "        #F1_Score=metrics.f1_score(y_test, prediction, average='weighted')\n",
        "        #file.write(f'\\nAccuracy of the model on Testing Sample Data: {F1_Score}')\n",
        "\n",
        "        #Prints out the average across all ten run throughs\n",
        "        #Accuracy_Values=cross_val_score(log, x , y, cv=10, scoring='f1_weighted')\n",
        "\n",
        "        accuracy = accuracy_score(y_test,prediction)*100\n",
        "\n",
        "        #After running the model I return a df with the datapoints and the labels\n",
        "        test_demo_df = pd.DataFrame(X_test_orig, columns = independent_var)\n",
        "        #Concat_col: credit_risk_12\n",
        "        predicted_df = pd.DataFrame(prediction, columns = [concat_col])\n",
        "\n",
        "        return accuracy, test_demo_df, predicted_df"
      ]
    },
    {
      "cell_type": "markdown",
      "metadata": {
        "id": "eS8GjAUlA2_S"
      },
      "source": [
        "<h5>Setup the data with the random samples from acs_income.csv<h5>"
      ]
    },
    {
      "cell_type": "code",
      "execution_count": 18,
      "metadata": {
        "id": "jvIhbNxXA2_S"
      },
      "outputs": [],
      "source": [
        "#Split the data into different dataframes to represent the samples\n",
        "\n",
        "#1k datpoints\n",
        "tenk_datapoints = pd.read_csv('acs_income.csv', index_col=None, sep=',').sample(10000)\n",
        "tenk_datapoints=tenk_datapoints.reset_index(drop=True)"
      ]
    },
    {
      "cell_type": "markdown",
      "metadata": {
        "id": "YoaUZvNvA2_T"
      },
      "source": [
        "<h5>Code all the datapoints to make it look nicer<h5>"
      ]
    },
    {
      "cell_type": "code",
      "execution_count": 19,
      "metadata": {
        "id": "zv_YHc10A2_T"
      },
      "outputs": [],
      "source": [
        "#Group the SCHL columns into a single values\n",
        "#1: Grade School (No Diploman)\n",
        "#2: High School Diploma/GED\n",
        "#3: Some College (2 Years at Most)\n",
        "#4: Bachelor's Degree\n",
        "#5: Master's Degree\n",
        "#6: Professional Degree\n",
        "#7: Doctorate Or Equivalent\n",
        "ranges = {'GS': (1, 15), 'HSD': (16, 17), 'SC': (18, 20), 'BD': (21,21), 'ME': (22,22), 'PD': (23,23), 'DE': (24,24)}\n",
        "group_dict = {}\n",
        "\n",
        "def assign_group(value):\n",
        "  \"\"\"Assigns a group label to a value based on the ranges dictionary.\"\"\"\n",
        "  if value not in group_dict:\n",
        "    for group_name, group_range in ranges.items():\n",
        "      if group_range[0] <= value <= group_range[1]:\n",
        "        group_dict[value] = group_name\n",
        "        break\n",
        "  return group_dict.get(value)\n",
        "\n",
        "tenk_datapoints['SCHL'] = tenk_datapoints['SCHL'].apply(assign_group)"
      ]
    },
    {
      "cell_type": "code",
      "execution_count": 20,
      "metadata": {
        "id": "-R6UZwzwA2_T"
      },
      "outputs": [],
      "source": [
        "#Assign codes to occupations based on ranges\n",
        "#0010-0440\t11-0000\tManagement Occupations: 170997\n",
        "#0500-0960\t13-0000\tBusiness and Financial Operations Occupations: 91842\n",
        "#1005-1240\t15-0000\tComputer and mathematical occupations: 50817\n",
        "#1305-1560\t17-0000\tArchitecture and Engineering Occupations: 31718\n",
        "#1600-1980\t19-0000\tLife, Physical, and Social Science Occupations: 16529\n",
        "#2001-2970\t21-0000 - 27-0000\tEducation, Legal, Community Service, Arts, and Media Occupations: 193762\n",
        "#3000-3550\t29-0000\tHealthcare Practitioners and Technical Occupations: 100986\n",
        "#3601-4655\t31-0000 - 39-0000\tService Occupations: 283912\n",
        "#4700-5940\t41-0000 - 43-0000\tSales and Office Occupations: 358340\n",
        "#6005-7640\t45-0000 - 49-0000\tNatural Resources, Construction, and Maintenance Occupations: 143613\n",
        "#7700-9760\t51-0000 - 53-0000\tProduction, Transportation, and Material Moving Occupations: 216280\n",
        "#9800-9920                      Military Specific Occupations: 5704\n",
        "\n",
        "ranges = {\n",
        "    'management': (10,440),\n",
        "    'business': (500,960),\n",
        "    'computer': (1005,1240),\n",
        "    'engineering': (1305,1560),\n",
        "    'life': (1600,1980),\n",
        "    'education_arts': (2001,2970),\n",
        "    'healthcare': (3000,3550),\n",
        "    'service': (3601,4655),\n",
        "    'sales': (4700,5940),\n",
        "    'environmental_construction': (6005,7640),\n",
        "    'production_transportation': (7700,9760),\n",
        "    'military': (9800,9920)\n",
        "}\n",
        "group_dict = {}\n",
        "tenk_datapoints['OCCP'] = tenk_datapoints['OCCP'].apply(assign_group)"
      ]
    },
    {
      "cell_type": "code",
      "execution_count": 21,
      "metadata": {
        "id": "6QH744Q9A2_T"
      },
      "outputs": [],
      "source": [
        "#Add family codes\n",
        "#1-7: Family\n",
        "#8-10: inlaws and other family\n",
        "#11-17: Non-Family\n",
        "ranges = {\n",
        "    'family': (0,7),\n",
        "    'inlaws/other': (8,10),\n",
        "    'non-family': (11,17)\n",
        "}\n",
        "group_dict = {}\n",
        "tenk_datapoints['RELP'] = tenk_datapoints['RELP'].apply(assign_group)"
      ]
    },
    {
      "cell_type": "code",
      "execution_count": 22,
      "metadata": {
        "id": "hcLsxt_EA2_T"
      },
      "outputs": [],
      "source": [
        "#Code the Class of worker column from numeric to strings\n",
        "tenk_datapoints['COW'] = tenk_datapoints['COW'].replace(1, 'private_business')\n",
        "tenk_datapoints['COW'] = tenk_datapoints['COW'].replace(2, 'non-profit')\n",
        "tenk_datapoints['COW'] = tenk_datapoints['COW'].replace(3, 'local_gov')\n",
        "tenk_datapoints['COW'] = tenk_datapoints['COW'].replace(4, 'state_gov')\n",
        "tenk_datapoints['COW'] = tenk_datapoints['COW'].replace(5, 'federal_gov')\n",
        "tenk_datapoints['COW'] = tenk_datapoints['COW'].replace(6, 'SE_no_business')\n",
        "tenk_datapoints['COW'] = tenk_datapoints['COW'].replace(7, 'SE_business')\n",
        "tenk_datapoints['COW'] = tenk_datapoints['COW'].replace(8, 'no_pay_work')\n",
        "tenk_datapoints['COW'] = tenk_datapoints['COW'].replace(9, 'unemployed')\n"
      ]
    },
    {
      "cell_type": "code",
      "execution_count": 23,
      "metadata": {
        "id": "y7jlwNYUA2_U"
      },
      "outputs": [],
      "source": [
        "#Class the Marital Status from numeric to strings\n",
        "tenk_datapoints['MAR'] = tenk_datapoints['MAR'].replace(1, 'married')\n",
        "tenk_datapoints['MAR'] = tenk_datapoints['MAR'].replace(2, 'widowed')\n",
        "tenk_datapoints['MAR'] = tenk_datapoints['MAR'].replace(3, 'divorced')\n",
        "tenk_datapoints['MAR'] = tenk_datapoints['MAR'].replace(4, 'seperated')\n",
        "tenk_datapoints['MAR'] = tenk_datapoints['MAR'].replace(5, 'never_married')"
      ]
    },
    {
      "cell_type": "code",
      "execution_count": 24,
      "metadata": {
        "id": "pYvVGCbtA2_U"
      },
      "outputs": [],
      "source": [
        "#Add Age codes \n",
        "#young and old\n",
        "ranges = {\n",
        "    'young': (0,45),\n",
        "    'old': (46,99),\n",
        "}\n",
        "group_dict = {}\n",
        "tenk_datapoints['AGEP'] = tenk_datapoints['AGEP'].apply(assign_group)"
      ]
    },
    {
      "cell_type": "code",
      "execution_count": 25,
      "metadata": {
        "id": "7a6TrvSlA2_U"
      },
      "outputs": [],
      "source": [
        "#Code the PINCP column so that it is binary\n",
        "ranges = {\n",
        "    0: (0,50000),\n",
        "    1: (50001,2000000)\n",
        "}\n",
        "group_dict = {}\n",
        "tenk_datapoints['PINCP'] = tenk_datapoints['PINCP'].apply(assign_group)"
      ]
    },
    {
      "cell_type": "code",
      "execution_count": 26,
      "metadata": {
        "id": "QICtlSWMA2_U"
      },
      "outputs": [],
      "source": [
        "tenk_datapoints = tenk_datapoints.drop(columns=['RAC1P','SEX'])"
      ]
    },
    {
      "cell_type": "code",
      "execution_count": 27,
      "metadata": {
        "id": "afAvZ_ViA2_U"
      },
      "outputs": [],
      "source": [
        "encoded_data = pd.get_dummies(tenk_datapoints, columns=['RELP','COW','SCHL','MAR','OCCP','POBP','AGEP','ST'])"
      ]
    },
    {
      "cell_type": "markdown",
      "metadata": {
        "id": "a7SdrAXSA2_V"
      },
      "source": [
        "<h5>After Coding each of the different columns, now I will get original parity and accuracy<h5>"
      ]
    },
    {
      "cell_type": "code",
      "execution_count": 28,
      "metadata": {
        "colab": {
          "base_uri": "https://localhost:8080/"
        },
        "id": "bARW1aJmA2_V",
        "outputId": "dac9e101-ec9f-4ff5-9b39-1b0397c0cbfa"
      },
      "outputs": [
        {
          "name": "stdout",
          "output_type": "stream",
          "text": [
            "77.7\n"
          ]
        }
      ],
      "source": [
        "#Get the columns for the predictors and target variable\n",
        "acs_columns_list = list(encoded_data.columns)\n",
        "\n",
        "predictors = [item for item in acs_columns_list if item != 'PINCP']\n",
        "target_var = 'PINCP'\n",
        "\n",
        "#Setting the columns to each part of the logistic regression\n",
        "#x conatins the IV's\n",
        "#y contains the DV\n",
        "x = encoded_data[predictors].values\n",
        "y = encoded_data[target_var].values\n",
        "\n",
        "x_train, x_test, y_train, y_test = train_test_split(x, y, test_size=0.2, random_state=310)\n",
        "#X-train is all the data points for training\n",
        "#y_train contains the labels for each of the training data points\n",
        "#x_test contains all the testing data points\n",
        "#y_test contains the ground truth for each of the test data points\n",
        "\n",
        "#Run the LR classifier\n",
        "clf = LogisticRegression(class_weight=None, max_iter=100)\n",
        "lr = clf.fit(x_train,y_train)\n",
        "prediction = lr.predict(x_test)\n",
        "prediction_prob = lr.predict_proba(x_train)\n",
        "accuracy = accuracy_score(y_test,prediction)*100\n",
        "print(accuracy)"
      ]
    },
    {
      "cell_type": "code",
      "execution_count": 29,
      "metadata": {
        "colab": {
          "base_uri": "https://localhost:8080/"
        },
        "id": "y24ltUrTA2_V",
        "outputId": "3305d046-b863-45a6-e10a-b50a6ff47f58"
      },
      "outputs": [
        {
          "name": "stdout",
          "output_type": "stream",
          "text": [
            "Statistical Parity: 0.25092\n"
          ]
        }
      ],
      "source": [
        "#Break the test dataframe into different groups\n",
        "#Unprotected group is everyone who is a female or 2\n",
        "#Complement group is everyone who is a male or 1\n",
        "test_demo_df = pd.DataFrame(x_test, columns = predictors)\n",
        "predicted_df = pd.DataFrame(prediction, columns = ['income'])\n",
        "concat_df = pd.concat([test_demo_df,predicted_df], axis=1)\n",
        "\n",
        "#Get the two groups of people totals\n",
        "total_unpriv = (len(concat_df[concat_df['AGEP_old']==0]))\n",
        "total_priv = (len(concat_df[concat_df['AGEP_old']==1]))\n",
        "\n",
        "#Number of people accepted\n",
        "total_credit_unpriv = len(concat_df[(concat_df['income'] == 1) & (concat_df['AGEP_old'] == 0)])\n",
        "total_credit_priv = len(concat_df[(concat_df['income'] == 1) & (concat_df['AGEP_old'] == 1)])\n",
        "\n",
        "#Percentage of approved people\n",
        "p_unpriv = total_credit_unpriv/total_unpriv\n",
        "p_priv = total_credit_priv/total_priv\n",
        "\n",
        "statistical_parity = p_priv - p_unpriv\n",
        "print(f'Statistical Parity: {statistical_parity:.5f}')"
      ]
    },
    {
      "cell_type": "markdown",
      "metadata": {
        "id": "bMvcNyimA2_W"
      },
      "source": [
        "<h5>Iterative Flipping<h5>"
      ]
    },
    {
      "cell_type": "code",
      "execution_count": 30,
      "metadata": {
        "id": "ArUkj-ZPA2_W"
      },
      "outputs": [],
      "source": [
        "#Need to build a new dataframe for training and testing purposes for iterative flipping\n",
        "#Combine x_train and y_train\n",
        "#I combine these so that when I flip the labels I have one DF that I work with\n",
        "#Rather than 2 numpy.ndarrays\n",
        "train_demo_df = pd.DataFrame(x_train, columns = predictors)\n",
        "train_outcome_df = pd.DataFrame(y_train, columns = ['PINCP'])\n",
        "train_full_df = pd.concat([train_demo_df, train_outcome_df], axis=1)\n",
        "\n",
        "start = time.time()"
      ]
    },
    {
      "cell_type": "code",
      "execution_count": 31,
      "metadata": {
        "id": "mnQAAFOdA2_W"
      },
      "outputs": [],
      "source": [
        "train_full_df['PINCP'] = train_full_df['PINCP'].replace(True, 1)\n",
        "train_full_df['PINCP'] = train_full_df['PINCP'].replace(False, 0)"
      ]
    },
    {
      "cell_type": "code",
      "execution_count": 32,
      "metadata": {
        "id": "XsjhHa6zA2_W"
      },
      "outputs": [],
      "source": [
        "#When flipping the label make sure convert the flip before into its original value\n",
        "\n",
        "#Combine x_train and y_train\n",
        "#Retrain the model after combining them and then flip and calculate\n",
        "#Implement label flipping and recalculate\n",
        "\n",
        "#Each list holds a different value\n",
        "\n",
        "#list_parity holds each parity value after each flip and recalculation\n",
        "list_parity = []\n",
        "#list_acc holds the accuracy of each iteration after a flip\n",
        "list_acc = []\n",
        "#list_flip holds the row number of the flip; starts at 0 and goes through the whole\n",
        "list_flip = []\n",
        "\n",
        "#Iterating through the training dataset\n",
        "for index, row in train_full_df.iterrows():\n",
        "  #If the row that I am on has the label 1 (credit_risk is the label name) then I will flip it\n",
        "  #And then run the logistic_regression function to get the accuracy, the DF that contains datapoints,\n",
        "  #And the DF that contains the predictions\n",
        "  #The two DF's are then combined in the s_parity function to calculate parity\n",
        "    if row['PINCP'] == 1:\n",
        "      #Flip the label\n",
        "        train_full_df.at[index, 'PINCP'] = 0\n",
        "\n",
        "        #Run the logistic regression function\n",
        "        #train_full_df: training dataset\n",
        "        #predictors: IV's\n",
        "        #target_var: DV's\n",
        "        #'credit_risk12': this is the column that the labels for the test_prediction is in\n",
        "        accuracy,test_datapoints, test_prediction = logistic_regression_updated(train_full_df, x_test, y_test, predictors, 'income')\n",
        "\n",
        "        #list_flip: contains the row number that has just been flipped\n",
        "        #list_num: contains the accuracy value just calculated\n",
        "        list_flip.append(index)\n",
        "        list_acc.append(accuracy)\n",
        "\n",
        "        ##################################################################################\n",
        "        #After calculating the accuracy parity calculation is next\n",
        "        parity = s_parity(test_datapoints, predictors, test_prediction, 'AGEP_old', 'income')\n",
        "        #list_parity: contains the parity value after the flip\n",
        "        #print(parity)\n",
        "        list_parity.append(parity)\n",
        "\n",
        "        #Flips the label back to its original value\n",
        "        train_full_df.at[index,'PINCP'] = 1\n",
        "\n",
        "    #Repeats all the same steps as above but this time if the original label is 2\n",
        "    elif row['PINCP'] == 0:\n",
        "        train_full_df.at[index, 'PINCP'] = 1\n",
        "\n",
        "        accuracy,test_datapoints, test_prediction = logistic_regression_updated(train_full_df, x_test, y_test, predictors, 'income')\n",
        "        list_flip.append(index)\n",
        "        list_acc.append(accuracy)\n",
        "\n",
        "        ##################################################################################\n",
        "        parity = s_parity(test_datapoints, predictors, test_prediction, 'AGEP_old', 'income')\n",
        "        #print(parity)\n",
        "        list_parity.append(parity)\n",
        "\n",
        "        train_full_df.at[index,'PINCP'] = 0"
      ]
    },
    {
      "cell_type": "code",
      "execution_count": 33,
      "metadata": {
        "id": "cWV6ET8AA2_W"
      },
      "outputs": [],
      "source": [
        "#parity_difference: Contains the difference between flipped and original value\n",
        "parity_difference = []\n",
        "#Contains parity values that fall between .03 and -.03\n",
        "large_influence = []\n",
        "#Contains the row number of each flip\n",
        "li_row = []\n",
        "\n",
        "#Takes each of the parity values after flipping and compares it to the original parity value\n",
        "#Appends the difference to a new list\n",
        "for value in list_parity:\n",
        "    difference = abs(value) - abs(statistical_parity)\n",
        "    parity_difference.append(difference)\n",
        "\n",
        "\n",
        "#Rows are considered to be high influence if they fall in between\n",
        "for index, item in enumerate(parity_difference):\n",
        "  if statistical_parity > 0:\n",
        "    if item <= statistical_parity or item >= -1*(statistical_parity):\n",
        "        large_influence.append(item)\n",
        "        li_row.append(index)\n",
        "  else:\n",
        "    if item >= statistical_parity or item <= -1*(statistical_parity):\n",
        "        large_influence.append(item)\n",
        "        li_row.append(index)"
      ]
    },
    {
      "cell_type": "code",
      "execution_count": 34,
      "metadata": {
        "id": "gki2zNAWA2_X"
      },
      "outputs": [],
      "source": [
        "# Combine lists into tuples and zip them\n",
        "combined_data = list(zip(large_influence, li_row))\n",
        "\n",
        "# Sort based on statistical parity values in descending order\n",
        "combined_data.sort(key=lambda x: abs(x[0]), reverse=True)\n",
        "\n",
        "# Extract sorted indices list and the sorted values\n",
        "sorted_indices_list = [index for _, index in combined_data]\n",
        "sorted_values = sorted(large_influence, reverse=True)"
      ]
    },
    {
      "cell_type": "code",
      "execution_count": 35,
      "metadata": {
        "id": "U6HDBJ0DA2_X"
      },
      "outputs": [],
      "source": [
        "#Flip the top 50% of the list\n",
        "sorted_indices_list = sorted_indices_list[:int(len(sorted_indices_list)*.2)]"
      ]
    },
    {
      "cell_type": "code",
      "execution_count": 36,
      "metadata": {
        "id": "XVhw_W2UA2_X"
      },
      "outputs": [],
      "source": [
        "#After ranking the values it is time to now go back through the flipping process but flip the top 500 labels based on their ranking\n",
        "#Parity values after each flip\n",
        "iterative_ranked_parity = []\n",
        "#Accuracy after every flip\n",
        "iterative_ranked_acc = []\n",
        "#Index/row of the flip\n",
        "iterative_ranked_flip = []\n",
        "\n",
        "row_num = 0\n",
        "#sorted_indices is a tuple so it's coverted to a list\n",
        "ranked_indices_list = list(sorted_indices_list)\n",
        "\n",
        "#Iterate through the ranked indices and start flipping labels based on their position in the list\n",
        "for row in range(len(ranked_indices_list)):\n",
        "  #row_num: contains the row number with respect to the dataframe\n",
        "  row_num = ranked_indices_list[row]\n",
        "  #If the label at the specific row is 1 it flips it to 2 then calculates the parity and accuracy\n",
        "  #It follows the same steps as the flipping before\n",
        "  if train_full_df.at[row_num,'PINCP'] == 1:\n",
        "      train_full_df.at[row_num, 'PINCP'] = 0\n",
        "\n",
        "      accuracy,test_datapoints, test_prediction = logistic_regression_updated(train_full_df, x_test, y_test, predictors, 'income')\n",
        "\n",
        "      iterative_ranked_flip.append(row_num)\n",
        "      iterative_ranked_acc.append(accuracy)\n",
        "\n",
        "      ##################################################################################\n",
        "      parity = s_parity(test_datapoints, predictors, test_prediction, 'AGEP_old', 'income')\n",
        "      iterative_ranked_parity.append(parity)\n",
        "\n",
        "\n",
        "  elif train_full_df.at[row_num,'PINCP'] == 0:\n",
        "      train_full_df.at[row_num, 'PINCP'] = 1\n",
        "\n",
        "      accuracy,test_datapoints, test_prediction = logistic_regression_updated(train_full_df, x_test, y_test, predictors, 'income')\n",
        "\n",
        "      iterative_ranked_flip.append(row_num)\n",
        "      iterative_ranked_acc.append(accuracy)\n",
        "\n",
        "      ##################################################################################\n",
        "      parity = s_parity(test_datapoints, predictors, test_prediction, 'AGEP_old', 'income')\n",
        "      iterative_ranked_parity.append(parity)"
      ]
    },
    {
      "cell_type": "code",
      "execution_count": 37,
      "metadata": {
        "id": "0lwIP7TfA2_X"
      },
      "outputs": [],
      "source": [
        "#Place the original parity at the beginning of the list\n",
        "iterative_ranked_parity.insert(0,statistical_parity)"
      ]
    },
    {
      "cell_type": "code",
      "execution_count": 38,
      "metadata": {
        "id": "2bc_J2YrA2_X"
      },
      "outputs": [],
      "source": [
        "#Store end time\n",
        "end = time.time()\n",
        "total_time = end-start\n",
        "\n",
        "time_taken = []\n",
        "solution = []\n",
        "\n",
        "time_taken.append(total_time)\n",
        "solution.append('Iterative Flipping')"
      ]
    },
    {
      "cell_type": "markdown",
      "metadata": {
        "id": "X2hhNZx8A2_X"
      },
      "source": [
        "<h5>Uncertainty Reduction<h5>"
      ]
    },
    {
      "cell_type": "code",
      "execution_count": 39,
      "metadata": {
        "id": "DWiWa6XnA2_X"
      },
      "outputs": [],
      "source": [
        "#Create new training dataset\n",
        "train_demo_df_entropy = pd.DataFrame(x_train, columns = predictors)\n",
        "train_outcome_df_entropy = pd.DataFrame(y_train, columns = ['PINCP'])\n",
        "train_full_df_entropy = pd.concat([train_demo_df_entropy, train_outcome_df_entropy], axis=1)\n",
        "\n",
        "start = time.time()"
      ]
    },
    {
      "cell_type": "code",
      "execution_count": 40,
      "metadata": {
        "id": "rb-oqzo4A2_Y"
      },
      "outputs": [],
      "source": [
        "train_full_df_entropy['PINCP'] = train_full_df_entropy['PINCP'].replace(True, 1)\n",
        "train_full_df_entropy['PINCP'] = train_full_df_entropy['PINCP'].replace(False, 0)"
      ]
    },
    {
      "cell_type": "code",
      "execution_count": 41,
      "metadata": {
        "id": "IoLNqRUYA2_Y"
      },
      "outputs": [],
      "source": [
        "# Obtain predicted probabilities on the training data\n",
        "predicted_probabilities = lr.predict_proba(x_train)"
      ]
    },
    {
      "cell_type": "code",
      "execution_count": 42,
      "metadata": {
        "id": "56INbNl7A2_Y"
      },
      "outputs": [],
      "source": [
        "#Log base two would be: log = math.log(x,2)\n",
        "#Entropy equation would then be: -1*(p1((math.log(p1,2))+p2*(math.log(p2,2)))\n",
        "\n",
        "#In the predicted_probabilities: first value is 1 (which is good), second value is 2(which is bad)\n",
        "\n",
        "#Loop through the predicted_probabilities array and calculate values\n",
        "#One list will contain the index of each row in the table and the other will contain the entropy value of each row\n",
        "\n",
        "index_list = []\n",
        "entropy_list = []\n",
        "\n",
        "for index, value in enumerate(predicted_probabilities):\n",
        "  #Calculate p1 and p2\n",
        "  p1=predicted_probabilities[index,0]\n",
        "  p2=predicted_probabilities[index,1]\n",
        "  #Calculate entropy in 3 steps\n",
        "  entropy_calc1 = p1 * math.log(p1,2)\n",
        "  entropy_calc2 = p2 * math.log(p2,2)\n",
        "  entropy_final = -1 * (entropy_calc1 + entropy_calc2)\n",
        "\n",
        "  #Append the values to their respective lists\n",
        "  index_list.append(index)\n",
        "  entropy_list.append(entropy_final)"
      ]
    },
    {
      "cell_type": "code",
      "execution_count": 43,
      "metadata": {
        "id": "kG5d0D_4A2_Y"
      },
      "outputs": [],
      "source": [
        "#Rank the entropy values in decreasing order\n",
        "#Match the index list with them\n",
        "\n",
        "#Combine the two lists using zip\n",
        "combined_list = list(zip(entropy_list, index_list))\n",
        "\n",
        "#Sort the combined lust based on entropy values in descending order\n",
        "sorted_list = sorted(combined_list, key = lambda x: x[0], reverse=True)\n",
        "\n",
        "#Extract the values\n",
        "sorted_ent_list, sorted_index_list = zip(*sorted_list)"
      ]
    },
    {
      "cell_type": "code",
      "execution_count": 44,
      "metadata": {
        "id": "xy7y0ukQA2_Y"
      },
      "outputs": [],
      "source": [
        "#Convert each of the tuples into lists\n",
        "ranked_indices_list = list(sorted_index_list)\n",
        "ranked_entropy_list = list(sorted_ent_list)\n",
        "\n",
        "#Getting the top 50% values\n",
        "ranked_indices_list = ranked_indices_list[:int(len(ranked_indices_list)*.2)]"
      ]
    },
    {
      "cell_type": "code",
      "execution_count": 45,
      "metadata": {
        "id": "tru1_wuSA2_Y"
      },
      "outputs": [],
      "source": [
        "#After ranking and getting the top 50% points I flip them based on where they are in the list\n",
        "\n",
        "#Different lists to hold each of the values\n",
        "entropy_ranked_parity = [statistical_parity]\n",
        "entropy_ranked_acc = []\n",
        "entropy_ranked_flip = []\n",
        "\n",
        "row_num = 0\n",
        "\n",
        "#Go through the training dataset and flip the points based on their entropy levels\n",
        "for row in range(len(ranked_indices_list)):\n",
        "  row_num = ranked_indices_list[row]\n",
        "\n",
        "  if train_full_df_entropy.at[row_num,'PINCP'] == 1:\n",
        "    train_full_df_entropy.at[row_num,'PINCP'] = 0\n",
        "    accuracy,test_datapoints, test_prediction = logistic_regression_updated(train_full_df_entropy, x_test, y_test, predictors, 'income')\n",
        "\n",
        "    entropy_ranked_flip.append(row_num)\n",
        "    entropy_ranked_acc.append(accuracy)\n",
        "\n",
        "    parity = s_parity(test_datapoints, predictors, test_prediction, 'AGEP_old','income')\n",
        "    entropy_ranked_parity.append(parity)\n",
        "\n",
        "  elif train_full_df_entropy.at[row_num, 'PINCP'] == 0:\n",
        "    train_full_df_entropy.at[row_num,'PINCP'] = 1\n",
        "    accuracy,test_datapoints, test_prediction = logistic_regression_updated(train_full_df_entropy, x_test, y_test, predictors, 'income')\n",
        "\n",
        "    entropy_ranked_flip.append(row_num)\n",
        "    entropy_ranked_acc.append(accuracy)\n",
        "\n",
        "    parity = s_parity(test_datapoints, predictors, test_prediction, 'AGEP_old','income')\n",
        "    entropy_ranked_parity.append(parity)\n",
        "\n",
        "\n",
        "end = time.time()\n",
        "total_time = end - start"
      ]
    },
    {
      "cell_type": "code",
      "execution_count": 46,
      "metadata": {
        "id": "fzN4Y0TmA2_Z"
      },
      "outputs": [],
      "source": [
        "time_taken.append(total_time)\n",
        "solution.append('Uncertainty Reduction')"
      ]
    },
    {
      "cell_type": "markdown",
      "metadata": {
        "id": "p7RW81CrA2_f"
      },
      "source": [
        "<h5>Maximum Expected Utility<h5>`"
      ]
    },
    {
      "cell_type": "code",
      "execution_count": 47,
      "metadata": {
        "id": "5cQs7E_RA2_f"
      },
      "outputs": [],
      "source": [
        "#Create a fresh training dataset\n",
        "train_demo_df_MEU = pd.DataFrame(x_train, columns = predictors)\n",
        "train_outcome_df_MEU = pd.DataFrame(y_train, columns = ['PINCP'])\n",
        "train_full_df_MEU = pd.concat([train_demo_df_MEU, train_outcome_df_MEU], axis=1)\n",
        "\n",
        "start = time.time()"
      ]
    },
    {
      "cell_type": "code",
      "execution_count": 48,
      "metadata": {
        "id": "DRqTnUZhA2_f"
      },
      "outputs": [],
      "source": [
        "train_full_df_MEU['PINCP'] = train_full_df_MEU['PINCP'].replace(True, 1)\n",
        "train_full_df_MEU['PINCP'] = train_full_df_MEU['PINCP'].replace(False, 0)"
      ]
    },
    {
      "cell_type": "code",
      "execution_count": 49,
      "metadata": {
        "id": "uZ-yZ18FA2_f"
      },
      "outputs": [],
      "source": [
        "# Obtain predicted probabilities on the training data\n",
        "predicted_probabilities = lr.predict_proba(x_train)"
      ]
    },
    {
      "cell_type": "code",
      "execution_count": 50,
      "metadata": {
        "id": "aCtBLlAwA2_f"
      },
      "outputs": [],
      "source": [
        "#Make a copy of the original training dataframe to make changes on\n",
        "copy_train_full_df = train_full_df_MEU.copy()"
      ]
    },
    {
      "cell_type": "code",
      "execution_count": 51,
      "metadata": {
        "id": "vHxK89AVA2_f"
      },
      "outputs": [],
      "source": [
        "#Grab the original label of the DP in the copy dataframe and store in lists along with the index\n",
        "label = []\n",
        "row_index = []\n",
        "for index, row in copy_train_full_df.iterrows():\n",
        "  label.append(copy_train_full_df.at[index,'PINCP'])\n",
        "  row_index.append(index)"
      ]
    },
    {
      "cell_type": "code",
      "execution_count": 52,
      "metadata": {
        "id": "0dP1jVH8A2_g"
      },
      "outputs": [],
      "source": [
        "#Calculate the first part of the MEU equation\n",
        "MEU_part1_list = []\n",
        "for index, value in enumerate(label):\n",
        "  if value == 1:\n",
        "    prob1 = predicted_probabilities[index,0]\n",
        "    MEU_part1_calc = prob1 * statistical_parity\n",
        "    MEU_part1_list.append(MEU_part1_calc)\n",
        "  elif value == 0:\n",
        "    prob2 = predicted_probabilities[index,1]\n",
        "    MEU_part1_calc = prob2 * statistical_parity\n",
        "    MEU_part1_list.append(MEU_part1_calc)"
      ]
    },
    {
      "cell_type": "code",
      "execution_count": 53,
      "metadata": {
        "id": "nZZGbUa5A2_g"
      },
      "outputs": [],
      "source": [
        "#Iterate through the copied dataset\n",
        "#Flip each label and calculate the parity\n",
        "\n",
        "#When flipping the label make sure convert the flip before into its original value\n",
        "\n",
        "#Each list holds a different value\n",
        "\n",
        "#list_parity holds each parity value after each flip and recalculation\n",
        "MEU_part2_list_parity = []\n",
        "#list_acc holds the accuracy of each iteration after a flip\n",
        "MEU_part2_list_acc = []\n",
        "#list_flip holds the row number of the flip; starts at 0 and goes through the whole\n",
        "MEU_part2_list_flip = []\n",
        "\n",
        "#Iterating through the training dataset\n",
        "for index, row in copy_train_full_df.iterrows():\n",
        "  #If the row that I am on has the label 1 (credit_risk is the label name) then I will flip it\n",
        "  #And then run the logistic_regression function to get the accuracy, the DF that contains datapoints,\n",
        "  #And the DF that contains the predictions\n",
        "  #The two DF's are then combined in the s_parity function to calculate parity\n",
        "    if row['PINCP'] == 1:\n",
        "      #Flip the label\n",
        "        copy_train_full_df.at[index, 'PINCP'] = 0\n",
        "\n",
        "        #Run the logistic regression function\n",
        "        #train_full_df: training dataset\n",
        "        #predictors: IV's\n",
        "        #target_var: DV's\n",
        "        #'credit_risk12': this is the column that the labels for the test_prediction is in\n",
        "        accuracy,test_datapoints, test_prediction = logistic_regression_updated(copy_train_full_df, x_test, y_test, predictors, 'income')\n",
        "\n",
        "        #list_flip: contains the row number that has just been flipped\n",
        "        #list_num: contains the accuracy value just calculated\n",
        "        MEU_part2_list_flip.append(index)\n",
        "        MEU_part2_list_acc.append(accuracy)\n",
        "\n",
        "        ##################################################################################\n",
        "        #After calculating the accuracy parity calculation is next\n",
        "        parity = s_parity(test_datapoints, predictors, test_prediction, 'AGEP_old', 'income')\n",
        "        #list_parity: contains the parity value after the flip\n",
        "        MEU_part2_list_parity.append(parity)\n",
        "\n",
        "        #Flips the label back to its original value\n",
        "        copy_train_full_df.at[index,'PINCP'] = 1\n",
        "\n",
        "    #Repeats all the same steps as above but this time if the original label is 2\n",
        "    elif row['PINCP'] == 0:\n",
        "        copy_train_full_df.at[index, 'PINCP'] = 1\n",
        "\n",
        "        accuracy,test_datapoints, test_prediction = logistic_regression_updated(copy_train_full_df, x_test, y_test, predictors, 'income')\n",
        "        MEU_part2_list_flip.append(index)\n",
        "        MEU_part2_list_acc.append(accuracy)\n",
        "\n",
        "        ##################################################################################\n",
        "        parity = s_parity(test_datapoints, predictors, test_prediction, 'AGEP_old','income')\n",
        "        MEU_part2_list_parity.append(parity)\n",
        "\n",
        "        copy_train_full_df.at[index,'PINCP'] = 0"
      ]
    },
    {
      "cell_type": "code",
      "execution_count": 54,
      "metadata": {
        "id": "I80u8inLA2_g"
      },
      "outputs": [],
      "source": [
        "#Second part of the calculation by taking the opposite value\n",
        "MEU_part2_list = []\n",
        "for index, value in enumerate(label):\n",
        "  if value == 1:\n",
        "    prob1 = predicted_probabilities[index,1]\n",
        "    MEU_part2_calc = prob1 * MEU_part2_list_parity[index]\n",
        "    MEU_part2_list.append(MEU_part2_calc)\n",
        "  elif value == 0:\n",
        "    prob2 = predicted_probabilities[index,0]\n",
        "    MEU_part2_calc = prob2 * MEU_part2_list_parity[index]\n",
        "    MEU_part2_list.append(MEU_part2_calc)"
      ]
    },
    {
      "cell_type": "code",
      "execution_count": 55,
      "metadata": {
        "id": "zcqzEfEJA2_g"
      },
      "outputs": [],
      "source": [
        "#Add the two lists together\n",
        "expected_utility_values = []\n",
        "for part1, part2 in zip(MEU_part1_list, MEU_part2_list):\n",
        "    expected_utility_values.append(part1 + part2)"
      ]
    },
    {
      "cell_type": "code",
      "execution_count": 56,
      "metadata": {
        "id": "_DA5KRMeA2_g"
      },
      "outputs": [],
      "source": [
        "#After adding the two lists together I need do the following calculation:\n",
        "#EU - OG Parity = New ranked value to flip on\n",
        "new_ranked_value = []\n",
        "\n",
        "for value in expected_utility_values:\n",
        "  new_ranked_value.append(value - statistical_parity)"
      ]
    },
    {
      "cell_type": "code",
      "execution_count": 57,
      "metadata": {
        "id": "0ow4wDMLA2_g"
      },
      "outputs": [],
      "source": [
        "#Flip the lists so that they are in increasing order\n",
        "#Rank the MEUvalues in Increasing order\n",
        "#Match the index list with them\n",
        "\n",
        "#Combine the two lists using zip\n",
        "combined_list = list(zip(new_ranked_value, row_index))\n",
        "\n",
        "#Sort the combined lust based on EU values in increasing order\n",
        "sorted_list = sorted(combined_list, key = lambda x: abs(x[0]), reverse = True)\n",
        "\n",
        "#Extract the values\n",
        "sorted_eu_list, sorted_index_list = zip(*sorted_list)\n",
        "\n",
        "#Get the top 20% of points\n",
        "sorted_index_list = sorted_index_list[:int(len(sorted_index_list)*.2)]"
      ]
    },
    {
      "cell_type": "code",
      "execution_count": 58,
      "metadata": {
        "id": "jhH4FYS7A2_g"
      },
      "outputs": [],
      "source": [
        "#After ranking and getting the tope 500 points I flip them based on where they are in the list\n",
        "\n",
        "#Different lists to hold each of the values\n",
        "MEU_ranked_parity = [statistical_parity]\n",
        "MEU_ranked_acc = []\n",
        "MEU_ranked_flip = []\n",
        "\n",
        "row_num = 0\n",
        "\n",
        "#Go through the training dataset and flip the points based on their entropy levels\n",
        "for row in range(len(sorted_index_list)):\n",
        "  row_num = sorted_index_list[row]\n",
        "\n",
        "  if train_full_df_MEU.at[row_num,'PINCP'] == 1:\n",
        "    train_full_df_MEU.at[row_num,'PINCP'] = 0\n",
        "    accuracy,test_datapoints, test_prediction = logistic_regression_updated(train_full_df_MEU, x_test, y_test, predictors, 'income')\n",
        "\n",
        "    MEU_ranked_flip.append(row_num)\n",
        "    MEU_ranked_acc.append(accuracy)\n",
        "\n",
        "    parity = s_parity(test_datapoints, predictors, test_prediction, 'AGEP_old', 'income')\n",
        "    MEU_ranked_parity.append(parity)\n",
        "\n",
        "  elif train_full_df_MEU.at[row_num, 'PINCP'] == 0:\n",
        "    train_full_df_MEU.at[row_num,'PINCP'] = 1\n",
        "    accuracy,test_datapoints, test_prediction = logistic_regression_updated(train_full_df_MEU, x_test, y_test, predictors, 'income')\n",
        "\n",
        "    MEU_ranked_flip.append(row_num)\n",
        "    MEU_ranked_acc.append(accuracy)\n",
        "\n",
        "    parity = s_parity(test_datapoints, predictors, test_prediction, 'AGEP_old', 'income')\n",
        "    MEU_ranked_parity.append(parity)\n",
        "\n",
        "\n"
      ]
    },
    {
      "cell_type": "code",
      "execution_count": 59,
      "metadata": {
        "id": "pMneT9nBA2_g"
      },
      "outputs": [],
      "source": [
        "#Convert each of the tuples into lists\n",
        "meu_ranked_indices_list = list(sorted_index_list)\n",
        "meu_ranked_eu_list = list(MEU_ranked_parity)\n",
        "\n",
        "#Time Taken\n",
        "end = time.time()\n",
        "total_time = end - start\n",
        "\n",
        "time_taken.append(total_time)\n",
        "solution.append('MEU')"
      ]
    },
    {
      "cell_type": "markdown",
      "metadata": {
        "id": "VupwilvjA2_h"
      },
      "source": [
        "<h5>Random Flipping<h5>"
      ]
    },
    {
      "cell_type": "code",
      "execution_count": 60,
      "metadata": {
        "id": "0uVF9B0dA2_h"
      },
      "outputs": [],
      "source": [
        "#Create a new dataframe with the original data for the random flipping\n",
        "train_demo_df_random = pd.DataFrame(x_train, columns = predictors)\n",
        "train_outcome_df_random = pd.DataFrame(y_train, columns = ['PINCP'])\n",
        "train_full_df_random = pd.concat([train_demo_df_random, train_outcome_df_random], axis=1)\n",
        "\n",
        "start = time.time()"
      ]
    },
    {
      "cell_type": "code",
      "execution_count": 61,
      "metadata": {
        "id": "M78ZHp1PA2_h"
      },
      "outputs": [],
      "source": [
        "train_full_df_random['PINCP'] = train_full_df_random['PINCP'].replace(True, 1)\n",
        "train_full_df_random['PINCP'] = train_full_df_random['PINCP'].replace(False, 0)"
      ]
    },
    {
      "cell_type": "code",
      "execution_count": 62,
      "metadata": {
        "id": "akSdWuvrA2_h"
      },
      "outputs": [],
      "source": [
        "#Randomized flipping\n",
        "#Budget of 50\n",
        "import random\n",
        "\n",
        "random_list_flip = []\n",
        "random_list_acc = []\n",
        "random_list_parity = []\n",
        "\n",
        "col_name = 'PINCP'\n",
        "budget = int(len(train_full_df_random)*.2)\n",
        "\n",
        "#Loops through the budget and will randomly change rows in the dataframe based on the random library\n",
        "#After changing the row it will calculate the accuracy and parity and then change the value back to its original value\n",
        "#Follows the same flipping and calculations as before but this time it is with random rows rather than systematic flipping\n",
        "for iter in range(budget):\n",
        "    random_row = random.choice(train_full_df_random.index)\n",
        "    if train_full_df_random.at[random_row,col_name] == 1:\n",
        "        train_full_df_random.at[random_row,col_name] = 0\n",
        "\n",
        "        accuracy, test_datapoints, test_prediction = logistic_regression_updated(train_full_df_random, x_test, y_test, predictors, 'income')\n",
        "\n",
        "        random_list_flip.append(iter)\n",
        "        random_list_acc.append(accuracy)\n",
        "\n",
        "        ##################################################################################\n",
        "        parity = s_parity(test_datapoints, predictors, test_prediction, 'AGEP_old','income')\n",
        "        random_list_parity.append(parity)\n",
        "\n",
        "        #train_full_df.at[random_row,col_name] = 1\n",
        "\n",
        "    elif train_full_df_random.at[random_row,col_name] == 0:\n",
        "        train_full_df_random.at[random_row,col_name] = 1\n",
        "\n",
        "        accuracy, test_datapoints, test_prediction = logistic_regression_updated(train_full_df_random, x_test, y_test, predictors, 'income')\n",
        "        random_list_flip.append(iter)\n",
        "        random_list_acc.append(accuracy)\n",
        "\n",
        "        ##################################################################################\n",
        "        parity = s_parity(test_datapoints, predictors, test_prediction, 'AGEP_old', 'income')\n",
        "        random_list_parity.append(parity)\n",
        "\n",
        "        #train_full_df.at[random_row,col_name] = 2\n",
        "\n",
        "\n"
      ]
    },
    {
      "cell_type": "code",
      "execution_count": 63,
      "metadata": {
        "id": "AnqqaDmXA2_h"
      },
      "outputs": [],
      "source": [
        "end = time.time()\n",
        "\n",
        "total_time = end - start\n",
        "time_taken.append(total_time)\n",
        "solution.append('Random Flipping')"
      ]
    },
    {
      "cell_type": "markdown",
      "metadata": {
        "id": "grS3CXt8A2_h"
      },
      "source": [
        "<h4>Graph the changes in parity for 1k datapoints<h4>"
      ]
    },
    {
      "cell_type": "code",
      "execution_count": 64,
      "metadata": {
        "colab": {
          "base_uri": "https://localhost:8080/",
          "height": 472
        },
        "id": "NMkB981vA2_h",
        "outputId": "8d7ba478-f603-483e-99c1-95a13abe220c"
      },
      "outputs": [
        {
          "data": {
            "image/png": "[encoded data removed]",
            "text/plain": [
              "<Figure size 640x480 with 1 Axes>"
            ]
          },
          "metadata": {},
          "output_type": "display_data"
        }
      ],
      "source": [
        "# Calculate the total number of data points\n",
        "datapoints_iterative = len(iterative_ranked_parity)\n",
        "datapoints_entropy = len(entropy_ranked_parity)\n",
        "datapoints_meu = len(meu_ranked_eu_list)\n",
        "datapoints_random = len(random_list_parity)\n",
        "\n",
        "# Calculate the indices for the 5 points\n",
        "indices_iterative = [int(i * datapoints_iterative / 5) for i in range(0, 5)]\n",
        "indices_entropy = [int(i * datapoints_entropy / 5) for i in range(0, 5)]\n",
        "indices_meu = [int(i * datapoints_meu / 5) for i in range(0, 5)]\n",
        "indices_random = [int(i * datapoints_random / 5) for i in range(0, 5)]\n",
        "\n",
        "# Extract the values at these indices\n",
        "values_iterative = [iterative_ranked_parity[index] for index in indices_iterative]\n",
        "values_entropy = [entropy_ranked_parity[index] for index in indices_entropy]\n",
        "values_meu = [meu_ranked_eu_list[index] for index in indices_meu]\n",
        "values_random = [random_list_parity[index] for index in indices_random]\n",
        "\n",
        "# Plot the values\n",
        "plt.plot([20, 40, 60, 80, 100], values_iterative, label='Iterative Flipping', color='Red')\n",
        "plt.plot([20, 40, 60, 80, 100], values_entropy, label='Entropy', color='Blue')\n",
        "plt.plot([20, 40, 60, 80, 100], values_meu, label='MEU', color='Yellow')\n",
        "plt.plot([20, 40, 60, 80, 100], values_random, label='Random Flipping', color='Black')\n",
        "\n",
        "# Add labels and legend\n",
        "plt.xlabel('Percentage of Data Points')\n",
        "plt.ylabel('Values')\n",
        "plt.title('Graph of Data Points')\n",
        "plt.legend()\n",
        "\n",
        "# Show the plot\n",
        "plt.show()"
      ]
    },
    {
      "cell_type": "code",
      "execution_count": 65,
      "metadata": {},
      "outputs": [
        {
          "data": {
            "text/plain": [
              "[2484.642261505127, 401.2457926273346, 2646.7729785442352, 468.64172649383545]"
            ]
          },
          "execution_count": 65,
          "metadata": {},
          "output_type": "execute_result"
        }
      ],
      "source": [
        "time_taken"
      ]
    }
  ],
  "metadata": {
    "colab": {
      "include_colab_link": true,
      "provenance": []
    },
    "kernelspec": {
      "display_name": "base",
      "language": "python",
      "name": "python3"
    },
    "language_info": {
      "codemirror_mode": {
        "name": "ipython",
        "version": 3
      },
      "file_extension": ".py",
      "mimetype": "text/x-python",
      "name": "python",
      "nbconvert_exporter": "python",
      "pygments_lexer": "ipython3",
      "version": "3.11.7"
    }
  },
  "nbformat": 4,
  "nbformat_minor": 0
}
