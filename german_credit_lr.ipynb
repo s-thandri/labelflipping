{
  "cells": [
    {
      "cell_type": "markdown",
      "metadata": {
        "id": "view-in-github",
        "colab_type": "text"
      },
      "source": [
        "<a href=\"https://colab.research.google.com/github/s-thandri/labelflipping/blob/main/german_credit_lr.ipynb\" target=\"_parent\"><img src=\"https://colab.research.google.com/assets/colab-badge.svg\" alt=\"Open In Colab\"/></a>"
      ]
    },
    {
      "cell_type": "markdown",
      "source": [
        "#Import Libraries"
      ],
      "metadata": {
        "id": "KoAZ-1kRq8L1"
      }
    },
    {
      "cell_type": "code",
      "execution_count": 1,
      "metadata": {
        "id": "noKi2GgHAhpA"
      },
      "outputs": [],
      "source": [
        "#Imports some of the libraries that we will be using\n",
        "import pandas as pd\n",
        "import numpy as np\n",
        "import math\n",
        "import warnings\n",
        "from sklearn.linear_model import LogisticRegression\n",
        "from sklearn.model_selection import cross_val_score, train_test_split\n",
        "from sklearn import metrics\n",
        "from sklearn import tree\n",
        "from sklearn.metrics import accuracy_score\n",
        "import matplotlib.pyplot as plt\n",
        "warnings.filterwarnings('ignore')\n"
      ]
    },
    {
      "cell_type": "markdown",
      "source": [
        "#Parity and Model Building Functions"
      ],
      "metadata": {
        "id": "toMt3w5Hq_0U"
      }
    },
    {
      "cell_type": "code",
      "execution_count": 2,
      "metadata": {
        "id": "2h-DaeakAhpC"
      },
      "outputs": [],
      "source": [
        "#This function is being used to calculate the statistical parity of the data set\n",
        "#test_data: The original data frame containing the test data\n",
        "#predictors: List of the all the column names AKA IV's\n",
        "#prediction_df: Contains the predicitons made by the DT model\n",
        "#sensitive_attr: Name of the sensitive attr\n",
        "#sensitive_attr_cutoff: Cut off value for sensitive attr\n",
        "#concat_col: Name of column I am creating new dataframe on\n",
        "def s_parity(test_data, predictors, prediction_df, sensitive_attr, sensitive_attr_cutoff, concat_col):\n",
        "    #Creating a new DF that contains all the datapoints from the test data and the predictions made from LR model\n",
        "    #Concat_col: credit_risk_12\n",
        "    test_demo_df = pd.DataFrame(test_data, columns = predictors)\n",
        "    predicted_df = pd.DataFrame(prediction_df, columns = [concat_col])\n",
        "    concat_df = pd.concat([test_demo_df,predicted_df], axis=1)\n",
        "\n",
        "    #Get the two groups of people totals\n",
        "    total_unpriv = (len(concat_df[concat_df[sensitive_attr]<sensitive_attr_cutoff]))\n",
        "    total_priv = (len(concat_df[concat_df[sensitive_attr]>=sensitive_attr_cutoff]))\n",
        "\n",
        "    #Number of people accepted\n",
        "    total_credit_unpriv = len(concat_df[(concat_df[concat_col] == 1) & (concat_df[sensitive_attr] < sensitive_attr_cutoff)])\n",
        "    total_credit_priv = len(concat_df[(concat_df[concat_col] == 1) & (concat_df[sensitive_attr] >= sensitive_attr_cutoff)])\n",
        "\n",
        "    #Percentage of approved people\n",
        "    p_unpriv = total_credit_unpriv/total_unpriv\n",
        "    p_priv = total_credit_priv/total_priv\n",
        "\n",
        "\n",
        "    #Calculate the parity\n",
        "    parity = p_priv - p_unpriv\n",
        "\n",
        "\n",
        "    return parity"
      ]
    },
    {
      "cell_type": "code",
      "execution_count": 3,
      "metadata": {
        "id": "TYdbROUnAhpC"
      },
      "outputs": [],
      "source": [
        "#Make changes to make more efficient\n",
        "#Function used to run the DT model\n",
        "#train_dataset: Training dataset to train the model\n",
        "#independent_var: Column names\n",
        "#dependent_var: Prediction column name\n",
        "#concat_col: Name of column creating new DF on\n",
        "def logistic_regression(train_dataset, independent_var, dependent_var, concat_col):\n",
        "        #Split the data up into train and test values and then run the DT model\n",
        "        #These steps aren't neccessary to consistenly do over and over again\n",
        "        x = train_dataset[independent_var].values\n",
        "        y = train_dataset[dependent_var].values\n",
        "        x_train, x_test, y_train, y_test = train_test_split(x, y, test_size=0.2,random_state=310)\n",
        "        clf = LogisticRegression(class_weight=None, max_iter=100)\n",
        "        log = clf.fit(x_train,y_train)\n",
        "        prediction = log.predict(x_test)\n",
        "\n",
        "        #Printing the Overall accuracy of the model after one run\n",
        "        #F1_Score=metrics.f1_score(y_test, prediction, average='weighted')\n",
        "        #file.write(f'\\nAccuracy of the model on Testing Sample Data: {F1_Score}')\n",
        "\n",
        "        #Prints out the average across all ten run throughs\n",
        "        #Accuracy_Values=cross_val_score(log, x , y, cv=10, scoring='f1_weighted')\n",
        "\n",
        "        accuracy = accuracy_score(y_test,prediction)*100\n",
        "\n",
        "        #After running the model I return a df with the datapoints and the labels\n",
        "        test_demo_df = pd.DataFrame(x_test, columns = independent_var)\n",
        "        #Concat_col: credit_risk_12\n",
        "        predicted_df = pd.DataFrame(prediction, columns = [concat_col])\n",
        "\n",
        "        return accuracy, test_demo_df, predicted_df"
      ]
    },
    {
      "cell_type": "markdown",
      "source": [
        "#Building Original Logistic Regression Model"
      ],
      "metadata": {
        "id": "a_grVv-9rDzd"
      }
    },
    {
      "cell_type": "code",
      "execution_count": 4,
      "metadata": {
        "id": "5il6doHcAhpD"
      },
      "outputs": [],
      "source": [
        "#Defining the columns and creating the Dataframe with all 1000 datapoints\n",
        "columns = [\"checking_account_status\", \"duration\", \"credit_history\", \"purpose\", \"credit_amount\", \"savings_account_status\", \"employment_status\", \"installment_rate\", \"personal_status\", \"other_debtors\", \"residence_since\", \"property\", \"age\", \"other_installment_plans\", \"housing\", \"existing_credits\", \"job\", \"num_dependents\", \"telephone\", \"foreign_worker\", \"credit_risk\"]\n",
        "german_df = pd.read_table('german.data', header = None, delim_whitespace=True, names = columns)"
      ]
    },
    {
      "cell_type": "code",
      "execution_count": 5,
      "metadata": {
        "id": "qxsYyt3jAhpD"
      },
      "outputs": [],
      "source": [
        "#Encode all the non-numeric columns with dummies\n",
        "encoded_data=pd.get_dummies(german_df,columns=['checking_account_status','credit_history','savings_account_status','employment_status','personal_status','other_debtors','property','other_installment_plans','housing','job','telephone','foreign_worker','purpose'], drop_first=True)"
      ]
    },
    {
      "cell_type": "code",
      "source": [
        "encoded_data"
      ],
      "metadata": {
        "colab": {
          "base_uri": "https://localhost:8080/",
          "height": 443
        },
        "id": "JfE9I4MldDsT",
        "outputId": "326ca625-4877-4fbb-9f14-a9df34a28418"
      },
      "execution_count": 6,
      "outputs": [
        {
          "output_type": "execute_result",
          "data": {
            "text/plain": [
              "     duration  credit_amount  installment_rate  residence_since  age  \\\n",
              "0           6           1169                 4                4   67   \n",
              "1          48           5951                 2                2   22   \n",
              "2          12           2096                 2                3   49   \n",
              "3          42           7882                 2                4   45   \n",
              "4          24           4870                 3                4   53   \n",
              "..        ...            ...               ...              ...  ...   \n",
              "995        12           1736                 3                4   31   \n",
              "996        30           3857                 4                4   40   \n",
              "997        12            804                 4                4   38   \n",
              "998        45           1845                 4                4   23   \n",
              "999        45           4576                 3                4   27   \n",
              "\n",
              "     existing_credits  num_dependents  credit_risk  \\\n",
              "0                   2               1            1   \n",
              "1                   1               1            2   \n",
              "2                   1               2            1   \n",
              "3                   1               2            1   \n",
              "4                   2               2            2   \n",
              "..                ...             ...          ...   \n",
              "995                 1               1            1   \n",
              "996                 1               1            1   \n",
              "997                 1               1            1   \n",
              "998                 1               1            2   \n",
              "999                 1               1            1   \n",
              "\n",
              "     checking_account_status_A12  checking_account_status_A13  ...  \\\n",
              "0                              0                            0  ...   \n",
              "1                              1                            0  ...   \n",
              "2                              0                            0  ...   \n",
              "3                              0                            0  ...   \n",
              "4                              0                            0  ...   \n",
              "..                           ...                          ...  ...   \n",
              "995                            0                            0  ...   \n",
              "996                            0                            0  ...   \n",
              "997                            0                            0  ...   \n",
              "998                            0                            0  ...   \n",
              "999                            1                            0  ...   \n",
              "\n",
              "     foreign_worker_A202  purpose_A41  purpose_A410  purpose_A42  purpose_A43  \\\n",
              "0                      0            0             0            0            1   \n",
              "1                      0            0             0            0            1   \n",
              "2                      0            0             0            0            0   \n",
              "3                      0            0             0            1            0   \n",
              "4                      0            0             0            0            0   \n",
              "..                   ...          ...           ...          ...          ...   \n",
              "995                    0            0             0            1            0   \n",
              "996                    0            1             0            0            0   \n",
              "997                    0            0             0            0            1   \n",
              "998                    0            0             0            0            1   \n",
              "999                    0            1             0            0            0   \n",
              "\n",
              "     purpose_A44  purpose_A45  purpose_A46  purpose_A48  purpose_A49  \n",
              "0              0            0            0            0            0  \n",
              "1              0            0            0            0            0  \n",
              "2              0            0            1            0            0  \n",
              "3              0            0            0            0            0  \n",
              "4              0            0            0            0            0  \n",
              "..           ...          ...          ...          ...          ...  \n",
              "995            0            0            0            0            0  \n",
              "996            0            0            0            0            0  \n",
              "997            0            0            0            0            0  \n",
              "998            0            0            0            0            0  \n",
              "999            0            0            0            0            0  \n",
              "\n",
              "[1000 rows x 49 columns]"
            ],
            "text/html": [
              "\n",
              "  <div id=\"df-eb9ea33f-84f6-4356-ae1a-8d416ff7bf20\" class=\"colab-df-container\">\n",
              "    <div>\n",
              "<style scoped>\n",
              "    .dataframe tbody tr th:only-of-type {\n",
              "        vertical-align: middle;\n",
              "    }\n",
              "\n",
              "    .dataframe tbody tr th {\n",
              "        vertical-align: top;\n",
              "    }\n",
              "\n",
              "    .dataframe thead th {\n",
              "        text-align: right;\n",
              "    }\n",
              "</style>\n",
              "<table border=\"1\" class=\"dataframe\">\n",
              "  <thead>\n",
              "    <tr style=\"text-align: right;\">\n",
              "      <th></th>\n",
              "      <th>duration</th>\n",
              "      <th>credit_amount</th>\n",
              "      <th>installment_rate</th>\n",
              "      <th>residence_since</th>\n",
              "      <th>age</th>\n",
              "      <th>existing_credits</th>\n",
              "      <th>num_dependents</th>\n",
              "      <th>credit_risk</th>\n",
              "      <th>checking_account_status_A12</th>\n",
              "      <th>checking_account_status_A13</th>\n",
              "      <th>...</th>\n",
              "      <th>foreign_worker_A202</th>\n",
              "      <th>purpose_A41</th>\n",
              "      <th>purpose_A410</th>\n",
              "      <th>purpose_A42</th>\n",
              "      <th>purpose_A43</th>\n",
              "      <th>purpose_A44</th>\n",
              "      <th>purpose_A45</th>\n",
              "      <th>purpose_A46</th>\n",
              "      <th>purpose_A48</th>\n",
              "      <th>purpose_A49</th>\n",
              "    </tr>\n",
              "  </thead>\n",
              "  <tbody>\n",
              "    <tr>\n",
              "      <th>0</th>\n",
              "      <td>6</td>\n",
              "      <td>1169</td>\n",
              "      <td>4</td>\n",
              "      <td>4</td>\n",
              "      <td>67</td>\n",
              "      <td>2</td>\n",
              "      <td>1</td>\n",
              "      <td>1</td>\n",
              "      <td>0</td>\n",
              "      <td>0</td>\n",
              "      <td>...</td>\n",
              "      <td>0</td>\n",
              "      <td>0</td>\n",
              "      <td>0</td>\n",
              "      <td>0</td>\n",
              "      <td>1</td>\n",
              "      <td>0</td>\n",
              "      <td>0</td>\n",
              "      <td>0</td>\n",
              "      <td>0</td>\n",
              "      <td>0</td>\n",
              "    </tr>\n",
              "    <tr>\n",
              "      <th>1</th>\n",
              "      <td>48</td>\n",
              "      <td>5951</td>\n",
              "      <td>2</td>\n",
              "      <td>2</td>\n",
              "      <td>22</td>\n",
              "      <td>1</td>\n",
              "      <td>1</td>\n",
              "      <td>2</td>\n",
              "      <td>1</td>\n",
              "      <td>0</td>\n",
              "      <td>...</td>\n",
              "      <td>0</td>\n",
              "      <td>0</td>\n",
              "      <td>0</td>\n",
              "      <td>0</td>\n",
              "      <td>1</td>\n",
              "      <td>0</td>\n",
              "      <td>0</td>\n",
              "      <td>0</td>\n",
              "      <td>0</td>\n",
              "      <td>0</td>\n",
              "    </tr>\n",
              "    <tr>\n",
              "      <th>2</th>\n",
              "      <td>12</td>\n",
              "      <td>2096</td>\n",
              "      <td>2</td>\n",
              "      <td>3</td>\n",
              "      <td>49</td>\n",
              "      <td>1</td>\n",
              "      <td>2</td>\n",
              "      <td>1</td>\n",
              "      <td>0</td>\n",
              "      <td>0</td>\n",
              "      <td>...</td>\n",
              "      <td>0</td>\n",
              "      <td>0</td>\n",
              "      <td>0</td>\n",
              "      <td>0</td>\n",
              "      <td>0</td>\n",
              "      <td>0</td>\n",
              "      <td>0</td>\n",
              "      <td>1</td>\n",
              "      <td>0</td>\n",
              "      <td>0</td>\n",
              "    </tr>\n",
              "    <tr>\n",
              "      <th>3</th>\n",
              "      <td>42</td>\n",
              "      <td>7882</td>\n",
              "      <td>2</td>\n",
              "      <td>4</td>\n",
              "      <td>45</td>\n",
              "      <td>1</td>\n",
              "      <td>2</td>\n",
              "      <td>1</td>\n",
              "      <td>0</td>\n",
              "      <td>0</td>\n",
              "      <td>...</td>\n",
              "      <td>0</td>\n",
              "      <td>0</td>\n",
              "      <td>0</td>\n",
              "      <td>1</td>\n",
              "      <td>0</td>\n",
              "      <td>0</td>\n",
              "      <td>0</td>\n",
              "      <td>0</td>\n",
              "      <td>0</td>\n",
              "      <td>0</td>\n",
              "    </tr>\n",
              "    <tr>\n",
              "      <th>4</th>\n",
              "      <td>24</td>\n",
              "      <td>4870</td>\n",
              "      <td>3</td>\n",
              "      <td>4</td>\n",
              "      <td>53</td>\n",
              "      <td>2</td>\n",
              "      <td>2</td>\n",
              "      <td>2</td>\n",
              "      <td>0</td>\n",
              "      <td>0</td>\n",
              "      <td>...</td>\n",
              "      <td>0</td>\n",
              "      <td>0</td>\n",
              "      <td>0</td>\n",
              "      <td>0</td>\n",
              "      <td>0</td>\n",
              "      <td>0</td>\n",
              "      <td>0</td>\n",
              "      <td>0</td>\n",
              "      <td>0</td>\n",
              "      <td>0</td>\n",
              "    </tr>\n",
              "    <tr>\n",
              "      <th>...</th>\n",
              "      <td>...</td>\n",
              "      <td>...</td>\n",
              "      <td>...</td>\n",
              "      <td>...</td>\n",
              "      <td>...</td>\n",
              "      <td>...</td>\n",
              "      <td>...</td>\n",
              "      <td>...</td>\n",
              "      <td>...</td>\n",
              "      <td>...</td>\n",
              "      <td>...</td>\n",
              "      <td>...</td>\n",
              "      <td>...</td>\n",
              "      <td>...</td>\n",
              "      <td>...</td>\n",
              "      <td>...</td>\n",
              "      <td>...</td>\n",
              "      <td>...</td>\n",
              "      <td>...</td>\n",
              "      <td>...</td>\n",
              "      <td>...</td>\n",
              "    </tr>\n",
              "    <tr>\n",
              "      <th>995</th>\n",
              "      <td>12</td>\n",
              "      <td>1736</td>\n",
              "      <td>3</td>\n",
              "      <td>4</td>\n",
              "      <td>31</td>\n",
              "      <td>1</td>\n",
              "      <td>1</td>\n",
              "      <td>1</td>\n",
              "      <td>0</td>\n",
              "      <td>0</td>\n",
              "      <td>...</td>\n",
              "      <td>0</td>\n",
              "      <td>0</td>\n",
              "      <td>0</td>\n",
              "      <td>1</td>\n",
              "      <td>0</td>\n",
              "      <td>0</td>\n",
              "      <td>0</td>\n",
              "      <td>0</td>\n",
              "      <td>0</td>\n",
              "      <td>0</td>\n",
              "    </tr>\n",
              "    <tr>\n",
              "      <th>996</th>\n",
              "      <td>30</td>\n",
              "      <td>3857</td>\n",
              "      <td>4</td>\n",
              "      <td>4</td>\n",
              "      <td>40</td>\n",
              "      <td>1</td>\n",
              "      <td>1</td>\n",
              "      <td>1</td>\n",
              "      <td>0</td>\n",
              "      <td>0</td>\n",
              "      <td>...</td>\n",
              "      <td>0</td>\n",
              "      <td>1</td>\n",
              "      <td>0</td>\n",
              "      <td>0</td>\n",
              "      <td>0</td>\n",
              "      <td>0</td>\n",
              "      <td>0</td>\n",
              "      <td>0</td>\n",
              "      <td>0</td>\n",
              "      <td>0</td>\n",
              "    </tr>\n",
              "    <tr>\n",
              "      <th>997</th>\n",
              "      <td>12</td>\n",
              "      <td>804</td>\n",
              "      <td>4</td>\n",
              "      <td>4</td>\n",
              "      <td>38</td>\n",
              "      <td>1</td>\n",
              "      <td>1</td>\n",
              "      <td>1</td>\n",
              "      <td>0</td>\n",
              "      <td>0</td>\n",
              "      <td>...</td>\n",
              "      <td>0</td>\n",
              "      <td>0</td>\n",
              "      <td>0</td>\n",
              "      <td>0</td>\n",
              "      <td>1</td>\n",
              "      <td>0</td>\n",
              "      <td>0</td>\n",
              "      <td>0</td>\n",
              "      <td>0</td>\n",
              "      <td>0</td>\n",
              "    </tr>\n",
              "    <tr>\n",
              "      <th>998</th>\n",
              "      <td>45</td>\n",
              "      <td>1845</td>\n",
              "      <td>4</td>\n",
              "      <td>4</td>\n",
              "      <td>23</td>\n",
              "      <td>1</td>\n",
              "      <td>1</td>\n",
              "      <td>2</td>\n",
              "      <td>0</td>\n",
              "      <td>0</td>\n",
              "      <td>...</td>\n",
              "      <td>0</td>\n",
              "      <td>0</td>\n",
              "      <td>0</td>\n",
              "      <td>0</td>\n",
              "      <td>1</td>\n",
              "      <td>0</td>\n",
              "      <td>0</td>\n",
              "      <td>0</td>\n",
              "      <td>0</td>\n",
              "      <td>0</td>\n",
              "    </tr>\n",
              "    <tr>\n",
              "      <th>999</th>\n",
              "      <td>45</td>\n",
              "      <td>4576</td>\n",
              "      <td>3</td>\n",
              "      <td>4</td>\n",
              "      <td>27</td>\n",
              "      <td>1</td>\n",
              "      <td>1</td>\n",
              "      <td>1</td>\n",
              "      <td>1</td>\n",
              "      <td>0</td>\n",
              "      <td>...</td>\n",
              "      <td>0</td>\n",
              "      <td>1</td>\n",
              "      <td>0</td>\n",
              "      <td>0</td>\n",
              "      <td>0</td>\n",
              "      <td>0</td>\n",
              "      <td>0</td>\n",
              "      <td>0</td>\n",
              "      <td>0</td>\n",
              "      <td>0</td>\n",
              "    </tr>\n",
              "  </tbody>\n",
              "</table>\n",
              "<p>1000 rows × 49 columns</p>\n",
              "</div>\n",
              "    <div class=\"colab-df-buttons\">\n",
              "\n",
              "  <div class=\"colab-df-container\">\n",
              "    <button class=\"colab-df-convert\" onclick=\"convertToInteractive('df-eb9ea33f-84f6-4356-ae1a-8d416ff7bf20')\"\n",
              "            title=\"Convert this dataframe to an interactive table.\"\n",
              "            style=\"display:none;\">\n",
              "\n",
              "  <svg xmlns=\"http://www.w3.org/2000/svg\" height=\"24px\" viewBox=\"0 -960 960 960\">\n",
              "    <path d=\"M120-120v-720h720v720H120Zm60-500h600v-160H180v160Zm220 220h160v-160H400v160Zm0 220h160v-160H400v160ZM180-400h160v-160H180v160Zm440 0h160v-160H620v160ZM180-180h160v-160H180v160Zm440 0h160v-160H620v160Z\"/>\n",
              "  </svg>\n",
              "    </button>\n",
              "\n",
              "  <style>\n",
              "    .colab-df-container {\n",
              "      display:flex;\n",
              "      gap: 12px;\n",
              "    }\n",
              "\n",
              "    .colab-df-convert {\n",
              "      background-color: #E8F0FE;\n",
              "      border: none;\n",
              "      border-radius: 50%;\n",
              "      cursor: pointer;\n",
              "      display: none;\n",
              "      fill: #1967D2;\n",
              "      height: 32px;\n",
              "      padding: 0 0 0 0;\n",
              "      width: 32px;\n",
              "    }\n",
              "\n",
              "    .colab-df-convert:hover {\n",
              "      background-color: #E2EBFA;\n",
              "      box-shadow: 0px 1px 2px rgba(60, 64, 67, 0.3), 0px 1px 3px 1px rgba(60, 64, 67, 0.15);\n",
              "      fill: #174EA6;\n",
              "    }\n",
              "\n",
              "    .colab-df-buttons div {\n",
              "      margin-bottom: 4px;\n",
              "    }\n",
              "\n",
              "    [theme=dark] .colab-df-convert {\n",
              "      background-color: #3B4455;\n",
              "      fill: #D2E3FC;\n",
              "    }\n",
              "\n",
              "    [theme=dark] .colab-df-convert:hover {\n",
              "      background-color: #434B5C;\n",
              "      box-shadow: 0px 1px 3px 1px rgba(0, 0, 0, 0.15);\n",
              "      filter: drop-shadow(0px 1px 2px rgba(0, 0, 0, 0.3));\n",
              "      fill: #FFFFFF;\n",
              "    }\n",
              "  </style>\n",
              "\n",
              "    <script>\n",
              "      const buttonEl =\n",
              "        document.querySelector('#df-eb9ea33f-84f6-4356-ae1a-8d416ff7bf20 button.colab-df-convert');\n",
              "      buttonEl.style.display =\n",
              "        google.colab.kernel.accessAllowed ? 'block' : 'none';\n",
              "\n",
              "      async function convertToInteractive(key) {\n",
              "        const element = document.querySelector('#df-eb9ea33f-84f6-4356-ae1a-8d416ff7bf20');\n",
              "        const dataTable =\n",
              "          await google.colab.kernel.invokeFunction('convertToInteractive',\n",
              "                                                    [key], {});\n",
              "        if (!dataTable) return;\n",
              "\n",
              "        const docLinkHtml = 'Like what you see? Visit the ' +\n",
              "          '<a target=\"_blank\" href=https://colab.research.google.com/notebooks/data_table.ipynb>data table notebook</a>'\n",
              "          + ' to learn more about interactive tables.';\n",
              "        element.innerHTML = '';\n",
              "        dataTable['output_type'] = 'display_data';\n",
              "        await google.colab.output.renderOutput(dataTable, element);\n",
              "        const docLink = document.createElement('div');\n",
              "        docLink.innerHTML = docLinkHtml;\n",
              "        element.appendChild(docLink);\n",
              "      }\n",
              "    </script>\n",
              "  </div>\n",
              "\n",
              "\n",
              "<div id=\"df-7c41d510-b9ba-4d29-b5ab-fa6f4f85824a\">\n",
              "  <button class=\"colab-df-quickchart\" onclick=\"quickchart('df-7c41d510-b9ba-4d29-b5ab-fa6f4f85824a')\"\n",
              "            title=\"Suggest charts\"\n",
              "            style=\"display:none;\">\n",
              "\n",
              "<svg xmlns=\"http://www.w3.org/2000/svg\" height=\"24px\"viewBox=\"0 0 24 24\"\n",
              "     width=\"24px\">\n",
              "    <g>\n",
              "        <path d=\"M19 3H5c-1.1 0-2 .9-2 2v14c0 1.1.9 2 2 2h14c1.1 0 2-.9 2-2V5c0-1.1-.9-2-2-2zM9 17H7v-7h2v7zm4 0h-2V7h2v10zm4 0h-2v-4h2v4z\"/>\n",
              "    </g>\n",
              "</svg>\n",
              "  </button>\n",
              "\n",
              "<style>\n",
              "  .colab-df-quickchart {\n",
              "      --bg-color: #E8F0FE;\n",
              "      --fill-color: #1967D2;\n",
              "      --hover-bg-color: #E2EBFA;\n",
              "      --hover-fill-color: #174EA6;\n",
              "      --disabled-fill-color: #AAA;\n",
              "      --disabled-bg-color: #DDD;\n",
              "  }\n",
              "\n",
              "  [theme=dark] .colab-df-quickchart {\n",
              "      --bg-color: #3B4455;\n",
              "      --fill-color: #D2E3FC;\n",
              "      --hover-bg-color: #434B5C;\n",
              "      --hover-fill-color: #FFFFFF;\n",
              "      --disabled-bg-color: #3B4455;\n",
              "      --disabled-fill-color: #666;\n",
              "  }\n",
              "\n",
              "  .colab-df-quickchart {\n",
              "    background-color: var(--bg-color);\n",
              "    border: none;\n",
              "    border-radius: 50%;\n",
              "    cursor: pointer;\n",
              "    display: none;\n",
              "    fill: var(--fill-color);\n",
              "    height: 32px;\n",
              "    padding: 0;\n",
              "    width: 32px;\n",
              "  }\n",
              "\n",
              "  .colab-df-quickchart:hover {\n",
              "    background-color: var(--hover-bg-color);\n",
              "    box-shadow: 0 1px 2px rgba(60, 64, 67, 0.3), 0 1px 3px 1px rgba(60, 64, 67, 0.15);\n",
              "    fill: var(--button-hover-fill-color);\n",
              "  }\n",
              "\n",
              "  .colab-df-quickchart-complete:disabled,\n",
              "  .colab-df-quickchart-complete:disabled:hover {\n",
              "    background-color: var(--disabled-bg-color);\n",
              "    fill: var(--disabled-fill-color);\n",
              "    box-shadow: none;\n",
              "  }\n",
              "\n",
              "  .colab-df-spinner {\n",
              "    border: 2px solid var(--fill-color);\n",
              "    border-color: transparent;\n",
              "    border-bottom-color: var(--fill-color);\n",
              "    animation:\n",
              "      spin 1s steps(1) infinite;\n",
              "  }\n",
              "\n",
              "  @keyframes spin {\n",
              "    0% {\n",
              "      border-color: transparent;\n",
              "      border-bottom-color: var(--fill-color);\n",
              "      border-left-color: var(--fill-color);\n",
              "    }\n",
              "    20% {\n",
              "      border-color: transparent;\n",
              "      border-left-color: var(--fill-color);\n",
              "      border-top-color: var(--fill-color);\n",
              "    }\n",
              "    30% {\n",
              "      border-color: transparent;\n",
              "      border-left-color: var(--fill-color);\n",
              "      border-top-color: var(--fill-color);\n",
              "      border-right-color: var(--fill-color);\n",
              "    }\n",
              "    40% {\n",
              "      border-color: transparent;\n",
              "      border-right-color: var(--fill-color);\n",
              "      border-top-color: var(--fill-color);\n",
              "    }\n",
              "    60% {\n",
              "      border-color: transparent;\n",
              "      border-right-color: var(--fill-color);\n",
              "    }\n",
              "    80% {\n",
              "      border-color: transparent;\n",
              "      border-right-color: var(--fill-color);\n",
              "      border-bottom-color: var(--fill-color);\n",
              "    }\n",
              "    90% {\n",
              "      border-color: transparent;\n",
              "      border-bottom-color: var(--fill-color);\n",
              "    }\n",
              "  }\n",
              "</style>\n",
              "\n",
              "  <script>\n",
              "    async function quickchart(key) {\n",
              "      const quickchartButtonEl =\n",
              "        document.querySelector('#' + key + ' button');\n",
              "      quickchartButtonEl.disabled = true;  // To prevent multiple clicks.\n",
              "      quickchartButtonEl.classList.add('colab-df-spinner');\n",
              "      try {\n",
              "        const charts = await google.colab.kernel.invokeFunction(\n",
              "            'suggestCharts', [key], {});\n",
              "      } catch (error) {\n",
              "        console.error('Error during call to suggestCharts:', error);\n",
              "      }\n",
              "      quickchartButtonEl.classList.remove('colab-df-spinner');\n",
              "      quickchartButtonEl.classList.add('colab-df-quickchart-complete');\n",
              "    }\n",
              "    (() => {\n",
              "      let quickchartButtonEl =\n",
              "        document.querySelector('#df-7c41d510-b9ba-4d29-b5ab-fa6f4f85824a button');\n",
              "      quickchartButtonEl.style.display =\n",
              "        google.colab.kernel.accessAllowed ? 'block' : 'none';\n",
              "    })();\n",
              "  </script>\n",
              "</div>\n",
              "\n",
              "  <div id=\"id_8c09352c-a499-4780-8446-37ebc508d45e\">\n",
              "    <style>\n",
              "      .colab-df-generate {\n",
              "        background-color: #E8F0FE;\n",
              "        border: none;\n",
              "        border-radius: 50%;\n",
              "        cursor: pointer;\n",
              "        display: none;\n",
              "        fill: #1967D2;\n",
              "        height: 32px;\n",
              "        padding: 0 0 0 0;\n",
              "        width: 32px;\n",
              "      }\n",
              "\n",
              "      .colab-df-generate:hover {\n",
              "        background-color: #E2EBFA;\n",
              "        box-shadow: 0px 1px 2px rgba(60, 64, 67, 0.3), 0px 1px 3px 1px rgba(60, 64, 67, 0.15);\n",
              "        fill: #174EA6;\n",
              "      }\n",
              "\n",
              "      [theme=dark] .colab-df-generate {\n",
              "        background-color: #3B4455;\n",
              "        fill: #D2E3FC;\n",
              "      }\n",
              "\n",
              "      [theme=dark] .colab-df-generate:hover {\n",
              "        background-color: #434B5C;\n",
              "        box-shadow: 0px 1px 3px 1px rgba(0, 0, 0, 0.15);\n",
              "        filter: drop-shadow(0px 1px 2px rgba(0, 0, 0, 0.3));\n",
              "        fill: #FFFFFF;\n",
              "      }\n",
              "    </style>\n",
              "    <button class=\"colab-df-generate\" onclick=\"generateWithVariable('encoded_data')\"\n",
              "            title=\"Generate code using this dataframe.\"\n",
              "            style=\"display:none;\">\n",
              "\n",
              "  <svg xmlns=\"http://www.w3.org/2000/svg\" height=\"24px\"viewBox=\"0 0 24 24\"\n",
              "       width=\"24px\">\n",
              "    <path d=\"M7,19H8.4L18.45,9,17,7.55,7,17.6ZM5,21V16.75L18.45,3.32a2,2,0,0,1,2.83,0l1.4,1.43a1.91,1.91,0,0,1,.58,1.4,1.91,1.91,0,0,1-.58,1.4L9.25,21ZM18.45,9,17,7.55Zm-12,3A5.31,5.31,0,0,0,4.9,8.1,5.31,5.31,0,0,0,1,6.5,5.31,5.31,0,0,0,4.9,4.9,5.31,5.31,0,0,0,6.5,1,5.31,5.31,0,0,0,8.1,4.9,5.31,5.31,0,0,0,12,6.5,5.46,5.46,0,0,0,6.5,12Z\"/>\n",
              "  </svg>\n",
              "    </button>\n",
              "    <script>\n",
              "      (() => {\n",
              "      const buttonEl =\n",
              "        document.querySelector('#id_8c09352c-a499-4780-8446-37ebc508d45e button.colab-df-generate');\n",
              "      buttonEl.style.display =\n",
              "        google.colab.kernel.accessAllowed ? 'block' : 'none';\n",
              "\n",
              "      buttonEl.onclick = () => {\n",
              "        google.colab.notebook.generateWithVariable('encoded_data');\n",
              "      }\n",
              "      })();\n",
              "    </script>\n",
              "  </div>\n",
              "\n",
              "    </div>\n",
              "  </div>\n"
            ],
            "application/vnd.google.colaboratory.intrinsic+json": {
              "type": "dataframe",
              "variable_name": "encoded_data"
            }
          },
          "metadata": {},
          "execution_count": 6
        }
      ]
    },
    {
      "cell_type": "code",
      "execution_count": 7,
      "metadata": {
        "id": "-V-4PQhuAhpE"
      },
      "outputs": [],
      "source": [
        "#Initialize all the different columns including predictors and target variable\n",
        "encoded_data.columns\n",
        "target_var = 'credit_risk'\n",
        "predictors = ['duration', 'credit_amount', 'installment_rate',\n",
        "       'residence_since', 'age', 'existing_credits', 'num_dependents',\n",
        "       'checking_account_status_A12',\n",
        "       'checking_account_status_A13', 'checking_account_status_A14',\n",
        "       'credit_history_A31', 'credit_history_A32', 'credit_history_A33',\n",
        "       'credit_history_A34', 'savings_account_status_A62',\n",
        "       'savings_account_status_A63', 'savings_account_status_A64',\n",
        "       'savings_account_status_A65', 'employment_status_A72',\n",
        "       'employment_status_A73', 'employment_status_A74',\n",
        "       'employment_status_A75', 'personal_status_A92', 'personal_status_A93',\n",
        "       'personal_status_A94', 'other_debtors_A102', 'other_debtors_A103',\n",
        "       'property_A122', 'property_A123', 'property_A124',\n",
        "       'other_installment_plans_A142', 'other_installment_plans_A143',\n",
        "       'housing_A152', 'housing_A153', 'job_A172', 'job_A173', 'job_A174',\n",
        "       'telephone_A192', 'foreign_worker_A202']\n"
      ]
    },
    {
      "cell_type": "code",
      "execution_count": 8,
      "metadata": {
        "id": "GOPHWlqXAhpE"
      },
      "outputs": [],
      "source": [
        "#Setting the columns to each part of the logistic regression\n",
        "#x conatins the IV's\n",
        "#y contains the DV\n",
        "x = encoded_data[predictors].values\n",
        "y = encoded_data[target_var].values"
      ]
    },
    {
      "cell_type": "code",
      "execution_count": 9,
      "metadata": {
        "id": "1SYaCIjPAhpE"
      },
      "outputs": [],
      "source": [
        "x_train, x_test, y_train, y_test = train_test_split(x, y, test_size=0.2, random_state=310)\n",
        "#X-train is all the data points for training\n",
        "#y_train contains the labels for each of the training data points\n",
        "#x_test contains all the testing data points\n",
        "#y_test contains the ground truth for each of the test data points"
      ]
    },
    {
      "cell_type": "code",
      "execution_count": 46,
      "metadata": {
        "id": "Kej5WopvAhpF",
        "colab": {
          "base_uri": "https://localhost:8080/"
        },
        "outputId": "8203b3fd-f43a-46fe-e1f6-af49f5bfa634"
      },
      "outputs": [
        {
          "output_type": "stream",
          "name": "stdout",
          "text": [
            "77.5\n"
          ]
        }
      ],
      "source": [
        "#Run the LR classifier\n",
        "clf = LogisticRegression(class_weight=None, max_iter=100)\n",
        "dt = clf.fit(x_train,y_train)\n",
        "prediction = dt.predict(x_test)\n",
        "prediction_prob = dt.predict_proba(x_train)\n",
        "accuracy = accuracy_score(y_test,prediction)*100\n",
        "print(accuracy)"
      ]
    },
    {
      "cell_type": "code",
      "execution_count": 47,
      "metadata": {
        "colab": {
          "base_uri": "https://localhost:8080/"
        },
        "id": "vwanW_t5AhpF",
        "outputId": "e494a46b-fe6b-4448-aa22-96b620e94c4b"
      },
      "outputs": [
        {
          "output_type": "stream",
          "name": "stdout",
          "text": [
            "Statistical Parity: -0.09375\n"
          ]
        }
      ],
      "source": [
        "#Break the test dataframe into different groups\n",
        "#Unprotected group is everyone <45\n",
        "#Complement group is everyone >= 45\n",
        "test_demo_df = pd.DataFrame(x_test, columns = predictors)\n",
        "predicted_df = pd.DataFrame(prediction, columns = ['credit_risk_12'])\n",
        "concat_df = pd.concat([test_demo_df,predicted_df], axis=1)\n",
        "\n",
        "#Get the two groups of people totals\n",
        "total_unpriv = (len(concat_df[concat_df['age']<45]))\n",
        "total_priv = (len(concat_df[concat_df['age']>=45]))\n",
        "\n",
        "#Number of people accepted\n",
        "total_credit_unpriv = len(concat_df[(concat_df['credit_risk_12'] == 1) & (concat_df['age'] < 45)])\n",
        "total_credit_priv = len(concat_df[(concat_df['credit_risk_12'] == 1) & (concat_df['age'] >= 45)])\n",
        "\n",
        "#Percentage of approved people\n",
        "p_unpriv = total_credit_unpriv/total_unpriv\n",
        "p_priv = total_credit_priv/total_priv\n",
        "\n",
        "statistical_parity = p_priv - p_unpriv\n",
        "print(f'Statistical Parity: {statistical_parity:.5f}')"
      ]
    },
    {
      "cell_type": "markdown",
      "source": [
        "#Iterative Flipping"
      ],
      "metadata": {
        "id": "zy2bugAUrItS"
      }
    },
    {
      "cell_type": "code",
      "execution_count": 49,
      "metadata": {
        "id": "nafRxlfyAhpG"
      },
      "outputs": [],
      "source": [
        "#Combine x_train and y_train\n",
        "#I combine these so that when I flip the labels I have one DF that I work with\n",
        "#Rather than 2 numpy.ndarrays\n",
        "train_demo_df = pd.DataFrame(x_train, columns = predictors)\n",
        "train_outcome_df = pd.DataFrame(y_train, columns = ['credit_risk'])\n",
        "train_full_df = pd.concat([train_demo_df, train_outcome_df], axis=1)"
      ]
    },
    {
      "cell_type": "code",
      "execution_count": 50,
      "metadata": {
        "id": "DEmQ_bVkAhpG"
      },
      "outputs": [],
      "source": [
        "#When flipping the label make sure convert the flip before into its original value\n",
        "\n",
        "#Combine x_train and y_train\n",
        "#Retrain the model after combining them and then flip and calculate\n",
        "#Implement label flipping and recalculate\n",
        "\n",
        "#Each list holds a different value\n",
        "\n",
        "#list_parity holds each parity value after each flip and recalculation\n",
        "list_parity = []\n",
        "#list_acc holds the accuracy of each iteration after a flip\n",
        "list_acc = []\n",
        "#list_flip holds the row number of the flip; starts at 0 and goes through the whole\n",
        "list_flip = []\n",
        "\n",
        "#Iterating through the training dataset\n",
        "for index, row in train_full_df.iterrows():\n",
        "  #If the row that I am on has the label 1 (credit_risk is the label name) then I will flip it\n",
        "  #And then run the logistic_regression function to get the accuracy, the DF that contains datapoints,\n",
        "  #And the DF that contains the predictions\n",
        "  #The two DF's are then combined in the s_parity function to calculate parity\n",
        "    if row['credit_risk'] == 1:\n",
        "      #Flip the label\n",
        "        train_full_df.at[index, 'credit_risk'] = 2\n",
        "\n",
        "        #Run the logistic regression function\n",
        "        #train_full_df: training dataset\n",
        "        #predictors: IV's\n",
        "        #target_var: DV's\n",
        "        #'credit_risk12': this is the column that the labels for the test_prediction is in\n",
        "        accuracy,test_datapoints, test_prediction = logistic_regression(train_full_df, predictors, target_var, 'credit_risk_12')\n",
        "\n",
        "        #list_flip: contains the row number that has just been flipped\n",
        "        #list_num: contains the accuracy value just calculated\n",
        "        list_flip.append(index)\n",
        "        list_acc.append(accuracy)\n",
        "\n",
        "        ##################################################################################\n",
        "        #After calculating the accuracy parity calculation is next\n",
        "        parity = s_parity(test_datapoints, predictors, test_prediction, 'age', 45, 'credit_risk_12')\n",
        "        #list_parity: contains the parity value after the flip\n",
        "        #print(parity)\n",
        "        list_parity.append(parity)\n",
        "\n",
        "        #Flips the label back to its original value\n",
        "        train_full_df.at[index,'credit_risk'] = 1\n",
        "\n",
        "    #Repeats all the same steps as above but this time if the original label is 2\n",
        "    elif row['credit_risk'] == 2:\n",
        "        train_full_df.at[index, 'credit_risk'] = 1\n",
        "\n",
        "        accuracy,test_datapoints, test_prediction = logistic_regression(train_full_df, predictors, target_var, 'credit_risk_12')\n",
        "        list_flip.append(index)\n",
        "        list_acc.append(accuracy)\n",
        "\n",
        "        ##################################################################################\n",
        "        parity = s_parity(test_datapoints, predictors, test_prediction, 'age', 45, 'credit_risk_12')\n",
        "        #print(parity)\n",
        "        list_parity.append(parity)\n",
        "\n",
        "        train_full_df.at[index,'credit_risk'] = 2"
      ]
    },
    {
      "cell_type": "code",
      "source": [
        "list_parity"
      ],
      "metadata": {
        "id": "EaKBcHPBLT8Y"
      },
      "execution_count": null,
      "outputs": []
    },
    {
      "cell_type": "code",
      "execution_count": 51,
      "metadata": {
        "id": "0WG6TDJ_AhpG"
      },
      "outputs": [],
      "source": [
        "#parity_difference: Contains the difference between flipped and original value\n",
        "parity_difference = []\n",
        "#Contains parity values that fall between .03 and -.03\n",
        "large_influence = []\n",
        "#Contains the row number of each flip\n",
        "li_row = []\n",
        "\n",
        "#Takes each of the parity values after flipping and compares it to the original parity value\n",
        "#Appends the difference to a new list\n",
        "for value in list_parity:\n",
        "    difference = abs(value) - abs(statistical_parity)\n",
        "    parity_difference.append(difference)\n",
        "\n",
        "\n",
        "#Rows are considered to be high influence if they fall in between\n",
        "for index, item in enumerate(parity_difference):\n",
        "  if statistical_parity > 0:\n",
        "    if item <= statistical_parity or item >= -1*(statistical_parity):\n",
        "        large_influence.append(item)\n",
        "        li_row.append(index)\n",
        "  else:\n",
        "    if item >= statistical_parity or item <= -1*(statistical_parity):\n",
        "        large_influence.append(item)\n",
        "        li_row.append(index)\n"
      ]
    },
    {
      "cell_type": "code",
      "source": [
        "# Combine lists into tuples and zip them\n",
        "combined_data = list(zip(large_influence, li_row))\n",
        "\n",
        "# Sort based on statistical parity values in descending order\n",
        "combined_data.sort(key=lambda x: abs(x[0]), reverse=True)\n",
        "\n",
        "# Extract sorted indices list and the sorted values\n",
        "sorted_indices_list = [index for _, index in combined_data]\n",
        "sorted_values = sorted(large_influence, reverse=True)"
      ],
      "metadata": {
        "id": "JyIW_0u81Rzt"
      },
      "execution_count": 52,
      "outputs": []
    },
    {
      "cell_type": "code",
      "execution_count": 16,
      "metadata": {
        "id": "f_ceVITzAhpG"
      },
      "outputs": [],
      "source": [
        "#Ranking the values that have been appended to the large_influence list\n",
        "#zip_lists = list(zip(large_influence, li_row))\n",
        "\n",
        "#Sort the list of tuples based on the absolute value of the values\n",
        "#sorted_pairs = sorted(zip_lists, key=lambda pair: pair[0], reverse=True)\n",
        "\n",
        "#Separate the sorted values and indices back into separate lists\n",
        "#sorted_values, sorted_indices = zip(*sorted_pairs)"
      ]
    },
    {
      "cell_type": "code",
      "execution_count": 53,
      "metadata": {
        "id": "WY9-VWNNBKAd"
      },
      "outputs": [],
      "source": [
        "#After ranking the values it is time to now go back through the flipping process but flip the top 500 labels based on their ranking\n",
        "#Parity values after each flip\n",
        "ranked_parity = []\n",
        "#Accuracy after every flip\n",
        "ranked_acc = []\n",
        "#Index/row of the flip\n",
        "ranked_flip = []\n",
        "\n",
        "row_num = 0\n",
        "#sorted_indices is a tuple so it's coverted to a list\n",
        "ranked_indices_list = list(sorted_indices_list)\n",
        "\n",
        "#Iterate through the ranked indices and start flipping labels based on their position in the list\n",
        "for row in range(len(ranked_indices_list)):\n",
        "  #row_num: contains the row number with respect to the dataframe\n",
        "  row_num = ranked_indices_list[row]\n",
        "  #If the label at the specific row is 1 it flips it to 2 then calculates the parity and accuracy\n",
        "  #It follows the same steps as the flipping before\n",
        "  if train_full_df.at[row_num,'credit_risk'] == 1:\n",
        "      train_full_df.at[row_num, 'credit_risk'] = 2\n",
        "\n",
        "      accuracy,test_datapoints, test_prediction = logistic_regression(train_full_df, predictors, target_var, 'credit_risk_12')\n",
        "\n",
        "      ranked_flip.append(row_num)\n",
        "      ranked_acc.append(accuracy)\n",
        "\n",
        "      ##################################################################################\n",
        "      parity = s_parity(test_datapoints, predictors, test_prediction, 'age', 45, 'credit_risk_12')\n",
        "      ranked_parity.append(parity)\n",
        "\n",
        "      #train_full_df.at[index,'credit_risk'] = 1\n",
        "\n",
        "  elif train_full_df.at[row_num,'credit_risk'] == 2:\n",
        "      train_full_df.at[row_num, 'credit_risk'] = 1\n",
        "\n",
        "      accuracy,test_datapoints, test_prediction = logistic_regression(train_full_df, predictors, target_var, 'credit_risk_12')\n",
        "\n",
        "      ranked_flip.append(row_num)\n",
        "      ranked_acc.append(accuracy)\n",
        "\n",
        "      ##################################################################################\n",
        "      parity = s_parity(test_datapoints, predictors, test_prediction, 'age', 45, 'credit_risk_12')\n",
        "      ranked_parity.append(parity)\n",
        "\n",
        "      #train_full_df.at[index,'credit_risk'] = 2\n",
        "\n",
        "\n"
      ]
    },
    {
      "cell_type": "code",
      "execution_count": 54,
      "metadata": {
        "id": "wSdotp5PpuK8"
      },
      "outputs": [],
      "source": [
        "#Takes the first 150 parity values and their indices and will graph those\n",
        "top_ranked_parity = ranked_parity[:150]\n",
        "top_ranked_index = ranked_flip[:150]"
      ]
    },
    {
      "cell_type": "code",
      "source": [
        "#Place the original parity at the beginning of the list\n",
        "top_ranked_parity.insert(0,statistical_parity)"
      ],
      "metadata": {
        "id": "gRd5tq3LBTyJ"
      },
      "execution_count": 55,
      "outputs": []
    },
    {
      "cell_type": "markdown",
      "source": [
        "#Uncertainty Reduction/Entropy"
      ],
      "metadata": {
        "id": "ikHvyYW5sXVA"
      }
    },
    {
      "cell_type": "code",
      "source": [
        "#Create new training dataset\n",
        "train_demo_df_entropy = pd.DataFrame(x_train, columns = predictors)\n",
        "train_outcome_df_entropy = pd.DataFrame(y_train, columns = ['credit_risk'])\n",
        "train_full_df_entropy = pd.concat([train_demo_df, train_outcome_df], axis=1)"
      ],
      "metadata": {
        "id": "S7f2Cvc5sahJ"
      },
      "execution_count": 56,
      "outputs": []
    },
    {
      "cell_type": "code",
      "source": [
        "# Obtain predicted probabilities on the training data\n",
        "predicted_probabilities = dt.predict_proba(x_train)"
      ],
      "metadata": {
        "id": "d3jpbMXWspIp"
      },
      "execution_count": 57,
      "outputs": []
    },
    {
      "cell_type": "code",
      "source": [
        "#Log base two would be: log = math.log(x,2)\n",
        "#Entropy equation would then be: -1*(p1((math.log(p1,2))+p2*(math.log(p2,2)))\n",
        "\n",
        "#In the predicted_probabilities: first value is 1 (which is good), second value is 2(which is bad)\n",
        "\n",
        "#Loop through the predicted_probabilities array and calculate values\n",
        "#One list will contain the index of each row in the table and the other will contain the entropy value of each row\n",
        "\n",
        "index_list = []\n",
        "entropy_list = []\n",
        "\n",
        "for index, value in enumerate(predicted_probabilities):\n",
        "  #Calculate p1 and p2\n",
        "  p1=predicted_probabilities[index,0]\n",
        "  p2=predicted_probabilities[index,1]\n",
        "  #Calculate entropy in 3 steps\n",
        "  entropy_calc1 = p1 * math.log(p1,2)\n",
        "  entropy_calc2 = p2 * math.log(p2,2)\n",
        "  entropy_final = -1 * (entropy_calc1 + entropy_calc2)\n",
        "\n",
        "  #Append the values to their respective lists\n",
        "  index_list.append(index)\n",
        "  entropy_list.append(entropy_final)"
      ],
      "metadata": {
        "id": "q7gkf3nJt1E-"
      },
      "execution_count": 58,
      "outputs": []
    },
    {
      "cell_type": "code",
      "source": [
        "#Rank the entropy values in decreasing order\n",
        "#Match the index list with them\n",
        "\n",
        "#Combine the two lists using zip\n",
        "combined_list = list(zip(entropy_list, index_list))\n",
        "\n",
        "#Sort the combined lust based on entropy values in descending order\n",
        "sorted_list = sorted(combined_list, key = lambda x: x[0], reverse=True)\n",
        "\n",
        "#Extract the values\n",
        "sorted_ent_list, sorted_index_list = zip(*sorted_list)"
      ],
      "metadata": {
        "id": "6IOEORFHt50Z"
      },
      "execution_count": 60,
      "outputs": []
    },
    {
      "cell_type": "code",
      "source": [
        "train_full_df_entropy['credit_risk'] = train_full_df_entropy['credit_risk'].astype('int')"
      ],
      "metadata": {
        "id": "u5L2pXast6nA"
      },
      "execution_count": 61,
      "outputs": []
    },
    {
      "cell_type": "code",
      "source": [
        "#Convert each of the tuples into lists\n",
        "ranked_indices_list = list(sorted_index_list)\n",
        "ranked_entropy_list = list(sorted_ent_list)\n",
        "\n",
        "#Get the top 500 points in the list\n",
        "top_index_points = ranked_indices_list[:500]\n",
        "top_entropy_list = ranked_entropy_list[:500]"
      ],
      "metadata": {
        "id": "mihSBxJ_t8qX"
      },
      "execution_count": 62,
      "outputs": []
    },
    {
      "cell_type": "code",
      "source": [
        "#After ranking and getting the tope 500 points I flip them based on where they are in the list\n",
        "\n",
        "#Different lists to hold each of the values\n",
        "ranked_parity = [statistical_parity]\n",
        "ranked_acc = []\n",
        "ranked_flip = []\n",
        "\n",
        "row_num = 0\n",
        "\n",
        "#Go through the training dataset and flip the points based on their entropy levels\n",
        "for row in range(len(sorted_index_list)):\n",
        "  row_num = ranked_indices_list[row]\n",
        "\n",
        "  if train_full_df_entropy.at[row_num,'credit_risk'] == 1:\n",
        "    train_full_df_entropy.at[row_num,'credit_risk'] = 2\n",
        "    accuracy,test_datapoints, test_prediction = logistic_regression(train_full_df_entropy, predictors, target_var, 'credit_risk_12')\n",
        "\n",
        "    ranked_flip.append(row_num)\n",
        "    ranked_acc.append(accuracy)\n",
        "\n",
        "    parity = s_parity(test_datapoints, predictors, test_prediction, 'age', 45, 'credit_risk_12')\n",
        "    ranked_parity.append(parity)\n",
        "\n",
        "  elif train_full_df_entropy.at[row_num, 'credit_risk'] == 2:\n",
        "    train_full_df_entropy.at[row_num,'credit_risk'] = 1\n",
        "    accuracy,test_datapoints, test_prediction = logistic_regression(train_full_df_entropy, predictors, target_var, 'credit_risk_12')\n",
        "\n",
        "    ranked_flip.append(row_num)\n",
        "    ranked_acc.append(accuracy)\n",
        "\n",
        "    parity = s_parity(test_datapoints, predictors, test_prediction, 'age', 45, 'credit_risk_12')\n",
        "    ranked_parity.append(parity)\n"
      ],
      "metadata": {
        "id": "73J4-Oeyt_Lo"
      },
      "execution_count": 63,
      "outputs": []
    },
    {
      "cell_type": "markdown",
      "source": [
        "#Maximum Expected Utility"
      ],
      "metadata": {
        "id": "EPWp70nLu-o1"
      }
    },
    {
      "cell_type": "code",
      "source": [
        "#Create a fresh training dataset\n",
        "train_demo_df_MEU = pd.DataFrame(x_train, columns = predictors)\n",
        "train_outcome_df_MEU = pd.DataFrame(y_train, columns = ['credit_risk'])\n",
        "train_full_df_MEU = pd.concat([train_demo_df, train_outcome_df], axis=1)"
      ],
      "metadata": {
        "id": "UF8QYqoXviX3"
      },
      "execution_count": 70,
      "outputs": []
    },
    {
      "cell_type": "code",
      "source": [
        "# Obtain predicted probabilities on the training data\n",
        "predicted_probabilities = dt.predict_proba(x_train)"
      ],
      "metadata": {
        "id": "1ix3q3fSxMEc"
      },
      "execution_count": 71,
      "outputs": []
    },
    {
      "cell_type": "code",
      "source": [
        "#Make a copy of the original training dataframe to make changes on\n",
        "copy_train_full_df = train_full_df_MEU.copy()"
      ],
      "metadata": {
        "id": "zhhz_ueUxPiS"
      },
      "execution_count": 72,
      "outputs": []
    },
    {
      "cell_type": "code",
      "source": [
        "#Grab the original label of the DP in the copy dataframe and store in lists along with the index\n",
        "label = []\n",
        "row_index = []\n",
        "for index, row in copy_train_full_df.iterrows():\n",
        "  label.append(copy_train_full_df.at[index,'credit_risk'])\n",
        "  row_index.append(index)"
      ],
      "metadata": {
        "id": "B-aKq6yFxR0H"
      },
      "execution_count": 73,
      "outputs": []
    },
    {
      "cell_type": "code",
      "source": [
        "#Calculate the first part of the MEU equation\n",
        "MEU_part1_list = []\n",
        "for index, value in enumerate(label):\n",
        "  if value == 1:\n",
        "    prob1 = predicted_probabilities[index,0]\n",
        "    MEU_part1_calc = prob1 * statistical_parity\n",
        "    MEU_part1_list.append(MEU_part1_calc)\n",
        "  elif value == 2:\n",
        "    prob2 = predicted_probabilities[index,1]\n",
        "    MEU_part1_calc = prob2 * statistical_parity\n",
        "    MEU_part1_list.append(MEU_part1_calc)"
      ],
      "metadata": {
        "id": "UaTVTsTQxULd"
      },
      "execution_count": 74,
      "outputs": []
    },
    {
      "cell_type": "code",
      "source": [
        "#Iterate through the copied dataset\n",
        "#Flip each label and calculate the parity\n",
        "\n",
        "#When flipping the label make sure convert the flip before into its original value\n",
        "\n",
        "#Each list holds a different value\n",
        "\n",
        "#list_parity holds each parity value after each flip and recalculation\n",
        "MEU_part2_list_parity = []\n",
        "#list_acc holds the accuracy of each iteration after a flip\n",
        "MEU_part2_list_acc = []\n",
        "#list_flip holds the row number of the flip; starts at 0 and goes through the whole\n",
        "MEU_part2_list_flip = []\n",
        "\n",
        "#Iterating through the training dataset\n",
        "for index, row in copy_train_full_df.iterrows():\n",
        "  #If the row that I am on has the label 1 (credit_risk is the label name) then I will flip it\n",
        "  #And then run the logistic_regression function to get the accuracy, the DF that contains datapoints,\n",
        "  #And the DF that contains the predictions\n",
        "  #The two DF's are then combined in the s_parity function to calculate parity\n",
        "    if row['credit_risk'] == 1:\n",
        "      #Flip the label\n",
        "        copy_train_full_df.at[index, 'credit_risk'] = 2\n",
        "\n",
        "        #Run the logistic regression function\n",
        "        #train_full_df: training dataset\n",
        "        #predictors: IV's\n",
        "        #target_var: DV's\n",
        "        #'credit_risk12': this is the column that the labels for the test_prediction is in\n",
        "        accuracy,test_datapoints, test_prediction = logistic_regression(copy_train_full_df, predictors, target_var, 'credit_risk_12')\n",
        "\n",
        "        #list_flip: contains the row number that has just been flipped\n",
        "        #list_num: contains the accuracy value just calculated\n",
        "        MEU_part2_list_flip.append(index)\n",
        "        MEU_part2_list_acc.append(accuracy)\n",
        "\n",
        "        ##################################################################################\n",
        "        #After calculating the accuracy parity calculation is next\n",
        "        parity = s_parity(test_datapoints, predictors, test_prediction, 'age', 45, 'credit_risk_12')\n",
        "        #list_parity: contains the parity value after the flip\n",
        "        MEU_part2_list_parity.append(parity)\n",
        "\n",
        "        #Flips the label back to its original value\n",
        "        copy_train_full_df.at[index,'credit_risk'] = 1\n",
        "\n",
        "    #Repeats all the same steps as above but this time if the original label is 2\n",
        "    elif row['credit_risk'] == 2:\n",
        "        copy_train_full_df.at[index, 'credit_risk'] = 1\n",
        "\n",
        "        accuracy,test_datapoints, test_prediction = logistic_regression(copy_train_full_df, predictors, target_var, 'credit_risk_12')\n",
        "        MEU_part2_list_flip.append(index)\n",
        "        MEU_part2_list_acc.append(accuracy)\n",
        "\n",
        "        ##################################################################################\n",
        "        parity = s_parity(test_datapoints, predictors, test_prediction, 'age', 45, 'credit_risk_12')\n",
        "        MEU_part2_list_parity.append(parity)\n",
        "\n",
        "        copy_train_full_df.at[index,'credit_risk'] = 2"
      ],
      "metadata": {
        "id": "_OGmbOP4xWTM"
      },
      "execution_count": 75,
      "outputs": []
    },
    {
      "cell_type": "code",
      "source": [
        "#Second part of the calculation by taking the opposite value\n",
        "MEU_part2_list = []\n",
        "for index, value in enumerate(label):\n",
        "  if value == 1:\n",
        "    prob1 = predicted_probabilities[index,1]\n",
        "    MEU_part2_calc = prob1 * MEU_part2_list_parity[index]\n",
        "    MEU_part2_list.append(MEU_part2_calc)\n",
        "  elif value == 2:\n",
        "    prob2 = predicted_probabilities[index,0]\n",
        "    MEU_part2_calc = prob2 * MEU_part2_list_parity[index]\n",
        "    MEU_part2_list.append(MEU_part2_calc)"
      ],
      "metadata": {
        "id": "kybirRV7xwSB"
      },
      "execution_count": 76,
      "outputs": []
    },
    {
      "cell_type": "code",
      "source": [
        "#Add the two lists together\n",
        "expected_utility_values = []\n",
        "for part1, part2 in zip(MEU_part1_list, MEU_part2_list):\n",
        "    expected_utility_values.append(part1 + part2)"
      ],
      "metadata": {
        "id": "80oB8Me1xznD"
      },
      "execution_count": 77,
      "outputs": []
    },
    {
      "cell_type": "code",
      "source": [
        "#After adding the two lists together I need do the following calculation:\n",
        "#EU - OG Parity = New ranked value to flip on\n",
        "new_ranked_value = []\n",
        "\n",
        "for value in expected_utility_values:\n",
        "  new_ranked_value.append(value - statistical_parity)\n"
      ],
      "metadata": {
        "id": "-fQhw_m1O3XD"
      },
      "execution_count": 78,
      "outputs": []
    },
    {
      "cell_type": "code",
      "source": [
        "#Flip the lists so that they are in increasing order\n",
        "#Rank the MEUvalues in Increasing order\n",
        "#Match the index list with them\n",
        "\n",
        "#Combine the two lists using zip\n",
        "combined_list = list(zip(new_ranked_value, row_index))\n",
        "\n",
        "#Sort the combined lust based on EU values in increasing order\n",
        "sorted_list = sorted(combined_list, key = lambda x: abs(x[0]), reverse = True)\n",
        "\n",
        "#Extract the values\n",
        "sorted_eu_list, sorted_index_list = zip(*sorted_list)"
      ],
      "metadata": {
        "id": "XRA4GEwAx1Pf"
      },
      "execution_count": 81,
      "outputs": []
    },
    {
      "cell_type": "code",
      "source": [
        "#After ranking and getting the tope 500 points I flip them based on where they are in the list\n",
        "\n",
        "#Different lists to hold each of the values\n",
        "MEU_ranked_parity = [statistical_parity]\n",
        "MEU_ranked_acc = []\n",
        "MEU_ranked_flip = []\n",
        "\n",
        "row_num = 0\n",
        "\n",
        "#Go through the training dataset and flip the points based on their entropy levels\n",
        "for row in range(len(sorted_index_list)):\n",
        "  row_num = sorted_index_list[row]\n",
        "\n",
        "  if train_full_df_MEU.at[row_num,'credit_risk'] == 1:\n",
        "    train_full_df_MEU.at[row_num,'credit_risk'] = 2\n",
        "    accuracy,test_datapoints, test_prediction = logistic_regression(train_full_df_MEU, predictors, target_var, 'credit_risk_12')\n",
        "\n",
        "    MEU_ranked_flip.append(row_num)\n",
        "    MEU_ranked_acc.append(accuracy)\n",
        "\n",
        "    parity = s_parity(test_datapoints, predictors, test_prediction, 'age', 45, 'credit_risk_12')\n",
        "    MEU_ranked_parity.append(parity)\n",
        "\n",
        "  elif train_full_df_MEU.at[row_num, 'credit_risk'] == 2:\n",
        "    train_full_df_MEU.at[row_num,'credit_risk'] = 1\n",
        "    accuracy,test_datapoints, test_prediction = logistic_regression(train_full_df_MEU, predictors, target_var, 'credit_risk_12')\n",
        "\n",
        "    MEU_ranked_flip.append(row_num)\n",
        "    MEU_ranked_acc.append(accuracy)\n",
        "\n",
        "    parity = s_parity(test_datapoints, predictors, test_prediction, 'age', 45, 'credit_risk_12')\n",
        "    MEU_ranked_parity.append(parity)\n",
        "\n",
        "\n"
      ],
      "metadata": {
        "id": "ESgWw2sOh36b"
      },
      "execution_count": 82,
      "outputs": []
    },
    {
      "cell_type": "code",
      "source": [
        "#Convert each of the tuples into lists\n",
        "ranked_indices_list = list(sorted_index_list)\n",
        "ranked_eu_list = list(MEU_ranked_parity)\n",
        "\n",
        "#Get the top 500 points in the list\n",
        "top_index_points = ranked_indices_list[:500]\n",
        "top_eu_list = ranked_eu_list[:500]"
      ],
      "metadata": {
        "id": "dNLUfxPwx2-O"
      },
      "execution_count": 83,
      "outputs": []
    },
    {
      "cell_type": "markdown",
      "source": [
        "#Random Flipping"
      ],
      "metadata": {
        "id": "DdsonQa2rYTJ"
      }
    },
    {
      "cell_type": "code",
      "execution_count": 84,
      "metadata": {
        "id": "uWTi4pagCY82"
      },
      "outputs": [],
      "source": [
        "#Create a new dataframe with the original data for the random flipping\n",
        "train_demo_df_random = pd.DataFrame(x_train, columns = predictors)\n",
        "train_outcome_df_random = pd.DataFrame(y_train, columns = ['credit_risk'])\n",
        "train_full_df_random = pd.concat([train_demo_df, train_outcome_df], axis=1)"
      ]
    },
    {
      "cell_type": "code",
      "execution_count": 85,
      "metadata": {
        "id": "otGe9_TkAhpH"
      },
      "outputs": [],
      "source": [
        "#Randomized flipping\n",
        "#Budget of 50\n",
        "import random\n",
        "\n",
        "random_list_flip = []\n",
        "random_list_acc = []\n",
        "random_list_parity = []\n",
        "\n",
        "col_name = 'credit_risk'\n",
        "budget = 200\n",
        "\n",
        "#Loops through the budget and will randomly change rows in the dataframe based on the random library\n",
        "#After changing the row it will calculate the accuracy and parity and then change the value back to its original value\n",
        "#Follows the same flipping and calculations as before but this time it is with random rows rather than systematic flipping\n",
        "for iter in range(budget):\n",
        "    random_row = random.choice(train_full_df_random.index)\n",
        "    if train_full_df_random.at[random_row,col_name] == 1:\n",
        "        train_full_df_random.at[random_row,col_name] = 2\n",
        "\n",
        "        accuracy, test_datapoints, test_prediction = logistic_regression(train_full_df_random, predictors, target_var,'credit_risk_12')\n",
        "\n",
        "        random_list_flip.append(iter)\n",
        "        random_list_acc.append(accuracy)\n",
        "\n",
        "        ##################################################################################\n",
        "        parity = s_parity(test_datapoints, predictors, test_prediction, 'age', 45, 'credit_risk_12')\n",
        "        random_list_parity.append(parity)\n",
        "\n",
        "        #train_full_df.at[random_row,col_name] = 1\n",
        "\n",
        "    elif train_full_df_random.at[random_row,col_name] == 2:\n",
        "        train_full_df_random.at[random_row,col_name] = 1\n",
        "\n",
        "        accuracy, test_datapoints, test_prediction = logistic_regression(train_full_df_random, predictors, target_var,'credit_risk_12')\n",
        "        random_list_flip.append(iter)\n",
        "        random_list_acc.append(accuracy)\n",
        "\n",
        "        ##################################################################################\n",
        "        parity = s_parity(test_datapoints, predictors, test_prediction, 'age', 45, 'credit_risk_12')\n",
        "        random_list_parity.append(parity)\n",
        "\n",
        "        #train_full_df.at[random_row,col_name] = 2\n",
        "\n",
        "\n"
      ]
    },
    {
      "cell_type": "code",
      "execution_count": 86,
      "metadata": {
        "id": "35sNfFpk_wQf"
      },
      "outputs": [],
      "source": [
        "#Getting the top 150 accuracy values\n",
        "top_ranked_acc = ranked_acc[:200]\n",
        "top_ranked_noABS_index = ranked_flip[:200]"
      ]
    },
    {
      "cell_type": "markdown",
      "source": [
        "#Graphing The Solutions"
      ],
      "metadata": {
        "id": "k0jBYBtVrdM2"
      }
    },
    {
      "cell_type": "code",
      "source": [
        "#Plotting the random flips dataset and the systematic flips\n",
        "#Systematic flips will have 800\n",
        "#Random will have 150\n",
        "\n",
        "#Plot the first dataset which is the ranked data list with 800 flips\n",
        "#list_parity.sort(reverse=True)\n",
        "x=range(len(list_parity))\n",
        "plt.plot(x,list_parity,label='Ranked List',color='blue')\n",
        "\n",
        "#Plot the second dataset which is the random list of 150 flips\n",
        "x2 = range(len(random_list_parity))\n",
        "plt.plot(x2,random_list_parity,label='Random List',color='red')\n",
        "\n",
        "#Entropy based flips\n",
        "x3 = range(len(ranked_parity))\n",
        "plt.plot(x3,ranked_parity,label='Uncertainty Reduction',color='black')\n",
        "\n",
        "#MEU based flips\n",
        "x4 = range(len(MEU_ranked_parity))\n",
        "plt.plot(x4,MEU_ranked_parity,label='MEU',color='brown')\n",
        "\n",
        "#Add the labels\n",
        "plt.xlabel('Flips')\n",
        "plt.ylabel('Parity')\n",
        "plt.title('Change in parity for the Random and Ranked list')\n",
        "\n",
        "#Add a legend\n",
        "plt.legend()\n",
        "\n",
        "#Show the plot\n",
        "plt.show()"
      ],
      "metadata": {
        "id": "yYol0wskrtf9",
        "outputId": "69c6e6b6-0b7e-4589-9913-c09362d23bff",
        "colab": {
          "base_uri": "https://localhost:8080/",
          "height": 472
        }
      },
      "execution_count": 87,
      "outputs": [
        {
          "output_type": "display_data",
          "data": {
            "text/plain": [
              "<Figure size 640x480 with 1 Axes>"
            ],
            "image/png": "[encoded data removed]"
          },
          "metadata": {}
        }
      ]
    },
    {
      "cell_type": "code",
      "execution_count": 43,
      "metadata": {
        "id": "fxs306D3_oG2",
        "outputId": "5e24a4e4-7279-4c83-ac74-76e49a3061d0",
        "colab": {
          "base_uri": "https://localhost:8080/",
          "height": 472
        }
      },
      "outputs": [
        {
          "output_type": "display_data",
          "data": {
            "text/plain": [
              "<Figure size 640x480 with 1 Axes>"
            ],
            "image/png": "[encoded data removed]"
          },
          "metadata": {}
        }
      ],
      "source": [
        "#Plotting the random flips dataset and the systematic flips\n",
        "#Systematic flips will have 800\n",
        "#Random will have 150\n",
        "#This is comparing the two accuracies\n",
        "\n",
        "#Plot the first dataset which is the ranked data list with 800 flips\n",
        "#list_parity.sort(reverse=True)\n",
        "x=range(len(top_ranked_acc))\n",
        "plt.plot(x,top_ranked_acc,label='Ranked List')\n",
        "\n",
        "#Plot the second dataset which is the random list of 150 flips\n",
        "x2 = range(len(random_list_acc))\n",
        "plt.plot(x2,random_list_acc,label='Random List')\n",
        "\n",
        "#Add the labels\n",
        "plt.xlabel('Flips')\n",
        "plt.ylabel('Accuracy')\n",
        "plt.title('Change in Accuracy for the Random and Ranked list')\n",
        "\n",
        "#Add a legend\n",
        "plt.legend()\n",
        "\n",
        "#Show the plot\n",
        "plt.show()\n"
      ]
    },
    {
      "cell_type": "code",
      "source": [
        "#Check to see which parity values are less than the original value based on the magnitude\n",
        "similar_values_df = pd.DataFrame(columns=columns)\n",
        "similar_values_encoded_data=pd.get_dummies(similar_values_df,columns=['checking_account_status','credit_history','savings_account_status','employment_status','personal_status','other_debtors','property','other_installment_plans','housing','job','telephone','foreign_worker','purpose'], drop_first=True)\n",
        "for value in range(len(ranked_parity)):\n",
        "    if abs(ranked_parity[value]) < abs(statistical_parity):\n",
        "        row = train_full_df.iloc[ranked_flip[value]]\n",
        "        similar_values_encoded_data = similar_values_encoded_data.append(row, ignore_index=True)"
      ],
      "metadata": {
        "id": "jOWs7zSPN5ov"
      },
      "execution_count": 44,
      "outputs": []
    },
    {
      "cell_type": "code",
      "source": [
        "#Get the original data from the german dataframe to see what the original labels are\n",
        "check_labels = pd.DataFrame(columns=columns)\n",
        "for value in range(len(ranked_parity)):\n",
        "    if abs(ranked_parity[value]) < abs(statistical_parity):\n",
        "        index = ranked_flip[value]\n",
        "        check_labels = check_labels.append(german_df.loc[index])"
      ],
      "metadata": {
        "id": "7KRGB2KHN6o5"
      },
      "execution_count": 45,
      "outputs": []
    }
  ],
  "metadata": {
    "colab": {
      "provenance": [],
      "include_colab_link": true
    },
    "kernelspec": {
      "display_name": "Python 3 (ipykernel)",
      "language": "python",
      "name": "python3"
    },
    "language_info": {
      "codemirror_mode": {
        "name": "ipython",
        "version": 3
      },
      "file_extension": ".py",
      "mimetype": "text/x-python",
      "name": "python",
      "nbconvert_exporter": "python",
      "pygments_lexer": "ipython3",
      "version": "3.11.4"
    }
  },
  "nbformat": 4,
  "nbformat_minor": 0
}